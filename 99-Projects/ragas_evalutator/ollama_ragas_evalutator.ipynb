{
 "cells": [
  {
   "cell_type": "code",
   "execution_count": 1,
   "metadata": {},
   "outputs": [],
   "source": [
    "import pandas as pd"
   ]
  },
  {
   "cell_type": "code",
   "execution_count": 2,
   "metadata": {},
   "outputs": [
    {
     "data": {
      "text/html": [
       "<div>\n",
       "<style scoped>\n",
       "    .dataframe tbody tr th:only-of-type {\n",
       "        vertical-align: middle;\n",
       "    }\n",
       "\n",
       "    .dataframe tbody tr th {\n",
       "        vertical-align: top;\n",
       "    }\n",
       "\n",
       "    .dataframe thead th {\n",
       "        text-align: right;\n",
       "    }\n",
       "</style>\n",
       "<table border=\"1\" class=\"dataframe\">\n",
       "  <thead>\n",
       "    <tr style=\"text-align: right;\">\n",
       "      <th></th>\n",
       "      <th>retrieval_gt</th>\n",
       "      <th>qid</th>\n",
       "      <th>query</th>\n",
       "      <th>generation_gt</th>\n",
       "    </tr>\n",
       "  </thead>\n",
       "  <tbody>\n",
       "    <tr>\n",
       "      <th>0</th>\n",
       "      <td>[[c68a1103-7cb5-4f86-a46a-5f75fb88cfc2]]</td>\n",
       "      <td>4ce77353-5441-4d2d-94e4-e837fcb19e25</td>\n",
       "      <td>일본 정부가 AI 위험을 줄이기 위해 어떤 조치를 취했나요?</td>\n",
       "      <td>[일본 정부는 AI 위험을 줄이기 위해 기술적 해결책을 중요시하며, AI 글로벌 파...</td>\n",
       "    </tr>\n",
       "    <tr>\n",
       "      <th>1</th>\n",
       "      <td>[[d55e6e70-8741-4063-9c1d-cc7357b9c268]]</td>\n",
       "      <td>4ec41559-67d1-45aa-858e-9747b6fb6bbd</td>\n",
       "      <td>마이크로소프트가 프랑스에 투자한 금액은 얼마인가요?</td>\n",
       "      <td>[마이크로소프트가 프랑스에 투자한 금액은 40억 유로입니다.]</td>\n",
       "    </tr>\n",
       "    <tr>\n",
       "      <th>2</th>\n",
       "      <td>[[61097ef9-739d-488a-9ce4-802433a349ba]]</td>\n",
       "      <td>fc74a5be-098b-4563-9bbe-bd1fc23f45df</td>\n",
       "      <td>ICML 2025 행사에서 다루는 주요 영역은 무엇인가요?</td>\n",
       "      <td>[ICML 2025 행사에서는 머신러닝, 딥러닝, 최적화, 신뢰할 수 있는 머신러닝...</td>\n",
       "    </tr>\n",
       "    <tr>\n",
       "      <th>3</th>\n",
       "      <td>[[581b4311-2236-44dd-80b0-e02c6906984b]]</td>\n",
       "      <td>14408056-937f-44a1-878e-e73c3b5b5f09</td>\n",
       "      <td>구글이 AI 기회 기금의 1차 수혜자로 선정한 단체는 무엇인가요?</td>\n",
       "      <td>[구글이 AI 기회 기금의 1차 수혜자로 선정한 단체는 재향군인 ·군인가족협회와 굿...</td>\n",
       "    </tr>\n",
       "    <tr>\n",
       "      <th>4</th>\n",
       "      <td>[[db2b35e9-4f60-400b-bcf2-6443e978f621]]</td>\n",
       "      <td>68713781-37e8-44ac-ab49-8e57b9402aec</td>\n",
       "      <td>GPT-4o는 어떤 성능을 보여주었나요?</td>\n",
       "      <td>[GPT-4o는 GPT-4 터보와 동일한 성능을 보여주었으며, 다국어, 오디오, 이...</td>\n",
       "    </tr>\n",
       "  </tbody>\n",
       "</table>\n",
       "</div>"
      ],
      "text/plain": [
       "                               retrieval_gt  \\\n",
       "0  [[c68a1103-7cb5-4f86-a46a-5f75fb88cfc2]]   \n",
       "1  [[d55e6e70-8741-4063-9c1d-cc7357b9c268]]   \n",
       "2  [[61097ef9-739d-488a-9ce4-802433a349ba]]   \n",
       "3  [[581b4311-2236-44dd-80b0-e02c6906984b]]   \n",
       "4  [[db2b35e9-4f60-400b-bcf2-6443e978f621]]   \n",
       "\n",
       "                                    qid                                 query  \\\n",
       "0  4ce77353-5441-4d2d-94e4-e837fcb19e25     일본 정부가 AI 위험을 줄이기 위해 어떤 조치를 취했나요?   \n",
       "1  4ec41559-67d1-45aa-858e-9747b6fb6bbd          마이크로소프트가 프랑스에 투자한 금액은 얼마인가요?   \n",
       "2  fc74a5be-098b-4563-9bbe-bd1fc23f45df      ICML 2025 행사에서 다루는 주요 영역은 무엇인가요?   \n",
       "3  14408056-937f-44a1-878e-e73c3b5b5f09  구글이 AI 기회 기금의 1차 수혜자로 선정한 단체는 무엇인가요?   \n",
       "4  68713781-37e8-44ac-ab49-8e57b9402aec                GPT-4o는 어떤 성능을 보여주었나요?   \n",
       "\n",
       "                                       generation_gt  \n",
       "0  [일본 정부는 AI 위험을 줄이기 위해 기술적 해결책을 중요시하며, AI 글로벌 파...  \n",
       "1                 [마이크로소프트가 프랑스에 투자한 금액은 40억 유로입니다.]  \n",
       "2  [ICML 2025 행사에서는 머신러닝, 딥러닝, 최적화, 신뢰할 수 있는 머신러닝...  \n",
       "3  [구글이 AI 기회 기금의 1차 수혜자로 선정한 단체는 재향군인 ·군인가족협회와 굿...  \n",
       "4  [GPT-4o는 GPT-4 터보와 동일한 성능을 보여주었으며, 다국어, 오디오, 이...  "
      ]
     },
     "execution_count": 2,
     "metadata": {},
     "output_type": "execute_result"
    }
   ],
   "source": [
    "qa_df = pd.read_parquet(\"../korean_embedding/data/qa.parquet\")\n",
    "qa_df.head()"
   ]
  },
  {
   "cell_type": "code",
   "execution_count": 3,
   "metadata": {},
   "outputs": [
    {
     "data": {
      "text/html": [
       "<div>\n",
       "<style scoped>\n",
       "    .dataframe tbody tr th:only-of-type {\n",
       "        vertical-align: middle;\n",
       "    }\n",
       "\n",
       "    .dataframe tbody tr th {\n",
       "        vertical-align: top;\n",
       "    }\n",
       "\n",
       "    .dataframe thead th {\n",
       "        text-align: right;\n",
       "    }\n",
       "</style>\n",
       "<table border=\"1\" class=\"dataframe\">\n",
       "  <thead>\n",
       "    <tr style=\"text-align: right;\">\n",
       "      <th></th>\n",
       "      <th>question</th>\n",
       "      <th>ground_truth</th>\n",
       "    </tr>\n",
       "  </thead>\n",
       "  <tbody>\n",
       "    <tr>\n",
       "      <th>0</th>\n",
       "      <td>일본 정부가 AI 위험을 줄이기 위해 어떤 조치를 취했나요?</td>\n",
       "      <td>일본 정부는 AI 위험을 줄이기 위해 기술적 해결책을 중요시하며, AI 글로벌 파트...</td>\n",
       "    </tr>\n",
       "    <tr>\n",
       "      <th>1</th>\n",
       "      <td>마이크로소프트가 프랑스에 투자한 금액은 얼마인가요?</td>\n",
       "      <td>마이크로소프트가 프랑스에 투자한 금액은 40억 유로입니다.</td>\n",
       "    </tr>\n",
       "    <tr>\n",
       "      <th>2</th>\n",
       "      <td>ICML 2025 행사에서 다루는 주요 영역은 무엇인가요?</td>\n",
       "      <td>ICML 2025 행사에서는 머신러닝, 딥러닝, 최적화, 신뢰할 수 있는 머신러닝 ...</td>\n",
       "    </tr>\n",
       "    <tr>\n",
       "      <th>3</th>\n",
       "      <td>구글이 AI 기회 기금의 1차 수혜자로 선정한 단체는 무엇인가요?</td>\n",
       "      <td>구글이 AI 기회 기금의 1차 수혜자로 선정한 단체는 재향군인 ·군인가족협회와 굿윌...</td>\n",
       "    </tr>\n",
       "    <tr>\n",
       "      <th>4</th>\n",
       "      <td>GPT-4o는 어떤 성능을 보여주었나요?</td>\n",
       "      <td>GPT-4o는 GPT-4 터보와 동일한 성능을 보여주었으며, 다국어, 오디오, 이미...</td>\n",
       "    </tr>\n",
       "  </tbody>\n",
       "</table>\n",
       "</div>"
      ],
      "text/plain": [
       "                               question  \\\n",
       "0     일본 정부가 AI 위험을 줄이기 위해 어떤 조치를 취했나요?   \n",
       "1          마이크로소프트가 프랑스에 투자한 금액은 얼마인가요?   \n",
       "2      ICML 2025 행사에서 다루는 주요 영역은 무엇인가요?   \n",
       "3  구글이 AI 기회 기금의 1차 수혜자로 선정한 단체는 무엇인가요?   \n",
       "4                GPT-4o는 어떤 성능을 보여주었나요?   \n",
       "\n",
       "                                        ground_truth  \n",
       "0  일본 정부는 AI 위험을 줄이기 위해 기술적 해결책을 중요시하며, AI 글로벌 파트...  \n",
       "1                   마이크로소프트가 프랑스에 투자한 금액은 40억 유로입니다.  \n",
       "2  ICML 2025 행사에서는 머신러닝, 딥러닝, 최적화, 신뢰할 수 있는 머신러닝 ...  \n",
       "3  구글이 AI 기회 기금의 1차 수혜자로 선정한 단체는 재향군인 ·군인가족협회와 굿윌...  \n",
       "4  GPT-4o는 GPT-4 터보와 동일한 성능을 보여주었으며, 다국어, 오디오, 이미...  "
      ]
     },
     "execution_count": 3,
     "metadata": {},
     "output_type": "execute_result"
    }
   ],
   "source": [
    "qa_df = qa_df[[\"query\", \"generation_gt\"]]\n",
    "qa_df.columns = [\"question\", \"ground_truth\"]\n",
    "qa_df[\"ground_truth\"] = qa_df[\"ground_truth\"].apply(lambda x: x[0])\n",
    "qa_df.head()"
   ]
  },
  {
   "cell_type": "code",
   "execution_count": null,
   "metadata": {},
   "outputs": [],
   "source": [
    "from langchain_community.chat_models import ChatOllama\n",
    "\n",
    "gemma2 = ChatOllama(model=\"gemma2\")"
   ]
  },
  {
   "cell_type": "code",
   "execution_count": null,
   "metadata": {},
   "outputs": [],
   "source": [
    "qa_df[\"answer\"] = qa_df[\"question\"].apply(lambda x: rag_chain.invoke(x))\n",
    "qa_df[\"contexts\"] = qa_df[\"question\"].apply(\n",
    "    lambda x: [d.page_content for d in retriever.get_relevant_documents(x)]\n",
    ")\n",
    "qa_df.head()"
   ]
  },
  {
   "cell_type": "code",
   "execution_count": null,
   "metadata": {},
   "outputs": [],
   "source": [
    "from datasets import Dataset\n",
    "\n",
    "dataset = Dataset.from_pandas(qa_df)\n",
    "dataset[0]"
   ]
  },
  {
   "cell_type": "code",
   "execution_count": null,
   "metadata": {},
   "outputs": [],
   "source": [
    "from ragas.metrics import (\n",
    "    faithfulness,\n",
    "    answer_relevancy,\n",
    "    context_recall,\n",
    "    context_precision,\n",
    ")\n",
    "from ragas import evaluate\n",
    "from ragas.llms import LangchainLLMWrapper\n",
    "from langchain_google_genai import ChatGoogleGenerativeAI\n",
    "from langchain_huggingface import HuggingFaceEmbeddings\n",
    "\n",
    "llm = ChatGoogleGenerativeAI(\n",
    "    model=\"gemini-1.5-pro\",\n",
    "    temperature=0,\n",
    "    max_tokens=None,\n",
    "    timeout=None,\n",
    "    max_retries=3,\n",
    ")\n",
    "langchain_llm = LangchainLLMWrapper(llm)\n",
    "\n",
    "model_name = \"BAAI/bge-m3\"\n",
    "model_kwargs = {\"device\": \"mps\"}\n",
    "encode_kwargs = {\"normalize_embeddings\": False}\n",
    "embeddings = HuggingFaceEmbeddings(\n",
    "    model_name=model_name, model_kwargs=model_kwargs, encode_kwargs=encode_kwargs\n",
    ")\n",
    "\n",
    "gemma2_result = evaluate(\n",
    "    dataset,\n",
    "    metrics=[\n",
    "        faithfulness,\n",
    "        answer_relevancy,\n",
    "        context_recall,\n",
    "        context_precision,\n",
    "    ],\n",
    "    llm=langchain_llm,\n",
    "    embeddings=embeddings,\n",
    "    raise_exceptions=False,\n",
    ")\n",
    "\n",
    "gemma2_result"
   ]
  },
  {
   "cell_type": "code",
   "execution_count": null,
   "metadata": {},
   "outputs": [],
   "source": [
    "gemma2_df = pd.DataFrame(list(gemma2_result.items()), columns=[\"Metric\", \"Gemma2\"])\n",
    "llama3_df = pd.DataFrame(list(gemma2_result.items()), columns=[\"Metric\", \"Llama3\"])\n",
    "\n",
    "df_result = pd.merge(gemma2_df, llama3_df, on=\"Metric\")\n",
    "df_result"
   ]
  }
 ],
 "metadata": {
  "kernelspec": {
   "display_name": "autorag-tutorial-ko-sf4p_dcK-py3.11",
   "language": "python",
   "name": "python3"
  },
  "language_info": {
   "codemirror_mode": {
    "name": "ipython",
    "version": 3
   },
   "file_extension": ".py",
   "mimetype": "text/x-python",
   "name": "python",
   "nbconvert_exporter": "python",
   "pygments_lexer": "ipython3",
   "version": "3.11.9"
  }
 },
 "nbformat": 4,
 "nbformat_minor": 2
}
