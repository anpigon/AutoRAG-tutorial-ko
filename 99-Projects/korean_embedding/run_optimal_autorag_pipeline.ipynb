{
 "cells": [
  {
   "cell_type": "code",
   "execution_count": 3,
   "metadata": {},
   "outputs": [
    {
     "data": {
      "text/html": [
       "<pre style=\"white-space:pre;overflow-x:auto;line-height:normal;font-family:Menlo,'DejaVu Sans Mono',consolas,'Courier New',monospace\"><span style=\"color: #7fbfbf; text-decoration-color: #7fbfbf\">[07/12/24 14:48:22] </span><span style=\"color: #000080; text-decoration-color: #000080\">INFO    </span> <span style=\"font-weight: bold\">[</span>SentenceTransformer.py:<span style=\"color: #008080; text-decoration-color: #008080; font-weight: bold\">197</span><span style=\"font-weight: bold\">]</span> &gt;&gt; Load pretrained             <a href=\"file:///Users/jeongseok/Library/Caches/pypoetry/virtualenvs/autorag-tutorial-ko-sf4p_dcK-py3.11/lib/python3.11/site-packages/sentence_transformers/SentenceTransformer.py\" target=\"_blank\"><span style=\"color: #7f7f7f; text-decoration-color: #7f7f7f\">SentenceTransformer.py</span></a><span style=\"color: #7f7f7f; text-decoration-color: #7f7f7f\">:</span><a href=\"file:///Users/jeongseok/Library/Caches/pypoetry/virtualenvs/autorag-tutorial-ko-sf4p_dcK-py3.11/lib/python3.11/site-packages/sentence_transformers/SentenceTransformer.py#197\" target=\"_blank\"><span style=\"color: #7f7f7f; text-decoration-color: #7f7f7f\">197</span></a>\n",
       "<span style=\"color: #7fbfbf; text-decoration-color: #7fbfbf\">                    </span>         SentenceTransformer: BAAI/bge-m3                            <span style=\"color: #7f7f7f; text-decoration-color: #7f7f7f\">                          </span>\n",
       "</pre>\n"
      ],
      "text/plain": [
       "\u001b[2;36m[07/12/24 14:48:22]\u001b[0m\u001b[2;36m \u001b[0m\u001b[34mINFO    \u001b[0m \u001b[1m[\u001b[0mSentenceTransformer.py:\u001b[1;36m197\u001b[0m\u001b[1m]\u001b[0m >> Load pretrained             \u001b]8;id=835835;file:///Users/jeongseok/Library/Caches/pypoetry/virtualenvs/autorag-tutorial-ko-sf4p_dcK-py3.11/lib/python3.11/site-packages/sentence_transformers/SentenceTransformer.py\u001b\\\u001b[2mSentenceTransformer.py\u001b[0m\u001b]8;;\u001b\\\u001b[2m:\u001b[0m\u001b]8;id=672565;file:///Users/jeongseok/Library/Caches/pypoetry/virtualenvs/autorag-tutorial-ko-sf4p_dcK-py3.11/lib/python3.11/site-packages/sentence_transformers/SentenceTransformer.py#197\u001b\\\u001b[2m197\u001b[0m\u001b]8;;\u001b\\\n",
       "\u001b[2;36m                    \u001b[0m         SentenceTransformer: BAAI/bge-m3                            \u001b[2m                          \u001b[0m\n"
      ]
     },
     "metadata": {},
     "output_type": "display_data"
    },
    {
     "data": {
      "text/html": [
       "<pre style=\"white-space:pre;overflow-x:auto;line-height:normal;font-family:Menlo,'DejaVu Sans Mono',consolas,'Courier New',monospace\"><span style=\"color: #7fbfbf; text-decoration-color: #7fbfbf\">[07/12/24 14:48:29] </span><span style=\"color: #000080; text-decoration-color: #000080\">INFO    </span> <span style=\"font-weight: bold\">[</span>SentenceTransformer.py:<span style=\"color: #008080; text-decoration-color: #008080; font-weight: bold\">326</span><span style=\"font-weight: bold\">]</span> &gt;&gt; <span style=\"color: #008080; text-decoration-color: #008080; font-weight: bold\">2</span> prompts are loaded, with  <a href=\"file:///Users/jeongseok/Library/Caches/pypoetry/virtualenvs/autorag-tutorial-ko-sf4p_dcK-py3.11/lib/python3.11/site-packages/sentence_transformers/SentenceTransformer.py\" target=\"_blank\"><span style=\"color: #7f7f7f; text-decoration-color: #7f7f7f\">SentenceTransformer.py</span></a><span style=\"color: #7f7f7f; text-decoration-color: #7f7f7f\">:</span><a href=\"file:///Users/jeongseok/Library/Caches/pypoetry/virtualenvs/autorag-tutorial-ko-sf4p_dcK-py3.11/lib/python3.11/site-packages/sentence_transformers/SentenceTransformer.py#326\" target=\"_blank\"><span style=\"color: #7f7f7f; text-decoration-color: #7f7f7f\">326</span></a>\n",
       "<span style=\"color: #7fbfbf; text-decoration-color: #7fbfbf\">                    </span>         the keys: <span style=\"font-weight: bold\">[</span><span style=\"color: #008000; text-decoration-color: #008000\">'query'</span>, <span style=\"color: #008000; text-decoration-color: #008000\">'text'</span><span style=\"font-weight: bold\">]</span>                                 <span style=\"color: #7f7f7f; text-decoration-color: #7f7f7f\">                          </span>\n",
       "</pre>\n"
      ],
      "text/plain": [
       "\u001b[2;36m[07/12/24 14:48:29]\u001b[0m\u001b[2;36m \u001b[0m\u001b[34mINFO    \u001b[0m \u001b[1m[\u001b[0mSentenceTransformer.py:\u001b[1;36m326\u001b[0m\u001b[1m]\u001b[0m >> \u001b[1;36m2\u001b[0m prompts are loaded, with  \u001b]8;id=335786;file:///Users/jeongseok/Library/Caches/pypoetry/virtualenvs/autorag-tutorial-ko-sf4p_dcK-py3.11/lib/python3.11/site-packages/sentence_transformers/SentenceTransformer.py\u001b\\\u001b[2mSentenceTransformer.py\u001b[0m\u001b]8;;\u001b\\\u001b[2m:\u001b[0m\u001b]8;id=864210;file:///Users/jeongseok/Library/Caches/pypoetry/virtualenvs/autorag-tutorial-ko-sf4p_dcK-py3.11/lib/python3.11/site-packages/sentence_transformers/SentenceTransformer.py#326\u001b\\\u001b[2m326\u001b[0m\u001b]8;;\u001b\\\n",
       "\u001b[2;36m                    \u001b[0m         the keys: \u001b[1m[\u001b[0m\u001b[32m'query'\u001b[0m, \u001b[32m'text'\u001b[0m\u001b[1m]\u001b[0m                                 \u001b[2m                          \u001b[0m\n"
      ]
     },
     "metadata": {},
     "output_type": "display_data"
    },
    {
     "data": {
      "text/html": [
       "<pre style=\"white-space:pre;overflow-x:auto;line-height:normal;font-family:Menlo,'DejaVu Sans Mono',consolas,'Courier New',monospace\"><span style=\"color: #7fbfbf; text-decoration-color: #7fbfbf\">                    </span><span style=\"color: #000080; text-decoration-color: #000080\">INFO    </span> <span style=\"font-weight: bold\">[</span>base.py:<span style=\"color: #008080; text-decoration-color: #008080; font-weight: bold\">35</span><span style=\"font-weight: bold\">]</span> &gt;&gt; Running retrieval node - hybrid_cc module<span style=\"color: #808000; text-decoration-color: #808000\">...</span>                <a href=\"file:///Users/jeongseok/Library/Caches/pypoetry/virtualenvs/autorag-tutorial-ko-sf4p_dcK-py3.11/lib/python3.11/site-packages/autorag/nodes/retrieval/base.py\" target=\"_blank\"><span style=\"color: #7f7f7f; text-decoration-color: #7f7f7f\">base.py</span></a><span style=\"color: #7f7f7f; text-decoration-color: #7f7f7f\">:</span><a href=\"file:///Users/jeongseok/Library/Caches/pypoetry/virtualenvs/autorag-tutorial-ko-sf4p_dcK-py3.11/lib/python3.11/site-packages/autorag/nodes/retrieval/base.py#35\" target=\"_blank\"><span style=\"color: #7f7f7f; text-decoration-color: #7f7f7f\">35</span></a>\n",
       "</pre>\n"
      ],
      "text/plain": [
       "\u001b[2;36m                   \u001b[0m\u001b[2;36m \u001b[0m\u001b[34mINFO    \u001b[0m \u001b[1m[\u001b[0mbase.py:\u001b[1;36m35\u001b[0m\u001b[1m]\u001b[0m >> Running retrieval node - hybrid_cc module\u001b[33m...\u001b[0m                \u001b]8;id=373848;file:///Users/jeongseok/Library/Caches/pypoetry/virtualenvs/autorag-tutorial-ko-sf4p_dcK-py3.11/lib/python3.11/site-packages/autorag/nodes/retrieval/base.py\u001b\\\u001b[2mbase.py\u001b[0m\u001b]8;;\u001b\\\u001b[2m:\u001b[0m\u001b]8;id=264003;file:///Users/jeongseok/Library/Caches/pypoetry/virtualenvs/autorag-tutorial-ko-sf4p_dcK-py3.11/lib/python3.11/site-packages/autorag/nodes/retrieval/base.py#35\u001b\\\u001b[2m35\u001b[0m\u001b]8;;\u001b\\\n"
      ]
     },
     "metadata": {},
     "output_type": "display_data"
    },
    {
     "data": {
      "text/html": [
       "<pre style=\"white-space:pre;overflow-x:auto;line-height:normal;font-family:Menlo,'DejaVu Sans Mono',consolas,'Courier New',monospace\"><span style=\"color: #7fbfbf; text-decoration-color: #7fbfbf\">                    </span><span style=\"color: #000080; text-decoration-color: #000080\">INFO    </span> <span style=\"font-weight: bold\">[</span>base.py:<span style=\"color: #008080; text-decoration-color: #008080; font-weight: bold\">35</span><span style=\"font-weight: bold\">]</span> &gt;&gt; Running retrieval node - bm25 module<span style=\"color: #808000; text-decoration-color: #808000\">...</span>                     <a href=\"file:///Users/jeongseok/Library/Caches/pypoetry/virtualenvs/autorag-tutorial-ko-sf4p_dcK-py3.11/lib/python3.11/site-packages/autorag/nodes/retrieval/base.py\" target=\"_blank\"><span style=\"color: #7f7f7f; text-decoration-color: #7f7f7f\">base.py</span></a><span style=\"color: #7f7f7f; text-decoration-color: #7f7f7f\">:</span><a href=\"file:///Users/jeongseok/Library/Caches/pypoetry/virtualenvs/autorag-tutorial-ko-sf4p_dcK-py3.11/lib/python3.11/site-packages/autorag/nodes/retrieval/base.py#35\" target=\"_blank\"><span style=\"color: #7f7f7f; text-decoration-color: #7f7f7f\">35</span></a>\n",
       "</pre>\n"
      ],
      "text/plain": [
       "\u001b[2;36m                   \u001b[0m\u001b[2;36m \u001b[0m\u001b[34mINFO    \u001b[0m \u001b[1m[\u001b[0mbase.py:\u001b[1;36m35\u001b[0m\u001b[1m]\u001b[0m >> Running retrieval node - bm25 module\u001b[33m...\u001b[0m                     \u001b]8;id=445751;file:///Users/jeongseok/Library/Caches/pypoetry/virtualenvs/autorag-tutorial-ko-sf4p_dcK-py3.11/lib/python3.11/site-packages/autorag/nodes/retrieval/base.py\u001b\\\u001b[2mbase.py\u001b[0m\u001b]8;;\u001b\\\u001b[2m:\u001b[0m\u001b]8;id=998780;file:///Users/jeongseok/Library/Caches/pypoetry/virtualenvs/autorag-tutorial-ko-sf4p_dcK-py3.11/lib/python3.11/site-packages/autorag/nodes/retrieval/base.py#35\u001b\\\u001b[2m35\u001b[0m\u001b]8;;\u001b\\\n"
      ]
     },
     "metadata": {},
     "output_type": "display_data"
    },
    {
     "name": "stderr",
     "output_type": "stream",
     "text": [
      "/Users/jeongseok/Library/Caches/pypoetry/virtualenvs/autorag-tutorial-ko-sf4p_dcK-py3.11/lib/python3.11/site-packages/swifter/swifter.py:87: UserWarning: This pandas object has duplicate indices, and swifter may not be able to improve performance. Consider resetting the indices with `df.reset_index(drop=True)`.\n",
      "  warnings.warn(\n",
      "/Users/jeongseok/Library/Caches/pypoetry/virtualenvs/autorag-tutorial-ko-sf4p_dcK-py3.11/lib/python3.11/site-packages/swifter/swifter.py:87: UserWarning: This pandas object has duplicate indices, and swifter may not be able to improve performance. Consider resetting the indices with `df.reset_index(drop=True)`.\n",
      "  warnings.warn(\n"
     ]
    },
    {
     "data": {
      "text/html": [
       "<pre style=\"white-space:pre;overflow-x:auto;line-height:normal;font-family:Menlo,'DejaVu Sans Mono',consolas,'Courier New',monospace\"><span style=\"color: #7fbfbf; text-decoration-color: #7fbfbf\">[07/12/24 14:48:30] </span><span style=\"color: #000080; text-decoration-color: #000080\">INFO    </span> <span style=\"font-weight: bold\">[</span>base.py:<span style=\"color: #008080; text-decoration-color: #008080; font-weight: bold\">35</span><span style=\"font-weight: bold\">]</span> &gt;&gt; Running retrieval node - vectordb module<span style=\"color: #808000; text-decoration-color: #808000\">...</span>                 <a href=\"file:///Users/jeongseok/Library/Caches/pypoetry/virtualenvs/autorag-tutorial-ko-sf4p_dcK-py3.11/lib/python3.11/site-packages/autorag/nodes/retrieval/base.py\" target=\"_blank\"><span style=\"color: #7f7f7f; text-decoration-color: #7f7f7f\">base.py</span></a><span style=\"color: #7f7f7f; text-decoration-color: #7f7f7f\">:</span><a href=\"file:///Users/jeongseok/Library/Caches/pypoetry/virtualenvs/autorag-tutorial-ko-sf4p_dcK-py3.11/lib/python3.11/site-packages/autorag/nodes/retrieval/base.py#35\" target=\"_blank\"><span style=\"color: #7f7f7f; text-decoration-color: #7f7f7f\">35</span></a>\n",
       "</pre>\n"
      ],
      "text/plain": [
       "\u001b[2;36m[07/12/24 14:48:30]\u001b[0m\u001b[2;36m \u001b[0m\u001b[34mINFO    \u001b[0m \u001b[1m[\u001b[0mbase.py:\u001b[1;36m35\u001b[0m\u001b[1m]\u001b[0m >> Running retrieval node - vectordb module\u001b[33m...\u001b[0m                 \u001b]8;id=732932;file:///Users/jeongseok/Library/Caches/pypoetry/virtualenvs/autorag-tutorial-ko-sf4p_dcK-py3.11/lib/python3.11/site-packages/autorag/nodes/retrieval/base.py\u001b\\\u001b[2mbase.py\u001b[0m\u001b]8;;\u001b\\\u001b[2m:\u001b[0m\u001b]8;id=267794;file:///Users/jeongseok/Library/Caches/pypoetry/virtualenvs/autorag-tutorial-ko-sf4p_dcK-py3.11/lib/python3.11/site-packages/autorag/nodes/retrieval/base.py#35\u001b\\\u001b[2m35\u001b[0m\u001b]8;;\u001b\\\n"
      ]
     },
     "metadata": {},
     "output_type": "display_data"
    },
    {
     "data": {
      "text/html": [
       "<pre style=\"white-space:pre;overflow-x:auto;line-height:normal;font-family:Menlo,'DejaVu Sans Mono',consolas,'Courier New',monospace\"><span style=\"color: #7fbfbf; text-decoration-color: #7fbfbf\">                    </span><span style=\"color: #000080; text-decoration-color: #000080\">INFO    </span> <span style=\"font-weight: bold\">[</span>posthog.py:<span style=\"color: #008080; text-decoration-color: #008080; font-weight: bold\">20</span><span style=\"font-weight: bold\">]</span> &gt;&gt; Anonymized telemetry enabled. See                     <a href=\"file:///Users/jeongseok/Library/Caches/pypoetry/virtualenvs/autorag-tutorial-ko-sf4p_dcK-py3.11/lib/python3.11/site-packages/chromadb/telemetry/product/posthog.py\" target=\"_blank\"><span style=\"color: #7f7f7f; text-decoration-color: #7f7f7f\">posthog.py</span></a><span style=\"color: #7f7f7f; text-decoration-color: #7f7f7f\">:</span><a href=\"file:///Users/jeongseok/Library/Caches/pypoetry/virtualenvs/autorag-tutorial-ko-sf4p_dcK-py3.11/lib/python3.11/site-packages/chromadb/telemetry/product/posthog.py#20\" target=\"_blank\"><span style=\"color: #7f7f7f; text-decoration-color: #7f7f7f\">20</span></a>\n",
       "<span style=\"color: #7fbfbf; text-decoration-color: #7fbfbf\">                    </span>         <span style=\"color: #0000ff; text-decoration-color: #0000ff; text-decoration: underline\">https://docs.trychroma.com/telemetry</span> for more information.               <span style=\"color: #7f7f7f; text-decoration-color: #7f7f7f\">             </span>\n",
       "</pre>\n"
      ],
      "text/plain": [
       "\u001b[2;36m                   \u001b[0m\u001b[2;36m \u001b[0m\u001b[34mINFO    \u001b[0m \u001b[1m[\u001b[0mposthog.py:\u001b[1;36m20\u001b[0m\u001b[1m]\u001b[0m >> Anonymized telemetry enabled. See                     \u001b]8;id=128544;file:///Users/jeongseok/Library/Caches/pypoetry/virtualenvs/autorag-tutorial-ko-sf4p_dcK-py3.11/lib/python3.11/site-packages/chromadb/telemetry/product/posthog.py\u001b\\\u001b[2mposthog.py\u001b[0m\u001b]8;;\u001b\\\u001b[2m:\u001b[0m\u001b]8;id=94576;file:///Users/jeongseok/Library/Caches/pypoetry/virtualenvs/autorag-tutorial-ko-sf4p_dcK-py3.11/lib/python3.11/site-packages/chromadb/telemetry/product/posthog.py#20\u001b\\\u001b[2m20\u001b[0m\u001b]8;;\u001b\\\n",
       "\u001b[2;36m                    \u001b[0m         \u001b[4;94mhttps://docs.trychroma.com/telemetry\u001b[0m for more information.               \u001b[2m             \u001b[0m\n"
      ]
     },
     "metadata": {},
     "output_type": "display_data"
    },
    {
     "data": {
      "application/vnd.jupyter.widget-view+json": {
       "model_id": "0d967d4e71754e8dbdfff1d73a280ee7",
       "version_major": 2,
       "version_minor": 0
      },
      "text/plain": [
       "Batches:   0%|          | 0/1 [00:00<?, ?it/s]"
      ]
     },
     "metadata": {},
     "output_type": "display_data"
    },
    {
     "name": "stderr",
     "output_type": "stream",
     "text": [
      "/Users/jeongseok/Library/Caches/pypoetry/virtualenvs/autorag-tutorial-ko-sf4p_dcK-py3.11/lib/python3.11/site-packages/swifter/swifter.py:87: UserWarning: This pandas object has duplicate indices, and swifter may not be able to improve performance. Consider resetting the indices with `df.reset_index(drop=True)`.\n",
      "  warnings.warn(\n",
      "/Users/jeongseok/Library/Caches/pypoetry/virtualenvs/autorag-tutorial-ko-sf4p_dcK-py3.11/lib/python3.11/site-packages/swifter/swifter.py:87: UserWarning: This pandas object has duplicate indices, and swifter may not be able to improve performance. Consider resetting the indices with `df.reset_index(drop=True)`.\n",
      "  warnings.warn(\n",
      "/Users/jeongseok/Library/Caches/pypoetry/virtualenvs/autorag-tutorial-ko-sf4p_dcK-py3.11/lib/python3.11/site-packages/swifter/swifter.py:87: UserWarning: This pandas object has duplicate indices, and swifter may not be able to improve performance. Consider resetting the indices with `df.reset_index(drop=True)`.\n",
      "  warnings.warn(\n",
      "/Users/jeongseok/Library/Caches/pypoetry/virtualenvs/autorag-tutorial-ko-sf4p_dcK-py3.11/lib/python3.11/site-packages/swifter/swifter.py:87: UserWarning: This pandas object has duplicate indices, and swifter may not be able to improve performance. Consider resetting the indices with `df.reset_index(drop=True)`.\n",
      "  warnings.warn(\n"
     ]
    },
    {
     "data": {
      "text/html": [
       "<pre style=\"white-space:pre;overflow-x:auto;line-height:normal;font-family:Menlo,'DejaVu Sans Mono',consolas,'Courier New',monospace\"><span style=\"color: #7fbfbf; text-decoration-color: #7fbfbf\">[07/12/24 14:48:32] </span><span style=\"color: #000080; text-decoration-color: #000080\">INFO    </span> <span style=\"font-weight: bold\">[</span>base.py:<span style=\"color: #008080; text-decoration-color: #008080; font-weight: bold\">21</span><span style=\"font-weight: bold\">]</span> &gt;&gt; Running passage reranker node - koreranker module<span style=\"color: #808000; text-decoration-color: #808000\">...</span>        <a href=\"file:///Users/jeongseok/Library/Caches/pypoetry/virtualenvs/autorag-tutorial-ko-sf4p_dcK-py3.11/lib/python3.11/site-packages/autorag/nodes/passagereranker/base.py\" target=\"_blank\"><span style=\"color: #7f7f7f; text-decoration-color: #7f7f7f\">base.py</span></a><span style=\"color: #7f7f7f; text-decoration-color: #7f7f7f\">:</span><a href=\"file:///Users/jeongseok/Library/Caches/pypoetry/virtualenvs/autorag-tutorial-ko-sf4p_dcK-py3.11/lib/python3.11/site-packages/autorag/nodes/passagereranker/base.py#21\" target=\"_blank\"><span style=\"color: #7f7f7f; text-decoration-color: #7f7f7f\">21</span></a>\n",
       "</pre>\n"
      ],
      "text/plain": [
       "\u001b[2;36m[07/12/24 14:48:32]\u001b[0m\u001b[2;36m \u001b[0m\u001b[34mINFO    \u001b[0m \u001b[1m[\u001b[0mbase.py:\u001b[1;36m21\u001b[0m\u001b[1m]\u001b[0m >> Running passage reranker node - koreranker module\u001b[33m...\u001b[0m        \u001b]8;id=536699;file:///Users/jeongseok/Library/Caches/pypoetry/virtualenvs/autorag-tutorial-ko-sf4p_dcK-py3.11/lib/python3.11/site-packages/autorag/nodes/passagereranker/base.py\u001b\\\u001b[2mbase.py\u001b[0m\u001b]8;;\u001b\\\u001b[2m:\u001b[0m\u001b]8;id=793497;file:///Users/jeongseok/Library/Caches/pypoetry/virtualenvs/autorag-tutorial-ko-sf4p_dcK-py3.11/lib/python3.11/site-packages/autorag/nodes/passagereranker/base.py#21\u001b\\\u001b[2m21\u001b[0m\u001b]8;;\u001b\\\n"
      ]
     },
     "metadata": {},
     "output_type": "display_data"
    },
    {
     "name": "stderr",
     "output_type": "stream",
     "text": [
      "/Users/jeongseok/Library/Caches/pypoetry/virtualenvs/autorag-tutorial-ko-sf4p_dcK-py3.11/lib/python3.11/site-packages/swifter/swifter.py:87: UserWarning: This pandas object has duplicate indices, and swifter may not be able to improve performance. Consider resetting the indices with `df.reset_index(drop=True)`.\n",
      "  warnings.warn(\n",
      "/Users/jeongseok/Library/Caches/pypoetry/virtualenvs/autorag-tutorial-ko-sf4p_dcK-py3.11/lib/python3.11/site-packages/swifter/swifter.py:87: UserWarning: This pandas object has duplicate indices, and swifter may not be able to improve performance. Consider resetting the indices with `df.reset_index(drop=True)`.\n",
      "  warnings.warn(\n",
      "100%|██████████| 1/1 [00:01<00:00,  1.87s/it]\n"
     ]
    },
    {
     "data": {
      "text/html": [
       "<pre style=\"white-space:pre;overflow-x:auto;line-height:normal;font-family:Menlo,'DejaVu Sans Mono',consolas,'Courier New',monospace\"><span style=\"color: #7fbfbf; text-decoration-color: #7fbfbf\">[07/12/24 14:48:38] </span><span style=\"color: #000080; text-decoration-color: #000080\">INFO    </span> <span style=\"font-weight: bold\">[</span>base.py:<span style=\"color: #008080; text-decoration-color: #008080; font-weight: bold\">21</span><span style=\"font-weight: bold\">]</span> &gt;&gt; Running prompt maker node - fstring module<span style=\"color: #808000; text-decoration-color: #808000\">...</span>               <a href=\"file:///Users/jeongseok/Library/Caches/pypoetry/virtualenvs/autorag-tutorial-ko-sf4p_dcK-py3.11/lib/python3.11/site-packages/autorag/nodes/promptmaker/base.py\" target=\"_blank\"><span style=\"color: #7f7f7f; text-decoration-color: #7f7f7f\">base.py</span></a><span style=\"color: #7f7f7f; text-decoration-color: #7f7f7f\">:</span><a href=\"file:///Users/jeongseok/Library/Caches/pypoetry/virtualenvs/autorag-tutorial-ko-sf4p_dcK-py3.11/lib/python3.11/site-packages/autorag/nodes/promptmaker/base.py#21\" target=\"_blank\"><span style=\"color: #7f7f7f; text-decoration-color: #7f7f7f\">21</span></a>\n",
       "</pre>\n"
      ],
      "text/plain": [
       "\u001b[2;36m[07/12/24 14:48:38]\u001b[0m\u001b[2;36m \u001b[0m\u001b[34mINFO    \u001b[0m \u001b[1m[\u001b[0mbase.py:\u001b[1;36m21\u001b[0m\u001b[1m]\u001b[0m >> Running prompt maker node - fstring module\u001b[33m...\u001b[0m               \u001b]8;id=159814;file:///Users/jeongseok/Library/Caches/pypoetry/virtualenvs/autorag-tutorial-ko-sf4p_dcK-py3.11/lib/python3.11/site-packages/autorag/nodes/promptmaker/base.py\u001b\\\u001b[2mbase.py\u001b[0m\u001b]8;;\u001b\\\u001b[2m:\u001b[0m\u001b]8;id=127055;file:///Users/jeongseok/Library/Caches/pypoetry/virtualenvs/autorag-tutorial-ko-sf4p_dcK-py3.11/lib/python3.11/site-packages/autorag/nodes/promptmaker/base.py#21\u001b\\\u001b[2m21\u001b[0m\u001b]8;;\u001b\\\n"
      ]
     },
     "metadata": {},
     "output_type": "display_data"
    },
    {
     "data": {
      "text/html": [
       "<pre style=\"white-space:pre;overflow-x:auto;line-height:normal;font-family:Menlo,'DejaVu Sans Mono',consolas,'Courier New',monospace\"><span style=\"color: #7fbfbf; text-decoration-color: #7fbfbf\">                    </span><span style=\"color: #000080; text-decoration-color: #000080\">INFO    </span> <span style=\"font-weight: bold\">[</span>base.py:<span style=\"color: #008080; text-decoration-color: #008080; font-weight: bold\">34</span><span style=\"font-weight: bold\">]</span> &gt;&gt; Running generator node - llama_index_llm module<span style=\"color: #808000; text-decoration-color: #808000\">...</span>          <a href=\"file:///Users/jeongseok/Library/Caches/pypoetry/virtualenvs/autorag-tutorial-ko-sf4p_dcK-py3.11/lib/python3.11/site-packages/autorag/nodes/generator/base.py\" target=\"_blank\"><span style=\"color: #7f7f7f; text-decoration-color: #7f7f7f\">base.py</span></a><span style=\"color: #7f7f7f; text-decoration-color: #7f7f7f\">:</span><a href=\"file:///Users/jeongseok/Library/Caches/pypoetry/virtualenvs/autorag-tutorial-ko-sf4p_dcK-py3.11/lib/python3.11/site-packages/autorag/nodes/generator/base.py#34\" target=\"_blank\"><span style=\"color: #7f7f7f; text-decoration-color: #7f7f7f\">34</span></a>\n",
       "</pre>\n"
      ],
      "text/plain": [
       "\u001b[2;36m                   \u001b[0m\u001b[2;36m \u001b[0m\u001b[34mINFO    \u001b[0m \u001b[1m[\u001b[0mbase.py:\u001b[1;36m34\u001b[0m\u001b[1m]\u001b[0m >> Running generator node - llama_index_llm module\u001b[33m...\u001b[0m          \u001b]8;id=429116;file:///Users/jeongseok/Library/Caches/pypoetry/virtualenvs/autorag-tutorial-ko-sf4p_dcK-py3.11/lib/python3.11/site-packages/autorag/nodes/generator/base.py\u001b\\\u001b[2mbase.py\u001b[0m\u001b]8;;\u001b\\\u001b[2m:\u001b[0m\u001b]8;id=473568;file:///Users/jeongseok/Library/Caches/pypoetry/virtualenvs/autorag-tutorial-ko-sf4p_dcK-py3.11/lib/python3.11/site-packages/autorag/nodes/generator/base.py#34\u001b\\\u001b[2m34\u001b[0m\u001b]8;;\u001b\\\n"
      ]
     },
     "metadata": {},
     "output_type": "display_data"
    },
    {
     "data": {
      "text/html": [
       "<pre style=\"white-space:pre;overflow-x:auto;line-height:normal;font-family:Menlo,'DejaVu Sans Mono',consolas,'Courier New',monospace\"><span style=\"color: #7fbfbf; text-decoration-color: #7fbfbf\">[07/12/24 14:48:40] </span><span style=\"color: #000080; text-decoration-color: #000080\">INFO    </span> <span style=\"font-weight: bold\">[</span>_client.py:<span style=\"color: #008080; text-decoration-color: #008080; font-weight: bold\">1773</span><span style=\"font-weight: bold\">]</span> &gt;&gt; HTTP Request: <span style=\"color: #808000; text-decoration-color: #808000; font-weight: bold\">POST</span>                                <a href=\"file:///Users/jeongseok/Library/Caches/pypoetry/virtualenvs/autorag-tutorial-ko-sf4p_dcK-py3.11/lib/python3.11/site-packages/httpx/_client.py\" target=\"_blank\"><span style=\"color: #7f7f7f; text-decoration-color: #7f7f7f\">_client.py</span></a><span style=\"color: #7f7f7f; text-decoration-color: #7f7f7f\">:</span><a href=\"file:///Users/jeongseok/Library/Caches/pypoetry/virtualenvs/autorag-tutorial-ko-sf4p_dcK-py3.11/lib/python3.11/site-packages/httpx/_client.py#1773\" target=\"_blank\"><span style=\"color: #7f7f7f; text-decoration-color: #7f7f7f\">1773</span></a>\n",
       "<span style=\"color: #7fbfbf; text-decoration-color: #7fbfbf\">                    </span>         <span style=\"color: #0000ff; text-decoration-color: #0000ff; text-decoration: underline\">https://api.openai.com/v1/chat/completions</span> <span style=\"color: #008000; text-decoration-color: #008000\">\"HTTP/1.1 200 OK\"</span>           <span style=\"color: #7f7f7f; text-decoration-color: #7f7f7f\">               </span>\n",
       "</pre>\n"
      ],
      "text/plain": [
       "\u001b[2;36m[07/12/24 14:48:40]\u001b[0m\u001b[2;36m \u001b[0m\u001b[34mINFO    \u001b[0m \u001b[1m[\u001b[0m_client.py:\u001b[1;36m1773\u001b[0m\u001b[1m]\u001b[0m >> HTTP Request: \u001b[1;33mPOST\u001b[0m                                \u001b]8;id=695491;file:///Users/jeongseok/Library/Caches/pypoetry/virtualenvs/autorag-tutorial-ko-sf4p_dcK-py3.11/lib/python3.11/site-packages/httpx/_client.py\u001b\\\u001b[2m_client.py\u001b[0m\u001b]8;;\u001b\\\u001b[2m:\u001b[0m\u001b]8;id=339483;file:///Users/jeongseok/Library/Caches/pypoetry/virtualenvs/autorag-tutorial-ko-sf4p_dcK-py3.11/lib/python3.11/site-packages/httpx/_client.py#1773\u001b\\\u001b[2m1773\u001b[0m\u001b]8;;\u001b\\\n",
       "\u001b[2;36m                    \u001b[0m         \u001b[4;94mhttps://api.openai.com/v1/chat/completions\u001b[0m \u001b[32m\"HTTP/1.1 200 OK\"\u001b[0m           \u001b[2m               \u001b[0m\n"
      ]
     },
     "metadata": {},
     "output_type": "display_data"
    },
    {
     "data": {
      "text/plain": [
       "\"오픈AI의 '소라'와 비슷한 AI는 중국의 AI 스타트업 셩슈 테크놀로지와 칭화대가 개발한 '비두'입니다.\""
      ]
     },
     "execution_count": 3,
     "metadata": {},
     "output_type": "execute_result"
    }
   ],
   "source": [
    "import nest_asyncio\n",
    "from dotenv import load_dotenv\n",
    "\n",
    "load_dotenv()\n",
    "nest_asyncio.apply()\n",
    "\n",
    "import autorag\n",
    "from autorag.deploy import Runner\n",
    "\n",
    "from llama_index.embeddings.upstage import UpstageEmbedding\n",
    "from llama_index.embeddings.huggingface import HuggingFaceEmbedding\n",
    "\n",
    "upstage_embed_model = UpstageEmbedding()\n",
    "upstage_embed_model.model_name = \"ada\"\n",
    "autorag.embedding_models[\"solar-embedding-1-large\"] = upstage_embed_model\n",
    "autorag.embedding_models[\"bge-m3\"] = HuggingFaceEmbedding(\"BAAI/bge-m3\")\n",
    "\n",
    "runner = Runner.from_trial_folder(\"benchmark/0\")\n",
    "results = runner.run(\"오픈AI 소라와 비슷한 AI는?\")\n",
    "results"
   ]
  },
  {
   "cell_type": "code",
   "execution_count": 4,
   "metadata": {},
   "outputs": [],
   "source": [
    "from autorag.deploy import extract_best_config\n",
    "\n",
    "pipeline_dict = extract_best_config(\n",
    "    trial_path=\"benchmark/0\", output_path=\"pipeline.yaml\"\n",
    ")"
   ]
  },
  {
   "cell_type": "code",
   "execution_count": 8,
   "metadata": {},
   "outputs": [
    {
     "data": {
      "text/html": [
       "<pre style=\"white-space:pre;overflow-x:auto;line-height:normal;font-family:Menlo,'DejaVu Sans Mono',consolas,'Courier New',monospace\"><span style=\"color: #7fbfbf; text-decoration-color: #7fbfbf\">[07/12/24 14:54:06] </span><span style=\"color: #000080; text-decoration-color: #000080\">INFO    </span> <span style=\"font-weight: bold\">[</span>base.py:<span style=\"color: #008080; text-decoration-color: #008080; font-weight: bold\">35</span><span style=\"font-weight: bold\">]</span> &gt;&gt; Running retrieval node - hybrid_cc module<span style=\"color: #808000; text-decoration-color: #808000\">...</span>                <a href=\"file:///Users/jeongseok/Library/Caches/pypoetry/virtualenvs/autorag-tutorial-ko-sf4p_dcK-py3.11/lib/python3.11/site-packages/autorag/nodes/retrieval/base.py\" target=\"_blank\"><span style=\"color: #7f7f7f; text-decoration-color: #7f7f7f\">base.py</span></a><span style=\"color: #7f7f7f; text-decoration-color: #7f7f7f\">:</span><a href=\"file:///Users/jeongseok/Library/Caches/pypoetry/virtualenvs/autorag-tutorial-ko-sf4p_dcK-py3.11/lib/python3.11/site-packages/autorag/nodes/retrieval/base.py#35\" target=\"_blank\"><span style=\"color: #7f7f7f; text-decoration-color: #7f7f7f\">35</span></a>\n",
       "</pre>\n"
      ],
      "text/plain": [
       "\u001b[2;36m[07/12/24 14:54:06]\u001b[0m\u001b[2;36m \u001b[0m\u001b[34mINFO    \u001b[0m \u001b[1m[\u001b[0mbase.py:\u001b[1;36m35\u001b[0m\u001b[1m]\u001b[0m >> Running retrieval node - hybrid_cc module\u001b[33m...\u001b[0m                \u001b]8;id=34560;file:///Users/jeongseok/Library/Caches/pypoetry/virtualenvs/autorag-tutorial-ko-sf4p_dcK-py3.11/lib/python3.11/site-packages/autorag/nodes/retrieval/base.py\u001b\\\u001b[2mbase.py\u001b[0m\u001b]8;;\u001b\\\u001b[2m:\u001b[0m\u001b]8;id=137895;file:///Users/jeongseok/Library/Caches/pypoetry/virtualenvs/autorag-tutorial-ko-sf4p_dcK-py3.11/lib/python3.11/site-packages/autorag/nodes/retrieval/base.py#35\u001b\\\u001b[2m35\u001b[0m\u001b]8;;\u001b\\\n"
      ]
     },
     "metadata": {},
     "output_type": "display_data"
    },
    {
     "data": {
      "text/html": [
       "<pre style=\"white-space:pre;overflow-x:auto;line-height:normal;font-family:Menlo,'DejaVu Sans Mono',consolas,'Courier New',monospace\"><span style=\"color: #7fbfbf; text-decoration-color: #7fbfbf\">                    </span><span style=\"color: #000080; text-decoration-color: #000080\">INFO    </span> <span style=\"font-weight: bold\">[</span>base.py:<span style=\"color: #008080; text-decoration-color: #008080; font-weight: bold\">35</span><span style=\"font-weight: bold\">]</span> &gt;&gt; Running retrieval node - bm25 module<span style=\"color: #808000; text-decoration-color: #808000\">...</span>                     <a href=\"file:///Users/jeongseok/Library/Caches/pypoetry/virtualenvs/autorag-tutorial-ko-sf4p_dcK-py3.11/lib/python3.11/site-packages/autorag/nodes/retrieval/base.py\" target=\"_blank\"><span style=\"color: #7f7f7f; text-decoration-color: #7f7f7f\">base.py</span></a><span style=\"color: #7f7f7f; text-decoration-color: #7f7f7f\">:</span><a href=\"file:///Users/jeongseok/Library/Caches/pypoetry/virtualenvs/autorag-tutorial-ko-sf4p_dcK-py3.11/lib/python3.11/site-packages/autorag/nodes/retrieval/base.py#35\" target=\"_blank\"><span style=\"color: #7f7f7f; text-decoration-color: #7f7f7f\">35</span></a>\n",
       "</pre>\n"
      ],
      "text/plain": [
       "\u001b[2;36m                   \u001b[0m\u001b[2;36m \u001b[0m\u001b[34mINFO    \u001b[0m \u001b[1m[\u001b[0mbase.py:\u001b[1;36m35\u001b[0m\u001b[1m]\u001b[0m >> Running retrieval node - bm25 module\u001b[33m...\u001b[0m                     \u001b]8;id=44416;file:///Users/jeongseok/Library/Caches/pypoetry/virtualenvs/autorag-tutorial-ko-sf4p_dcK-py3.11/lib/python3.11/site-packages/autorag/nodes/retrieval/base.py\u001b\\\u001b[2mbase.py\u001b[0m\u001b]8;;\u001b\\\u001b[2m:\u001b[0m\u001b]8;id=334955;file:///Users/jeongseok/Library/Caches/pypoetry/virtualenvs/autorag-tutorial-ko-sf4p_dcK-py3.11/lib/python3.11/site-packages/autorag/nodes/retrieval/base.py#35\u001b\\\u001b[2m35\u001b[0m\u001b]8;;\u001b\\\n"
      ]
     },
     "metadata": {},
     "output_type": "display_data"
    },
    {
     "name": "stderr",
     "output_type": "stream",
     "text": [
      "/Users/jeongseok/Library/Caches/pypoetry/virtualenvs/autorag-tutorial-ko-sf4p_dcK-py3.11/lib/python3.11/site-packages/swifter/swifter.py:87: UserWarning: This pandas object has duplicate indices, and swifter may not be able to improve performance. Consider resetting the indices with `df.reset_index(drop=True)`.\n",
      "  warnings.warn(\n",
      "/Users/jeongseok/Library/Caches/pypoetry/virtualenvs/autorag-tutorial-ko-sf4p_dcK-py3.11/lib/python3.11/site-packages/swifter/swifter.py:87: UserWarning: This pandas object has duplicate indices, and swifter may not be able to improve performance. Consider resetting the indices with `df.reset_index(drop=True)`.\n",
      "  warnings.warn(\n"
     ]
    },
    {
     "data": {
      "text/html": [
       "<pre style=\"white-space:pre;overflow-x:auto;line-height:normal;font-family:Menlo,'DejaVu Sans Mono',consolas,'Courier New',monospace\"><span style=\"color: #7fbfbf; text-decoration-color: #7fbfbf\">[07/12/24 14:54:08] </span><span style=\"color: #000080; text-decoration-color: #000080\">INFO    </span> <span style=\"font-weight: bold\">[</span>base.py:<span style=\"color: #008080; text-decoration-color: #008080; font-weight: bold\">35</span><span style=\"font-weight: bold\">]</span> &gt;&gt; Running retrieval node - vectordb module<span style=\"color: #808000; text-decoration-color: #808000\">...</span>                 <a href=\"file:///Users/jeongseok/Library/Caches/pypoetry/virtualenvs/autorag-tutorial-ko-sf4p_dcK-py3.11/lib/python3.11/site-packages/autorag/nodes/retrieval/base.py\" target=\"_blank\"><span style=\"color: #7f7f7f; text-decoration-color: #7f7f7f\">base.py</span></a><span style=\"color: #7f7f7f; text-decoration-color: #7f7f7f\">:</span><a href=\"file:///Users/jeongseok/Library/Caches/pypoetry/virtualenvs/autorag-tutorial-ko-sf4p_dcK-py3.11/lib/python3.11/site-packages/autorag/nodes/retrieval/base.py#35\" target=\"_blank\"><span style=\"color: #7f7f7f; text-decoration-color: #7f7f7f\">35</span></a>\n",
       "</pre>\n"
      ],
      "text/plain": [
       "\u001b[2;36m[07/12/24 14:54:08]\u001b[0m\u001b[2;36m \u001b[0m\u001b[34mINFO    \u001b[0m \u001b[1m[\u001b[0mbase.py:\u001b[1;36m35\u001b[0m\u001b[1m]\u001b[0m >> Running retrieval node - vectordb module\u001b[33m...\u001b[0m                 \u001b]8;id=75372;file:///Users/jeongseok/Library/Caches/pypoetry/virtualenvs/autorag-tutorial-ko-sf4p_dcK-py3.11/lib/python3.11/site-packages/autorag/nodes/retrieval/base.py\u001b\\\u001b[2mbase.py\u001b[0m\u001b]8;;\u001b\\\u001b[2m:\u001b[0m\u001b]8;id=11672;file:///Users/jeongseok/Library/Caches/pypoetry/virtualenvs/autorag-tutorial-ko-sf4p_dcK-py3.11/lib/python3.11/site-packages/autorag/nodes/retrieval/base.py#35\u001b\\\u001b[2m35\u001b[0m\u001b]8;;\u001b\\\n"
      ]
     },
     "metadata": {},
     "output_type": "display_data"
    },
    {
     "data": {
      "application/vnd.jupyter.widget-view+json": {
       "model_id": "774a6c95e01145439906160dc8256f9c",
       "version_major": 2,
       "version_minor": 0
      },
      "text/plain": [
       "Batches:   0%|          | 0/1 [00:00<?, ?it/s]"
      ]
     },
     "metadata": {},
     "output_type": "display_data"
    },
    {
     "name": "stderr",
     "output_type": "stream",
     "text": [
      "/Users/jeongseok/Library/Caches/pypoetry/virtualenvs/autorag-tutorial-ko-sf4p_dcK-py3.11/lib/python3.11/site-packages/swifter/swifter.py:87: UserWarning: This pandas object has duplicate indices, and swifter may not be able to improve performance. Consider resetting the indices with `df.reset_index(drop=True)`.\n",
      "  warnings.warn(\n",
      "/Users/jeongseok/Library/Caches/pypoetry/virtualenvs/autorag-tutorial-ko-sf4p_dcK-py3.11/lib/python3.11/site-packages/swifter/swifter.py:87: UserWarning: This pandas object has duplicate indices, and swifter may not be able to improve performance. Consider resetting the indices with `df.reset_index(drop=True)`.\n",
      "  warnings.warn(\n",
      "/Users/jeongseok/Library/Caches/pypoetry/virtualenvs/autorag-tutorial-ko-sf4p_dcK-py3.11/lib/python3.11/site-packages/swifter/swifter.py:87: UserWarning: This pandas object has duplicate indices, and swifter may not be able to improve performance. Consider resetting the indices with `df.reset_index(drop=True)`.\n",
      "  warnings.warn(\n",
      "/Users/jeongseok/Library/Caches/pypoetry/virtualenvs/autorag-tutorial-ko-sf4p_dcK-py3.11/lib/python3.11/site-packages/swifter/swifter.py:87: UserWarning: This pandas object has duplicate indices, and swifter may not be able to improve performance. Consider resetting the indices with `df.reset_index(drop=True)`.\n",
      "  warnings.warn(\n"
     ]
    },
    {
     "data": {
      "text/html": [
       "<pre style=\"white-space:pre;overflow-x:auto;line-height:normal;font-family:Menlo,'DejaVu Sans Mono',consolas,'Courier New',monospace\"><span style=\"color: #7fbfbf; text-decoration-color: #7fbfbf\">[07/12/24 14:54:09] </span><span style=\"color: #000080; text-decoration-color: #000080\">INFO    </span> <span style=\"font-weight: bold\">[</span>base.py:<span style=\"color: #008080; text-decoration-color: #008080; font-weight: bold\">21</span><span style=\"font-weight: bold\">]</span> &gt;&gt; Running passage reranker node - koreranker module<span style=\"color: #808000; text-decoration-color: #808000\">...</span>        <a href=\"file:///Users/jeongseok/Library/Caches/pypoetry/virtualenvs/autorag-tutorial-ko-sf4p_dcK-py3.11/lib/python3.11/site-packages/autorag/nodes/passagereranker/base.py\" target=\"_blank\"><span style=\"color: #7f7f7f; text-decoration-color: #7f7f7f\">base.py</span></a><span style=\"color: #7f7f7f; text-decoration-color: #7f7f7f\">:</span><a href=\"file:///Users/jeongseok/Library/Caches/pypoetry/virtualenvs/autorag-tutorial-ko-sf4p_dcK-py3.11/lib/python3.11/site-packages/autorag/nodes/passagereranker/base.py#21\" target=\"_blank\"><span style=\"color: #7f7f7f; text-decoration-color: #7f7f7f\">21</span></a>\n",
       "</pre>\n"
      ],
      "text/plain": [
       "\u001b[2;36m[07/12/24 14:54:09]\u001b[0m\u001b[2;36m \u001b[0m\u001b[34mINFO    \u001b[0m \u001b[1m[\u001b[0mbase.py:\u001b[1;36m21\u001b[0m\u001b[1m]\u001b[0m >> Running passage reranker node - koreranker module\u001b[33m...\u001b[0m        \u001b]8;id=399880;file:///Users/jeongseok/Library/Caches/pypoetry/virtualenvs/autorag-tutorial-ko-sf4p_dcK-py3.11/lib/python3.11/site-packages/autorag/nodes/passagereranker/base.py\u001b\\\u001b[2mbase.py\u001b[0m\u001b]8;;\u001b\\\u001b[2m:\u001b[0m\u001b]8;id=654195;file:///Users/jeongseok/Library/Caches/pypoetry/virtualenvs/autorag-tutorial-ko-sf4p_dcK-py3.11/lib/python3.11/site-packages/autorag/nodes/passagereranker/base.py#21\u001b\\\u001b[2m21\u001b[0m\u001b]8;;\u001b\\\n"
      ]
     },
     "metadata": {},
     "output_type": "display_data"
    },
    {
     "name": "stderr",
     "output_type": "stream",
     "text": [
      "/Users/jeongseok/Library/Caches/pypoetry/virtualenvs/autorag-tutorial-ko-sf4p_dcK-py3.11/lib/python3.11/site-packages/swifter/swifter.py:87: UserWarning: This pandas object has duplicate indices, and swifter may not be able to improve performance. Consider resetting the indices with `df.reset_index(drop=True)`.\n",
      "  warnings.warn(\n",
      "/Users/jeongseok/Library/Caches/pypoetry/virtualenvs/autorag-tutorial-ko-sf4p_dcK-py3.11/lib/python3.11/site-packages/swifter/swifter.py:87: UserWarning: This pandas object has duplicate indices, and swifter may not be able to improve performance. Consider resetting the indices with `df.reset_index(drop=True)`.\n",
      "  warnings.warn(\n",
      "100%|██████████| 1/1 [00:01<00:00,  1.80s/it]\n"
     ]
    },
    {
     "data": {
      "text/html": [
       "<pre style=\"white-space:pre;overflow-x:auto;line-height:normal;font-family:Menlo,'DejaVu Sans Mono',consolas,'Courier New',monospace\"><span style=\"color: #7fbfbf; text-decoration-color: #7fbfbf\">[07/12/24 14:54:15] </span><span style=\"color: #000080; text-decoration-color: #000080\">INFO    </span> <span style=\"font-weight: bold\">[</span>base.py:<span style=\"color: #008080; text-decoration-color: #008080; font-weight: bold\">21</span><span style=\"font-weight: bold\">]</span> &gt;&gt; Running prompt maker node - fstring module<span style=\"color: #808000; text-decoration-color: #808000\">...</span>               <a href=\"file:///Users/jeongseok/Library/Caches/pypoetry/virtualenvs/autorag-tutorial-ko-sf4p_dcK-py3.11/lib/python3.11/site-packages/autorag/nodes/promptmaker/base.py\" target=\"_blank\"><span style=\"color: #7f7f7f; text-decoration-color: #7f7f7f\">base.py</span></a><span style=\"color: #7f7f7f; text-decoration-color: #7f7f7f\">:</span><a href=\"file:///Users/jeongseok/Library/Caches/pypoetry/virtualenvs/autorag-tutorial-ko-sf4p_dcK-py3.11/lib/python3.11/site-packages/autorag/nodes/promptmaker/base.py#21\" target=\"_blank\"><span style=\"color: #7f7f7f; text-decoration-color: #7f7f7f\">21</span></a>\n",
       "</pre>\n"
      ],
      "text/plain": [
       "\u001b[2;36m[07/12/24 14:54:15]\u001b[0m\u001b[2;36m \u001b[0m\u001b[34mINFO    \u001b[0m \u001b[1m[\u001b[0mbase.py:\u001b[1;36m21\u001b[0m\u001b[1m]\u001b[0m >> Running prompt maker node - fstring module\u001b[33m...\u001b[0m               \u001b]8;id=662107;file:///Users/jeongseok/Library/Caches/pypoetry/virtualenvs/autorag-tutorial-ko-sf4p_dcK-py3.11/lib/python3.11/site-packages/autorag/nodes/promptmaker/base.py\u001b\\\u001b[2mbase.py\u001b[0m\u001b]8;;\u001b\\\u001b[2m:\u001b[0m\u001b]8;id=837905;file:///Users/jeongseok/Library/Caches/pypoetry/virtualenvs/autorag-tutorial-ko-sf4p_dcK-py3.11/lib/python3.11/site-packages/autorag/nodes/promptmaker/base.py#21\u001b\\\u001b[2m21\u001b[0m\u001b]8;;\u001b\\\n"
      ]
     },
     "metadata": {},
     "output_type": "display_data"
    },
    {
     "data": {
      "text/html": [
       "<pre style=\"white-space:pre;overflow-x:auto;line-height:normal;font-family:Menlo,'DejaVu Sans Mono',consolas,'Courier New',monospace\"><span style=\"color: #7fbfbf; text-decoration-color: #7fbfbf\">                    </span><span style=\"color: #000080; text-decoration-color: #000080\">INFO    </span> <span style=\"font-weight: bold\">[</span>base.py:<span style=\"color: #008080; text-decoration-color: #008080; font-weight: bold\">34</span><span style=\"font-weight: bold\">]</span> &gt;&gt; Running generator node - llama_index_llm module<span style=\"color: #808000; text-decoration-color: #808000\">...</span>          <a href=\"file:///Users/jeongseok/Library/Caches/pypoetry/virtualenvs/autorag-tutorial-ko-sf4p_dcK-py3.11/lib/python3.11/site-packages/autorag/nodes/generator/base.py\" target=\"_blank\"><span style=\"color: #7f7f7f; text-decoration-color: #7f7f7f\">base.py</span></a><span style=\"color: #7f7f7f; text-decoration-color: #7f7f7f\">:</span><a href=\"file:///Users/jeongseok/Library/Caches/pypoetry/virtualenvs/autorag-tutorial-ko-sf4p_dcK-py3.11/lib/python3.11/site-packages/autorag/nodes/generator/base.py#34\" target=\"_blank\"><span style=\"color: #7f7f7f; text-decoration-color: #7f7f7f\">34</span></a>\n",
       "</pre>\n"
      ],
      "text/plain": [
       "\u001b[2;36m                   \u001b[0m\u001b[2;36m \u001b[0m\u001b[34mINFO    \u001b[0m \u001b[1m[\u001b[0mbase.py:\u001b[1;36m34\u001b[0m\u001b[1m]\u001b[0m >> Running generator node - llama_index_llm module\u001b[33m...\u001b[0m          \u001b]8;id=440597;file:///Users/jeongseok/Library/Caches/pypoetry/virtualenvs/autorag-tutorial-ko-sf4p_dcK-py3.11/lib/python3.11/site-packages/autorag/nodes/generator/base.py\u001b\\\u001b[2mbase.py\u001b[0m\u001b]8;;\u001b\\\u001b[2m:\u001b[0m\u001b]8;id=684450;file:///Users/jeongseok/Library/Caches/pypoetry/virtualenvs/autorag-tutorial-ko-sf4p_dcK-py3.11/lib/python3.11/site-packages/autorag/nodes/generator/base.py#34\u001b\\\u001b[2m34\u001b[0m\u001b]8;;\u001b\\\n"
      ]
     },
     "metadata": {},
     "output_type": "display_data"
    },
    {
     "data": {
      "text/html": [
       "<pre style=\"white-space:pre;overflow-x:auto;line-height:normal;font-family:Menlo,'DejaVu Sans Mono',consolas,'Courier New',monospace\"><span style=\"color: #7fbfbf; text-decoration-color: #7fbfbf\">[07/12/24 14:54:16] </span><span style=\"color: #000080; text-decoration-color: #000080\">INFO    </span> <span style=\"font-weight: bold\">[</span>_client.py:<span style=\"color: #008080; text-decoration-color: #008080; font-weight: bold\">1773</span><span style=\"font-weight: bold\">]</span> &gt;&gt; HTTP Request: <span style=\"color: #808000; text-decoration-color: #808000; font-weight: bold\">POST</span>                                <a href=\"file:///Users/jeongseok/Library/Caches/pypoetry/virtualenvs/autorag-tutorial-ko-sf4p_dcK-py3.11/lib/python3.11/site-packages/httpx/_client.py\" target=\"_blank\"><span style=\"color: #7f7f7f; text-decoration-color: #7f7f7f\">_client.py</span></a><span style=\"color: #7f7f7f; text-decoration-color: #7f7f7f\">:</span><a href=\"file:///Users/jeongseok/Library/Caches/pypoetry/virtualenvs/autorag-tutorial-ko-sf4p_dcK-py3.11/lib/python3.11/site-packages/httpx/_client.py#1773\" target=\"_blank\"><span style=\"color: #7f7f7f; text-decoration-color: #7f7f7f\">1773</span></a>\n",
       "<span style=\"color: #7fbfbf; text-decoration-color: #7fbfbf\">                    </span>         <span style=\"color: #0000ff; text-decoration-color: #0000ff; text-decoration: underline\">https://api.openai.com/v1/chat/completions</span> <span style=\"color: #008000; text-decoration-color: #008000\">\"HTTP/1.1 200 OK\"</span>           <span style=\"color: #7f7f7f; text-decoration-color: #7f7f7f\">               </span>\n",
       "</pre>\n"
      ],
      "text/plain": [
       "\u001b[2;36m[07/12/24 14:54:16]\u001b[0m\u001b[2;36m \u001b[0m\u001b[34mINFO    \u001b[0m \u001b[1m[\u001b[0m_client.py:\u001b[1;36m1773\u001b[0m\u001b[1m]\u001b[0m >> HTTP Request: \u001b[1;33mPOST\u001b[0m                                \u001b]8;id=595848;file:///Users/jeongseok/Library/Caches/pypoetry/virtualenvs/autorag-tutorial-ko-sf4p_dcK-py3.11/lib/python3.11/site-packages/httpx/_client.py\u001b\\\u001b[2m_client.py\u001b[0m\u001b]8;;\u001b\\\u001b[2m:\u001b[0m\u001b]8;id=652900;file:///Users/jeongseok/Library/Caches/pypoetry/virtualenvs/autorag-tutorial-ko-sf4p_dcK-py3.11/lib/python3.11/site-packages/httpx/_client.py#1773\u001b\\\u001b[2m1773\u001b[0m\u001b]8;;\u001b\\\n",
       "\u001b[2;36m                    \u001b[0m         \u001b[4;94mhttps://api.openai.com/v1/chat/completions\u001b[0m \u001b[32m\"HTTP/1.1 200 OK\"\u001b[0m           \u001b[2m               \u001b[0m\n"
      ]
     },
     "metadata": {},
     "output_type": "display_data"
    },
    {
     "data": {
      "text/plain": [
       "\"오픈AI의 '소라'와 비슷한 AI는 중국의 AI 스타트업 셩슈 테크놀로지와 칭화대가 개발한 '비두'입니다.\""
      ]
     },
     "execution_count": 8,
     "metadata": {},
     "output_type": "execute_result"
    }
   ],
   "source": [
    "from autorag.deploy import Runner\n",
    "\n",
    "runner = Runner.from_yaml(\"pipeline.yaml\", project_dir=\"benchmark\")\n",
    "result = runner.run(\"오픈AI 소라와 비슷한 AI는?\")\n",
    "result"
   ]
  },
  {
   "cell_type": "code",
   "execution_count": null,
   "metadata": {},
   "outputs": [],
   "source": []
  }
 ],
 "metadata": {
  "kernelspec": {
   "display_name": "autorag-tutorial-ko-sf4p_dcK-py3.11",
   "language": "python",
   "name": "python3"
  },
  "language_info": {
   "codemirror_mode": {
    "name": "ipython",
    "version": 3
   },
   "file_extension": ".py",
   "mimetype": "text/x-python",
   "name": "python",
   "nbconvert_exporter": "python",
   "pygments_lexer": "ipython3",
   "version": "3.11.9"
  }
 },
 "nbformat": 4,
 "nbformat_minor": 2
}
