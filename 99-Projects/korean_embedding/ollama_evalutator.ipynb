{
 "cells": [
  {
   "cell_type": "code",
   "execution_count": 1,
   "metadata": {},
   "outputs": [
    {
     "data": {
      "text/plain": [
       "True"
      ]
     },
     "execution_count": 1,
     "metadata": {},
     "output_type": "execute_result"
    }
   ],
   "source": [
    "from dotenv import load_dotenv\n",
    "\n",
    "load_dotenv()"
   ]
  },
  {
   "cell_type": "code",
   "execution_count": 2,
   "metadata": {},
   "outputs": [
    {
     "name": "stderr",
     "output_type": "stream",
     "text": [
      "/Users/anpigon/Library/Caches/pypoetry/virtualenvs/autorag-tutorial-ko-GYvpjDIx-py3.11/lib/python3.11/site-packages/pydantic/_internal/_fields.py:161: UserWarning: Field \"model_id\" has conflict with protected namespace \"model_\".\n",
      "\n",
      "You may be able to resolve this warning by setting `model_config['protected_namespaces'] = ()`.\n",
      "  warnings.warn(\n"
     ]
    },
    {
     "data": {
      "text/html": [
       "<pre style=\"white-space:pre;overflow-x:auto;line-height:normal;font-family:Menlo,'DejaVu Sans Mono',consolas,'Courier New',monospace\"><span style=\"color: #7fbfbf; text-decoration-color: #7fbfbf\">[07/12/24 17:37:07] </span><span style=\"color: #000080; text-decoration-color: #000080\">INFO    </span> <span style=\"font-weight: bold\">[</span>SentenceTransformer.py:<span style=\"color: #008080; text-decoration-color: #008080; font-weight: bold\">197</span><span style=\"font-weight: bold\">]</span> &gt;&gt; Load pretrained             <a href=\"file:///Users/anpigon/Library/Caches/pypoetry/virtualenvs/autorag-tutorial-ko-GYvpjDIx-py3.11/lib/python3.11/site-packages/sentence_transformers/SentenceTransformer.py\" target=\"_blank\"><span style=\"color: #7f7f7f; text-decoration-color: #7f7f7f\">SentenceTransformer.py</span></a><span style=\"color: #7f7f7f; text-decoration-color: #7f7f7f\">:</span><a href=\"file:///Users/anpigon/Library/Caches/pypoetry/virtualenvs/autorag-tutorial-ko-GYvpjDIx-py3.11/lib/python3.11/site-packages/sentence_transformers/SentenceTransformer.py#197\" target=\"_blank\"><span style=\"color: #7f7f7f; text-decoration-color: #7f7f7f\">197</span></a>\n",
       "<span style=\"color: #7fbfbf; text-decoration-color: #7fbfbf\">                    </span>         SentenceTransformer: BAAI/bge-m3                            <span style=\"color: #7f7f7f; text-decoration-color: #7f7f7f\">                          </span>\n",
       "</pre>\n"
      ],
      "text/plain": [
       "\u001b[2;36m[07/12/24 17:37:07]\u001b[0m\u001b[2;36m \u001b[0m\u001b[34mINFO    \u001b[0m \u001b[1m[\u001b[0mSentenceTransformer.py:\u001b[1;36m197\u001b[0m\u001b[1m]\u001b[0m >> Load pretrained             \u001b]8;id=401662;file:///Users/anpigon/Library/Caches/pypoetry/virtualenvs/autorag-tutorial-ko-GYvpjDIx-py3.11/lib/python3.11/site-packages/sentence_transformers/SentenceTransformer.py\u001b\\\u001b[2mSentenceTransformer.py\u001b[0m\u001b]8;;\u001b\\\u001b[2m:\u001b[0m\u001b]8;id=111110;file:///Users/anpigon/Library/Caches/pypoetry/virtualenvs/autorag-tutorial-ko-GYvpjDIx-py3.11/lib/python3.11/site-packages/sentence_transformers/SentenceTransformer.py#197\u001b\\\u001b[2m197\u001b[0m\u001b]8;;\u001b\\\n",
       "\u001b[2;36m                    \u001b[0m         SentenceTransformer: BAAI/bge-m3                            \u001b[2m                          \u001b[0m\n"
      ]
     },
     "metadata": {},
     "output_type": "display_data"
    },
    {
     "data": {
      "text/html": [
       "<pre style=\"white-space:pre;overflow-x:auto;line-height:normal;font-family:Menlo,'DejaVu Sans Mono',consolas,'Courier New',monospace\"><span style=\"color: #7fbfbf; text-decoration-color: #7fbfbf\">[07/12/24 17:37:12] </span><span style=\"color: #000080; text-decoration-color: #000080\">INFO    </span> <span style=\"font-weight: bold\">[</span>SentenceTransformer.py:<span style=\"color: #008080; text-decoration-color: #008080; font-weight: bold\">326</span><span style=\"font-weight: bold\">]</span> &gt;&gt; <span style=\"color: #008080; text-decoration-color: #008080; font-weight: bold\">2</span> prompts are loaded, with  <a href=\"file:///Users/anpigon/Library/Caches/pypoetry/virtualenvs/autorag-tutorial-ko-GYvpjDIx-py3.11/lib/python3.11/site-packages/sentence_transformers/SentenceTransformer.py\" target=\"_blank\"><span style=\"color: #7f7f7f; text-decoration-color: #7f7f7f\">SentenceTransformer.py</span></a><span style=\"color: #7f7f7f; text-decoration-color: #7f7f7f\">:</span><a href=\"file:///Users/anpigon/Library/Caches/pypoetry/virtualenvs/autorag-tutorial-ko-GYvpjDIx-py3.11/lib/python3.11/site-packages/sentence_transformers/SentenceTransformer.py#326\" target=\"_blank\"><span style=\"color: #7f7f7f; text-decoration-color: #7f7f7f\">326</span></a>\n",
       "<span style=\"color: #7fbfbf; text-decoration-color: #7fbfbf\">                    </span>         the keys: <span style=\"font-weight: bold\">[</span><span style=\"color: #008000; text-decoration-color: #008000\">'query'</span>, <span style=\"color: #008000; text-decoration-color: #008000\">'text'</span><span style=\"font-weight: bold\">]</span>                                 <span style=\"color: #7f7f7f; text-decoration-color: #7f7f7f\">                          </span>\n",
       "</pre>\n"
      ],
      "text/plain": [
       "\u001b[2;36m[07/12/24 17:37:12]\u001b[0m\u001b[2;36m \u001b[0m\u001b[34mINFO    \u001b[0m \u001b[1m[\u001b[0mSentenceTransformer.py:\u001b[1;36m326\u001b[0m\u001b[1m]\u001b[0m >> \u001b[1;36m2\u001b[0m prompts are loaded, with  \u001b]8;id=45339;file:///Users/anpigon/Library/Caches/pypoetry/virtualenvs/autorag-tutorial-ko-GYvpjDIx-py3.11/lib/python3.11/site-packages/sentence_transformers/SentenceTransformer.py\u001b\\\u001b[2mSentenceTransformer.py\u001b[0m\u001b]8;;\u001b\\\u001b[2m:\u001b[0m\u001b]8;id=291848;file:///Users/anpigon/Library/Caches/pypoetry/virtualenvs/autorag-tutorial-ko-GYvpjDIx-py3.11/lib/python3.11/site-packages/sentence_transformers/SentenceTransformer.py#326\u001b\\\u001b[2m326\u001b[0m\u001b]8;;\u001b\\\n",
       "\u001b[2;36m                    \u001b[0m         the keys: \u001b[1m[\u001b[0m\u001b[32m'query'\u001b[0m, \u001b[32m'text'\u001b[0m\u001b[1m]\u001b[0m                                 \u001b[2m                          \u001b[0m\n"
      ]
     },
     "metadata": {},
     "output_type": "display_data"
    }
   ],
   "source": [
    "import autorag\n",
    "from llama_index.embeddings.upstage import UpstageEmbedding\n",
    "from llama_index.embeddings.huggingface import HuggingFaceEmbedding\n",
    "\n",
    "# Configure the Embedding model\n",
    "upstage_embed_model = UpstageEmbedding()\n",
    "upstage_embed_model.model_name = \"ada\"\n",
    "autorag.embedding_models[\"solar-embedding-1-large\"] = upstage_embed_model\n",
    "autorag.embedding_models[\"bge-m3\"] = HuggingFaceEmbedding(\"BAAI/bge-m3\")"
   ]
  },
  {
   "cell_type": "code",
   "execution_count": 3,
   "metadata": {},
   "outputs": [],
   "source": [
    "from llama_index.llms.upstage import Upstage\n",
    "from llama_index.llms.ollama import Ollama\n",
    "\n",
    "# Add LLM models\n",
    "autorag.generator_models[\"upstage\"] = Upstage\n",
    "autorag.generator_models[\"ollama\"] = Ollama"
   ]
  },
  {
   "cell_type": "code",
   "execution_count": 4,
   "metadata": {},
   "outputs": [],
   "source": [
    "from autorag.evaluator import Evaluator\n",
    "\n",
    "evaluator = Evaluator(\n",
    "    qa_data_path=\"./data/qa.parquet\",\n",
    "    corpus_data_path=\"./data/corpus.parquet\",\n",
    "    project_dir=\"./benchmark_ollama\",\n",
    ")"
   ]
  },
  {
   "cell_type": "code",
   "execution_count": 5,
   "metadata": {},
   "outputs": [],
   "source": [
    "import nest_asyncio\n",
    "\n",
    "nest_asyncio.apply()"
   ]
  },
  {
   "cell_type": "code",
   "execution_count": 38,
   "metadata": {},
   "outputs": [
    {
     "data": {
      "text/html": [
       "<pre style=\"white-space:pre;overflow-x:auto;line-height:normal;font-family:Menlo,'DejaVu Sans Mono',consolas,'Courier New',monospace\"><span style=\"color: #7fbfbf; text-decoration-color: #7fbfbf\">[07/12/24 15:46:31] </span><span style=\"color: #000080; text-decoration-color: #000080\">INFO    </span> <span style=\"font-weight: bold\">[</span>evaluator.py:<span style=\"color: #008080; text-decoration-color: #008080; font-weight: bold\">80</span><span style=\"font-weight: bold\">]</span> &gt;&gt;                                                   <a href=\"file:///Users/jeongseok/Library/Caches/pypoetry/virtualenvs/autorag-tutorial-ko-sf4p_dcK-py3.11/lib/python3.11/site-packages/autorag/evaluator.py\" target=\"_blank\"><span style=\"color: #7f7f7f; text-decoration-color: #7f7f7f\">evaluator.py</span></a><span style=\"color: #7f7f7f; text-decoration-color: #7f7f7f\">:</span><a href=\"file:///Users/jeongseok/Library/Caches/pypoetry/virtualenvs/autorag-tutorial-ko-sf4p_dcK-py3.11/lib/python3.11/site-packages/autorag/evaluator.py#80\" target=\"_blank\"><span style=\"color: #7f7f7f; text-decoration-color: #7f7f7f\">80</span></a>\n",
       "<span style=\"color: #7fbfbf; text-decoration-color: #7fbfbf\">                    </span>                         _        _____            _____                        <span style=\"color: #7f7f7f; text-decoration-color: #7f7f7f\">               </span>\n",
       "<span style=\"color: #7fbfbf; text-decoration-color: #7fbfbf\">                    </span>              <span style=\"color: #800080; text-decoration-color: #800080\">/</span>\\        | |      |  __ \\     <span style=\"color: #800080; text-decoration-color: #800080\">/</span>\\   <span style=\"color: #800080; text-decoration-color: #800080\">/</span> ____|                       <span style=\"color: #7f7f7f; text-decoration-color: #7f7f7f\">               </span>\n",
       "<span style=\"color: #7fbfbf; text-decoration-color: #7fbfbf\">                    </span>             <span style=\"color: #800080; text-decoration-color: #800080\">/</span>  \\  _   _| |_ ___ | |__<span style=\"font-weight: bold\">)</span> |   <span style=\"color: #800080; text-decoration-color: #800080\">/</span>  \\ | |  __                        <span style=\"color: #7f7f7f; text-decoration-color: #7f7f7f\">               </span>\n",
       "<span style=\"color: #7fbfbf; text-decoration-color: #7fbfbf\">                    </span>            <span style=\"color: #800080; text-decoration-color: #800080\">/</span> <span style=\"color: #800080; text-decoration-color: #800080\">/</span>\\ \\| | | | __/ _ \\|  _  <span style=\"color: #800080; text-decoration-color: #800080\">/</span>   <span style=\"color: #800080; text-decoration-color: #800080\">/</span> <span style=\"color: #800080; text-decoration-color: #800080\">/</span>\\ \\| | |_ |                       <span style=\"color: #7f7f7f; text-decoration-color: #7f7f7f\">               </span>\n",
       "<span style=\"color: #7fbfbf; text-decoration-color: #7fbfbf\">                    </span>           <span style=\"color: #800080; text-decoration-color: #800080\">/</span> ____ \\ |_| | || <span style=\"font-weight: bold\">(</span>_<span style=\"font-weight: bold\">)</span> | | \\ \\  <span style=\"color: #800080; text-decoration-color: #800080\">/</span> ____ \\ |__| |                       <span style=\"color: #7f7f7f; text-decoration-color: #7f7f7f\">               </span>\n",
       "<span style=\"color: #7fbfbf; text-decoration-color: #7fbfbf\">                    </span>          <span style=\"color: #800080; text-decoration-color: #800080\">/_/</span>    \\_\\__,_|\\__\\___/|_|  \\_\\<span style=\"color: #800080; text-decoration-color: #800080\">/_/</span>    \\_\\_____|                       <span style=\"color: #7f7f7f; text-decoration-color: #7f7f7f\">               </span>\n",
       "<span style=\"color: #7fbfbf; text-decoration-color: #7fbfbf\">                    </span>                                                                                <span style=\"color: #7f7f7f; text-decoration-color: #7f7f7f\">               </span>\n",
       "<span style=\"color: #7fbfbf; text-decoration-color: #7fbfbf\">                    </span>                                                                                <span style=\"color: #7f7f7f; text-decoration-color: #7f7f7f\">               </span>\n",
       "</pre>\n"
      ],
      "text/plain": [
       "\u001b[2;36m[07/12/24 15:46:31]\u001b[0m\u001b[2;36m \u001b[0m\u001b[34mINFO    \u001b[0m \u001b[1m[\u001b[0mevaluator.py:\u001b[1;36m80\u001b[0m\u001b[1m]\u001b[0m >>                                                   \u001b]8;id=865361;file:///Users/jeongseok/Library/Caches/pypoetry/virtualenvs/autorag-tutorial-ko-sf4p_dcK-py3.11/lib/python3.11/site-packages/autorag/evaluator.py\u001b\\\u001b[2mevaluator.py\u001b[0m\u001b]8;;\u001b\\\u001b[2m:\u001b[0m\u001b]8;id=53596;file:///Users/jeongseok/Library/Caches/pypoetry/virtualenvs/autorag-tutorial-ko-sf4p_dcK-py3.11/lib/python3.11/site-packages/autorag/evaluator.py#80\u001b\\\u001b[2m80\u001b[0m\u001b]8;;\u001b\\\n",
       "\u001b[2;36m                    \u001b[0m                         _        _____            _____                        \u001b[2m               \u001b[0m\n",
       "\u001b[2;36m                    \u001b[0m              \u001b[35m/\u001b[0m\\        | |      |  __ \\     \u001b[35m/\u001b[0m\\   \u001b[35m/\u001b[0m ____|                       \u001b[2m               \u001b[0m\n",
       "\u001b[2;36m                    \u001b[0m             \u001b[35m/\u001b[0m  \\  _   _| |_ ___ | |__\u001b[1m)\u001b[0m |   \u001b[35m/\u001b[0m  \\ | |  __                        \u001b[2m               \u001b[0m\n",
       "\u001b[2;36m                    \u001b[0m            \u001b[35m/\u001b[0m \u001b[35m/\u001b[0m\\ \\| | | | __/ _ \\|  _  \u001b[35m/\u001b[0m   \u001b[35m/\u001b[0m \u001b[35m/\u001b[0m\\ \\| | |_ |                       \u001b[2m               \u001b[0m\n",
       "\u001b[2;36m                    \u001b[0m           \u001b[35m/\u001b[0m ____ \\ |_| | || \u001b[1m(\u001b[0m_\u001b[1m)\u001b[0m | | \\ \\  \u001b[35m/\u001b[0m ____ \\ |__| |                       \u001b[2m               \u001b[0m\n",
       "\u001b[2;36m                    \u001b[0m          \u001b[35m/_/\u001b[0m    \\_\\__,_|\\__\\___/|_|  \\_\\\u001b[35m/_/\u001b[0m    \\_\\_____|                       \u001b[2m               \u001b[0m\n",
       "\u001b[2;36m                    \u001b[0m                                                                                \u001b[2m               \u001b[0m\n",
       "\u001b[2;36m                    \u001b[0m                                                                                \u001b[2m               \u001b[0m\n"
      ]
     },
     "metadata": {},
     "output_type": "display_data"
    },
    {
     "data": {
      "text/html": [
       "<pre style=\"white-space:pre;overflow-x:auto;line-height:normal;font-family:Menlo,'DejaVu Sans Mono',consolas,'Courier New',monospace\"><span style=\"color: #7fbfbf; text-decoration-color: #7fbfbf\">                    </span><span style=\"color: #000080; text-decoration-color: #000080\">INFO    </span> <span style=\"font-weight: bold\">[</span>evaluator.py:<span style=\"color: #008080; text-decoration-color: #008080; font-weight: bold\">107</span><span style=\"font-weight: bold\">]</span> &gt;&gt; Embedding BM25 corpus<span style=\"color: #808000; text-decoration-color: #808000\">...</span>                        <a href=\"file:///Users/jeongseok/Library/Caches/pypoetry/virtualenvs/autorag-tutorial-ko-sf4p_dcK-py3.11/lib/python3.11/site-packages/autorag/evaluator.py\" target=\"_blank\"><span style=\"color: #7f7f7f; text-decoration-color: #7f7f7f\">evaluator.py</span></a><span style=\"color: #7f7f7f; text-decoration-color: #7f7f7f\">:</span><a href=\"file:///Users/jeongseok/Library/Caches/pypoetry/virtualenvs/autorag-tutorial-ko-sf4p_dcK-py3.11/lib/python3.11/site-packages/autorag/evaluator.py#107\" target=\"_blank\"><span style=\"color: #7f7f7f; text-decoration-color: #7f7f7f\">107</span></a>\n",
       "</pre>\n"
      ],
      "text/plain": [
       "\u001b[2;36m                   \u001b[0m\u001b[2;36m \u001b[0m\u001b[34mINFO    \u001b[0m \u001b[1m[\u001b[0mevaluator.py:\u001b[1;36m107\u001b[0m\u001b[1m]\u001b[0m >> Embedding BM25 corpus\u001b[33m...\u001b[0m                        \u001b]8;id=652707;file:///Users/jeongseok/Library/Caches/pypoetry/virtualenvs/autorag-tutorial-ko-sf4p_dcK-py3.11/lib/python3.11/site-packages/autorag/evaluator.py\u001b\\\u001b[2mevaluator.py\u001b[0m\u001b]8;;\u001b\\\u001b[2m:\u001b[0m\u001b]8;id=847403;file:///Users/jeongseok/Library/Caches/pypoetry/virtualenvs/autorag-tutorial-ko-sf4p_dcK-py3.11/lib/python3.11/site-packages/autorag/evaluator.py#107\u001b\\\u001b[2m107\u001b[0m\u001b]8;;\u001b\\\n"
      ]
     },
     "metadata": {},
     "output_type": "display_data"
    },
    {
     "data": {
      "text/html": [
       "<pre style=\"white-space:pre;overflow-x:auto;line-height:normal;font-family:Menlo,'DejaVu Sans Mono',consolas,'Courier New',monospace\"><span style=\"color: #7fbfbf; text-decoration-color: #7fbfbf\">                    </span><span style=\"color: #000080; text-decoration-color: #000080\">INFO    </span> <span style=\"font-weight: bold\">[</span>evaluator.py:<span style=\"color: #008080; text-decoration-color: #008080; font-weight: bold\">118</span><span style=\"font-weight: bold\">]</span> &gt;&gt; BM25 corpus embedding complete.                 <a href=\"file:///Users/jeongseok/Library/Caches/pypoetry/virtualenvs/autorag-tutorial-ko-sf4p_dcK-py3.11/lib/python3.11/site-packages/autorag/evaluator.py\" target=\"_blank\"><span style=\"color: #7f7f7f; text-decoration-color: #7f7f7f\">evaluator.py</span></a><span style=\"color: #7f7f7f; text-decoration-color: #7f7f7f\">:</span><a href=\"file:///Users/jeongseok/Library/Caches/pypoetry/virtualenvs/autorag-tutorial-ko-sf4p_dcK-py3.11/lib/python3.11/site-packages/autorag/evaluator.py#118\" target=\"_blank\"><span style=\"color: #7f7f7f; text-decoration-color: #7f7f7f\">118</span></a>\n",
       "</pre>\n"
      ],
      "text/plain": [
       "\u001b[2;36m                   \u001b[0m\u001b[2;36m \u001b[0m\u001b[34mINFO    \u001b[0m \u001b[1m[\u001b[0mevaluator.py:\u001b[1;36m118\u001b[0m\u001b[1m]\u001b[0m >> BM25 corpus embedding complete.                 \u001b]8;id=299892;file:///Users/jeongseok/Library/Caches/pypoetry/virtualenvs/autorag-tutorial-ko-sf4p_dcK-py3.11/lib/python3.11/site-packages/autorag/evaluator.py\u001b\\\u001b[2mevaluator.py\u001b[0m\u001b]8;;\u001b\\\u001b[2m:\u001b[0m\u001b]8;id=26924;file:///Users/jeongseok/Library/Caches/pypoetry/virtualenvs/autorag-tutorial-ko-sf4p_dcK-py3.11/lib/python3.11/site-packages/autorag/evaluator.py#118\u001b\\\u001b[2m118\u001b[0m\u001b]8;;\u001b\\\n"
      ]
     },
     "metadata": {},
     "output_type": "display_data"
    },
    {
     "data": {
      "text/html": [
       "<pre style=\"white-space:pre;overflow-x:auto;line-height:normal;font-family:Menlo,'DejaVu Sans Mono',consolas,'Courier New',monospace\"><span style=\"color: #7fbfbf; text-decoration-color: #7fbfbf\">                    </span><span style=\"color: #000080; text-decoration-color: #000080\">INFO    </span> <span style=\"font-weight: bold\">[</span>evaluator.py:<span style=\"color: #008080; text-decoration-color: #008080; font-weight: bold\">140</span><span style=\"font-weight: bold\">]</span> &gt;&gt; Embedding VectorDB corpus with                  <a href=\"file:///Users/jeongseok/Library/Caches/pypoetry/virtualenvs/autorag-tutorial-ko-sf4p_dcK-py3.11/lib/python3.11/site-packages/autorag/evaluator.py\" target=\"_blank\"><span style=\"color: #7f7f7f; text-decoration-color: #7f7f7f\">evaluator.py</span></a><span style=\"color: #7f7f7f; text-decoration-color: #7f7f7f\">:</span><a href=\"file:///Users/jeongseok/Library/Caches/pypoetry/virtualenvs/autorag-tutorial-ko-sf4p_dcK-py3.11/lib/python3.11/site-packages/autorag/evaluator.py#140\" target=\"_blank\"><span style=\"color: #7f7f7f; text-decoration-color: #7f7f7f\">140</span></a>\n",
       "<span style=\"color: #7fbfbf; text-decoration-color: #7fbfbf\">                    </span>         solar-embedding-<span style=\"color: #008080; text-decoration-color: #008080; font-weight: bold\">1</span>-large<span style=\"color: #808000; text-decoration-color: #808000\">...</span>                                            <span style=\"color: #7f7f7f; text-decoration-color: #7f7f7f\">                </span>\n",
       "</pre>\n"
      ],
      "text/plain": [
       "\u001b[2;36m                   \u001b[0m\u001b[2;36m \u001b[0m\u001b[34mINFO    \u001b[0m \u001b[1m[\u001b[0mevaluator.py:\u001b[1;36m140\u001b[0m\u001b[1m]\u001b[0m >> Embedding VectorDB corpus with                  \u001b]8;id=379203;file:///Users/jeongseok/Library/Caches/pypoetry/virtualenvs/autorag-tutorial-ko-sf4p_dcK-py3.11/lib/python3.11/site-packages/autorag/evaluator.py\u001b\\\u001b[2mevaluator.py\u001b[0m\u001b]8;;\u001b\\\u001b[2m:\u001b[0m\u001b]8;id=758626;file:///Users/jeongseok/Library/Caches/pypoetry/virtualenvs/autorag-tutorial-ko-sf4p_dcK-py3.11/lib/python3.11/site-packages/autorag/evaluator.py#140\u001b\\\u001b[2m140\u001b[0m\u001b]8;;\u001b\\\n",
       "\u001b[2;36m                    \u001b[0m         solar-embedding-\u001b[1;36m1\u001b[0m-large\u001b[33m...\u001b[0m                                            \u001b[2m                \u001b[0m\n"
      ]
     },
     "metadata": {},
     "output_type": "display_data"
    },
    {
     "data": {
      "text/html": [
       "<pre style=\"white-space:pre;overflow-x:auto;line-height:normal;font-family:Menlo,'DejaVu Sans Mono',consolas,'Courier New',monospace\"><span style=\"color: #7fbfbf; text-decoration-color: #7fbfbf\">                    </span><span style=\"color: #000080; text-decoration-color: #000080\">INFO    </span> <span style=\"font-weight: bold\">[</span>evaluator.py:<span style=\"color: #008080; text-decoration-color: #008080; font-weight: bold\">152</span><span style=\"font-weight: bold\">]</span> &gt;&gt; VectorDB corpus embedding complete with         <a href=\"file:///Users/jeongseok/Library/Caches/pypoetry/virtualenvs/autorag-tutorial-ko-sf4p_dcK-py3.11/lib/python3.11/site-packages/autorag/evaluator.py\" target=\"_blank\"><span style=\"color: #7f7f7f; text-decoration-color: #7f7f7f\">evaluator.py</span></a><span style=\"color: #7f7f7f; text-decoration-color: #7f7f7f\">:</span><a href=\"file:///Users/jeongseok/Library/Caches/pypoetry/virtualenvs/autorag-tutorial-ko-sf4p_dcK-py3.11/lib/python3.11/site-packages/autorag/evaluator.py#152\" target=\"_blank\"><span style=\"color: #7f7f7f; text-decoration-color: #7f7f7f\">152</span></a>\n",
       "<span style=\"color: #7fbfbf; text-decoration-color: #7fbfbf\">                    </span>         solar-embedding-<span style=\"color: #008080; text-decoration-color: #008080; font-weight: bold\">1</span>-large.                                              <span style=\"color: #7f7f7f; text-decoration-color: #7f7f7f\">                </span>\n",
       "</pre>\n"
      ],
      "text/plain": [
       "\u001b[2;36m                   \u001b[0m\u001b[2;36m \u001b[0m\u001b[34mINFO    \u001b[0m \u001b[1m[\u001b[0mevaluator.py:\u001b[1;36m152\u001b[0m\u001b[1m]\u001b[0m >> VectorDB corpus embedding complete with         \u001b]8;id=644667;file:///Users/jeongseok/Library/Caches/pypoetry/virtualenvs/autorag-tutorial-ko-sf4p_dcK-py3.11/lib/python3.11/site-packages/autorag/evaluator.py\u001b\\\u001b[2mevaluator.py\u001b[0m\u001b]8;;\u001b\\\u001b[2m:\u001b[0m\u001b]8;id=42839;file:///Users/jeongseok/Library/Caches/pypoetry/virtualenvs/autorag-tutorial-ko-sf4p_dcK-py3.11/lib/python3.11/site-packages/autorag/evaluator.py#152\u001b\\\u001b[2m152\u001b[0m\u001b]8;;\u001b\\\n",
       "\u001b[2;36m                    \u001b[0m         solar-embedding-\u001b[1;36m1\u001b[0m-large.                                              \u001b[2m                \u001b[0m\n"
      ]
     },
     "metadata": {},
     "output_type": "display_data"
    },
    {
     "data": {
      "text/html": [
       "<pre style=\"white-space:pre;overflow-x:auto;line-height:normal;font-family:Menlo,'DejaVu Sans Mono',consolas,'Courier New',monospace\"><span style=\"color: #7fbfbf; text-decoration-color: #7fbfbf\">                    </span><span style=\"color: #000080; text-decoration-color: #000080\">INFO    </span> <span style=\"font-weight: bold\">[</span>evaluator.py:<span style=\"color: #008080; text-decoration-color: #008080; font-weight: bold\">97</span><span style=\"font-weight: bold\">]</span> &gt;&gt; Running node line retrieve_node_line<span style=\"color: #808000; text-decoration-color: #808000\">...</span>           <a href=\"file:///Users/jeongseok/Library/Caches/pypoetry/virtualenvs/autorag-tutorial-ko-sf4p_dcK-py3.11/lib/python3.11/site-packages/autorag/evaluator.py\" target=\"_blank\"><span style=\"color: #7f7f7f; text-decoration-color: #7f7f7f\">evaluator.py</span></a><span style=\"color: #7f7f7f; text-decoration-color: #7f7f7f\">:</span><a href=\"file:///Users/jeongseok/Library/Caches/pypoetry/virtualenvs/autorag-tutorial-ko-sf4p_dcK-py3.11/lib/python3.11/site-packages/autorag/evaluator.py#97\" target=\"_blank\"><span style=\"color: #7f7f7f; text-decoration-color: #7f7f7f\">97</span></a>\n",
       "</pre>\n"
      ],
      "text/plain": [
       "\u001b[2;36m                   \u001b[0m\u001b[2;36m \u001b[0m\u001b[34mINFO    \u001b[0m \u001b[1m[\u001b[0mevaluator.py:\u001b[1;36m97\u001b[0m\u001b[1m]\u001b[0m >> Running node line retrieve_node_line\u001b[33m...\u001b[0m           \u001b]8;id=660983;file:///Users/jeongseok/Library/Caches/pypoetry/virtualenvs/autorag-tutorial-ko-sf4p_dcK-py3.11/lib/python3.11/site-packages/autorag/evaluator.py\u001b\\\u001b[2mevaluator.py\u001b[0m\u001b]8;;\u001b\\\u001b[2m:\u001b[0m\u001b]8;id=79394;file:///Users/jeongseok/Library/Caches/pypoetry/virtualenvs/autorag-tutorial-ko-sf4p_dcK-py3.11/lib/python3.11/site-packages/autorag/evaluator.py#97\u001b\\\u001b[2m97\u001b[0m\u001b]8;;\u001b\\\n"
      ]
     },
     "metadata": {},
     "output_type": "display_data"
    },
    {
     "data": {
      "text/html": [
       "<pre style=\"white-space:pre;overflow-x:auto;line-height:normal;font-family:Menlo,'DejaVu Sans Mono',consolas,'Courier New',monospace\"><span style=\"color: #7fbfbf; text-decoration-color: #7fbfbf\">                    </span><span style=\"color: #000080; text-decoration-color: #000080\">INFO    </span> <span style=\"font-weight: bold\">[</span>node.py:<span style=\"color: #008080; text-decoration-color: #008080; font-weight: bold\">55</span><span style=\"font-weight: bold\">]</span> &gt;&gt; Running node retrieval<span style=\"color: #808000; text-decoration-color: #808000\">...</span>                                   <a href=\"file:///Users/jeongseok/Library/Caches/pypoetry/virtualenvs/autorag-tutorial-ko-sf4p_dcK-py3.11/lib/python3.11/site-packages/autorag/schema/node.py\" target=\"_blank\"><span style=\"color: #7f7f7f; text-decoration-color: #7f7f7f\">node.py</span></a><span style=\"color: #7f7f7f; text-decoration-color: #7f7f7f\">:</span><a href=\"file:///Users/jeongseok/Library/Caches/pypoetry/virtualenvs/autorag-tutorial-ko-sf4p_dcK-py3.11/lib/python3.11/site-packages/autorag/schema/node.py#55\" target=\"_blank\"><span style=\"color: #7f7f7f; text-decoration-color: #7f7f7f\">55</span></a>\n",
       "</pre>\n"
      ],
      "text/plain": [
       "\u001b[2;36m                   \u001b[0m\u001b[2;36m \u001b[0m\u001b[34mINFO    \u001b[0m \u001b[1m[\u001b[0mnode.py:\u001b[1;36m55\u001b[0m\u001b[1m]\u001b[0m >> Running node retrieval\u001b[33m...\u001b[0m                                   \u001b]8;id=82267;file:///Users/jeongseok/Library/Caches/pypoetry/virtualenvs/autorag-tutorial-ko-sf4p_dcK-py3.11/lib/python3.11/site-packages/autorag/schema/node.py\u001b\\\u001b[2mnode.py\u001b[0m\u001b]8;;\u001b\\\u001b[2m:\u001b[0m\u001b]8;id=442664;file:///Users/jeongseok/Library/Caches/pypoetry/virtualenvs/autorag-tutorial-ko-sf4p_dcK-py3.11/lib/python3.11/site-packages/autorag/schema/node.py#55\u001b\\\u001b[2m55\u001b[0m\u001b]8;;\u001b\\\n"
      ]
     },
     "metadata": {},
     "output_type": "display_data"
    },
    {
     "name": "stderr",
     "output_type": "stream",
     "text": [
      "/Users/jeongseok/Library/Caches/pypoetry/virtualenvs/autorag-tutorial-ko-sf4p_dcK-py3.11/lib/python3.11/site-packages/swifter/swifter.py:87: UserWarning: This pandas object has duplicate indices, and swifter may not be able to improve performance. Consider resetting the indices with `df.reset_index(drop=True)`.\n",
      "  warnings.warn(\n",
      "/Users/jeongseok/Library/Caches/pypoetry/virtualenvs/autorag-tutorial-ko-sf4p_dcK-py3.11/lib/python3.11/site-packages/swifter/swifter.py:87: UserWarning: This pandas object has duplicate indices, and swifter may not be able to improve performance. Consider resetting the indices with `df.reset_index(drop=True)`.\n",
      "  warnings.warn(\n"
     ]
    },
    {
     "data": {
      "text/html": [
       "<pre style=\"white-space:pre;overflow-x:auto;line-height:normal;font-family:Menlo,'DejaVu Sans Mono',consolas,'Courier New',monospace\"><span style=\"color: #7fbfbf; text-decoration-color: #7fbfbf\">                    </span><span style=\"color: #000080; text-decoration-color: #000080\">INFO    </span> <span style=\"font-weight: bold\">[</span>base.py:<span style=\"color: #008080; text-decoration-color: #008080; font-weight: bold\">35</span><span style=\"font-weight: bold\">]</span> &gt;&gt; Running retrieval node - bm25 module<span style=\"color: #808000; text-decoration-color: #808000\">...</span>                     <a href=\"file:///Users/jeongseok/Library/Caches/pypoetry/virtualenvs/autorag-tutorial-ko-sf4p_dcK-py3.11/lib/python3.11/site-packages/autorag/nodes/retrieval/base.py\" target=\"_blank\"><span style=\"color: #7f7f7f; text-decoration-color: #7f7f7f\">base.py</span></a><span style=\"color: #7f7f7f; text-decoration-color: #7f7f7f\">:</span><a href=\"file:///Users/jeongseok/Library/Caches/pypoetry/virtualenvs/autorag-tutorial-ko-sf4p_dcK-py3.11/lib/python3.11/site-packages/autorag/nodes/retrieval/base.py#35\" target=\"_blank\"><span style=\"color: #7f7f7f; text-decoration-color: #7f7f7f\">35</span></a>\n",
       "</pre>\n"
      ],
      "text/plain": [
       "\u001b[2;36m                   \u001b[0m\u001b[2;36m \u001b[0m\u001b[34mINFO    \u001b[0m \u001b[1m[\u001b[0mbase.py:\u001b[1;36m35\u001b[0m\u001b[1m]\u001b[0m >> Running retrieval node - bm25 module\u001b[33m...\u001b[0m                     \u001b]8;id=404390;file:///Users/jeongseok/Library/Caches/pypoetry/virtualenvs/autorag-tutorial-ko-sf4p_dcK-py3.11/lib/python3.11/site-packages/autorag/nodes/retrieval/base.py\u001b\\\u001b[2mbase.py\u001b[0m\u001b]8;;\u001b\\\u001b[2m:\u001b[0m\u001b]8;id=707630;file:///Users/jeongseok/Library/Caches/pypoetry/virtualenvs/autorag-tutorial-ko-sf4p_dcK-py3.11/lib/python3.11/site-packages/autorag/nodes/retrieval/base.py#35\u001b\\\u001b[2m35\u001b[0m\u001b]8;;\u001b\\\n"
      ]
     },
     "metadata": {},
     "output_type": "display_data"
    },
    {
     "name": "stderr",
     "output_type": "stream",
     "text": [
      "/Users/jeongseok/Library/Caches/pypoetry/virtualenvs/autorag-tutorial-ko-sf4p_dcK-py3.11/lib/python3.11/site-packages/swifter/swifter.py:87: UserWarning: This pandas object has duplicate indices, and swifter may not be able to improve performance. Consider resetting the indices with `df.reset_index(drop=True)`.\n",
      "  warnings.warn(\n",
      "/Users/jeongseok/Library/Caches/pypoetry/virtualenvs/autorag-tutorial-ko-sf4p_dcK-py3.11/lib/python3.11/site-packages/swifter/swifter.py:87: UserWarning: This pandas object has duplicate indices, and swifter may not be able to improve performance. Consider resetting the indices with `df.reset_index(drop=True)`.\n",
      "  warnings.warn(\n"
     ]
    },
    {
     "data": {
      "text/html": [
       "<pre style=\"white-space:pre;overflow-x:auto;line-height:normal;font-family:Menlo,'DejaVu Sans Mono',consolas,'Courier New',monospace\"><span style=\"color: #7fbfbf; text-decoration-color: #7fbfbf\">[07/12/24 15:46:53] </span><span style=\"color: #000080; text-decoration-color: #000080\">INFO    </span> <span style=\"font-weight: bold\">[</span>_common.py:<span style=\"color: #008080; text-decoration-color: #008080; font-weight: bold\">104</span><span style=\"font-weight: bold\">]</span> &gt;&gt; Backing off <span style=\"color: #800080; text-decoration-color: #800080; font-weight: bold\">send_request</span><span style=\"font-weight: bold\">(</span><span style=\"color: #808000; text-decoration-color: #808000\">...</span><span style=\"font-weight: bold\">)</span> for <span style=\"color: #008080; text-decoration-color: #008080; font-weight: bold\">0.</span>3s              <a href=\"file:///Users/jeongseok/Library/Caches/pypoetry/virtualenvs/autorag-tutorial-ko-sf4p_dcK-py3.11/lib/python3.11/site-packages/backoff/_common.py\" target=\"_blank\"><span style=\"color: #7f7f7f; text-decoration-color: #7f7f7f\">_common.py</span></a><span style=\"color: #7f7f7f; text-decoration-color: #7f7f7f\">:</span><a href=\"file:///Users/jeongseok/Library/Caches/pypoetry/virtualenvs/autorag-tutorial-ko-sf4p_dcK-py3.11/lib/python3.11/site-packages/backoff/_common.py#104\" target=\"_blank\"><span style=\"color: #7f7f7f; text-decoration-color: #7f7f7f\">104</span></a>\n",
       "<span style=\"color: #7fbfbf; text-decoration-color: #7fbfbf\">                    </span>         <span style=\"font-weight: bold\">(</span>requests.exceptions.SSLError:                                          <span style=\"color: #7f7f7f; text-decoration-color: #7f7f7f\">              </span>\n",
       "<span style=\"color: #7fbfbf; text-decoration-color: #7fbfbf\">                    </span>         <span style=\"color: #800080; text-decoration-color: #800080; font-weight: bold\">HTTPSConnectionPool</span><span style=\"font-weight: bold\">(</span><span style=\"color: #808000; text-decoration-color: #808000\">host</span>=<span style=\"color: #008000; text-decoration-color: #008000\">'us-api.i.posthog.com'</span>, <span style=\"color: #808000; text-decoration-color: #808000\">port</span>=<span style=\"color: #008080; text-decoration-color: #008080; font-weight: bold\">443</span><span style=\"font-weight: bold\">)</span>: Max retries <span style=\"color: #7f7f7f; text-decoration-color: #7f7f7f\">              </span>\n",
       "<span style=\"color: #7fbfbf; text-decoration-color: #7fbfbf\">                    </span>         exceeded with url: <span style=\"color: #800080; text-decoration-color: #800080\">/batch/</span> <span style=\"font-weight: bold\">(</span>Caused by <span style=\"color: #800080; text-decoration-color: #800080; font-weight: bold\">SSLError</span><span style=\"font-weight: bold\">(</span><span style=\"color: #800080; text-decoration-color: #800080; font-weight: bold\">SSLEOFError</span><span style=\"font-weight: bold\">(</span><span style=\"color: #008080; text-decoration-color: #008080; font-weight: bold\">8</span>, <span style=\"color: #008000; text-decoration-color: #008000\">'EOF </span>     <span style=\"color: #7f7f7f; text-decoration-color: #7f7f7f\">              </span>\n",
       "<span style=\"color: #7fbfbf; text-decoration-color: #7fbfbf\">                    </span>         <span style=\"color: #008000; text-decoration-color: #008000\">occurred in violation of protocol (_ssl.c:2427)'</span><span style=\"font-weight: bold\">))))</span>                    <span style=\"color: #7f7f7f; text-decoration-color: #7f7f7f\">              </span>\n",
       "</pre>\n"
      ],
      "text/plain": [
       "\u001b[2;36m[07/12/24 15:46:53]\u001b[0m\u001b[2;36m \u001b[0m\u001b[34mINFO    \u001b[0m \u001b[1m[\u001b[0m_common.py:\u001b[1;36m104\u001b[0m\u001b[1m]\u001b[0m >> Backing off \u001b[1;35msend_request\u001b[0m\u001b[1m(\u001b[0m\u001b[33m...\u001b[0m\u001b[1m)\u001b[0m for \u001b[1;36m0.\u001b[0m3s              \u001b]8;id=424096;file:///Users/jeongseok/Library/Caches/pypoetry/virtualenvs/autorag-tutorial-ko-sf4p_dcK-py3.11/lib/python3.11/site-packages/backoff/_common.py\u001b\\\u001b[2m_common.py\u001b[0m\u001b]8;;\u001b\\\u001b[2m:\u001b[0m\u001b]8;id=917406;file:///Users/jeongseok/Library/Caches/pypoetry/virtualenvs/autorag-tutorial-ko-sf4p_dcK-py3.11/lib/python3.11/site-packages/backoff/_common.py#104\u001b\\\u001b[2m104\u001b[0m\u001b]8;;\u001b\\\n",
       "\u001b[2;36m                    \u001b[0m         \u001b[1m(\u001b[0mrequests.exceptions.SSLError:                                          \u001b[2m              \u001b[0m\n",
       "\u001b[2;36m                    \u001b[0m         \u001b[1;35mHTTPSConnectionPool\u001b[0m\u001b[1m(\u001b[0m\u001b[33mhost\u001b[0m=\u001b[32m'us-api.i.posthog.com'\u001b[0m, \u001b[33mport\u001b[0m=\u001b[1;36m443\u001b[0m\u001b[1m)\u001b[0m: Max retries \u001b[2m              \u001b[0m\n",
       "\u001b[2;36m                    \u001b[0m         exceeded with url: \u001b[35m/batch/\u001b[0m \u001b[1m(\u001b[0mCaused by \u001b[1;35mSSLError\u001b[0m\u001b[1m(\u001b[0m\u001b[1;35mSSLEOFError\u001b[0m\u001b[1m(\u001b[0m\u001b[1;36m8\u001b[0m, \u001b[32m'EOF \u001b[0m     \u001b[2m              \u001b[0m\n",
       "\u001b[2;36m                    \u001b[0m         \u001b[32moccurred in violation of protocol \u001b[0m\u001b[32m(\u001b[0m\u001b[32m_ssl.c:2427\u001b[0m\u001b[32m)\u001b[0m\u001b[32m'\u001b[0m\u001b[1m)\u001b[0m\u001b[1m)\u001b[0m\u001b[1m)\u001b[0m\u001b[1m)\u001b[0m                    \u001b[2m              \u001b[0m\n"
      ]
     },
     "metadata": {},
     "output_type": "display_data"
    },
    {
     "data": {
      "text/html": [
       "<pre style=\"white-space:pre;overflow-x:auto;line-height:normal;font-family:Menlo,'DejaVu Sans Mono',consolas,'Courier New',monospace\"><span style=\"color: #7fbfbf; text-decoration-color: #7fbfbf\">[07/12/24 15:47:12] </span><span style=\"color: #000080; text-decoration-color: #000080\">INFO    </span> <span style=\"font-weight: bold\">[</span>base.py:<span style=\"color: #008080; text-decoration-color: #008080; font-weight: bold\">35</span><span style=\"font-weight: bold\">]</span> &gt;&gt; Running retrieval node - vectordb module<span style=\"color: #808000; text-decoration-color: #808000\">...</span>                 <a href=\"file:///Users/jeongseok/Library/Caches/pypoetry/virtualenvs/autorag-tutorial-ko-sf4p_dcK-py3.11/lib/python3.11/site-packages/autorag/nodes/retrieval/base.py\" target=\"_blank\"><span style=\"color: #7f7f7f; text-decoration-color: #7f7f7f\">base.py</span></a><span style=\"color: #7f7f7f; text-decoration-color: #7f7f7f\">:</span><a href=\"file:///Users/jeongseok/Library/Caches/pypoetry/virtualenvs/autorag-tutorial-ko-sf4p_dcK-py3.11/lib/python3.11/site-packages/autorag/nodes/retrieval/base.py#35\" target=\"_blank\"><span style=\"color: #7f7f7f; text-decoration-color: #7f7f7f\">35</span></a>\n",
       "</pre>\n"
      ],
      "text/plain": [
       "\u001b[2;36m[07/12/24 15:47:12]\u001b[0m\u001b[2;36m \u001b[0m\u001b[34mINFO    \u001b[0m \u001b[1m[\u001b[0mbase.py:\u001b[1;36m35\u001b[0m\u001b[1m]\u001b[0m >> Running retrieval node - vectordb module\u001b[33m...\u001b[0m                 \u001b]8;id=954955;file:///Users/jeongseok/Library/Caches/pypoetry/virtualenvs/autorag-tutorial-ko-sf4p_dcK-py3.11/lib/python3.11/site-packages/autorag/nodes/retrieval/base.py\u001b\\\u001b[2mbase.py\u001b[0m\u001b]8;;\u001b\\\u001b[2m:\u001b[0m\u001b]8;id=452806;file:///Users/jeongseok/Library/Caches/pypoetry/virtualenvs/autorag-tutorial-ko-sf4p_dcK-py3.11/lib/python3.11/site-packages/autorag/nodes/retrieval/base.py#35\u001b\\\u001b[2m35\u001b[0m\u001b]8;;\u001b\\\n"
      ]
     },
     "metadata": {},
     "output_type": "display_data"
    },
    {
     "data": {
      "text/html": [
       "<pre style=\"white-space:pre;overflow-x:auto;line-height:normal;font-family:Menlo,'DejaVu Sans Mono',consolas,'Courier New',monospace\"><span style=\"color: #7fbfbf; text-decoration-color: #7fbfbf\">                    </span><span style=\"color: #000080; text-decoration-color: #000080\">INFO    </span> <span style=\"font-weight: bold\">[</span>_client.py:<span style=\"color: #008080; text-decoration-color: #008080; font-weight: bold\">1026</span><span style=\"font-weight: bold\">]</span> &gt;&gt; HTTP Request: <span style=\"color: #808000; text-decoration-color: #808000; font-weight: bold\">POST</span>                                <a href=\"file:///Users/jeongseok/Library/Caches/pypoetry/virtualenvs/autorag-tutorial-ko-sf4p_dcK-py3.11/lib/python3.11/site-packages/httpx/_client.py\" target=\"_blank\"><span style=\"color: #7f7f7f; text-decoration-color: #7f7f7f\">_client.py</span></a><span style=\"color: #7f7f7f; text-decoration-color: #7f7f7f\">:</span><a href=\"file:///Users/jeongseok/Library/Caches/pypoetry/virtualenvs/autorag-tutorial-ko-sf4p_dcK-py3.11/lib/python3.11/site-packages/httpx/_client.py#1026\" target=\"_blank\"><span style=\"color: #7f7f7f; text-decoration-color: #7f7f7f\">1026</span></a>\n",
       "<span style=\"color: #7fbfbf; text-decoration-color: #7fbfbf\">                    </span>         <span style=\"color: #0000ff; text-decoration-color: #0000ff; text-decoration: underline\">https://api.upstage.ai/v1/solar/embeddings</span> <span style=\"color: #008000; text-decoration-color: #008000\">\"HTTP/1.1 200 OK\"</span>           <span style=\"color: #7f7f7f; text-decoration-color: #7f7f7f\">               </span>\n",
       "</pre>\n"
      ],
      "text/plain": [
       "\u001b[2;36m                   \u001b[0m\u001b[2;36m \u001b[0m\u001b[34mINFO    \u001b[0m \u001b[1m[\u001b[0m_client.py:\u001b[1;36m1026\u001b[0m\u001b[1m]\u001b[0m >> HTTP Request: \u001b[1;33mPOST\u001b[0m                                \u001b]8;id=205060;file:///Users/jeongseok/Library/Caches/pypoetry/virtualenvs/autorag-tutorial-ko-sf4p_dcK-py3.11/lib/python3.11/site-packages/httpx/_client.py\u001b\\\u001b[2m_client.py\u001b[0m\u001b]8;;\u001b\\\u001b[2m:\u001b[0m\u001b]8;id=517376;file:///Users/jeongseok/Library/Caches/pypoetry/virtualenvs/autorag-tutorial-ko-sf4p_dcK-py3.11/lib/python3.11/site-packages/httpx/_client.py#1026\u001b\\\u001b[2m1026\u001b[0m\u001b]8;;\u001b\\\n",
       "\u001b[2;36m                    \u001b[0m         \u001b[4;94mhttps://api.upstage.ai/v1/solar/embeddings\u001b[0m \u001b[32m\"HTTP/1.1 200 OK\"\u001b[0m           \u001b[2m               \u001b[0m\n"
      ]
     },
     "metadata": {},
     "output_type": "display_data"
    },
    {
     "data": {
      "text/html": [
       "<pre style=\"white-space:pre;overflow-x:auto;line-height:normal;font-family:Menlo,'DejaVu Sans Mono',consolas,'Courier New',monospace\"><span style=\"color: #7fbfbf; text-decoration-color: #7fbfbf\">[07/12/24 15:47:13] </span><span style=\"color: #000080; text-decoration-color: #000080\">INFO    </span> <span style=\"font-weight: bold\">[</span>_client.py:<span style=\"color: #008080; text-decoration-color: #008080; font-weight: bold\">1026</span><span style=\"font-weight: bold\">]</span> &gt;&gt; HTTP Request: <span style=\"color: #808000; text-decoration-color: #808000; font-weight: bold\">POST</span>                                <a href=\"file:///Users/jeongseok/Library/Caches/pypoetry/virtualenvs/autorag-tutorial-ko-sf4p_dcK-py3.11/lib/python3.11/site-packages/httpx/_client.py\" target=\"_blank\"><span style=\"color: #7f7f7f; text-decoration-color: #7f7f7f\">_client.py</span></a><span style=\"color: #7f7f7f; text-decoration-color: #7f7f7f\">:</span><a href=\"file:///Users/jeongseok/Library/Caches/pypoetry/virtualenvs/autorag-tutorial-ko-sf4p_dcK-py3.11/lib/python3.11/site-packages/httpx/_client.py#1026\" target=\"_blank\"><span style=\"color: #7f7f7f; text-decoration-color: #7f7f7f\">1026</span></a>\n",
       "<span style=\"color: #7fbfbf; text-decoration-color: #7fbfbf\">                    </span>         <span style=\"color: #0000ff; text-decoration-color: #0000ff; text-decoration: underline\">https://api.upstage.ai/v1/solar/embeddings</span> <span style=\"color: #008000; text-decoration-color: #008000\">\"HTTP/1.1 200 OK\"</span>           <span style=\"color: #7f7f7f; text-decoration-color: #7f7f7f\">               </span>\n",
       "</pre>\n"
      ],
      "text/plain": [
       "\u001b[2;36m[07/12/24 15:47:13]\u001b[0m\u001b[2;36m \u001b[0m\u001b[34mINFO    \u001b[0m \u001b[1m[\u001b[0m_client.py:\u001b[1;36m1026\u001b[0m\u001b[1m]\u001b[0m >> HTTP Request: \u001b[1;33mPOST\u001b[0m                                \u001b]8;id=865688;file:///Users/jeongseok/Library/Caches/pypoetry/virtualenvs/autorag-tutorial-ko-sf4p_dcK-py3.11/lib/python3.11/site-packages/httpx/_client.py\u001b\\\u001b[2m_client.py\u001b[0m\u001b]8;;\u001b\\\u001b[2m:\u001b[0m\u001b]8;id=95827;file:///Users/jeongseok/Library/Caches/pypoetry/virtualenvs/autorag-tutorial-ko-sf4p_dcK-py3.11/lib/python3.11/site-packages/httpx/_client.py#1026\u001b\\\u001b[2m1026\u001b[0m\u001b]8;;\u001b\\\n",
       "\u001b[2;36m                    \u001b[0m         \u001b[4;94mhttps://api.upstage.ai/v1/solar/embeddings\u001b[0m \u001b[32m\"HTTP/1.1 200 OK\"\u001b[0m           \u001b[2m               \u001b[0m\n"
      ]
     },
     "metadata": {},
     "output_type": "display_data"
    },
    {
     "data": {
      "text/html": [
       "<pre style=\"white-space:pre;overflow-x:auto;line-height:normal;font-family:Menlo,'DejaVu Sans Mono',consolas,'Courier New',monospace\"><span style=\"color: #7fbfbf; text-decoration-color: #7fbfbf\">[07/12/24 15:47:14] </span><span style=\"color: #000080; text-decoration-color: #000080\">INFO    </span> <span style=\"font-weight: bold\">[</span>_client.py:<span style=\"color: #008080; text-decoration-color: #008080; font-weight: bold\">1026</span><span style=\"font-weight: bold\">]</span> &gt;&gt; HTTP Request: <span style=\"color: #808000; text-decoration-color: #808000; font-weight: bold\">POST</span>                                <a href=\"file:///Users/jeongseok/Library/Caches/pypoetry/virtualenvs/autorag-tutorial-ko-sf4p_dcK-py3.11/lib/python3.11/site-packages/httpx/_client.py\" target=\"_blank\"><span style=\"color: #7f7f7f; text-decoration-color: #7f7f7f\">_client.py</span></a><span style=\"color: #7f7f7f; text-decoration-color: #7f7f7f\">:</span><a href=\"file:///Users/jeongseok/Library/Caches/pypoetry/virtualenvs/autorag-tutorial-ko-sf4p_dcK-py3.11/lib/python3.11/site-packages/httpx/_client.py#1026\" target=\"_blank\"><span style=\"color: #7f7f7f; text-decoration-color: #7f7f7f\">1026</span></a>\n",
       "<span style=\"color: #7fbfbf; text-decoration-color: #7fbfbf\">                    </span>         <span style=\"color: #0000ff; text-decoration-color: #0000ff; text-decoration: underline\">https://api.upstage.ai/v1/solar/embeddings</span> <span style=\"color: #008000; text-decoration-color: #008000\">\"HTTP/1.1 200 OK\"</span>           <span style=\"color: #7f7f7f; text-decoration-color: #7f7f7f\">               </span>\n",
       "</pre>\n"
      ],
      "text/plain": [
       "\u001b[2;36m[07/12/24 15:47:14]\u001b[0m\u001b[2;36m \u001b[0m\u001b[34mINFO    \u001b[0m \u001b[1m[\u001b[0m_client.py:\u001b[1;36m1026\u001b[0m\u001b[1m]\u001b[0m >> HTTP Request: \u001b[1;33mPOST\u001b[0m                                \u001b]8;id=711859;file:///Users/jeongseok/Library/Caches/pypoetry/virtualenvs/autorag-tutorial-ko-sf4p_dcK-py3.11/lib/python3.11/site-packages/httpx/_client.py\u001b\\\u001b[2m_client.py\u001b[0m\u001b]8;;\u001b\\\u001b[2m:\u001b[0m\u001b]8;id=10518;file:///Users/jeongseok/Library/Caches/pypoetry/virtualenvs/autorag-tutorial-ko-sf4p_dcK-py3.11/lib/python3.11/site-packages/httpx/_client.py#1026\u001b\\\u001b[2m1026\u001b[0m\u001b]8;;\u001b\\\n",
       "\u001b[2;36m                    \u001b[0m         \u001b[4;94mhttps://api.upstage.ai/v1/solar/embeddings\u001b[0m \u001b[32m\"HTTP/1.1 200 OK\"\u001b[0m           \u001b[2m               \u001b[0m\n"
      ]
     },
     "metadata": {},
     "output_type": "display_data"
    },
    {
     "data": {
      "text/html": [
       "<pre style=\"white-space:pre;overflow-x:auto;line-height:normal;font-family:Menlo,'DejaVu Sans Mono',consolas,'Courier New',monospace\"><span style=\"color: #7fbfbf; text-decoration-color: #7fbfbf\">                    </span><span style=\"color: #000080; text-decoration-color: #000080\">INFO    </span> <span style=\"font-weight: bold\">[</span>_client.py:<span style=\"color: #008080; text-decoration-color: #008080; font-weight: bold\">1026</span><span style=\"font-weight: bold\">]</span> &gt;&gt; HTTP Request: <span style=\"color: #808000; text-decoration-color: #808000; font-weight: bold\">POST</span>                                <a href=\"file:///Users/jeongseok/Library/Caches/pypoetry/virtualenvs/autorag-tutorial-ko-sf4p_dcK-py3.11/lib/python3.11/site-packages/httpx/_client.py\" target=\"_blank\"><span style=\"color: #7f7f7f; text-decoration-color: #7f7f7f\">_client.py</span></a><span style=\"color: #7f7f7f; text-decoration-color: #7f7f7f\">:</span><a href=\"file:///Users/jeongseok/Library/Caches/pypoetry/virtualenvs/autorag-tutorial-ko-sf4p_dcK-py3.11/lib/python3.11/site-packages/httpx/_client.py#1026\" target=\"_blank\"><span style=\"color: #7f7f7f; text-decoration-color: #7f7f7f\">1026</span></a>\n",
       "<span style=\"color: #7fbfbf; text-decoration-color: #7fbfbf\">                    </span>         <span style=\"color: #0000ff; text-decoration-color: #0000ff; text-decoration: underline\">https://api.upstage.ai/v1/solar/embeddings</span> <span style=\"color: #008000; text-decoration-color: #008000\">\"HTTP/1.1 200 OK\"</span>           <span style=\"color: #7f7f7f; text-decoration-color: #7f7f7f\">               </span>\n",
       "</pre>\n"
      ],
      "text/plain": [
       "\u001b[2;36m                   \u001b[0m\u001b[2;36m \u001b[0m\u001b[34mINFO    \u001b[0m \u001b[1m[\u001b[0m_client.py:\u001b[1;36m1026\u001b[0m\u001b[1m]\u001b[0m >> HTTP Request: \u001b[1;33mPOST\u001b[0m                                \u001b]8;id=308883;file:///Users/jeongseok/Library/Caches/pypoetry/virtualenvs/autorag-tutorial-ko-sf4p_dcK-py3.11/lib/python3.11/site-packages/httpx/_client.py\u001b\\\u001b[2m_client.py\u001b[0m\u001b]8;;\u001b\\\u001b[2m:\u001b[0m\u001b]8;id=946640;file:///Users/jeongseok/Library/Caches/pypoetry/virtualenvs/autorag-tutorial-ko-sf4p_dcK-py3.11/lib/python3.11/site-packages/httpx/_client.py#1026\u001b\\\u001b[2m1026\u001b[0m\u001b]8;;\u001b\\\n",
       "\u001b[2;36m                    \u001b[0m         \u001b[4;94mhttps://api.upstage.ai/v1/solar/embeddings\u001b[0m \u001b[32m\"HTTP/1.1 200 OK\"\u001b[0m           \u001b[2m               \u001b[0m\n"
      ]
     },
     "metadata": {},
     "output_type": "display_data"
    },
    {
     "data": {
      "text/html": [
       "<pre style=\"white-space:pre;overflow-x:auto;line-height:normal;font-family:Menlo,'DejaVu Sans Mono',consolas,'Courier New',monospace\"><span style=\"color: #7fbfbf; text-decoration-color: #7fbfbf\">[07/12/24 15:47:15] </span><span style=\"color: #000080; text-decoration-color: #000080\">INFO    </span> <span style=\"font-weight: bold\">[</span>_client.py:<span style=\"color: #008080; text-decoration-color: #008080; font-weight: bold\">1026</span><span style=\"font-weight: bold\">]</span> &gt;&gt; HTTP Request: <span style=\"color: #808000; text-decoration-color: #808000; font-weight: bold\">POST</span>                                <a href=\"file:///Users/jeongseok/Library/Caches/pypoetry/virtualenvs/autorag-tutorial-ko-sf4p_dcK-py3.11/lib/python3.11/site-packages/httpx/_client.py\" target=\"_blank\"><span style=\"color: #7f7f7f; text-decoration-color: #7f7f7f\">_client.py</span></a><span style=\"color: #7f7f7f; text-decoration-color: #7f7f7f\">:</span><a href=\"file:///Users/jeongseok/Library/Caches/pypoetry/virtualenvs/autorag-tutorial-ko-sf4p_dcK-py3.11/lib/python3.11/site-packages/httpx/_client.py#1026\" target=\"_blank\"><span style=\"color: #7f7f7f; text-decoration-color: #7f7f7f\">1026</span></a>\n",
       "<span style=\"color: #7fbfbf; text-decoration-color: #7fbfbf\">                    </span>         <span style=\"color: #0000ff; text-decoration-color: #0000ff; text-decoration: underline\">https://api.upstage.ai/v1/solar/embeddings</span> <span style=\"color: #008000; text-decoration-color: #008000\">\"HTTP/1.1 200 OK\"</span>           <span style=\"color: #7f7f7f; text-decoration-color: #7f7f7f\">               </span>\n",
       "</pre>\n"
      ],
      "text/plain": [
       "\u001b[2;36m[07/12/24 15:47:15]\u001b[0m\u001b[2;36m \u001b[0m\u001b[34mINFO    \u001b[0m \u001b[1m[\u001b[0m_client.py:\u001b[1;36m1026\u001b[0m\u001b[1m]\u001b[0m >> HTTP Request: \u001b[1;33mPOST\u001b[0m                                \u001b]8;id=631978;file:///Users/jeongseok/Library/Caches/pypoetry/virtualenvs/autorag-tutorial-ko-sf4p_dcK-py3.11/lib/python3.11/site-packages/httpx/_client.py\u001b\\\u001b[2m_client.py\u001b[0m\u001b]8;;\u001b\\\u001b[2m:\u001b[0m\u001b]8;id=434602;file:///Users/jeongseok/Library/Caches/pypoetry/virtualenvs/autorag-tutorial-ko-sf4p_dcK-py3.11/lib/python3.11/site-packages/httpx/_client.py#1026\u001b\\\u001b[2m1026\u001b[0m\u001b]8;;\u001b\\\n",
       "\u001b[2;36m                    \u001b[0m         \u001b[4;94mhttps://api.upstage.ai/v1/solar/embeddings\u001b[0m \u001b[32m\"HTTP/1.1 200 OK\"\u001b[0m           \u001b[2m               \u001b[0m\n"
      ]
     },
     "metadata": {},
     "output_type": "display_data"
    },
    {
     "data": {
      "text/html": [
       "<pre style=\"white-space:pre;overflow-x:auto;line-height:normal;font-family:Menlo,'DejaVu Sans Mono',consolas,'Courier New',monospace\"><span style=\"color: #7fbfbf; text-decoration-color: #7fbfbf\">[07/12/24 15:47:16] </span><span style=\"color: #000080; text-decoration-color: #000080\">INFO    </span> <span style=\"font-weight: bold\">[</span>_client.py:<span style=\"color: #008080; text-decoration-color: #008080; font-weight: bold\">1026</span><span style=\"font-weight: bold\">]</span> &gt;&gt; HTTP Request: <span style=\"color: #808000; text-decoration-color: #808000; font-weight: bold\">POST</span>                                <a href=\"file:///Users/jeongseok/Library/Caches/pypoetry/virtualenvs/autorag-tutorial-ko-sf4p_dcK-py3.11/lib/python3.11/site-packages/httpx/_client.py\" target=\"_blank\"><span style=\"color: #7f7f7f; text-decoration-color: #7f7f7f\">_client.py</span></a><span style=\"color: #7f7f7f; text-decoration-color: #7f7f7f\">:</span><a href=\"file:///Users/jeongseok/Library/Caches/pypoetry/virtualenvs/autorag-tutorial-ko-sf4p_dcK-py3.11/lib/python3.11/site-packages/httpx/_client.py#1026\" target=\"_blank\"><span style=\"color: #7f7f7f; text-decoration-color: #7f7f7f\">1026</span></a>\n",
       "<span style=\"color: #7fbfbf; text-decoration-color: #7fbfbf\">                    </span>         <span style=\"color: #0000ff; text-decoration-color: #0000ff; text-decoration: underline\">https://api.upstage.ai/v1/solar/embeddings</span> <span style=\"color: #008000; text-decoration-color: #008000\">\"HTTP/1.1 200 OK\"</span>           <span style=\"color: #7f7f7f; text-decoration-color: #7f7f7f\">               </span>\n",
       "</pre>\n"
      ],
      "text/plain": [
       "\u001b[2;36m[07/12/24 15:47:16]\u001b[0m\u001b[2;36m \u001b[0m\u001b[34mINFO    \u001b[0m \u001b[1m[\u001b[0m_client.py:\u001b[1;36m1026\u001b[0m\u001b[1m]\u001b[0m >> HTTP Request: \u001b[1;33mPOST\u001b[0m                                \u001b]8;id=101224;file:///Users/jeongseok/Library/Caches/pypoetry/virtualenvs/autorag-tutorial-ko-sf4p_dcK-py3.11/lib/python3.11/site-packages/httpx/_client.py\u001b\\\u001b[2m_client.py\u001b[0m\u001b]8;;\u001b\\\u001b[2m:\u001b[0m\u001b]8;id=838295;file:///Users/jeongseok/Library/Caches/pypoetry/virtualenvs/autorag-tutorial-ko-sf4p_dcK-py3.11/lib/python3.11/site-packages/httpx/_client.py#1026\u001b\\\u001b[2m1026\u001b[0m\u001b]8;;\u001b\\\n",
       "\u001b[2;36m                    \u001b[0m         \u001b[4;94mhttps://api.upstage.ai/v1/solar/embeddings\u001b[0m \u001b[32m\"HTTP/1.1 200 OK\"\u001b[0m           \u001b[2m               \u001b[0m\n"
      ]
     },
     "metadata": {},
     "output_type": "display_data"
    },
    {
     "data": {
      "text/html": [
       "<pre style=\"white-space:pre;overflow-x:auto;line-height:normal;font-family:Menlo,'DejaVu Sans Mono',consolas,'Courier New',monospace\"><span style=\"color: #7fbfbf; text-decoration-color: #7fbfbf\">                    </span><span style=\"color: #000080; text-decoration-color: #000080\">INFO    </span> <span style=\"font-weight: bold\">[</span>_client.py:<span style=\"color: #008080; text-decoration-color: #008080; font-weight: bold\">1026</span><span style=\"font-weight: bold\">]</span> &gt;&gt; HTTP Request: <span style=\"color: #808000; text-decoration-color: #808000; font-weight: bold\">POST</span>                                <a href=\"file:///Users/jeongseok/Library/Caches/pypoetry/virtualenvs/autorag-tutorial-ko-sf4p_dcK-py3.11/lib/python3.11/site-packages/httpx/_client.py\" target=\"_blank\"><span style=\"color: #7f7f7f; text-decoration-color: #7f7f7f\">_client.py</span></a><span style=\"color: #7f7f7f; text-decoration-color: #7f7f7f\">:</span><a href=\"file:///Users/jeongseok/Library/Caches/pypoetry/virtualenvs/autorag-tutorial-ko-sf4p_dcK-py3.11/lib/python3.11/site-packages/httpx/_client.py#1026\" target=\"_blank\"><span style=\"color: #7f7f7f; text-decoration-color: #7f7f7f\">1026</span></a>\n",
       "<span style=\"color: #7fbfbf; text-decoration-color: #7fbfbf\">                    </span>         <span style=\"color: #0000ff; text-decoration-color: #0000ff; text-decoration: underline\">https://api.upstage.ai/v1/solar/embeddings</span> <span style=\"color: #008000; text-decoration-color: #008000\">\"HTTP/1.1 200 OK\"</span>           <span style=\"color: #7f7f7f; text-decoration-color: #7f7f7f\">               </span>\n",
       "</pre>\n"
      ],
      "text/plain": [
       "\u001b[2;36m                   \u001b[0m\u001b[2;36m \u001b[0m\u001b[34mINFO    \u001b[0m \u001b[1m[\u001b[0m_client.py:\u001b[1;36m1026\u001b[0m\u001b[1m]\u001b[0m >> HTTP Request: \u001b[1;33mPOST\u001b[0m                                \u001b]8;id=521736;file:///Users/jeongseok/Library/Caches/pypoetry/virtualenvs/autorag-tutorial-ko-sf4p_dcK-py3.11/lib/python3.11/site-packages/httpx/_client.py\u001b\\\u001b[2m_client.py\u001b[0m\u001b]8;;\u001b\\\u001b[2m:\u001b[0m\u001b]8;id=751406;file:///Users/jeongseok/Library/Caches/pypoetry/virtualenvs/autorag-tutorial-ko-sf4p_dcK-py3.11/lib/python3.11/site-packages/httpx/_client.py#1026\u001b\\\u001b[2m1026\u001b[0m\u001b]8;;\u001b\\\n",
       "\u001b[2;36m                    \u001b[0m         \u001b[4;94mhttps://api.upstage.ai/v1/solar/embeddings\u001b[0m \u001b[32m\"HTTP/1.1 200 OK\"\u001b[0m           \u001b[2m               \u001b[0m\n"
      ]
     },
     "metadata": {},
     "output_type": "display_data"
    },
    {
     "data": {
      "text/html": [
       "<pre style=\"white-space:pre;overflow-x:auto;line-height:normal;font-family:Menlo,'DejaVu Sans Mono',consolas,'Courier New',monospace\"><span style=\"color: #7fbfbf; text-decoration-color: #7fbfbf\">[07/12/24 15:47:17] </span><span style=\"color: #000080; text-decoration-color: #000080\">INFO    </span> <span style=\"font-weight: bold\">[</span>_client.py:<span style=\"color: #008080; text-decoration-color: #008080; font-weight: bold\">1026</span><span style=\"font-weight: bold\">]</span> &gt;&gt; HTTP Request: <span style=\"color: #808000; text-decoration-color: #808000; font-weight: bold\">POST</span>                                <a href=\"file:///Users/jeongseok/Library/Caches/pypoetry/virtualenvs/autorag-tutorial-ko-sf4p_dcK-py3.11/lib/python3.11/site-packages/httpx/_client.py\" target=\"_blank\"><span style=\"color: #7f7f7f; text-decoration-color: #7f7f7f\">_client.py</span></a><span style=\"color: #7f7f7f; text-decoration-color: #7f7f7f\">:</span><a href=\"file:///Users/jeongseok/Library/Caches/pypoetry/virtualenvs/autorag-tutorial-ko-sf4p_dcK-py3.11/lib/python3.11/site-packages/httpx/_client.py#1026\" target=\"_blank\"><span style=\"color: #7f7f7f; text-decoration-color: #7f7f7f\">1026</span></a>\n",
       "<span style=\"color: #7fbfbf; text-decoration-color: #7fbfbf\">                    </span>         <span style=\"color: #0000ff; text-decoration-color: #0000ff; text-decoration: underline\">https://api.upstage.ai/v1/solar/embeddings</span> <span style=\"color: #008000; text-decoration-color: #008000\">\"HTTP/1.1 200 OK\"</span>           <span style=\"color: #7f7f7f; text-decoration-color: #7f7f7f\">               </span>\n",
       "</pre>\n"
      ],
      "text/plain": [
       "\u001b[2;36m[07/12/24 15:47:17]\u001b[0m\u001b[2;36m \u001b[0m\u001b[34mINFO    \u001b[0m \u001b[1m[\u001b[0m_client.py:\u001b[1;36m1026\u001b[0m\u001b[1m]\u001b[0m >> HTTP Request: \u001b[1;33mPOST\u001b[0m                                \u001b]8;id=473209;file:///Users/jeongseok/Library/Caches/pypoetry/virtualenvs/autorag-tutorial-ko-sf4p_dcK-py3.11/lib/python3.11/site-packages/httpx/_client.py\u001b\\\u001b[2m_client.py\u001b[0m\u001b]8;;\u001b\\\u001b[2m:\u001b[0m\u001b]8;id=726879;file:///Users/jeongseok/Library/Caches/pypoetry/virtualenvs/autorag-tutorial-ko-sf4p_dcK-py3.11/lib/python3.11/site-packages/httpx/_client.py#1026\u001b\\\u001b[2m1026\u001b[0m\u001b]8;;\u001b\\\n",
       "\u001b[2;36m                    \u001b[0m         \u001b[4;94mhttps://api.upstage.ai/v1/solar/embeddings\u001b[0m \u001b[32m\"HTTP/1.1 200 OK\"\u001b[0m           \u001b[2m               \u001b[0m\n"
      ]
     },
     "metadata": {},
     "output_type": "display_data"
    },
    {
     "data": {
      "text/html": [
       "<pre style=\"white-space:pre;overflow-x:auto;line-height:normal;font-family:Menlo,'DejaVu Sans Mono',consolas,'Courier New',monospace\"><span style=\"color: #7fbfbf; text-decoration-color: #7fbfbf\">                    </span><span style=\"color: #000080; text-decoration-color: #000080\">INFO    </span> <span style=\"font-weight: bold\">[</span>_client.py:<span style=\"color: #008080; text-decoration-color: #008080; font-weight: bold\">1026</span><span style=\"font-weight: bold\">]</span> &gt;&gt; HTTP Request: <span style=\"color: #808000; text-decoration-color: #808000; font-weight: bold\">POST</span>                                <a href=\"file:///Users/jeongseok/Library/Caches/pypoetry/virtualenvs/autorag-tutorial-ko-sf4p_dcK-py3.11/lib/python3.11/site-packages/httpx/_client.py\" target=\"_blank\"><span style=\"color: #7f7f7f; text-decoration-color: #7f7f7f\">_client.py</span></a><span style=\"color: #7f7f7f; text-decoration-color: #7f7f7f\">:</span><a href=\"file:///Users/jeongseok/Library/Caches/pypoetry/virtualenvs/autorag-tutorial-ko-sf4p_dcK-py3.11/lib/python3.11/site-packages/httpx/_client.py#1026\" target=\"_blank\"><span style=\"color: #7f7f7f; text-decoration-color: #7f7f7f\">1026</span></a>\n",
       "<span style=\"color: #7fbfbf; text-decoration-color: #7fbfbf\">                    </span>         <span style=\"color: #0000ff; text-decoration-color: #0000ff; text-decoration: underline\">https://api.upstage.ai/v1/solar/embeddings</span> <span style=\"color: #008000; text-decoration-color: #008000\">\"HTTP/1.1 200 OK\"</span>           <span style=\"color: #7f7f7f; text-decoration-color: #7f7f7f\">               </span>\n",
       "</pre>\n"
      ],
      "text/plain": [
       "\u001b[2;36m                   \u001b[0m\u001b[2;36m \u001b[0m\u001b[34mINFO    \u001b[0m \u001b[1m[\u001b[0m_client.py:\u001b[1;36m1026\u001b[0m\u001b[1m]\u001b[0m >> HTTP Request: \u001b[1;33mPOST\u001b[0m                                \u001b]8;id=957241;file:///Users/jeongseok/Library/Caches/pypoetry/virtualenvs/autorag-tutorial-ko-sf4p_dcK-py3.11/lib/python3.11/site-packages/httpx/_client.py\u001b\\\u001b[2m_client.py\u001b[0m\u001b]8;;\u001b\\\u001b[2m:\u001b[0m\u001b]8;id=935437;file:///Users/jeongseok/Library/Caches/pypoetry/virtualenvs/autorag-tutorial-ko-sf4p_dcK-py3.11/lib/python3.11/site-packages/httpx/_client.py#1026\u001b\\\u001b[2m1026\u001b[0m\u001b]8;;\u001b\\\n",
       "\u001b[2;36m                    \u001b[0m         \u001b[4;94mhttps://api.upstage.ai/v1/solar/embeddings\u001b[0m \u001b[32m\"HTTP/1.1 200 OK\"\u001b[0m           \u001b[2m               \u001b[0m\n"
      ]
     },
     "metadata": {},
     "output_type": "display_data"
    },
    {
     "data": {
      "text/html": [
       "<pre style=\"white-space:pre;overflow-x:auto;line-height:normal;font-family:Menlo,'DejaVu Sans Mono',consolas,'Courier New',monospace\"><span style=\"color: #7fbfbf; text-decoration-color: #7fbfbf\">[07/12/24 15:47:18] </span><span style=\"color: #000080; text-decoration-color: #000080\">INFO    </span> <span style=\"font-weight: bold\">[</span>_client.py:<span style=\"color: #008080; text-decoration-color: #008080; font-weight: bold\">1026</span><span style=\"font-weight: bold\">]</span> &gt;&gt; HTTP Request: <span style=\"color: #808000; text-decoration-color: #808000; font-weight: bold\">POST</span>                                <a href=\"file:///Users/jeongseok/Library/Caches/pypoetry/virtualenvs/autorag-tutorial-ko-sf4p_dcK-py3.11/lib/python3.11/site-packages/httpx/_client.py\" target=\"_blank\"><span style=\"color: #7f7f7f; text-decoration-color: #7f7f7f\">_client.py</span></a><span style=\"color: #7f7f7f; text-decoration-color: #7f7f7f\">:</span><a href=\"file:///Users/jeongseok/Library/Caches/pypoetry/virtualenvs/autorag-tutorial-ko-sf4p_dcK-py3.11/lib/python3.11/site-packages/httpx/_client.py#1026\" target=\"_blank\"><span style=\"color: #7f7f7f; text-decoration-color: #7f7f7f\">1026</span></a>\n",
       "<span style=\"color: #7fbfbf; text-decoration-color: #7fbfbf\">                    </span>         <span style=\"color: #0000ff; text-decoration-color: #0000ff; text-decoration: underline\">https://api.upstage.ai/v1/solar/embeddings</span> <span style=\"color: #008000; text-decoration-color: #008000\">\"HTTP/1.1 200 OK\"</span>           <span style=\"color: #7f7f7f; text-decoration-color: #7f7f7f\">               </span>\n",
       "</pre>\n"
      ],
      "text/plain": [
       "\u001b[2;36m[07/12/24 15:47:18]\u001b[0m\u001b[2;36m \u001b[0m\u001b[34mINFO    \u001b[0m \u001b[1m[\u001b[0m_client.py:\u001b[1;36m1026\u001b[0m\u001b[1m]\u001b[0m >> HTTP Request: \u001b[1;33mPOST\u001b[0m                                \u001b]8;id=24023;file:///Users/jeongseok/Library/Caches/pypoetry/virtualenvs/autorag-tutorial-ko-sf4p_dcK-py3.11/lib/python3.11/site-packages/httpx/_client.py\u001b\\\u001b[2m_client.py\u001b[0m\u001b]8;;\u001b\\\u001b[2m:\u001b[0m\u001b]8;id=693397;file:///Users/jeongseok/Library/Caches/pypoetry/virtualenvs/autorag-tutorial-ko-sf4p_dcK-py3.11/lib/python3.11/site-packages/httpx/_client.py#1026\u001b\\\u001b[2m1026\u001b[0m\u001b]8;;\u001b\\\n",
       "\u001b[2;36m                    \u001b[0m         \u001b[4;94mhttps://api.upstage.ai/v1/solar/embeddings\u001b[0m \u001b[32m\"HTTP/1.1 200 OK\"\u001b[0m           \u001b[2m               \u001b[0m\n"
      ]
     },
     "metadata": {},
     "output_type": "display_data"
    },
    {
     "data": {
      "text/html": [
       "<pre style=\"white-space:pre;overflow-x:auto;line-height:normal;font-family:Menlo,'DejaVu Sans Mono',consolas,'Courier New',monospace\"><span style=\"color: #7fbfbf; text-decoration-color: #7fbfbf\">[07/12/24 15:47:19] </span><span style=\"color: #000080; text-decoration-color: #000080\">INFO    </span> <span style=\"font-weight: bold\">[</span>_client.py:<span style=\"color: #008080; text-decoration-color: #008080; font-weight: bold\">1026</span><span style=\"font-weight: bold\">]</span> &gt;&gt; HTTP Request: <span style=\"color: #808000; text-decoration-color: #808000; font-weight: bold\">POST</span>                                <a href=\"file:///Users/jeongseok/Library/Caches/pypoetry/virtualenvs/autorag-tutorial-ko-sf4p_dcK-py3.11/lib/python3.11/site-packages/httpx/_client.py\" target=\"_blank\"><span style=\"color: #7f7f7f; text-decoration-color: #7f7f7f\">_client.py</span></a><span style=\"color: #7f7f7f; text-decoration-color: #7f7f7f\">:</span><a href=\"file:///Users/jeongseok/Library/Caches/pypoetry/virtualenvs/autorag-tutorial-ko-sf4p_dcK-py3.11/lib/python3.11/site-packages/httpx/_client.py#1026\" target=\"_blank\"><span style=\"color: #7f7f7f; text-decoration-color: #7f7f7f\">1026</span></a>\n",
       "<span style=\"color: #7fbfbf; text-decoration-color: #7fbfbf\">                    </span>         <span style=\"color: #0000ff; text-decoration-color: #0000ff; text-decoration: underline\">https://api.upstage.ai/v1/solar/embeddings</span> <span style=\"color: #008000; text-decoration-color: #008000\">\"HTTP/1.1 200 OK\"</span>           <span style=\"color: #7f7f7f; text-decoration-color: #7f7f7f\">               </span>\n",
       "</pre>\n"
      ],
      "text/plain": [
       "\u001b[2;36m[07/12/24 15:47:19]\u001b[0m\u001b[2;36m \u001b[0m\u001b[34mINFO    \u001b[0m \u001b[1m[\u001b[0m_client.py:\u001b[1;36m1026\u001b[0m\u001b[1m]\u001b[0m >> HTTP Request: \u001b[1;33mPOST\u001b[0m                                \u001b]8;id=295944;file:///Users/jeongseok/Library/Caches/pypoetry/virtualenvs/autorag-tutorial-ko-sf4p_dcK-py3.11/lib/python3.11/site-packages/httpx/_client.py\u001b\\\u001b[2m_client.py\u001b[0m\u001b]8;;\u001b\\\u001b[2m:\u001b[0m\u001b]8;id=34370;file:///Users/jeongseok/Library/Caches/pypoetry/virtualenvs/autorag-tutorial-ko-sf4p_dcK-py3.11/lib/python3.11/site-packages/httpx/_client.py#1026\u001b\\\u001b[2m1026\u001b[0m\u001b]8;;\u001b\\\n",
       "\u001b[2;36m                    \u001b[0m         \u001b[4;94mhttps://api.upstage.ai/v1/solar/embeddings\u001b[0m \u001b[32m\"HTTP/1.1 200 OK\"\u001b[0m           \u001b[2m               \u001b[0m\n"
      ]
     },
     "metadata": {},
     "output_type": "display_data"
    },
    {
     "data": {
      "text/html": [
       "<pre style=\"white-space:pre;overflow-x:auto;line-height:normal;font-family:Menlo,'DejaVu Sans Mono',consolas,'Courier New',monospace\"><span style=\"color: #7fbfbf; text-decoration-color: #7fbfbf\">                    </span><span style=\"color: #000080; text-decoration-color: #000080\">INFO    </span> <span style=\"font-weight: bold\">[</span>_client.py:<span style=\"color: #008080; text-decoration-color: #008080; font-weight: bold\">1026</span><span style=\"font-weight: bold\">]</span> &gt;&gt; HTTP Request: <span style=\"color: #808000; text-decoration-color: #808000; font-weight: bold\">POST</span>                                <a href=\"file:///Users/jeongseok/Library/Caches/pypoetry/virtualenvs/autorag-tutorial-ko-sf4p_dcK-py3.11/lib/python3.11/site-packages/httpx/_client.py\" target=\"_blank\"><span style=\"color: #7f7f7f; text-decoration-color: #7f7f7f\">_client.py</span></a><span style=\"color: #7f7f7f; text-decoration-color: #7f7f7f\">:</span><a href=\"file:///Users/jeongseok/Library/Caches/pypoetry/virtualenvs/autorag-tutorial-ko-sf4p_dcK-py3.11/lib/python3.11/site-packages/httpx/_client.py#1026\" target=\"_blank\"><span style=\"color: #7f7f7f; text-decoration-color: #7f7f7f\">1026</span></a>\n",
       "<span style=\"color: #7fbfbf; text-decoration-color: #7fbfbf\">                    </span>         <span style=\"color: #0000ff; text-decoration-color: #0000ff; text-decoration: underline\">https://api.upstage.ai/v1/solar/embeddings</span> <span style=\"color: #008000; text-decoration-color: #008000\">\"HTTP/1.1 200 OK\"</span>           <span style=\"color: #7f7f7f; text-decoration-color: #7f7f7f\">               </span>\n",
       "</pre>\n"
      ],
      "text/plain": [
       "\u001b[2;36m                   \u001b[0m\u001b[2;36m \u001b[0m\u001b[34mINFO    \u001b[0m \u001b[1m[\u001b[0m_client.py:\u001b[1;36m1026\u001b[0m\u001b[1m]\u001b[0m >> HTTP Request: \u001b[1;33mPOST\u001b[0m                                \u001b]8;id=28799;file:///Users/jeongseok/Library/Caches/pypoetry/virtualenvs/autorag-tutorial-ko-sf4p_dcK-py3.11/lib/python3.11/site-packages/httpx/_client.py\u001b\\\u001b[2m_client.py\u001b[0m\u001b]8;;\u001b\\\u001b[2m:\u001b[0m\u001b]8;id=590595;file:///Users/jeongseok/Library/Caches/pypoetry/virtualenvs/autorag-tutorial-ko-sf4p_dcK-py3.11/lib/python3.11/site-packages/httpx/_client.py#1026\u001b\\\u001b[2m1026\u001b[0m\u001b]8;;\u001b\\\n",
       "\u001b[2;36m                    \u001b[0m         \u001b[4;94mhttps://api.upstage.ai/v1/solar/embeddings\u001b[0m \u001b[32m\"HTTP/1.1 200 OK\"\u001b[0m           \u001b[2m               \u001b[0m\n"
      ]
     },
     "metadata": {},
     "output_type": "display_data"
    },
    {
     "data": {
      "text/html": [
       "<pre style=\"white-space:pre;overflow-x:auto;line-height:normal;font-family:Menlo,'DejaVu Sans Mono',consolas,'Courier New',monospace\"><span style=\"color: #7fbfbf; text-decoration-color: #7fbfbf\">[07/12/24 15:47:20] </span><span style=\"color: #000080; text-decoration-color: #000080\">INFO    </span> <span style=\"font-weight: bold\">[</span>_client.py:<span style=\"color: #008080; text-decoration-color: #008080; font-weight: bold\">1026</span><span style=\"font-weight: bold\">]</span> &gt;&gt; HTTP Request: <span style=\"color: #808000; text-decoration-color: #808000; font-weight: bold\">POST</span>                                <a href=\"file:///Users/jeongseok/Library/Caches/pypoetry/virtualenvs/autorag-tutorial-ko-sf4p_dcK-py3.11/lib/python3.11/site-packages/httpx/_client.py\" target=\"_blank\"><span style=\"color: #7f7f7f; text-decoration-color: #7f7f7f\">_client.py</span></a><span style=\"color: #7f7f7f; text-decoration-color: #7f7f7f\">:</span><a href=\"file:///Users/jeongseok/Library/Caches/pypoetry/virtualenvs/autorag-tutorial-ko-sf4p_dcK-py3.11/lib/python3.11/site-packages/httpx/_client.py#1026\" target=\"_blank\"><span style=\"color: #7f7f7f; text-decoration-color: #7f7f7f\">1026</span></a>\n",
       "<span style=\"color: #7fbfbf; text-decoration-color: #7fbfbf\">                    </span>         <span style=\"color: #0000ff; text-decoration-color: #0000ff; text-decoration: underline\">https://api.upstage.ai/v1/solar/embeddings</span> <span style=\"color: #008000; text-decoration-color: #008000\">\"HTTP/1.1 200 OK\"</span>           <span style=\"color: #7f7f7f; text-decoration-color: #7f7f7f\">               </span>\n",
       "</pre>\n"
      ],
      "text/plain": [
       "\u001b[2;36m[07/12/24 15:47:20]\u001b[0m\u001b[2;36m \u001b[0m\u001b[34mINFO    \u001b[0m \u001b[1m[\u001b[0m_client.py:\u001b[1;36m1026\u001b[0m\u001b[1m]\u001b[0m >> HTTP Request: \u001b[1;33mPOST\u001b[0m                                \u001b]8;id=277544;file:///Users/jeongseok/Library/Caches/pypoetry/virtualenvs/autorag-tutorial-ko-sf4p_dcK-py3.11/lib/python3.11/site-packages/httpx/_client.py\u001b\\\u001b[2m_client.py\u001b[0m\u001b]8;;\u001b\\\u001b[2m:\u001b[0m\u001b]8;id=380403;file:///Users/jeongseok/Library/Caches/pypoetry/virtualenvs/autorag-tutorial-ko-sf4p_dcK-py3.11/lib/python3.11/site-packages/httpx/_client.py#1026\u001b\\\u001b[2m1026\u001b[0m\u001b]8;;\u001b\\\n",
       "\u001b[2;36m                    \u001b[0m         \u001b[4;94mhttps://api.upstage.ai/v1/solar/embeddings\u001b[0m \u001b[32m\"HTTP/1.1 200 OK\"\u001b[0m           \u001b[2m               \u001b[0m\n"
      ]
     },
     "metadata": {},
     "output_type": "display_data"
    },
    {
     "data": {
      "text/html": [
       "<pre style=\"white-space:pre;overflow-x:auto;line-height:normal;font-family:Menlo,'DejaVu Sans Mono',consolas,'Courier New',monospace\"><span style=\"color: #7fbfbf; text-decoration-color: #7fbfbf\">[07/12/24 15:47:21] </span><span style=\"color: #000080; text-decoration-color: #000080\">INFO    </span> <span style=\"font-weight: bold\">[</span>_client.py:<span style=\"color: #008080; text-decoration-color: #008080; font-weight: bold\">1026</span><span style=\"font-weight: bold\">]</span> &gt;&gt; HTTP Request: <span style=\"color: #808000; text-decoration-color: #808000; font-weight: bold\">POST</span>                                <a href=\"file:///Users/jeongseok/Library/Caches/pypoetry/virtualenvs/autorag-tutorial-ko-sf4p_dcK-py3.11/lib/python3.11/site-packages/httpx/_client.py\" target=\"_blank\"><span style=\"color: #7f7f7f; text-decoration-color: #7f7f7f\">_client.py</span></a><span style=\"color: #7f7f7f; text-decoration-color: #7f7f7f\">:</span><a href=\"file:///Users/jeongseok/Library/Caches/pypoetry/virtualenvs/autorag-tutorial-ko-sf4p_dcK-py3.11/lib/python3.11/site-packages/httpx/_client.py#1026\" target=\"_blank\"><span style=\"color: #7f7f7f; text-decoration-color: #7f7f7f\">1026</span></a>\n",
       "<span style=\"color: #7fbfbf; text-decoration-color: #7fbfbf\">                    </span>         <span style=\"color: #0000ff; text-decoration-color: #0000ff; text-decoration: underline\">https://api.upstage.ai/v1/solar/embeddings</span> <span style=\"color: #008000; text-decoration-color: #008000\">\"HTTP/1.1 200 OK\"</span>           <span style=\"color: #7f7f7f; text-decoration-color: #7f7f7f\">               </span>\n",
       "</pre>\n"
      ],
      "text/plain": [
       "\u001b[2;36m[07/12/24 15:47:21]\u001b[0m\u001b[2;36m \u001b[0m\u001b[34mINFO    \u001b[0m \u001b[1m[\u001b[0m_client.py:\u001b[1;36m1026\u001b[0m\u001b[1m]\u001b[0m >> HTTP Request: \u001b[1;33mPOST\u001b[0m                                \u001b]8;id=615847;file:///Users/jeongseok/Library/Caches/pypoetry/virtualenvs/autorag-tutorial-ko-sf4p_dcK-py3.11/lib/python3.11/site-packages/httpx/_client.py\u001b\\\u001b[2m_client.py\u001b[0m\u001b]8;;\u001b\\\u001b[2m:\u001b[0m\u001b]8;id=601651;file:///Users/jeongseok/Library/Caches/pypoetry/virtualenvs/autorag-tutorial-ko-sf4p_dcK-py3.11/lib/python3.11/site-packages/httpx/_client.py#1026\u001b\\\u001b[2m1026\u001b[0m\u001b]8;;\u001b\\\n",
       "\u001b[2;36m                    \u001b[0m         \u001b[4;94mhttps://api.upstage.ai/v1/solar/embeddings\u001b[0m \u001b[32m\"HTTP/1.1 200 OK\"\u001b[0m           \u001b[2m               \u001b[0m\n"
      ]
     },
     "metadata": {},
     "output_type": "display_data"
    },
    {
     "data": {
      "text/html": [
       "<pre style=\"white-space:pre;overflow-x:auto;line-height:normal;font-family:Menlo,'DejaVu Sans Mono',consolas,'Courier New',monospace\"><span style=\"color: #7fbfbf; text-decoration-color: #7fbfbf\">[07/12/24 15:47:22] </span><span style=\"color: #000080; text-decoration-color: #000080\">INFO    </span> <span style=\"font-weight: bold\">[</span>_client.py:<span style=\"color: #008080; text-decoration-color: #008080; font-weight: bold\">1026</span><span style=\"font-weight: bold\">]</span> &gt;&gt; HTTP Request: <span style=\"color: #808000; text-decoration-color: #808000; font-weight: bold\">POST</span>                                <a href=\"file:///Users/jeongseok/Library/Caches/pypoetry/virtualenvs/autorag-tutorial-ko-sf4p_dcK-py3.11/lib/python3.11/site-packages/httpx/_client.py\" target=\"_blank\"><span style=\"color: #7f7f7f; text-decoration-color: #7f7f7f\">_client.py</span></a><span style=\"color: #7f7f7f; text-decoration-color: #7f7f7f\">:</span><a href=\"file:///Users/jeongseok/Library/Caches/pypoetry/virtualenvs/autorag-tutorial-ko-sf4p_dcK-py3.11/lib/python3.11/site-packages/httpx/_client.py#1026\" target=\"_blank\"><span style=\"color: #7f7f7f; text-decoration-color: #7f7f7f\">1026</span></a>\n",
       "<span style=\"color: #7fbfbf; text-decoration-color: #7fbfbf\">                    </span>         <span style=\"color: #0000ff; text-decoration-color: #0000ff; text-decoration: underline\">https://api.upstage.ai/v1/solar/embeddings</span> <span style=\"color: #008000; text-decoration-color: #008000\">\"HTTP/1.1 200 OK\"</span>           <span style=\"color: #7f7f7f; text-decoration-color: #7f7f7f\">               </span>\n",
       "</pre>\n"
      ],
      "text/plain": [
       "\u001b[2;36m[07/12/24 15:47:22]\u001b[0m\u001b[2;36m \u001b[0m\u001b[34mINFO    \u001b[0m \u001b[1m[\u001b[0m_client.py:\u001b[1;36m1026\u001b[0m\u001b[1m]\u001b[0m >> HTTP Request: \u001b[1;33mPOST\u001b[0m                                \u001b]8;id=742062;file:///Users/jeongseok/Library/Caches/pypoetry/virtualenvs/autorag-tutorial-ko-sf4p_dcK-py3.11/lib/python3.11/site-packages/httpx/_client.py\u001b\\\u001b[2m_client.py\u001b[0m\u001b]8;;\u001b\\\u001b[2m:\u001b[0m\u001b]8;id=299974;file:///Users/jeongseok/Library/Caches/pypoetry/virtualenvs/autorag-tutorial-ko-sf4p_dcK-py3.11/lib/python3.11/site-packages/httpx/_client.py#1026\u001b\\\u001b[2m1026\u001b[0m\u001b]8;;\u001b\\\n",
       "\u001b[2;36m                    \u001b[0m         \u001b[4;94mhttps://api.upstage.ai/v1/solar/embeddings\u001b[0m \u001b[32m\"HTTP/1.1 200 OK\"\u001b[0m           \u001b[2m               \u001b[0m\n"
      ]
     },
     "metadata": {},
     "output_type": "display_data"
    },
    {
     "data": {
      "text/html": [
       "<pre style=\"white-space:pre;overflow-x:auto;line-height:normal;font-family:Menlo,'DejaVu Sans Mono',consolas,'Courier New',monospace\"><span style=\"color: #7fbfbf; text-decoration-color: #7fbfbf\">                    </span><span style=\"color: #000080; text-decoration-color: #000080\">INFO    </span> <span style=\"font-weight: bold\">[</span>_client.py:<span style=\"color: #008080; text-decoration-color: #008080; font-weight: bold\">1026</span><span style=\"font-weight: bold\">]</span> &gt;&gt; HTTP Request: <span style=\"color: #808000; text-decoration-color: #808000; font-weight: bold\">POST</span>                                <a href=\"file:///Users/jeongseok/Library/Caches/pypoetry/virtualenvs/autorag-tutorial-ko-sf4p_dcK-py3.11/lib/python3.11/site-packages/httpx/_client.py\" target=\"_blank\"><span style=\"color: #7f7f7f; text-decoration-color: #7f7f7f\">_client.py</span></a><span style=\"color: #7f7f7f; text-decoration-color: #7f7f7f\">:</span><a href=\"file:///Users/jeongseok/Library/Caches/pypoetry/virtualenvs/autorag-tutorial-ko-sf4p_dcK-py3.11/lib/python3.11/site-packages/httpx/_client.py#1026\" target=\"_blank\"><span style=\"color: #7f7f7f; text-decoration-color: #7f7f7f\">1026</span></a>\n",
       "<span style=\"color: #7fbfbf; text-decoration-color: #7fbfbf\">                    </span>         <span style=\"color: #0000ff; text-decoration-color: #0000ff; text-decoration: underline\">https://api.upstage.ai/v1/solar/embeddings</span> <span style=\"color: #008000; text-decoration-color: #008000\">\"HTTP/1.1 200 OK\"</span>           <span style=\"color: #7f7f7f; text-decoration-color: #7f7f7f\">               </span>\n",
       "</pre>\n"
      ],
      "text/plain": [
       "\u001b[2;36m                   \u001b[0m\u001b[2;36m \u001b[0m\u001b[34mINFO    \u001b[0m \u001b[1m[\u001b[0m_client.py:\u001b[1;36m1026\u001b[0m\u001b[1m]\u001b[0m >> HTTP Request: \u001b[1;33mPOST\u001b[0m                                \u001b]8;id=452690;file:///Users/jeongseok/Library/Caches/pypoetry/virtualenvs/autorag-tutorial-ko-sf4p_dcK-py3.11/lib/python3.11/site-packages/httpx/_client.py\u001b\\\u001b[2m_client.py\u001b[0m\u001b]8;;\u001b\\\u001b[2m:\u001b[0m\u001b]8;id=941745;file:///Users/jeongseok/Library/Caches/pypoetry/virtualenvs/autorag-tutorial-ko-sf4p_dcK-py3.11/lib/python3.11/site-packages/httpx/_client.py#1026\u001b\\\u001b[2m1026\u001b[0m\u001b]8;;\u001b\\\n",
       "\u001b[2;36m                    \u001b[0m         \u001b[4;94mhttps://api.upstage.ai/v1/solar/embeddings\u001b[0m \u001b[32m\"HTTP/1.1 200 OK\"\u001b[0m           \u001b[2m               \u001b[0m\n"
      ]
     },
     "metadata": {},
     "output_type": "display_data"
    },
    {
     "data": {
      "text/html": [
       "<pre style=\"white-space:pre;overflow-x:auto;line-height:normal;font-family:Menlo,'DejaVu Sans Mono',consolas,'Courier New',monospace\"><span style=\"color: #7fbfbf; text-decoration-color: #7fbfbf\">[07/12/24 15:47:23] </span><span style=\"color: #000080; text-decoration-color: #000080\">INFO    </span> <span style=\"font-weight: bold\">[</span>_client.py:<span style=\"color: #008080; text-decoration-color: #008080; font-weight: bold\">1026</span><span style=\"font-weight: bold\">]</span> &gt;&gt; HTTP Request: <span style=\"color: #808000; text-decoration-color: #808000; font-weight: bold\">POST</span>                                <a href=\"file:///Users/jeongseok/Library/Caches/pypoetry/virtualenvs/autorag-tutorial-ko-sf4p_dcK-py3.11/lib/python3.11/site-packages/httpx/_client.py\" target=\"_blank\"><span style=\"color: #7f7f7f; text-decoration-color: #7f7f7f\">_client.py</span></a><span style=\"color: #7f7f7f; text-decoration-color: #7f7f7f\">:</span><a href=\"file:///Users/jeongseok/Library/Caches/pypoetry/virtualenvs/autorag-tutorial-ko-sf4p_dcK-py3.11/lib/python3.11/site-packages/httpx/_client.py#1026\" target=\"_blank\"><span style=\"color: #7f7f7f; text-decoration-color: #7f7f7f\">1026</span></a>\n",
       "<span style=\"color: #7fbfbf; text-decoration-color: #7fbfbf\">                    </span>         <span style=\"color: #0000ff; text-decoration-color: #0000ff; text-decoration: underline\">https://api.upstage.ai/v1/solar/embeddings</span> <span style=\"color: #008000; text-decoration-color: #008000\">\"HTTP/1.1 200 OK\"</span>           <span style=\"color: #7f7f7f; text-decoration-color: #7f7f7f\">               </span>\n",
       "</pre>\n"
      ],
      "text/plain": [
       "\u001b[2;36m[07/12/24 15:47:23]\u001b[0m\u001b[2;36m \u001b[0m\u001b[34mINFO    \u001b[0m \u001b[1m[\u001b[0m_client.py:\u001b[1;36m1026\u001b[0m\u001b[1m]\u001b[0m >> HTTP Request: \u001b[1;33mPOST\u001b[0m                                \u001b]8;id=670657;file:///Users/jeongseok/Library/Caches/pypoetry/virtualenvs/autorag-tutorial-ko-sf4p_dcK-py3.11/lib/python3.11/site-packages/httpx/_client.py\u001b\\\u001b[2m_client.py\u001b[0m\u001b]8;;\u001b\\\u001b[2m:\u001b[0m\u001b]8;id=83720;file:///Users/jeongseok/Library/Caches/pypoetry/virtualenvs/autorag-tutorial-ko-sf4p_dcK-py3.11/lib/python3.11/site-packages/httpx/_client.py#1026\u001b\\\u001b[2m1026\u001b[0m\u001b]8;;\u001b\\\n",
       "\u001b[2;36m                    \u001b[0m         \u001b[4;94mhttps://api.upstage.ai/v1/solar/embeddings\u001b[0m \u001b[32m\"HTTP/1.1 200 OK\"\u001b[0m           \u001b[2m               \u001b[0m\n"
      ]
     },
     "metadata": {},
     "output_type": "display_data"
    },
    {
     "data": {
      "text/html": [
       "<pre style=\"white-space:pre;overflow-x:auto;line-height:normal;font-family:Menlo,'DejaVu Sans Mono',consolas,'Courier New',monospace\"><span style=\"color: #7fbfbf; text-decoration-color: #7fbfbf\">                    </span><span style=\"color: #000080; text-decoration-color: #000080\">INFO    </span> <span style=\"font-weight: bold\">[</span>_client.py:<span style=\"color: #008080; text-decoration-color: #008080; font-weight: bold\">1026</span><span style=\"font-weight: bold\">]</span> &gt;&gt; HTTP Request: <span style=\"color: #808000; text-decoration-color: #808000; font-weight: bold\">POST</span>                                <a href=\"file:///Users/jeongseok/Library/Caches/pypoetry/virtualenvs/autorag-tutorial-ko-sf4p_dcK-py3.11/lib/python3.11/site-packages/httpx/_client.py\" target=\"_blank\"><span style=\"color: #7f7f7f; text-decoration-color: #7f7f7f\">_client.py</span></a><span style=\"color: #7f7f7f; text-decoration-color: #7f7f7f\">:</span><a href=\"file:///Users/jeongseok/Library/Caches/pypoetry/virtualenvs/autorag-tutorial-ko-sf4p_dcK-py3.11/lib/python3.11/site-packages/httpx/_client.py#1026\" target=\"_blank\"><span style=\"color: #7f7f7f; text-decoration-color: #7f7f7f\">1026</span></a>\n",
       "<span style=\"color: #7fbfbf; text-decoration-color: #7fbfbf\">                    </span>         <span style=\"color: #0000ff; text-decoration-color: #0000ff; text-decoration: underline\">https://api.upstage.ai/v1/solar/embeddings</span> <span style=\"color: #008000; text-decoration-color: #008000\">\"HTTP/1.1 200 OK\"</span>           <span style=\"color: #7f7f7f; text-decoration-color: #7f7f7f\">               </span>\n",
       "</pre>\n"
      ],
      "text/plain": [
       "\u001b[2;36m                   \u001b[0m\u001b[2;36m \u001b[0m\u001b[34mINFO    \u001b[0m \u001b[1m[\u001b[0m_client.py:\u001b[1;36m1026\u001b[0m\u001b[1m]\u001b[0m >> HTTP Request: \u001b[1;33mPOST\u001b[0m                                \u001b]8;id=82926;file:///Users/jeongseok/Library/Caches/pypoetry/virtualenvs/autorag-tutorial-ko-sf4p_dcK-py3.11/lib/python3.11/site-packages/httpx/_client.py\u001b\\\u001b[2m_client.py\u001b[0m\u001b]8;;\u001b\\\u001b[2m:\u001b[0m\u001b]8;id=743278;file:///Users/jeongseok/Library/Caches/pypoetry/virtualenvs/autorag-tutorial-ko-sf4p_dcK-py3.11/lib/python3.11/site-packages/httpx/_client.py#1026\u001b\\\u001b[2m1026\u001b[0m\u001b]8;;\u001b\\\n",
       "\u001b[2;36m                    \u001b[0m         \u001b[4;94mhttps://api.upstage.ai/v1/solar/embeddings\u001b[0m \u001b[32m\"HTTP/1.1 200 OK\"\u001b[0m           \u001b[2m               \u001b[0m\n"
      ]
     },
     "metadata": {},
     "output_type": "display_data"
    },
    {
     "data": {
      "text/html": [
       "<pre style=\"white-space:pre;overflow-x:auto;line-height:normal;font-family:Menlo,'DejaVu Sans Mono',consolas,'Courier New',monospace\"><span style=\"color: #7fbfbf; text-decoration-color: #7fbfbf\">[07/12/24 15:47:24] </span><span style=\"color: #000080; text-decoration-color: #000080\">INFO    </span> <span style=\"font-weight: bold\">[</span>_client.py:<span style=\"color: #008080; text-decoration-color: #008080; font-weight: bold\">1026</span><span style=\"font-weight: bold\">]</span> &gt;&gt; HTTP Request: <span style=\"color: #808000; text-decoration-color: #808000; font-weight: bold\">POST</span>                                <a href=\"file:///Users/jeongseok/Library/Caches/pypoetry/virtualenvs/autorag-tutorial-ko-sf4p_dcK-py3.11/lib/python3.11/site-packages/httpx/_client.py\" target=\"_blank\"><span style=\"color: #7f7f7f; text-decoration-color: #7f7f7f\">_client.py</span></a><span style=\"color: #7f7f7f; text-decoration-color: #7f7f7f\">:</span><a href=\"file:///Users/jeongseok/Library/Caches/pypoetry/virtualenvs/autorag-tutorial-ko-sf4p_dcK-py3.11/lib/python3.11/site-packages/httpx/_client.py#1026\" target=\"_blank\"><span style=\"color: #7f7f7f; text-decoration-color: #7f7f7f\">1026</span></a>\n",
       "<span style=\"color: #7fbfbf; text-decoration-color: #7fbfbf\">                    </span>         <span style=\"color: #0000ff; text-decoration-color: #0000ff; text-decoration: underline\">https://api.upstage.ai/v1/solar/embeddings</span> <span style=\"color: #008000; text-decoration-color: #008000\">\"HTTP/1.1 200 OK\"</span>           <span style=\"color: #7f7f7f; text-decoration-color: #7f7f7f\">               </span>\n",
       "</pre>\n"
      ],
      "text/plain": [
       "\u001b[2;36m[07/12/24 15:47:24]\u001b[0m\u001b[2;36m \u001b[0m\u001b[34mINFO    \u001b[0m \u001b[1m[\u001b[0m_client.py:\u001b[1;36m1026\u001b[0m\u001b[1m]\u001b[0m >> HTTP Request: \u001b[1;33mPOST\u001b[0m                                \u001b]8;id=236907;file:///Users/jeongseok/Library/Caches/pypoetry/virtualenvs/autorag-tutorial-ko-sf4p_dcK-py3.11/lib/python3.11/site-packages/httpx/_client.py\u001b\\\u001b[2m_client.py\u001b[0m\u001b]8;;\u001b\\\u001b[2m:\u001b[0m\u001b]8;id=408751;file:///Users/jeongseok/Library/Caches/pypoetry/virtualenvs/autorag-tutorial-ko-sf4p_dcK-py3.11/lib/python3.11/site-packages/httpx/_client.py#1026\u001b\\\u001b[2m1026\u001b[0m\u001b]8;;\u001b\\\n",
       "\u001b[2;36m                    \u001b[0m         \u001b[4;94mhttps://api.upstage.ai/v1/solar/embeddings\u001b[0m \u001b[32m\"HTTP/1.1 200 OK\"\u001b[0m           \u001b[2m               \u001b[0m\n"
      ]
     },
     "metadata": {},
     "output_type": "display_data"
    },
    {
     "data": {
      "text/html": [
       "<pre style=\"white-space:pre;overflow-x:auto;line-height:normal;font-family:Menlo,'DejaVu Sans Mono',consolas,'Courier New',monospace\"><span style=\"color: #7fbfbf; text-decoration-color: #7fbfbf\">[07/12/24 15:47:25] </span><span style=\"color: #000080; text-decoration-color: #000080\">INFO    </span> <span style=\"font-weight: bold\">[</span>_client.py:<span style=\"color: #008080; text-decoration-color: #008080; font-weight: bold\">1026</span><span style=\"font-weight: bold\">]</span> &gt;&gt; HTTP Request: <span style=\"color: #808000; text-decoration-color: #808000; font-weight: bold\">POST</span>                                <a href=\"file:///Users/jeongseok/Library/Caches/pypoetry/virtualenvs/autorag-tutorial-ko-sf4p_dcK-py3.11/lib/python3.11/site-packages/httpx/_client.py\" target=\"_blank\"><span style=\"color: #7f7f7f; text-decoration-color: #7f7f7f\">_client.py</span></a><span style=\"color: #7f7f7f; text-decoration-color: #7f7f7f\">:</span><a href=\"file:///Users/jeongseok/Library/Caches/pypoetry/virtualenvs/autorag-tutorial-ko-sf4p_dcK-py3.11/lib/python3.11/site-packages/httpx/_client.py#1026\" target=\"_blank\"><span style=\"color: #7f7f7f; text-decoration-color: #7f7f7f\">1026</span></a>\n",
       "<span style=\"color: #7fbfbf; text-decoration-color: #7fbfbf\">                    </span>         <span style=\"color: #0000ff; text-decoration-color: #0000ff; text-decoration: underline\">https://api.upstage.ai/v1/solar/embeddings</span> <span style=\"color: #008000; text-decoration-color: #008000\">\"HTTP/1.1 200 OK\"</span>           <span style=\"color: #7f7f7f; text-decoration-color: #7f7f7f\">               </span>\n",
       "</pre>\n"
      ],
      "text/plain": [
       "\u001b[2;36m[07/12/24 15:47:25]\u001b[0m\u001b[2;36m \u001b[0m\u001b[34mINFO    \u001b[0m \u001b[1m[\u001b[0m_client.py:\u001b[1;36m1026\u001b[0m\u001b[1m]\u001b[0m >> HTTP Request: \u001b[1;33mPOST\u001b[0m                                \u001b]8;id=522042;file:///Users/jeongseok/Library/Caches/pypoetry/virtualenvs/autorag-tutorial-ko-sf4p_dcK-py3.11/lib/python3.11/site-packages/httpx/_client.py\u001b\\\u001b[2m_client.py\u001b[0m\u001b]8;;\u001b\\\u001b[2m:\u001b[0m\u001b]8;id=744779;file:///Users/jeongseok/Library/Caches/pypoetry/virtualenvs/autorag-tutorial-ko-sf4p_dcK-py3.11/lib/python3.11/site-packages/httpx/_client.py#1026\u001b\\\u001b[2m1026\u001b[0m\u001b]8;;\u001b\\\n",
       "\u001b[2;36m                    \u001b[0m         \u001b[4;94mhttps://api.upstage.ai/v1/solar/embeddings\u001b[0m \u001b[32m\"HTTP/1.1 200 OK\"\u001b[0m           \u001b[2m               \u001b[0m\n"
      ]
     },
     "metadata": {},
     "output_type": "display_data"
    },
    {
     "data": {
      "text/html": [
       "<pre style=\"white-space:pre;overflow-x:auto;line-height:normal;font-family:Menlo,'DejaVu Sans Mono',consolas,'Courier New',monospace\"><span style=\"color: #7fbfbf; text-decoration-color: #7fbfbf\">                    </span><span style=\"color: #000080; text-decoration-color: #000080\">INFO    </span> <span style=\"font-weight: bold\">[</span>_client.py:<span style=\"color: #008080; text-decoration-color: #008080; font-weight: bold\">1026</span><span style=\"font-weight: bold\">]</span> &gt;&gt; HTTP Request: <span style=\"color: #808000; text-decoration-color: #808000; font-weight: bold\">POST</span>                                <a href=\"file:///Users/jeongseok/Library/Caches/pypoetry/virtualenvs/autorag-tutorial-ko-sf4p_dcK-py3.11/lib/python3.11/site-packages/httpx/_client.py\" target=\"_blank\"><span style=\"color: #7f7f7f; text-decoration-color: #7f7f7f\">_client.py</span></a><span style=\"color: #7f7f7f; text-decoration-color: #7f7f7f\">:</span><a href=\"file:///Users/jeongseok/Library/Caches/pypoetry/virtualenvs/autorag-tutorial-ko-sf4p_dcK-py3.11/lib/python3.11/site-packages/httpx/_client.py#1026\" target=\"_blank\"><span style=\"color: #7f7f7f; text-decoration-color: #7f7f7f\">1026</span></a>\n",
       "<span style=\"color: #7fbfbf; text-decoration-color: #7fbfbf\">                    </span>         <span style=\"color: #0000ff; text-decoration-color: #0000ff; text-decoration: underline\">https://api.upstage.ai/v1/solar/embeddings</span> <span style=\"color: #008000; text-decoration-color: #008000\">\"HTTP/1.1 200 OK\"</span>           <span style=\"color: #7f7f7f; text-decoration-color: #7f7f7f\">               </span>\n",
       "</pre>\n"
      ],
      "text/plain": [
       "\u001b[2;36m                   \u001b[0m\u001b[2;36m \u001b[0m\u001b[34mINFO    \u001b[0m \u001b[1m[\u001b[0m_client.py:\u001b[1;36m1026\u001b[0m\u001b[1m]\u001b[0m >> HTTP Request: \u001b[1;33mPOST\u001b[0m                                \u001b]8;id=849733;file:///Users/jeongseok/Library/Caches/pypoetry/virtualenvs/autorag-tutorial-ko-sf4p_dcK-py3.11/lib/python3.11/site-packages/httpx/_client.py\u001b\\\u001b[2m_client.py\u001b[0m\u001b]8;;\u001b\\\u001b[2m:\u001b[0m\u001b]8;id=114746;file:///Users/jeongseok/Library/Caches/pypoetry/virtualenvs/autorag-tutorial-ko-sf4p_dcK-py3.11/lib/python3.11/site-packages/httpx/_client.py#1026\u001b\\\u001b[2m1026\u001b[0m\u001b]8;;\u001b\\\n",
       "\u001b[2;36m                    \u001b[0m         \u001b[4;94mhttps://api.upstage.ai/v1/solar/embeddings\u001b[0m \u001b[32m\"HTTP/1.1 200 OK\"\u001b[0m           \u001b[2m               \u001b[0m\n"
      ]
     },
     "metadata": {},
     "output_type": "display_data"
    },
    {
     "data": {
      "text/html": [
       "<pre style=\"white-space:pre;overflow-x:auto;line-height:normal;font-family:Menlo,'DejaVu Sans Mono',consolas,'Courier New',monospace\"><span style=\"color: #7fbfbf; text-decoration-color: #7fbfbf\">[07/12/24 15:47:26] </span><span style=\"color: #000080; text-decoration-color: #000080\">INFO    </span> <span style=\"font-weight: bold\">[</span>_client.py:<span style=\"color: #008080; text-decoration-color: #008080; font-weight: bold\">1026</span><span style=\"font-weight: bold\">]</span> &gt;&gt; HTTP Request: <span style=\"color: #808000; text-decoration-color: #808000; font-weight: bold\">POST</span>                                <a href=\"file:///Users/jeongseok/Library/Caches/pypoetry/virtualenvs/autorag-tutorial-ko-sf4p_dcK-py3.11/lib/python3.11/site-packages/httpx/_client.py\" target=\"_blank\"><span style=\"color: #7f7f7f; text-decoration-color: #7f7f7f\">_client.py</span></a><span style=\"color: #7f7f7f; text-decoration-color: #7f7f7f\">:</span><a href=\"file:///Users/jeongseok/Library/Caches/pypoetry/virtualenvs/autorag-tutorial-ko-sf4p_dcK-py3.11/lib/python3.11/site-packages/httpx/_client.py#1026\" target=\"_blank\"><span style=\"color: #7f7f7f; text-decoration-color: #7f7f7f\">1026</span></a>\n",
       "<span style=\"color: #7fbfbf; text-decoration-color: #7fbfbf\">                    </span>         <span style=\"color: #0000ff; text-decoration-color: #0000ff; text-decoration: underline\">https://api.upstage.ai/v1/solar/embeddings</span> <span style=\"color: #008000; text-decoration-color: #008000\">\"HTTP/1.1 200 OK\"</span>           <span style=\"color: #7f7f7f; text-decoration-color: #7f7f7f\">               </span>\n",
       "</pre>\n"
      ],
      "text/plain": [
       "\u001b[2;36m[07/12/24 15:47:26]\u001b[0m\u001b[2;36m \u001b[0m\u001b[34mINFO    \u001b[0m \u001b[1m[\u001b[0m_client.py:\u001b[1;36m1026\u001b[0m\u001b[1m]\u001b[0m >> HTTP Request: \u001b[1;33mPOST\u001b[0m                                \u001b]8;id=780922;file:///Users/jeongseok/Library/Caches/pypoetry/virtualenvs/autorag-tutorial-ko-sf4p_dcK-py3.11/lib/python3.11/site-packages/httpx/_client.py\u001b\\\u001b[2m_client.py\u001b[0m\u001b]8;;\u001b\\\u001b[2m:\u001b[0m\u001b]8;id=200008;file:///Users/jeongseok/Library/Caches/pypoetry/virtualenvs/autorag-tutorial-ko-sf4p_dcK-py3.11/lib/python3.11/site-packages/httpx/_client.py#1026\u001b\\\u001b[2m1026\u001b[0m\u001b]8;;\u001b\\\n",
       "\u001b[2;36m                    \u001b[0m         \u001b[4;94mhttps://api.upstage.ai/v1/solar/embeddings\u001b[0m \u001b[32m\"HTTP/1.1 200 OK\"\u001b[0m           \u001b[2m               \u001b[0m\n"
      ]
     },
     "metadata": {},
     "output_type": "display_data"
    },
    {
     "data": {
      "text/html": [
       "<pre style=\"white-space:pre;overflow-x:auto;line-height:normal;font-family:Menlo,'DejaVu Sans Mono',consolas,'Courier New',monospace\"><span style=\"color: #7fbfbf; text-decoration-color: #7fbfbf\">                    </span><span style=\"color: #000080; text-decoration-color: #000080\">INFO    </span> <span style=\"font-weight: bold\">[</span>_client.py:<span style=\"color: #008080; text-decoration-color: #008080; font-weight: bold\">1026</span><span style=\"font-weight: bold\">]</span> &gt;&gt; HTTP Request: <span style=\"color: #808000; text-decoration-color: #808000; font-weight: bold\">POST</span>                                <a href=\"file:///Users/jeongseok/Library/Caches/pypoetry/virtualenvs/autorag-tutorial-ko-sf4p_dcK-py3.11/lib/python3.11/site-packages/httpx/_client.py\" target=\"_blank\"><span style=\"color: #7f7f7f; text-decoration-color: #7f7f7f\">_client.py</span></a><span style=\"color: #7f7f7f; text-decoration-color: #7f7f7f\">:</span><a href=\"file:///Users/jeongseok/Library/Caches/pypoetry/virtualenvs/autorag-tutorial-ko-sf4p_dcK-py3.11/lib/python3.11/site-packages/httpx/_client.py#1026\" target=\"_blank\"><span style=\"color: #7f7f7f; text-decoration-color: #7f7f7f\">1026</span></a>\n",
       "<span style=\"color: #7fbfbf; text-decoration-color: #7fbfbf\">                    </span>         <span style=\"color: #0000ff; text-decoration-color: #0000ff; text-decoration: underline\">https://api.upstage.ai/v1/solar/embeddings</span> <span style=\"color: #008000; text-decoration-color: #008000\">\"HTTP/1.1 200 OK\"</span>           <span style=\"color: #7f7f7f; text-decoration-color: #7f7f7f\">               </span>\n",
       "</pre>\n"
      ],
      "text/plain": [
       "\u001b[2;36m                   \u001b[0m\u001b[2;36m \u001b[0m\u001b[34mINFO    \u001b[0m \u001b[1m[\u001b[0m_client.py:\u001b[1;36m1026\u001b[0m\u001b[1m]\u001b[0m >> HTTP Request: \u001b[1;33mPOST\u001b[0m                                \u001b]8;id=129413;file:///Users/jeongseok/Library/Caches/pypoetry/virtualenvs/autorag-tutorial-ko-sf4p_dcK-py3.11/lib/python3.11/site-packages/httpx/_client.py\u001b\\\u001b[2m_client.py\u001b[0m\u001b]8;;\u001b\\\u001b[2m:\u001b[0m\u001b]8;id=30898;file:///Users/jeongseok/Library/Caches/pypoetry/virtualenvs/autorag-tutorial-ko-sf4p_dcK-py3.11/lib/python3.11/site-packages/httpx/_client.py#1026\u001b\\\u001b[2m1026\u001b[0m\u001b]8;;\u001b\\\n",
       "\u001b[2;36m                    \u001b[0m         \u001b[4;94mhttps://api.upstage.ai/v1/solar/embeddings\u001b[0m \u001b[32m\"HTTP/1.1 200 OK\"\u001b[0m           \u001b[2m               \u001b[0m\n"
      ]
     },
     "metadata": {},
     "output_type": "display_data"
    },
    {
     "data": {
      "text/html": [
       "<pre style=\"white-space:pre;overflow-x:auto;line-height:normal;font-family:Menlo,'DejaVu Sans Mono',consolas,'Courier New',monospace\"><span style=\"color: #7fbfbf; text-decoration-color: #7fbfbf\">[07/12/24 15:47:27] </span><span style=\"color: #000080; text-decoration-color: #000080\">INFO    </span> <span style=\"font-weight: bold\">[</span>_client.py:<span style=\"color: #008080; text-decoration-color: #008080; font-weight: bold\">1026</span><span style=\"font-weight: bold\">]</span> &gt;&gt; HTTP Request: <span style=\"color: #808000; text-decoration-color: #808000; font-weight: bold\">POST</span>                                <a href=\"file:///Users/jeongseok/Library/Caches/pypoetry/virtualenvs/autorag-tutorial-ko-sf4p_dcK-py3.11/lib/python3.11/site-packages/httpx/_client.py\" target=\"_blank\"><span style=\"color: #7f7f7f; text-decoration-color: #7f7f7f\">_client.py</span></a><span style=\"color: #7f7f7f; text-decoration-color: #7f7f7f\">:</span><a href=\"file:///Users/jeongseok/Library/Caches/pypoetry/virtualenvs/autorag-tutorial-ko-sf4p_dcK-py3.11/lib/python3.11/site-packages/httpx/_client.py#1026\" target=\"_blank\"><span style=\"color: #7f7f7f; text-decoration-color: #7f7f7f\">1026</span></a>\n",
       "<span style=\"color: #7fbfbf; text-decoration-color: #7fbfbf\">                    </span>         <span style=\"color: #0000ff; text-decoration-color: #0000ff; text-decoration: underline\">https://api.upstage.ai/v1/solar/embeddings</span> <span style=\"color: #008000; text-decoration-color: #008000\">\"HTTP/1.1 200 OK\"</span>           <span style=\"color: #7f7f7f; text-decoration-color: #7f7f7f\">               </span>\n",
       "</pre>\n"
      ],
      "text/plain": [
       "\u001b[2;36m[07/12/24 15:47:27]\u001b[0m\u001b[2;36m \u001b[0m\u001b[34mINFO    \u001b[0m \u001b[1m[\u001b[0m_client.py:\u001b[1;36m1026\u001b[0m\u001b[1m]\u001b[0m >> HTTP Request: \u001b[1;33mPOST\u001b[0m                                \u001b]8;id=359609;file:///Users/jeongseok/Library/Caches/pypoetry/virtualenvs/autorag-tutorial-ko-sf4p_dcK-py3.11/lib/python3.11/site-packages/httpx/_client.py\u001b\\\u001b[2m_client.py\u001b[0m\u001b]8;;\u001b\\\u001b[2m:\u001b[0m\u001b]8;id=839530;file:///Users/jeongseok/Library/Caches/pypoetry/virtualenvs/autorag-tutorial-ko-sf4p_dcK-py3.11/lib/python3.11/site-packages/httpx/_client.py#1026\u001b\\\u001b[2m1026\u001b[0m\u001b]8;;\u001b\\\n",
       "\u001b[2;36m                    \u001b[0m         \u001b[4;94mhttps://api.upstage.ai/v1/solar/embeddings\u001b[0m \u001b[32m\"HTTP/1.1 200 OK\"\u001b[0m           \u001b[2m               \u001b[0m\n"
      ]
     },
     "metadata": {},
     "output_type": "display_data"
    },
    {
     "data": {
      "text/html": [
       "<pre style=\"white-space:pre;overflow-x:auto;line-height:normal;font-family:Menlo,'DejaVu Sans Mono',consolas,'Courier New',monospace\"><span style=\"color: #7fbfbf; text-decoration-color: #7fbfbf\">[07/12/24 15:47:28] </span><span style=\"color: #000080; text-decoration-color: #000080\">INFO    </span> <span style=\"font-weight: bold\">[</span>_client.py:<span style=\"color: #008080; text-decoration-color: #008080; font-weight: bold\">1026</span><span style=\"font-weight: bold\">]</span> &gt;&gt; HTTP Request: <span style=\"color: #808000; text-decoration-color: #808000; font-weight: bold\">POST</span>                                <a href=\"file:///Users/jeongseok/Library/Caches/pypoetry/virtualenvs/autorag-tutorial-ko-sf4p_dcK-py3.11/lib/python3.11/site-packages/httpx/_client.py\" target=\"_blank\"><span style=\"color: #7f7f7f; text-decoration-color: #7f7f7f\">_client.py</span></a><span style=\"color: #7f7f7f; text-decoration-color: #7f7f7f\">:</span><a href=\"file:///Users/jeongseok/Library/Caches/pypoetry/virtualenvs/autorag-tutorial-ko-sf4p_dcK-py3.11/lib/python3.11/site-packages/httpx/_client.py#1026\" target=\"_blank\"><span style=\"color: #7f7f7f; text-decoration-color: #7f7f7f\">1026</span></a>\n",
       "<span style=\"color: #7fbfbf; text-decoration-color: #7fbfbf\">                    </span>         <span style=\"color: #0000ff; text-decoration-color: #0000ff; text-decoration: underline\">https://api.upstage.ai/v1/solar/embeddings</span> <span style=\"color: #008000; text-decoration-color: #008000\">\"HTTP/1.1 200 OK\"</span>           <span style=\"color: #7f7f7f; text-decoration-color: #7f7f7f\">               </span>\n",
       "</pre>\n"
      ],
      "text/plain": [
       "\u001b[2;36m[07/12/24 15:47:28]\u001b[0m\u001b[2;36m \u001b[0m\u001b[34mINFO    \u001b[0m \u001b[1m[\u001b[0m_client.py:\u001b[1;36m1026\u001b[0m\u001b[1m]\u001b[0m >> HTTP Request: \u001b[1;33mPOST\u001b[0m                                \u001b]8;id=539525;file:///Users/jeongseok/Library/Caches/pypoetry/virtualenvs/autorag-tutorial-ko-sf4p_dcK-py3.11/lib/python3.11/site-packages/httpx/_client.py\u001b\\\u001b[2m_client.py\u001b[0m\u001b]8;;\u001b\\\u001b[2m:\u001b[0m\u001b]8;id=409341;file:///Users/jeongseok/Library/Caches/pypoetry/virtualenvs/autorag-tutorial-ko-sf4p_dcK-py3.11/lib/python3.11/site-packages/httpx/_client.py#1026\u001b\\\u001b[2m1026\u001b[0m\u001b]8;;\u001b\\\n",
       "\u001b[2;36m                    \u001b[0m         \u001b[4;94mhttps://api.upstage.ai/v1/solar/embeddings\u001b[0m \u001b[32m\"HTTP/1.1 200 OK\"\u001b[0m           \u001b[2m               \u001b[0m\n"
      ]
     },
     "metadata": {},
     "output_type": "display_data"
    },
    {
     "data": {
      "text/html": [
       "<pre style=\"white-space:pre;overflow-x:auto;line-height:normal;font-family:Menlo,'DejaVu Sans Mono',consolas,'Courier New',monospace\"><span style=\"color: #7fbfbf; text-decoration-color: #7fbfbf\">                    </span><span style=\"color: #000080; text-decoration-color: #000080\">INFO    </span> <span style=\"font-weight: bold\">[</span>_client.py:<span style=\"color: #008080; text-decoration-color: #008080; font-weight: bold\">1026</span><span style=\"font-weight: bold\">]</span> &gt;&gt; HTTP Request: <span style=\"color: #808000; text-decoration-color: #808000; font-weight: bold\">POST</span>                                <a href=\"file:///Users/jeongseok/Library/Caches/pypoetry/virtualenvs/autorag-tutorial-ko-sf4p_dcK-py3.11/lib/python3.11/site-packages/httpx/_client.py\" target=\"_blank\"><span style=\"color: #7f7f7f; text-decoration-color: #7f7f7f\">_client.py</span></a><span style=\"color: #7f7f7f; text-decoration-color: #7f7f7f\">:</span><a href=\"file:///Users/jeongseok/Library/Caches/pypoetry/virtualenvs/autorag-tutorial-ko-sf4p_dcK-py3.11/lib/python3.11/site-packages/httpx/_client.py#1026\" target=\"_blank\"><span style=\"color: #7f7f7f; text-decoration-color: #7f7f7f\">1026</span></a>\n",
       "<span style=\"color: #7fbfbf; text-decoration-color: #7fbfbf\">                    </span>         <span style=\"color: #0000ff; text-decoration-color: #0000ff; text-decoration: underline\">https://api.upstage.ai/v1/solar/embeddings</span> <span style=\"color: #008000; text-decoration-color: #008000\">\"HTTP/1.1 200 OK\"</span>           <span style=\"color: #7f7f7f; text-decoration-color: #7f7f7f\">               </span>\n",
       "</pre>\n"
      ],
      "text/plain": [
       "\u001b[2;36m                   \u001b[0m\u001b[2;36m \u001b[0m\u001b[34mINFO    \u001b[0m \u001b[1m[\u001b[0m_client.py:\u001b[1;36m1026\u001b[0m\u001b[1m]\u001b[0m >> HTTP Request: \u001b[1;33mPOST\u001b[0m                                \u001b]8;id=902870;file:///Users/jeongseok/Library/Caches/pypoetry/virtualenvs/autorag-tutorial-ko-sf4p_dcK-py3.11/lib/python3.11/site-packages/httpx/_client.py\u001b\\\u001b[2m_client.py\u001b[0m\u001b]8;;\u001b\\\u001b[2m:\u001b[0m\u001b]8;id=948461;file:///Users/jeongseok/Library/Caches/pypoetry/virtualenvs/autorag-tutorial-ko-sf4p_dcK-py3.11/lib/python3.11/site-packages/httpx/_client.py#1026\u001b\\\u001b[2m1026\u001b[0m\u001b]8;;\u001b\\\n",
       "\u001b[2;36m                    \u001b[0m         \u001b[4;94mhttps://api.upstage.ai/v1/solar/embeddings\u001b[0m \u001b[32m\"HTTP/1.1 200 OK\"\u001b[0m           \u001b[2m               \u001b[0m\n"
      ]
     },
     "metadata": {},
     "output_type": "display_data"
    },
    {
     "data": {
      "text/html": [
       "<pre style=\"white-space:pre;overflow-x:auto;line-height:normal;font-family:Menlo,'DejaVu Sans Mono',consolas,'Courier New',monospace\"><span style=\"color: #7fbfbf; text-decoration-color: #7fbfbf\">[07/12/24 15:47:29] </span><span style=\"color: #000080; text-decoration-color: #000080\">INFO    </span> <span style=\"font-weight: bold\">[</span>_client.py:<span style=\"color: #008080; text-decoration-color: #008080; font-weight: bold\">1026</span><span style=\"font-weight: bold\">]</span> &gt;&gt; HTTP Request: <span style=\"color: #808000; text-decoration-color: #808000; font-weight: bold\">POST</span>                                <a href=\"file:///Users/jeongseok/Library/Caches/pypoetry/virtualenvs/autorag-tutorial-ko-sf4p_dcK-py3.11/lib/python3.11/site-packages/httpx/_client.py\" target=\"_blank\"><span style=\"color: #7f7f7f; text-decoration-color: #7f7f7f\">_client.py</span></a><span style=\"color: #7f7f7f; text-decoration-color: #7f7f7f\">:</span><a href=\"file:///Users/jeongseok/Library/Caches/pypoetry/virtualenvs/autorag-tutorial-ko-sf4p_dcK-py3.11/lib/python3.11/site-packages/httpx/_client.py#1026\" target=\"_blank\"><span style=\"color: #7f7f7f; text-decoration-color: #7f7f7f\">1026</span></a>\n",
       "<span style=\"color: #7fbfbf; text-decoration-color: #7fbfbf\">                    </span>         <span style=\"color: #0000ff; text-decoration-color: #0000ff; text-decoration: underline\">https://api.upstage.ai/v1/solar/embeddings</span> <span style=\"color: #008000; text-decoration-color: #008000\">\"HTTP/1.1 200 OK\"</span>           <span style=\"color: #7f7f7f; text-decoration-color: #7f7f7f\">               </span>\n",
       "</pre>\n"
      ],
      "text/plain": [
       "\u001b[2;36m[07/12/24 15:47:29]\u001b[0m\u001b[2;36m \u001b[0m\u001b[34mINFO    \u001b[0m \u001b[1m[\u001b[0m_client.py:\u001b[1;36m1026\u001b[0m\u001b[1m]\u001b[0m >> HTTP Request: \u001b[1;33mPOST\u001b[0m                                \u001b]8;id=702050;file:///Users/jeongseok/Library/Caches/pypoetry/virtualenvs/autorag-tutorial-ko-sf4p_dcK-py3.11/lib/python3.11/site-packages/httpx/_client.py\u001b\\\u001b[2m_client.py\u001b[0m\u001b]8;;\u001b\\\u001b[2m:\u001b[0m\u001b]8;id=289698;file:///Users/jeongseok/Library/Caches/pypoetry/virtualenvs/autorag-tutorial-ko-sf4p_dcK-py3.11/lib/python3.11/site-packages/httpx/_client.py#1026\u001b\\\u001b[2m1026\u001b[0m\u001b]8;;\u001b\\\n",
       "\u001b[2;36m                    \u001b[0m         \u001b[4;94mhttps://api.upstage.ai/v1/solar/embeddings\u001b[0m \u001b[32m\"HTTP/1.1 200 OK\"\u001b[0m           \u001b[2m               \u001b[0m\n"
      ]
     },
     "metadata": {},
     "output_type": "display_data"
    },
    {
     "data": {
      "text/html": [
       "<pre style=\"white-space:pre;overflow-x:auto;line-height:normal;font-family:Menlo,'DejaVu Sans Mono',consolas,'Courier New',monospace\"><span style=\"color: #7fbfbf; text-decoration-color: #7fbfbf\">                    </span><span style=\"color: #000080; text-decoration-color: #000080\">INFO    </span> <span style=\"font-weight: bold\">[</span>_client.py:<span style=\"color: #008080; text-decoration-color: #008080; font-weight: bold\">1026</span><span style=\"font-weight: bold\">]</span> &gt;&gt; HTTP Request: <span style=\"color: #808000; text-decoration-color: #808000; font-weight: bold\">POST</span>                                <a href=\"file:///Users/jeongseok/Library/Caches/pypoetry/virtualenvs/autorag-tutorial-ko-sf4p_dcK-py3.11/lib/python3.11/site-packages/httpx/_client.py\" target=\"_blank\"><span style=\"color: #7f7f7f; text-decoration-color: #7f7f7f\">_client.py</span></a><span style=\"color: #7f7f7f; text-decoration-color: #7f7f7f\">:</span><a href=\"file:///Users/jeongseok/Library/Caches/pypoetry/virtualenvs/autorag-tutorial-ko-sf4p_dcK-py3.11/lib/python3.11/site-packages/httpx/_client.py#1026\" target=\"_blank\"><span style=\"color: #7f7f7f; text-decoration-color: #7f7f7f\">1026</span></a>\n",
       "<span style=\"color: #7fbfbf; text-decoration-color: #7fbfbf\">                    </span>         <span style=\"color: #0000ff; text-decoration-color: #0000ff; text-decoration: underline\">https://api.upstage.ai/v1/solar/embeddings</span> <span style=\"color: #008000; text-decoration-color: #008000\">\"HTTP/1.1 200 OK\"</span>           <span style=\"color: #7f7f7f; text-decoration-color: #7f7f7f\">               </span>\n",
       "</pre>\n"
      ],
      "text/plain": [
       "\u001b[2;36m                   \u001b[0m\u001b[2;36m \u001b[0m\u001b[34mINFO    \u001b[0m \u001b[1m[\u001b[0m_client.py:\u001b[1;36m1026\u001b[0m\u001b[1m]\u001b[0m >> HTTP Request: \u001b[1;33mPOST\u001b[0m                                \u001b]8;id=802293;file:///Users/jeongseok/Library/Caches/pypoetry/virtualenvs/autorag-tutorial-ko-sf4p_dcK-py3.11/lib/python3.11/site-packages/httpx/_client.py\u001b\\\u001b[2m_client.py\u001b[0m\u001b]8;;\u001b\\\u001b[2m:\u001b[0m\u001b]8;id=713776;file:///Users/jeongseok/Library/Caches/pypoetry/virtualenvs/autorag-tutorial-ko-sf4p_dcK-py3.11/lib/python3.11/site-packages/httpx/_client.py#1026\u001b\\\u001b[2m1026\u001b[0m\u001b]8;;\u001b\\\n",
       "\u001b[2;36m                    \u001b[0m         \u001b[4;94mhttps://api.upstage.ai/v1/solar/embeddings\u001b[0m \u001b[32m\"HTTP/1.1 200 OK\"\u001b[0m           \u001b[2m               \u001b[0m\n"
      ]
     },
     "metadata": {},
     "output_type": "display_data"
    },
    {
     "data": {
      "text/html": [
       "<pre style=\"white-space:pre;overflow-x:auto;line-height:normal;font-family:Menlo,'DejaVu Sans Mono',consolas,'Courier New',monospace\"><span style=\"color: #7fbfbf; text-decoration-color: #7fbfbf\">[07/12/24 15:47:30] </span><span style=\"color: #000080; text-decoration-color: #000080\">INFO    </span> <span style=\"font-weight: bold\">[</span>_client.py:<span style=\"color: #008080; text-decoration-color: #008080; font-weight: bold\">1026</span><span style=\"font-weight: bold\">]</span> &gt;&gt; HTTP Request: <span style=\"color: #808000; text-decoration-color: #808000; font-weight: bold\">POST</span>                                <a href=\"file:///Users/jeongseok/Library/Caches/pypoetry/virtualenvs/autorag-tutorial-ko-sf4p_dcK-py3.11/lib/python3.11/site-packages/httpx/_client.py\" target=\"_blank\"><span style=\"color: #7f7f7f; text-decoration-color: #7f7f7f\">_client.py</span></a><span style=\"color: #7f7f7f; text-decoration-color: #7f7f7f\">:</span><a href=\"file:///Users/jeongseok/Library/Caches/pypoetry/virtualenvs/autorag-tutorial-ko-sf4p_dcK-py3.11/lib/python3.11/site-packages/httpx/_client.py#1026\" target=\"_blank\"><span style=\"color: #7f7f7f; text-decoration-color: #7f7f7f\">1026</span></a>\n",
       "<span style=\"color: #7fbfbf; text-decoration-color: #7fbfbf\">                    </span>         <span style=\"color: #0000ff; text-decoration-color: #0000ff; text-decoration: underline\">https://api.upstage.ai/v1/solar/embeddings</span> <span style=\"color: #008000; text-decoration-color: #008000\">\"HTTP/1.1 200 OK\"</span>           <span style=\"color: #7f7f7f; text-decoration-color: #7f7f7f\">               </span>\n",
       "</pre>\n"
      ],
      "text/plain": [
       "\u001b[2;36m[07/12/24 15:47:30]\u001b[0m\u001b[2;36m \u001b[0m\u001b[34mINFO    \u001b[0m \u001b[1m[\u001b[0m_client.py:\u001b[1;36m1026\u001b[0m\u001b[1m]\u001b[0m >> HTTP Request: \u001b[1;33mPOST\u001b[0m                                \u001b]8;id=819060;file:///Users/jeongseok/Library/Caches/pypoetry/virtualenvs/autorag-tutorial-ko-sf4p_dcK-py3.11/lib/python3.11/site-packages/httpx/_client.py\u001b\\\u001b[2m_client.py\u001b[0m\u001b]8;;\u001b\\\u001b[2m:\u001b[0m\u001b]8;id=620776;file:///Users/jeongseok/Library/Caches/pypoetry/virtualenvs/autorag-tutorial-ko-sf4p_dcK-py3.11/lib/python3.11/site-packages/httpx/_client.py#1026\u001b\\\u001b[2m1026\u001b[0m\u001b]8;;\u001b\\\n",
       "\u001b[2;36m                    \u001b[0m         \u001b[4;94mhttps://api.upstage.ai/v1/solar/embeddings\u001b[0m \u001b[32m\"HTTP/1.1 200 OK\"\u001b[0m           \u001b[2m               \u001b[0m\n"
      ]
     },
     "metadata": {},
     "output_type": "display_data"
    },
    {
     "data": {
      "text/html": [
       "<pre style=\"white-space:pre;overflow-x:auto;line-height:normal;font-family:Menlo,'DejaVu Sans Mono',consolas,'Courier New',monospace\"><span style=\"color: #7fbfbf; text-decoration-color: #7fbfbf\">[07/12/24 15:47:31] </span><span style=\"color: #000080; text-decoration-color: #000080\">INFO    </span> <span style=\"font-weight: bold\">[</span>_client.py:<span style=\"color: #008080; text-decoration-color: #008080; font-weight: bold\">1026</span><span style=\"font-weight: bold\">]</span> &gt;&gt; HTTP Request: <span style=\"color: #808000; text-decoration-color: #808000; font-weight: bold\">POST</span>                                <a href=\"file:///Users/jeongseok/Library/Caches/pypoetry/virtualenvs/autorag-tutorial-ko-sf4p_dcK-py3.11/lib/python3.11/site-packages/httpx/_client.py\" target=\"_blank\"><span style=\"color: #7f7f7f; text-decoration-color: #7f7f7f\">_client.py</span></a><span style=\"color: #7f7f7f; text-decoration-color: #7f7f7f\">:</span><a href=\"file:///Users/jeongseok/Library/Caches/pypoetry/virtualenvs/autorag-tutorial-ko-sf4p_dcK-py3.11/lib/python3.11/site-packages/httpx/_client.py#1026\" target=\"_blank\"><span style=\"color: #7f7f7f; text-decoration-color: #7f7f7f\">1026</span></a>\n",
       "<span style=\"color: #7fbfbf; text-decoration-color: #7fbfbf\">                    </span>         <span style=\"color: #0000ff; text-decoration-color: #0000ff; text-decoration: underline\">https://api.upstage.ai/v1/solar/embeddings</span> <span style=\"color: #008000; text-decoration-color: #008000\">\"HTTP/1.1 200 OK\"</span>           <span style=\"color: #7f7f7f; text-decoration-color: #7f7f7f\">               </span>\n",
       "</pre>\n"
      ],
      "text/plain": [
       "\u001b[2;36m[07/12/24 15:47:31]\u001b[0m\u001b[2;36m \u001b[0m\u001b[34mINFO    \u001b[0m \u001b[1m[\u001b[0m_client.py:\u001b[1;36m1026\u001b[0m\u001b[1m]\u001b[0m >> HTTP Request: \u001b[1;33mPOST\u001b[0m                                \u001b]8;id=351407;file:///Users/jeongseok/Library/Caches/pypoetry/virtualenvs/autorag-tutorial-ko-sf4p_dcK-py3.11/lib/python3.11/site-packages/httpx/_client.py\u001b\\\u001b[2m_client.py\u001b[0m\u001b]8;;\u001b\\\u001b[2m:\u001b[0m\u001b]8;id=88392;file:///Users/jeongseok/Library/Caches/pypoetry/virtualenvs/autorag-tutorial-ko-sf4p_dcK-py3.11/lib/python3.11/site-packages/httpx/_client.py#1026\u001b\\\u001b[2m1026\u001b[0m\u001b]8;;\u001b\\\n",
       "\u001b[2;36m                    \u001b[0m         \u001b[4;94mhttps://api.upstage.ai/v1/solar/embeddings\u001b[0m \u001b[32m\"HTTP/1.1 200 OK\"\u001b[0m           \u001b[2m               \u001b[0m\n"
      ]
     },
     "metadata": {},
     "output_type": "display_data"
    },
    {
     "data": {
      "text/html": [
       "<pre style=\"white-space:pre;overflow-x:auto;line-height:normal;font-family:Menlo,'DejaVu Sans Mono',consolas,'Courier New',monospace\"><span style=\"color: #7fbfbf; text-decoration-color: #7fbfbf\">                    </span><span style=\"color: #000080; text-decoration-color: #000080\">INFO    </span> <span style=\"font-weight: bold\">[</span>_client.py:<span style=\"color: #008080; text-decoration-color: #008080; font-weight: bold\">1026</span><span style=\"font-weight: bold\">]</span> &gt;&gt; HTTP Request: <span style=\"color: #808000; text-decoration-color: #808000; font-weight: bold\">POST</span>                                <a href=\"file:///Users/jeongseok/Library/Caches/pypoetry/virtualenvs/autorag-tutorial-ko-sf4p_dcK-py3.11/lib/python3.11/site-packages/httpx/_client.py\" target=\"_blank\"><span style=\"color: #7f7f7f; text-decoration-color: #7f7f7f\">_client.py</span></a><span style=\"color: #7f7f7f; text-decoration-color: #7f7f7f\">:</span><a href=\"file:///Users/jeongseok/Library/Caches/pypoetry/virtualenvs/autorag-tutorial-ko-sf4p_dcK-py3.11/lib/python3.11/site-packages/httpx/_client.py#1026\" target=\"_blank\"><span style=\"color: #7f7f7f; text-decoration-color: #7f7f7f\">1026</span></a>\n",
       "<span style=\"color: #7fbfbf; text-decoration-color: #7fbfbf\">                    </span>         <span style=\"color: #0000ff; text-decoration-color: #0000ff; text-decoration: underline\">https://api.upstage.ai/v1/solar/embeddings</span> <span style=\"color: #008000; text-decoration-color: #008000\">\"HTTP/1.1 200 OK\"</span>           <span style=\"color: #7f7f7f; text-decoration-color: #7f7f7f\">               </span>\n",
       "</pre>\n"
      ],
      "text/plain": [
       "\u001b[2;36m                   \u001b[0m\u001b[2;36m \u001b[0m\u001b[34mINFO    \u001b[0m \u001b[1m[\u001b[0m_client.py:\u001b[1;36m1026\u001b[0m\u001b[1m]\u001b[0m >> HTTP Request: \u001b[1;33mPOST\u001b[0m                                \u001b]8;id=482950;file:///Users/jeongseok/Library/Caches/pypoetry/virtualenvs/autorag-tutorial-ko-sf4p_dcK-py3.11/lib/python3.11/site-packages/httpx/_client.py\u001b\\\u001b[2m_client.py\u001b[0m\u001b]8;;\u001b\\\u001b[2m:\u001b[0m\u001b]8;id=629634;file:///Users/jeongseok/Library/Caches/pypoetry/virtualenvs/autorag-tutorial-ko-sf4p_dcK-py3.11/lib/python3.11/site-packages/httpx/_client.py#1026\u001b\\\u001b[2m1026\u001b[0m\u001b]8;;\u001b\\\n",
       "\u001b[2;36m                    \u001b[0m         \u001b[4;94mhttps://api.upstage.ai/v1/solar/embeddings\u001b[0m \u001b[32m\"HTTP/1.1 200 OK\"\u001b[0m           \u001b[2m               \u001b[0m\n"
      ]
     },
     "metadata": {},
     "output_type": "display_data"
    },
    {
     "data": {
      "text/html": [
       "<pre style=\"white-space:pre;overflow-x:auto;line-height:normal;font-family:Menlo,'DejaVu Sans Mono',consolas,'Courier New',monospace\"><span style=\"color: #7fbfbf; text-decoration-color: #7fbfbf\">[07/12/24 15:47:32] </span><span style=\"color: #000080; text-decoration-color: #000080\">INFO    </span> <span style=\"font-weight: bold\">[</span>_client.py:<span style=\"color: #008080; text-decoration-color: #008080; font-weight: bold\">1026</span><span style=\"font-weight: bold\">]</span> &gt;&gt; HTTP Request: <span style=\"color: #808000; text-decoration-color: #808000; font-weight: bold\">POST</span>                                <a href=\"file:///Users/jeongseok/Library/Caches/pypoetry/virtualenvs/autorag-tutorial-ko-sf4p_dcK-py3.11/lib/python3.11/site-packages/httpx/_client.py\" target=\"_blank\"><span style=\"color: #7f7f7f; text-decoration-color: #7f7f7f\">_client.py</span></a><span style=\"color: #7f7f7f; text-decoration-color: #7f7f7f\">:</span><a href=\"file:///Users/jeongseok/Library/Caches/pypoetry/virtualenvs/autorag-tutorial-ko-sf4p_dcK-py3.11/lib/python3.11/site-packages/httpx/_client.py#1026\" target=\"_blank\"><span style=\"color: #7f7f7f; text-decoration-color: #7f7f7f\">1026</span></a>\n",
       "<span style=\"color: #7fbfbf; text-decoration-color: #7fbfbf\">                    </span>         <span style=\"color: #0000ff; text-decoration-color: #0000ff; text-decoration: underline\">https://api.upstage.ai/v1/solar/embeddings</span> <span style=\"color: #008000; text-decoration-color: #008000\">\"HTTP/1.1 200 OK\"</span>           <span style=\"color: #7f7f7f; text-decoration-color: #7f7f7f\">               </span>\n",
       "</pre>\n"
      ],
      "text/plain": [
       "\u001b[2;36m[07/12/24 15:47:32]\u001b[0m\u001b[2;36m \u001b[0m\u001b[34mINFO    \u001b[0m \u001b[1m[\u001b[0m_client.py:\u001b[1;36m1026\u001b[0m\u001b[1m]\u001b[0m >> HTTP Request: \u001b[1;33mPOST\u001b[0m                                \u001b]8;id=273489;file:///Users/jeongseok/Library/Caches/pypoetry/virtualenvs/autorag-tutorial-ko-sf4p_dcK-py3.11/lib/python3.11/site-packages/httpx/_client.py\u001b\\\u001b[2m_client.py\u001b[0m\u001b]8;;\u001b\\\u001b[2m:\u001b[0m\u001b]8;id=146631;file:///Users/jeongseok/Library/Caches/pypoetry/virtualenvs/autorag-tutorial-ko-sf4p_dcK-py3.11/lib/python3.11/site-packages/httpx/_client.py#1026\u001b\\\u001b[2m1026\u001b[0m\u001b]8;;\u001b\\\n",
       "\u001b[2;36m                    \u001b[0m         \u001b[4;94mhttps://api.upstage.ai/v1/solar/embeddings\u001b[0m \u001b[32m\"HTTP/1.1 200 OK\"\u001b[0m           \u001b[2m               \u001b[0m\n"
      ]
     },
     "metadata": {},
     "output_type": "display_data"
    },
    {
     "name": "stderr",
     "output_type": "stream",
     "text": [
      "/Users/jeongseok/Library/Caches/pypoetry/virtualenvs/autorag-tutorial-ko-sf4p_dcK-py3.11/lib/python3.11/site-packages/swifter/swifter.py:87: UserWarning: This pandas object has duplicate indices, and swifter may not be able to improve performance. Consider resetting the indices with `df.reset_index(drop=True)`.\n",
      "  warnings.warn(\n",
      "/Users/jeongseok/Library/Caches/pypoetry/virtualenvs/autorag-tutorial-ko-sf4p_dcK-py3.11/lib/python3.11/site-packages/swifter/swifter.py:87: UserWarning: This pandas object has duplicate indices, and swifter may not be able to improve performance. Consider resetting the indices with `df.reset_index(drop=True)`.\n",
      "  warnings.warn(\n"
     ]
    },
    {
     "ename": "ValueError",
     "evalue": "module_name b does not exist in summary.csv. You must run b before running hybrid retrieval.",
     "output_type": "error",
     "traceback": [
      "\u001b[0;31m---------------------------------------------------------------------------\u001b[0m",
      "\u001b[0;31mValueError\u001b[0m                                Traceback (most recent call last)",
      "Cell \u001b[0;32mIn[38], line 1\u001b[0m\n\u001b[0;32m----> 1\u001b[0m \u001b[43mevaluator\u001b[49m\u001b[38;5;241;43m.\u001b[39;49m\u001b[43mstart_trial\u001b[49m\u001b[43m(\u001b[49m\u001b[38;5;124;43m\"\u001b[39;49m\u001b[38;5;124;43m./config/ollama_evaluator_config.yaml\u001b[39;49m\u001b[38;5;124;43m\"\u001b[39;49m\u001b[43m)\u001b[49m\n",
      "File \u001b[0;32m~/Library/Caches/pypoetry/virtualenvs/autorag-tutorial-ko-sf4p_dcK-py3.11/lib/python3.11/site-packages/autorag/evaluator.py:98\u001b[0m, in \u001b[0;36mEvaluator.start_trial\u001b[0;34m(self, yaml_path)\u001b[0m\n\u001b[1;32m     96\u001b[0m         previous_result \u001b[38;5;241m=\u001b[39m \u001b[38;5;28mself\u001b[39m\u001b[38;5;241m.\u001b[39mqa_data\n\u001b[1;32m     97\u001b[0m     logger\u001b[38;5;241m.\u001b[39minfo(\u001b[38;5;124mf\u001b[39m\u001b[38;5;124m'\u001b[39m\u001b[38;5;124mRunning node line \u001b[39m\u001b[38;5;132;01m{\u001b[39;00mnode_line_name\u001b[38;5;132;01m}\u001b[39;00m\u001b[38;5;124m...\u001b[39m\u001b[38;5;124m'\u001b[39m)\n\u001b[0;32m---> 98\u001b[0m     previous_result \u001b[38;5;241m=\u001b[39m \u001b[43mrun_node_line\u001b[49m\u001b[43m(\u001b[49m\u001b[43mnode_line\u001b[49m\u001b[43m,\u001b[49m\u001b[43m \u001b[49m\u001b[43mnode_line_dir\u001b[49m\u001b[43m,\u001b[49m\u001b[43m \u001b[49m\u001b[43mprevious_result\u001b[49m\u001b[43m)\u001b[49m\n\u001b[1;32m    100\u001b[0m     trial_summary_df \u001b[38;5;241m=\u001b[39m \u001b[38;5;28mself\u001b[39m\u001b[38;5;241m.\u001b[39m_append_node_line_summary(node_line_name, node_line_dir, trial_summary_df)\n\u001b[1;32m    102\u001b[0m trial_summary_df\u001b[38;5;241m.\u001b[39mto_csv(os\u001b[38;5;241m.\u001b[39mpath\u001b[38;5;241m.\u001b[39mjoin(\u001b[38;5;28mself\u001b[39m\u001b[38;5;241m.\u001b[39mproject_dir, trial_name, \u001b[38;5;124m'\u001b[39m\u001b[38;5;124msummary.csv\u001b[39m\u001b[38;5;124m'\u001b[39m), index\u001b[38;5;241m=\u001b[39m\u001b[38;5;28;01mFalse\u001b[39;00m)\n",
      "File \u001b[0;32m~/Library/Caches/pypoetry/virtualenvs/autorag-tutorial-ko-sf4p_dcK-py3.11/lib/python3.11/site-packages/autorag/node_line.py:45\u001b[0m, in \u001b[0;36mrun_node_line\u001b[0;34m(nodes, node_line_dir, previous_result)\u001b[0m\n\u001b[1;32m     43\u001b[0m summary_lst \u001b[38;5;241m=\u001b[39m []\n\u001b[1;32m     44\u001b[0m \u001b[38;5;28;01mfor\u001b[39;00m node \u001b[38;5;129;01min\u001b[39;00m nodes:\n\u001b[0;32m---> 45\u001b[0m     previous_result \u001b[38;5;241m=\u001b[39m \u001b[43mnode\u001b[49m\u001b[38;5;241;43m.\u001b[39;49m\u001b[43mrun\u001b[49m\u001b[43m(\u001b[49m\u001b[43mprevious_result\u001b[49m\u001b[43m,\u001b[49m\u001b[43m \u001b[49m\u001b[43mnode_line_dir\u001b[49m\u001b[43m)\u001b[49m\n\u001b[1;32m     46\u001b[0m     node_summary_df \u001b[38;5;241m=\u001b[39m load_summary_file(os\u001b[38;5;241m.\u001b[39mpath\u001b[38;5;241m.\u001b[39mjoin(node_line_dir, node\u001b[38;5;241m.\u001b[39mnode_type, \u001b[38;5;124m'\u001b[39m\u001b[38;5;124msummary.csv\u001b[39m\u001b[38;5;124m'\u001b[39m))\n\u001b[1;32m     47\u001b[0m     best_node_row \u001b[38;5;241m=\u001b[39m node_summary_df\u001b[38;5;241m.\u001b[39mloc[node_summary_df[\u001b[38;5;124m'\u001b[39m\u001b[38;5;124mis_best\u001b[39m\u001b[38;5;124m'\u001b[39m]]\n",
      "File \u001b[0;32m~/Library/Caches/pypoetry/virtualenvs/autorag-tutorial-ko-sf4p_dcK-py3.11/lib/python3.11/site-packages/autorag/schema/node.py:57\u001b[0m, in \u001b[0;36mNode.run\u001b[0;34m(self, previous_result, node_line_dir)\u001b[0m\n\u001b[1;32m     55\u001b[0m logger\u001b[38;5;241m.\u001b[39minfo(\u001b[38;5;124mf\u001b[39m\u001b[38;5;124m'\u001b[39m\u001b[38;5;124mRunning node \u001b[39m\u001b[38;5;132;01m{\u001b[39;00m\u001b[38;5;28mself\u001b[39m\u001b[38;5;241m.\u001b[39mnode_type\u001b[38;5;132;01m}\u001b[39;00m\u001b[38;5;124m...\u001b[39m\u001b[38;5;124m'\u001b[39m)\n\u001b[1;32m     56\u001b[0m input_modules, input_params \u001b[38;5;241m=\u001b[39m \u001b[38;5;28mself\u001b[39m\u001b[38;5;241m.\u001b[39mget_param_combinations()\n\u001b[0;32m---> 57\u001b[0m \u001b[38;5;28;01mreturn\u001b[39;00m \u001b[38;5;28;43mself\u001b[39;49m\u001b[38;5;241;43m.\u001b[39;49m\u001b[43mrun_node\u001b[49m\u001b[43m(\u001b[49m\u001b[43mmodules\u001b[49m\u001b[38;5;241;43m=\u001b[39;49m\u001b[43minput_modules\u001b[49m\u001b[43m,\u001b[49m\n\u001b[1;32m     58\u001b[0m \u001b[43m                     \u001b[49m\u001b[43mmodule_params\u001b[49m\u001b[38;5;241;43m=\u001b[39;49m\u001b[43minput_params\u001b[49m\u001b[43m,\u001b[49m\n\u001b[1;32m     59\u001b[0m \u001b[43m                     \u001b[49m\u001b[43mprevious_result\u001b[49m\u001b[38;5;241;43m=\u001b[39;49m\u001b[43mprevious_result\u001b[49m\u001b[43m,\u001b[49m\n\u001b[1;32m     60\u001b[0m \u001b[43m                     \u001b[49m\u001b[43mnode_line_dir\u001b[49m\u001b[38;5;241;43m=\u001b[39;49m\u001b[43mnode_line_dir\u001b[49m\u001b[43m,\u001b[49m\n\u001b[1;32m     61\u001b[0m \u001b[43m                     \u001b[49m\u001b[43mstrategies\u001b[49m\u001b[38;5;241;43m=\u001b[39;49m\u001b[38;5;28;43mself\u001b[39;49m\u001b[38;5;241;43m.\u001b[39;49m\u001b[43mstrategy\u001b[49m\u001b[43m)\u001b[49m\n",
      "File \u001b[0;32m~/Library/Caches/pypoetry/virtualenvs/autorag-tutorial-ko-sf4p_dcK-py3.11/lib/python3.11/site-packages/autorag/nodes/retrieval/run.py:97\u001b[0m, in \u001b[0;36mrun_retrieval_node\u001b[0;34m(modules, module_params, previous_result, node_line_dir, strategies)\u001b[0m\n\u001b[1;32m     95\u001b[0m \u001b[38;5;28;01melse\u001b[39;00m:\n\u001b[1;32m     96\u001b[0m     target_modules \u001b[38;5;241m=\u001b[39m \u001b[38;5;28mlist\u001b[39m(\u001b[38;5;28mmap\u001b[39m(\u001b[38;5;28;01mlambda\u001b[39;00m x: x\u001b[38;5;241m.\u001b[39mpop(\u001b[38;5;124m'\u001b[39m\u001b[38;5;124mtarget_modules\u001b[39m\u001b[38;5;124m'\u001b[39m), hybrid_module_params))\n\u001b[0;32m---> 97\u001b[0m     target_filenames \u001b[38;5;241m=\u001b[39m \u001b[38;5;28mlist\u001b[39m(\u001b[38;5;28mmap\u001b[39m(\u001b[38;5;28;01mlambda\u001b[39;00m x: select_result_for_hybrid(save_dir, x), target_modules))\n\u001b[1;32m     98\u001b[0m     ids_scores \u001b[38;5;241m=\u001b[39m \u001b[38;5;28mlist\u001b[39m(\u001b[38;5;28mmap\u001b[39m(\u001b[38;5;28;01mlambda\u001b[39;00m x: get_ids_and_scores(save_dir, x), target_filenames))\n\u001b[1;32m     99\u001b[0m     target_module_params \u001b[38;5;241m=\u001b[39m \u001b[38;5;28mlist\u001b[39m(\u001b[38;5;28mmap\u001b[39m(\u001b[38;5;28;01mlambda\u001b[39;00m x: get_module_params(save_dir, x), target_filenames))\n",
      "File \u001b[0;32m~/Library/Caches/pypoetry/virtualenvs/autorag-tutorial-ko-sf4p_dcK-py3.11/lib/python3.11/site-packages/autorag/nodes/retrieval/run.py:97\u001b[0m, in \u001b[0;36mrun_retrieval_node.<locals>.<lambda>\u001b[0;34m(x)\u001b[0m\n\u001b[1;32m     95\u001b[0m \u001b[38;5;28;01melse\u001b[39;00m:\n\u001b[1;32m     96\u001b[0m     target_modules \u001b[38;5;241m=\u001b[39m \u001b[38;5;28mlist\u001b[39m(\u001b[38;5;28mmap\u001b[39m(\u001b[38;5;28;01mlambda\u001b[39;00m x: x\u001b[38;5;241m.\u001b[39mpop(\u001b[38;5;124m'\u001b[39m\u001b[38;5;124mtarget_modules\u001b[39m\u001b[38;5;124m'\u001b[39m), hybrid_module_params))\n\u001b[0;32m---> 97\u001b[0m     target_filenames \u001b[38;5;241m=\u001b[39m \u001b[38;5;28mlist\u001b[39m(\u001b[38;5;28mmap\u001b[39m(\u001b[38;5;28;01mlambda\u001b[39;00m x: \u001b[43mselect_result_for_hybrid\u001b[49m\u001b[43m(\u001b[49m\u001b[43msave_dir\u001b[49m\u001b[43m,\u001b[49m\u001b[43m \u001b[49m\u001b[43mx\u001b[49m\u001b[43m)\u001b[49m, target_modules))\n\u001b[1;32m     98\u001b[0m     ids_scores \u001b[38;5;241m=\u001b[39m \u001b[38;5;28mlist\u001b[39m(\u001b[38;5;28mmap\u001b[39m(\u001b[38;5;28;01mlambda\u001b[39;00m x: get_ids_and_scores(save_dir, x), target_filenames))\n\u001b[1;32m     99\u001b[0m     target_module_params \u001b[38;5;241m=\u001b[39m \u001b[38;5;28mlist\u001b[39m(\u001b[38;5;28mmap\u001b[39m(\u001b[38;5;28;01mlambda\u001b[39;00m x: get_module_params(save_dir, x), target_filenames))\n",
      "File \u001b[0;32m~/Library/Caches/pypoetry/virtualenvs/autorag-tutorial-ko-sf4p_dcK-py3.11/lib/python3.11/site-packages/autorag/nodes/retrieval/run.py:178\u001b[0m, in \u001b[0;36mselect_result_for_hybrid\u001b[0;34m(node_dir, target_modules)\u001b[0m\n\u001b[1;32m    175\u001b[0m     \u001b[38;5;28;01mreturn\u001b[39;00m best_module\n\u001b[1;32m    177\u001b[0m summary_df \u001b[38;5;241m=\u001b[39m load_summary_file(os\u001b[38;5;241m.\u001b[39mpath\u001b[38;5;241m.\u001b[39mjoin(node_dir, \u001b[38;5;124m\"\u001b[39m\u001b[38;5;124msummary.csv\u001b[39m\u001b[38;5;124m\"\u001b[39m))\n\u001b[0;32m--> 178\u001b[0m best_results \u001b[38;5;241m=\u001b[39m \u001b[38;5;28;43mlist\u001b[39;49m\u001b[43m(\u001b[49m\u001b[38;5;28;43mmap\u001b[39;49m\u001b[43m(\u001b[49m\u001b[38;5;28;43;01mlambda\u001b[39;49;00m\u001b[43m \u001b[49m\u001b[43mmodule_name\u001b[49m\u001b[43m:\u001b[49m\u001b[43m \u001b[49m\u001b[43mselect_best_among_module\u001b[49m\u001b[43m(\u001b[49m\u001b[43msummary_df\u001b[49m\u001b[43m,\u001b[49m\u001b[43m \u001b[49m\u001b[43mmodule_name\u001b[49m\u001b[43m)\u001b[49m\u001b[43m,\u001b[49m\u001b[43m \u001b[49m\u001b[43mtarget_modules\u001b[49m\u001b[43m)\u001b[49m\u001b[43m)\u001b[49m\n\u001b[1;32m    179\u001b[0m best_filenames \u001b[38;5;241m=\u001b[39m \u001b[38;5;28mlist\u001b[39m(\u001b[38;5;28mmap\u001b[39m(\u001b[38;5;28;01mlambda\u001b[39;00m df: df[\u001b[38;5;124m'\u001b[39m\u001b[38;5;124mfilename\u001b[39m\u001b[38;5;124m'\u001b[39m], best_results))\n\u001b[1;32m    180\u001b[0m \u001b[38;5;28;01mreturn\u001b[39;00m best_filenames\n",
      "File \u001b[0;32m~/Library/Caches/pypoetry/virtualenvs/autorag-tutorial-ko-sf4p_dcK-py3.11/lib/python3.11/site-packages/autorag/nodes/retrieval/run.py:178\u001b[0m, in \u001b[0;36mselect_result_for_hybrid.<locals>.<lambda>\u001b[0;34m(module_name)\u001b[0m\n\u001b[1;32m    175\u001b[0m     \u001b[38;5;28;01mreturn\u001b[39;00m best_module\n\u001b[1;32m    177\u001b[0m summary_df \u001b[38;5;241m=\u001b[39m load_summary_file(os\u001b[38;5;241m.\u001b[39mpath\u001b[38;5;241m.\u001b[39mjoin(node_dir, \u001b[38;5;124m\"\u001b[39m\u001b[38;5;124msummary.csv\u001b[39m\u001b[38;5;124m\"\u001b[39m))\n\u001b[0;32m--> 178\u001b[0m best_results \u001b[38;5;241m=\u001b[39m \u001b[38;5;28mlist\u001b[39m(\u001b[38;5;28mmap\u001b[39m(\u001b[38;5;28;01mlambda\u001b[39;00m module_name: \u001b[43mselect_best_among_module\u001b[49m\u001b[43m(\u001b[49m\u001b[43msummary_df\u001b[49m\u001b[43m,\u001b[49m\u001b[43m \u001b[49m\u001b[43mmodule_name\u001b[49m\u001b[43m)\u001b[49m, target_modules))\n\u001b[1;32m    179\u001b[0m best_filenames \u001b[38;5;241m=\u001b[39m \u001b[38;5;28mlist\u001b[39m(\u001b[38;5;28mmap\u001b[39m(\u001b[38;5;28;01mlambda\u001b[39;00m df: df[\u001b[38;5;124m'\u001b[39m\u001b[38;5;124mfilename\u001b[39m\u001b[38;5;124m'\u001b[39m], best_results))\n\u001b[1;32m    180\u001b[0m \u001b[38;5;28;01mreturn\u001b[39;00m best_filenames\n",
      "File \u001b[0;32m~/Library/Caches/pypoetry/virtualenvs/autorag-tutorial-ko-sf4p_dcK-py3.11/lib/python3.11/site-packages/autorag/nodes/retrieval/run.py:168\u001b[0m, in \u001b[0;36mselect_result_for_hybrid.<locals>.select_best_among_module\u001b[0;34m(df, module_name)\u001b[0m\n\u001b[1;32m    166\u001b[0m     \u001b[38;5;28;01mreturn\u001b[39;00m modules_summary\u001b[38;5;241m.\u001b[39miloc[\u001b[38;5;241m0\u001b[39m, :]\n\u001b[1;32m    167\u001b[0m \u001b[38;5;28;01melif\u001b[39;00m \u001b[38;5;28mlen\u001b[39m(modules_summary) \u001b[38;5;241m<\u001b[39m\u001b[38;5;241m=\u001b[39m \u001b[38;5;241m0\u001b[39m:\n\u001b[0;32m--> 168\u001b[0m     \u001b[38;5;28;01mraise\u001b[39;00m \u001b[38;5;167;01mValueError\u001b[39;00m(\u001b[38;5;124mf\u001b[39m\u001b[38;5;124m\"\u001b[39m\u001b[38;5;124mmodule_name \u001b[39m\u001b[38;5;132;01m{\u001b[39;00mmodule_name\u001b[38;5;132;01m}\u001b[39;00m\u001b[38;5;124m does not exist in summary.csv. \u001b[39m\u001b[38;5;124m\"\u001b[39m\n\u001b[1;32m    169\u001b[0m                      \u001b[38;5;124mf\u001b[39m\u001b[38;5;124m\"\u001b[39m\u001b[38;5;124mYou must run \u001b[39m\u001b[38;5;132;01m{\u001b[39;00mmodule_name\u001b[38;5;132;01m}\u001b[39;00m\u001b[38;5;124m before running hybrid retrieval.\u001b[39m\u001b[38;5;124m\"\u001b[39m)\n\u001b[1;32m    170\u001b[0m metrics \u001b[38;5;241m=\u001b[39m modules_summary\u001b[38;5;241m.\u001b[39mdrop(columns\u001b[38;5;241m=\u001b[39m[\u001b[38;5;124m'\u001b[39m\u001b[38;5;124mfilename\u001b[39m\u001b[38;5;124m'\u001b[39m, \u001b[38;5;124m'\u001b[39m\u001b[38;5;124mmodule_name\u001b[39m\u001b[38;5;124m'\u001b[39m, \u001b[38;5;124m'\u001b[39m\u001b[38;5;124mmodule_params\u001b[39m\u001b[38;5;124m'\u001b[39m, \u001b[38;5;124m'\u001b[39m\u001b[38;5;124mexecution_time\u001b[39m\u001b[38;5;124m'\u001b[39m])\n\u001b[1;32m    171\u001b[0m metric_average \u001b[38;5;241m=\u001b[39m metrics\u001b[38;5;241m.\u001b[39mmean(axis\u001b[38;5;241m=\u001b[39m\u001b[38;5;241m1\u001b[39m)\n",
      "\u001b[0;31mValueError\u001b[0m: module_name b does not exist in summary.csv. You must run b before running hybrid retrieval."
     ]
    }
   ],
   "source": [
    "evaluator.start_trial(\"./config/ollama_evaluator_config.yaml\")"
   ]
  },
  {
   "cell_type": "code",
   "execution_count": 6,
   "metadata": {},
   "outputs": [
    {
     "data": {
      "text/html": [
       "<pre style=\"white-space:pre;overflow-x:auto;line-height:normal;font-family:Menlo,'DejaVu Sans Mono',consolas,'Courier New',monospace\"><span style=\"color: #7fbfbf; text-decoration-color: #7fbfbf\">[07/12/24 17:47:43] </span><span style=\"color: #000080; text-decoration-color: #000080\">INFO    </span> <span style=\"font-weight: bold\">[</span>evaluator.py:<span style=\"color: #008080; text-decoration-color: #008080; font-weight: bold\">203</span><span style=\"font-weight: bold\">]</span> &gt;&gt;                                                 <a href=\"file:///Users/anpigon/Library/Caches/pypoetry/virtualenvs/autorag-tutorial-ko-GYvpjDIx-py3.11/lib/python3.11/site-packages/autorag/evaluator.py\" target=\"_blank\"><span style=\"color: #7f7f7f; text-decoration-color: #7f7f7f\">evaluator.py</span></a><span style=\"color: #7f7f7f; text-decoration-color: #7f7f7f\">:</span><a href=\"file:///Users/anpigon/Library/Caches/pypoetry/virtualenvs/autorag-tutorial-ko-GYvpjDIx-py3.11/lib/python3.11/site-packages/autorag/evaluator.py#203\" target=\"_blank\"><span style=\"color: #7f7f7f; text-decoration-color: #7f7f7f\">203</span></a>\n",
       "<span style=\"color: #7fbfbf; text-decoration-color: #7fbfbf\">                    </span>                         _        _____            _____                       <span style=\"color: #7f7f7f; text-decoration-color: #7f7f7f\">                </span>\n",
       "<span style=\"color: #7fbfbf; text-decoration-color: #7fbfbf\">                    </span>              <span style=\"color: #800080; text-decoration-color: #800080\">/</span>\\        | |      |  __ \\     <span style=\"color: #800080; text-decoration-color: #800080\">/</span>\\   <span style=\"color: #800080; text-decoration-color: #800080\">/</span> ____|                      <span style=\"color: #7f7f7f; text-decoration-color: #7f7f7f\">                </span>\n",
       "<span style=\"color: #7fbfbf; text-decoration-color: #7fbfbf\">                    </span>             <span style=\"color: #800080; text-decoration-color: #800080\">/</span>  \\  _   _| |_ ___ | |__<span style=\"font-weight: bold\">)</span> |   <span style=\"color: #800080; text-decoration-color: #800080\">/</span>  \\ | |  __                       <span style=\"color: #7f7f7f; text-decoration-color: #7f7f7f\">                </span>\n",
       "<span style=\"color: #7fbfbf; text-decoration-color: #7fbfbf\">                    </span>            <span style=\"color: #800080; text-decoration-color: #800080\">/</span> <span style=\"color: #800080; text-decoration-color: #800080\">/</span>\\ \\| | | | __/ _ \\|  _  <span style=\"color: #800080; text-decoration-color: #800080\">/</span>   <span style=\"color: #800080; text-decoration-color: #800080\">/</span> <span style=\"color: #800080; text-decoration-color: #800080\">/</span>\\ \\| | |_ |                      <span style=\"color: #7f7f7f; text-decoration-color: #7f7f7f\">                </span>\n",
       "<span style=\"color: #7fbfbf; text-decoration-color: #7fbfbf\">                    </span>           <span style=\"color: #800080; text-decoration-color: #800080\">/</span> ____ \\ |_| | || <span style=\"font-weight: bold\">(</span>_<span style=\"font-weight: bold\">)</span> | | \\ \\  <span style=\"color: #800080; text-decoration-color: #800080\">/</span> ____ \\ |__| |                      <span style=\"color: #7f7f7f; text-decoration-color: #7f7f7f\">                </span>\n",
       "<span style=\"color: #7fbfbf; text-decoration-color: #7fbfbf\">                    </span>          <span style=\"color: #800080; text-decoration-color: #800080\">/_/</span>    \\_\\__,_|\\__\\___/|_|  \\_\\<span style=\"color: #800080; text-decoration-color: #800080\">/_/</span>    \\_\\_____|                      <span style=\"color: #7f7f7f; text-decoration-color: #7f7f7f\">                </span>\n",
       "<span style=\"color: #7fbfbf; text-decoration-color: #7fbfbf\">                    </span>                                                                               <span style=\"color: #7f7f7f; text-decoration-color: #7f7f7f\">                </span>\n",
       "<span style=\"color: #7fbfbf; text-decoration-color: #7fbfbf\">                    </span>                                                                               <span style=\"color: #7f7f7f; text-decoration-color: #7f7f7f\">                </span>\n",
       "</pre>\n"
      ],
      "text/plain": [
       "\u001b[2;36m[07/12/24 17:47:43]\u001b[0m\u001b[2;36m \u001b[0m\u001b[34mINFO    \u001b[0m \u001b[1m[\u001b[0mevaluator.py:\u001b[1;36m203\u001b[0m\u001b[1m]\u001b[0m >>                                                 \u001b]8;id=666071;file:///Users/anpigon/Library/Caches/pypoetry/virtualenvs/autorag-tutorial-ko-GYvpjDIx-py3.11/lib/python3.11/site-packages/autorag/evaluator.py\u001b\\\u001b[2mevaluator.py\u001b[0m\u001b]8;;\u001b\\\u001b[2m:\u001b[0m\u001b]8;id=859927;file:///Users/anpigon/Library/Caches/pypoetry/virtualenvs/autorag-tutorial-ko-GYvpjDIx-py3.11/lib/python3.11/site-packages/autorag/evaluator.py#203\u001b\\\u001b[2m203\u001b[0m\u001b]8;;\u001b\\\n",
       "\u001b[2;36m                    \u001b[0m                         _        _____            _____                       \u001b[2m                \u001b[0m\n",
       "\u001b[2;36m                    \u001b[0m              \u001b[35m/\u001b[0m\\        | |      |  __ \\     \u001b[35m/\u001b[0m\\   \u001b[35m/\u001b[0m ____|                      \u001b[2m                \u001b[0m\n",
       "\u001b[2;36m                    \u001b[0m             \u001b[35m/\u001b[0m  \\  _   _| |_ ___ | |__\u001b[1m)\u001b[0m |   \u001b[35m/\u001b[0m  \\ | |  __                       \u001b[2m                \u001b[0m\n",
       "\u001b[2;36m                    \u001b[0m            \u001b[35m/\u001b[0m \u001b[35m/\u001b[0m\\ \\| | | | __/ _ \\|  _  \u001b[35m/\u001b[0m   \u001b[35m/\u001b[0m \u001b[35m/\u001b[0m\\ \\| | |_ |                      \u001b[2m                \u001b[0m\n",
       "\u001b[2;36m                    \u001b[0m           \u001b[35m/\u001b[0m ____ \\ |_| | || \u001b[1m(\u001b[0m_\u001b[1m)\u001b[0m | | \\ \\  \u001b[35m/\u001b[0m ____ \\ |__| |                      \u001b[2m                \u001b[0m\n",
       "\u001b[2;36m                    \u001b[0m          \u001b[35m/_/\u001b[0m    \\_\\__,_|\\__\\___/|_|  \\_\\\u001b[35m/_/\u001b[0m    \\_\\_____|                      \u001b[2m                \u001b[0m\n",
       "\u001b[2;36m                    \u001b[0m                                                                               \u001b[2m                \u001b[0m\n",
       "\u001b[2;36m                    \u001b[0m                                                                               \u001b[2m                \u001b[0m\n"
      ]
     },
     "metadata": {},
     "output_type": "display_data"
    },
    {
     "name": "stderr",
     "output_type": "stream",
     "text": [
      "/Users/anpigon/Library/Caches/pypoetry/virtualenvs/autorag-tutorial-ko-GYvpjDIx-py3.11/lib/python3.11/site-packages/swifter/swifter.py:87: UserWarning: This pandas object has duplicate indices, and swifter may not be able to improve performance. Consider resetting the indices with `df.reset_index(drop=True)`.\n",
      "  warnings.warn(\n",
      "/Users/anpigon/Library/Caches/pypoetry/virtualenvs/autorag-tutorial-ko-GYvpjDIx-py3.11/lib/python3.11/site-packages/swifter/swifter.py:87: UserWarning: This pandas object has duplicate indices, and swifter may not be able to improve performance. Consider resetting the indices with `df.reset_index(drop=True)`.\n",
      "  warnings.warn(\n"
     ]
    },
    {
     "data": {
      "text/html": [
       "<pre style=\"white-space:pre;overflow-x:auto;line-height:normal;font-family:Menlo,'DejaVu Sans Mono',consolas,'Courier New',monospace\"><span style=\"color: #7fbfbf; text-decoration-color: #7fbfbf\">[07/12/24 17:47:44] </span><span style=\"color: #000080; text-decoration-color: #000080\">INFO    </span> <span style=\"font-weight: bold\">[</span>node.py:<span style=\"color: #008080; text-decoration-color: #008080; font-weight: bold\">55</span><span style=\"font-weight: bold\">]</span> &gt;&gt; Running node generator<span style=\"color: #808000; text-decoration-color: #808000\">...</span>                                   <a href=\"file:///Users/anpigon/Library/Caches/pypoetry/virtualenvs/autorag-tutorial-ko-GYvpjDIx-py3.11/lib/python3.11/site-packages/autorag/schema/node.py\" target=\"_blank\"><span style=\"color: #7f7f7f; text-decoration-color: #7f7f7f\">node.py</span></a><span style=\"color: #7f7f7f; text-decoration-color: #7f7f7f\">:</span><a href=\"file:///Users/anpigon/Library/Caches/pypoetry/virtualenvs/autorag-tutorial-ko-GYvpjDIx-py3.11/lib/python3.11/site-packages/autorag/schema/node.py#55\" target=\"_blank\"><span style=\"color: #7f7f7f; text-decoration-color: #7f7f7f\">55</span></a>\n",
       "</pre>\n"
      ],
      "text/plain": [
       "\u001b[2;36m[07/12/24 17:47:44]\u001b[0m\u001b[2;36m \u001b[0m\u001b[34mINFO    \u001b[0m \u001b[1m[\u001b[0mnode.py:\u001b[1;36m55\u001b[0m\u001b[1m]\u001b[0m >> Running node generator\u001b[33m...\u001b[0m                                   \u001b]8;id=530687;file:///Users/anpigon/Library/Caches/pypoetry/virtualenvs/autorag-tutorial-ko-GYvpjDIx-py3.11/lib/python3.11/site-packages/autorag/schema/node.py\u001b\\\u001b[2mnode.py\u001b[0m\u001b]8;;\u001b\\\u001b[2m:\u001b[0m\u001b]8;id=398971;file:///Users/anpigon/Library/Caches/pypoetry/virtualenvs/autorag-tutorial-ko-GYvpjDIx-py3.11/lib/python3.11/site-packages/autorag/schema/node.py#55\u001b\\\u001b[2m55\u001b[0m\u001b]8;;\u001b\\\n"
      ]
     },
     "metadata": {},
     "output_type": "display_data"
    },
    {
     "name": "stderr",
     "output_type": "stream",
     "text": [
      "/Users/anpigon/Library/Caches/pypoetry/virtualenvs/autorag-tutorial-ko-GYvpjDIx-py3.11/lib/python3.11/site-packages/swifter/swifter.py:87: UserWarning: This pandas object has duplicate indices, and swifter may not be able to improve performance. Consider resetting the indices with `df.reset_index(drop=True)`.\n",
      "  warnings.warn(\n",
      "/Users/anpigon/Library/Caches/pypoetry/virtualenvs/autorag-tutorial-ko-GYvpjDIx-py3.11/lib/python3.11/site-packages/swifter/swifter.py:87: UserWarning: This pandas object has duplicate indices, and swifter may not be able to improve performance. Consider resetting the indices with `df.reset_index(drop=True)`.\n",
      "  warnings.warn(\n"
     ]
    },
    {
     "data": {
      "text/html": [
       "<pre style=\"white-space:pre;overflow-x:auto;line-height:normal;font-family:Menlo,'DejaVu Sans Mono',consolas,'Courier New',monospace\"><span style=\"color: #7fbfbf; text-decoration-color: #7fbfbf\">                    </span><span style=\"color: #000080; text-decoration-color: #000080\">INFO    </span> <span style=\"font-weight: bold\">[</span>base.py:<span style=\"color: #008080; text-decoration-color: #008080; font-weight: bold\">34</span><span style=\"font-weight: bold\">]</span> &gt;&gt; Running generator node - llama_index_llm module<span style=\"color: #808000; text-decoration-color: #808000\">...</span>          <a href=\"file:///Users/anpigon/Library/Caches/pypoetry/virtualenvs/autorag-tutorial-ko-GYvpjDIx-py3.11/lib/python3.11/site-packages/autorag/nodes/generator/base.py\" target=\"_blank\"><span style=\"color: #7f7f7f; text-decoration-color: #7f7f7f\">base.py</span></a><span style=\"color: #7f7f7f; text-decoration-color: #7f7f7f\">:</span><a href=\"file:///Users/anpigon/Library/Caches/pypoetry/virtualenvs/autorag-tutorial-ko-GYvpjDIx-py3.11/lib/python3.11/site-packages/autorag/nodes/generator/base.py#34\" target=\"_blank\"><span style=\"color: #7f7f7f; text-decoration-color: #7f7f7f\">34</span></a>\n",
       "</pre>\n"
      ],
      "text/plain": [
       "\u001b[2;36m                   \u001b[0m\u001b[2;36m \u001b[0m\u001b[34mINFO    \u001b[0m \u001b[1m[\u001b[0mbase.py:\u001b[1;36m34\u001b[0m\u001b[1m]\u001b[0m >> Running generator node - llama_index_llm module\u001b[33m...\u001b[0m          \u001b]8;id=534636;file:///Users/anpigon/Library/Caches/pypoetry/virtualenvs/autorag-tutorial-ko-GYvpjDIx-py3.11/lib/python3.11/site-packages/autorag/nodes/generator/base.py\u001b\\\u001b[2mbase.py\u001b[0m\u001b]8;;\u001b\\\u001b[2m:\u001b[0m\u001b]8;id=798148;file:///Users/anpigon/Library/Caches/pypoetry/virtualenvs/autorag-tutorial-ko-GYvpjDIx-py3.11/lib/python3.11/site-packages/autorag/nodes/generator/base.py#34\u001b\\\u001b[2m34\u001b[0m\u001b]8;;\u001b\\\n"
      ]
     },
     "metadata": {},
     "output_type": "display_data"
    },
    {
     "data": {
      "text/html": [
       "<pre style=\"white-space:pre;overflow-x:auto;line-height:normal;font-family:Menlo,'DejaVu Sans Mono',consolas,'Courier New',monospace\"><span style=\"color: #7fbfbf; text-decoration-color: #7fbfbf\">[07/12/24 17:48:26] </span><span style=\"color: #000080; text-decoration-color: #000080\">INFO    </span> <span style=\"font-weight: bold\">[</span>_client.py:<span style=\"color: #008080; text-decoration-color: #008080; font-weight: bold\">1773</span><span style=\"font-weight: bold\">]</span> &gt;&gt; HTTP Request: <span style=\"color: #808000; text-decoration-color: #808000; font-weight: bold\">POST</span>                                <a href=\"file:///Users/anpigon/Library/Caches/pypoetry/virtualenvs/autorag-tutorial-ko-GYvpjDIx-py3.11/lib/python3.11/site-packages/httpx/_client.py\" target=\"_blank\"><span style=\"color: #7f7f7f; text-decoration-color: #7f7f7f\">_client.py</span></a><span style=\"color: #7f7f7f; text-decoration-color: #7f7f7f\">:</span><a href=\"file:///Users/anpigon/Library/Caches/pypoetry/virtualenvs/autorag-tutorial-ko-GYvpjDIx-py3.11/lib/python3.11/site-packages/httpx/_client.py#1773\" target=\"_blank\"><span style=\"color: #7f7f7f; text-decoration-color: #7f7f7f\">1773</span></a>\n",
       "<span style=\"color: #7fbfbf; text-decoration-color: #7fbfbf\">                    </span>         <span style=\"color: #0000ff; text-decoration-color: #0000ff; text-decoration: underline\">http://localhost:11434/api/generate</span> <span style=\"color: #008000; text-decoration-color: #008000\">\"HTTP/1.1 200 OK\"</span>                  <span style=\"color: #7f7f7f; text-decoration-color: #7f7f7f\">               </span>\n",
       "</pre>\n"
      ],
      "text/plain": [
       "\u001b[2;36m[07/12/24 17:48:26]\u001b[0m\u001b[2;36m \u001b[0m\u001b[34mINFO    \u001b[0m \u001b[1m[\u001b[0m_client.py:\u001b[1;36m1773\u001b[0m\u001b[1m]\u001b[0m >> HTTP Request: \u001b[1;33mPOST\u001b[0m                                \u001b]8;id=236354;file:///Users/anpigon/Library/Caches/pypoetry/virtualenvs/autorag-tutorial-ko-GYvpjDIx-py3.11/lib/python3.11/site-packages/httpx/_client.py\u001b\\\u001b[2m_client.py\u001b[0m\u001b]8;;\u001b\\\u001b[2m:\u001b[0m\u001b]8;id=136182;file:///Users/anpigon/Library/Caches/pypoetry/virtualenvs/autorag-tutorial-ko-GYvpjDIx-py3.11/lib/python3.11/site-packages/httpx/_client.py#1773\u001b\\\u001b[2m1773\u001b[0m\u001b]8;;\u001b\\\n",
       "\u001b[2;36m                    \u001b[0m         \u001b[4;94mhttp://localhost:11434/api/generate\u001b[0m \u001b[32m\"HTTP/1.1 200 OK\"\u001b[0m                  \u001b[2m               \u001b[0m\n"
      ]
     },
     "metadata": {},
     "output_type": "display_data"
    },
    {
     "data": {
      "text/html": [
       "<pre style=\"white-space:pre;overflow-x:auto;line-height:normal;font-family:Menlo,'DejaVu Sans Mono',consolas,'Courier New',monospace\"><span style=\"color: #7fbfbf; text-decoration-color: #7fbfbf\">[07/12/24 17:48:41] </span><span style=\"color: #000080; text-decoration-color: #000080\">INFO    </span> <span style=\"font-weight: bold\">[</span>_client.py:<span style=\"color: #008080; text-decoration-color: #008080; font-weight: bold\">1773</span><span style=\"font-weight: bold\">]</span> &gt;&gt; HTTP Request: <span style=\"color: #808000; text-decoration-color: #808000; font-weight: bold\">POST</span>                                <a href=\"file:///Users/anpigon/Library/Caches/pypoetry/virtualenvs/autorag-tutorial-ko-GYvpjDIx-py3.11/lib/python3.11/site-packages/httpx/_client.py\" target=\"_blank\"><span style=\"color: #7f7f7f; text-decoration-color: #7f7f7f\">_client.py</span></a><span style=\"color: #7f7f7f; text-decoration-color: #7f7f7f\">:</span><a href=\"file:///Users/anpigon/Library/Caches/pypoetry/virtualenvs/autorag-tutorial-ko-GYvpjDIx-py3.11/lib/python3.11/site-packages/httpx/_client.py#1773\" target=\"_blank\"><span style=\"color: #7f7f7f; text-decoration-color: #7f7f7f\">1773</span></a>\n",
       "<span style=\"color: #7fbfbf; text-decoration-color: #7fbfbf\">                    </span>         <span style=\"color: #0000ff; text-decoration-color: #0000ff; text-decoration: underline\">http://localhost:11434/api/generate</span> <span style=\"color: #008000; text-decoration-color: #008000\">\"HTTP/1.1 200 OK\"</span>                  <span style=\"color: #7f7f7f; text-decoration-color: #7f7f7f\">               </span>\n",
       "</pre>\n"
      ],
      "text/plain": [
       "\u001b[2;36m[07/12/24 17:48:41]\u001b[0m\u001b[2;36m \u001b[0m\u001b[34mINFO    \u001b[0m \u001b[1m[\u001b[0m_client.py:\u001b[1;36m1773\u001b[0m\u001b[1m]\u001b[0m >> HTTP Request: \u001b[1;33mPOST\u001b[0m                                \u001b]8;id=701413;file:///Users/anpigon/Library/Caches/pypoetry/virtualenvs/autorag-tutorial-ko-GYvpjDIx-py3.11/lib/python3.11/site-packages/httpx/_client.py\u001b\\\u001b[2m_client.py\u001b[0m\u001b]8;;\u001b\\\u001b[2m:\u001b[0m\u001b]8;id=350554;file:///Users/anpigon/Library/Caches/pypoetry/virtualenvs/autorag-tutorial-ko-GYvpjDIx-py3.11/lib/python3.11/site-packages/httpx/_client.py#1773\u001b\\\u001b[2m1773\u001b[0m\u001b]8;;\u001b\\\n",
       "\u001b[2;36m                    \u001b[0m         \u001b[4;94mhttp://localhost:11434/api/generate\u001b[0m \u001b[32m\"HTTP/1.1 200 OK\"\u001b[0m                  \u001b[2m               \u001b[0m\n"
      ]
     },
     "metadata": {},
     "output_type": "display_data"
    },
    {
     "data": {
      "text/html": [
       "<pre style=\"white-space:pre;overflow-x:auto;line-height:normal;font-family:Menlo,'DejaVu Sans Mono',consolas,'Courier New',monospace\"><span style=\"color: #7fbfbf; text-decoration-color: #7fbfbf\">[07/12/24 17:49:02] </span><span style=\"color: #000080; text-decoration-color: #000080\">INFO    </span> <span style=\"font-weight: bold\">[</span>_client.py:<span style=\"color: #008080; text-decoration-color: #008080; font-weight: bold\">1773</span><span style=\"font-weight: bold\">]</span> &gt;&gt; HTTP Request: <span style=\"color: #808000; text-decoration-color: #808000; font-weight: bold\">POST</span>                                <a href=\"file:///Users/anpigon/Library/Caches/pypoetry/virtualenvs/autorag-tutorial-ko-GYvpjDIx-py3.11/lib/python3.11/site-packages/httpx/_client.py\" target=\"_blank\"><span style=\"color: #7f7f7f; text-decoration-color: #7f7f7f\">_client.py</span></a><span style=\"color: #7f7f7f; text-decoration-color: #7f7f7f\">:</span><a href=\"file:///Users/anpigon/Library/Caches/pypoetry/virtualenvs/autorag-tutorial-ko-GYvpjDIx-py3.11/lib/python3.11/site-packages/httpx/_client.py#1773\" target=\"_blank\"><span style=\"color: #7f7f7f; text-decoration-color: #7f7f7f\">1773</span></a>\n",
       "<span style=\"color: #7fbfbf; text-decoration-color: #7fbfbf\">                    </span>         <span style=\"color: #0000ff; text-decoration-color: #0000ff; text-decoration: underline\">http://localhost:11434/api/generate</span> <span style=\"color: #008000; text-decoration-color: #008000\">\"HTTP/1.1 200 OK\"</span>                  <span style=\"color: #7f7f7f; text-decoration-color: #7f7f7f\">               </span>\n",
       "</pre>\n"
      ],
      "text/plain": [
       "\u001b[2;36m[07/12/24 17:49:02]\u001b[0m\u001b[2;36m \u001b[0m\u001b[34mINFO    \u001b[0m \u001b[1m[\u001b[0m_client.py:\u001b[1;36m1773\u001b[0m\u001b[1m]\u001b[0m >> HTTP Request: \u001b[1;33mPOST\u001b[0m                                \u001b]8;id=429845;file:///Users/anpigon/Library/Caches/pypoetry/virtualenvs/autorag-tutorial-ko-GYvpjDIx-py3.11/lib/python3.11/site-packages/httpx/_client.py\u001b\\\u001b[2m_client.py\u001b[0m\u001b]8;;\u001b\\\u001b[2m:\u001b[0m\u001b]8;id=396270;file:///Users/anpigon/Library/Caches/pypoetry/virtualenvs/autorag-tutorial-ko-GYvpjDIx-py3.11/lib/python3.11/site-packages/httpx/_client.py#1773\u001b\\\u001b[2m1773\u001b[0m\u001b]8;;\u001b\\\n",
       "\u001b[2;36m                    \u001b[0m         \u001b[4;94mhttp://localhost:11434/api/generate\u001b[0m \u001b[32m\"HTTP/1.1 200 OK\"\u001b[0m                  \u001b[2m               \u001b[0m\n"
      ]
     },
     "metadata": {},
     "output_type": "display_data"
    },
    {
     "data": {
      "text/html": [
       "<pre style=\"white-space:pre;overflow-x:auto;line-height:normal;font-family:Menlo,'DejaVu Sans Mono',consolas,'Courier New',monospace\"><span style=\"color: #7fbfbf; text-decoration-color: #7fbfbf\">[07/12/24 17:49:16] </span><span style=\"color: #000080; text-decoration-color: #000080\">INFO    </span> <span style=\"font-weight: bold\">[</span>_client.py:<span style=\"color: #008080; text-decoration-color: #008080; font-weight: bold\">1773</span><span style=\"font-weight: bold\">]</span> &gt;&gt; HTTP Request: <span style=\"color: #808000; text-decoration-color: #808000; font-weight: bold\">POST</span>                                <a href=\"file:///Users/anpigon/Library/Caches/pypoetry/virtualenvs/autorag-tutorial-ko-GYvpjDIx-py3.11/lib/python3.11/site-packages/httpx/_client.py\" target=\"_blank\"><span style=\"color: #7f7f7f; text-decoration-color: #7f7f7f\">_client.py</span></a><span style=\"color: #7f7f7f; text-decoration-color: #7f7f7f\">:</span><a href=\"file:///Users/anpigon/Library/Caches/pypoetry/virtualenvs/autorag-tutorial-ko-GYvpjDIx-py3.11/lib/python3.11/site-packages/httpx/_client.py#1773\" target=\"_blank\"><span style=\"color: #7f7f7f; text-decoration-color: #7f7f7f\">1773</span></a>\n",
       "<span style=\"color: #7fbfbf; text-decoration-color: #7fbfbf\">                    </span>         <span style=\"color: #0000ff; text-decoration-color: #0000ff; text-decoration: underline\">http://localhost:11434/api/generate</span> <span style=\"color: #008000; text-decoration-color: #008000\">\"HTTP/1.1 200 OK\"</span>                  <span style=\"color: #7f7f7f; text-decoration-color: #7f7f7f\">               </span>\n",
       "</pre>\n"
      ],
      "text/plain": [
       "\u001b[2;36m[07/12/24 17:49:16]\u001b[0m\u001b[2;36m \u001b[0m\u001b[34mINFO    \u001b[0m \u001b[1m[\u001b[0m_client.py:\u001b[1;36m1773\u001b[0m\u001b[1m]\u001b[0m >> HTTP Request: \u001b[1;33mPOST\u001b[0m                                \u001b]8;id=102593;file:///Users/anpigon/Library/Caches/pypoetry/virtualenvs/autorag-tutorial-ko-GYvpjDIx-py3.11/lib/python3.11/site-packages/httpx/_client.py\u001b\\\u001b[2m_client.py\u001b[0m\u001b]8;;\u001b\\\u001b[2m:\u001b[0m\u001b]8;id=686620;file:///Users/anpigon/Library/Caches/pypoetry/virtualenvs/autorag-tutorial-ko-GYvpjDIx-py3.11/lib/python3.11/site-packages/httpx/_client.py#1773\u001b\\\u001b[2m1773\u001b[0m\u001b]8;;\u001b\\\n",
       "\u001b[2;36m                    \u001b[0m         \u001b[4;94mhttp://localhost:11434/api/generate\u001b[0m \u001b[32m\"HTTP/1.1 200 OK\"\u001b[0m                  \u001b[2m               \u001b[0m\n"
      ]
     },
     "metadata": {},
     "output_type": "display_data"
    },
    {
     "data": {
      "text/html": [
       "<pre style=\"white-space:pre;overflow-x:auto;line-height:normal;font-family:Menlo,'DejaVu Sans Mono',consolas,'Courier New',monospace\"><span style=\"color: #7fbfbf; text-decoration-color: #7fbfbf\">[07/12/24 17:49:31] </span><span style=\"color: #000080; text-decoration-color: #000080\">INFO    </span> <span style=\"font-weight: bold\">[</span>_client.py:<span style=\"color: #008080; text-decoration-color: #008080; font-weight: bold\">1773</span><span style=\"font-weight: bold\">]</span> &gt;&gt; HTTP Request: <span style=\"color: #808000; text-decoration-color: #808000; font-weight: bold\">POST</span>                                <a href=\"file:///Users/anpigon/Library/Caches/pypoetry/virtualenvs/autorag-tutorial-ko-GYvpjDIx-py3.11/lib/python3.11/site-packages/httpx/_client.py\" target=\"_blank\"><span style=\"color: #7f7f7f; text-decoration-color: #7f7f7f\">_client.py</span></a><span style=\"color: #7f7f7f; text-decoration-color: #7f7f7f\">:</span><a href=\"file:///Users/anpigon/Library/Caches/pypoetry/virtualenvs/autorag-tutorial-ko-GYvpjDIx-py3.11/lib/python3.11/site-packages/httpx/_client.py#1773\" target=\"_blank\"><span style=\"color: #7f7f7f; text-decoration-color: #7f7f7f\">1773</span></a>\n",
       "<span style=\"color: #7fbfbf; text-decoration-color: #7fbfbf\">                    </span>         <span style=\"color: #0000ff; text-decoration-color: #0000ff; text-decoration: underline\">http://localhost:11434/api/generate</span> <span style=\"color: #008000; text-decoration-color: #008000\">\"HTTP/1.1 200 OK\"</span>                  <span style=\"color: #7f7f7f; text-decoration-color: #7f7f7f\">               </span>\n",
       "</pre>\n"
      ],
      "text/plain": [
       "\u001b[2;36m[07/12/24 17:49:31]\u001b[0m\u001b[2;36m \u001b[0m\u001b[34mINFO    \u001b[0m \u001b[1m[\u001b[0m_client.py:\u001b[1;36m1773\u001b[0m\u001b[1m]\u001b[0m >> HTTP Request: \u001b[1;33mPOST\u001b[0m                                \u001b]8;id=60196;file:///Users/anpigon/Library/Caches/pypoetry/virtualenvs/autorag-tutorial-ko-GYvpjDIx-py3.11/lib/python3.11/site-packages/httpx/_client.py\u001b\\\u001b[2m_client.py\u001b[0m\u001b]8;;\u001b\\\u001b[2m:\u001b[0m\u001b]8;id=523171;file:///Users/anpigon/Library/Caches/pypoetry/virtualenvs/autorag-tutorial-ko-GYvpjDIx-py3.11/lib/python3.11/site-packages/httpx/_client.py#1773\u001b\\\u001b[2m1773\u001b[0m\u001b]8;;\u001b\\\n",
       "\u001b[2;36m                    \u001b[0m         \u001b[4;94mhttp://localhost:11434/api/generate\u001b[0m \u001b[32m\"HTTP/1.1 200 OK\"\u001b[0m                  \u001b[2m               \u001b[0m\n"
      ]
     },
     "metadata": {},
     "output_type": "display_data"
    },
    {
     "data": {
      "text/html": [
       "<pre style=\"white-space:pre;overflow-x:auto;line-height:normal;font-family:Menlo,'DejaVu Sans Mono',consolas,'Courier New',monospace\"><span style=\"color: #7fbfbf; text-decoration-color: #7fbfbf\">[07/12/24 17:49:44] </span><span style=\"color: #000080; text-decoration-color: #000080\">INFO    </span> <span style=\"font-weight: bold\">[</span>_client.py:<span style=\"color: #008080; text-decoration-color: #008080; font-weight: bold\">1773</span><span style=\"font-weight: bold\">]</span> &gt;&gt; HTTP Request: <span style=\"color: #808000; text-decoration-color: #808000; font-weight: bold\">POST</span>                                <a href=\"file:///Users/anpigon/Library/Caches/pypoetry/virtualenvs/autorag-tutorial-ko-GYvpjDIx-py3.11/lib/python3.11/site-packages/httpx/_client.py\" target=\"_blank\"><span style=\"color: #7f7f7f; text-decoration-color: #7f7f7f\">_client.py</span></a><span style=\"color: #7f7f7f; text-decoration-color: #7f7f7f\">:</span><a href=\"file:///Users/anpigon/Library/Caches/pypoetry/virtualenvs/autorag-tutorial-ko-GYvpjDIx-py3.11/lib/python3.11/site-packages/httpx/_client.py#1773\" target=\"_blank\"><span style=\"color: #7f7f7f; text-decoration-color: #7f7f7f\">1773</span></a>\n",
       "<span style=\"color: #7fbfbf; text-decoration-color: #7fbfbf\">                    </span>         <span style=\"color: #0000ff; text-decoration-color: #0000ff; text-decoration: underline\">http://localhost:11434/api/generate</span> <span style=\"color: #008000; text-decoration-color: #008000\">\"HTTP/1.1 200 OK\"</span>                  <span style=\"color: #7f7f7f; text-decoration-color: #7f7f7f\">               </span>\n",
       "</pre>\n"
      ],
      "text/plain": [
       "\u001b[2;36m[07/12/24 17:49:44]\u001b[0m\u001b[2;36m \u001b[0m\u001b[34mINFO    \u001b[0m \u001b[1m[\u001b[0m_client.py:\u001b[1;36m1773\u001b[0m\u001b[1m]\u001b[0m >> HTTP Request: \u001b[1;33mPOST\u001b[0m                                \u001b]8;id=396046;file:///Users/anpigon/Library/Caches/pypoetry/virtualenvs/autorag-tutorial-ko-GYvpjDIx-py3.11/lib/python3.11/site-packages/httpx/_client.py\u001b\\\u001b[2m_client.py\u001b[0m\u001b]8;;\u001b\\\u001b[2m:\u001b[0m\u001b]8;id=234890;file:///Users/anpigon/Library/Caches/pypoetry/virtualenvs/autorag-tutorial-ko-GYvpjDIx-py3.11/lib/python3.11/site-packages/httpx/_client.py#1773\u001b\\\u001b[2m1773\u001b[0m\u001b]8;;\u001b\\\n",
       "\u001b[2;36m                    \u001b[0m         \u001b[4;94mhttp://localhost:11434/api/generate\u001b[0m \u001b[32m\"HTTP/1.1 200 OK\"\u001b[0m                  \u001b[2m               \u001b[0m\n"
      ]
     },
     "metadata": {},
     "output_type": "display_data"
    },
    {
     "data": {
      "text/html": [
       "<pre style=\"white-space:pre;overflow-x:auto;line-height:normal;font-family:Menlo,'DejaVu Sans Mono',consolas,'Courier New',monospace\"><span style=\"color: #7fbfbf; text-decoration-color: #7fbfbf\">[07/12/24 17:50:35] </span><span style=\"color: #000080; text-decoration-color: #000080\">INFO    </span> <span style=\"font-weight: bold\">[</span>_client.py:<span style=\"color: #008080; text-decoration-color: #008080; font-weight: bold\">1773</span><span style=\"font-weight: bold\">]</span> &gt;&gt; HTTP Request: <span style=\"color: #808000; text-decoration-color: #808000; font-weight: bold\">POST</span>                                <a href=\"file:///Users/anpigon/Library/Caches/pypoetry/virtualenvs/autorag-tutorial-ko-GYvpjDIx-py3.11/lib/python3.11/site-packages/httpx/_client.py\" target=\"_blank\"><span style=\"color: #7f7f7f; text-decoration-color: #7f7f7f\">_client.py</span></a><span style=\"color: #7f7f7f; text-decoration-color: #7f7f7f\">:</span><a href=\"file:///Users/anpigon/Library/Caches/pypoetry/virtualenvs/autorag-tutorial-ko-GYvpjDIx-py3.11/lib/python3.11/site-packages/httpx/_client.py#1773\" target=\"_blank\"><span style=\"color: #7f7f7f; text-decoration-color: #7f7f7f\">1773</span></a>\n",
       "<span style=\"color: #7fbfbf; text-decoration-color: #7fbfbf\">                    </span>         <span style=\"color: #0000ff; text-decoration-color: #0000ff; text-decoration: underline\">http://localhost:11434/api/generate</span> <span style=\"color: #008000; text-decoration-color: #008000\">\"HTTP/1.1 200 OK\"</span>                  <span style=\"color: #7f7f7f; text-decoration-color: #7f7f7f\">               </span>\n",
       "</pre>\n"
      ],
      "text/plain": [
       "\u001b[2;36m[07/12/24 17:50:35]\u001b[0m\u001b[2;36m \u001b[0m\u001b[34mINFO    \u001b[0m \u001b[1m[\u001b[0m_client.py:\u001b[1;36m1773\u001b[0m\u001b[1m]\u001b[0m >> HTTP Request: \u001b[1;33mPOST\u001b[0m                                \u001b]8;id=514967;file:///Users/anpigon/Library/Caches/pypoetry/virtualenvs/autorag-tutorial-ko-GYvpjDIx-py3.11/lib/python3.11/site-packages/httpx/_client.py\u001b\\\u001b[2m_client.py\u001b[0m\u001b]8;;\u001b\\\u001b[2m:\u001b[0m\u001b]8;id=896587;file:///Users/anpigon/Library/Caches/pypoetry/virtualenvs/autorag-tutorial-ko-GYvpjDIx-py3.11/lib/python3.11/site-packages/httpx/_client.py#1773\u001b\\\u001b[2m1773\u001b[0m\u001b]8;;\u001b\\\n",
       "\u001b[2;36m                    \u001b[0m         \u001b[4;94mhttp://localhost:11434/api/generate\u001b[0m \u001b[32m\"HTTP/1.1 200 OK\"\u001b[0m                  \u001b[2m               \u001b[0m\n"
      ]
     },
     "metadata": {},
     "output_type": "display_data"
    },
    {
     "data": {
      "text/html": [
       "<pre style=\"white-space:pre;overflow-x:auto;line-height:normal;font-family:Menlo,'DejaVu Sans Mono',consolas,'Courier New',monospace\"><span style=\"color: #7fbfbf; text-decoration-color: #7fbfbf\">[07/12/24 17:50:54] </span><span style=\"color: #000080; text-decoration-color: #000080\">INFO    </span> <span style=\"font-weight: bold\">[</span>_client.py:<span style=\"color: #008080; text-decoration-color: #008080; font-weight: bold\">1773</span><span style=\"font-weight: bold\">]</span> &gt;&gt; HTTP Request: <span style=\"color: #808000; text-decoration-color: #808000; font-weight: bold\">POST</span>                                <a href=\"file:///Users/anpigon/Library/Caches/pypoetry/virtualenvs/autorag-tutorial-ko-GYvpjDIx-py3.11/lib/python3.11/site-packages/httpx/_client.py\" target=\"_blank\"><span style=\"color: #7f7f7f; text-decoration-color: #7f7f7f\">_client.py</span></a><span style=\"color: #7f7f7f; text-decoration-color: #7f7f7f\">:</span><a href=\"file:///Users/anpigon/Library/Caches/pypoetry/virtualenvs/autorag-tutorial-ko-GYvpjDIx-py3.11/lib/python3.11/site-packages/httpx/_client.py#1773\" target=\"_blank\"><span style=\"color: #7f7f7f; text-decoration-color: #7f7f7f\">1773</span></a>\n",
       "<span style=\"color: #7fbfbf; text-decoration-color: #7fbfbf\">                    </span>         <span style=\"color: #0000ff; text-decoration-color: #0000ff; text-decoration: underline\">http://localhost:11434/api/generate</span> <span style=\"color: #008000; text-decoration-color: #008000\">\"HTTP/1.1 200 OK\"</span>                  <span style=\"color: #7f7f7f; text-decoration-color: #7f7f7f\">               </span>\n",
       "</pre>\n"
      ],
      "text/plain": [
       "\u001b[2;36m[07/12/24 17:50:54]\u001b[0m\u001b[2;36m \u001b[0m\u001b[34mINFO    \u001b[0m \u001b[1m[\u001b[0m_client.py:\u001b[1;36m1773\u001b[0m\u001b[1m]\u001b[0m >> HTTP Request: \u001b[1;33mPOST\u001b[0m                                \u001b]8;id=363786;file:///Users/anpigon/Library/Caches/pypoetry/virtualenvs/autorag-tutorial-ko-GYvpjDIx-py3.11/lib/python3.11/site-packages/httpx/_client.py\u001b\\\u001b[2m_client.py\u001b[0m\u001b]8;;\u001b\\\u001b[2m:\u001b[0m\u001b]8;id=469238;file:///Users/anpigon/Library/Caches/pypoetry/virtualenvs/autorag-tutorial-ko-GYvpjDIx-py3.11/lib/python3.11/site-packages/httpx/_client.py#1773\u001b\\\u001b[2m1773\u001b[0m\u001b]8;;\u001b\\\n",
       "\u001b[2;36m                    \u001b[0m         \u001b[4;94mhttp://localhost:11434/api/generate\u001b[0m \u001b[32m\"HTTP/1.1 200 OK\"\u001b[0m                  \u001b[2m               \u001b[0m\n"
      ]
     },
     "metadata": {},
     "output_type": "display_data"
    },
    {
     "data": {
      "text/html": [
       "<pre style=\"white-space:pre;overflow-x:auto;line-height:normal;font-family:Menlo,'DejaVu Sans Mono',consolas,'Courier New',monospace\"><span style=\"color: #7fbfbf; text-decoration-color: #7fbfbf\">[07/12/24 17:51:34] </span><span style=\"color: #000080; text-decoration-color: #000080\">INFO    </span> <span style=\"font-weight: bold\">[</span>_client.py:<span style=\"color: #008080; text-decoration-color: #008080; font-weight: bold\">1773</span><span style=\"font-weight: bold\">]</span> &gt;&gt; HTTP Request: <span style=\"color: #808000; text-decoration-color: #808000; font-weight: bold\">POST</span>                                <a href=\"file:///Users/anpigon/Library/Caches/pypoetry/virtualenvs/autorag-tutorial-ko-GYvpjDIx-py3.11/lib/python3.11/site-packages/httpx/_client.py\" target=\"_blank\"><span style=\"color: #7f7f7f; text-decoration-color: #7f7f7f\">_client.py</span></a><span style=\"color: #7f7f7f; text-decoration-color: #7f7f7f\">:</span><a href=\"file:///Users/anpigon/Library/Caches/pypoetry/virtualenvs/autorag-tutorial-ko-GYvpjDIx-py3.11/lib/python3.11/site-packages/httpx/_client.py#1773\" target=\"_blank\"><span style=\"color: #7f7f7f; text-decoration-color: #7f7f7f\">1773</span></a>\n",
       "<span style=\"color: #7fbfbf; text-decoration-color: #7fbfbf\">                    </span>         <span style=\"color: #0000ff; text-decoration-color: #0000ff; text-decoration: underline\">http://localhost:11434/api/generate</span> <span style=\"color: #008000; text-decoration-color: #008000\">\"HTTP/1.1 200 OK\"</span>                  <span style=\"color: #7f7f7f; text-decoration-color: #7f7f7f\">               </span>\n",
       "</pre>\n"
      ],
      "text/plain": [
       "\u001b[2;36m[07/12/24 17:51:34]\u001b[0m\u001b[2;36m \u001b[0m\u001b[34mINFO    \u001b[0m \u001b[1m[\u001b[0m_client.py:\u001b[1;36m1773\u001b[0m\u001b[1m]\u001b[0m >> HTTP Request: \u001b[1;33mPOST\u001b[0m                                \u001b]8;id=122927;file:///Users/anpigon/Library/Caches/pypoetry/virtualenvs/autorag-tutorial-ko-GYvpjDIx-py3.11/lib/python3.11/site-packages/httpx/_client.py\u001b\\\u001b[2m_client.py\u001b[0m\u001b]8;;\u001b\\\u001b[2m:\u001b[0m\u001b]8;id=264396;file:///Users/anpigon/Library/Caches/pypoetry/virtualenvs/autorag-tutorial-ko-GYvpjDIx-py3.11/lib/python3.11/site-packages/httpx/_client.py#1773\u001b\\\u001b[2m1773\u001b[0m\u001b]8;;\u001b\\\n",
       "\u001b[2;36m                    \u001b[0m         \u001b[4;94mhttp://localhost:11434/api/generate\u001b[0m \u001b[32m\"HTTP/1.1 200 OK\"\u001b[0m                  \u001b[2m               \u001b[0m\n"
      ]
     },
     "metadata": {},
     "output_type": "display_data"
    },
    {
     "data": {
      "text/html": [
       "<pre style=\"white-space:pre;overflow-x:auto;line-height:normal;font-family:Menlo,'DejaVu Sans Mono',consolas,'Courier New',monospace\"><span style=\"color: #7fbfbf; text-decoration-color: #7fbfbf\">[07/12/24 17:51:56] </span><span style=\"color: #000080; text-decoration-color: #000080\">INFO    </span> <span style=\"font-weight: bold\">[</span>_client.py:<span style=\"color: #008080; text-decoration-color: #008080; font-weight: bold\">1773</span><span style=\"font-weight: bold\">]</span> &gt;&gt; HTTP Request: <span style=\"color: #808000; text-decoration-color: #808000; font-weight: bold\">POST</span>                                <a href=\"file:///Users/anpigon/Library/Caches/pypoetry/virtualenvs/autorag-tutorial-ko-GYvpjDIx-py3.11/lib/python3.11/site-packages/httpx/_client.py\" target=\"_blank\"><span style=\"color: #7f7f7f; text-decoration-color: #7f7f7f\">_client.py</span></a><span style=\"color: #7f7f7f; text-decoration-color: #7f7f7f\">:</span><a href=\"file:///Users/anpigon/Library/Caches/pypoetry/virtualenvs/autorag-tutorial-ko-GYvpjDIx-py3.11/lib/python3.11/site-packages/httpx/_client.py#1773\" target=\"_blank\"><span style=\"color: #7f7f7f; text-decoration-color: #7f7f7f\">1773</span></a>\n",
       "<span style=\"color: #7fbfbf; text-decoration-color: #7fbfbf\">                    </span>         <span style=\"color: #0000ff; text-decoration-color: #0000ff; text-decoration: underline\">http://localhost:11434/api/generate</span> <span style=\"color: #008000; text-decoration-color: #008000\">\"HTTP/1.1 200 OK\"</span>                  <span style=\"color: #7f7f7f; text-decoration-color: #7f7f7f\">               </span>\n",
       "</pre>\n"
      ],
      "text/plain": [
       "\u001b[2;36m[07/12/24 17:51:56]\u001b[0m\u001b[2;36m \u001b[0m\u001b[34mINFO    \u001b[0m \u001b[1m[\u001b[0m_client.py:\u001b[1;36m1773\u001b[0m\u001b[1m]\u001b[0m >> HTTP Request: \u001b[1;33mPOST\u001b[0m                                \u001b]8;id=741200;file:///Users/anpigon/Library/Caches/pypoetry/virtualenvs/autorag-tutorial-ko-GYvpjDIx-py3.11/lib/python3.11/site-packages/httpx/_client.py\u001b\\\u001b[2m_client.py\u001b[0m\u001b]8;;\u001b\\\u001b[2m:\u001b[0m\u001b]8;id=827701;file:///Users/anpigon/Library/Caches/pypoetry/virtualenvs/autorag-tutorial-ko-GYvpjDIx-py3.11/lib/python3.11/site-packages/httpx/_client.py#1773\u001b\\\u001b[2m1773\u001b[0m\u001b]8;;\u001b\\\n",
       "\u001b[2;36m                    \u001b[0m         \u001b[4;94mhttp://localhost:11434/api/generate\u001b[0m \u001b[32m\"HTTP/1.1 200 OK\"\u001b[0m                  \u001b[2m               \u001b[0m\n"
      ]
     },
     "metadata": {},
     "output_type": "display_data"
    },
    {
     "data": {
      "text/html": [
       "<pre style=\"white-space:pre;overflow-x:auto;line-height:normal;font-family:Menlo,'DejaVu Sans Mono',consolas,'Courier New',monospace\"><span style=\"color: #7fbfbf; text-decoration-color: #7fbfbf\">[07/12/24 17:52:10] </span><span style=\"color: #000080; text-decoration-color: #000080\">INFO    </span> <span style=\"font-weight: bold\">[</span>_client.py:<span style=\"color: #008080; text-decoration-color: #008080; font-weight: bold\">1773</span><span style=\"font-weight: bold\">]</span> &gt;&gt; HTTP Request: <span style=\"color: #808000; text-decoration-color: #808000; font-weight: bold\">POST</span>                                <a href=\"file:///Users/anpigon/Library/Caches/pypoetry/virtualenvs/autorag-tutorial-ko-GYvpjDIx-py3.11/lib/python3.11/site-packages/httpx/_client.py\" target=\"_blank\"><span style=\"color: #7f7f7f; text-decoration-color: #7f7f7f\">_client.py</span></a><span style=\"color: #7f7f7f; text-decoration-color: #7f7f7f\">:</span><a href=\"file:///Users/anpigon/Library/Caches/pypoetry/virtualenvs/autorag-tutorial-ko-GYvpjDIx-py3.11/lib/python3.11/site-packages/httpx/_client.py#1773\" target=\"_blank\"><span style=\"color: #7f7f7f; text-decoration-color: #7f7f7f\">1773</span></a>\n",
       "<span style=\"color: #7fbfbf; text-decoration-color: #7fbfbf\">                    </span>         <span style=\"color: #0000ff; text-decoration-color: #0000ff; text-decoration: underline\">http://localhost:11434/api/generate</span> <span style=\"color: #008000; text-decoration-color: #008000\">\"HTTP/1.1 200 OK\"</span>                  <span style=\"color: #7f7f7f; text-decoration-color: #7f7f7f\">               </span>\n",
       "</pre>\n"
      ],
      "text/plain": [
       "\u001b[2;36m[07/12/24 17:52:10]\u001b[0m\u001b[2;36m \u001b[0m\u001b[34mINFO    \u001b[0m \u001b[1m[\u001b[0m_client.py:\u001b[1;36m1773\u001b[0m\u001b[1m]\u001b[0m >> HTTP Request: \u001b[1;33mPOST\u001b[0m                                \u001b]8;id=248543;file:///Users/anpigon/Library/Caches/pypoetry/virtualenvs/autorag-tutorial-ko-GYvpjDIx-py3.11/lib/python3.11/site-packages/httpx/_client.py\u001b\\\u001b[2m_client.py\u001b[0m\u001b]8;;\u001b\\\u001b[2m:\u001b[0m\u001b]8;id=52811;file:///Users/anpigon/Library/Caches/pypoetry/virtualenvs/autorag-tutorial-ko-GYvpjDIx-py3.11/lib/python3.11/site-packages/httpx/_client.py#1773\u001b\\\u001b[2m1773\u001b[0m\u001b]8;;\u001b\\\n",
       "\u001b[2;36m                    \u001b[0m         \u001b[4;94mhttp://localhost:11434/api/generate\u001b[0m \u001b[32m\"HTTP/1.1 200 OK\"\u001b[0m                  \u001b[2m               \u001b[0m\n"
      ]
     },
     "metadata": {},
     "output_type": "display_data"
    },
    {
     "data": {
      "text/html": [
       "<pre style=\"white-space:pre;overflow-x:auto;line-height:normal;font-family:Menlo,'DejaVu Sans Mono',consolas,'Courier New',monospace\"><span style=\"color: #7fbfbf; text-decoration-color: #7fbfbf\">[07/12/24 17:52:45] </span><span style=\"color: #000080; text-decoration-color: #000080\">INFO    </span> <span style=\"font-weight: bold\">[</span>_client.py:<span style=\"color: #008080; text-decoration-color: #008080; font-weight: bold\">1773</span><span style=\"font-weight: bold\">]</span> &gt;&gt; HTTP Request: <span style=\"color: #808000; text-decoration-color: #808000; font-weight: bold\">POST</span>                                <a href=\"file:///Users/anpigon/Library/Caches/pypoetry/virtualenvs/autorag-tutorial-ko-GYvpjDIx-py3.11/lib/python3.11/site-packages/httpx/_client.py\" target=\"_blank\"><span style=\"color: #7f7f7f; text-decoration-color: #7f7f7f\">_client.py</span></a><span style=\"color: #7f7f7f; text-decoration-color: #7f7f7f\">:</span><a href=\"file:///Users/anpigon/Library/Caches/pypoetry/virtualenvs/autorag-tutorial-ko-GYvpjDIx-py3.11/lib/python3.11/site-packages/httpx/_client.py#1773\" target=\"_blank\"><span style=\"color: #7f7f7f; text-decoration-color: #7f7f7f\">1773</span></a>\n",
       "<span style=\"color: #7fbfbf; text-decoration-color: #7fbfbf\">                    </span>         <span style=\"color: #0000ff; text-decoration-color: #0000ff; text-decoration: underline\">http://localhost:11434/api/generate</span> <span style=\"color: #008000; text-decoration-color: #008000\">\"HTTP/1.1 200 OK\"</span>                  <span style=\"color: #7f7f7f; text-decoration-color: #7f7f7f\">               </span>\n",
       "</pre>\n"
      ],
      "text/plain": [
       "\u001b[2;36m[07/12/24 17:52:45]\u001b[0m\u001b[2;36m \u001b[0m\u001b[34mINFO    \u001b[0m \u001b[1m[\u001b[0m_client.py:\u001b[1;36m1773\u001b[0m\u001b[1m]\u001b[0m >> HTTP Request: \u001b[1;33mPOST\u001b[0m                                \u001b]8;id=509478;file:///Users/anpigon/Library/Caches/pypoetry/virtualenvs/autorag-tutorial-ko-GYvpjDIx-py3.11/lib/python3.11/site-packages/httpx/_client.py\u001b\\\u001b[2m_client.py\u001b[0m\u001b]8;;\u001b\\\u001b[2m:\u001b[0m\u001b]8;id=959916;file:///Users/anpigon/Library/Caches/pypoetry/virtualenvs/autorag-tutorial-ko-GYvpjDIx-py3.11/lib/python3.11/site-packages/httpx/_client.py#1773\u001b\\\u001b[2m1773\u001b[0m\u001b]8;;\u001b\\\n",
       "\u001b[2;36m                    \u001b[0m         \u001b[4;94mhttp://localhost:11434/api/generate\u001b[0m \u001b[32m\"HTTP/1.1 200 OK\"\u001b[0m                  \u001b[2m               \u001b[0m\n"
      ]
     },
     "metadata": {},
     "output_type": "display_data"
    },
    {
     "data": {
      "text/html": [
       "<pre style=\"white-space:pre;overflow-x:auto;line-height:normal;font-family:Menlo,'DejaVu Sans Mono',consolas,'Courier New',monospace\"><span style=\"color: #7fbfbf; text-decoration-color: #7fbfbf\">[07/12/24 17:53:27] </span><span style=\"color: #000080; text-decoration-color: #000080\">INFO    </span> <span style=\"font-weight: bold\">[</span>_client.py:<span style=\"color: #008080; text-decoration-color: #008080; font-weight: bold\">1773</span><span style=\"font-weight: bold\">]</span> &gt;&gt; HTTP Request: <span style=\"color: #808000; text-decoration-color: #808000; font-weight: bold\">POST</span>                                <a href=\"file:///Users/anpigon/Library/Caches/pypoetry/virtualenvs/autorag-tutorial-ko-GYvpjDIx-py3.11/lib/python3.11/site-packages/httpx/_client.py\" target=\"_blank\"><span style=\"color: #7f7f7f; text-decoration-color: #7f7f7f\">_client.py</span></a><span style=\"color: #7f7f7f; text-decoration-color: #7f7f7f\">:</span><a href=\"file:///Users/anpigon/Library/Caches/pypoetry/virtualenvs/autorag-tutorial-ko-GYvpjDIx-py3.11/lib/python3.11/site-packages/httpx/_client.py#1773\" target=\"_blank\"><span style=\"color: #7f7f7f; text-decoration-color: #7f7f7f\">1773</span></a>\n",
       "<span style=\"color: #7fbfbf; text-decoration-color: #7fbfbf\">                    </span>         <span style=\"color: #0000ff; text-decoration-color: #0000ff; text-decoration: underline\">http://localhost:11434/api/generate</span> <span style=\"color: #008000; text-decoration-color: #008000\">\"HTTP/1.1 200 OK\"</span>                  <span style=\"color: #7f7f7f; text-decoration-color: #7f7f7f\">               </span>\n",
       "</pre>\n"
      ],
      "text/plain": [
       "\u001b[2;36m[07/12/24 17:53:27]\u001b[0m\u001b[2;36m \u001b[0m\u001b[34mINFO    \u001b[0m \u001b[1m[\u001b[0m_client.py:\u001b[1;36m1773\u001b[0m\u001b[1m]\u001b[0m >> HTTP Request: \u001b[1;33mPOST\u001b[0m                                \u001b]8;id=651472;file:///Users/anpigon/Library/Caches/pypoetry/virtualenvs/autorag-tutorial-ko-GYvpjDIx-py3.11/lib/python3.11/site-packages/httpx/_client.py\u001b\\\u001b[2m_client.py\u001b[0m\u001b]8;;\u001b\\\u001b[2m:\u001b[0m\u001b]8;id=737974;file:///Users/anpigon/Library/Caches/pypoetry/virtualenvs/autorag-tutorial-ko-GYvpjDIx-py3.11/lib/python3.11/site-packages/httpx/_client.py#1773\u001b\\\u001b[2m1773\u001b[0m\u001b]8;;\u001b\\\n",
       "\u001b[2;36m                    \u001b[0m         \u001b[4;94mhttp://localhost:11434/api/generate\u001b[0m \u001b[32m\"HTTP/1.1 200 OK\"\u001b[0m                  \u001b[2m               \u001b[0m\n"
      ]
     },
     "metadata": {},
     "output_type": "display_data"
    },
    {
     "data": {
      "text/html": [
       "<pre style=\"white-space:pre;overflow-x:auto;line-height:normal;font-family:Menlo,'DejaVu Sans Mono',consolas,'Courier New',monospace\"><span style=\"color: #7fbfbf; text-decoration-color: #7fbfbf\">[07/12/24 17:53:46] </span><span style=\"color: #000080; text-decoration-color: #000080\">INFO    </span> <span style=\"font-weight: bold\">[</span>_client.py:<span style=\"color: #008080; text-decoration-color: #008080; font-weight: bold\">1773</span><span style=\"font-weight: bold\">]</span> &gt;&gt; HTTP Request: <span style=\"color: #808000; text-decoration-color: #808000; font-weight: bold\">POST</span>                                <a href=\"file:///Users/anpigon/Library/Caches/pypoetry/virtualenvs/autorag-tutorial-ko-GYvpjDIx-py3.11/lib/python3.11/site-packages/httpx/_client.py\" target=\"_blank\"><span style=\"color: #7f7f7f; text-decoration-color: #7f7f7f\">_client.py</span></a><span style=\"color: #7f7f7f; text-decoration-color: #7f7f7f\">:</span><a href=\"file:///Users/anpigon/Library/Caches/pypoetry/virtualenvs/autorag-tutorial-ko-GYvpjDIx-py3.11/lib/python3.11/site-packages/httpx/_client.py#1773\" target=\"_blank\"><span style=\"color: #7f7f7f; text-decoration-color: #7f7f7f\">1773</span></a>\n",
       "<span style=\"color: #7fbfbf; text-decoration-color: #7fbfbf\">                    </span>         <span style=\"color: #0000ff; text-decoration-color: #0000ff; text-decoration: underline\">http://localhost:11434/api/generate</span> <span style=\"color: #008000; text-decoration-color: #008000\">\"HTTP/1.1 200 OK\"</span>                  <span style=\"color: #7f7f7f; text-decoration-color: #7f7f7f\">               </span>\n",
       "</pre>\n"
      ],
      "text/plain": [
       "\u001b[2;36m[07/12/24 17:53:46]\u001b[0m\u001b[2;36m \u001b[0m\u001b[34mINFO    \u001b[0m \u001b[1m[\u001b[0m_client.py:\u001b[1;36m1773\u001b[0m\u001b[1m]\u001b[0m >> HTTP Request: \u001b[1;33mPOST\u001b[0m                                \u001b]8;id=883667;file:///Users/anpigon/Library/Caches/pypoetry/virtualenvs/autorag-tutorial-ko-GYvpjDIx-py3.11/lib/python3.11/site-packages/httpx/_client.py\u001b\\\u001b[2m_client.py\u001b[0m\u001b]8;;\u001b\\\u001b[2m:\u001b[0m\u001b]8;id=535644;file:///Users/anpigon/Library/Caches/pypoetry/virtualenvs/autorag-tutorial-ko-GYvpjDIx-py3.11/lib/python3.11/site-packages/httpx/_client.py#1773\u001b\\\u001b[2m1773\u001b[0m\u001b]8;;\u001b\\\n",
       "\u001b[2;36m                    \u001b[0m         \u001b[4;94mhttp://localhost:11434/api/generate\u001b[0m \u001b[32m\"HTTP/1.1 200 OK\"\u001b[0m                  \u001b[2m               \u001b[0m\n"
      ]
     },
     "metadata": {},
     "output_type": "display_data"
    },
    {
     "data": {
      "text/html": [
       "<pre style=\"white-space:pre;overflow-x:auto;line-height:normal;font-family:Menlo,'DejaVu Sans Mono',consolas,'Courier New',monospace\"><span style=\"color: #7fbfbf; text-decoration-color: #7fbfbf\">[07/12/24 17:54:08] </span><span style=\"color: #000080; text-decoration-color: #000080\">INFO    </span> <span style=\"font-weight: bold\">[</span>_client.py:<span style=\"color: #008080; text-decoration-color: #008080; font-weight: bold\">1773</span><span style=\"font-weight: bold\">]</span> &gt;&gt; HTTP Request: <span style=\"color: #808000; text-decoration-color: #808000; font-weight: bold\">POST</span>                                <a href=\"file:///Users/anpigon/Library/Caches/pypoetry/virtualenvs/autorag-tutorial-ko-GYvpjDIx-py3.11/lib/python3.11/site-packages/httpx/_client.py\" target=\"_blank\"><span style=\"color: #7f7f7f; text-decoration-color: #7f7f7f\">_client.py</span></a><span style=\"color: #7f7f7f; text-decoration-color: #7f7f7f\">:</span><a href=\"file:///Users/anpigon/Library/Caches/pypoetry/virtualenvs/autorag-tutorial-ko-GYvpjDIx-py3.11/lib/python3.11/site-packages/httpx/_client.py#1773\" target=\"_blank\"><span style=\"color: #7f7f7f; text-decoration-color: #7f7f7f\">1773</span></a>\n",
       "<span style=\"color: #7fbfbf; text-decoration-color: #7fbfbf\">                    </span>         <span style=\"color: #0000ff; text-decoration-color: #0000ff; text-decoration: underline\">http://localhost:11434/api/generate</span> <span style=\"color: #008000; text-decoration-color: #008000\">\"HTTP/1.1 200 OK\"</span>                  <span style=\"color: #7f7f7f; text-decoration-color: #7f7f7f\">               </span>\n",
       "</pre>\n"
      ],
      "text/plain": [
       "\u001b[2;36m[07/12/24 17:54:08]\u001b[0m\u001b[2;36m \u001b[0m\u001b[34mINFO    \u001b[0m \u001b[1m[\u001b[0m_client.py:\u001b[1;36m1773\u001b[0m\u001b[1m]\u001b[0m >> HTTP Request: \u001b[1;33mPOST\u001b[0m                                \u001b]8;id=902522;file:///Users/anpigon/Library/Caches/pypoetry/virtualenvs/autorag-tutorial-ko-GYvpjDIx-py3.11/lib/python3.11/site-packages/httpx/_client.py\u001b\\\u001b[2m_client.py\u001b[0m\u001b]8;;\u001b\\\u001b[2m:\u001b[0m\u001b]8;id=272224;file:///Users/anpigon/Library/Caches/pypoetry/virtualenvs/autorag-tutorial-ko-GYvpjDIx-py3.11/lib/python3.11/site-packages/httpx/_client.py#1773\u001b\\\u001b[2m1773\u001b[0m\u001b]8;;\u001b\\\n",
       "\u001b[2;36m                    \u001b[0m         \u001b[4;94mhttp://localhost:11434/api/generate\u001b[0m \u001b[32m\"HTTP/1.1 200 OK\"\u001b[0m                  \u001b[2m               \u001b[0m\n"
      ]
     },
     "metadata": {},
     "output_type": "display_data"
    },
    {
     "data": {
      "text/html": [
       "<pre style=\"white-space:pre;overflow-x:auto;line-height:normal;font-family:Menlo,'DejaVu Sans Mono',consolas,'Courier New',monospace\"><span style=\"color: #7fbfbf; text-decoration-color: #7fbfbf\">[07/12/24 17:54:37] </span><span style=\"color: #000080; text-decoration-color: #000080\">INFO    </span> <span style=\"font-weight: bold\">[</span>_client.py:<span style=\"color: #008080; text-decoration-color: #008080; font-weight: bold\">1773</span><span style=\"font-weight: bold\">]</span> &gt;&gt; HTTP Request: <span style=\"color: #808000; text-decoration-color: #808000; font-weight: bold\">POST</span>                                <a href=\"file:///Users/anpigon/Library/Caches/pypoetry/virtualenvs/autorag-tutorial-ko-GYvpjDIx-py3.11/lib/python3.11/site-packages/httpx/_client.py\" target=\"_blank\"><span style=\"color: #7f7f7f; text-decoration-color: #7f7f7f\">_client.py</span></a><span style=\"color: #7f7f7f; text-decoration-color: #7f7f7f\">:</span><a href=\"file:///Users/anpigon/Library/Caches/pypoetry/virtualenvs/autorag-tutorial-ko-GYvpjDIx-py3.11/lib/python3.11/site-packages/httpx/_client.py#1773\" target=\"_blank\"><span style=\"color: #7f7f7f; text-decoration-color: #7f7f7f\">1773</span></a>\n",
       "<span style=\"color: #7fbfbf; text-decoration-color: #7fbfbf\">                    </span>         <span style=\"color: #0000ff; text-decoration-color: #0000ff; text-decoration: underline\">http://localhost:11434/api/generate</span> <span style=\"color: #008000; text-decoration-color: #008000\">\"HTTP/1.1 200 OK\"</span>                  <span style=\"color: #7f7f7f; text-decoration-color: #7f7f7f\">               </span>\n",
       "</pre>\n"
      ],
      "text/plain": [
       "\u001b[2;36m[07/12/24 17:54:37]\u001b[0m\u001b[2;36m \u001b[0m\u001b[34mINFO    \u001b[0m \u001b[1m[\u001b[0m_client.py:\u001b[1;36m1773\u001b[0m\u001b[1m]\u001b[0m >> HTTP Request: \u001b[1;33mPOST\u001b[0m                                \u001b]8;id=594197;file:///Users/anpigon/Library/Caches/pypoetry/virtualenvs/autorag-tutorial-ko-GYvpjDIx-py3.11/lib/python3.11/site-packages/httpx/_client.py\u001b\\\u001b[2m_client.py\u001b[0m\u001b]8;;\u001b\\\u001b[2m:\u001b[0m\u001b]8;id=211892;file:///Users/anpigon/Library/Caches/pypoetry/virtualenvs/autorag-tutorial-ko-GYvpjDIx-py3.11/lib/python3.11/site-packages/httpx/_client.py#1773\u001b\\\u001b[2m1773\u001b[0m\u001b]8;;\u001b\\\n",
       "\u001b[2;36m                    \u001b[0m         \u001b[4;94mhttp://localhost:11434/api/generate\u001b[0m \u001b[32m\"HTTP/1.1 200 OK\"\u001b[0m                  \u001b[2m               \u001b[0m\n"
      ]
     },
     "metadata": {},
     "output_type": "display_data"
    },
    {
     "data": {
      "text/html": [
       "<pre style=\"white-space:pre;overflow-x:auto;line-height:normal;font-family:Menlo,'DejaVu Sans Mono',consolas,'Courier New',monospace\"><span style=\"color: #7fbfbf; text-decoration-color: #7fbfbf\">[07/12/24 17:55:05] </span><span style=\"color: #000080; text-decoration-color: #000080\">INFO    </span> <span style=\"font-weight: bold\">[</span>_client.py:<span style=\"color: #008080; text-decoration-color: #008080; font-weight: bold\">1773</span><span style=\"font-weight: bold\">]</span> &gt;&gt; HTTP Request: <span style=\"color: #808000; text-decoration-color: #808000; font-weight: bold\">POST</span>                                <a href=\"file:///Users/anpigon/Library/Caches/pypoetry/virtualenvs/autorag-tutorial-ko-GYvpjDIx-py3.11/lib/python3.11/site-packages/httpx/_client.py\" target=\"_blank\"><span style=\"color: #7f7f7f; text-decoration-color: #7f7f7f\">_client.py</span></a><span style=\"color: #7f7f7f; text-decoration-color: #7f7f7f\">:</span><a href=\"file:///Users/anpigon/Library/Caches/pypoetry/virtualenvs/autorag-tutorial-ko-GYvpjDIx-py3.11/lib/python3.11/site-packages/httpx/_client.py#1773\" target=\"_blank\"><span style=\"color: #7f7f7f; text-decoration-color: #7f7f7f\">1773</span></a>\n",
       "<span style=\"color: #7fbfbf; text-decoration-color: #7fbfbf\">                    </span>         <span style=\"color: #0000ff; text-decoration-color: #0000ff; text-decoration: underline\">http://localhost:11434/api/generate</span> <span style=\"color: #008000; text-decoration-color: #008000\">\"HTTP/1.1 200 OK\"</span>                  <span style=\"color: #7f7f7f; text-decoration-color: #7f7f7f\">               </span>\n",
       "</pre>\n"
      ],
      "text/plain": [
       "\u001b[2;36m[07/12/24 17:55:05]\u001b[0m\u001b[2;36m \u001b[0m\u001b[34mINFO    \u001b[0m \u001b[1m[\u001b[0m_client.py:\u001b[1;36m1773\u001b[0m\u001b[1m]\u001b[0m >> HTTP Request: \u001b[1;33mPOST\u001b[0m                                \u001b]8;id=450374;file:///Users/anpigon/Library/Caches/pypoetry/virtualenvs/autorag-tutorial-ko-GYvpjDIx-py3.11/lib/python3.11/site-packages/httpx/_client.py\u001b\\\u001b[2m_client.py\u001b[0m\u001b]8;;\u001b\\\u001b[2m:\u001b[0m\u001b]8;id=107886;file:///Users/anpigon/Library/Caches/pypoetry/virtualenvs/autorag-tutorial-ko-GYvpjDIx-py3.11/lib/python3.11/site-packages/httpx/_client.py#1773\u001b\\\u001b[2m1773\u001b[0m\u001b]8;;\u001b\\\n",
       "\u001b[2;36m                    \u001b[0m         \u001b[4;94mhttp://localhost:11434/api/generate\u001b[0m \u001b[32m\"HTTP/1.1 200 OK\"\u001b[0m                  \u001b[2m               \u001b[0m\n"
      ]
     },
     "metadata": {},
     "output_type": "display_data"
    },
    {
     "data": {
      "text/html": [
       "<pre style=\"white-space:pre;overflow-x:auto;line-height:normal;font-family:Menlo,'DejaVu Sans Mono',consolas,'Courier New',monospace\"><span style=\"color: #7fbfbf; text-decoration-color: #7fbfbf\">[07/12/24 17:55:39] </span><span style=\"color: #000080; text-decoration-color: #000080\">INFO    </span> <span style=\"font-weight: bold\">[</span>_client.py:<span style=\"color: #008080; text-decoration-color: #008080; font-weight: bold\">1773</span><span style=\"font-weight: bold\">]</span> &gt;&gt; HTTP Request: <span style=\"color: #808000; text-decoration-color: #808000; font-weight: bold\">POST</span>                                <a href=\"file:///Users/anpigon/Library/Caches/pypoetry/virtualenvs/autorag-tutorial-ko-GYvpjDIx-py3.11/lib/python3.11/site-packages/httpx/_client.py\" target=\"_blank\"><span style=\"color: #7f7f7f; text-decoration-color: #7f7f7f\">_client.py</span></a><span style=\"color: #7f7f7f; text-decoration-color: #7f7f7f\">:</span><a href=\"file:///Users/anpigon/Library/Caches/pypoetry/virtualenvs/autorag-tutorial-ko-GYvpjDIx-py3.11/lib/python3.11/site-packages/httpx/_client.py#1773\" target=\"_blank\"><span style=\"color: #7f7f7f; text-decoration-color: #7f7f7f\">1773</span></a>\n",
       "<span style=\"color: #7fbfbf; text-decoration-color: #7fbfbf\">                    </span>         <span style=\"color: #0000ff; text-decoration-color: #0000ff; text-decoration: underline\">http://localhost:11434/api/generate</span> <span style=\"color: #008000; text-decoration-color: #008000\">\"HTTP/1.1 200 OK\"</span>                  <span style=\"color: #7f7f7f; text-decoration-color: #7f7f7f\">               </span>\n",
       "</pre>\n"
      ],
      "text/plain": [
       "\u001b[2;36m[07/12/24 17:55:39]\u001b[0m\u001b[2;36m \u001b[0m\u001b[34mINFO    \u001b[0m \u001b[1m[\u001b[0m_client.py:\u001b[1;36m1773\u001b[0m\u001b[1m]\u001b[0m >> HTTP Request: \u001b[1;33mPOST\u001b[0m                                \u001b]8;id=955262;file:///Users/anpigon/Library/Caches/pypoetry/virtualenvs/autorag-tutorial-ko-GYvpjDIx-py3.11/lib/python3.11/site-packages/httpx/_client.py\u001b\\\u001b[2m_client.py\u001b[0m\u001b]8;;\u001b\\\u001b[2m:\u001b[0m\u001b]8;id=386693;file:///Users/anpigon/Library/Caches/pypoetry/virtualenvs/autorag-tutorial-ko-GYvpjDIx-py3.11/lib/python3.11/site-packages/httpx/_client.py#1773\u001b\\\u001b[2m1773\u001b[0m\u001b]8;;\u001b\\\n",
       "\u001b[2;36m                    \u001b[0m         \u001b[4;94mhttp://localhost:11434/api/generate\u001b[0m \u001b[32m\"HTTP/1.1 200 OK\"\u001b[0m                  \u001b[2m               \u001b[0m\n"
      ]
     },
     "metadata": {},
     "output_type": "display_data"
    },
    {
     "data": {
      "text/html": [
       "<pre style=\"white-space:pre;overflow-x:auto;line-height:normal;font-family:Menlo,'DejaVu Sans Mono',consolas,'Courier New',monospace\"><span style=\"color: #7fbfbf; text-decoration-color: #7fbfbf\">[07/12/24 17:55:51] </span><span style=\"color: #000080; text-decoration-color: #000080\">INFO    </span> <span style=\"font-weight: bold\">[</span>_client.py:<span style=\"color: #008080; text-decoration-color: #008080; font-weight: bold\">1773</span><span style=\"font-weight: bold\">]</span> &gt;&gt; HTTP Request: <span style=\"color: #808000; text-decoration-color: #808000; font-weight: bold\">POST</span>                                <a href=\"file:///Users/anpigon/Library/Caches/pypoetry/virtualenvs/autorag-tutorial-ko-GYvpjDIx-py3.11/lib/python3.11/site-packages/httpx/_client.py\" target=\"_blank\"><span style=\"color: #7f7f7f; text-decoration-color: #7f7f7f\">_client.py</span></a><span style=\"color: #7f7f7f; text-decoration-color: #7f7f7f\">:</span><a href=\"file:///Users/anpigon/Library/Caches/pypoetry/virtualenvs/autorag-tutorial-ko-GYvpjDIx-py3.11/lib/python3.11/site-packages/httpx/_client.py#1773\" target=\"_blank\"><span style=\"color: #7f7f7f; text-decoration-color: #7f7f7f\">1773</span></a>\n",
       "<span style=\"color: #7fbfbf; text-decoration-color: #7fbfbf\">                    </span>         <span style=\"color: #0000ff; text-decoration-color: #0000ff; text-decoration: underline\">http://localhost:11434/api/generate</span> <span style=\"color: #008000; text-decoration-color: #008000\">\"HTTP/1.1 200 OK\"</span>                  <span style=\"color: #7f7f7f; text-decoration-color: #7f7f7f\">               </span>\n",
       "</pre>\n"
      ],
      "text/plain": [
       "\u001b[2;36m[07/12/24 17:55:51]\u001b[0m\u001b[2;36m \u001b[0m\u001b[34mINFO    \u001b[0m \u001b[1m[\u001b[0m_client.py:\u001b[1;36m1773\u001b[0m\u001b[1m]\u001b[0m >> HTTP Request: \u001b[1;33mPOST\u001b[0m                                \u001b]8;id=505871;file:///Users/anpigon/Library/Caches/pypoetry/virtualenvs/autorag-tutorial-ko-GYvpjDIx-py3.11/lib/python3.11/site-packages/httpx/_client.py\u001b\\\u001b[2m_client.py\u001b[0m\u001b]8;;\u001b\\\u001b[2m:\u001b[0m\u001b]8;id=613921;file:///Users/anpigon/Library/Caches/pypoetry/virtualenvs/autorag-tutorial-ko-GYvpjDIx-py3.11/lib/python3.11/site-packages/httpx/_client.py#1773\u001b\\\u001b[2m1773\u001b[0m\u001b]8;;\u001b\\\n",
       "\u001b[2;36m                    \u001b[0m         \u001b[4;94mhttp://localhost:11434/api/generate\u001b[0m \u001b[32m\"HTTP/1.1 200 OK\"\u001b[0m                  \u001b[2m               \u001b[0m\n"
      ]
     },
     "metadata": {},
     "output_type": "display_data"
    },
    {
     "data": {
      "text/html": [
       "<pre style=\"white-space:pre;overflow-x:auto;line-height:normal;font-family:Menlo,'DejaVu Sans Mono',consolas,'Courier New',monospace\"><span style=\"color: #7fbfbf; text-decoration-color: #7fbfbf\">[07/12/24 17:56:15] </span><span style=\"color: #000080; text-decoration-color: #000080\">INFO    </span> <span style=\"font-weight: bold\">[</span>_client.py:<span style=\"color: #008080; text-decoration-color: #008080; font-weight: bold\">1773</span><span style=\"font-weight: bold\">]</span> &gt;&gt; HTTP Request: <span style=\"color: #808000; text-decoration-color: #808000; font-weight: bold\">POST</span>                                <a href=\"file:///Users/anpigon/Library/Caches/pypoetry/virtualenvs/autorag-tutorial-ko-GYvpjDIx-py3.11/lib/python3.11/site-packages/httpx/_client.py\" target=\"_blank\"><span style=\"color: #7f7f7f; text-decoration-color: #7f7f7f\">_client.py</span></a><span style=\"color: #7f7f7f; text-decoration-color: #7f7f7f\">:</span><a href=\"file:///Users/anpigon/Library/Caches/pypoetry/virtualenvs/autorag-tutorial-ko-GYvpjDIx-py3.11/lib/python3.11/site-packages/httpx/_client.py#1773\" target=\"_blank\"><span style=\"color: #7f7f7f; text-decoration-color: #7f7f7f\">1773</span></a>\n",
       "<span style=\"color: #7fbfbf; text-decoration-color: #7fbfbf\">                    </span>         <span style=\"color: #0000ff; text-decoration-color: #0000ff; text-decoration: underline\">http://localhost:11434/api/generate</span> <span style=\"color: #008000; text-decoration-color: #008000\">\"HTTP/1.1 200 OK\"</span>                  <span style=\"color: #7f7f7f; text-decoration-color: #7f7f7f\">               </span>\n",
       "</pre>\n"
      ],
      "text/plain": [
       "\u001b[2;36m[07/12/24 17:56:15]\u001b[0m\u001b[2;36m \u001b[0m\u001b[34mINFO    \u001b[0m \u001b[1m[\u001b[0m_client.py:\u001b[1;36m1773\u001b[0m\u001b[1m]\u001b[0m >> HTTP Request: \u001b[1;33mPOST\u001b[0m                                \u001b]8;id=38148;file:///Users/anpigon/Library/Caches/pypoetry/virtualenvs/autorag-tutorial-ko-GYvpjDIx-py3.11/lib/python3.11/site-packages/httpx/_client.py\u001b\\\u001b[2m_client.py\u001b[0m\u001b]8;;\u001b\\\u001b[2m:\u001b[0m\u001b]8;id=652056;file:///Users/anpigon/Library/Caches/pypoetry/virtualenvs/autorag-tutorial-ko-GYvpjDIx-py3.11/lib/python3.11/site-packages/httpx/_client.py#1773\u001b\\\u001b[2m1773\u001b[0m\u001b]8;;\u001b\\\n",
       "\u001b[2;36m                    \u001b[0m         \u001b[4;94mhttp://localhost:11434/api/generate\u001b[0m \u001b[32m\"HTTP/1.1 200 OK\"\u001b[0m                  \u001b[2m               \u001b[0m\n"
      ]
     },
     "metadata": {},
     "output_type": "display_data"
    },
    {
     "data": {
      "text/html": [
       "<pre style=\"white-space:pre;overflow-x:auto;line-height:normal;font-family:Menlo,'DejaVu Sans Mono',consolas,'Courier New',monospace\"><span style=\"color: #7fbfbf; text-decoration-color: #7fbfbf\">[07/12/24 17:56:30] </span><span style=\"color: #000080; text-decoration-color: #000080\">INFO    </span> <span style=\"font-weight: bold\">[</span>_client.py:<span style=\"color: #008080; text-decoration-color: #008080; font-weight: bold\">1773</span><span style=\"font-weight: bold\">]</span> &gt;&gt; HTTP Request: <span style=\"color: #808000; text-decoration-color: #808000; font-weight: bold\">POST</span>                                <a href=\"file:///Users/anpigon/Library/Caches/pypoetry/virtualenvs/autorag-tutorial-ko-GYvpjDIx-py3.11/lib/python3.11/site-packages/httpx/_client.py\" target=\"_blank\"><span style=\"color: #7f7f7f; text-decoration-color: #7f7f7f\">_client.py</span></a><span style=\"color: #7f7f7f; text-decoration-color: #7f7f7f\">:</span><a href=\"file:///Users/anpigon/Library/Caches/pypoetry/virtualenvs/autorag-tutorial-ko-GYvpjDIx-py3.11/lib/python3.11/site-packages/httpx/_client.py#1773\" target=\"_blank\"><span style=\"color: #7f7f7f; text-decoration-color: #7f7f7f\">1773</span></a>\n",
       "<span style=\"color: #7fbfbf; text-decoration-color: #7fbfbf\">                    </span>         <span style=\"color: #0000ff; text-decoration-color: #0000ff; text-decoration: underline\">http://localhost:11434/api/generate</span> <span style=\"color: #008000; text-decoration-color: #008000\">\"HTTP/1.1 200 OK\"</span>                  <span style=\"color: #7f7f7f; text-decoration-color: #7f7f7f\">               </span>\n",
       "</pre>\n"
      ],
      "text/plain": [
       "\u001b[2;36m[07/12/24 17:56:30]\u001b[0m\u001b[2;36m \u001b[0m\u001b[34mINFO    \u001b[0m \u001b[1m[\u001b[0m_client.py:\u001b[1;36m1773\u001b[0m\u001b[1m]\u001b[0m >> HTTP Request: \u001b[1;33mPOST\u001b[0m                                \u001b]8;id=221635;file:///Users/anpigon/Library/Caches/pypoetry/virtualenvs/autorag-tutorial-ko-GYvpjDIx-py3.11/lib/python3.11/site-packages/httpx/_client.py\u001b\\\u001b[2m_client.py\u001b[0m\u001b]8;;\u001b\\\u001b[2m:\u001b[0m\u001b]8;id=951504;file:///Users/anpigon/Library/Caches/pypoetry/virtualenvs/autorag-tutorial-ko-GYvpjDIx-py3.11/lib/python3.11/site-packages/httpx/_client.py#1773\u001b\\\u001b[2m1773\u001b[0m\u001b]8;;\u001b\\\n",
       "\u001b[2;36m                    \u001b[0m         \u001b[4;94mhttp://localhost:11434/api/generate\u001b[0m \u001b[32m\"HTTP/1.1 200 OK\"\u001b[0m                  \u001b[2m               \u001b[0m\n"
      ]
     },
     "metadata": {},
     "output_type": "display_data"
    },
    {
     "data": {
      "text/html": [
       "<pre style=\"white-space:pre;overflow-x:auto;line-height:normal;font-family:Menlo,'DejaVu Sans Mono',consolas,'Courier New',monospace\"><span style=\"color: #7fbfbf; text-decoration-color: #7fbfbf\">[07/12/24 17:56:50] </span><span style=\"color: #000080; text-decoration-color: #000080\">INFO    </span> <span style=\"font-weight: bold\">[</span>_client.py:<span style=\"color: #008080; text-decoration-color: #008080; font-weight: bold\">1773</span><span style=\"font-weight: bold\">]</span> &gt;&gt; HTTP Request: <span style=\"color: #808000; text-decoration-color: #808000; font-weight: bold\">POST</span>                                <a href=\"file:///Users/anpigon/Library/Caches/pypoetry/virtualenvs/autorag-tutorial-ko-GYvpjDIx-py3.11/lib/python3.11/site-packages/httpx/_client.py\" target=\"_blank\"><span style=\"color: #7f7f7f; text-decoration-color: #7f7f7f\">_client.py</span></a><span style=\"color: #7f7f7f; text-decoration-color: #7f7f7f\">:</span><a href=\"file:///Users/anpigon/Library/Caches/pypoetry/virtualenvs/autorag-tutorial-ko-GYvpjDIx-py3.11/lib/python3.11/site-packages/httpx/_client.py#1773\" target=\"_blank\"><span style=\"color: #7f7f7f; text-decoration-color: #7f7f7f\">1773</span></a>\n",
       "<span style=\"color: #7fbfbf; text-decoration-color: #7fbfbf\">                    </span>         <span style=\"color: #0000ff; text-decoration-color: #0000ff; text-decoration: underline\">http://localhost:11434/api/generate</span> <span style=\"color: #008000; text-decoration-color: #008000\">\"HTTP/1.1 200 OK\"</span>                  <span style=\"color: #7f7f7f; text-decoration-color: #7f7f7f\">               </span>\n",
       "</pre>\n"
      ],
      "text/plain": [
       "\u001b[2;36m[07/12/24 17:56:50]\u001b[0m\u001b[2;36m \u001b[0m\u001b[34mINFO    \u001b[0m \u001b[1m[\u001b[0m_client.py:\u001b[1;36m1773\u001b[0m\u001b[1m]\u001b[0m >> HTTP Request: \u001b[1;33mPOST\u001b[0m                                \u001b]8;id=391987;file:///Users/anpigon/Library/Caches/pypoetry/virtualenvs/autorag-tutorial-ko-GYvpjDIx-py3.11/lib/python3.11/site-packages/httpx/_client.py\u001b\\\u001b[2m_client.py\u001b[0m\u001b]8;;\u001b\\\u001b[2m:\u001b[0m\u001b]8;id=66704;file:///Users/anpigon/Library/Caches/pypoetry/virtualenvs/autorag-tutorial-ko-GYvpjDIx-py3.11/lib/python3.11/site-packages/httpx/_client.py#1773\u001b\\\u001b[2m1773\u001b[0m\u001b]8;;\u001b\\\n",
       "\u001b[2;36m                    \u001b[0m         \u001b[4;94mhttp://localhost:11434/api/generate\u001b[0m \u001b[32m\"HTTP/1.1 200 OK\"\u001b[0m                  \u001b[2m               \u001b[0m\n"
      ]
     },
     "metadata": {},
     "output_type": "display_data"
    },
    {
     "data": {
      "text/html": [
       "<pre style=\"white-space:pre;overflow-x:auto;line-height:normal;font-family:Menlo,'DejaVu Sans Mono',consolas,'Courier New',monospace\"><span style=\"color: #7fbfbf; text-decoration-color: #7fbfbf\">[07/12/24 17:57:00] </span><span style=\"color: #000080; text-decoration-color: #000080\">INFO    </span> <span style=\"font-weight: bold\">[</span>_client.py:<span style=\"color: #008080; text-decoration-color: #008080; font-weight: bold\">1773</span><span style=\"font-weight: bold\">]</span> &gt;&gt; HTTP Request: <span style=\"color: #808000; text-decoration-color: #808000; font-weight: bold\">POST</span>                                <a href=\"file:///Users/anpigon/Library/Caches/pypoetry/virtualenvs/autorag-tutorial-ko-GYvpjDIx-py3.11/lib/python3.11/site-packages/httpx/_client.py\" target=\"_blank\"><span style=\"color: #7f7f7f; text-decoration-color: #7f7f7f\">_client.py</span></a><span style=\"color: #7f7f7f; text-decoration-color: #7f7f7f\">:</span><a href=\"file:///Users/anpigon/Library/Caches/pypoetry/virtualenvs/autorag-tutorial-ko-GYvpjDIx-py3.11/lib/python3.11/site-packages/httpx/_client.py#1773\" target=\"_blank\"><span style=\"color: #7f7f7f; text-decoration-color: #7f7f7f\">1773</span></a>\n",
       "<span style=\"color: #7fbfbf; text-decoration-color: #7fbfbf\">                    </span>         <span style=\"color: #0000ff; text-decoration-color: #0000ff; text-decoration: underline\">http://localhost:11434/api/generate</span> <span style=\"color: #008000; text-decoration-color: #008000\">\"HTTP/1.1 200 OK\"</span>                  <span style=\"color: #7f7f7f; text-decoration-color: #7f7f7f\">               </span>\n",
       "</pre>\n"
      ],
      "text/plain": [
       "\u001b[2;36m[07/12/24 17:57:00]\u001b[0m\u001b[2;36m \u001b[0m\u001b[34mINFO    \u001b[0m \u001b[1m[\u001b[0m_client.py:\u001b[1;36m1773\u001b[0m\u001b[1m]\u001b[0m >> HTTP Request: \u001b[1;33mPOST\u001b[0m                                \u001b]8;id=399708;file:///Users/anpigon/Library/Caches/pypoetry/virtualenvs/autorag-tutorial-ko-GYvpjDIx-py3.11/lib/python3.11/site-packages/httpx/_client.py\u001b\\\u001b[2m_client.py\u001b[0m\u001b]8;;\u001b\\\u001b[2m:\u001b[0m\u001b]8;id=157266;file:///Users/anpigon/Library/Caches/pypoetry/virtualenvs/autorag-tutorial-ko-GYvpjDIx-py3.11/lib/python3.11/site-packages/httpx/_client.py#1773\u001b\\\u001b[2m1773\u001b[0m\u001b]8;;\u001b\\\n",
       "\u001b[2;36m                    \u001b[0m         \u001b[4;94mhttp://localhost:11434/api/generate\u001b[0m \u001b[32m\"HTTP/1.1 200 OK\"\u001b[0m                  \u001b[2m               \u001b[0m\n"
      ]
     },
     "metadata": {},
     "output_type": "display_data"
    },
    {
     "data": {
      "text/html": [
       "<pre style=\"white-space:pre;overflow-x:auto;line-height:normal;font-family:Menlo,'DejaVu Sans Mono',consolas,'Courier New',monospace\"><span style=\"color: #7fbfbf; text-decoration-color: #7fbfbf\">[07/12/24 17:57:21] </span><span style=\"color: #000080; text-decoration-color: #000080\">INFO    </span> <span style=\"font-weight: bold\">[</span>_client.py:<span style=\"color: #008080; text-decoration-color: #008080; font-weight: bold\">1773</span><span style=\"font-weight: bold\">]</span> &gt;&gt; HTTP Request: <span style=\"color: #808000; text-decoration-color: #808000; font-weight: bold\">POST</span>                                <a href=\"file:///Users/anpigon/Library/Caches/pypoetry/virtualenvs/autorag-tutorial-ko-GYvpjDIx-py3.11/lib/python3.11/site-packages/httpx/_client.py\" target=\"_blank\"><span style=\"color: #7f7f7f; text-decoration-color: #7f7f7f\">_client.py</span></a><span style=\"color: #7f7f7f; text-decoration-color: #7f7f7f\">:</span><a href=\"file:///Users/anpigon/Library/Caches/pypoetry/virtualenvs/autorag-tutorial-ko-GYvpjDIx-py3.11/lib/python3.11/site-packages/httpx/_client.py#1773\" target=\"_blank\"><span style=\"color: #7f7f7f; text-decoration-color: #7f7f7f\">1773</span></a>\n",
       "<span style=\"color: #7fbfbf; text-decoration-color: #7fbfbf\">                    </span>         <span style=\"color: #0000ff; text-decoration-color: #0000ff; text-decoration: underline\">http://localhost:11434/api/generate</span> <span style=\"color: #008000; text-decoration-color: #008000\">\"HTTP/1.1 200 OK\"</span>                  <span style=\"color: #7f7f7f; text-decoration-color: #7f7f7f\">               </span>\n",
       "</pre>\n"
      ],
      "text/plain": [
       "\u001b[2;36m[07/12/24 17:57:21]\u001b[0m\u001b[2;36m \u001b[0m\u001b[34mINFO    \u001b[0m \u001b[1m[\u001b[0m_client.py:\u001b[1;36m1773\u001b[0m\u001b[1m]\u001b[0m >> HTTP Request: \u001b[1;33mPOST\u001b[0m                                \u001b]8;id=142598;file:///Users/anpigon/Library/Caches/pypoetry/virtualenvs/autorag-tutorial-ko-GYvpjDIx-py3.11/lib/python3.11/site-packages/httpx/_client.py\u001b\\\u001b[2m_client.py\u001b[0m\u001b]8;;\u001b\\\u001b[2m:\u001b[0m\u001b]8;id=589984;file:///Users/anpigon/Library/Caches/pypoetry/virtualenvs/autorag-tutorial-ko-GYvpjDIx-py3.11/lib/python3.11/site-packages/httpx/_client.py#1773\u001b\\\u001b[2m1773\u001b[0m\u001b]8;;\u001b\\\n",
       "\u001b[2;36m                    \u001b[0m         \u001b[4;94mhttp://localhost:11434/api/generate\u001b[0m \u001b[32m\"HTTP/1.1 200 OK\"\u001b[0m                  \u001b[2m               \u001b[0m\n"
      ]
     },
     "metadata": {},
     "output_type": "display_data"
    },
    {
     "data": {
      "text/html": [
       "<pre style=\"white-space:pre;overflow-x:auto;line-height:normal;font-family:Menlo,'DejaVu Sans Mono',consolas,'Courier New',monospace\"><span style=\"color: #7fbfbf; text-decoration-color: #7fbfbf\">[07/12/24 17:57:41] </span><span style=\"color: #000080; text-decoration-color: #000080\">INFO    </span> <span style=\"font-weight: bold\">[</span>_client.py:<span style=\"color: #008080; text-decoration-color: #008080; font-weight: bold\">1773</span><span style=\"font-weight: bold\">]</span> &gt;&gt; HTTP Request: <span style=\"color: #808000; text-decoration-color: #808000; font-weight: bold\">POST</span>                                <a href=\"file:///Users/anpigon/Library/Caches/pypoetry/virtualenvs/autorag-tutorial-ko-GYvpjDIx-py3.11/lib/python3.11/site-packages/httpx/_client.py\" target=\"_blank\"><span style=\"color: #7f7f7f; text-decoration-color: #7f7f7f\">_client.py</span></a><span style=\"color: #7f7f7f; text-decoration-color: #7f7f7f\">:</span><a href=\"file:///Users/anpigon/Library/Caches/pypoetry/virtualenvs/autorag-tutorial-ko-GYvpjDIx-py3.11/lib/python3.11/site-packages/httpx/_client.py#1773\" target=\"_blank\"><span style=\"color: #7f7f7f; text-decoration-color: #7f7f7f\">1773</span></a>\n",
       "<span style=\"color: #7fbfbf; text-decoration-color: #7fbfbf\">                    </span>         <span style=\"color: #0000ff; text-decoration-color: #0000ff; text-decoration: underline\">http://localhost:11434/api/generate</span> <span style=\"color: #008000; text-decoration-color: #008000\">\"HTTP/1.1 200 OK\"</span>                  <span style=\"color: #7f7f7f; text-decoration-color: #7f7f7f\">               </span>\n",
       "</pre>\n"
      ],
      "text/plain": [
       "\u001b[2;36m[07/12/24 17:57:41]\u001b[0m\u001b[2;36m \u001b[0m\u001b[34mINFO    \u001b[0m \u001b[1m[\u001b[0m_client.py:\u001b[1;36m1773\u001b[0m\u001b[1m]\u001b[0m >> HTTP Request: \u001b[1;33mPOST\u001b[0m                                \u001b]8;id=877507;file:///Users/anpigon/Library/Caches/pypoetry/virtualenvs/autorag-tutorial-ko-GYvpjDIx-py3.11/lib/python3.11/site-packages/httpx/_client.py\u001b\\\u001b[2m_client.py\u001b[0m\u001b]8;;\u001b\\\u001b[2m:\u001b[0m\u001b]8;id=199871;file:///Users/anpigon/Library/Caches/pypoetry/virtualenvs/autorag-tutorial-ko-GYvpjDIx-py3.11/lib/python3.11/site-packages/httpx/_client.py#1773\u001b\\\u001b[2m1773\u001b[0m\u001b]8;;\u001b\\\n",
       "\u001b[2;36m                    \u001b[0m         \u001b[4;94mhttp://localhost:11434/api/generate\u001b[0m \u001b[32m\"HTTP/1.1 200 OK\"\u001b[0m                  \u001b[2m               \u001b[0m\n"
      ]
     },
     "metadata": {},
     "output_type": "display_data"
    },
    {
     "data": {
      "text/html": [
       "<pre style=\"white-space:pre;overflow-x:auto;line-height:normal;font-family:Menlo,'DejaVu Sans Mono',consolas,'Courier New',monospace\"><span style=\"color: #7fbfbf; text-decoration-color: #7fbfbf\">[07/12/24 17:58:15] </span><span style=\"color: #000080; text-decoration-color: #000080\">INFO    </span> <span style=\"font-weight: bold\">[</span>_client.py:<span style=\"color: #008080; text-decoration-color: #008080; font-weight: bold\">1773</span><span style=\"font-weight: bold\">]</span> &gt;&gt; HTTP Request: <span style=\"color: #808000; text-decoration-color: #808000; font-weight: bold\">POST</span>                                <a href=\"file:///Users/anpigon/Library/Caches/pypoetry/virtualenvs/autorag-tutorial-ko-GYvpjDIx-py3.11/lib/python3.11/site-packages/httpx/_client.py\" target=\"_blank\"><span style=\"color: #7f7f7f; text-decoration-color: #7f7f7f\">_client.py</span></a><span style=\"color: #7f7f7f; text-decoration-color: #7f7f7f\">:</span><a href=\"file:///Users/anpigon/Library/Caches/pypoetry/virtualenvs/autorag-tutorial-ko-GYvpjDIx-py3.11/lib/python3.11/site-packages/httpx/_client.py#1773\" target=\"_blank\"><span style=\"color: #7f7f7f; text-decoration-color: #7f7f7f\">1773</span></a>\n",
       "<span style=\"color: #7fbfbf; text-decoration-color: #7fbfbf\">                    </span>         <span style=\"color: #0000ff; text-decoration-color: #0000ff; text-decoration: underline\">http://localhost:11434/api/generate</span> <span style=\"color: #008000; text-decoration-color: #008000\">\"HTTP/1.1 200 OK\"</span>                  <span style=\"color: #7f7f7f; text-decoration-color: #7f7f7f\">               </span>\n",
       "</pre>\n"
      ],
      "text/plain": [
       "\u001b[2;36m[07/12/24 17:58:15]\u001b[0m\u001b[2;36m \u001b[0m\u001b[34mINFO    \u001b[0m \u001b[1m[\u001b[0m_client.py:\u001b[1;36m1773\u001b[0m\u001b[1m]\u001b[0m >> HTTP Request: \u001b[1;33mPOST\u001b[0m                                \u001b]8;id=85819;file:///Users/anpigon/Library/Caches/pypoetry/virtualenvs/autorag-tutorial-ko-GYvpjDIx-py3.11/lib/python3.11/site-packages/httpx/_client.py\u001b\\\u001b[2m_client.py\u001b[0m\u001b]8;;\u001b\\\u001b[2m:\u001b[0m\u001b]8;id=184449;file:///Users/anpigon/Library/Caches/pypoetry/virtualenvs/autorag-tutorial-ko-GYvpjDIx-py3.11/lib/python3.11/site-packages/httpx/_client.py#1773\u001b\\\u001b[2m1773\u001b[0m\u001b]8;;\u001b\\\n",
       "\u001b[2;36m                    \u001b[0m         \u001b[4;94mhttp://localhost:11434/api/generate\u001b[0m \u001b[32m\"HTTP/1.1 200 OK\"\u001b[0m                  \u001b[2m               \u001b[0m\n"
      ]
     },
     "metadata": {},
     "output_type": "display_data"
    },
    {
     "data": {
      "text/html": [
       "<pre style=\"white-space:pre;overflow-x:auto;line-height:normal;font-family:Menlo,'DejaVu Sans Mono',consolas,'Courier New',monospace\"><span style=\"color: #7fbfbf; text-decoration-color: #7fbfbf\">[07/12/24 17:58:33] </span><span style=\"color: #000080; text-decoration-color: #000080\">INFO    </span> <span style=\"font-weight: bold\">[</span>_client.py:<span style=\"color: #008080; text-decoration-color: #008080; font-weight: bold\">1773</span><span style=\"font-weight: bold\">]</span> &gt;&gt; HTTP Request: <span style=\"color: #808000; text-decoration-color: #808000; font-weight: bold\">POST</span>                                <a href=\"file:///Users/anpigon/Library/Caches/pypoetry/virtualenvs/autorag-tutorial-ko-GYvpjDIx-py3.11/lib/python3.11/site-packages/httpx/_client.py\" target=\"_blank\"><span style=\"color: #7f7f7f; text-decoration-color: #7f7f7f\">_client.py</span></a><span style=\"color: #7f7f7f; text-decoration-color: #7f7f7f\">:</span><a href=\"file:///Users/anpigon/Library/Caches/pypoetry/virtualenvs/autorag-tutorial-ko-GYvpjDIx-py3.11/lib/python3.11/site-packages/httpx/_client.py#1773\" target=\"_blank\"><span style=\"color: #7f7f7f; text-decoration-color: #7f7f7f\">1773</span></a>\n",
       "<span style=\"color: #7fbfbf; text-decoration-color: #7fbfbf\">                    </span>         <span style=\"color: #0000ff; text-decoration-color: #0000ff; text-decoration: underline\">http://localhost:11434/api/generate</span> <span style=\"color: #008000; text-decoration-color: #008000\">\"HTTP/1.1 200 OK\"</span>                  <span style=\"color: #7f7f7f; text-decoration-color: #7f7f7f\">               </span>\n",
       "</pre>\n"
      ],
      "text/plain": [
       "\u001b[2;36m[07/12/24 17:58:33]\u001b[0m\u001b[2;36m \u001b[0m\u001b[34mINFO    \u001b[0m \u001b[1m[\u001b[0m_client.py:\u001b[1;36m1773\u001b[0m\u001b[1m]\u001b[0m >> HTTP Request: \u001b[1;33mPOST\u001b[0m                                \u001b]8;id=673176;file:///Users/anpigon/Library/Caches/pypoetry/virtualenvs/autorag-tutorial-ko-GYvpjDIx-py3.11/lib/python3.11/site-packages/httpx/_client.py\u001b\\\u001b[2m_client.py\u001b[0m\u001b]8;;\u001b\\\u001b[2m:\u001b[0m\u001b]8;id=369600;file:///Users/anpigon/Library/Caches/pypoetry/virtualenvs/autorag-tutorial-ko-GYvpjDIx-py3.11/lib/python3.11/site-packages/httpx/_client.py#1773\u001b\\\u001b[2m1773\u001b[0m\u001b]8;;\u001b\\\n",
       "\u001b[2;36m                    \u001b[0m         \u001b[4;94mhttp://localhost:11434/api/generate\u001b[0m \u001b[32m\"HTTP/1.1 200 OK\"\u001b[0m                  \u001b[2m               \u001b[0m\n"
      ]
     },
     "metadata": {},
     "output_type": "display_data"
    },
    {
     "data": {
      "text/html": [
       "<pre style=\"white-space:pre;overflow-x:auto;line-height:normal;font-family:Menlo,'DejaVu Sans Mono',consolas,'Courier New',monospace\"><span style=\"color: #7fbfbf; text-decoration-color: #7fbfbf\">[07/12/24 17:58:48] </span><span style=\"color: #000080; text-decoration-color: #000080\">INFO    </span> <span style=\"font-weight: bold\">[</span>_client.py:<span style=\"color: #008080; text-decoration-color: #008080; font-weight: bold\">1773</span><span style=\"font-weight: bold\">]</span> &gt;&gt; HTTP Request: <span style=\"color: #808000; text-decoration-color: #808000; font-weight: bold\">POST</span>                                <a href=\"file:///Users/anpigon/Library/Caches/pypoetry/virtualenvs/autorag-tutorial-ko-GYvpjDIx-py3.11/lib/python3.11/site-packages/httpx/_client.py\" target=\"_blank\"><span style=\"color: #7f7f7f; text-decoration-color: #7f7f7f\">_client.py</span></a><span style=\"color: #7f7f7f; text-decoration-color: #7f7f7f\">:</span><a href=\"file:///Users/anpigon/Library/Caches/pypoetry/virtualenvs/autorag-tutorial-ko-GYvpjDIx-py3.11/lib/python3.11/site-packages/httpx/_client.py#1773\" target=\"_blank\"><span style=\"color: #7f7f7f; text-decoration-color: #7f7f7f\">1773</span></a>\n",
       "<span style=\"color: #7fbfbf; text-decoration-color: #7fbfbf\">                    </span>         <span style=\"color: #0000ff; text-decoration-color: #0000ff; text-decoration: underline\">http://localhost:11434/api/generate</span> <span style=\"color: #008000; text-decoration-color: #008000\">\"HTTP/1.1 200 OK\"</span>                  <span style=\"color: #7f7f7f; text-decoration-color: #7f7f7f\">               </span>\n",
       "</pre>\n"
      ],
      "text/plain": [
       "\u001b[2;36m[07/12/24 17:58:48]\u001b[0m\u001b[2;36m \u001b[0m\u001b[34mINFO    \u001b[0m \u001b[1m[\u001b[0m_client.py:\u001b[1;36m1773\u001b[0m\u001b[1m]\u001b[0m >> HTTP Request: \u001b[1;33mPOST\u001b[0m                                \u001b]8;id=913681;file:///Users/anpigon/Library/Caches/pypoetry/virtualenvs/autorag-tutorial-ko-GYvpjDIx-py3.11/lib/python3.11/site-packages/httpx/_client.py\u001b\\\u001b[2m_client.py\u001b[0m\u001b]8;;\u001b\\\u001b[2m:\u001b[0m\u001b]8;id=652701;file:///Users/anpigon/Library/Caches/pypoetry/virtualenvs/autorag-tutorial-ko-GYvpjDIx-py3.11/lib/python3.11/site-packages/httpx/_client.py#1773\u001b\\\u001b[2m1773\u001b[0m\u001b]8;;\u001b\\\n",
       "\u001b[2;36m                    \u001b[0m         \u001b[4;94mhttp://localhost:11434/api/generate\u001b[0m \u001b[32m\"HTTP/1.1 200 OK\"\u001b[0m                  \u001b[2m               \u001b[0m\n"
      ]
     },
     "metadata": {},
     "output_type": "display_data"
    },
    {
     "data": {
      "text/html": [
       "<pre style=\"white-space:pre;overflow-x:auto;line-height:normal;font-family:Menlo,'DejaVu Sans Mono',consolas,'Courier New',monospace\"><span style=\"color: #7fbfbf; text-decoration-color: #7fbfbf\">[07/12/24 17:59:09] </span><span style=\"color: #000080; text-decoration-color: #000080\">INFO    </span> <span style=\"font-weight: bold\">[</span>_client.py:<span style=\"color: #008080; text-decoration-color: #008080; font-weight: bold\">1773</span><span style=\"font-weight: bold\">]</span> &gt;&gt; HTTP Request: <span style=\"color: #808000; text-decoration-color: #808000; font-weight: bold\">POST</span>                                <a href=\"file:///Users/anpigon/Library/Caches/pypoetry/virtualenvs/autorag-tutorial-ko-GYvpjDIx-py3.11/lib/python3.11/site-packages/httpx/_client.py\" target=\"_blank\"><span style=\"color: #7f7f7f; text-decoration-color: #7f7f7f\">_client.py</span></a><span style=\"color: #7f7f7f; text-decoration-color: #7f7f7f\">:</span><a href=\"file:///Users/anpigon/Library/Caches/pypoetry/virtualenvs/autorag-tutorial-ko-GYvpjDIx-py3.11/lib/python3.11/site-packages/httpx/_client.py#1773\" target=\"_blank\"><span style=\"color: #7f7f7f; text-decoration-color: #7f7f7f\">1773</span></a>\n",
       "<span style=\"color: #7fbfbf; text-decoration-color: #7fbfbf\">                    </span>         <span style=\"color: #0000ff; text-decoration-color: #0000ff; text-decoration: underline\">http://localhost:11434/api/generate</span> <span style=\"color: #008000; text-decoration-color: #008000\">\"HTTP/1.1 200 OK\"</span>                  <span style=\"color: #7f7f7f; text-decoration-color: #7f7f7f\">               </span>\n",
       "</pre>\n"
      ],
      "text/plain": [
       "\u001b[2;36m[07/12/24 17:59:09]\u001b[0m\u001b[2;36m \u001b[0m\u001b[34mINFO    \u001b[0m \u001b[1m[\u001b[0m_client.py:\u001b[1;36m1773\u001b[0m\u001b[1m]\u001b[0m >> HTTP Request: \u001b[1;33mPOST\u001b[0m                                \u001b]8;id=626808;file:///Users/anpigon/Library/Caches/pypoetry/virtualenvs/autorag-tutorial-ko-GYvpjDIx-py3.11/lib/python3.11/site-packages/httpx/_client.py\u001b\\\u001b[2m_client.py\u001b[0m\u001b]8;;\u001b\\\u001b[2m:\u001b[0m\u001b]8;id=631013;file:///Users/anpigon/Library/Caches/pypoetry/virtualenvs/autorag-tutorial-ko-GYvpjDIx-py3.11/lib/python3.11/site-packages/httpx/_client.py#1773\u001b\\\u001b[2m1773\u001b[0m\u001b]8;;\u001b\\\n",
       "\u001b[2;36m                    \u001b[0m         \u001b[4;94mhttp://localhost:11434/api/generate\u001b[0m \u001b[32m\"HTTP/1.1 200 OK\"\u001b[0m                  \u001b[2m               \u001b[0m\n"
      ]
     },
     "metadata": {},
     "output_type": "display_data"
    },
    {
     "data": {
      "text/html": [
       "<pre style=\"white-space:pre;overflow-x:auto;line-height:normal;font-family:Menlo,'DejaVu Sans Mono',consolas,'Courier New',monospace\"><span style=\"color: #7fbfbf; text-decoration-color: #7fbfbf\">[07/12/24 17:59:48] </span><span style=\"color: #000080; text-decoration-color: #000080\">INFO    </span> <span style=\"font-weight: bold\">[</span>_client.py:<span style=\"color: #008080; text-decoration-color: #008080; font-weight: bold\">1773</span><span style=\"font-weight: bold\">]</span> &gt;&gt; HTTP Request: <span style=\"color: #808000; text-decoration-color: #808000; font-weight: bold\">POST</span>                                <a href=\"file:///Users/anpigon/Library/Caches/pypoetry/virtualenvs/autorag-tutorial-ko-GYvpjDIx-py3.11/lib/python3.11/site-packages/httpx/_client.py\" target=\"_blank\"><span style=\"color: #7f7f7f; text-decoration-color: #7f7f7f\">_client.py</span></a><span style=\"color: #7f7f7f; text-decoration-color: #7f7f7f\">:</span><a href=\"file:///Users/anpigon/Library/Caches/pypoetry/virtualenvs/autorag-tutorial-ko-GYvpjDIx-py3.11/lib/python3.11/site-packages/httpx/_client.py#1773\" target=\"_blank\"><span style=\"color: #7f7f7f; text-decoration-color: #7f7f7f\">1773</span></a>\n",
       "<span style=\"color: #7fbfbf; text-decoration-color: #7fbfbf\">                    </span>         <span style=\"color: #0000ff; text-decoration-color: #0000ff; text-decoration: underline\">http://localhost:11434/api/generate</span> <span style=\"color: #008000; text-decoration-color: #008000\">\"HTTP/1.1 200 OK\"</span>                  <span style=\"color: #7f7f7f; text-decoration-color: #7f7f7f\">               </span>\n",
       "</pre>\n"
      ],
      "text/plain": [
       "\u001b[2;36m[07/12/24 17:59:48]\u001b[0m\u001b[2;36m \u001b[0m\u001b[34mINFO    \u001b[0m \u001b[1m[\u001b[0m_client.py:\u001b[1;36m1773\u001b[0m\u001b[1m]\u001b[0m >> HTTP Request: \u001b[1;33mPOST\u001b[0m                                \u001b]8;id=812513;file:///Users/anpigon/Library/Caches/pypoetry/virtualenvs/autorag-tutorial-ko-GYvpjDIx-py3.11/lib/python3.11/site-packages/httpx/_client.py\u001b\\\u001b[2m_client.py\u001b[0m\u001b]8;;\u001b\\\u001b[2m:\u001b[0m\u001b]8;id=676866;file:///Users/anpigon/Library/Caches/pypoetry/virtualenvs/autorag-tutorial-ko-GYvpjDIx-py3.11/lib/python3.11/site-packages/httpx/_client.py#1773\u001b\\\u001b[2m1773\u001b[0m\u001b]8;;\u001b\\\n",
       "\u001b[2;36m                    \u001b[0m         \u001b[4;94mhttp://localhost:11434/api/generate\u001b[0m \u001b[32m\"HTTP/1.1 200 OK\"\u001b[0m                  \u001b[2m               \u001b[0m\n"
      ]
     },
     "metadata": {},
     "output_type": "display_data"
    },
    {
     "data": {
      "text/html": [
       "<pre style=\"white-space:pre;overflow-x:auto;line-height:normal;font-family:Menlo,'DejaVu Sans Mono',consolas,'Courier New',monospace\"><span style=\"color: #7fbfbf; text-decoration-color: #7fbfbf\">[07/12/24 18:00:02] </span><span style=\"color: #000080; text-decoration-color: #000080\">INFO    </span> <span style=\"font-weight: bold\">[</span>_client.py:<span style=\"color: #008080; text-decoration-color: #008080; font-weight: bold\">1773</span><span style=\"font-weight: bold\">]</span> &gt;&gt; HTTP Request: <span style=\"color: #808000; text-decoration-color: #808000; font-weight: bold\">POST</span>                                <a href=\"file:///Users/anpigon/Library/Caches/pypoetry/virtualenvs/autorag-tutorial-ko-GYvpjDIx-py3.11/lib/python3.11/site-packages/httpx/_client.py\" target=\"_blank\"><span style=\"color: #7f7f7f; text-decoration-color: #7f7f7f\">_client.py</span></a><span style=\"color: #7f7f7f; text-decoration-color: #7f7f7f\">:</span><a href=\"file:///Users/anpigon/Library/Caches/pypoetry/virtualenvs/autorag-tutorial-ko-GYvpjDIx-py3.11/lib/python3.11/site-packages/httpx/_client.py#1773\" target=\"_blank\"><span style=\"color: #7f7f7f; text-decoration-color: #7f7f7f\">1773</span></a>\n",
       "<span style=\"color: #7fbfbf; text-decoration-color: #7fbfbf\">                    </span>         <span style=\"color: #0000ff; text-decoration-color: #0000ff; text-decoration: underline\">http://localhost:11434/api/generate</span> <span style=\"color: #008000; text-decoration-color: #008000\">\"HTTP/1.1 200 OK\"</span>                  <span style=\"color: #7f7f7f; text-decoration-color: #7f7f7f\">               </span>\n",
       "</pre>\n"
      ],
      "text/plain": [
       "\u001b[2;36m[07/12/24 18:00:02]\u001b[0m\u001b[2;36m \u001b[0m\u001b[34mINFO    \u001b[0m \u001b[1m[\u001b[0m_client.py:\u001b[1;36m1773\u001b[0m\u001b[1m]\u001b[0m >> HTTP Request: \u001b[1;33mPOST\u001b[0m                                \u001b]8;id=169325;file:///Users/anpigon/Library/Caches/pypoetry/virtualenvs/autorag-tutorial-ko-GYvpjDIx-py3.11/lib/python3.11/site-packages/httpx/_client.py\u001b\\\u001b[2m_client.py\u001b[0m\u001b]8;;\u001b\\\u001b[2m:\u001b[0m\u001b]8;id=616975;file:///Users/anpigon/Library/Caches/pypoetry/virtualenvs/autorag-tutorial-ko-GYvpjDIx-py3.11/lib/python3.11/site-packages/httpx/_client.py#1773\u001b\\\u001b[2m1773\u001b[0m\u001b]8;;\u001b\\\n",
       "\u001b[2;36m                    \u001b[0m         \u001b[4;94mhttp://localhost:11434/api/generate\u001b[0m \u001b[32m\"HTTP/1.1 200 OK\"\u001b[0m                  \u001b[2m               \u001b[0m\n"
      ]
     },
     "metadata": {},
     "output_type": "display_data"
    },
    {
     "data": {
      "text/html": [
       "<pre style=\"white-space:pre;overflow-x:auto;line-height:normal;font-family:Menlo,'DejaVu Sans Mono',consolas,'Courier New',monospace\"><span style=\"color: #7fbfbf; text-decoration-color: #7fbfbf\">[07/12/24 18:00:36] </span><span style=\"color: #000080; text-decoration-color: #000080\">INFO    </span> <span style=\"font-weight: bold\">[</span>_client.py:<span style=\"color: #008080; text-decoration-color: #008080; font-weight: bold\">1773</span><span style=\"font-weight: bold\">]</span> &gt;&gt; HTTP Request: <span style=\"color: #808000; text-decoration-color: #808000; font-weight: bold\">POST</span>                                <a href=\"file:///Users/anpigon/Library/Caches/pypoetry/virtualenvs/autorag-tutorial-ko-GYvpjDIx-py3.11/lib/python3.11/site-packages/httpx/_client.py\" target=\"_blank\"><span style=\"color: #7f7f7f; text-decoration-color: #7f7f7f\">_client.py</span></a><span style=\"color: #7f7f7f; text-decoration-color: #7f7f7f\">:</span><a href=\"file:///Users/anpigon/Library/Caches/pypoetry/virtualenvs/autorag-tutorial-ko-GYvpjDIx-py3.11/lib/python3.11/site-packages/httpx/_client.py#1773\" target=\"_blank\"><span style=\"color: #7f7f7f; text-decoration-color: #7f7f7f\">1773</span></a>\n",
       "<span style=\"color: #7fbfbf; text-decoration-color: #7fbfbf\">                    </span>         <span style=\"color: #0000ff; text-decoration-color: #0000ff; text-decoration: underline\">http://localhost:11434/api/generate</span> <span style=\"color: #008000; text-decoration-color: #008000\">\"HTTP/1.1 200 OK\"</span>                  <span style=\"color: #7f7f7f; text-decoration-color: #7f7f7f\">               </span>\n",
       "</pre>\n"
      ],
      "text/plain": [
       "\u001b[2;36m[07/12/24 18:00:36]\u001b[0m\u001b[2;36m \u001b[0m\u001b[34mINFO    \u001b[0m \u001b[1m[\u001b[0m_client.py:\u001b[1;36m1773\u001b[0m\u001b[1m]\u001b[0m >> HTTP Request: \u001b[1;33mPOST\u001b[0m                                \u001b]8;id=337315;file:///Users/anpigon/Library/Caches/pypoetry/virtualenvs/autorag-tutorial-ko-GYvpjDIx-py3.11/lib/python3.11/site-packages/httpx/_client.py\u001b\\\u001b[2m_client.py\u001b[0m\u001b]8;;\u001b\\\u001b[2m:\u001b[0m\u001b]8;id=394919;file:///Users/anpigon/Library/Caches/pypoetry/virtualenvs/autorag-tutorial-ko-GYvpjDIx-py3.11/lib/python3.11/site-packages/httpx/_client.py#1773\u001b\\\u001b[2m1773\u001b[0m\u001b]8;;\u001b\\\n",
       "\u001b[2;36m                    \u001b[0m         \u001b[4;94mhttp://localhost:11434/api/generate\u001b[0m \u001b[32m\"HTTP/1.1 200 OK\"\u001b[0m                  \u001b[2m               \u001b[0m\n"
      ]
     },
     "metadata": {},
     "output_type": "display_data"
    },
    {
     "data": {
      "text/html": [
       "<pre style=\"white-space:pre;overflow-x:auto;line-height:normal;font-family:Menlo,'DejaVu Sans Mono',consolas,'Courier New',monospace\"><span style=\"color: #7fbfbf; text-decoration-color: #7fbfbf\">[07/12/24 18:00:37] </span><span style=\"color: #000080; text-decoration-color: #000080\">INFO    </span> <span style=\"font-weight: bold\">[</span>base.py:<span style=\"color: #008080; text-decoration-color: #008080; font-weight: bold\">34</span><span style=\"font-weight: bold\">]</span> &gt;&gt; Running generator node - llama_index_llm module<span style=\"color: #808000; text-decoration-color: #808000\">...</span>          <a href=\"file:///Users/anpigon/Library/Caches/pypoetry/virtualenvs/autorag-tutorial-ko-GYvpjDIx-py3.11/lib/python3.11/site-packages/autorag/nodes/generator/base.py\" target=\"_blank\"><span style=\"color: #7f7f7f; text-decoration-color: #7f7f7f\">base.py</span></a><span style=\"color: #7f7f7f; text-decoration-color: #7f7f7f\">:</span><a href=\"file:///Users/anpigon/Library/Caches/pypoetry/virtualenvs/autorag-tutorial-ko-GYvpjDIx-py3.11/lib/python3.11/site-packages/autorag/nodes/generator/base.py#34\" target=\"_blank\"><span style=\"color: #7f7f7f; text-decoration-color: #7f7f7f\">34</span></a>\n",
       "</pre>\n"
      ],
      "text/plain": [
       "\u001b[2;36m[07/12/24 18:00:37]\u001b[0m\u001b[2;36m \u001b[0m\u001b[34mINFO    \u001b[0m \u001b[1m[\u001b[0mbase.py:\u001b[1;36m34\u001b[0m\u001b[1m]\u001b[0m >> Running generator node - llama_index_llm module\u001b[33m...\u001b[0m          \u001b]8;id=499894;file:///Users/anpigon/Library/Caches/pypoetry/virtualenvs/autorag-tutorial-ko-GYvpjDIx-py3.11/lib/python3.11/site-packages/autorag/nodes/generator/base.py\u001b\\\u001b[2mbase.py\u001b[0m\u001b]8;;\u001b\\\u001b[2m:\u001b[0m\u001b]8;id=899657;file:///Users/anpigon/Library/Caches/pypoetry/virtualenvs/autorag-tutorial-ko-GYvpjDIx-py3.11/lib/python3.11/site-packages/autorag/nodes/generator/base.py#34\u001b\\\u001b[2m34\u001b[0m\u001b]8;;\u001b\\\n"
      ]
     },
     "metadata": {},
     "output_type": "display_data"
    },
    {
     "data": {
      "text/html": [
       "<pre style=\"white-space:pre;overflow-x:auto;line-height:normal;font-family:Menlo,'DejaVu Sans Mono',consolas,'Courier New',monospace\"><span style=\"color: #7fbfbf; text-decoration-color: #7fbfbf\">[07/12/24 18:00:52] </span><span style=\"color: #000080; text-decoration-color: #000080\">INFO    </span> <span style=\"font-weight: bold\">[</span>_client.py:<span style=\"color: #008080; text-decoration-color: #008080; font-weight: bold\">1773</span><span style=\"font-weight: bold\">]</span> &gt;&gt; HTTP Request: <span style=\"color: #808000; text-decoration-color: #808000; font-weight: bold\">POST</span>                                <a href=\"file:///Users/anpigon/Library/Caches/pypoetry/virtualenvs/autorag-tutorial-ko-GYvpjDIx-py3.11/lib/python3.11/site-packages/httpx/_client.py\" target=\"_blank\"><span style=\"color: #7f7f7f; text-decoration-color: #7f7f7f\">_client.py</span></a><span style=\"color: #7f7f7f; text-decoration-color: #7f7f7f\">:</span><a href=\"file:///Users/anpigon/Library/Caches/pypoetry/virtualenvs/autorag-tutorial-ko-GYvpjDIx-py3.11/lib/python3.11/site-packages/httpx/_client.py#1773\" target=\"_blank\"><span style=\"color: #7f7f7f; text-decoration-color: #7f7f7f\">1773</span></a>\n",
       "<span style=\"color: #7fbfbf; text-decoration-color: #7fbfbf\">                    </span>         <span style=\"color: #0000ff; text-decoration-color: #0000ff; text-decoration: underline\">http://localhost:11434/api/generate</span> <span style=\"color: #008000; text-decoration-color: #008000\">\"HTTP/1.1 200 OK\"</span>                  <span style=\"color: #7f7f7f; text-decoration-color: #7f7f7f\">               </span>\n",
       "</pre>\n"
      ],
      "text/plain": [
       "\u001b[2;36m[07/12/24 18:00:52]\u001b[0m\u001b[2;36m \u001b[0m\u001b[34mINFO    \u001b[0m \u001b[1m[\u001b[0m_client.py:\u001b[1;36m1773\u001b[0m\u001b[1m]\u001b[0m >> HTTP Request: \u001b[1;33mPOST\u001b[0m                                \u001b]8;id=872675;file:///Users/anpigon/Library/Caches/pypoetry/virtualenvs/autorag-tutorial-ko-GYvpjDIx-py3.11/lib/python3.11/site-packages/httpx/_client.py\u001b\\\u001b[2m_client.py\u001b[0m\u001b]8;;\u001b\\\u001b[2m:\u001b[0m\u001b]8;id=459718;file:///Users/anpigon/Library/Caches/pypoetry/virtualenvs/autorag-tutorial-ko-GYvpjDIx-py3.11/lib/python3.11/site-packages/httpx/_client.py#1773\u001b\\\u001b[2m1773\u001b[0m\u001b]8;;\u001b\\\n",
       "\u001b[2;36m                    \u001b[0m         \u001b[4;94mhttp://localhost:11434/api/generate\u001b[0m \u001b[32m\"HTTP/1.1 200 OK\"\u001b[0m                  \u001b[2m               \u001b[0m\n"
      ]
     },
     "metadata": {},
     "output_type": "display_data"
    },
    {
     "data": {
      "text/html": [
       "<pre style=\"white-space:pre;overflow-x:auto;line-height:normal;font-family:Menlo,'DejaVu Sans Mono',consolas,'Courier New',monospace\"><span style=\"color: #7fbfbf; text-decoration-color: #7fbfbf\">[07/12/24 18:00:58] </span><span style=\"color: #000080; text-decoration-color: #000080\">INFO    </span> <span style=\"font-weight: bold\">[</span>_client.py:<span style=\"color: #008080; text-decoration-color: #008080; font-weight: bold\">1773</span><span style=\"font-weight: bold\">]</span> &gt;&gt; HTTP Request: <span style=\"color: #808000; text-decoration-color: #808000; font-weight: bold\">POST</span>                                <a href=\"file:///Users/anpigon/Library/Caches/pypoetry/virtualenvs/autorag-tutorial-ko-GYvpjDIx-py3.11/lib/python3.11/site-packages/httpx/_client.py\" target=\"_blank\"><span style=\"color: #7f7f7f; text-decoration-color: #7f7f7f\">_client.py</span></a><span style=\"color: #7f7f7f; text-decoration-color: #7f7f7f\">:</span><a href=\"file:///Users/anpigon/Library/Caches/pypoetry/virtualenvs/autorag-tutorial-ko-GYvpjDIx-py3.11/lib/python3.11/site-packages/httpx/_client.py#1773\" target=\"_blank\"><span style=\"color: #7f7f7f; text-decoration-color: #7f7f7f\">1773</span></a>\n",
       "<span style=\"color: #7fbfbf; text-decoration-color: #7fbfbf\">                    </span>         <span style=\"color: #0000ff; text-decoration-color: #0000ff; text-decoration: underline\">http://localhost:11434/api/generate</span> <span style=\"color: #008000; text-decoration-color: #008000\">\"HTTP/1.1 200 OK\"</span>                  <span style=\"color: #7f7f7f; text-decoration-color: #7f7f7f\">               </span>\n",
       "</pre>\n"
      ],
      "text/plain": [
       "\u001b[2;36m[07/12/24 18:00:58]\u001b[0m\u001b[2;36m \u001b[0m\u001b[34mINFO    \u001b[0m \u001b[1m[\u001b[0m_client.py:\u001b[1;36m1773\u001b[0m\u001b[1m]\u001b[0m >> HTTP Request: \u001b[1;33mPOST\u001b[0m                                \u001b]8;id=10775;file:///Users/anpigon/Library/Caches/pypoetry/virtualenvs/autorag-tutorial-ko-GYvpjDIx-py3.11/lib/python3.11/site-packages/httpx/_client.py\u001b\\\u001b[2m_client.py\u001b[0m\u001b]8;;\u001b\\\u001b[2m:\u001b[0m\u001b]8;id=626434;file:///Users/anpigon/Library/Caches/pypoetry/virtualenvs/autorag-tutorial-ko-GYvpjDIx-py3.11/lib/python3.11/site-packages/httpx/_client.py#1773\u001b\\\u001b[2m1773\u001b[0m\u001b]8;;\u001b\\\n",
       "\u001b[2;36m                    \u001b[0m         \u001b[4;94mhttp://localhost:11434/api/generate\u001b[0m \u001b[32m\"HTTP/1.1 200 OK\"\u001b[0m                  \u001b[2m               \u001b[0m\n"
      ]
     },
     "metadata": {},
     "output_type": "display_data"
    },
    {
     "data": {
      "text/html": [
       "<pre style=\"white-space:pre;overflow-x:auto;line-height:normal;font-family:Menlo,'DejaVu Sans Mono',consolas,'Courier New',monospace\"><span style=\"color: #7fbfbf; text-decoration-color: #7fbfbf\">[07/12/24 18:01:06] </span><span style=\"color: #000080; text-decoration-color: #000080\">INFO    </span> <span style=\"font-weight: bold\">[</span>_client.py:<span style=\"color: #008080; text-decoration-color: #008080; font-weight: bold\">1773</span><span style=\"font-weight: bold\">]</span> &gt;&gt; HTTP Request: <span style=\"color: #808000; text-decoration-color: #808000; font-weight: bold\">POST</span>                                <a href=\"file:///Users/anpigon/Library/Caches/pypoetry/virtualenvs/autorag-tutorial-ko-GYvpjDIx-py3.11/lib/python3.11/site-packages/httpx/_client.py\" target=\"_blank\"><span style=\"color: #7f7f7f; text-decoration-color: #7f7f7f\">_client.py</span></a><span style=\"color: #7f7f7f; text-decoration-color: #7f7f7f\">:</span><a href=\"file:///Users/anpigon/Library/Caches/pypoetry/virtualenvs/autorag-tutorial-ko-GYvpjDIx-py3.11/lib/python3.11/site-packages/httpx/_client.py#1773\" target=\"_blank\"><span style=\"color: #7f7f7f; text-decoration-color: #7f7f7f\">1773</span></a>\n",
       "<span style=\"color: #7fbfbf; text-decoration-color: #7fbfbf\">                    </span>         <span style=\"color: #0000ff; text-decoration-color: #0000ff; text-decoration: underline\">http://localhost:11434/api/generate</span> <span style=\"color: #008000; text-decoration-color: #008000\">\"HTTP/1.1 200 OK\"</span>                  <span style=\"color: #7f7f7f; text-decoration-color: #7f7f7f\">               </span>\n",
       "</pre>\n"
      ],
      "text/plain": [
       "\u001b[2;36m[07/12/24 18:01:06]\u001b[0m\u001b[2;36m \u001b[0m\u001b[34mINFO    \u001b[0m \u001b[1m[\u001b[0m_client.py:\u001b[1;36m1773\u001b[0m\u001b[1m]\u001b[0m >> HTTP Request: \u001b[1;33mPOST\u001b[0m                                \u001b]8;id=656162;file:///Users/anpigon/Library/Caches/pypoetry/virtualenvs/autorag-tutorial-ko-GYvpjDIx-py3.11/lib/python3.11/site-packages/httpx/_client.py\u001b\\\u001b[2m_client.py\u001b[0m\u001b]8;;\u001b\\\u001b[2m:\u001b[0m\u001b]8;id=295974;file:///Users/anpigon/Library/Caches/pypoetry/virtualenvs/autorag-tutorial-ko-GYvpjDIx-py3.11/lib/python3.11/site-packages/httpx/_client.py#1773\u001b\\\u001b[2m1773\u001b[0m\u001b]8;;\u001b\\\n",
       "\u001b[2;36m                    \u001b[0m         \u001b[4;94mhttp://localhost:11434/api/generate\u001b[0m \u001b[32m\"HTTP/1.1 200 OK\"\u001b[0m                  \u001b[2m               \u001b[0m\n"
      ]
     },
     "metadata": {},
     "output_type": "display_data"
    },
    {
     "data": {
      "text/html": [
       "<pre style=\"white-space:pre;overflow-x:auto;line-height:normal;font-family:Menlo,'DejaVu Sans Mono',consolas,'Courier New',monospace\"><span style=\"color: #7fbfbf; text-decoration-color: #7fbfbf\">[07/12/24 18:01:11] </span><span style=\"color: #000080; text-decoration-color: #000080\">INFO    </span> <span style=\"font-weight: bold\">[</span>_client.py:<span style=\"color: #008080; text-decoration-color: #008080; font-weight: bold\">1773</span><span style=\"font-weight: bold\">]</span> &gt;&gt; HTTP Request: <span style=\"color: #808000; text-decoration-color: #808000; font-weight: bold\">POST</span>                                <a href=\"file:///Users/anpigon/Library/Caches/pypoetry/virtualenvs/autorag-tutorial-ko-GYvpjDIx-py3.11/lib/python3.11/site-packages/httpx/_client.py\" target=\"_blank\"><span style=\"color: #7f7f7f; text-decoration-color: #7f7f7f\">_client.py</span></a><span style=\"color: #7f7f7f; text-decoration-color: #7f7f7f\">:</span><a href=\"file:///Users/anpigon/Library/Caches/pypoetry/virtualenvs/autorag-tutorial-ko-GYvpjDIx-py3.11/lib/python3.11/site-packages/httpx/_client.py#1773\" target=\"_blank\"><span style=\"color: #7f7f7f; text-decoration-color: #7f7f7f\">1773</span></a>\n",
       "<span style=\"color: #7fbfbf; text-decoration-color: #7fbfbf\">                    </span>         <span style=\"color: #0000ff; text-decoration-color: #0000ff; text-decoration: underline\">http://localhost:11434/api/generate</span> <span style=\"color: #008000; text-decoration-color: #008000\">\"HTTP/1.1 200 OK\"</span>                  <span style=\"color: #7f7f7f; text-decoration-color: #7f7f7f\">               </span>\n",
       "</pre>\n"
      ],
      "text/plain": [
       "\u001b[2;36m[07/12/24 18:01:11]\u001b[0m\u001b[2;36m \u001b[0m\u001b[34mINFO    \u001b[0m \u001b[1m[\u001b[0m_client.py:\u001b[1;36m1773\u001b[0m\u001b[1m]\u001b[0m >> HTTP Request: \u001b[1;33mPOST\u001b[0m                                \u001b]8;id=721319;file:///Users/anpigon/Library/Caches/pypoetry/virtualenvs/autorag-tutorial-ko-GYvpjDIx-py3.11/lib/python3.11/site-packages/httpx/_client.py\u001b\\\u001b[2m_client.py\u001b[0m\u001b]8;;\u001b\\\u001b[2m:\u001b[0m\u001b]8;id=656905;file:///Users/anpigon/Library/Caches/pypoetry/virtualenvs/autorag-tutorial-ko-GYvpjDIx-py3.11/lib/python3.11/site-packages/httpx/_client.py#1773\u001b\\\u001b[2m1773\u001b[0m\u001b]8;;\u001b\\\n",
       "\u001b[2;36m                    \u001b[0m         \u001b[4;94mhttp://localhost:11434/api/generate\u001b[0m \u001b[32m\"HTTP/1.1 200 OK\"\u001b[0m                  \u001b[2m               \u001b[0m\n"
      ]
     },
     "metadata": {},
     "output_type": "display_data"
    },
    {
     "data": {
      "text/html": [
       "<pre style=\"white-space:pre;overflow-x:auto;line-height:normal;font-family:Menlo,'DejaVu Sans Mono',consolas,'Courier New',monospace\"><span style=\"color: #7fbfbf; text-decoration-color: #7fbfbf\">[07/12/24 18:01:20] </span><span style=\"color: #000080; text-decoration-color: #000080\">INFO    </span> <span style=\"font-weight: bold\">[</span>_client.py:<span style=\"color: #008080; text-decoration-color: #008080; font-weight: bold\">1773</span><span style=\"font-weight: bold\">]</span> &gt;&gt; HTTP Request: <span style=\"color: #808000; text-decoration-color: #808000; font-weight: bold\">POST</span>                                <a href=\"file:///Users/anpigon/Library/Caches/pypoetry/virtualenvs/autorag-tutorial-ko-GYvpjDIx-py3.11/lib/python3.11/site-packages/httpx/_client.py\" target=\"_blank\"><span style=\"color: #7f7f7f; text-decoration-color: #7f7f7f\">_client.py</span></a><span style=\"color: #7f7f7f; text-decoration-color: #7f7f7f\">:</span><a href=\"file:///Users/anpigon/Library/Caches/pypoetry/virtualenvs/autorag-tutorial-ko-GYvpjDIx-py3.11/lib/python3.11/site-packages/httpx/_client.py#1773\" target=\"_blank\"><span style=\"color: #7f7f7f; text-decoration-color: #7f7f7f\">1773</span></a>\n",
       "<span style=\"color: #7fbfbf; text-decoration-color: #7fbfbf\">                    </span>         <span style=\"color: #0000ff; text-decoration-color: #0000ff; text-decoration: underline\">http://localhost:11434/api/generate</span> <span style=\"color: #008000; text-decoration-color: #008000\">\"HTTP/1.1 200 OK\"</span>                  <span style=\"color: #7f7f7f; text-decoration-color: #7f7f7f\">               </span>\n",
       "</pre>\n"
      ],
      "text/plain": [
       "\u001b[2;36m[07/12/24 18:01:20]\u001b[0m\u001b[2;36m \u001b[0m\u001b[34mINFO    \u001b[0m \u001b[1m[\u001b[0m_client.py:\u001b[1;36m1773\u001b[0m\u001b[1m]\u001b[0m >> HTTP Request: \u001b[1;33mPOST\u001b[0m                                \u001b]8;id=696260;file:///Users/anpigon/Library/Caches/pypoetry/virtualenvs/autorag-tutorial-ko-GYvpjDIx-py3.11/lib/python3.11/site-packages/httpx/_client.py\u001b\\\u001b[2m_client.py\u001b[0m\u001b]8;;\u001b\\\u001b[2m:\u001b[0m\u001b]8;id=223257;file:///Users/anpigon/Library/Caches/pypoetry/virtualenvs/autorag-tutorial-ko-GYvpjDIx-py3.11/lib/python3.11/site-packages/httpx/_client.py#1773\u001b\\\u001b[2m1773\u001b[0m\u001b]8;;\u001b\\\n",
       "\u001b[2;36m                    \u001b[0m         \u001b[4;94mhttp://localhost:11434/api/generate\u001b[0m \u001b[32m\"HTTP/1.1 200 OK\"\u001b[0m                  \u001b[2m               \u001b[0m\n"
      ]
     },
     "metadata": {},
     "output_type": "display_data"
    },
    {
     "data": {
      "text/html": [
       "<pre style=\"white-space:pre;overflow-x:auto;line-height:normal;font-family:Menlo,'DejaVu Sans Mono',consolas,'Courier New',monospace\"><span style=\"color: #7fbfbf; text-decoration-color: #7fbfbf\">[07/12/24 18:01:25] </span><span style=\"color: #000080; text-decoration-color: #000080\">INFO    </span> <span style=\"font-weight: bold\">[</span>_client.py:<span style=\"color: #008080; text-decoration-color: #008080; font-weight: bold\">1773</span><span style=\"font-weight: bold\">]</span> &gt;&gt; HTTP Request: <span style=\"color: #808000; text-decoration-color: #808000; font-weight: bold\">POST</span>                                <a href=\"file:///Users/anpigon/Library/Caches/pypoetry/virtualenvs/autorag-tutorial-ko-GYvpjDIx-py3.11/lib/python3.11/site-packages/httpx/_client.py\" target=\"_blank\"><span style=\"color: #7f7f7f; text-decoration-color: #7f7f7f\">_client.py</span></a><span style=\"color: #7f7f7f; text-decoration-color: #7f7f7f\">:</span><a href=\"file:///Users/anpigon/Library/Caches/pypoetry/virtualenvs/autorag-tutorial-ko-GYvpjDIx-py3.11/lib/python3.11/site-packages/httpx/_client.py#1773\" target=\"_blank\"><span style=\"color: #7f7f7f; text-decoration-color: #7f7f7f\">1773</span></a>\n",
       "<span style=\"color: #7fbfbf; text-decoration-color: #7fbfbf\">                    </span>         <span style=\"color: #0000ff; text-decoration-color: #0000ff; text-decoration: underline\">http://localhost:11434/api/generate</span> <span style=\"color: #008000; text-decoration-color: #008000\">\"HTTP/1.1 200 OK\"</span>                  <span style=\"color: #7f7f7f; text-decoration-color: #7f7f7f\">               </span>\n",
       "</pre>\n"
      ],
      "text/plain": [
       "\u001b[2;36m[07/12/24 18:01:25]\u001b[0m\u001b[2;36m \u001b[0m\u001b[34mINFO    \u001b[0m \u001b[1m[\u001b[0m_client.py:\u001b[1;36m1773\u001b[0m\u001b[1m]\u001b[0m >> HTTP Request: \u001b[1;33mPOST\u001b[0m                                \u001b]8;id=173522;file:///Users/anpigon/Library/Caches/pypoetry/virtualenvs/autorag-tutorial-ko-GYvpjDIx-py3.11/lib/python3.11/site-packages/httpx/_client.py\u001b\\\u001b[2m_client.py\u001b[0m\u001b]8;;\u001b\\\u001b[2m:\u001b[0m\u001b]8;id=836028;file:///Users/anpigon/Library/Caches/pypoetry/virtualenvs/autorag-tutorial-ko-GYvpjDIx-py3.11/lib/python3.11/site-packages/httpx/_client.py#1773\u001b\\\u001b[2m1773\u001b[0m\u001b]8;;\u001b\\\n",
       "\u001b[2;36m                    \u001b[0m         \u001b[4;94mhttp://localhost:11434/api/generate\u001b[0m \u001b[32m\"HTTP/1.1 200 OK\"\u001b[0m                  \u001b[2m               \u001b[0m\n"
      ]
     },
     "metadata": {},
     "output_type": "display_data"
    },
    {
     "data": {
      "text/html": [
       "<pre style=\"white-space:pre;overflow-x:auto;line-height:normal;font-family:Menlo,'DejaVu Sans Mono',consolas,'Courier New',monospace\"><span style=\"color: #7fbfbf; text-decoration-color: #7fbfbf\">[07/12/24 18:01:34] </span><span style=\"color: #000080; text-decoration-color: #000080\">INFO    </span> <span style=\"font-weight: bold\">[</span>_client.py:<span style=\"color: #008080; text-decoration-color: #008080; font-weight: bold\">1773</span><span style=\"font-weight: bold\">]</span> &gt;&gt; HTTP Request: <span style=\"color: #808000; text-decoration-color: #808000; font-weight: bold\">POST</span>                                <a href=\"file:///Users/anpigon/Library/Caches/pypoetry/virtualenvs/autorag-tutorial-ko-GYvpjDIx-py3.11/lib/python3.11/site-packages/httpx/_client.py\" target=\"_blank\"><span style=\"color: #7f7f7f; text-decoration-color: #7f7f7f\">_client.py</span></a><span style=\"color: #7f7f7f; text-decoration-color: #7f7f7f\">:</span><a href=\"file:///Users/anpigon/Library/Caches/pypoetry/virtualenvs/autorag-tutorial-ko-GYvpjDIx-py3.11/lib/python3.11/site-packages/httpx/_client.py#1773\" target=\"_blank\"><span style=\"color: #7f7f7f; text-decoration-color: #7f7f7f\">1773</span></a>\n",
       "<span style=\"color: #7fbfbf; text-decoration-color: #7fbfbf\">                    </span>         <span style=\"color: #0000ff; text-decoration-color: #0000ff; text-decoration: underline\">http://localhost:11434/api/generate</span> <span style=\"color: #008000; text-decoration-color: #008000\">\"HTTP/1.1 200 OK\"</span>                  <span style=\"color: #7f7f7f; text-decoration-color: #7f7f7f\">               </span>\n",
       "</pre>\n"
      ],
      "text/plain": [
       "\u001b[2;36m[07/12/24 18:01:34]\u001b[0m\u001b[2;36m \u001b[0m\u001b[34mINFO    \u001b[0m \u001b[1m[\u001b[0m_client.py:\u001b[1;36m1773\u001b[0m\u001b[1m]\u001b[0m >> HTTP Request: \u001b[1;33mPOST\u001b[0m                                \u001b]8;id=470475;file:///Users/anpigon/Library/Caches/pypoetry/virtualenvs/autorag-tutorial-ko-GYvpjDIx-py3.11/lib/python3.11/site-packages/httpx/_client.py\u001b\\\u001b[2m_client.py\u001b[0m\u001b]8;;\u001b\\\u001b[2m:\u001b[0m\u001b]8;id=477896;file:///Users/anpigon/Library/Caches/pypoetry/virtualenvs/autorag-tutorial-ko-GYvpjDIx-py3.11/lib/python3.11/site-packages/httpx/_client.py#1773\u001b\\\u001b[2m1773\u001b[0m\u001b]8;;\u001b\\\n",
       "\u001b[2;36m                    \u001b[0m         \u001b[4;94mhttp://localhost:11434/api/generate\u001b[0m \u001b[32m\"HTTP/1.1 200 OK\"\u001b[0m                  \u001b[2m               \u001b[0m\n"
      ]
     },
     "metadata": {},
     "output_type": "display_data"
    },
    {
     "data": {
      "text/html": [
       "<pre style=\"white-space:pre;overflow-x:auto;line-height:normal;font-family:Menlo,'DejaVu Sans Mono',consolas,'Courier New',monospace\"><span style=\"color: #7fbfbf; text-decoration-color: #7fbfbf\">[07/12/24 18:01:40] </span><span style=\"color: #000080; text-decoration-color: #000080\">INFO    </span> <span style=\"font-weight: bold\">[</span>_client.py:<span style=\"color: #008080; text-decoration-color: #008080; font-weight: bold\">1773</span><span style=\"font-weight: bold\">]</span> &gt;&gt; HTTP Request: <span style=\"color: #808000; text-decoration-color: #808000; font-weight: bold\">POST</span>                                <a href=\"file:///Users/anpigon/Library/Caches/pypoetry/virtualenvs/autorag-tutorial-ko-GYvpjDIx-py3.11/lib/python3.11/site-packages/httpx/_client.py\" target=\"_blank\"><span style=\"color: #7f7f7f; text-decoration-color: #7f7f7f\">_client.py</span></a><span style=\"color: #7f7f7f; text-decoration-color: #7f7f7f\">:</span><a href=\"file:///Users/anpigon/Library/Caches/pypoetry/virtualenvs/autorag-tutorial-ko-GYvpjDIx-py3.11/lib/python3.11/site-packages/httpx/_client.py#1773\" target=\"_blank\"><span style=\"color: #7f7f7f; text-decoration-color: #7f7f7f\">1773</span></a>\n",
       "<span style=\"color: #7fbfbf; text-decoration-color: #7fbfbf\">                    </span>         <span style=\"color: #0000ff; text-decoration-color: #0000ff; text-decoration: underline\">http://localhost:11434/api/generate</span> <span style=\"color: #008000; text-decoration-color: #008000\">\"HTTP/1.1 200 OK\"</span>                  <span style=\"color: #7f7f7f; text-decoration-color: #7f7f7f\">               </span>\n",
       "</pre>\n"
      ],
      "text/plain": [
       "\u001b[2;36m[07/12/24 18:01:40]\u001b[0m\u001b[2;36m \u001b[0m\u001b[34mINFO    \u001b[0m \u001b[1m[\u001b[0m_client.py:\u001b[1;36m1773\u001b[0m\u001b[1m]\u001b[0m >> HTTP Request: \u001b[1;33mPOST\u001b[0m                                \u001b]8;id=70910;file:///Users/anpigon/Library/Caches/pypoetry/virtualenvs/autorag-tutorial-ko-GYvpjDIx-py3.11/lib/python3.11/site-packages/httpx/_client.py\u001b\\\u001b[2m_client.py\u001b[0m\u001b]8;;\u001b\\\u001b[2m:\u001b[0m\u001b]8;id=954455;file:///Users/anpigon/Library/Caches/pypoetry/virtualenvs/autorag-tutorial-ko-GYvpjDIx-py3.11/lib/python3.11/site-packages/httpx/_client.py#1773\u001b\\\u001b[2m1773\u001b[0m\u001b]8;;\u001b\\\n",
       "\u001b[2;36m                    \u001b[0m         \u001b[4;94mhttp://localhost:11434/api/generate\u001b[0m \u001b[32m\"HTTP/1.1 200 OK\"\u001b[0m                  \u001b[2m               \u001b[0m\n"
      ]
     },
     "metadata": {},
     "output_type": "display_data"
    },
    {
     "data": {
      "text/html": [
       "<pre style=\"white-space:pre;overflow-x:auto;line-height:normal;font-family:Menlo,'DejaVu Sans Mono',consolas,'Courier New',monospace\"><span style=\"color: #7fbfbf; text-decoration-color: #7fbfbf\">[07/12/24 18:01:52] </span><span style=\"color: #000080; text-decoration-color: #000080\">INFO    </span> <span style=\"font-weight: bold\">[</span>_client.py:<span style=\"color: #008080; text-decoration-color: #008080; font-weight: bold\">1773</span><span style=\"font-weight: bold\">]</span> &gt;&gt; HTTP Request: <span style=\"color: #808000; text-decoration-color: #808000; font-weight: bold\">POST</span>                                <a href=\"file:///Users/anpigon/Library/Caches/pypoetry/virtualenvs/autorag-tutorial-ko-GYvpjDIx-py3.11/lib/python3.11/site-packages/httpx/_client.py\" target=\"_blank\"><span style=\"color: #7f7f7f; text-decoration-color: #7f7f7f\">_client.py</span></a><span style=\"color: #7f7f7f; text-decoration-color: #7f7f7f\">:</span><a href=\"file:///Users/anpigon/Library/Caches/pypoetry/virtualenvs/autorag-tutorial-ko-GYvpjDIx-py3.11/lib/python3.11/site-packages/httpx/_client.py#1773\" target=\"_blank\"><span style=\"color: #7f7f7f; text-decoration-color: #7f7f7f\">1773</span></a>\n",
       "<span style=\"color: #7fbfbf; text-decoration-color: #7fbfbf\">                    </span>         <span style=\"color: #0000ff; text-decoration-color: #0000ff; text-decoration: underline\">http://localhost:11434/api/generate</span> <span style=\"color: #008000; text-decoration-color: #008000\">\"HTTP/1.1 200 OK\"</span>                  <span style=\"color: #7f7f7f; text-decoration-color: #7f7f7f\">               </span>\n",
       "</pre>\n"
      ],
      "text/plain": [
       "\u001b[2;36m[07/12/24 18:01:52]\u001b[0m\u001b[2;36m \u001b[0m\u001b[34mINFO    \u001b[0m \u001b[1m[\u001b[0m_client.py:\u001b[1;36m1773\u001b[0m\u001b[1m]\u001b[0m >> HTTP Request: \u001b[1;33mPOST\u001b[0m                                \u001b]8;id=321534;file:///Users/anpigon/Library/Caches/pypoetry/virtualenvs/autorag-tutorial-ko-GYvpjDIx-py3.11/lib/python3.11/site-packages/httpx/_client.py\u001b\\\u001b[2m_client.py\u001b[0m\u001b]8;;\u001b\\\u001b[2m:\u001b[0m\u001b]8;id=53042;file:///Users/anpigon/Library/Caches/pypoetry/virtualenvs/autorag-tutorial-ko-GYvpjDIx-py3.11/lib/python3.11/site-packages/httpx/_client.py#1773\u001b\\\u001b[2m1773\u001b[0m\u001b]8;;\u001b\\\n",
       "\u001b[2;36m                    \u001b[0m         \u001b[4;94mhttp://localhost:11434/api/generate\u001b[0m \u001b[32m\"HTTP/1.1 200 OK\"\u001b[0m                  \u001b[2m               \u001b[0m\n"
      ]
     },
     "metadata": {},
     "output_type": "display_data"
    },
    {
     "data": {
      "text/html": [
       "<pre style=\"white-space:pre;overflow-x:auto;line-height:normal;font-family:Menlo,'DejaVu Sans Mono',consolas,'Courier New',monospace\"><span style=\"color: #7fbfbf; text-decoration-color: #7fbfbf\">[07/12/24 18:02:04] </span><span style=\"color: #000080; text-decoration-color: #000080\">INFO    </span> <span style=\"font-weight: bold\">[</span>_client.py:<span style=\"color: #008080; text-decoration-color: #008080; font-weight: bold\">1773</span><span style=\"font-weight: bold\">]</span> &gt;&gt; HTTP Request: <span style=\"color: #808000; text-decoration-color: #808000; font-weight: bold\">POST</span>                                <a href=\"file:///Users/anpigon/Library/Caches/pypoetry/virtualenvs/autorag-tutorial-ko-GYvpjDIx-py3.11/lib/python3.11/site-packages/httpx/_client.py\" target=\"_blank\"><span style=\"color: #7f7f7f; text-decoration-color: #7f7f7f\">_client.py</span></a><span style=\"color: #7f7f7f; text-decoration-color: #7f7f7f\">:</span><a href=\"file:///Users/anpigon/Library/Caches/pypoetry/virtualenvs/autorag-tutorial-ko-GYvpjDIx-py3.11/lib/python3.11/site-packages/httpx/_client.py#1773\" target=\"_blank\"><span style=\"color: #7f7f7f; text-decoration-color: #7f7f7f\">1773</span></a>\n",
       "<span style=\"color: #7fbfbf; text-decoration-color: #7fbfbf\">                    </span>         <span style=\"color: #0000ff; text-decoration-color: #0000ff; text-decoration: underline\">http://localhost:11434/api/generate</span> <span style=\"color: #008000; text-decoration-color: #008000\">\"HTTP/1.1 200 OK\"</span>                  <span style=\"color: #7f7f7f; text-decoration-color: #7f7f7f\">               </span>\n",
       "</pre>\n"
      ],
      "text/plain": [
       "\u001b[2;36m[07/12/24 18:02:04]\u001b[0m\u001b[2;36m \u001b[0m\u001b[34mINFO    \u001b[0m \u001b[1m[\u001b[0m_client.py:\u001b[1;36m1773\u001b[0m\u001b[1m]\u001b[0m >> HTTP Request: \u001b[1;33mPOST\u001b[0m                                \u001b]8;id=464134;file:///Users/anpigon/Library/Caches/pypoetry/virtualenvs/autorag-tutorial-ko-GYvpjDIx-py3.11/lib/python3.11/site-packages/httpx/_client.py\u001b\\\u001b[2m_client.py\u001b[0m\u001b]8;;\u001b\\\u001b[2m:\u001b[0m\u001b]8;id=625200;file:///Users/anpigon/Library/Caches/pypoetry/virtualenvs/autorag-tutorial-ko-GYvpjDIx-py3.11/lib/python3.11/site-packages/httpx/_client.py#1773\u001b\\\u001b[2m1773\u001b[0m\u001b]8;;\u001b\\\n",
       "\u001b[2;36m                    \u001b[0m         \u001b[4;94mhttp://localhost:11434/api/generate\u001b[0m \u001b[32m\"HTTP/1.1 200 OK\"\u001b[0m                  \u001b[2m               \u001b[0m\n"
      ]
     },
     "metadata": {},
     "output_type": "display_data"
    },
    {
     "data": {
      "text/html": [
       "<pre style=\"white-space:pre;overflow-x:auto;line-height:normal;font-family:Menlo,'DejaVu Sans Mono',consolas,'Courier New',monospace\"><span style=\"color: #7fbfbf; text-decoration-color: #7fbfbf\">[07/12/24 18:02:10] </span><span style=\"color: #000080; text-decoration-color: #000080\">INFO    </span> <span style=\"font-weight: bold\">[</span>_client.py:<span style=\"color: #008080; text-decoration-color: #008080; font-weight: bold\">1773</span><span style=\"font-weight: bold\">]</span> &gt;&gt; HTTP Request: <span style=\"color: #808000; text-decoration-color: #808000; font-weight: bold\">POST</span>                                <a href=\"file:///Users/anpigon/Library/Caches/pypoetry/virtualenvs/autorag-tutorial-ko-GYvpjDIx-py3.11/lib/python3.11/site-packages/httpx/_client.py\" target=\"_blank\"><span style=\"color: #7f7f7f; text-decoration-color: #7f7f7f\">_client.py</span></a><span style=\"color: #7f7f7f; text-decoration-color: #7f7f7f\">:</span><a href=\"file:///Users/anpigon/Library/Caches/pypoetry/virtualenvs/autorag-tutorial-ko-GYvpjDIx-py3.11/lib/python3.11/site-packages/httpx/_client.py#1773\" target=\"_blank\"><span style=\"color: #7f7f7f; text-decoration-color: #7f7f7f\">1773</span></a>\n",
       "<span style=\"color: #7fbfbf; text-decoration-color: #7fbfbf\">                    </span>         <span style=\"color: #0000ff; text-decoration-color: #0000ff; text-decoration: underline\">http://localhost:11434/api/generate</span> <span style=\"color: #008000; text-decoration-color: #008000\">\"HTTP/1.1 200 OK\"</span>                  <span style=\"color: #7f7f7f; text-decoration-color: #7f7f7f\">               </span>\n",
       "</pre>\n"
      ],
      "text/plain": [
       "\u001b[2;36m[07/12/24 18:02:10]\u001b[0m\u001b[2;36m \u001b[0m\u001b[34mINFO    \u001b[0m \u001b[1m[\u001b[0m_client.py:\u001b[1;36m1773\u001b[0m\u001b[1m]\u001b[0m >> HTTP Request: \u001b[1;33mPOST\u001b[0m                                \u001b]8;id=764836;file:///Users/anpigon/Library/Caches/pypoetry/virtualenvs/autorag-tutorial-ko-GYvpjDIx-py3.11/lib/python3.11/site-packages/httpx/_client.py\u001b\\\u001b[2m_client.py\u001b[0m\u001b]8;;\u001b\\\u001b[2m:\u001b[0m\u001b]8;id=50947;file:///Users/anpigon/Library/Caches/pypoetry/virtualenvs/autorag-tutorial-ko-GYvpjDIx-py3.11/lib/python3.11/site-packages/httpx/_client.py#1773\u001b\\\u001b[2m1773\u001b[0m\u001b]8;;\u001b\\\n",
       "\u001b[2;36m                    \u001b[0m         \u001b[4;94mhttp://localhost:11434/api/generate\u001b[0m \u001b[32m\"HTTP/1.1 200 OK\"\u001b[0m                  \u001b[2m               \u001b[0m\n"
      ]
     },
     "metadata": {},
     "output_type": "display_data"
    },
    {
     "data": {
      "text/html": [
       "<pre style=\"white-space:pre;overflow-x:auto;line-height:normal;font-family:Menlo,'DejaVu Sans Mono',consolas,'Courier New',monospace\"><span style=\"color: #7fbfbf; text-decoration-color: #7fbfbf\">[07/12/24 18:02:23] </span><span style=\"color: #000080; text-decoration-color: #000080\">INFO    </span> <span style=\"font-weight: bold\">[</span>_client.py:<span style=\"color: #008080; text-decoration-color: #008080; font-weight: bold\">1773</span><span style=\"font-weight: bold\">]</span> &gt;&gt; HTTP Request: <span style=\"color: #808000; text-decoration-color: #808000; font-weight: bold\">POST</span>                                <a href=\"file:///Users/anpigon/Library/Caches/pypoetry/virtualenvs/autorag-tutorial-ko-GYvpjDIx-py3.11/lib/python3.11/site-packages/httpx/_client.py\" target=\"_blank\"><span style=\"color: #7f7f7f; text-decoration-color: #7f7f7f\">_client.py</span></a><span style=\"color: #7f7f7f; text-decoration-color: #7f7f7f\">:</span><a href=\"file:///Users/anpigon/Library/Caches/pypoetry/virtualenvs/autorag-tutorial-ko-GYvpjDIx-py3.11/lib/python3.11/site-packages/httpx/_client.py#1773\" target=\"_blank\"><span style=\"color: #7f7f7f; text-decoration-color: #7f7f7f\">1773</span></a>\n",
       "<span style=\"color: #7fbfbf; text-decoration-color: #7fbfbf\">                    </span>         <span style=\"color: #0000ff; text-decoration-color: #0000ff; text-decoration: underline\">http://localhost:11434/api/generate</span> <span style=\"color: #008000; text-decoration-color: #008000\">\"HTTP/1.1 200 OK\"</span>                  <span style=\"color: #7f7f7f; text-decoration-color: #7f7f7f\">               </span>\n",
       "</pre>\n"
      ],
      "text/plain": [
       "\u001b[2;36m[07/12/24 18:02:23]\u001b[0m\u001b[2;36m \u001b[0m\u001b[34mINFO    \u001b[0m \u001b[1m[\u001b[0m_client.py:\u001b[1;36m1773\u001b[0m\u001b[1m]\u001b[0m >> HTTP Request: \u001b[1;33mPOST\u001b[0m                                \u001b]8;id=899379;file:///Users/anpigon/Library/Caches/pypoetry/virtualenvs/autorag-tutorial-ko-GYvpjDIx-py3.11/lib/python3.11/site-packages/httpx/_client.py\u001b\\\u001b[2m_client.py\u001b[0m\u001b]8;;\u001b\\\u001b[2m:\u001b[0m\u001b]8;id=524924;file:///Users/anpigon/Library/Caches/pypoetry/virtualenvs/autorag-tutorial-ko-GYvpjDIx-py3.11/lib/python3.11/site-packages/httpx/_client.py#1773\u001b\\\u001b[2m1773\u001b[0m\u001b]8;;\u001b\\\n",
       "\u001b[2;36m                    \u001b[0m         \u001b[4;94mhttp://localhost:11434/api/generate\u001b[0m \u001b[32m\"HTTP/1.1 200 OK\"\u001b[0m                  \u001b[2m               \u001b[0m\n"
      ]
     },
     "metadata": {},
     "output_type": "display_data"
    },
    {
     "data": {
      "text/html": [
       "<pre style=\"white-space:pre;overflow-x:auto;line-height:normal;font-family:Menlo,'DejaVu Sans Mono',consolas,'Courier New',monospace\"><span style=\"color: #7fbfbf; text-decoration-color: #7fbfbf\">[07/12/24 18:02:30] </span><span style=\"color: #000080; text-decoration-color: #000080\">INFO    </span> <span style=\"font-weight: bold\">[</span>_client.py:<span style=\"color: #008080; text-decoration-color: #008080; font-weight: bold\">1773</span><span style=\"font-weight: bold\">]</span> &gt;&gt; HTTP Request: <span style=\"color: #808000; text-decoration-color: #808000; font-weight: bold\">POST</span>                                <a href=\"file:///Users/anpigon/Library/Caches/pypoetry/virtualenvs/autorag-tutorial-ko-GYvpjDIx-py3.11/lib/python3.11/site-packages/httpx/_client.py\" target=\"_blank\"><span style=\"color: #7f7f7f; text-decoration-color: #7f7f7f\">_client.py</span></a><span style=\"color: #7f7f7f; text-decoration-color: #7f7f7f\">:</span><a href=\"file:///Users/anpigon/Library/Caches/pypoetry/virtualenvs/autorag-tutorial-ko-GYvpjDIx-py3.11/lib/python3.11/site-packages/httpx/_client.py#1773\" target=\"_blank\"><span style=\"color: #7f7f7f; text-decoration-color: #7f7f7f\">1773</span></a>\n",
       "<span style=\"color: #7fbfbf; text-decoration-color: #7fbfbf\">                    </span>         <span style=\"color: #0000ff; text-decoration-color: #0000ff; text-decoration: underline\">http://localhost:11434/api/generate</span> <span style=\"color: #008000; text-decoration-color: #008000\">\"HTTP/1.1 200 OK\"</span>                  <span style=\"color: #7f7f7f; text-decoration-color: #7f7f7f\">               </span>\n",
       "</pre>\n"
      ],
      "text/plain": [
       "\u001b[2;36m[07/12/24 18:02:30]\u001b[0m\u001b[2;36m \u001b[0m\u001b[34mINFO    \u001b[0m \u001b[1m[\u001b[0m_client.py:\u001b[1;36m1773\u001b[0m\u001b[1m]\u001b[0m >> HTTP Request: \u001b[1;33mPOST\u001b[0m                                \u001b]8;id=373456;file:///Users/anpigon/Library/Caches/pypoetry/virtualenvs/autorag-tutorial-ko-GYvpjDIx-py3.11/lib/python3.11/site-packages/httpx/_client.py\u001b\\\u001b[2m_client.py\u001b[0m\u001b]8;;\u001b\\\u001b[2m:\u001b[0m\u001b]8;id=154337;file:///Users/anpigon/Library/Caches/pypoetry/virtualenvs/autorag-tutorial-ko-GYvpjDIx-py3.11/lib/python3.11/site-packages/httpx/_client.py#1773\u001b\\\u001b[2m1773\u001b[0m\u001b]8;;\u001b\\\n",
       "\u001b[2;36m                    \u001b[0m         \u001b[4;94mhttp://localhost:11434/api/generate\u001b[0m \u001b[32m\"HTTP/1.1 200 OK\"\u001b[0m                  \u001b[2m               \u001b[0m\n"
      ]
     },
     "metadata": {},
     "output_type": "display_data"
    },
    {
     "data": {
      "text/html": [
       "<pre style=\"white-space:pre;overflow-x:auto;line-height:normal;font-family:Menlo,'DejaVu Sans Mono',consolas,'Courier New',monospace\"><span style=\"color: #7fbfbf; text-decoration-color: #7fbfbf\">[07/12/24 18:02:44] </span><span style=\"color: #000080; text-decoration-color: #000080\">INFO    </span> <span style=\"font-weight: bold\">[</span>_client.py:<span style=\"color: #008080; text-decoration-color: #008080; font-weight: bold\">1773</span><span style=\"font-weight: bold\">]</span> &gt;&gt; HTTP Request: <span style=\"color: #808000; text-decoration-color: #808000; font-weight: bold\">POST</span>                                <a href=\"file:///Users/anpigon/Library/Caches/pypoetry/virtualenvs/autorag-tutorial-ko-GYvpjDIx-py3.11/lib/python3.11/site-packages/httpx/_client.py\" target=\"_blank\"><span style=\"color: #7f7f7f; text-decoration-color: #7f7f7f\">_client.py</span></a><span style=\"color: #7f7f7f; text-decoration-color: #7f7f7f\">:</span><a href=\"file:///Users/anpigon/Library/Caches/pypoetry/virtualenvs/autorag-tutorial-ko-GYvpjDIx-py3.11/lib/python3.11/site-packages/httpx/_client.py#1773\" target=\"_blank\"><span style=\"color: #7f7f7f; text-decoration-color: #7f7f7f\">1773</span></a>\n",
       "<span style=\"color: #7fbfbf; text-decoration-color: #7fbfbf\">                    </span>         <span style=\"color: #0000ff; text-decoration-color: #0000ff; text-decoration: underline\">http://localhost:11434/api/generate</span> <span style=\"color: #008000; text-decoration-color: #008000\">\"HTTP/1.1 200 OK\"</span>                  <span style=\"color: #7f7f7f; text-decoration-color: #7f7f7f\">               </span>\n",
       "</pre>\n"
      ],
      "text/plain": [
       "\u001b[2;36m[07/12/24 18:02:44]\u001b[0m\u001b[2;36m \u001b[0m\u001b[34mINFO    \u001b[0m \u001b[1m[\u001b[0m_client.py:\u001b[1;36m1773\u001b[0m\u001b[1m]\u001b[0m >> HTTP Request: \u001b[1;33mPOST\u001b[0m                                \u001b]8;id=436585;file:///Users/anpigon/Library/Caches/pypoetry/virtualenvs/autorag-tutorial-ko-GYvpjDIx-py3.11/lib/python3.11/site-packages/httpx/_client.py\u001b\\\u001b[2m_client.py\u001b[0m\u001b]8;;\u001b\\\u001b[2m:\u001b[0m\u001b]8;id=776827;file:///Users/anpigon/Library/Caches/pypoetry/virtualenvs/autorag-tutorial-ko-GYvpjDIx-py3.11/lib/python3.11/site-packages/httpx/_client.py#1773\u001b\\\u001b[2m1773\u001b[0m\u001b]8;;\u001b\\\n",
       "\u001b[2;36m                    \u001b[0m         \u001b[4;94mhttp://localhost:11434/api/generate\u001b[0m \u001b[32m\"HTTP/1.1 200 OK\"\u001b[0m                  \u001b[2m               \u001b[0m\n"
      ]
     },
     "metadata": {},
     "output_type": "display_data"
    },
    {
     "data": {
      "text/html": [
       "<pre style=\"white-space:pre;overflow-x:auto;line-height:normal;font-family:Menlo,'DejaVu Sans Mono',consolas,'Courier New',monospace\"><span style=\"color: #7fbfbf; text-decoration-color: #7fbfbf\">[07/12/24 18:02:53] </span><span style=\"color: #000080; text-decoration-color: #000080\">INFO    </span> <span style=\"font-weight: bold\">[</span>_client.py:<span style=\"color: #008080; text-decoration-color: #008080; font-weight: bold\">1773</span><span style=\"font-weight: bold\">]</span> &gt;&gt; HTTP Request: <span style=\"color: #808000; text-decoration-color: #808000; font-weight: bold\">POST</span>                                <a href=\"file:///Users/anpigon/Library/Caches/pypoetry/virtualenvs/autorag-tutorial-ko-GYvpjDIx-py3.11/lib/python3.11/site-packages/httpx/_client.py\" target=\"_blank\"><span style=\"color: #7f7f7f; text-decoration-color: #7f7f7f\">_client.py</span></a><span style=\"color: #7f7f7f; text-decoration-color: #7f7f7f\">:</span><a href=\"file:///Users/anpigon/Library/Caches/pypoetry/virtualenvs/autorag-tutorial-ko-GYvpjDIx-py3.11/lib/python3.11/site-packages/httpx/_client.py#1773\" target=\"_blank\"><span style=\"color: #7f7f7f; text-decoration-color: #7f7f7f\">1773</span></a>\n",
       "<span style=\"color: #7fbfbf; text-decoration-color: #7fbfbf\">                    </span>         <span style=\"color: #0000ff; text-decoration-color: #0000ff; text-decoration: underline\">http://localhost:11434/api/generate</span> <span style=\"color: #008000; text-decoration-color: #008000\">\"HTTP/1.1 200 OK\"</span>                  <span style=\"color: #7f7f7f; text-decoration-color: #7f7f7f\">               </span>\n",
       "</pre>\n"
      ],
      "text/plain": [
       "\u001b[2;36m[07/12/24 18:02:53]\u001b[0m\u001b[2;36m \u001b[0m\u001b[34mINFO    \u001b[0m \u001b[1m[\u001b[0m_client.py:\u001b[1;36m1773\u001b[0m\u001b[1m]\u001b[0m >> HTTP Request: \u001b[1;33mPOST\u001b[0m                                \u001b]8;id=420941;file:///Users/anpigon/Library/Caches/pypoetry/virtualenvs/autorag-tutorial-ko-GYvpjDIx-py3.11/lib/python3.11/site-packages/httpx/_client.py\u001b\\\u001b[2m_client.py\u001b[0m\u001b]8;;\u001b\\\u001b[2m:\u001b[0m\u001b]8;id=566695;file:///Users/anpigon/Library/Caches/pypoetry/virtualenvs/autorag-tutorial-ko-GYvpjDIx-py3.11/lib/python3.11/site-packages/httpx/_client.py#1773\u001b\\\u001b[2m1773\u001b[0m\u001b]8;;\u001b\\\n",
       "\u001b[2;36m                    \u001b[0m         \u001b[4;94mhttp://localhost:11434/api/generate\u001b[0m \u001b[32m\"HTTP/1.1 200 OK\"\u001b[0m                  \u001b[2m               \u001b[0m\n"
      ]
     },
     "metadata": {},
     "output_type": "display_data"
    },
    {
     "data": {
      "text/html": [
       "<pre style=\"white-space:pre;overflow-x:auto;line-height:normal;font-family:Menlo,'DejaVu Sans Mono',consolas,'Courier New',monospace\"><span style=\"color: #7fbfbf; text-decoration-color: #7fbfbf\">[07/12/24 18:03:05] </span><span style=\"color: #000080; text-decoration-color: #000080\">INFO    </span> <span style=\"font-weight: bold\">[</span>_client.py:<span style=\"color: #008080; text-decoration-color: #008080; font-weight: bold\">1773</span><span style=\"font-weight: bold\">]</span> &gt;&gt; HTTP Request: <span style=\"color: #808000; text-decoration-color: #808000; font-weight: bold\">POST</span>                                <a href=\"file:///Users/anpigon/Library/Caches/pypoetry/virtualenvs/autorag-tutorial-ko-GYvpjDIx-py3.11/lib/python3.11/site-packages/httpx/_client.py\" target=\"_blank\"><span style=\"color: #7f7f7f; text-decoration-color: #7f7f7f\">_client.py</span></a><span style=\"color: #7f7f7f; text-decoration-color: #7f7f7f\">:</span><a href=\"file:///Users/anpigon/Library/Caches/pypoetry/virtualenvs/autorag-tutorial-ko-GYvpjDIx-py3.11/lib/python3.11/site-packages/httpx/_client.py#1773\" target=\"_blank\"><span style=\"color: #7f7f7f; text-decoration-color: #7f7f7f\">1773</span></a>\n",
       "<span style=\"color: #7fbfbf; text-decoration-color: #7fbfbf\">                    </span>         <span style=\"color: #0000ff; text-decoration-color: #0000ff; text-decoration: underline\">http://localhost:11434/api/generate</span> <span style=\"color: #008000; text-decoration-color: #008000\">\"HTTP/1.1 200 OK\"</span>                  <span style=\"color: #7f7f7f; text-decoration-color: #7f7f7f\">               </span>\n",
       "</pre>\n"
      ],
      "text/plain": [
       "\u001b[2;36m[07/12/24 18:03:05]\u001b[0m\u001b[2;36m \u001b[0m\u001b[34mINFO    \u001b[0m \u001b[1m[\u001b[0m_client.py:\u001b[1;36m1773\u001b[0m\u001b[1m]\u001b[0m >> HTTP Request: \u001b[1;33mPOST\u001b[0m                                \u001b]8;id=717422;file:///Users/anpigon/Library/Caches/pypoetry/virtualenvs/autorag-tutorial-ko-GYvpjDIx-py3.11/lib/python3.11/site-packages/httpx/_client.py\u001b\\\u001b[2m_client.py\u001b[0m\u001b]8;;\u001b\\\u001b[2m:\u001b[0m\u001b]8;id=725043;file:///Users/anpigon/Library/Caches/pypoetry/virtualenvs/autorag-tutorial-ko-GYvpjDIx-py3.11/lib/python3.11/site-packages/httpx/_client.py#1773\u001b\\\u001b[2m1773\u001b[0m\u001b]8;;\u001b\\\n",
       "\u001b[2;36m                    \u001b[0m         \u001b[4;94mhttp://localhost:11434/api/generate\u001b[0m \u001b[32m\"HTTP/1.1 200 OK\"\u001b[0m                  \u001b[2m               \u001b[0m\n"
      ]
     },
     "metadata": {},
     "output_type": "display_data"
    },
    {
     "data": {
      "text/html": [
       "<pre style=\"white-space:pre;overflow-x:auto;line-height:normal;font-family:Menlo,'DejaVu Sans Mono',consolas,'Courier New',monospace\"><span style=\"color: #7fbfbf; text-decoration-color: #7fbfbf\">[07/12/24 18:03:13] </span><span style=\"color: #000080; text-decoration-color: #000080\">INFO    </span> <span style=\"font-weight: bold\">[</span>_client.py:<span style=\"color: #008080; text-decoration-color: #008080; font-weight: bold\">1773</span><span style=\"font-weight: bold\">]</span> &gt;&gt; HTTP Request: <span style=\"color: #808000; text-decoration-color: #808000; font-weight: bold\">POST</span>                                <a href=\"file:///Users/anpigon/Library/Caches/pypoetry/virtualenvs/autorag-tutorial-ko-GYvpjDIx-py3.11/lib/python3.11/site-packages/httpx/_client.py\" target=\"_blank\"><span style=\"color: #7f7f7f; text-decoration-color: #7f7f7f\">_client.py</span></a><span style=\"color: #7f7f7f; text-decoration-color: #7f7f7f\">:</span><a href=\"file:///Users/anpigon/Library/Caches/pypoetry/virtualenvs/autorag-tutorial-ko-GYvpjDIx-py3.11/lib/python3.11/site-packages/httpx/_client.py#1773\" target=\"_blank\"><span style=\"color: #7f7f7f; text-decoration-color: #7f7f7f\">1773</span></a>\n",
       "<span style=\"color: #7fbfbf; text-decoration-color: #7fbfbf\">                    </span>         <span style=\"color: #0000ff; text-decoration-color: #0000ff; text-decoration: underline\">http://localhost:11434/api/generate</span> <span style=\"color: #008000; text-decoration-color: #008000\">\"HTTP/1.1 200 OK\"</span>                  <span style=\"color: #7f7f7f; text-decoration-color: #7f7f7f\">               </span>\n",
       "</pre>\n"
      ],
      "text/plain": [
       "\u001b[2;36m[07/12/24 18:03:13]\u001b[0m\u001b[2;36m \u001b[0m\u001b[34mINFO    \u001b[0m \u001b[1m[\u001b[0m_client.py:\u001b[1;36m1773\u001b[0m\u001b[1m]\u001b[0m >> HTTP Request: \u001b[1;33mPOST\u001b[0m                                \u001b]8;id=32770;file:///Users/anpigon/Library/Caches/pypoetry/virtualenvs/autorag-tutorial-ko-GYvpjDIx-py3.11/lib/python3.11/site-packages/httpx/_client.py\u001b\\\u001b[2m_client.py\u001b[0m\u001b]8;;\u001b\\\u001b[2m:\u001b[0m\u001b]8;id=462044;file:///Users/anpigon/Library/Caches/pypoetry/virtualenvs/autorag-tutorial-ko-GYvpjDIx-py3.11/lib/python3.11/site-packages/httpx/_client.py#1773\u001b\\\u001b[2m1773\u001b[0m\u001b]8;;\u001b\\\n",
       "\u001b[2;36m                    \u001b[0m         \u001b[4;94mhttp://localhost:11434/api/generate\u001b[0m \u001b[32m\"HTTP/1.1 200 OK\"\u001b[0m                  \u001b[2m               \u001b[0m\n"
      ]
     },
     "metadata": {},
     "output_type": "display_data"
    },
    {
     "data": {
      "text/html": [
       "<pre style=\"white-space:pre;overflow-x:auto;line-height:normal;font-family:Menlo,'DejaVu Sans Mono',consolas,'Courier New',monospace\"><span style=\"color: #7fbfbf; text-decoration-color: #7fbfbf\">[07/12/24 18:03:25] </span><span style=\"color: #000080; text-decoration-color: #000080\">INFO    </span> <span style=\"font-weight: bold\">[</span>_client.py:<span style=\"color: #008080; text-decoration-color: #008080; font-weight: bold\">1773</span><span style=\"font-weight: bold\">]</span> &gt;&gt; HTTP Request: <span style=\"color: #808000; text-decoration-color: #808000; font-weight: bold\">POST</span>                                <a href=\"file:///Users/anpigon/Library/Caches/pypoetry/virtualenvs/autorag-tutorial-ko-GYvpjDIx-py3.11/lib/python3.11/site-packages/httpx/_client.py\" target=\"_blank\"><span style=\"color: #7f7f7f; text-decoration-color: #7f7f7f\">_client.py</span></a><span style=\"color: #7f7f7f; text-decoration-color: #7f7f7f\">:</span><a href=\"file:///Users/anpigon/Library/Caches/pypoetry/virtualenvs/autorag-tutorial-ko-GYvpjDIx-py3.11/lib/python3.11/site-packages/httpx/_client.py#1773\" target=\"_blank\"><span style=\"color: #7f7f7f; text-decoration-color: #7f7f7f\">1773</span></a>\n",
       "<span style=\"color: #7fbfbf; text-decoration-color: #7fbfbf\">                    </span>         <span style=\"color: #0000ff; text-decoration-color: #0000ff; text-decoration: underline\">http://localhost:11434/api/generate</span> <span style=\"color: #008000; text-decoration-color: #008000\">\"HTTP/1.1 200 OK\"</span>                  <span style=\"color: #7f7f7f; text-decoration-color: #7f7f7f\">               </span>\n",
       "</pre>\n"
      ],
      "text/plain": [
       "\u001b[2;36m[07/12/24 18:03:25]\u001b[0m\u001b[2;36m \u001b[0m\u001b[34mINFO    \u001b[0m \u001b[1m[\u001b[0m_client.py:\u001b[1;36m1773\u001b[0m\u001b[1m]\u001b[0m >> HTTP Request: \u001b[1;33mPOST\u001b[0m                                \u001b]8;id=565361;file:///Users/anpigon/Library/Caches/pypoetry/virtualenvs/autorag-tutorial-ko-GYvpjDIx-py3.11/lib/python3.11/site-packages/httpx/_client.py\u001b\\\u001b[2m_client.py\u001b[0m\u001b]8;;\u001b\\\u001b[2m:\u001b[0m\u001b]8;id=606270;file:///Users/anpigon/Library/Caches/pypoetry/virtualenvs/autorag-tutorial-ko-GYvpjDIx-py3.11/lib/python3.11/site-packages/httpx/_client.py#1773\u001b\\\u001b[2m1773\u001b[0m\u001b]8;;\u001b\\\n",
       "\u001b[2;36m                    \u001b[0m         \u001b[4;94mhttp://localhost:11434/api/generate\u001b[0m \u001b[32m\"HTTP/1.1 200 OK\"\u001b[0m                  \u001b[2m               \u001b[0m\n"
      ]
     },
     "metadata": {},
     "output_type": "display_data"
    },
    {
     "data": {
      "text/html": [
       "<pre style=\"white-space:pre;overflow-x:auto;line-height:normal;font-family:Menlo,'DejaVu Sans Mono',consolas,'Courier New',monospace\"><span style=\"color: #7fbfbf; text-decoration-color: #7fbfbf\">[07/12/24 18:03:32] </span><span style=\"color: #000080; text-decoration-color: #000080\">INFO    </span> <span style=\"font-weight: bold\">[</span>_client.py:<span style=\"color: #008080; text-decoration-color: #008080; font-weight: bold\">1773</span><span style=\"font-weight: bold\">]</span> &gt;&gt; HTTP Request: <span style=\"color: #808000; text-decoration-color: #808000; font-weight: bold\">POST</span>                                <a href=\"file:///Users/anpigon/Library/Caches/pypoetry/virtualenvs/autorag-tutorial-ko-GYvpjDIx-py3.11/lib/python3.11/site-packages/httpx/_client.py\" target=\"_blank\"><span style=\"color: #7f7f7f; text-decoration-color: #7f7f7f\">_client.py</span></a><span style=\"color: #7f7f7f; text-decoration-color: #7f7f7f\">:</span><a href=\"file:///Users/anpigon/Library/Caches/pypoetry/virtualenvs/autorag-tutorial-ko-GYvpjDIx-py3.11/lib/python3.11/site-packages/httpx/_client.py#1773\" target=\"_blank\"><span style=\"color: #7f7f7f; text-decoration-color: #7f7f7f\">1773</span></a>\n",
       "<span style=\"color: #7fbfbf; text-decoration-color: #7fbfbf\">                    </span>         <span style=\"color: #0000ff; text-decoration-color: #0000ff; text-decoration: underline\">http://localhost:11434/api/generate</span> <span style=\"color: #008000; text-decoration-color: #008000\">\"HTTP/1.1 200 OK\"</span>                  <span style=\"color: #7f7f7f; text-decoration-color: #7f7f7f\">               </span>\n",
       "</pre>\n"
      ],
      "text/plain": [
       "\u001b[2;36m[07/12/24 18:03:32]\u001b[0m\u001b[2;36m \u001b[0m\u001b[34mINFO    \u001b[0m \u001b[1m[\u001b[0m_client.py:\u001b[1;36m1773\u001b[0m\u001b[1m]\u001b[0m >> HTTP Request: \u001b[1;33mPOST\u001b[0m                                \u001b]8;id=181620;file:///Users/anpigon/Library/Caches/pypoetry/virtualenvs/autorag-tutorial-ko-GYvpjDIx-py3.11/lib/python3.11/site-packages/httpx/_client.py\u001b\\\u001b[2m_client.py\u001b[0m\u001b]8;;\u001b\\\u001b[2m:\u001b[0m\u001b]8;id=411878;file:///Users/anpigon/Library/Caches/pypoetry/virtualenvs/autorag-tutorial-ko-GYvpjDIx-py3.11/lib/python3.11/site-packages/httpx/_client.py#1773\u001b\\\u001b[2m1773\u001b[0m\u001b]8;;\u001b\\\n",
       "\u001b[2;36m                    \u001b[0m         \u001b[4;94mhttp://localhost:11434/api/generate\u001b[0m \u001b[32m\"HTTP/1.1 200 OK\"\u001b[0m                  \u001b[2m               \u001b[0m\n"
      ]
     },
     "metadata": {},
     "output_type": "display_data"
    },
    {
     "data": {
      "text/html": [
       "<pre style=\"white-space:pre;overflow-x:auto;line-height:normal;font-family:Menlo,'DejaVu Sans Mono',consolas,'Courier New',monospace\"><span style=\"color: #7fbfbf; text-decoration-color: #7fbfbf\">[07/12/24 18:03:38] </span><span style=\"color: #000080; text-decoration-color: #000080\">INFO    </span> <span style=\"font-weight: bold\">[</span>_client.py:<span style=\"color: #008080; text-decoration-color: #008080; font-weight: bold\">1773</span><span style=\"font-weight: bold\">]</span> &gt;&gt; HTTP Request: <span style=\"color: #808000; text-decoration-color: #808000; font-weight: bold\">POST</span>                                <a href=\"file:///Users/anpigon/Library/Caches/pypoetry/virtualenvs/autorag-tutorial-ko-GYvpjDIx-py3.11/lib/python3.11/site-packages/httpx/_client.py\" target=\"_blank\"><span style=\"color: #7f7f7f; text-decoration-color: #7f7f7f\">_client.py</span></a><span style=\"color: #7f7f7f; text-decoration-color: #7f7f7f\">:</span><a href=\"file:///Users/anpigon/Library/Caches/pypoetry/virtualenvs/autorag-tutorial-ko-GYvpjDIx-py3.11/lib/python3.11/site-packages/httpx/_client.py#1773\" target=\"_blank\"><span style=\"color: #7f7f7f; text-decoration-color: #7f7f7f\">1773</span></a>\n",
       "<span style=\"color: #7fbfbf; text-decoration-color: #7fbfbf\">                    </span>         <span style=\"color: #0000ff; text-decoration-color: #0000ff; text-decoration: underline\">http://localhost:11434/api/generate</span> <span style=\"color: #008000; text-decoration-color: #008000\">\"HTTP/1.1 200 OK\"</span>                  <span style=\"color: #7f7f7f; text-decoration-color: #7f7f7f\">               </span>\n",
       "</pre>\n"
      ],
      "text/plain": [
       "\u001b[2;36m[07/12/24 18:03:38]\u001b[0m\u001b[2;36m \u001b[0m\u001b[34mINFO    \u001b[0m \u001b[1m[\u001b[0m_client.py:\u001b[1;36m1773\u001b[0m\u001b[1m]\u001b[0m >> HTTP Request: \u001b[1;33mPOST\u001b[0m                                \u001b]8;id=720636;file:///Users/anpigon/Library/Caches/pypoetry/virtualenvs/autorag-tutorial-ko-GYvpjDIx-py3.11/lib/python3.11/site-packages/httpx/_client.py\u001b\\\u001b[2m_client.py\u001b[0m\u001b]8;;\u001b\\\u001b[2m:\u001b[0m\u001b]8;id=930762;file:///Users/anpigon/Library/Caches/pypoetry/virtualenvs/autorag-tutorial-ko-GYvpjDIx-py3.11/lib/python3.11/site-packages/httpx/_client.py#1773\u001b\\\u001b[2m1773\u001b[0m\u001b]8;;\u001b\\\n",
       "\u001b[2;36m                    \u001b[0m         \u001b[4;94mhttp://localhost:11434/api/generate\u001b[0m \u001b[32m\"HTTP/1.1 200 OK\"\u001b[0m                  \u001b[2m               \u001b[0m\n"
      ]
     },
     "metadata": {},
     "output_type": "display_data"
    },
    {
     "data": {
      "text/html": [
       "<pre style=\"white-space:pre;overflow-x:auto;line-height:normal;font-family:Menlo,'DejaVu Sans Mono',consolas,'Courier New',monospace\"><span style=\"color: #7fbfbf; text-decoration-color: #7fbfbf\">[07/12/24 18:03:46] </span><span style=\"color: #000080; text-decoration-color: #000080\">INFO    </span> <span style=\"font-weight: bold\">[</span>_client.py:<span style=\"color: #008080; text-decoration-color: #008080; font-weight: bold\">1773</span><span style=\"font-weight: bold\">]</span> &gt;&gt; HTTP Request: <span style=\"color: #808000; text-decoration-color: #808000; font-weight: bold\">POST</span>                                <a href=\"file:///Users/anpigon/Library/Caches/pypoetry/virtualenvs/autorag-tutorial-ko-GYvpjDIx-py3.11/lib/python3.11/site-packages/httpx/_client.py\" target=\"_blank\"><span style=\"color: #7f7f7f; text-decoration-color: #7f7f7f\">_client.py</span></a><span style=\"color: #7f7f7f; text-decoration-color: #7f7f7f\">:</span><a href=\"file:///Users/anpigon/Library/Caches/pypoetry/virtualenvs/autorag-tutorial-ko-GYvpjDIx-py3.11/lib/python3.11/site-packages/httpx/_client.py#1773\" target=\"_blank\"><span style=\"color: #7f7f7f; text-decoration-color: #7f7f7f\">1773</span></a>\n",
       "<span style=\"color: #7fbfbf; text-decoration-color: #7fbfbf\">                    </span>         <span style=\"color: #0000ff; text-decoration-color: #0000ff; text-decoration: underline\">http://localhost:11434/api/generate</span> <span style=\"color: #008000; text-decoration-color: #008000\">\"HTTP/1.1 200 OK\"</span>                  <span style=\"color: #7f7f7f; text-decoration-color: #7f7f7f\">               </span>\n",
       "</pre>\n"
      ],
      "text/plain": [
       "\u001b[2;36m[07/12/24 18:03:46]\u001b[0m\u001b[2;36m \u001b[0m\u001b[34mINFO    \u001b[0m \u001b[1m[\u001b[0m_client.py:\u001b[1;36m1773\u001b[0m\u001b[1m]\u001b[0m >> HTTP Request: \u001b[1;33mPOST\u001b[0m                                \u001b]8;id=37026;file:///Users/anpigon/Library/Caches/pypoetry/virtualenvs/autorag-tutorial-ko-GYvpjDIx-py3.11/lib/python3.11/site-packages/httpx/_client.py\u001b\\\u001b[2m_client.py\u001b[0m\u001b]8;;\u001b\\\u001b[2m:\u001b[0m\u001b]8;id=148623;file:///Users/anpigon/Library/Caches/pypoetry/virtualenvs/autorag-tutorial-ko-GYvpjDIx-py3.11/lib/python3.11/site-packages/httpx/_client.py#1773\u001b\\\u001b[2m1773\u001b[0m\u001b]8;;\u001b\\\n",
       "\u001b[2;36m                    \u001b[0m         \u001b[4;94mhttp://localhost:11434/api/generate\u001b[0m \u001b[32m\"HTTP/1.1 200 OK\"\u001b[0m                  \u001b[2m               \u001b[0m\n"
      ]
     },
     "metadata": {},
     "output_type": "display_data"
    },
    {
     "data": {
      "text/html": [
       "<pre style=\"white-space:pre;overflow-x:auto;line-height:normal;font-family:Menlo,'DejaVu Sans Mono',consolas,'Courier New',monospace\"><span style=\"color: #7fbfbf; text-decoration-color: #7fbfbf\">[07/12/24 18:03:54] </span><span style=\"color: #000080; text-decoration-color: #000080\">INFO    </span> <span style=\"font-weight: bold\">[</span>_client.py:<span style=\"color: #008080; text-decoration-color: #008080; font-weight: bold\">1773</span><span style=\"font-weight: bold\">]</span> &gt;&gt; HTTP Request: <span style=\"color: #808000; text-decoration-color: #808000; font-weight: bold\">POST</span>                                <a href=\"file:///Users/anpigon/Library/Caches/pypoetry/virtualenvs/autorag-tutorial-ko-GYvpjDIx-py3.11/lib/python3.11/site-packages/httpx/_client.py\" target=\"_blank\"><span style=\"color: #7f7f7f; text-decoration-color: #7f7f7f\">_client.py</span></a><span style=\"color: #7f7f7f; text-decoration-color: #7f7f7f\">:</span><a href=\"file:///Users/anpigon/Library/Caches/pypoetry/virtualenvs/autorag-tutorial-ko-GYvpjDIx-py3.11/lib/python3.11/site-packages/httpx/_client.py#1773\" target=\"_blank\"><span style=\"color: #7f7f7f; text-decoration-color: #7f7f7f\">1773</span></a>\n",
       "<span style=\"color: #7fbfbf; text-decoration-color: #7fbfbf\">                    </span>         <span style=\"color: #0000ff; text-decoration-color: #0000ff; text-decoration: underline\">http://localhost:11434/api/generate</span> <span style=\"color: #008000; text-decoration-color: #008000\">\"HTTP/1.1 200 OK\"</span>                  <span style=\"color: #7f7f7f; text-decoration-color: #7f7f7f\">               </span>\n",
       "</pre>\n"
      ],
      "text/plain": [
       "\u001b[2;36m[07/12/24 18:03:54]\u001b[0m\u001b[2;36m \u001b[0m\u001b[34mINFO    \u001b[0m \u001b[1m[\u001b[0m_client.py:\u001b[1;36m1773\u001b[0m\u001b[1m]\u001b[0m >> HTTP Request: \u001b[1;33mPOST\u001b[0m                                \u001b]8;id=572400;file:///Users/anpigon/Library/Caches/pypoetry/virtualenvs/autorag-tutorial-ko-GYvpjDIx-py3.11/lib/python3.11/site-packages/httpx/_client.py\u001b\\\u001b[2m_client.py\u001b[0m\u001b]8;;\u001b\\\u001b[2m:\u001b[0m\u001b]8;id=138517;file:///Users/anpigon/Library/Caches/pypoetry/virtualenvs/autorag-tutorial-ko-GYvpjDIx-py3.11/lib/python3.11/site-packages/httpx/_client.py#1773\u001b\\\u001b[2m1773\u001b[0m\u001b]8;;\u001b\\\n",
       "\u001b[2;36m                    \u001b[0m         \u001b[4;94mhttp://localhost:11434/api/generate\u001b[0m \u001b[32m\"HTTP/1.1 200 OK\"\u001b[0m                  \u001b[2m               \u001b[0m\n"
      ]
     },
     "metadata": {},
     "output_type": "display_data"
    },
    {
     "data": {
      "text/html": [
       "<pre style=\"white-space:pre;overflow-x:auto;line-height:normal;font-family:Menlo,'DejaVu Sans Mono',consolas,'Courier New',monospace\"><span style=\"color: #7fbfbf; text-decoration-color: #7fbfbf\">[07/12/24 18:04:00] </span><span style=\"color: #000080; text-decoration-color: #000080\">INFO    </span> <span style=\"font-weight: bold\">[</span>_client.py:<span style=\"color: #008080; text-decoration-color: #008080; font-weight: bold\">1773</span><span style=\"font-weight: bold\">]</span> &gt;&gt; HTTP Request: <span style=\"color: #808000; text-decoration-color: #808000; font-weight: bold\">POST</span>                                <a href=\"file:///Users/anpigon/Library/Caches/pypoetry/virtualenvs/autorag-tutorial-ko-GYvpjDIx-py3.11/lib/python3.11/site-packages/httpx/_client.py\" target=\"_blank\"><span style=\"color: #7f7f7f; text-decoration-color: #7f7f7f\">_client.py</span></a><span style=\"color: #7f7f7f; text-decoration-color: #7f7f7f\">:</span><a href=\"file:///Users/anpigon/Library/Caches/pypoetry/virtualenvs/autorag-tutorial-ko-GYvpjDIx-py3.11/lib/python3.11/site-packages/httpx/_client.py#1773\" target=\"_blank\"><span style=\"color: #7f7f7f; text-decoration-color: #7f7f7f\">1773</span></a>\n",
       "<span style=\"color: #7fbfbf; text-decoration-color: #7fbfbf\">                    </span>         <span style=\"color: #0000ff; text-decoration-color: #0000ff; text-decoration: underline\">http://localhost:11434/api/generate</span> <span style=\"color: #008000; text-decoration-color: #008000\">\"HTTP/1.1 200 OK\"</span>                  <span style=\"color: #7f7f7f; text-decoration-color: #7f7f7f\">               </span>\n",
       "</pre>\n"
      ],
      "text/plain": [
       "\u001b[2;36m[07/12/24 18:04:00]\u001b[0m\u001b[2;36m \u001b[0m\u001b[34mINFO    \u001b[0m \u001b[1m[\u001b[0m_client.py:\u001b[1;36m1773\u001b[0m\u001b[1m]\u001b[0m >> HTTP Request: \u001b[1;33mPOST\u001b[0m                                \u001b]8;id=400701;file:///Users/anpigon/Library/Caches/pypoetry/virtualenvs/autorag-tutorial-ko-GYvpjDIx-py3.11/lib/python3.11/site-packages/httpx/_client.py\u001b\\\u001b[2m_client.py\u001b[0m\u001b]8;;\u001b\\\u001b[2m:\u001b[0m\u001b]8;id=247697;file:///Users/anpigon/Library/Caches/pypoetry/virtualenvs/autorag-tutorial-ko-GYvpjDIx-py3.11/lib/python3.11/site-packages/httpx/_client.py#1773\u001b\\\u001b[2m1773\u001b[0m\u001b]8;;\u001b\\\n",
       "\u001b[2;36m                    \u001b[0m         \u001b[4;94mhttp://localhost:11434/api/generate\u001b[0m \u001b[32m\"HTTP/1.1 200 OK\"\u001b[0m                  \u001b[2m               \u001b[0m\n"
      ]
     },
     "metadata": {},
     "output_type": "display_data"
    },
    {
     "data": {
      "text/html": [
       "<pre style=\"white-space:pre;overflow-x:auto;line-height:normal;font-family:Menlo,'DejaVu Sans Mono',consolas,'Courier New',monospace\"><span style=\"color: #7fbfbf; text-decoration-color: #7fbfbf\">[07/12/24 18:04:08] </span><span style=\"color: #000080; text-decoration-color: #000080\">INFO    </span> <span style=\"font-weight: bold\">[</span>_client.py:<span style=\"color: #008080; text-decoration-color: #008080; font-weight: bold\">1773</span><span style=\"font-weight: bold\">]</span> &gt;&gt; HTTP Request: <span style=\"color: #808000; text-decoration-color: #808000; font-weight: bold\">POST</span>                                <a href=\"file:///Users/anpigon/Library/Caches/pypoetry/virtualenvs/autorag-tutorial-ko-GYvpjDIx-py3.11/lib/python3.11/site-packages/httpx/_client.py\" target=\"_blank\"><span style=\"color: #7f7f7f; text-decoration-color: #7f7f7f\">_client.py</span></a><span style=\"color: #7f7f7f; text-decoration-color: #7f7f7f\">:</span><a href=\"file:///Users/anpigon/Library/Caches/pypoetry/virtualenvs/autorag-tutorial-ko-GYvpjDIx-py3.11/lib/python3.11/site-packages/httpx/_client.py#1773\" target=\"_blank\"><span style=\"color: #7f7f7f; text-decoration-color: #7f7f7f\">1773</span></a>\n",
       "<span style=\"color: #7fbfbf; text-decoration-color: #7fbfbf\">                    </span>         <span style=\"color: #0000ff; text-decoration-color: #0000ff; text-decoration: underline\">http://localhost:11434/api/generate</span> <span style=\"color: #008000; text-decoration-color: #008000\">\"HTTP/1.1 200 OK\"</span>                  <span style=\"color: #7f7f7f; text-decoration-color: #7f7f7f\">               </span>\n",
       "</pre>\n"
      ],
      "text/plain": [
       "\u001b[2;36m[07/12/24 18:04:08]\u001b[0m\u001b[2;36m \u001b[0m\u001b[34mINFO    \u001b[0m \u001b[1m[\u001b[0m_client.py:\u001b[1;36m1773\u001b[0m\u001b[1m]\u001b[0m >> HTTP Request: \u001b[1;33mPOST\u001b[0m                                \u001b]8;id=526176;file:///Users/anpigon/Library/Caches/pypoetry/virtualenvs/autorag-tutorial-ko-GYvpjDIx-py3.11/lib/python3.11/site-packages/httpx/_client.py\u001b\\\u001b[2m_client.py\u001b[0m\u001b]8;;\u001b\\\u001b[2m:\u001b[0m\u001b]8;id=171776;file:///Users/anpigon/Library/Caches/pypoetry/virtualenvs/autorag-tutorial-ko-GYvpjDIx-py3.11/lib/python3.11/site-packages/httpx/_client.py#1773\u001b\\\u001b[2m1773\u001b[0m\u001b]8;;\u001b\\\n",
       "\u001b[2;36m                    \u001b[0m         \u001b[4;94mhttp://localhost:11434/api/generate\u001b[0m \u001b[32m\"HTTP/1.1 200 OK\"\u001b[0m                  \u001b[2m               \u001b[0m\n"
      ]
     },
     "metadata": {},
     "output_type": "display_data"
    },
    {
     "data": {
      "text/html": [
       "<pre style=\"white-space:pre;overflow-x:auto;line-height:normal;font-family:Menlo,'DejaVu Sans Mono',consolas,'Courier New',monospace\"><span style=\"color: #7fbfbf; text-decoration-color: #7fbfbf\">[07/12/24 18:04:15] </span><span style=\"color: #000080; text-decoration-color: #000080\">INFO    </span> <span style=\"font-weight: bold\">[</span>_client.py:<span style=\"color: #008080; text-decoration-color: #008080; font-weight: bold\">1773</span><span style=\"font-weight: bold\">]</span> &gt;&gt; HTTP Request: <span style=\"color: #808000; text-decoration-color: #808000; font-weight: bold\">POST</span>                                <a href=\"file:///Users/anpigon/Library/Caches/pypoetry/virtualenvs/autorag-tutorial-ko-GYvpjDIx-py3.11/lib/python3.11/site-packages/httpx/_client.py\" target=\"_blank\"><span style=\"color: #7f7f7f; text-decoration-color: #7f7f7f\">_client.py</span></a><span style=\"color: #7f7f7f; text-decoration-color: #7f7f7f\">:</span><a href=\"file:///Users/anpigon/Library/Caches/pypoetry/virtualenvs/autorag-tutorial-ko-GYvpjDIx-py3.11/lib/python3.11/site-packages/httpx/_client.py#1773\" target=\"_blank\"><span style=\"color: #7f7f7f; text-decoration-color: #7f7f7f\">1773</span></a>\n",
       "<span style=\"color: #7fbfbf; text-decoration-color: #7fbfbf\">                    </span>         <span style=\"color: #0000ff; text-decoration-color: #0000ff; text-decoration: underline\">http://localhost:11434/api/generate</span> <span style=\"color: #008000; text-decoration-color: #008000\">\"HTTP/1.1 200 OK\"</span>                  <span style=\"color: #7f7f7f; text-decoration-color: #7f7f7f\">               </span>\n",
       "</pre>\n"
      ],
      "text/plain": [
       "\u001b[2;36m[07/12/24 18:04:15]\u001b[0m\u001b[2;36m \u001b[0m\u001b[34mINFO    \u001b[0m \u001b[1m[\u001b[0m_client.py:\u001b[1;36m1773\u001b[0m\u001b[1m]\u001b[0m >> HTTP Request: \u001b[1;33mPOST\u001b[0m                                \u001b]8;id=923622;file:///Users/anpigon/Library/Caches/pypoetry/virtualenvs/autorag-tutorial-ko-GYvpjDIx-py3.11/lib/python3.11/site-packages/httpx/_client.py\u001b\\\u001b[2m_client.py\u001b[0m\u001b]8;;\u001b\\\u001b[2m:\u001b[0m\u001b]8;id=177639;file:///Users/anpigon/Library/Caches/pypoetry/virtualenvs/autorag-tutorial-ko-GYvpjDIx-py3.11/lib/python3.11/site-packages/httpx/_client.py#1773\u001b\\\u001b[2m1773\u001b[0m\u001b]8;;\u001b\\\n",
       "\u001b[2;36m                    \u001b[0m         \u001b[4;94mhttp://localhost:11434/api/generate\u001b[0m \u001b[32m\"HTTP/1.1 200 OK\"\u001b[0m                  \u001b[2m               \u001b[0m\n"
      ]
     },
     "metadata": {},
     "output_type": "display_data"
    },
    {
     "data": {
      "text/html": [
       "<pre style=\"white-space:pre;overflow-x:auto;line-height:normal;font-family:Menlo,'DejaVu Sans Mono',consolas,'Courier New',monospace\"><span style=\"color: #7fbfbf; text-decoration-color: #7fbfbf\">[07/12/24 18:04:25] </span><span style=\"color: #000080; text-decoration-color: #000080\">INFO    </span> <span style=\"font-weight: bold\">[</span>_client.py:<span style=\"color: #008080; text-decoration-color: #008080; font-weight: bold\">1773</span><span style=\"font-weight: bold\">]</span> &gt;&gt; HTTP Request: <span style=\"color: #808000; text-decoration-color: #808000; font-weight: bold\">POST</span>                                <a href=\"file:///Users/anpigon/Library/Caches/pypoetry/virtualenvs/autorag-tutorial-ko-GYvpjDIx-py3.11/lib/python3.11/site-packages/httpx/_client.py\" target=\"_blank\"><span style=\"color: #7f7f7f; text-decoration-color: #7f7f7f\">_client.py</span></a><span style=\"color: #7f7f7f; text-decoration-color: #7f7f7f\">:</span><a href=\"file:///Users/anpigon/Library/Caches/pypoetry/virtualenvs/autorag-tutorial-ko-GYvpjDIx-py3.11/lib/python3.11/site-packages/httpx/_client.py#1773\" target=\"_blank\"><span style=\"color: #7f7f7f; text-decoration-color: #7f7f7f\">1773</span></a>\n",
       "<span style=\"color: #7fbfbf; text-decoration-color: #7fbfbf\">                    </span>         <span style=\"color: #0000ff; text-decoration-color: #0000ff; text-decoration: underline\">http://localhost:11434/api/generate</span> <span style=\"color: #008000; text-decoration-color: #008000\">\"HTTP/1.1 200 OK\"</span>                  <span style=\"color: #7f7f7f; text-decoration-color: #7f7f7f\">               </span>\n",
       "</pre>\n"
      ],
      "text/plain": [
       "\u001b[2;36m[07/12/24 18:04:25]\u001b[0m\u001b[2;36m \u001b[0m\u001b[34mINFO    \u001b[0m \u001b[1m[\u001b[0m_client.py:\u001b[1;36m1773\u001b[0m\u001b[1m]\u001b[0m >> HTTP Request: \u001b[1;33mPOST\u001b[0m                                \u001b]8;id=279427;file:///Users/anpigon/Library/Caches/pypoetry/virtualenvs/autorag-tutorial-ko-GYvpjDIx-py3.11/lib/python3.11/site-packages/httpx/_client.py\u001b\\\u001b[2m_client.py\u001b[0m\u001b]8;;\u001b\\\u001b[2m:\u001b[0m\u001b]8;id=143080;file:///Users/anpigon/Library/Caches/pypoetry/virtualenvs/autorag-tutorial-ko-GYvpjDIx-py3.11/lib/python3.11/site-packages/httpx/_client.py#1773\u001b\\\u001b[2m1773\u001b[0m\u001b]8;;\u001b\\\n",
       "\u001b[2;36m                    \u001b[0m         \u001b[4;94mhttp://localhost:11434/api/generate\u001b[0m \u001b[32m\"HTTP/1.1 200 OK\"\u001b[0m                  \u001b[2m               \u001b[0m\n"
      ]
     },
     "metadata": {},
     "output_type": "display_data"
    },
    {
     "data": {
      "text/html": [
       "<pre style=\"white-space:pre;overflow-x:auto;line-height:normal;font-family:Menlo,'DejaVu Sans Mono',consolas,'Courier New',monospace\"><span style=\"color: #7fbfbf; text-decoration-color: #7fbfbf\">[07/12/24 18:04:36] </span><span style=\"color: #000080; text-decoration-color: #000080\">INFO    </span> <span style=\"font-weight: bold\">[</span>_client.py:<span style=\"color: #008080; text-decoration-color: #008080; font-weight: bold\">1773</span><span style=\"font-weight: bold\">]</span> &gt;&gt; HTTP Request: <span style=\"color: #808000; text-decoration-color: #808000; font-weight: bold\">POST</span>                                <a href=\"file:///Users/anpigon/Library/Caches/pypoetry/virtualenvs/autorag-tutorial-ko-GYvpjDIx-py3.11/lib/python3.11/site-packages/httpx/_client.py\" target=\"_blank\"><span style=\"color: #7f7f7f; text-decoration-color: #7f7f7f\">_client.py</span></a><span style=\"color: #7f7f7f; text-decoration-color: #7f7f7f\">:</span><a href=\"file:///Users/anpigon/Library/Caches/pypoetry/virtualenvs/autorag-tutorial-ko-GYvpjDIx-py3.11/lib/python3.11/site-packages/httpx/_client.py#1773\" target=\"_blank\"><span style=\"color: #7f7f7f; text-decoration-color: #7f7f7f\">1773</span></a>\n",
       "<span style=\"color: #7fbfbf; text-decoration-color: #7fbfbf\">                    </span>         <span style=\"color: #0000ff; text-decoration-color: #0000ff; text-decoration: underline\">http://localhost:11434/api/generate</span> <span style=\"color: #008000; text-decoration-color: #008000\">\"HTTP/1.1 200 OK\"</span>                  <span style=\"color: #7f7f7f; text-decoration-color: #7f7f7f\">               </span>\n",
       "</pre>\n"
      ],
      "text/plain": [
       "\u001b[2;36m[07/12/24 18:04:36]\u001b[0m\u001b[2;36m \u001b[0m\u001b[34mINFO    \u001b[0m \u001b[1m[\u001b[0m_client.py:\u001b[1;36m1773\u001b[0m\u001b[1m]\u001b[0m >> HTTP Request: \u001b[1;33mPOST\u001b[0m                                \u001b]8;id=731685;file:///Users/anpigon/Library/Caches/pypoetry/virtualenvs/autorag-tutorial-ko-GYvpjDIx-py3.11/lib/python3.11/site-packages/httpx/_client.py\u001b\\\u001b[2m_client.py\u001b[0m\u001b]8;;\u001b\\\u001b[2m:\u001b[0m\u001b]8;id=99797;file:///Users/anpigon/Library/Caches/pypoetry/virtualenvs/autorag-tutorial-ko-GYvpjDIx-py3.11/lib/python3.11/site-packages/httpx/_client.py#1773\u001b\\\u001b[2m1773\u001b[0m\u001b]8;;\u001b\\\n",
       "\u001b[2;36m                    \u001b[0m         \u001b[4;94mhttp://localhost:11434/api/generate\u001b[0m \u001b[32m\"HTTP/1.1 200 OK\"\u001b[0m                  \u001b[2m               \u001b[0m\n"
      ]
     },
     "metadata": {},
     "output_type": "display_data"
    },
    {
     "data": {
      "text/html": [
       "<pre style=\"white-space:pre;overflow-x:auto;line-height:normal;font-family:Menlo,'DejaVu Sans Mono',consolas,'Courier New',monospace\"><span style=\"color: #7fbfbf; text-decoration-color: #7fbfbf\">[07/12/24 18:04:43] </span><span style=\"color: #000080; text-decoration-color: #000080\">INFO    </span> <span style=\"font-weight: bold\">[</span>_client.py:<span style=\"color: #008080; text-decoration-color: #008080; font-weight: bold\">1773</span><span style=\"font-weight: bold\">]</span> &gt;&gt; HTTP Request: <span style=\"color: #808000; text-decoration-color: #808000; font-weight: bold\">POST</span>                                <a href=\"file:///Users/anpigon/Library/Caches/pypoetry/virtualenvs/autorag-tutorial-ko-GYvpjDIx-py3.11/lib/python3.11/site-packages/httpx/_client.py\" target=\"_blank\"><span style=\"color: #7f7f7f; text-decoration-color: #7f7f7f\">_client.py</span></a><span style=\"color: #7f7f7f; text-decoration-color: #7f7f7f\">:</span><a href=\"file:///Users/anpigon/Library/Caches/pypoetry/virtualenvs/autorag-tutorial-ko-GYvpjDIx-py3.11/lib/python3.11/site-packages/httpx/_client.py#1773\" target=\"_blank\"><span style=\"color: #7f7f7f; text-decoration-color: #7f7f7f\">1773</span></a>\n",
       "<span style=\"color: #7fbfbf; text-decoration-color: #7fbfbf\">                    </span>         <span style=\"color: #0000ff; text-decoration-color: #0000ff; text-decoration: underline\">http://localhost:11434/api/generate</span> <span style=\"color: #008000; text-decoration-color: #008000\">\"HTTP/1.1 200 OK\"</span>                  <span style=\"color: #7f7f7f; text-decoration-color: #7f7f7f\">               </span>\n",
       "</pre>\n"
      ],
      "text/plain": [
       "\u001b[2;36m[07/12/24 18:04:43]\u001b[0m\u001b[2;36m \u001b[0m\u001b[34mINFO    \u001b[0m \u001b[1m[\u001b[0m_client.py:\u001b[1;36m1773\u001b[0m\u001b[1m]\u001b[0m >> HTTP Request: \u001b[1;33mPOST\u001b[0m                                \u001b]8;id=543535;file:///Users/anpigon/Library/Caches/pypoetry/virtualenvs/autorag-tutorial-ko-GYvpjDIx-py3.11/lib/python3.11/site-packages/httpx/_client.py\u001b\\\u001b[2m_client.py\u001b[0m\u001b]8;;\u001b\\\u001b[2m:\u001b[0m\u001b]8;id=815174;file:///Users/anpigon/Library/Caches/pypoetry/virtualenvs/autorag-tutorial-ko-GYvpjDIx-py3.11/lib/python3.11/site-packages/httpx/_client.py#1773\u001b\\\u001b[2m1773\u001b[0m\u001b]8;;\u001b\\\n",
       "\u001b[2;36m                    \u001b[0m         \u001b[4;94mhttp://localhost:11434/api/generate\u001b[0m \u001b[32m\"HTTP/1.1 200 OK\"\u001b[0m                  \u001b[2m               \u001b[0m\n"
      ]
     },
     "metadata": {},
     "output_type": "display_data"
    },
    {
     "data": {
      "text/html": [
       "<pre style=\"white-space:pre;overflow-x:auto;line-height:normal;font-family:Menlo,'DejaVu Sans Mono',consolas,'Courier New',monospace\"><span style=\"color: #7fbfbf; text-decoration-color: #7fbfbf\">[07/12/24 18:04:51] </span><span style=\"color: #000080; text-decoration-color: #000080\">INFO    </span> <span style=\"font-weight: bold\">[</span>_client.py:<span style=\"color: #008080; text-decoration-color: #008080; font-weight: bold\">1773</span><span style=\"font-weight: bold\">]</span> &gt;&gt; HTTP Request: <span style=\"color: #808000; text-decoration-color: #808000; font-weight: bold\">POST</span>                                <a href=\"file:///Users/anpigon/Library/Caches/pypoetry/virtualenvs/autorag-tutorial-ko-GYvpjDIx-py3.11/lib/python3.11/site-packages/httpx/_client.py\" target=\"_blank\"><span style=\"color: #7f7f7f; text-decoration-color: #7f7f7f\">_client.py</span></a><span style=\"color: #7f7f7f; text-decoration-color: #7f7f7f\">:</span><a href=\"file:///Users/anpigon/Library/Caches/pypoetry/virtualenvs/autorag-tutorial-ko-GYvpjDIx-py3.11/lib/python3.11/site-packages/httpx/_client.py#1773\" target=\"_blank\"><span style=\"color: #7f7f7f; text-decoration-color: #7f7f7f\">1773</span></a>\n",
       "<span style=\"color: #7fbfbf; text-decoration-color: #7fbfbf\">                    </span>         <span style=\"color: #0000ff; text-decoration-color: #0000ff; text-decoration: underline\">http://localhost:11434/api/generate</span> <span style=\"color: #008000; text-decoration-color: #008000\">\"HTTP/1.1 200 OK\"</span>                  <span style=\"color: #7f7f7f; text-decoration-color: #7f7f7f\">               </span>\n",
       "</pre>\n"
      ],
      "text/plain": [
       "\u001b[2;36m[07/12/24 18:04:51]\u001b[0m\u001b[2;36m \u001b[0m\u001b[34mINFO    \u001b[0m \u001b[1m[\u001b[0m_client.py:\u001b[1;36m1773\u001b[0m\u001b[1m]\u001b[0m >> HTTP Request: \u001b[1;33mPOST\u001b[0m                                \u001b]8;id=46319;file:///Users/anpigon/Library/Caches/pypoetry/virtualenvs/autorag-tutorial-ko-GYvpjDIx-py3.11/lib/python3.11/site-packages/httpx/_client.py\u001b\\\u001b[2m_client.py\u001b[0m\u001b]8;;\u001b\\\u001b[2m:\u001b[0m\u001b]8;id=174912;file:///Users/anpigon/Library/Caches/pypoetry/virtualenvs/autorag-tutorial-ko-GYvpjDIx-py3.11/lib/python3.11/site-packages/httpx/_client.py#1773\u001b\\\u001b[2m1773\u001b[0m\u001b]8;;\u001b\\\n",
       "\u001b[2;36m                    \u001b[0m         \u001b[4;94mhttp://localhost:11434/api/generate\u001b[0m \u001b[32m\"HTTP/1.1 200 OK\"\u001b[0m                  \u001b[2m               \u001b[0m\n"
      ]
     },
     "metadata": {},
     "output_type": "display_data"
    },
    {
     "data": {
      "text/html": [
       "<pre style=\"white-space:pre;overflow-x:auto;line-height:normal;font-family:Menlo,'DejaVu Sans Mono',consolas,'Courier New',monospace\"><span style=\"color: #7fbfbf; text-decoration-color: #7fbfbf\">[07/12/24 18:05:03] </span><span style=\"color: #000080; text-decoration-color: #000080\">INFO    </span> <span style=\"font-weight: bold\">[</span>_client.py:<span style=\"color: #008080; text-decoration-color: #008080; font-weight: bold\">1773</span><span style=\"font-weight: bold\">]</span> &gt;&gt; HTTP Request: <span style=\"color: #808000; text-decoration-color: #808000; font-weight: bold\">POST</span>                                <a href=\"file:///Users/anpigon/Library/Caches/pypoetry/virtualenvs/autorag-tutorial-ko-GYvpjDIx-py3.11/lib/python3.11/site-packages/httpx/_client.py\" target=\"_blank\"><span style=\"color: #7f7f7f; text-decoration-color: #7f7f7f\">_client.py</span></a><span style=\"color: #7f7f7f; text-decoration-color: #7f7f7f\">:</span><a href=\"file:///Users/anpigon/Library/Caches/pypoetry/virtualenvs/autorag-tutorial-ko-GYvpjDIx-py3.11/lib/python3.11/site-packages/httpx/_client.py#1773\" target=\"_blank\"><span style=\"color: #7f7f7f; text-decoration-color: #7f7f7f\">1773</span></a>\n",
       "<span style=\"color: #7fbfbf; text-decoration-color: #7fbfbf\">                    </span>         <span style=\"color: #0000ff; text-decoration-color: #0000ff; text-decoration: underline\">http://localhost:11434/api/generate</span> <span style=\"color: #008000; text-decoration-color: #008000\">\"HTTP/1.1 200 OK\"</span>                  <span style=\"color: #7f7f7f; text-decoration-color: #7f7f7f\">               </span>\n",
       "</pre>\n"
      ],
      "text/plain": [
       "\u001b[2;36m[07/12/24 18:05:03]\u001b[0m\u001b[2;36m \u001b[0m\u001b[34mINFO    \u001b[0m \u001b[1m[\u001b[0m_client.py:\u001b[1;36m1773\u001b[0m\u001b[1m]\u001b[0m >> HTTP Request: \u001b[1;33mPOST\u001b[0m                                \u001b]8;id=765585;file:///Users/anpigon/Library/Caches/pypoetry/virtualenvs/autorag-tutorial-ko-GYvpjDIx-py3.11/lib/python3.11/site-packages/httpx/_client.py\u001b\\\u001b[2m_client.py\u001b[0m\u001b]8;;\u001b\\\u001b[2m:\u001b[0m\u001b]8;id=118018;file:///Users/anpigon/Library/Caches/pypoetry/virtualenvs/autorag-tutorial-ko-GYvpjDIx-py3.11/lib/python3.11/site-packages/httpx/_client.py#1773\u001b\\\u001b[2m1773\u001b[0m\u001b]8;;\u001b\\\n",
       "\u001b[2;36m                    \u001b[0m         \u001b[4;94mhttp://localhost:11434/api/generate\u001b[0m \u001b[32m\"HTTP/1.1 200 OK\"\u001b[0m                  \u001b[2m               \u001b[0m\n"
      ]
     },
     "metadata": {},
     "output_type": "display_data"
    },
    {
     "data": {
      "text/html": [
       "<pre style=\"white-space:pre;overflow-x:auto;line-height:normal;font-family:Menlo,'DejaVu Sans Mono',consolas,'Courier New',monospace\"><span style=\"color: #7fbfbf; text-decoration-color: #7fbfbf\">[07/12/24 18:05:11] </span><span style=\"color: #000080; text-decoration-color: #000080\">INFO    </span> <span style=\"font-weight: bold\">[</span>_client.py:<span style=\"color: #008080; text-decoration-color: #008080; font-weight: bold\">1773</span><span style=\"font-weight: bold\">]</span> &gt;&gt; HTTP Request: <span style=\"color: #808000; text-decoration-color: #808000; font-weight: bold\">POST</span>                                <a href=\"file:///Users/anpigon/Library/Caches/pypoetry/virtualenvs/autorag-tutorial-ko-GYvpjDIx-py3.11/lib/python3.11/site-packages/httpx/_client.py\" target=\"_blank\"><span style=\"color: #7f7f7f; text-decoration-color: #7f7f7f\">_client.py</span></a><span style=\"color: #7f7f7f; text-decoration-color: #7f7f7f\">:</span><a href=\"file:///Users/anpigon/Library/Caches/pypoetry/virtualenvs/autorag-tutorial-ko-GYvpjDIx-py3.11/lib/python3.11/site-packages/httpx/_client.py#1773\" target=\"_blank\"><span style=\"color: #7f7f7f; text-decoration-color: #7f7f7f\">1773</span></a>\n",
       "<span style=\"color: #7fbfbf; text-decoration-color: #7fbfbf\">                    </span>         <span style=\"color: #0000ff; text-decoration-color: #0000ff; text-decoration: underline\">http://localhost:11434/api/generate</span> <span style=\"color: #008000; text-decoration-color: #008000\">\"HTTP/1.1 200 OK\"</span>                  <span style=\"color: #7f7f7f; text-decoration-color: #7f7f7f\">               </span>\n",
       "</pre>\n"
      ],
      "text/plain": [
       "\u001b[2;36m[07/12/24 18:05:11]\u001b[0m\u001b[2;36m \u001b[0m\u001b[34mINFO    \u001b[0m \u001b[1m[\u001b[0m_client.py:\u001b[1;36m1773\u001b[0m\u001b[1m]\u001b[0m >> HTTP Request: \u001b[1;33mPOST\u001b[0m                                \u001b]8;id=280047;file:///Users/anpigon/Library/Caches/pypoetry/virtualenvs/autorag-tutorial-ko-GYvpjDIx-py3.11/lib/python3.11/site-packages/httpx/_client.py\u001b\\\u001b[2m_client.py\u001b[0m\u001b]8;;\u001b\\\u001b[2m:\u001b[0m\u001b]8;id=204622;file:///Users/anpigon/Library/Caches/pypoetry/virtualenvs/autorag-tutorial-ko-GYvpjDIx-py3.11/lib/python3.11/site-packages/httpx/_client.py#1773\u001b\\\u001b[2m1773\u001b[0m\u001b]8;;\u001b\\\n",
       "\u001b[2;36m                    \u001b[0m         \u001b[4;94mhttp://localhost:11434/api/generate\u001b[0m \u001b[32m\"HTTP/1.1 200 OK\"\u001b[0m                  \u001b[2m               \u001b[0m\n"
      ]
     },
     "metadata": {},
     "output_type": "display_data"
    },
    {
     "data": {
      "text/html": [
       "<pre style=\"white-space:pre;overflow-x:auto;line-height:normal;font-family:Menlo,'DejaVu Sans Mono',consolas,'Courier New',monospace\"><span style=\"color: #7fbfbf; text-decoration-color: #7fbfbf\">[07/12/24 18:05:20] </span><span style=\"color: #000080; text-decoration-color: #000080\">INFO    </span> <span style=\"font-weight: bold\">[</span>_client.py:<span style=\"color: #008080; text-decoration-color: #008080; font-weight: bold\">1773</span><span style=\"font-weight: bold\">]</span> &gt;&gt; HTTP Request: <span style=\"color: #808000; text-decoration-color: #808000; font-weight: bold\">POST</span>                                <a href=\"file:///Users/anpigon/Library/Caches/pypoetry/virtualenvs/autorag-tutorial-ko-GYvpjDIx-py3.11/lib/python3.11/site-packages/httpx/_client.py\" target=\"_blank\"><span style=\"color: #7f7f7f; text-decoration-color: #7f7f7f\">_client.py</span></a><span style=\"color: #7f7f7f; text-decoration-color: #7f7f7f\">:</span><a href=\"file:///Users/anpigon/Library/Caches/pypoetry/virtualenvs/autorag-tutorial-ko-GYvpjDIx-py3.11/lib/python3.11/site-packages/httpx/_client.py#1773\" target=\"_blank\"><span style=\"color: #7f7f7f; text-decoration-color: #7f7f7f\">1773</span></a>\n",
       "<span style=\"color: #7fbfbf; text-decoration-color: #7fbfbf\">                    </span>         <span style=\"color: #0000ff; text-decoration-color: #0000ff; text-decoration: underline\">http://localhost:11434/api/generate</span> <span style=\"color: #008000; text-decoration-color: #008000\">\"HTTP/1.1 200 OK\"</span>                  <span style=\"color: #7f7f7f; text-decoration-color: #7f7f7f\">               </span>\n",
       "</pre>\n"
      ],
      "text/plain": [
       "\u001b[2;36m[07/12/24 18:05:20]\u001b[0m\u001b[2;36m \u001b[0m\u001b[34mINFO    \u001b[0m \u001b[1m[\u001b[0m_client.py:\u001b[1;36m1773\u001b[0m\u001b[1m]\u001b[0m >> HTTP Request: \u001b[1;33mPOST\u001b[0m                                \u001b]8;id=603996;file:///Users/anpigon/Library/Caches/pypoetry/virtualenvs/autorag-tutorial-ko-GYvpjDIx-py3.11/lib/python3.11/site-packages/httpx/_client.py\u001b\\\u001b[2m_client.py\u001b[0m\u001b]8;;\u001b\\\u001b[2m:\u001b[0m\u001b]8;id=344284;file:///Users/anpigon/Library/Caches/pypoetry/virtualenvs/autorag-tutorial-ko-GYvpjDIx-py3.11/lib/python3.11/site-packages/httpx/_client.py#1773\u001b\\\u001b[2m1773\u001b[0m\u001b]8;;\u001b\\\n",
       "\u001b[2;36m                    \u001b[0m         \u001b[4;94mhttp://localhost:11434/api/generate\u001b[0m \u001b[32m\"HTTP/1.1 200 OK\"\u001b[0m                  \u001b[2m               \u001b[0m\n"
      ]
     },
     "metadata": {},
     "output_type": "display_data"
    },
    {
     "data": {
      "text/html": [
       "<pre style=\"white-space:pre;overflow-x:auto;line-height:normal;font-family:Menlo,'DejaVu Sans Mono',consolas,'Courier New',monospace\"><span style=\"color: #7fbfbf; text-decoration-color: #7fbfbf\">                    </span><span style=\"color: #000080; text-decoration-color: #000080\">INFO    </span> <span style=\"font-weight: bold\">[</span>base.py:<span style=\"color: #008080; text-decoration-color: #008080; font-weight: bold\">34</span><span style=\"font-weight: bold\">]</span> &gt;&gt; Running generator node - llama_index_llm module<span style=\"color: #808000; text-decoration-color: #808000\">...</span>          <a href=\"file:///Users/anpigon/Library/Caches/pypoetry/virtualenvs/autorag-tutorial-ko-GYvpjDIx-py3.11/lib/python3.11/site-packages/autorag/nodes/generator/base.py\" target=\"_blank\"><span style=\"color: #7f7f7f; text-decoration-color: #7f7f7f\">base.py</span></a><span style=\"color: #7f7f7f; text-decoration-color: #7f7f7f\">:</span><a href=\"file:///Users/anpigon/Library/Caches/pypoetry/virtualenvs/autorag-tutorial-ko-GYvpjDIx-py3.11/lib/python3.11/site-packages/autorag/nodes/generator/base.py#34\" target=\"_blank\"><span style=\"color: #7f7f7f; text-decoration-color: #7f7f7f\">34</span></a>\n",
       "</pre>\n"
      ],
      "text/plain": [
       "\u001b[2;36m                   \u001b[0m\u001b[2;36m \u001b[0m\u001b[34mINFO    \u001b[0m \u001b[1m[\u001b[0mbase.py:\u001b[1;36m34\u001b[0m\u001b[1m]\u001b[0m >> Running generator node - llama_index_llm module\u001b[33m...\u001b[0m          \u001b]8;id=67423;file:///Users/anpigon/Library/Caches/pypoetry/virtualenvs/autorag-tutorial-ko-GYvpjDIx-py3.11/lib/python3.11/site-packages/autorag/nodes/generator/base.py\u001b\\\u001b[2mbase.py\u001b[0m\u001b]8;;\u001b\\\u001b[2m:\u001b[0m\u001b]8;id=958047;file:///Users/anpigon/Library/Caches/pypoetry/virtualenvs/autorag-tutorial-ko-GYvpjDIx-py3.11/lib/python3.11/site-packages/autorag/nodes/generator/base.py#34\u001b\\\u001b[2m34\u001b[0m\u001b]8;;\u001b\\\n"
      ]
     },
     "metadata": {},
     "output_type": "display_data"
    },
    {
     "data": {
      "text/html": [
       "<pre style=\"white-space:pre;overflow-x:auto;line-height:normal;font-family:Menlo,'DejaVu Sans Mono',consolas,'Courier New',monospace\"><span style=\"color: #7fbfbf; text-decoration-color: #7fbfbf\">[07/12/24 18:05:33] </span><span style=\"color: #000080; text-decoration-color: #000080\">INFO    </span> <span style=\"font-weight: bold\">[</span>_client.py:<span style=\"color: #008080; text-decoration-color: #008080; font-weight: bold\">1773</span><span style=\"font-weight: bold\">]</span> &gt;&gt; HTTP Request: <span style=\"color: #808000; text-decoration-color: #808000; font-weight: bold\">POST</span>                                <a href=\"file:///Users/anpigon/Library/Caches/pypoetry/virtualenvs/autorag-tutorial-ko-GYvpjDIx-py3.11/lib/python3.11/site-packages/httpx/_client.py\" target=\"_blank\"><span style=\"color: #7f7f7f; text-decoration-color: #7f7f7f\">_client.py</span></a><span style=\"color: #7f7f7f; text-decoration-color: #7f7f7f\">:</span><a href=\"file:///Users/anpigon/Library/Caches/pypoetry/virtualenvs/autorag-tutorial-ko-GYvpjDIx-py3.11/lib/python3.11/site-packages/httpx/_client.py#1773\" target=\"_blank\"><span style=\"color: #7f7f7f; text-decoration-color: #7f7f7f\">1773</span></a>\n",
       "<span style=\"color: #7fbfbf; text-decoration-color: #7fbfbf\">                    </span>         <span style=\"color: #0000ff; text-decoration-color: #0000ff; text-decoration: underline\">http://localhost:11434/api/generate</span> <span style=\"color: #008000; text-decoration-color: #008000\">\"HTTP/1.1 200 OK\"</span>                  <span style=\"color: #7f7f7f; text-decoration-color: #7f7f7f\">               </span>\n",
       "</pre>\n"
      ],
      "text/plain": [
       "\u001b[2;36m[07/12/24 18:05:33]\u001b[0m\u001b[2;36m \u001b[0m\u001b[34mINFO    \u001b[0m \u001b[1m[\u001b[0m_client.py:\u001b[1;36m1773\u001b[0m\u001b[1m]\u001b[0m >> HTTP Request: \u001b[1;33mPOST\u001b[0m                                \u001b]8;id=30818;file:///Users/anpigon/Library/Caches/pypoetry/virtualenvs/autorag-tutorial-ko-GYvpjDIx-py3.11/lib/python3.11/site-packages/httpx/_client.py\u001b\\\u001b[2m_client.py\u001b[0m\u001b]8;;\u001b\\\u001b[2m:\u001b[0m\u001b]8;id=830731;file:///Users/anpigon/Library/Caches/pypoetry/virtualenvs/autorag-tutorial-ko-GYvpjDIx-py3.11/lib/python3.11/site-packages/httpx/_client.py#1773\u001b\\\u001b[2m1773\u001b[0m\u001b]8;;\u001b\\\n",
       "\u001b[2;36m                    \u001b[0m         \u001b[4;94mhttp://localhost:11434/api/generate\u001b[0m \u001b[32m\"HTTP/1.1 200 OK\"\u001b[0m                  \u001b[2m               \u001b[0m\n"
      ]
     },
     "metadata": {},
     "output_type": "display_data"
    },
    {
     "data": {
      "text/html": [
       "<pre style=\"white-space:pre;overflow-x:auto;line-height:normal;font-family:Menlo,'DejaVu Sans Mono',consolas,'Courier New',monospace\"><span style=\"color: #7fbfbf; text-decoration-color: #7fbfbf\">[07/12/24 18:05:39] </span><span style=\"color: #000080; text-decoration-color: #000080\">INFO    </span> <span style=\"font-weight: bold\">[</span>_client.py:<span style=\"color: #008080; text-decoration-color: #008080; font-weight: bold\">1773</span><span style=\"font-weight: bold\">]</span> &gt;&gt; HTTP Request: <span style=\"color: #808000; text-decoration-color: #808000; font-weight: bold\">POST</span>                                <a href=\"file:///Users/anpigon/Library/Caches/pypoetry/virtualenvs/autorag-tutorial-ko-GYvpjDIx-py3.11/lib/python3.11/site-packages/httpx/_client.py\" target=\"_blank\"><span style=\"color: #7f7f7f; text-decoration-color: #7f7f7f\">_client.py</span></a><span style=\"color: #7f7f7f; text-decoration-color: #7f7f7f\">:</span><a href=\"file:///Users/anpigon/Library/Caches/pypoetry/virtualenvs/autorag-tutorial-ko-GYvpjDIx-py3.11/lib/python3.11/site-packages/httpx/_client.py#1773\" target=\"_blank\"><span style=\"color: #7f7f7f; text-decoration-color: #7f7f7f\">1773</span></a>\n",
       "<span style=\"color: #7fbfbf; text-decoration-color: #7fbfbf\">                    </span>         <span style=\"color: #0000ff; text-decoration-color: #0000ff; text-decoration: underline\">http://localhost:11434/api/generate</span> <span style=\"color: #008000; text-decoration-color: #008000\">\"HTTP/1.1 200 OK\"</span>                  <span style=\"color: #7f7f7f; text-decoration-color: #7f7f7f\">               </span>\n",
       "</pre>\n"
      ],
      "text/plain": [
       "\u001b[2;36m[07/12/24 18:05:39]\u001b[0m\u001b[2;36m \u001b[0m\u001b[34mINFO    \u001b[0m \u001b[1m[\u001b[0m_client.py:\u001b[1;36m1773\u001b[0m\u001b[1m]\u001b[0m >> HTTP Request: \u001b[1;33mPOST\u001b[0m                                \u001b]8;id=667130;file:///Users/anpigon/Library/Caches/pypoetry/virtualenvs/autorag-tutorial-ko-GYvpjDIx-py3.11/lib/python3.11/site-packages/httpx/_client.py\u001b\\\u001b[2m_client.py\u001b[0m\u001b]8;;\u001b\\\u001b[2m:\u001b[0m\u001b]8;id=927375;file:///Users/anpigon/Library/Caches/pypoetry/virtualenvs/autorag-tutorial-ko-GYvpjDIx-py3.11/lib/python3.11/site-packages/httpx/_client.py#1773\u001b\\\u001b[2m1773\u001b[0m\u001b]8;;\u001b\\\n",
       "\u001b[2;36m                    \u001b[0m         \u001b[4;94mhttp://localhost:11434/api/generate\u001b[0m \u001b[32m\"HTTP/1.1 200 OK\"\u001b[0m                  \u001b[2m               \u001b[0m\n"
      ]
     },
     "metadata": {},
     "output_type": "display_data"
    },
    {
     "data": {
      "text/html": [
       "<pre style=\"white-space:pre;overflow-x:auto;line-height:normal;font-family:Menlo,'DejaVu Sans Mono',consolas,'Courier New',monospace\"><span style=\"color: #7fbfbf; text-decoration-color: #7fbfbf\">[07/12/24 18:05:46] </span><span style=\"color: #000080; text-decoration-color: #000080\">INFO    </span> <span style=\"font-weight: bold\">[</span>_client.py:<span style=\"color: #008080; text-decoration-color: #008080; font-weight: bold\">1773</span><span style=\"font-weight: bold\">]</span> &gt;&gt; HTTP Request: <span style=\"color: #808000; text-decoration-color: #808000; font-weight: bold\">POST</span>                                <a href=\"file:///Users/anpigon/Library/Caches/pypoetry/virtualenvs/autorag-tutorial-ko-GYvpjDIx-py3.11/lib/python3.11/site-packages/httpx/_client.py\" target=\"_blank\"><span style=\"color: #7f7f7f; text-decoration-color: #7f7f7f\">_client.py</span></a><span style=\"color: #7f7f7f; text-decoration-color: #7f7f7f\">:</span><a href=\"file:///Users/anpigon/Library/Caches/pypoetry/virtualenvs/autorag-tutorial-ko-GYvpjDIx-py3.11/lib/python3.11/site-packages/httpx/_client.py#1773\" target=\"_blank\"><span style=\"color: #7f7f7f; text-decoration-color: #7f7f7f\">1773</span></a>\n",
       "<span style=\"color: #7fbfbf; text-decoration-color: #7fbfbf\">                    </span>         <span style=\"color: #0000ff; text-decoration-color: #0000ff; text-decoration: underline\">http://localhost:11434/api/generate</span> <span style=\"color: #008000; text-decoration-color: #008000\">\"HTTP/1.1 200 OK\"</span>                  <span style=\"color: #7f7f7f; text-decoration-color: #7f7f7f\">               </span>\n",
       "</pre>\n"
      ],
      "text/plain": [
       "\u001b[2;36m[07/12/24 18:05:46]\u001b[0m\u001b[2;36m \u001b[0m\u001b[34mINFO    \u001b[0m \u001b[1m[\u001b[0m_client.py:\u001b[1;36m1773\u001b[0m\u001b[1m]\u001b[0m >> HTTP Request: \u001b[1;33mPOST\u001b[0m                                \u001b]8;id=172096;file:///Users/anpigon/Library/Caches/pypoetry/virtualenvs/autorag-tutorial-ko-GYvpjDIx-py3.11/lib/python3.11/site-packages/httpx/_client.py\u001b\\\u001b[2m_client.py\u001b[0m\u001b]8;;\u001b\\\u001b[2m:\u001b[0m\u001b]8;id=981616;file:///Users/anpigon/Library/Caches/pypoetry/virtualenvs/autorag-tutorial-ko-GYvpjDIx-py3.11/lib/python3.11/site-packages/httpx/_client.py#1773\u001b\\\u001b[2m1773\u001b[0m\u001b]8;;\u001b\\\n",
       "\u001b[2;36m                    \u001b[0m         \u001b[4;94mhttp://localhost:11434/api/generate\u001b[0m \u001b[32m\"HTTP/1.1 200 OK\"\u001b[0m                  \u001b[2m               \u001b[0m\n"
      ]
     },
     "metadata": {},
     "output_type": "display_data"
    },
    {
     "data": {
      "text/html": [
       "<pre style=\"white-space:pre;overflow-x:auto;line-height:normal;font-family:Menlo,'DejaVu Sans Mono',consolas,'Courier New',monospace\"><span style=\"color: #7fbfbf; text-decoration-color: #7fbfbf\">[07/12/24 18:05:51] </span><span style=\"color: #000080; text-decoration-color: #000080\">INFO    </span> <span style=\"font-weight: bold\">[</span>_client.py:<span style=\"color: #008080; text-decoration-color: #008080; font-weight: bold\">1773</span><span style=\"font-weight: bold\">]</span> &gt;&gt; HTTP Request: <span style=\"color: #808000; text-decoration-color: #808000; font-weight: bold\">POST</span>                                <a href=\"file:///Users/anpigon/Library/Caches/pypoetry/virtualenvs/autorag-tutorial-ko-GYvpjDIx-py3.11/lib/python3.11/site-packages/httpx/_client.py\" target=\"_blank\"><span style=\"color: #7f7f7f; text-decoration-color: #7f7f7f\">_client.py</span></a><span style=\"color: #7f7f7f; text-decoration-color: #7f7f7f\">:</span><a href=\"file:///Users/anpigon/Library/Caches/pypoetry/virtualenvs/autorag-tutorial-ko-GYvpjDIx-py3.11/lib/python3.11/site-packages/httpx/_client.py#1773\" target=\"_blank\"><span style=\"color: #7f7f7f; text-decoration-color: #7f7f7f\">1773</span></a>\n",
       "<span style=\"color: #7fbfbf; text-decoration-color: #7fbfbf\">                    </span>         <span style=\"color: #0000ff; text-decoration-color: #0000ff; text-decoration: underline\">http://localhost:11434/api/generate</span> <span style=\"color: #008000; text-decoration-color: #008000\">\"HTTP/1.1 200 OK\"</span>                  <span style=\"color: #7f7f7f; text-decoration-color: #7f7f7f\">               </span>\n",
       "</pre>\n"
      ],
      "text/plain": [
       "\u001b[2;36m[07/12/24 18:05:51]\u001b[0m\u001b[2;36m \u001b[0m\u001b[34mINFO    \u001b[0m \u001b[1m[\u001b[0m_client.py:\u001b[1;36m1773\u001b[0m\u001b[1m]\u001b[0m >> HTTP Request: \u001b[1;33mPOST\u001b[0m                                \u001b]8;id=417094;file:///Users/anpigon/Library/Caches/pypoetry/virtualenvs/autorag-tutorial-ko-GYvpjDIx-py3.11/lib/python3.11/site-packages/httpx/_client.py\u001b\\\u001b[2m_client.py\u001b[0m\u001b]8;;\u001b\\\u001b[2m:\u001b[0m\u001b]8;id=201453;file:///Users/anpigon/Library/Caches/pypoetry/virtualenvs/autorag-tutorial-ko-GYvpjDIx-py3.11/lib/python3.11/site-packages/httpx/_client.py#1773\u001b\\\u001b[2m1773\u001b[0m\u001b]8;;\u001b\\\n",
       "\u001b[2;36m                    \u001b[0m         \u001b[4;94mhttp://localhost:11434/api/generate\u001b[0m \u001b[32m\"HTTP/1.1 200 OK\"\u001b[0m                  \u001b[2m               \u001b[0m\n"
      ]
     },
     "metadata": {},
     "output_type": "display_data"
    },
    {
     "data": {
      "text/html": [
       "<pre style=\"white-space:pre;overflow-x:auto;line-height:normal;font-family:Menlo,'DejaVu Sans Mono',consolas,'Courier New',monospace\"><span style=\"color: #7fbfbf; text-decoration-color: #7fbfbf\">[07/12/24 18:05:55] </span><span style=\"color: #000080; text-decoration-color: #000080\">INFO    </span> <span style=\"font-weight: bold\">[</span>_client.py:<span style=\"color: #008080; text-decoration-color: #008080; font-weight: bold\">1773</span><span style=\"font-weight: bold\">]</span> &gt;&gt; HTTP Request: <span style=\"color: #808000; text-decoration-color: #808000; font-weight: bold\">POST</span>                                <a href=\"file:///Users/anpigon/Library/Caches/pypoetry/virtualenvs/autorag-tutorial-ko-GYvpjDIx-py3.11/lib/python3.11/site-packages/httpx/_client.py\" target=\"_blank\"><span style=\"color: #7f7f7f; text-decoration-color: #7f7f7f\">_client.py</span></a><span style=\"color: #7f7f7f; text-decoration-color: #7f7f7f\">:</span><a href=\"file:///Users/anpigon/Library/Caches/pypoetry/virtualenvs/autorag-tutorial-ko-GYvpjDIx-py3.11/lib/python3.11/site-packages/httpx/_client.py#1773\" target=\"_blank\"><span style=\"color: #7f7f7f; text-decoration-color: #7f7f7f\">1773</span></a>\n",
       "<span style=\"color: #7fbfbf; text-decoration-color: #7fbfbf\">                    </span>         <span style=\"color: #0000ff; text-decoration-color: #0000ff; text-decoration: underline\">http://localhost:11434/api/generate</span> <span style=\"color: #008000; text-decoration-color: #008000\">\"HTTP/1.1 200 OK\"</span>                  <span style=\"color: #7f7f7f; text-decoration-color: #7f7f7f\">               </span>\n",
       "</pre>\n"
      ],
      "text/plain": [
       "\u001b[2;36m[07/12/24 18:05:55]\u001b[0m\u001b[2;36m \u001b[0m\u001b[34mINFO    \u001b[0m \u001b[1m[\u001b[0m_client.py:\u001b[1;36m1773\u001b[0m\u001b[1m]\u001b[0m >> HTTP Request: \u001b[1;33mPOST\u001b[0m                                \u001b]8;id=683158;file:///Users/anpigon/Library/Caches/pypoetry/virtualenvs/autorag-tutorial-ko-GYvpjDIx-py3.11/lib/python3.11/site-packages/httpx/_client.py\u001b\\\u001b[2m_client.py\u001b[0m\u001b]8;;\u001b\\\u001b[2m:\u001b[0m\u001b]8;id=842292;file:///Users/anpigon/Library/Caches/pypoetry/virtualenvs/autorag-tutorial-ko-GYvpjDIx-py3.11/lib/python3.11/site-packages/httpx/_client.py#1773\u001b\\\u001b[2m1773\u001b[0m\u001b]8;;\u001b\\\n",
       "\u001b[2;36m                    \u001b[0m         \u001b[4;94mhttp://localhost:11434/api/generate\u001b[0m \u001b[32m\"HTTP/1.1 200 OK\"\u001b[0m                  \u001b[2m               \u001b[0m\n"
      ]
     },
     "metadata": {},
     "output_type": "display_data"
    },
    {
     "data": {
      "text/html": [
       "<pre style=\"white-space:pre;overflow-x:auto;line-height:normal;font-family:Menlo,'DejaVu Sans Mono',consolas,'Courier New',monospace\"><span style=\"color: #7fbfbf; text-decoration-color: #7fbfbf\">[07/12/24 18:05:59] </span><span style=\"color: #000080; text-decoration-color: #000080\">INFO    </span> <span style=\"font-weight: bold\">[</span>_client.py:<span style=\"color: #008080; text-decoration-color: #008080; font-weight: bold\">1773</span><span style=\"font-weight: bold\">]</span> &gt;&gt; HTTP Request: <span style=\"color: #808000; text-decoration-color: #808000; font-weight: bold\">POST</span>                                <a href=\"file:///Users/anpigon/Library/Caches/pypoetry/virtualenvs/autorag-tutorial-ko-GYvpjDIx-py3.11/lib/python3.11/site-packages/httpx/_client.py\" target=\"_blank\"><span style=\"color: #7f7f7f; text-decoration-color: #7f7f7f\">_client.py</span></a><span style=\"color: #7f7f7f; text-decoration-color: #7f7f7f\">:</span><a href=\"file:///Users/anpigon/Library/Caches/pypoetry/virtualenvs/autorag-tutorial-ko-GYvpjDIx-py3.11/lib/python3.11/site-packages/httpx/_client.py#1773\" target=\"_blank\"><span style=\"color: #7f7f7f; text-decoration-color: #7f7f7f\">1773</span></a>\n",
       "<span style=\"color: #7fbfbf; text-decoration-color: #7fbfbf\">                    </span>         <span style=\"color: #0000ff; text-decoration-color: #0000ff; text-decoration: underline\">http://localhost:11434/api/generate</span> <span style=\"color: #008000; text-decoration-color: #008000\">\"HTTP/1.1 200 OK\"</span>                  <span style=\"color: #7f7f7f; text-decoration-color: #7f7f7f\">               </span>\n",
       "</pre>\n"
      ],
      "text/plain": [
       "\u001b[2;36m[07/12/24 18:05:59]\u001b[0m\u001b[2;36m \u001b[0m\u001b[34mINFO    \u001b[0m \u001b[1m[\u001b[0m_client.py:\u001b[1;36m1773\u001b[0m\u001b[1m]\u001b[0m >> HTTP Request: \u001b[1;33mPOST\u001b[0m                                \u001b]8;id=473779;file:///Users/anpigon/Library/Caches/pypoetry/virtualenvs/autorag-tutorial-ko-GYvpjDIx-py3.11/lib/python3.11/site-packages/httpx/_client.py\u001b\\\u001b[2m_client.py\u001b[0m\u001b]8;;\u001b\\\u001b[2m:\u001b[0m\u001b]8;id=425029;file:///Users/anpigon/Library/Caches/pypoetry/virtualenvs/autorag-tutorial-ko-GYvpjDIx-py3.11/lib/python3.11/site-packages/httpx/_client.py#1773\u001b\\\u001b[2m1773\u001b[0m\u001b]8;;\u001b\\\n",
       "\u001b[2;36m                    \u001b[0m         \u001b[4;94mhttp://localhost:11434/api/generate\u001b[0m \u001b[32m\"HTTP/1.1 200 OK\"\u001b[0m                  \u001b[2m               \u001b[0m\n"
      ]
     },
     "metadata": {},
     "output_type": "display_data"
    },
    {
     "data": {
      "text/html": [
       "<pre style=\"white-space:pre;overflow-x:auto;line-height:normal;font-family:Menlo,'DejaVu Sans Mono',consolas,'Courier New',monospace\"><span style=\"color: #7fbfbf; text-decoration-color: #7fbfbf\">[07/12/24 18:06:12] </span><span style=\"color: #000080; text-decoration-color: #000080\">INFO    </span> <span style=\"font-weight: bold\">[</span>_client.py:<span style=\"color: #008080; text-decoration-color: #008080; font-weight: bold\">1773</span><span style=\"font-weight: bold\">]</span> &gt;&gt; HTTP Request: <span style=\"color: #808000; text-decoration-color: #808000; font-weight: bold\">POST</span>                                <a href=\"file:///Users/anpigon/Library/Caches/pypoetry/virtualenvs/autorag-tutorial-ko-GYvpjDIx-py3.11/lib/python3.11/site-packages/httpx/_client.py\" target=\"_blank\"><span style=\"color: #7f7f7f; text-decoration-color: #7f7f7f\">_client.py</span></a><span style=\"color: #7f7f7f; text-decoration-color: #7f7f7f\">:</span><a href=\"file:///Users/anpigon/Library/Caches/pypoetry/virtualenvs/autorag-tutorial-ko-GYvpjDIx-py3.11/lib/python3.11/site-packages/httpx/_client.py#1773\" target=\"_blank\"><span style=\"color: #7f7f7f; text-decoration-color: #7f7f7f\">1773</span></a>\n",
       "<span style=\"color: #7fbfbf; text-decoration-color: #7fbfbf\">                    </span>         <span style=\"color: #0000ff; text-decoration-color: #0000ff; text-decoration: underline\">http://localhost:11434/api/generate</span> <span style=\"color: #008000; text-decoration-color: #008000\">\"HTTP/1.1 200 OK\"</span>                  <span style=\"color: #7f7f7f; text-decoration-color: #7f7f7f\">               </span>\n",
       "</pre>\n"
      ],
      "text/plain": [
       "\u001b[2;36m[07/12/24 18:06:12]\u001b[0m\u001b[2;36m \u001b[0m\u001b[34mINFO    \u001b[0m \u001b[1m[\u001b[0m_client.py:\u001b[1;36m1773\u001b[0m\u001b[1m]\u001b[0m >> HTTP Request: \u001b[1;33mPOST\u001b[0m                                \u001b]8;id=862652;file:///Users/anpigon/Library/Caches/pypoetry/virtualenvs/autorag-tutorial-ko-GYvpjDIx-py3.11/lib/python3.11/site-packages/httpx/_client.py\u001b\\\u001b[2m_client.py\u001b[0m\u001b]8;;\u001b\\\u001b[2m:\u001b[0m\u001b]8;id=325832;file:///Users/anpigon/Library/Caches/pypoetry/virtualenvs/autorag-tutorial-ko-GYvpjDIx-py3.11/lib/python3.11/site-packages/httpx/_client.py#1773\u001b\\\u001b[2m1773\u001b[0m\u001b]8;;\u001b\\\n",
       "\u001b[2;36m                    \u001b[0m         \u001b[4;94mhttp://localhost:11434/api/generate\u001b[0m \u001b[32m\"HTTP/1.1 200 OK\"\u001b[0m                  \u001b[2m               \u001b[0m\n"
      ]
     },
     "metadata": {},
     "output_type": "display_data"
    },
    {
     "data": {
      "text/html": [
       "<pre style=\"white-space:pre;overflow-x:auto;line-height:normal;font-family:Menlo,'DejaVu Sans Mono',consolas,'Courier New',monospace\"><span style=\"color: #7fbfbf; text-decoration-color: #7fbfbf\">[07/12/24 18:06:16] </span><span style=\"color: #000080; text-decoration-color: #000080\">INFO    </span> <span style=\"font-weight: bold\">[</span>_client.py:<span style=\"color: #008080; text-decoration-color: #008080; font-weight: bold\">1773</span><span style=\"font-weight: bold\">]</span> &gt;&gt; HTTP Request: <span style=\"color: #808000; text-decoration-color: #808000; font-weight: bold\">POST</span>                                <a href=\"file:///Users/anpigon/Library/Caches/pypoetry/virtualenvs/autorag-tutorial-ko-GYvpjDIx-py3.11/lib/python3.11/site-packages/httpx/_client.py\" target=\"_blank\"><span style=\"color: #7f7f7f; text-decoration-color: #7f7f7f\">_client.py</span></a><span style=\"color: #7f7f7f; text-decoration-color: #7f7f7f\">:</span><a href=\"file:///Users/anpigon/Library/Caches/pypoetry/virtualenvs/autorag-tutorial-ko-GYvpjDIx-py3.11/lib/python3.11/site-packages/httpx/_client.py#1773\" target=\"_blank\"><span style=\"color: #7f7f7f; text-decoration-color: #7f7f7f\">1773</span></a>\n",
       "<span style=\"color: #7fbfbf; text-decoration-color: #7fbfbf\">                    </span>         <span style=\"color: #0000ff; text-decoration-color: #0000ff; text-decoration: underline\">http://localhost:11434/api/generate</span> <span style=\"color: #008000; text-decoration-color: #008000\">\"HTTP/1.1 200 OK\"</span>                  <span style=\"color: #7f7f7f; text-decoration-color: #7f7f7f\">               </span>\n",
       "</pre>\n"
      ],
      "text/plain": [
       "\u001b[2;36m[07/12/24 18:06:16]\u001b[0m\u001b[2;36m \u001b[0m\u001b[34mINFO    \u001b[0m \u001b[1m[\u001b[0m_client.py:\u001b[1;36m1773\u001b[0m\u001b[1m]\u001b[0m >> HTTP Request: \u001b[1;33mPOST\u001b[0m                                \u001b]8;id=917242;file:///Users/anpigon/Library/Caches/pypoetry/virtualenvs/autorag-tutorial-ko-GYvpjDIx-py3.11/lib/python3.11/site-packages/httpx/_client.py\u001b\\\u001b[2m_client.py\u001b[0m\u001b]8;;\u001b\\\u001b[2m:\u001b[0m\u001b]8;id=415811;file:///Users/anpigon/Library/Caches/pypoetry/virtualenvs/autorag-tutorial-ko-GYvpjDIx-py3.11/lib/python3.11/site-packages/httpx/_client.py#1773\u001b\\\u001b[2m1773\u001b[0m\u001b]8;;\u001b\\\n",
       "\u001b[2;36m                    \u001b[0m         \u001b[4;94mhttp://localhost:11434/api/generate\u001b[0m \u001b[32m\"HTTP/1.1 200 OK\"\u001b[0m                  \u001b[2m               \u001b[0m\n"
      ]
     },
     "metadata": {},
     "output_type": "display_data"
    },
    {
     "data": {
      "text/html": [
       "<pre style=\"white-space:pre;overflow-x:auto;line-height:normal;font-family:Menlo,'DejaVu Sans Mono',consolas,'Courier New',monospace\"><span style=\"color: #7fbfbf; text-decoration-color: #7fbfbf\">[07/12/24 18:06:24] </span><span style=\"color: #000080; text-decoration-color: #000080\">INFO    </span> <span style=\"font-weight: bold\">[</span>_client.py:<span style=\"color: #008080; text-decoration-color: #008080; font-weight: bold\">1773</span><span style=\"font-weight: bold\">]</span> &gt;&gt; HTTP Request: <span style=\"color: #808000; text-decoration-color: #808000; font-weight: bold\">POST</span>                                <a href=\"file:///Users/anpigon/Library/Caches/pypoetry/virtualenvs/autorag-tutorial-ko-GYvpjDIx-py3.11/lib/python3.11/site-packages/httpx/_client.py\" target=\"_blank\"><span style=\"color: #7f7f7f; text-decoration-color: #7f7f7f\">_client.py</span></a><span style=\"color: #7f7f7f; text-decoration-color: #7f7f7f\">:</span><a href=\"file:///Users/anpigon/Library/Caches/pypoetry/virtualenvs/autorag-tutorial-ko-GYvpjDIx-py3.11/lib/python3.11/site-packages/httpx/_client.py#1773\" target=\"_blank\"><span style=\"color: #7f7f7f; text-decoration-color: #7f7f7f\">1773</span></a>\n",
       "<span style=\"color: #7fbfbf; text-decoration-color: #7fbfbf\">                    </span>         <span style=\"color: #0000ff; text-decoration-color: #0000ff; text-decoration: underline\">http://localhost:11434/api/generate</span> <span style=\"color: #008000; text-decoration-color: #008000\">\"HTTP/1.1 200 OK\"</span>                  <span style=\"color: #7f7f7f; text-decoration-color: #7f7f7f\">               </span>\n",
       "</pre>\n"
      ],
      "text/plain": [
       "\u001b[2;36m[07/12/24 18:06:24]\u001b[0m\u001b[2;36m \u001b[0m\u001b[34mINFO    \u001b[0m \u001b[1m[\u001b[0m_client.py:\u001b[1;36m1773\u001b[0m\u001b[1m]\u001b[0m >> HTTP Request: \u001b[1;33mPOST\u001b[0m                                \u001b]8;id=677740;file:///Users/anpigon/Library/Caches/pypoetry/virtualenvs/autorag-tutorial-ko-GYvpjDIx-py3.11/lib/python3.11/site-packages/httpx/_client.py\u001b\\\u001b[2m_client.py\u001b[0m\u001b]8;;\u001b\\\u001b[2m:\u001b[0m\u001b]8;id=153301;file:///Users/anpigon/Library/Caches/pypoetry/virtualenvs/autorag-tutorial-ko-GYvpjDIx-py3.11/lib/python3.11/site-packages/httpx/_client.py#1773\u001b\\\u001b[2m1773\u001b[0m\u001b]8;;\u001b\\\n",
       "\u001b[2;36m                    \u001b[0m         \u001b[4;94mhttp://localhost:11434/api/generate\u001b[0m \u001b[32m\"HTTP/1.1 200 OK\"\u001b[0m                  \u001b[2m               \u001b[0m\n"
      ]
     },
     "metadata": {},
     "output_type": "display_data"
    },
    {
     "data": {
      "text/html": [
       "<pre style=\"white-space:pre;overflow-x:auto;line-height:normal;font-family:Menlo,'DejaVu Sans Mono',consolas,'Courier New',monospace\"><span style=\"color: #7fbfbf; text-decoration-color: #7fbfbf\">[07/12/24 18:06:30] </span><span style=\"color: #000080; text-decoration-color: #000080\">INFO    </span> <span style=\"font-weight: bold\">[</span>_client.py:<span style=\"color: #008080; text-decoration-color: #008080; font-weight: bold\">1773</span><span style=\"font-weight: bold\">]</span> &gt;&gt; HTTP Request: <span style=\"color: #808000; text-decoration-color: #808000; font-weight: bold\">POST</span>                                <a href=\"file:///Users/anpigon/Library/Caches/pypoetry/virtualenvs/autorag-tutorial-ko-GYvpjDIx-py3.11/lib/python3.11/site-packages/httpx/_client.py\" target=\"_blank\"><span style=\"color: #7f7f7f; text-decoration-color: #7f7f7f\">_client.py</span></a><span style=\"color: #7f7f7f; text-decoration-color: #7f7f7f\">:</span><a href=\"file:///Users/anpigon/Library/Caches/pypoetry/virtualenvs/autorag-tutorial-ko-GYvpjDIx-py3.11/lib/python3.11/site-packages/httpx/_client.py#1773\" target=\"_blank\"><span style=\"color: #7f7f7f; text-decoration-color: #7f7f7f\">1773</span></a>\n",
       "<span style=\"color: #7fbfbf; text-decoration-color: #7fbfbf\">                    </span>         <span style=\"color: #0000ff; text-decoration-color: #0000ff; text-decoration: underline\">http://localhost:11434/api/generate</span> <span style=\"color: #008000; text-decoration-color: #008000\">\"HTTP/1.1 200 OK\"</span>                  <span style=\"color: #7f7f7f; text-decoration-color: #7f7f7f\">               </span>\n",
       "</pre>\n"
      ],
      "text/plain": [
       "\u001b[2;36m[07/12/24 18:06:30]\u001b[0m\u001b[2;36m \u001b[0m\u001b[34mINFO    \u001b[0m \u001b[1m[\u001b[0m_client.py:\u001b[1;36m1773\u001b[0m\u001b[1m]\u001b[0m >> HTTP Request: \u001b[1;33mPOST\u001b[0m                                \u001b]8;id=4289;file:///Users/anpigon/Library/Caches/pypoetry/virtualenvs/autorag-tutorial-ko-GYvpjDIx-py3.11/lib/python3.11/site-packages/httpx/_client.py\u001b\\\u001b[2m_client.py\u001b[0m\u001b]8;;\u001b\\\u001b[2m:\u001b[0m\u001b]8;id=598546;file:///Users/anpigon/Library/Caches/pypoetry/virtualenvs/autorag-tutorial-ko-GYvpjDIx-py3.11/lib/python3.11/site-packages/httpx/_client.py#1773\u001b\\\u001b[2m1773\u001b[0m\u001b]8;;\u001b\\\n",
       "\u001b[2;36m                    \u001b[0m         \u001b[4;94mhttp://localhost:11434/api/generate\u001b[0m \u001b[32m\"HTTP/1.1 200 OK\"\u001b[0m                  \u001b[2m               \u001b[0m\n"
      ]
     },
     "metadata": {},
     "output_type": "display_data"
    },
    {
     "data": {
      "text/html": [
       "<pre style=\"white-space:pre;overflow-x:auto;line-height:normal;font-family:Menlo,'DejaVu Sans Mono',consolas,'Courier New',monospace\"><span style=\"color: #7fbfbf; text-decoration-color: #7fbfbf\">[07/12/24 18:06:35] </span><span style=\"color: #000080; text-decoration-color: #000080\">INFO    </span> <span style=\"font-weight: bold\">[</span>_client.py:<span style=\"color: #008080; text-decoration-color: #008080; font-weight: bold\">1773</span><span style=\"font-weight: bold\">]</span> &gt;&gt; HTTP Request: <span style=\"color: #808000; text-decoration-color: #808000; font-weight: bold\">POST</span>                                <a href=\"file:///Users/anpigon/Library/Caches/pypoetry/virtualenvs/autorag-tutorial-ko-GYvpjDIx-py3.11/lib/python3.11/site-packages/httpx/_client.py\" target=\"_blank\"><span style=\"color: #7f7f7f; text-decoration-color: #7f7f7f\">_client.py</span></a><span style=\"color: #7f7f7f; text-decoration-color: #7f7f7f\">:</span><a href=\"file:///Users/anpigon/Library/Caches/pypoetry/virtualenvs/autorag-tutorial-ko-GYvpjDIx-py3.11/lib/python3.11/site-packages/httpx/_client.py#1773\" target=\"_blank\"><span style=\"color: #7f7f7f; text-decoration-color: #7f7f7f\">1773</span></a>\n",
       "<span style=\"color: #7fbfbf; text-decoration-color: #7fbfbf\">                    </span>         <span style=\"color: #0000ff; text-decoration-color: #0000ff; text-decoration: underline\">http://localhost:11434/api/generate</span> <span style=\"color: #008000; text-decoration-color: #008000\">\"HTTP/1.1 200 OK\"</span>                  <span style=\"color: #7f7f7f; text-decoration-color: #7f7f7f\">               </span>\n",
       "</pre>\n"
      ],
      "text/plain": [
       "\u001b[2;36m[07/12/24 18:06:35]\u001b[0m\u001b[2;36m \u001b[0m\u001b[34mINFO    \u001b[0m \u001b[1m[\u001b[0m_client.py:\u001b[1;36m1773\u001b[0m\u001b[1m]\u001b[0m >> HTTP Request: \u001b[1;33mPOST\u001b[0m                                \u001b]8;id=491584;file:///Users/anpigon/Library/Caches/pypoetry/virtualenvs/autorag-tutorial-ko-GYvpjDIx-py3.11/lib/python3.11/site-packages/httpx/_client.py\u001b\\\u001b[2m_client.py\u001b[0m\u001b]8;;\u001b\\\u001b[2m:\u001b[0m\u001b]8;id=109786;file:///Users/anpigon/Library/Caches/pypoetry/virtualenvs/autorag-tutorial-ko-GYvpjDIx-py3.11/lib/python3.11/site-packages/httpx/_client.py#1773\u001b\\\u001b[2m1773\u001b[0m\u001b]8;;\u001b\\\n",
       "\u001b[2;36m                    \u001b[0m         \u001b[4;94mhttp://localhost:11434/api/generate\u001b[0m \u001b[32m\"HTTP/1.1 200 OK\"\u001b[0m                  \u001b[2m               \u001b[0m\n"
      ]
     },
     "metadata": {},
     "output_type": "display_data"
    },
    {
     "data": {
      "text/html": [
       "<pre style=\"white-space:pre;overflow-x:auto;line-height:normal;font-family:Menlo,'DejaVu Sans Mono',consolas,'Courier New',monospace\"><span style=\"color: #7fbfbf; text-decoration-color: #7fbfbf\">[07/12/24 18:06:54] </span><span style=\"color: #000080; text-decoration-color: #000080\">INFO    </span> <span style=\"font-weight: bold\">[</span>_client.py:<span style=\"color: #008080; text-decoration-color: #008080; font-weight: bold\">1773</span><span style=\"font-weight: bold\">]</span> &gt;&gt; HTTP Request: <span style=\"color: #808000; text-decoration-color: #808000; font-weight: bold\">POST</span>                                <a href=\"file:///Users/anpigon/Library/Caches/pypoetry/virtualenvs/autorag-tutorial-ko-GYvpjDIx-py3.11/lib/python3.11/site-packages/httpx/_client.py\" target=\"_blank\"><span style=\"color: #7f7f7f; text-decoration-color: #7f7f7f\">_client.py</span></a><span style=\"color: #7f7f7f; text-decoration-color: #7f7f7f\">:</span><a href=\"file:///Users/anpigon/Library/Caches/pypoetry/virtualenvs/autorag-tutorial-ko-GYvpjDIx-py3.11/lib/python3.11/site-packages/httpx/_client.py#1773\" target=\"_blank\"><span style=\"color: #7f7f7f; text-decoration-color: #7f7f7f\">1773</span></a>\n",
       "<span style=\"color: #7fbfbf; text-decoration-color: #7fbfbf\">                    </span>         <span style=\"color: #0000ff; text-decoration-color: #0000ff; text-decoration: underline\">http://localhost:11434/api/generate</span> <span style=\"color: #008000; text-decoration-color: #008000\">\"HTTP/1.1 200 OK\"</span>                  <span style=\"color: #7f7f7f; text-decoration-color: #7f7f7f\">               </span>\n",
       "</pre>\n"
      ],
      "text/plain": [
       "\u001b[2;36m[07/12/24 18:06:54]\u001b[0m\u001b[2;36m \u001b[0m\u001b[34mINFO    \u001b[0m \u001b[1m[\u001b[0m_client.py:\u001b[1;36m1773\u001b[0m\u001b[1m]\u001b[0m >> HTTP Request: \u001b[1;33mPOST\u001b[0m                                \u001b]8;id=961032;file:///Users/anpigon/Library/Caches/pypoetry/virtualenvs/autorag-tutorial-ko-GYvpjDIx-py3.11/lib/python3.11/site-packages/httpx/_client.py\u001b\\\u001b[2m_client.py\u001b[0m\u001b]8;;\u001b\\\u001b[2m:\u001b[0m\u001b]8;id=509652;file:///Users/anpigon/Library/Caches/pypoetry/virtualenvs/autorag-tutorial-ko-GYvpjDIx-py3.11/lib/python3.11/site-packages/httpx/_client.py#1773\u001b\\\u001b[2m1773\u001b[0m\u001b]8;;\u001b\\\n",
       "\u001b[2;36m                    \u001b[0m         \u001b[4;94mhttp://localhost:11434/api/generate\u001b[0m \u001b[32m\"HTTP/1.1 200 OK\"\u001b[0m                  \u001b[2m               \u001b[0m\n"
      ]
     },
     "metadata": {},
     "output_type": "display_data"
    },
    {
     "data": {
      "text/html": [
       "<pre style=\"white-space:pre;overflow-x:auto;line-height:normal;font-family:Menlo,'DejaVu Sans Mono',consolas,'Courier New',monospace\"><span style=\"color: #7fbfbf; text-decoration-color: #7fbfbf\">[07/12/24 18:07:01] </span><span style=\"color: #000080; text-decoration-color: #000080\">INFO    </span> <span style=\"font-weight: bold\">[</span>_client.py:<span style=\"color: #008080; text-decoration-color: #008080; font-weight: bold\">1773</span><span style=\"font-weight: bold\">]</span> &gt;&gt; HTTP Request: <span style=\"color: #808000; text-decoration-color: #808000; font-weight: bold\">POST</span>                                <a href=\"file:///Users/anpigon/Library/Caches/pypoetry/virtualenvs/autorag-tutorial-ko-GYvpjDIx-py3.11/lib/python3.11/site-packages/httpx/_client.py\" target=\"_blank\"><span style=\"color: #7f7f7f; text-decoration-color: #7f7f7f\">_client.py</span></a><span style=\"color: #7f7f7f; text-decoration-color: #7f7f7f\">:</span><a href=\"file:///Users/anpigon/Library/Caches/pypoetry/virtualenvs/autorag-tutorial-ko-GYvpjDIx-py3.11/lib/python3.11/site-packages/httpx/_client.py#1773\" target=\"_blank\"><span style=\"color: #7f7f7f; text-decoration-color: #7f7f7f\">1773</span></a>\n",
       "<span style=\"color: #7fbfbf; text-decoration-color: #7fbfbf\">                    </span>         <span style=\"color: #0000ff; text-decoration-color: #0000ff; text-decoration: underline\">http://localhost:11434/api/generate</span> <span style=\"color: #008000; text-decoration-color: #008000\">\"HTTP/1.1 200 OK\"</span>                  <span style=\"color: #7f7f7f; text-decoration-color: #7f7f7f\">               </span>\n",
       "</pre>\n"
      ],
      "text/plain": [
       "\u001b[2;36m[07/12/24 18:07:01]\u001b[0m\u001b[2;36m \u001b[0m\u001b[34mINFO    \u001b[0m \u001b[1m[\u001b[0m_client.py:\u001b[1;36m1773\u001b[0m\u001b[1m]\u001b[0m >> HTTP Request: \u001b[1;33mPOST\u001b[0m                                \u001b]8;id=558770;file:///Users/anpigon/Library/Caches/pypoetry/virtualenvs/autorag-tutorial-ko-GYvpjDIx-py3.11/lib/python3.11/site-packages/httpx/_client.py\u001b\\\u001b[2m_client.py\u001b[0m\u001b]8;;\u001b\\\u001b[2m:\u001b[0m\u001b]8;id=265984;file:///Users/anpigon/Library/Caches/pypoetry/virtualenvs/autorag-tutorial-ko-GYvpjDIx-py3.11/lib/python3.11/site-packages/httpx/_client.py#1773\u001b\\\u001b[2m1773\u001b[0m\u001b]8;;\u001b\\\n",
       "\u001b[2;36m                    \u001b[0m         \u001b[4;94mhttp://localhost:11434/api/generate\u001b[0m \u001b[32m\"HTTP/1.1 200 OK\"\u001b[0m                  \u001b[2m               \u001b[0m\n"
      ]
     },
     "metadata": {},
     "output_type": "display_data"
    },
    {
     "data": {
      "text/html": [
       "<pre style=\"white-space:pre;overflow-x:auto;line-height:normal;font-family:Menlo,'DejaVu Sans Mono',consolas,'Courier New',monospace\"><span style=\"color: #7fbfbf; text-decoration-color: #7fbfbf\">[07/12/24 18:07:08] </span><span style=\"color: #000080; text-decoration-color: #000080\">INFO    </span> <span style=\"font-weight: bold\">[</span>_client.py:<span style=\"color: #008080; text-decoration-color: #008080; font-weight: bold\">1773</span><span style=\"font-weight: bold\">]</span> &gt;&gt; HTTP Request: <span style=\"color: #808000; text-decoration-color: #808000; font-weight: bold\">POST</span>                                <a href=\"file:///Users/anpigon/Library/Caches/pypoetry/virtualenvs/autorag-tutorial-ko-GYvpjDIx-py3.11/lib/python3.11/site-packages/httpx/_client.py\" target=\"_blank\"><span style=\"color: #7f7f7f; text-decoration-color: #7f7f7f\">_client.py</span></a><span style=\"color: #7f7f7f; text-decoration-color: #7f7f7f\">:</span><a href=\"file:///Users/anpigon/Library/Caches/pypoetry/virtualenvs/autorag-tutorial-ko-GYvpjDIx-py3.11/lib/python3.11/site-packages/httpx/_client.py#1773\" target=\"_blank\"><span style=\"color: #7f7f7f; text-decoration-color: #7f7f7f\">1773</span></a>\n",
       "<span style=\"color: #7fbfbf; text-decoration-color: #7fbfbf\">                    </span>         <span style=\"color: #0000ff; text-decoration-color: #0000ff; text-decoration: underline\">http://localhost:11434/api/generate</span> <span style=\"color: #008000; text-decoration-color: #008000\">\"HTTP/1.1 200 OK\"</span>                  <span style=\"color: #7f7f7f; text-decoration-color: #7f7f7f\">               </span>\n",
       "</pre>\n"
      ],
      "text/plain": [
       "\u001b[2;36m[07/12/24 18:07:08]\u001b[0m\u001b[2;36m \u001b[0m\u001b[34mINFO    \u001b[0m \u001b[1m[\u001b[0m_client.py:\u001b[1;36m1773\u001b[0m\u001b[1m]\u001b[0m >> HTTP Request: \u001b[1;33mPOST\u001b[0m                                \u001b]8;id=596101;file:///Users/anpigon/Library/Caches/pypoetry/virtualenvs/autorag-tutorial-ko-GYvpjDIx-py3.11/lib/python3.11/site-packages/httpx/_client.py\u001b\\\u001b[2m_client.py\u001b[0m\u001b]8;;\u001b\\\u001b[2m:\u001b[0m\u001b]8;id=711804;file:///Users/anpigon/Library/Caches/pypoetry/virtualenvs/autorag-tutorial-ko-GYvpjDIx-py3.11/lib/python3.11/site-packages/httpx/_client.py#1773\u001b\\\u001b[2m1773\u001b[0m\u001b]8;;\u001b\\\n",
       "\u001b[2;36m                    \u001b[0m         \u001b[4;94mhttp://localhost:11434/api/generate\u001b[0m \u001b[32m\"HTTP/1.1 200 OK\"\u001b[0m                  \u001b[2m               \u001b[0m\n"
      ]
     },
     "metadata": {},
     "output_type": "display_data"
    },
    {
     "data": {
      "text/html": [
       "<pre style=\"white-space:pre;overflow-x:auto;line-height:normal;font-family:Menlo,'DejaVu Sans Mono',consolas,'Courier New',monospace\"><span style=\"color: #7fbfbf; text-decoration-color: #7fbfbf\">[07/12/24 18:07:15] </span><span style=\"color: #000080; text-decoration-color: #000080\">INFO    </span> <span style=\"font-weight: bold\">[</span>_client.py:<span style=\"color: #008080; text-decoration-color: #008080; font-weight: bold\">1773</span><span style=\"font-weight: bold\">]</span> &gt;&gt; HTTP Request: <span style=\"color: #808000; text-decoration-color: #808000; font-weight: bold\">POST</span>                                <a href=\"file:///Users/anpigon/Library/Caches/pypoetry/virtualenvs/autorag-tutorial-ko-GYvpjDIx-py3.11/lib/python3.11/site-packages/httpx/_client.py\" target=\"_blank\"><span style=\"color: #7f7f7f; text-decoration-color: #7f7f7f\">_client.py</span></a><span style=\"color: #7f7f7f; text-decoration-color: #7f7f7f\">:</span><a href=\"file:///Users/anpigon/Library/Caches/pypoetry/virtualenvs/autorag-tutorial-ko-GYvpjDIx-py3.11/lib/python3.11/site-packages/httpx/_client.py#1773\" target=\"_blank\"><span style=\"color: #7f7f7f; text-decoration-color: #7f7f7f\">1773</span></a>\n",
       "<span style=\"color: #7fbfbf; text-decoration-color: #7fbfbf\">                    </span>         <span style=\"color: #0000ff; text-decoration-color: #0000ff; text-decoration: underline\">http://localhost:11434/api/generate</span> <span style=\"color: #008000; text-decoration-color: #008000\">\"HTTP/1.1 200 OK\"</span>                  <span style=\"color: #7f7f7f; text-decoration-color: #7f7f7f\">               </span>\n",
       "</pre>\n"
      ],
      "text/plain": [
       "\u001b[2;36m[07/12/24 18:07:15]\u001b[0m\u001b[2;36m \u001b[0m\u001b[34mINFO    \u001b[0m \u001b[1m[\u001b[0m_client.py:\u001b[1;36m1773\u001b[0m\u001b[1m]\u001b[0m >> HTTP Request: \u001b[1;33mPOST\u001b[0m                                \u001b]8;id=122578;file:///Users/anpigon/Library/Caches/pypoetry/virtualenvs/autorag-tutorial-ko-GYvpjDIx-py3.11/lib/python3.11/site-packages/httpx/_client.py\u001b\\\u001b[2m_client.py\u001b[0m\u001b]8;;\u001b\\\u001b[2m:\u001b[0m\u001b]8;id=569350;file:///Users/anpigon/Library/Caches/pypoetry/virtualenvs/autorag-tutorial-ko-GYvpjDIx-py3.11/lib/python3.11/site-packages/httpx/_client.py#1773\u001b\\\u001b[2m1773\u001b[0m\u001b]8;;\u001b\\\n",
       "\u001b[2;36m                    \u001b[0m         \u001b[4;94mhttp://localhost:11434/api/generate\u001b[0m \u001b[32m\"HTTP/1.1 200 OK\"\u001b[0m                  \u001b[2m               \u001b[0m\n"
      ]
     },
     "metadata": {},
     "output_type": "display_data"
    },
    {
     "data": {
      "text/html": [
       "<pre style=\"white-space:pre;overflow-x:auto;line-height:normal;font-family:Menlo,'DejaVu Sans Mono',consolas,'Courier New',monospace\"><span style=\"color: #7fbfbf; text-decoration-color: #7fbfbf\">[07/12/24 18:07:21] </span><span style=\"color: #000080; text-decoration-color: #000080\">INFO    </span> <span style=\"font-weight: bold\">[</span>_client.py:<span style=\"color: #008080; text-decoration-color: #008080; font-weight: bold\">1773</span><span style=\"font-weight: bold\">]</span> &gt;&gt; HTTP Request: <span style=\"color: #808000; text-decoration-color: #808000; font-weight: bold\">POST</span>                                <a href=\"file:///Users/anpigon/Library/Caches/pypoetry/virtualenvs/autorag-tutorial-ko-GYvpjDIx-py3.11/lib/python3.11/site-packages/httpx/_client.py\" target=\"_blank\"><span style=\"color: #7f7f7f; text-decoration-color: #7f7f7f\">_client.py</span></a><span style=\"color: #7f7f7f; text-decoration-color: #7f7f7f\">:</span><a href=\"file:///Users/anpigon/Library/Caches/pypoetry/virtualenvs/autorag-tutorial-ko-GYvpjDIx-py3.11/lib/python3.11/site-packages/httpx/_client.py#1773\" target=\"_blank\"><span style=\"color: #7f7f7f; text-decoration-color: #7f7f7f\">1773</span></a>\n",
       "<span style=\"color: #7fbfbf; text-decoration-color: #7fbfbf\">                    </span>         <span style=\"color: #0000ff; text-decoration-color: #0000ff; text-decoration: underline\">http://localhost:11434/api/generate</span> <span style=\"color: #008000; text-decoration-color: #008000\">\"HTTP/1.1 200 OK\"</span>                  <span style=\"color: #7f7f7f; text-decoration-color: #7f7f7f\">               </span>\n",
       "</pre>\n"
      ],
      "text/plain": [
       "\u001b[2;36m[07/12/24 18:07:21]\u001b[0m\u001b[2;36m \u001b[0m\u001b[34mINFO    \u001b[0m \u001b[1m[\u001b[0m_client.py:\u001b[1;36m1773\u001b[0m\u001b[1m]\u001b[0m >> HTTP Request: \u001b[1;33mPOST\u001b[0m                                \u001b]8;id=444414;file:///Users/anpigon/Library/Caches/pypoetry/virtualenvs/autorag-tutorial-ko-GYvpjDIx-py3.11/lib/python3.11/site-packages/httpx/_client.py\u001b\\\u001b[2m_client.py\u001b[0m\u001b]8;;\u001b\\\u001b[2m:\u001b[0m\u001b]8;id=467054;file:///Users/anpigon/Library/Caches/pypoetry/virtualenvs/autorag-tutorial-ko-GYvpjDIx-py3.11/lib/python3.11/site-packages/httpx/_client.py#1773\u001b\\\u001b[2m1773\u001b[0m\u001b]8;;\u001b\\\n",
       "\u001b[2;36m                    \u001b[0m         \u001b[4;94mhttp://localhost:11434/api/generate\u001b[0m \u001b[32m\"HTTP/1.1 200 OK\"\u001b[0m                  \u001b[2m               \u001b[0m\n"
      ]
     },
     "metadata": {},
     "output_type": "display_data"
    },
    {
     "data": {
      "text/html": [
       "<pre style=\"white-space:pre;overflow-x:auto;line-height:normal;font-family:Menlo,'DejaVu Sans Mono',consolas,'Courier New',monospace\"><span style=\"color: #7fbfbf; text-decoration-color: #7fbfbf\">[07/12/24 18:07:29] </span><span style=\"color: #000080; text-decoration-color: #000080\">INFO    </span> <span style=\"font-weight: bold\">[</span>_client.py:<span style=\"color: #008080; text-decoration-color: #008080; font-weight: bold\">1773</span><span style=\"font-weight: bold\">]</span> &gt;&gt; HTTP Request: <span style=\"color: #808000; text-decoration-color: #808000; font-weight: bold\">POST</span>                                <a href=\"file:///Users/anpigon/Library/Caches/pypoetry/virtualenvs/autorag-tutorial-ko-GYvpjDIx-py3.11/lib/python3.11/site-packages/httpx/_client.py\" target=\"_blank\"><span style=\"color: #7f7f7f; text-decoration-color: #7f7f7f\">_client.py</span></a><span style=\"color: #7f7f7f; text-decoration-color: #7f7f7f\">:</span><a href=\"file:///Users/anpigon/Library/Caches/pypoetry/virtualenvs/autorag-tutorial-ko-GYvpjDIx-py3.11/lib/python3.11/site-packages/httpx/_client.py#1773\" target=\"_blank\"><span style=\"color: #7f7f7f; text-decoration-color: #7f7f7f\">1773</span></a>\n",
       "<span style=\"color: #7fbfbf; text-decoration-color: #7fbfbf\">                    </span>         <span style=\"color: #0000ff; text-decoration-color: #0000ff; text-decoration: underline\">http://localhost:11434/api/generate</span> <span style=\"color: #008000; text-decoration-color: #008000\">\"HTTP/1.1 200 OK\"</span>                  <span style=\"color: #7f7f7f; text-decoration-color: #7f7f7f\">               </span>\n",
       "</pre>\n"
      ],
      "text/plain": [
       "\u001b[2;36m[07/12/24 18:07:29]\u001b[0m\u001b[2;36m \u001b[0m\u001b[34mINFO    \u001b[0m \u001b[1m[\u001b[0m_client.py:\u001b[1;36m1773\u001b[0m\u001b[1m]\u001b[0m >> HTTP Request: \u001b[1;33mPOST\u001b[0m                                \u001b]8;id=993316;file:///Users/anpigon/Library/Caches/pypoetry/virtualenvs/autorag-tutorial-ko-GYvpjDIx-py3.11/lib/python3.11/site-packages/httpx/_client.py\u001b\\\u001b[2m_client.py\u001b[0m\u001b]8;;\u001b\\\u001b[2m:\u001b[0m\u001b]8;id=339029;file:///Users/anpigon/Library/Caches/pypoetry/virtualenvs/autorag-tutorial-ko-GYvpjDIx-py3.11/lib/python3.11/site-packages/httpx/_client.py#1773\u001b\\\u001b[2m1773\u001b[0m\u001b]8;;\u001b\\\n",
       "\u001b[2;36m                    \u001b[0m         \u001b[4;94mhttp://localhost:11434/api/generate\u001b[0m \u001b[32m\"HTTP/1.1 200 OK\"\u001b[0m                  \u001b[2m               \u001b[0m\n"
      ]
     },
     "metadata": {},
     "output_type": "display_data"
    },
    {
     "data": {
      "text/html": [
       "<pre style=\"white-space:pre;overflow-x:auto;line-height:normal;font-family:Menlo,'DejaVu Sans Mono',consolas,'Courier New',monospace\"><span style=\"color: #7fbfbf; text-decoration-color: #7fbfbf\">[07/12/24 18:07:40] </span><span style=\"color: #000080; text-decoration-color: #000080\">INFO    </span> <span style=\"font-weight: bold\">[</span>_client.py:<span style=\"color: #008080; text-decoration-color: #008080; font-weight: bold\">1773</span><span style=\"font-weight: bold\">]</span> &gt;&gt; HTTP Request: <span style=\"color: #808000; text-decoration-color: #808000; font-weight: bold\">POST</span>                                <a href=\"file:///Users/anpigon/Library/Caches/pypoetry/virtualenvs/autorag-tutorial-ko-GYvpjDIx-py3.11/lib/python3.11/site-packages/httpx/_client.py\" target=\"_blank\"><span style=\"color: #7f7f7f; text-decoration-color: #7f7f7f\">_client.py</span></a><span style=\"color: #7f7f7f; text-decoration-color: #7f7f7f\">:</span><a href=\"file:///Users/anpigon/Library/Caches/pypoetry/virtualenvs/autorag-tutorial-ko-GYvpjDIx-py3.11/lib/python3.11/site-packages/httpx/_client.py#1773\" target=\"_blank\"><span style=\"color: #7f7f7f; text-decoration-color: #7f7f7f\">1773</span></a>\n",
       "<span style=\"color: #7fbfbf; text-decoration-color: #7fbfbf\">                    </span>         <span style=\"color: #0000ff; text-decoration-color: #0000ff; text-decoration: underline\">http://localhost:11434/api/generate</span> <span style=\"color: #008000; text-decoration-color: #008000\">\"HTTP/1.1 200 OK\"</span>                  <span style=\"color: #7f7f7f; text-decoration-color: #7f7f7f\">               </span>\n",
       "</pre>\n"
      ],
      "text/plain": [
       "\u001b[2;36m[07/12/24 18:07:40]\u001b[0m\u001b[2;36m \u001b[0m\u001b[34mINFO    \u001b[0m \u001b[1m[\u001b[0m_client.py:\u001b[1;36m1773\u001b[0m\u001b[1m]\u001b[0m >> HTTP Request: \u001b[1;33mPOST\u001b[0m                                \u001b]8;id=701103;file:///Users/anpigon/Library/Caches/pypoetry/virtualenvs/autorag-tutorial-ko-GYvpjDIx-py3.11/lib/python3.11/site-packages/httpx/_client.py\u001b\\\u001b[2m_client.py\u001b[0m\u001b]8;;\u001b\\\u001b[2m:\u001b[0m\u001b]8;id=998812;file:///Users/anpigon/Library/Caches/pypoetry/virtualenvs/autorag-tutorial-ko-GYvpjDIx-py3.11/lib/python3.11/site-packages/httpx/_client.py#1773\u001b\\\u001b[2m1773\u001b[0m\u001b]8;;\u001b\\\n",
       "\u001b[2;36m                    \u001b[0m         \u001b[4;94mhttp://localhost:11434/api/generate\u001b[0m \u001b[32m\"HTTP/1.1 200 OK\"\u001b[0m                  \u001b[2m               \u001b[0m\n"
      ]
     },
     "metadata": {},
     "output_type": "display_data"
    },
    {
     "data": {
      "text/html": [
       "<pre style=\"white-space:pre;overflow-x:auto;line-height:normal;font-family:Menlo,'DejaVu Sans Mono',consolas,'Courier New',monospace\"><span style=\"color: #7fbfbf; text-decoration-color: #7fbfbf\">[07/12/24 18:07:46] </span><span style=\"color: #000080; text-decoration-color: #000080\">INFO    </span> <span style=\"font-weight: bold\">[</span>_client.py:<span style=\"color: #008080; text-decoration-color: #008080; font-weight: bold\">1773</span><span style=\"font-weight: bold\">]</span> &gt;&gt; HTTP Request: <span style=\"color: #808000; text-decoration-color: #808000; font-weight: bold\">POST</span>                                <a href=\"file:///Users/anpigon/Library/Caches/pypoetry/virtualenvs/autorag-tutorial-ko-GYvpjDIx-py3.11/lib/python3.11/site-packages/httpx/_client.py\" target=\"_blank\"><span style=\"color: #7f7f7f; text-decoration-color: #7f7f7f\">_client.py</span></a><span style=\"color: #7f7f7f; text-decoration-color: #7f7f7f\">:</span><a href=\"file:///Users/anpigon/Library/Caches/pypoetry/virtualenvs/autorag-tutorial-ko-GYvpjDIx-py3.11/lib/python3.11/site-packages/httpx/_client.py#1773\" target=\"_blank\"><span style=\"color: #7f7f7f; text-decoration-color: #7f7f7f\">1773</span></a>\n",
       "<span style=\"color: #7fbfbf; text-decoration-color: #7fbfbf\">                    </span>         <span style=\"color: #0000ff; text-decoration-color: #0000ff; text-decoration: underline\">http://localhost:11434/api/generate</span> <span style=\"color: #008000; text-decoration-color: #008000\">\"HTTP/1.1 200 OK\"</span>                  <span style=\"color: #7f7f7f; text-decoration-color: #7f7f7f\">               </span>\n",
       "</pre>\n"
      ],
      "text/plain": [
       "\u001b[2;36m[07/12/24 18:07:46]\u001b[0m\u001b[2;36m \u001b[0m\u001b[34mINFO    \u001b[0m \u001b[1m[\u001b[0m_client.py:\u001b[1;36m1773\u001b[0m\u001b[1m]\u001b[0m >> HTTP Request: \u001b[1;33mPOST\u001b[0m                                \u001b]8;id=351577;file:///Users/anpigon/Library/Caches/pypoetry/virtualenvs/autorag-tutorial-ko-GYvpjDIx-py3.11/lib/python3.11/site-packages/httpx/_client.py\u001b\\\u001b[2m_client.py\u001b[0m\u001b]8;;\u001b\\\u001b[2m:\u001b[0m\u001b]8;id=243215;file:///Users/anpigon/Library/Caches/pypoetry/virtualenvs/autorag-tutorial-ko-GYvpjDIx-py3.11/lib/python3.11/site-packages/httpx/_client.py#1773\u001b\\\u001b[2m1773\u001b[0m\u001b]8;;\u001b\\\n",
       "\u001b[2;36m                    \u001b[0m         \u001b[4;94mhttp://localhost:11434/api/generate\u001b[0m \u001b[32m\"HTTP/1.1 200 OK\"\u001b[0m                  \u001b[2m               \u001b[0m\n"
      ]
     },
     "metadata": {},
     "output_type": "display_data"
    },
    {
     "data": {
      "text/html": [
       "<pre style=\"white-space:pre;overflow-x:auto;line-height:normal;font-family:Menlo,'DejaVu Sans Mono',consolas,'Courier New',monospace\"><span style=\"color: #7fbfbf; text-decoration-color: #7fbfbf\">[07/12/24 18:07:52] </span><span style=\"color: #000080; text-decoration-color: #000080\">INFO    </span> <span style=\"font-weight: bold\">[</span>_client.py:<span style=\"color: #008080; text-decoration-color: #008080; font-weight: bold\">1773</span><span style=\"font-weight: bold\">]</span> &gt;&gt; HTTP Request: <span style=\"color: #808000; text-decoration-color: #808000; font-weight: bold\">POST</span>                                <a href=\"file:///Users/anpigon/Library/Caches/pypoetry/virtualenvs/autorag-tutorial-ko-GYvpjDIx-py3.11/lib/python3.11/site-packages/httpx/_client.py\" target=\"_blank\"><span style=\"color: #7f7f7f; text-decoration-color: #7f7f7f\">_client.py</span></a><span style=\"color: #7f7f7f; text-decoration-color: #7f7f7f\">:</span><a href=\"file:///Users/anpigon/Library/Caches/pypoetry/virtualenvs/autorag-tutorial-ko-GYvpjDIx-py3.11/lib/python3.11/site-packages/httpx/_client.py#1773\" target=\"_blank\"><span style=\"color: #7f7f7f; text-decoration-color: #7f7f7f\">1773</span></a>\n",
       "<span style=\"color: #7fbfbf; text-decoration-color: #7fbfbf\">                    </span>         <span style=\"color: #0000ff; text-decoration-color: #0000ff; text-decoration: underline\">http://localhost:11434/api/generate</span> <span style=\"color: #008000; text-decoration-color: #008000\">\"HTTP/1.1 200 OK\"</span>                  <span style=\"color: #7f7f7f; text-decoration-color: #7f7f7f\">               </span>\n",
       "</pre>\n"
      ],
      "text/plain": [
       "\u001b[2;36m[07/12/24 18:07:52]\u001b[0m\u001b[2;36m \u001b[0m\u001b[34mINFO    \u001b[0m \u001b[1m[\u001b[0m_client.py:\u001b[1;36m1773\u001b[0m\u001b[1m]\u001b[0m >> HTTP Request: \u001b[1;33mPOST\u001b[0m                                \u001b]8;id=56096;file:///Users/anpigon/Library/Caches/pypoetry/virtualenvs/autorag-tutorial-ko-GYvpjDIx-py3.11/lib/python3.11/site-packages/httpx/_client.py\u001b\\\u001b[2m_client.py\u001b[0m\u001b]8;;\u001b\\\u001b[2m:\u001b[0m\u001b]8;id=190554;file:///Users/anpigon/Library/Caches/pypoetry/virtualenvs/autorag-tutorial-ko-GYvpjDIx-py3.11/lib/python3.11/site-packages/httpx/_client.py#1773\u001b\\\u001b[2m1773\u001b[0m\u001b]8;;\u001b\\\n",
       "\u001b[2;36m                    \u001b[0m         \u001b[4;94mhttp://localhost:11434/api/generate\u001b[0m \u001b[32m\"HTTP/1.1 200 OK\"\u001b[0m                  \u001b[2m               \u001b[0m\n"
      ]
     },
     "metadata": {},
     "output_type": "display_data"
    },
    {
     "data": {
      "text/html": [
       "<pre style=\"white-space:pre;overflow-x:auto;line-height:normal;font-family:Menlo,'DejaVu Sans Mono',consolas,'Courier New',monospace\"><span style=\"color: #7fbfbf; text-decoration-color: #7fbfbf\">[07/12/24 18:08:00] </span><span style=\"color: #000080; text-decoration-color: #000080\">INFO    </span> <span style=\"font-weight: bold\">[</span>_client.py:<span style=\"color: #008080; text-decoration-color: #008080; font-weight: bold\">1773</span><span style=\"font-weight: bold\">]</span> &gt;&gt; HTTP Request: <span style=\"color: #808000; text-decoration-color: #808000; font-weight: bold\">POST</span>                                <a href=\"file:///Users/anpigon/Library/Caches/pypoetry/virtualenvs/autorag-tutorial-ko-GYvpjDIx-py3.11/lib/python3.11/site-packages/httpx/_client.py\" target=\"_blank\"><span style=\"color: #7f7f7f; text-decoration-color: #7f7f7f\">_client.py</span></a><span style=\"color: #7f7f7f; text-decoration-color: #7f7f7f\">:</span><a href=\"file:///Users/anpigon/Library/Caches/pypoetry/virtualenvs/autorag-tutorial-ko-GYvpjDIx-py3.11/lib/python3.11/site-packages/httpx/_client.py#1773\" target=\"_blank\"><span style=\"color: #7f7f7f; text-decoration-color: #7f7f7f\">1773</span></a>\n",
       "<span style=\"color: #7fbfbf; text-decoration-color: #7fbfbf\">                    </span>         <span style=\"color: #0000ff; text-decoration-color: #0000ff; text-decoration: underline\">http://localhost:11434/api/generate</span> <span style=\"color: #008000; text-decoration-color: #008000\">\"HTTP/1.1 200 OK\"</span>                  <span style=\"color: #7f7f7f; text-decoration-color: #7f7f7f\">               </span>\n",
       "</pre>\n"
      ],
      "text/plain": [
       "\u001b[2;36m[07/12/24 18:08:00]\u001b[0m\u001b[2;36m \u001b[0m\u001b[34mINFO    \u001b[0m \u001b[1m[\u001b[0m_client.py:\u001b[1;36m1773\u001b[0m\u001b[1m]\u001b[0m >> HTTP Request: \u001b[1;33mPOST\u001b[0m                                \u001b]8;id=680405;file:///Users/anpigon/Library/Caches/pypoetry/virtualenvs/autorag-tutorial-ko-GYvpjDIx-py3.11/lib/python3.11/site-packages/httpx/_client.py\u001b\\\u001b[2m_client.py\u001b[0m\u001b]8;;\u001b\\\u001b[2m:\u001b[0m\u001b]8;id=137198;file:///Users/anpigon/Library/Caches/pypoetry/virtualenvs/autorag-tutorial-ko-GYvpjDIx-py3.11/lib/python3.11/site-packages/httpx/_client.py#1773\u001b\\\u001b[2m1773\u001b[0m\u001b]8;;\u001b\\\n",
       "\u001b[2;36m                    \u001b[0m         \u001b[4;94mhttp://localhost:11434/api/generate\u001b[0m \u001b[32m\"HTTP/1.1 200 OK\"\u001b[0m                  \u001b[2m               \u001b[0m\n"
      ]
     },
     "metadata": {},
     "output_type": "display_data"
    },
    {
     "data": {
      "text/html": [
       "<pre style=\"white-space:pre;overflow-x:auto;line-height:normal;font-family:Menlo,'DejaVu Sans Mono',consolas,'Courier New',monospace\"><span style=\"color: #7fbfbf; text-decoration-color: #7fbfbf\">[07/12/24 18:08:05] </span><span style=\"color: #000080; text-decoration-color: #000080\">INFO    </span> <span style=\"font-weight: bold\">[</span>_client.py:<span style=\"color: #008080; text-decoration-color: #008080; font-weight: bold\">1773</span><span style=\"font-weight: bold\">]</span> &gt;&gt; HTTP Request: <span style=\"color: #808000; text-decoration-color: #808000; font-weight: bold\">POST</span>                                <a href=\"file:///Users/anpigon/Library/Caches/pypoetry/virtualenvs/autorag-tutorial-ko-GYvpjDIx-py3.11/lib/python3.11/site-packages/httpx/_client.py\" target=\"_blank\"><span style=\"color: #7f7f7f; text-decoration-color: #7f7f7f\">_client.py</span></a><span style=\"color: #7f7f7f; text-decoration-color: #7f7f7f\">:</span><a href=\"file:///Users/anpigon/Library/Caches/pypoetry/virtualenvs/autorag-tutorial-ko-GYvpjDIx-py3.11/lib/python3.11/site-packages/httpx/_client.py#1773\" target=\"_blank\"><span style=\"color: #7f7f7f; text-decoration-color: #7f7f7f\">1773</span></a>\n",
       "<span style=\"color: #7fbfbf; text-decoration-color: #7fbfbf\">                    </span>         <span style=\"color: #0000ff; text-decoration-color: #0000ff; text-decoration: underline\">http://localhost:11434/api/generate</span> <span style=\"color: #008000; text-decoration-color: #008000\">\"HTTP/1.1 200 OK\"</span>                  <span style=\"color: #7f7f7f; text-decoration-color: #7f7f7f\">               </span>\n",
       "</pre>\n"
      ],
      "text/plain": [
       "\u001b[2;36m[07/12/24 18:08:05]\u001b[0m\u001b[2;36m \u001b[0m\u001b[34mINFO    \u001b[0m \u001b[1m[\u001b[0m_client.py:\u001b[1;36m1773\u001b[0m\u001b[1m]\u001b[0m >> HTTP Request: \u001b[1;33mPOST\u001b[0m                                \u001b]8;id=38994;file:///Users/anpigon/Library/Caches/pypoetry/virtualenvs/autorag-tutorial-ko-GYvpjDIx-py3.11/lib/python3.11/site-packages/httpx/_client.py\u001b\\\u001b[2m_client.py\u001b[0m\u001b]8;;\u001b\\\u001b[2m:\u001b[0m\u001b]8;id=846685;file:///Users/anpigon/Library/Caches/pypoetry/virtualenvs/autorag-tutorial-ko-GYvpjDIx-py3.11/lib/python3.11/site-packages/httpx/_client.py#1773\u001b\\\u001b[2m1773\u001b[0m\u001b]8;;\u001b\\\n",
       "\u001b[2;36m                    \u001b[0m         \u001b[4;94mhttp://localhost:11434/api/generate\u001b[0m \u001b[32m\"HTTP/1.1 200 OK\"\u001b[0m                  \u001b[2m               \u001b[0m\n"
      ]
     },
     "metadata": {},
     "output_type": "display_data"
    },
    {
     "data": {
      "text/html": [
       "<pre style=\"white-space:pre;overflow-x:auto;line-height:normal;font-family:Menlo,'DejaVu Sans Mono',consolas,'Courier New',monospace\"><span style=\"color: #7fbfbf; text-decoration-color: #7fbfbf\">[07/12/24 18:08:10] </span><span style=\"color: #000080; text-decoration-color: #000080\">INFO    </span> <span style=\"font-weight: bold\">[</span>_client.py:<span style=\"color: #008080; text-decoration-color: #008080; font-weight: bold\">1773</span><span style=\"font-weight: bold\">]</span> &gt;&gt; HTTP Request: <span style=\"color: #808000; text-decoration-color: #808000; font-weight: bold\">POST</span>                                <a href=\"file:///Users/anpigon/Library/Caches/pypoetry/virtualenvs/autorag-tutorial-ko-GYvpjDIx-py3.11/lib/python3.11/site-packages/httpx/_client.py\" target=\"_blank\"><span style=\"color: #7f7f7f; text-decoration-color: #7f7f7f\">_client.py</span></a><span style=\"color: #7f7f7f; text-decoration-color: #7f7f7f\">:</span><a href=\"file:///Users/anpigon/Library/Caches/pypoetry/virtualenvs/autorag-tutorial-ko-GYvpjDIx-py3.11/lib/python3.11/site-packages/httpx/_client.py#1773\" target=\"_blank\"><span style=\"color: #7f7f7f; text-decoration-color: #7f7f7f\">1773</span></a>\n",
       "<span style=\"color: #7fbfbf; text-decoration-color: #7fbfbf\">                    </span>         <span style=\"color: #0000ff; text-decoration-color: #0000ff; text-decoration: underline\">http://localhost:11434/api/generate</span> <span style=\"color: #008000; text-decoration-color: #008000\">\"HTTP/1.1 200 OK\"</span>                  <span style=\"color: #7f7f7f; text-decoration-color: #7f7f7f\">               </span>\n",
       "</pre>\n"
      ],
      "text/plain": [
       "\u001b[2;36m[07/12/24 18:08:10]\u001b[0m\u001b[2;36m \u001b[0m\u001b[34mINFO    \u001b[0m \u001b[1m[\u001b[0m_client.py:\u001b[1;36m1773\u001b[0m\u001b[1m]\u001b[0m >> HTTP Request: \u001b[1;33mPOST\u001b[0m                                \u001b]8;id=307895;file:///Users/anpigon/Library/Caches/pypoetry/virtualenvs/autorag-tutorial-ko-GYvpjDIx-py3.11/lib/python3.11/site-packages/httpx/_client.py\u001b\\\u001b[2m_client.py\u001b[0m\u001b]8;;\u001b\\\u001b[2m:\u001b[0m\u001b]8;id=93507;file:///Users/anpigon/Library/Caches/pypoetry/virtualenvs/autorag-tutorial-ko-GYvpjDIx-py3.11/lib/python3.11/site-packages/httpx/_client.py#1773\u001b\\\u001b[2m1773\u001b[0m\u001b]8;;\u001b\\\n",
       "\u001b[2;36m                    \u001b[0m         \u001b[4;94mhttp://localhost:11434/api/generate\u001b[0m \u001b[32m\"HTTP/1.1 200 OK\"\u001b[0m                  \u001b[2m               \u001b[0m\n"
      ]
     },
     "metadata": {},
     "output_type": "display_data"
    },
    {
     "data": {
      "text/html": [
       "<pre style=\"white-space:pre;overflow-x:auto;line-height:normal;font-family:Menlo,'DejaVu Sans Mono',consolas,'Courier New',monospace\"><span style=\"color: #7fbfbf; text-decoration-color: #7fbfbf\">[07/12/24 18:08:17] </span><span style=\"color: #000080; text-decoration-color: #000080\">INFO    </span> <span style=\"font-weight: bold\">[</span>_client.py:<span style=\"color: #008080; text-decoration-color: #008080; font-weight: bold\">1773</span><span style=\"font-weight: bold\">]</span> &gt;&gt; HTTP Request: <span style=\"color: #808000; text-decoration-color: #808000; font-weight: bold\">POST</span>                                <a href=\"file:///Users/anpigon/Library/Caches/pypoetry/virtualenvs/autorag-tutorial-ko-GYvpjDIx-py3.11/lib/python3.11/site-packages/httpx/_client.py\" target=\"_blank\"><span style=\"color: #7f7f7f; text-decoration-color: #7f7f7f\">_client.py</span></a><span style=\"color: #7f7f7f; text-decoration-color: #7f7f7f\">:</span><a href=\"file:///Users/anpigon/Library/Caches/pypoetry/virtualenvs/autorag-tutorial-ko-GYvpjDIx-py3.11/lib/python3.11/site-packages/httpx/_client.py#1773\" target=\"_blank\"><span style=\"color: #7f7f7f; text-decoration-color: #7f7f7f\">1773</span></a>\n",
       "<span style=\"color: #7fbfbf; text-decoration-color: #7fbfbf\">                    </span>         <span style=\"color: #0000ff; text-decoration-color: #0000ff; text-decoration: underline\">http://localhost:11434/api/generate</span> <span style=\"color: #008000; text-decoration-color: #008000\">\"HTTP/1.1 200 OK\"</span>                  <span style=\"color: #7f7f7f; text-decoration-color: #7f7f7f\">               </span>\n",
       "</pre>\n"
      ],
      "text/plain": [
       "\u001b[2;36m[07/12/24 18:08:17]\u001b[0m\u001b[2;36m \u001b[0m\u001b[34mINFO    \u001b[0m \u001b[1m[\u001b[0m_client.py:\u001b[1;36m1773\u001b[0m\u001b[1m]\u001b[0m >> HTTP Request: \u001b[1;33mPOST\u001b[0m                                \u001b]8;id=242063;file:///Users/anpigon/Library/Caches/pypoetry/virtualenvs/autorag-tutorial-ko-GYvpjDIx-py3.11/lib/python3.11/site-packages/httpx/_client.py\u001b\\\u001b[2m_client.py\u001b[0m\u001b]8;;\u001b\\\u001b[2m:\u001b[0m\u001b]8;id=336928;file:///Users/anpigon/Library/Caches/pypoetry/virtualenvs/autorag-tutorial-ko-GYvpjDIx-py3.11/lib/python3.11/site-packages/httpx/_client.py#1773\u001b\\\u001b[2m1773\u001b[0m\u001b]8;;\u001b\\\n",
       "\u001b[2;36m                    \u001b[0m         \u001b[4;94mhttp://localhost:11434/api/generate\u001b[0m \u001b[32m\"HTTP/1.1 200 OK\"\u001b[0m                  \u001b[2m               \u001b[0m\n"
      ]
     },
     "metadata": {},
     "output_type": "display_data"
    },
    {
     "data": {
      "text/html": [
       "<pre style=\"white-space:pre;overflow-x:auto;line-height:normal;font-family:Menlo,'DejaVu Sans Mono',consolas,'Courier New',monospace\"><span style=\"color: #7fbfbf; text-decoration-color: #7fbfbf\">[07/12/24 18:08:25] </span><span style=\"color: #000080; text-decoration-color: #000080\">INFO    </span> <span style=\"font-weight: bold\">[</span>_client.py:<span style=\"color: #008080; text-decoration-color: #008080; font-weight: bold\">1773</span><span style=\"font-weight: bold\">]</span> &gt;&gt; HTTP Request: <span style=\"color: #808000; text-decoration-color: #808000; font-weight: bold\">POST</span>                                <a href=\"file:///Users/anpigon/Library/Caches/pypoetry/virtualenvs/autorag-tutorial-ko-GYvpjDIx-py3.11/lib/python3.11/site-packages/httpx/_client.py\" target=\"_blank\"><span style=\"color: #7f7f7f; text-decoration-color: #7f7f7f\">_client.py</span></a><span style=\"color: #7f7f7f; text-decoration-color: #7f7f7f\">:</span><a href=\"file:///Users/anpigon/Library/Caches/pypoetry/virtualenvs/autorag-tutorial-ko-GYvpjDIx-py3.11/lib/python3.11/site-packages/httpx/_client.py#1773\" target=\"_blank\"><span style=\"color: #7f7f7f; text-decoration-color: #7f7f7f\">1773</span></a>\n",
       "<span style=\"color: #7fbfbf; text-decoration-color: #7fbfbf\">                    </span>         <span style=\"color: #0000ff; text-decoration-color: #0000ff; text-decoration: underline\">http://localhost:11434/api/generate</span> <span style=\"color: #008000; text-decoration-color: #008000\">\"HTTP/1.1 200 OK\"</span>                  <span style=\"color: #7f7f7f; text-decoration-color: #7f7f7f\">               </span>\n",
       "</pre>\n"
      ],
      "text/plain": [
       "\u001b[2;36m[07/12/24 18:08:25]\u001b[0m\u001b[2;36m \u001b[0m\u001b[34mINFO    \u001b[0m \u001b[1m[\u001b[0m_client.py:\u001b[1;36m1773\u001b[0m\u001b[1m]\u001b[0m >> HTTP Request: \u001b[1;33mPOST\u001b[0m                                \u001b]8;id=609775;file:///Users/anpigon/Library/Caches/pypoetry/virtualenvs/autorag-tutorial-ko-GYvpjDIx-py3.11/lib/python3.11/site-packages/httpx/_client.py\u001b\\\u001b[2m_client.py\u001b[0m\u001b]8;;\u001b\\\u001b[2m:\u001b[0m\u001b]8;id=505742;file:///Users/anpigon/Library/Caches/pypoetry/virtualenvs/autorag-tutorial-ko-GYvpjDIx-py3.11/lib/python3.11/site-packages/httpx/_client.py#1773\u001b\\\u001b[2m1773\u001b[0m\u001b]8;;\u001b\\\n",
       "\u001b[2;36m                    \u001b[0m         \u001b[4;94mhttp://localhost:11434/api/generate\u001b[0m \u001b[32m\"HTTP/1.1 200 OK\"\u001b[0m                  \u001b[2m               \u001b[0m\n"
      ]
     },
     "metadata": {},
     "output_type": "display_data"
    },
    {
     "data": {
      "text/html": [
       "<pre style=\"white-space:pre;overflow-x:auto;line-height:normal;font-family:Menlo,'DejaVu Sans Mono',consolas,'Courier New',monospace\"><span style=\"color: #7fbfbf; text-decoration-color: #7fbfbf\">[07/12/24 18:08:43] </span><span style=\"color: #000080; text-decoration-color: #000080\">INFO    </span> <span style=\"font-weight: bold\">[</span>_client.py:<span style=\"color: #008080; text-decoration-color: #008080; font-weight: bold\">1773</span><span style=\"font-weight: bold\">]</span> &gt;&gt; HTTP Request: <span style=\"color: #808000; text-decoration-color: #808000; font-weight: bold\">POST</span>                                <a href=\"file:///Users/anpigon/Library/Caches/pypoetry/virtualenvs/autorag-tutorial-ko-GYvpjDIx-py3.11/lib/python3.11/site-packages/httpx/_client.py\" target=\"_blank\"><span style=\"color: #7f7f7f; text-decoration-color: #7f7f7f\">_client.py</span></a><span style=\"color: #7f7f7f; text-decoration-color: #7f7f7f\">:</span><a href=\"file:///Users/anpigon/Library/Caches/pypoetry/virtualenvs/autorag-tutorial-ko-GYvpjDIx-py3.11/lib/python3.11/site-packages/httpx/_client.py#1773\" target=\"_blank\"><span style=\"color: #7f7f7f; text-decoration-color: #7f7f7f\">1773</span></a>\n",
       "<span style=\"color: #7fbfbf; text-decoration-color: #7fbfbf\">                    </span>         <span style=\"color: #0000ff; text-decoration-color: #0000ff; text-decoration: underline\">http://localhost:11434/api/generate</span> <span style=\"color: #008000; text-decoration-color: #008000\">\"HTTP/1.1 200 OK\"</span>                  <span style=\"color: #7f7f7f; text-decoration-color: #7f7f7f\">               </span>\n",
       "</pre>\n"
      ],
      "text/plain": [
       "\u001b[2;36m[07/12/24 18:08:43]\u001b[0m\u001b[2;36m \u001b[0m\u001b[34mINFO    \u001b[0m \u001b[1m[\u001b[0m_client.py:\u001b[1;36m1773\u001b[0m\u001b[1m]\u001b[0m >> HTTP Request: \u001b[1;33mPOST\u001b[0m                                \u001b]8;id=261868;file:///Users/anpigon/Library/Caches/pypoetry/virtualenvs/autorag-tutorial-ko-GYvpjDIx-py3.11/lib/python3.11/site-packages/httpx/_client.py\u001b\\\u001b[2m_client.py\u001b[0m\u001b]8;;\u001b\\\u001b[2m:\u001b[0m\u001b]8;id=123439;file:///Users/anpigon/Library/Caches/pypoetry/virtualenvs/autorag-tutorial-ko-GYvpjDIx-py3.11/lib/python3.11/site-packages/httpx/_client.py#1773\u001b\\\u001b[2m1773\u001b[0m\u001b]8;;\u001b\\\n",
       "\u001b[2;36m                    \u001b[0m         \u001b[4;94mhttp://localhost:11434/api/generate\u001b[0m \u001b[32m\"HTTP/1.1 200 OK\"\u001b[0m                  \u001b[2m               \u001b[0m\n"
      ]
     },
     "metadata": {},
     "output_type": "display_data"
    },
    {
     "data": {
      "text/html": [
       "<pre style=\"white-space:pre;overflow-x:auto;line-height:normal;font-family:Menlo,'DejaVu Sans Mono',consolas,'Courier New',monospace\"><span style=\"color: #7fbfbf; text-decoration-color: #7fbfbf\">[07/12/24 18:08:48] </span><span style=\"color: #000080; text-decoration-color: #000080\">INFO    </span> <span style=\"font-weight: bold\">[</span>_client.py:<span style=\"color: #008080; text-decoration-color: #008080; font-weight: bold\">1773</span><span style=\"font-weight: bold\">]</span> &gt;&gt; HTTP Request: <span style=\"color: #808000; text-decoration-color: #808000; font-weight: bold\">POST</span>                                <a href=\"file:///Users/anpigon/Library/Caches/pypoetry/virtualenvs/autorag-tutorial-ko-GYvpjDIx-py3.11/lib/python3.11/site-packages/httpx/_client.py\" target=\"_blank\"><span style=\"color: #7f7f7f; text-decoration-color: #7f7f7f\">_client.py</span></a><span style=\"color: #7f7f7f; text-decoration-color: #7f7f7f\">:</span><a href=\"file:///Users/anpigon/Library/Caches/pypoetry/virtualenvs/autorag-tutorial-ko-GYvpjDIx-py3.11/lib/python3.11/site-packages/httpx/_client.py#1773\" target=\"_blank\"><span style=\"color: #7f7f7f; text-decoration-color: #7f7f7f\">1773</span></a>\n",
       "<span style=\"color: #7fbfbf; text-decoration-color: #7fbfbf\">                    </span>         <span style=\"color: #0000ff; text-decoration-color: #0000ff; text-decoration: underline\">http://localhost:11434/api/generate</span> <span style=\"color: #008000; text-decoration-color: #008000\">\"HTTP/1.1 200 OK\"</span>                  <span style=\"color: #7f7f7f; text-decoration-color: #7f7f7f\">               </span>\n",
       "</pre>\n"
      ],
      "text/plain": [
       "\u001b[2;36m[07/12/24 18:08:48]\u001b[0m\u001b[2;36m \u001b[0m\u001b[34mINFO    \u001b[0m \u001b[1m[\u001b[0m_client.py:\u001b[1;36m1773\u001b[0m\u001b[1m]\u001b[0m >> HTTP Request: \u001b[1;33mPOST\u001b[0m                                \u001b]8;id=518741;file:///Users/anpigon/Library/Caches/pypoetry/virtualenvs/autorag-tutorial-ko-GYvpjDIx-py3.11/lib/python3.11/site-packages/httpx/_client.py\u001b\\\u001b[2m_client.py\u001b[0m\u001b]8;;\u001b\\\u001b[2m:\u001b[0m\u001b]8;id=31771;file:///Users/anpigon/Library/Caches/pypoetry/virtualenvs/autorag-tutorial-ko-GYvpjDIx-py3.11/lib/python3.11/site-packages/httpx/_client.py#1773\u001b\\\u001b[2m1773\u001b[0m\u001b]8;;\u001b\\\n",
       "\u001b[2;36m                    \u001b[0m         \u001b[4;94mhttp://localhost:11434/api/generate\u001b[0m \u001b[32m\"HTTP/1.1 200 OK\"\u001b[0m                  \u001b[2m               \u001b[0m\n"
      ]
     },
     "metadata": {},
     "output_type": "display_data"
    },
    {
     "data": {
      "text/html": [
       "<pre style=\"white-space:pre;overflow-x:auto;line-height:normal;font-family:Menlo,'DejaVu Sans Mono',consolas,'Courier New',monospace\"><span style=\"color: #7fbfbf; text-decoration-color: #7fbfbf\">[07/12/24 18:09:05] </span><span style=\"color: #000080; text-decoration-color: #000080\">INFO    </span> <span style=\"font-weight: bold\">[</span>_client.py:<span style=\"color: #008080; text-decoration-color: #008080; font-weight: bold\">1773</span><span style=\"font-weight: bold\">]</span> &gt;&gt; HTTP Request: <span style=\"color: #808000; text-decoration-color: #808000; font-weight: bold\">POST</span>                                <a href=\"file:///Users/anpigon/Library/Caches/pypoetry/virtualenvs/autorag-tutorial-ko-GYvpjDIx-py3.11/lib/python3.11/site-packages/httpx/_client.py\" target=\"_blank\"><span style=\"color: #7f7f7f; text-decoration-color: #7f7f7f\">_client.py</span></a><span style=\"color: #7f7f7f; text-decoration-color: #7f7f7f\">:</span><a href=\"file:///Users/anpigon/Library/Caches/pypoetry/virtualenvs/autorag-tutorial-ko-GYvpjDIx-py3.11/lib/python3.11/site-packages/httpx/_client.py#1773\" target=\"_blank\"><span style=\"color: #7f7f7f; text-decoration-color: #7f7f7f\">1773</span></a>\n",
       "<span style=\"color: #7fbfbf; text-decoration-color: #7fbfbf\">                    </span>         <span style=\"color: #0000ff; text-decoration-color: #0000ff; text-decoration: underline\">http://localhost:11434/api/generate</span> <span style=\"color: #008000; text-decoration-color: #008000\">\"HTTP/1.1 200 OK\"</span>                  <span style=\"color: #7f7f7f; text-decoration-color: #7f7f7f\">               </span>\n",
       "</pre>\n"
      ],
      "text/plain": [
       "\u001b[2;36m[07/12/24 18:09:05]\u001b[0m\u001b[2;36m \u001b[0m\u001b[34mINFO    \u001b[0m \u001b[1m[\u001b[0m_client.py:\u001b[1;36m1773\u001b[0m\u001b[1m]\u001b[0m >> HTTP Request: \u001b[1;33mPOST\u001b[0m                                \u001b]8;id=767900;file:///Users/anpigon/Library/Caches/pypoetry/virtualenvs/autorag-tutorial-ko-GYvpjDIx-py3.11/lib/python3.11/site-packages/httpx/_client.py\u001b\\\u001b[2m_client.py\u001b[0m\u001b]8;;\u001b\\\u001b[2m:\u001b[0m\u001b]8;id=270203;file:///Users/anpigon/Library/Caches/pypoetry/virtualenvs/autorag-tutorial-ko-GYvpjDIx-py3.11/lib/python3.11/site-packages/httpx/_client.py#1773\u001b\\\u001b[2m1773\u001b[0m\u001b]8;;\u001b\\\n",
       "\u001b[2;36m                    \u001b[0m         \u001b[4;94mhttp://localhost:11434/api/generate\u001b[0m \u001b[32m\"HTTP/1.1 200 OK\"\u001b[0m                  \u001b[2m               \u001b[0m\n"
      ]
     },
     "metadata": {},
     "output_type": "display_data"
    },
    {
     "data": {
      "text/html": [
       "<pre style=\"white-space:pre;overflow-x:auto;line-height:normal;font-family:Menlo,'DejaVu Sans Mono',consolas,'Courier New',monospace\"><span style=\"color: #7fbfbf; text-decoration-color: #7fbfbf\">[07/12/24 18:09:11] </span><span style=\"color: #000080; text-decoration-color: #000080\">INFO    </span> <span style=\"font-weight: bold\">[</span>_client.py:<span style=\"color: #008080; text-decoration-color: #008080; font-weight: bold\">1773</span><span style=\"font-weight: bold\">]</span> &gt;&gt; HTTP Request: <span style=\"color: #808000; text-decoration-color: #808000; font-weight: bold\">POST</span>                                <a href=\"file:///Users/anpigon/Library/Caches/pypoetry/virtualenvs/autorag-tutorial-ko-GYvpjDIx-py3.11/lib/python3.11/site-packages/httpx/_client.py\" target=\"_blank\"><span style=\"color: #7f7f7f; text-decoration-color: #7f7f7f\">_client.py</span></a><span style=\"color: #7f7f7f; text-decoration-color: #7f7f7f\">:</span><a href=\"file:///Users/anpigon/Library/Caches/pypoetry/virtualenvs/autorag-tutorial-ko-GYvpjDIx-py3.11/lib/python3.11/site-packages/httpx/_client.py#1773\" target=\"_blank\"><span style=\"color: #7f7f7f; text-decoration-color: #7f7f7f\">1773</span></a>\n",
       "<span style=\"color: #7fbfbf; text-decoration-color: #7fbfbf\">                    </span>         <span style=\"color: #0000ff; text-decoration-color: #0000ff; text-decoration: underline\">http://localhost:11434/api/generate</span> <span style=\"color: #008000; text-decoration-color: #008000\">\"HTTP/1.1 200 OK\"</span>                  <span style=\"color: #7f7f7f; text-decoration-color: #7f7f7f\">               </span>\n",
       "</pre>\n"
      ],
      "text/plain": [
       "\u001b[2;36m[07/12/24 18:09:11]\u001b[0m\u001b[2;36m \u001b[0m\u001b[34mINFO    \u001b[0m \u001b[1m[\u001b[0m_client.py:\u001b[1;36m1773\u001b[0m\u001b[1m]\u001b[0m >> HTTP Request: \u001b[1;33mPOST\u001b[0m                                \u001b]8;id=159724;file:///Users/anpigon/Library/Caches/pypoetry/virtualenvs/autorag-tutorial-ko-GYvpjDIx-py3.11/lib/python3.11/site-packages/httpx/_client.py\u001b\\\u001b[2m_client.py\u001b[0m\u001b]8;;\u001b\\\u001b[2m:\u001b[0m\u001b]8;id=655819;file:///Users/anpigon/Library/Caches/pypoetry/virtualenvs/autorag-tutorial-ko-GYvpjDIx-py3.11/lib/python3.11/site-packages/httpx/_client.py#1773\u001b\\\u001b[2m1773\u001b[0m\u001b]8;;\u001b\\\n",
       "\u001b[2;36m                    \u001b[0m         \u001b[4;94mhttp://localhost:11434/api/generate\u001b[0m \u001b[32m\"HTTP/1.1 200 OK\"\u001b[0m                  \u001b[2m               \u001b[0m\n"
      ]
     },
     "metadata": {},
     "output_type": "display_data"
    },
    {
     "data": {
      "text/html": [
       "<pre style=\"white-space:pre;overflow-x:auto;line-height:normal;font-family:Menlo,'DejaVu Sans Mono',consolas,'Courier New',monospace\"><span style=\"color: #7fbfbf; text-decoration-color: #7fbfbf\">[07/12/24 18:09:38] </span><span style=\"color: #000080; text-decoration-color: #000080\">INFO    </span> <span style=\"font-weight: bold\">[</span>_client.py:<span style=\"color: #008080; text-decoration-color: #008080; font-weight: bold\">1773</span><span style=\"font-weight: bold\">]</span> &gt;&gt; HTTP Request: <span style=\"color: #808000; text-decoration-color: #808000; font-weight: bold\">POST</span>                                <a href=\"file:///Users/anpigon/Library/Caches/pypoetry/virtualenvs/autorag-tutorial-ko-GYvpjDIx-py3.11/lib/python3.11/site-packages/httpx/_client.py\" target=\"_blank\"><span style=\"color: #7f7f7f; text-decoration-color: #7f7f7f\">_client.py</span></a><span style=\"color: #7f7f7f; text-decoration-color: #7f7f7f\">:</span><a href=\"file:///Users/anpigon/Library/Caches/pypoetry/virtualenvs/autorag-tutorial-ko-GYvpjDIx-py3.11/lib/python3.11/site-packages/httpx/_client.py#1773\" target=\"_blank\"><span style=\"color: #7f7f7f; text-decoration-color: #7f7f7f\">1773</span></a>\n",
       "<span style=\"color: #7fbfbf; text-decoration-color: #7fbfbf\">                    </span>         <span style=\"color: #0000ff; text-decoration-color: #0000ff; text-decoration: underline\">http://localhost:11434/api/generate</span> <span style=\"color: #008000; text-decoration-color: #008000\">\"HTTP/1.1 200 OK\"</span>                  <span style=\"color: #7f7f7f; text-decoration-color: #7f7f7f\">               </span>\n",
       "</pre>\n"
      ],
      "text/plain": [
       "\u001b[2;36m[07/12/24 18:09:38]\u001b[0m\u001b[2;36m \u001b[0m\u001b[34mINFO    \u001b[0m \u001b[1m[\u001b[0m_client.py:\u001b[1;36m1773\u001b[0m\u001b[1m]\u001b[0m >> HTTP Request: \u001b[1;33mPOST\u001b[0m                                \u001b]8;id=792203;file:///Users/anpigon/Library/Caches/pypoetry/virtualenvs/autorag-tutorial-ko-GYvpjDIx-py3.11/lib/python3.11/site-packages/httpx/_client.py\u001b\\\u001b[2m_client.py\u001b[0m\u001b]8;;\u001b\\\u001b[2m:\u001b[0m\u001b]8;id=997553;file:///Users/anpigon/Library/Caches/pypoetry/virtualenvs/autorag-tutorial-ko-GYvpjDIx-py3.11/lib/python3.11/site-packages/httpx/_client.py#1773\u001b\\\u001b[2m1773\u001b[0m\u001b]8;;\u001b\\\n",
       "\u001b[2;36m                    \u001b[0m         \u001b[4;94mhttp://localhost:11434/api/generate\u001b[0m \u001b[32m\"HTTP/1.1 200 OK\"\u001b[0m                  \u001b[2m               \u001b[0m\n"
      ]
     },
     "metadata": {},
     "output_type": "display_data"
    },
    {
     "data": {
      "text/html": [
       "<pre style=\"white-space:pre;overflow-x:auto;line-height:normal;font-family:Menlo,'DejaVu Sans Mono',consolas,'Courier New',monospace\"><span style=\"color: #7fbfbf; text-decoration-color: #7fbfbf\">[07/12/24 18:09:44] </span><span style=\"color: #000080; text-decoration-color: #000080\">INFO    </span> <span style=\"font-weight: bold\">[</span>_client.py:<span style=\"color: #008080; text-decoration-color: #008080; font-weight: bold\">1773</span><span style=\"font-weight: bold\">]</span> &gt;&gt; HTTP Request: <span style=\"color: #808000; text-decoration-color: #808000; font-weight: bold\">POST</span>                                <a href=\"file:///Users/anpigon/Library/Caches/pypoetry/virtualenvs/autorag-tutorial-ko-GYvpjDIx-py3.11/lib/python3.11/site-packages/httpx/_client.py\" target=\"_blank\"><span style=\"color: #7f7f7f; text-decoration-color: #7f7f7f\">_client.py</span></a><span style=\"color: #7f7f7f; text-decoration-color: #7f7f7f\">:</span><a href=\"file:///Users/anpigon/Library/Caches/pypoetry/virtualenvs/autorag-tutorial-ko-GYvpjDIx-py3.11/lib/python3.11/site-packages/httpx/_client.py#1773\" target=\"_blank\"><span style=\"color: #7f7f7f; text-decoration-color: #7f7f7f\">1773</span></a>\n",
       "<span style=\"color: #7fbfbf; text-decoration-color: #7fbfbf\">                    </span>         <span style=\"color: #0000ff; text-decoration-color: #0000ff; text-decoration: underline\">http://localhost:11434/api/generate</span> <span style=\"color: #008000; text-decoration-color: #008000\">\"HTTP/1.1 200 OK\"</span>                  <span style=\"color: #7f7f7f; text-decoration-color: #7f7f7f\">               </span>\n",
       "</pre>\n"
      ],
      "text/plain": [
       "\u001b[2;36m[07/12/24 18:09:44]\u001b[0m\u001b[2;36m \u001b[0m\u001b[34mINFO    \u001b[0m \u001b[1m[\u001b[0m_client.py:\u001b[1;36m1773\u001b[0m\u001b[1m]\u001b[0m >> HTTP Request: \u001b[1;33mPOST\u001b[0m                                \u001b]8;id=67026;file:///Users/anpigon/Library/Caches/pypoetry/virtualenvs/autorag-tutorial-ko-GYvpjDIx-py3.11/lib/python3.11/site-packages/httpx/_client.py\u001b\\\u001b[2m_client.py\u001b[0m\u001b]8;;\u001b\\\u001b[2m:\u001b[0m\u001b]8;id=531482;file:///Users/anpigon/Library/Caches/pypoetry/virtualenvs/autorag-tutorial-ko-GYvpjDIx-py3.11/lib/python3.11/site-packages/httpx/_client.py#1773\u001b\\\u001b[2m1773\u001b[0m\u001b]8;;\u001b\\\n",
       "\u001b[2;36m                    \u001b[0m         \u001b[4;94mhttp://localhost:11434/api/generate\u001b[0m \u001b[32m\"HTTP/1.1 200 OK\"\u001b[0m                  \u001b[2m               \u001b[0m\n"
      ]
     },
     "metadata": {},
     "output_type": "display_data"
    },
    {
     "data": {
      "text/html": [
       "<pre style=\"white-space:pre;overflow-x:auto;line-height:normal;font-family:Menlo,'DejaVu Sans Mono',consolas,'Courier New',monospace\"><span style=\"color: #7fbfbf; text-decoration-color: #7fbfbf\">[07/12/24 18:09:49] </span><span style=\"color: #000080; text-decoration-color: #000080\">INFO    </span> <span style=\"font-weight: bold\">[</span>_client.py:<span style=\"color: #008080; text-decoration-color: #008080; font-weight: bold\">1773</span><span style=\"font-weight: bold\">]</span> &gt;&gt; HTTP Request: <span style=\"color: #808000; text-decoration-color: #808000; font-weight: bold\">POST</span>                                <a href=\"file:///Users/anpigon/Library/Caches/pypoetry/virtualenvs/autorag-tutorial-ko-GYvpjDIx-py3.11/lib/python3.11/site-packages/httpx/_client.py\" target=\"_blank\"><span style=\"color: #7f7f7f; text-decoration-color: #7f7f7f\">_client.py</span></a><span style=\"color: #7f7f7f; text-decoration-color: #7f7f7f\">:</span><a href=\"file:///Users/anpigon/Library/Caches/pypoetry/virtualenvs/autorag-tutorial-ko-GYvpjDIx-py3.11/lib/python3.11/site-packages/httpx/_client.py#1773\" target=\"_blank\"><span style=\"color: #7f7f7f; text-decoration-color: #7f7f7f\">1773</span></a>\n",
       "<span style=\"color: #7fbfbf; text-decoration-color: #7fbfbf\">                    </span>         <span style=\"color: #0000ff; text-decoration-color: #0000ff; text-decoration: underline\">http://localhost:11434/api/generate</span> <span style=\"color: #008000; text-decoration-color: #008000\">\"HTTP/1.1 200 OK\"</span>                  <span style=\"color: #7f7f7f; text-decoration-color: #7f7f7f\">               </span>\n",
       "</pre>\n"
      ],
      "text/plain": [
       "\u001b[2;36m[07/12/24 18:09:49]\u001b[0m\u001b[2;36m \u001b[0m\u001b[34mINFO    \u001b[0m \u001b[1m[\u001b[0m_client.py:\u001b[1;36m1773\u001b[0m\u001b[1m]\u001b[0m >> HTTP Request: \u001b[1;33mPOST\u001b[0m                                \u001b]8;id=741059;file:///Users/anpigon/Library/Caches/pypoetry/virtualenvs/autorag-tutorial-ko-GYvpjDIx-py3.11/lib/python3.11/site-packages/httpx/_client.py\u001b\\\u001b[2m_client.py\u001b[0m\u001b]8;;\u001b\\\u001b[2m:\u001b[0m\u001b]8;id=413397;file:///Users/anpigon/Library/Caches/pypoetry/virtualenvs/autorag-tutorial-ko-GYvpjDIx-py3.11/lib/python3.11/site-packages/httpx/_client.py#1773\u001b\\\u001b[2m1773\u001b[0m\u001b]8;;\u001b\\\n",
       "\u001b[2;36m                    \u001b[0m         \u001b[4;94mhttp://localhost:11434/api/generate\u001b[0m \u001b[32m\"HTTP/1.1 200 OK\"\u001b[0m                  \u001b[2m               \u001b[0m\n"
      ]
     },
     "metadata": {},
     "output_type": "display_data"
    },
    {
     "data": {
      "text/html": [
       "<pre style=\"white-space:pre;overflow-x:auto;line-height:normal;font-family:Menlo,'DejaVu Sans Mono',consolas,'Courier New',monospace\"><span style=\"color: #7fbfbf; text-decoration-color: #7fbfbf\">                    </span><span style=\"color: #000080; text-decoration-color: #000080\">INFO    </span> <span style=\"font-weight: bold\">[</span>base.py:<span style=\"color: #008080; text-decoration-color: #008080; font-weight: bold\">34</span><span style=\"font-weight: bold\">]</span> &gt;&gt; Running generator node - llama_index_llm module<span style=\"color: #808000; text-decoration-color: #808000\">...</span>          <a href=\"file:///Users/anpigon/Library/Caches/pypoetry/virtualenvs/autorag-tutorial-ko-GYvpjDIx-py3.11/lib/python3.11/site-packages/autorag/nodes/generator/base.py\" target=\"_blank\"><span style=\"color: #7f7f7f; text-decoration-color: #7f7f7f\">base.py</span></a><span style=\"color: #7f7f7f; text-decoration-color: #7f7f7f\">:</span><a href=\"file:///Users/anpigon/Library/Caches/pypoetry/virtualenvs/autorag-tutorial-ko-GYvpjDIx-py3.11/lib/python3.11/site-packages/autorag/nodes/generator/base.py#34\" target=\"_blank\"><span style=\"color: #7f7f7f; text-decoration-color: #7f7f7f\">34</span></a>\n",
       "</pre>\n"
      ],
      "text/plain": [
       "\u001b[2;36m                   \u001b[0m\u001b[2;36m \u001b[0m\u001b[34mINFO    \u001b[0m \u001b[1m[\u001b[0mbase.py:\u001b[1;36m34\u001b[0m\u001b[1m]\u001b[0m >> Running generator node - llama_index_llm module\u001b[33m...\u001b[0m          \u001b]8;id=253792;file:///Users/anpigon/Library/Caches/pypoetry/virtualenvs/autorag-tutorial-ko-GYvpjDIx-py3.11/lib/python3.11/site-packages/autorag/nodes/generator/base.py\u001b\\\u001b[2mbase.py\u001b[0m\u001b]8;;\u001b\\\u001b[2m:\u001b[0m\u001b]8;id=366754;file:///Users/anpigon/Library/Caches/pypoetry/virtualenvs/autorag-tutorial-ko-GYvpjDIx-py3.11/lib/python3.11/site-packages/autorag/nodes/generator/base.py#34\u001b\\\u001b[2m34\u001b[0m\u001b]8;;\u001b\\\n"
      ]
     },
     "metadata": {},
     "output_type": "display_data"
    },
    {
     "data": {
      "text/html": [
       "<pre style=\"white-space:pre;overflow-x:auto;line-height:normal;font-family:Menlo,'DejaVu Sans Mono',consolas,'Courier New',monospace\"><span style=\"color: #7fbfbf; text-decoration-color: #7fbfbf\">[07/12/24 18:10:08] </span><span style=\"color: #000080; text-decoration-color: #000080\">INFO    </span> <span style=\"font-weight: bold\">[</span>_client.py:<span style=\"color: #008080; text-decoration-color: #008080; font-weight: bold\">1773</span><span style=\"font-weight: bold\">]</span> &gt;&gt; HTTP Request: <span style=\"color: #808000; text-decoration-color: #808000; font-weight: bold\">POST</span>                                <a href=\"file:///Users/anpigon/Library/Caches/pypoetry/virtualenvs/autorag-tutorial-ko-GYvpjDIx-py3.11/lib/python3.11/site-packages/httpx/_client.py\" target=\"_blank\"><span style=\"color: #7f7f7f; text-decoration-color: #7f7f7f\">_client.py</span></a><span style=\"color: #7f7f7f; text-decoration-color: #7f7f7f\">:</span><a href=\"file:///Users/anpigon/Library/Caches/pypoetry/virtualenvs/autorag-tutorial-ko-GYvpjDIx-py3.11/lib/python3.11/site-packages/httpx/_client.py#1773\" target=\"_blank\"><span style=\"color: #7f7f7f; text-decoration-color: #7f7f7f\">1773</span></a>\n",
       "<span style=\"color: #7fbfbf; text-decoration-color: #7fbfbf\">                    </span>         <span style=\"color: #0000ff; text-decoration-color: #0000ff; text-decoration: underline\">http://localhost:11434/api/generate</span> <span style=\"color: #008000; text-decoration-color: #008000\">\"HTTP/1.1 200 OK\"</span>                  <span style=\"color: #7f7f7f; text-decoration-color: #7f7f7f\">               </span>\n",
       "</pre>\n"
      ],
      "text/plain": [
       "\u001b[2;36m[07/12/24 18:10:08]\u001b[0m\u001b[2;36m \u001b[0m\u001b[34mINFO    \u001b[0m \u001b[1m[\u001b[0m_client.py:\u001b[1;36m1773\u001b[0m\u001b[1m]\u001b[0m >> HTTP Request: \u001b[1;33mPOST\u001b[0m                                \u001b]8;id=715543;file:///Users/anpigon/Library/Caches/pypoetry/virtualenvs/autorag-tutorial-ko-GYvpjDIx-py3.11/lib/python3.11/site-packages/httpx/_client.py\u001b\\\u001b[2m_client.py\u001b[0m\u001b]8;;\u001b\\\u001b[2m:\u001b[0m\u001b]8;id=949572;file:///Users/anpigon/Library/Caches/pypoetry/virtualenvs/autorag-tutorial-ko-GYvpjDIx-py3.11/lib/python3.11/site-packages/httpx/_client.py#1773\u001b\\\u001b[2m1773\u001b[0m\u001b]8;;\u001b\\\n",
       "\u001b[2;36m                    \u001b[0m         \u001b[4;94mhttp://localhost:11434/api/generate\u001b[0m \u001b[32m\"HTTP/1.1 200 OK\"\u001b[0m                  \u001b[2m               \u001b[0m\n"
      ]
     },
     "metadata": {},
     "output_type": "display_data"
    },
    {
     "data": {
      "text/html": [
       "<pre style=\"white-space:pre;overflow-x:auto;line-height:normal;font-family:Menlo,'DejaVu Sans Mono',consolas,'Courier New',monospace\"><span style=\"color: #7fbfbf; text-decoration-color: #7fbfbf\">[07/12/24 18:10:16] </span><span style=\"color: #000080; text-decoration-color: #000080\">INFO    </span> <span style=\"font-weight: bold\">[</span>_client.py:<span style=\"color: #008080; text-decoration-color: #008080; font-weight: bold\">1773</span><span style=\"font-weight: bold\">]</span> &gt;&gt; HTTP Request: <span style=\"color: #808000; text-decoration-color: #808000; font-weight: bold\">POST</span>                                <a href=\"file:///Users/anpigon/Library/Caches/pypoetry/virtualenvs/autorag-tutorial-ko-GYvpjDIx-py3.11/lib/python3.11/site-packages/httpx/_client.py\" target=\"_blank\"><span style=\"color: #7f7f7f; text-decoration-color: #7f7f7f\">_client.py</span></a><span style=\"color: #7f7f7f; text-decoration-color: #7f7f7f\">:</span><a href=\"file:///Users/anpigon/Library/Caches/pypoetry/virtualenvs/autorag-tutorial-ko-GYvpjDIx-py3.11/lib/python3.11/site-packages/httpx/_client.py#1773\" target=\"_blank\"><span style=\"color: #7f7f7f; text-decoration-color: #7f7f7f\">1773</span></a>\n",
       "<span style=\"color: #7fbfbf; text-decoration-color: #7fbfbf\">                    </span>         <span style=\"color: #0000ff; text-decoration-color: #0000ff; text-decoration: underline\">http://localhost:11434/api/generate</span> <span style=\"color: #008000; text-decoration-color: #008000\">\"HTTP/1.1 200 OK\"</span>                  <span style=\"color: #7f7f7f; text-decoration-color: #7f7f7f\">               </span>\n",
       "</pre>\n"
      ],
      "text/plain": [
       "\u001b[2;36m[07/12/24 18:10:16]\u001b[0m\u001b[2;36m \u001b[0m\u001b[34mINFO    \u001b[0m \u001b[1m[\u001b[0m_client.py:\u001b[1;36m1773\u001b[0m\u001b[1m]\u001b[0m >> HTTP Request: \u001b[1;33mPOST\u001b[0m                                \u001b]8;id=591114;file:///Users/anpigon/Library/Caches/pypoetry/virtualenvs/autorag-tutorial-ko-GYvpjDIx-py3.11/lib/python3.11/site-packages/httpx/_client.py\u001b\\\u001b[2m_client.py\u001b[0m\u001b]8;;\u001b\\\u001b[2m:\u001b[0m\u001b]8;id=490083;file:///Users/anpigon/Library/Caches/pypoetry/virtualenvs/autorag-tutorial-ko-GYvpjDIx-py3.11/lib/python3.11/site-packages/httpx/_client.py#1773\u001b\\\u001b[2m1773\u001b[0m\u001b]8;;\u001b\\\n",
       "\u001b[2;36m                    \u001b[0m         \u001b[4;94mhttp://localhost:11434/api/generate\u001b[0m \u001b[32m\"HTTP/1.1 200 OK\"\u001b[0m                  \u001b[2m               \u001b[0m\n"
      ]
     },
     "metadata": {},
     "output_type": "display_data"
    },
    {
     "data": {
      "text/html": [
       "<pre style=\"white-space:pre;overflow-x:auto;line-height:normal;font-family:Menlo,'DejaVu Sans Mono',consolas,'Courier New',monospace\"><span style=\"color: #7fbfbf; text-decoration-color: #7fbfbf\">[07/12/24 18:10:26] </span><span style=\"color: #000080; text-decoration-color: #000080\">INFO    </span> <span style=\"font-weight: bold\">[</span>_client.py:<span style=\"color: #008080; text-decoration-color: #008080; font-weight: bold\">1773</span><span style=\"font-weight: bold\">]</span> &gt;&gt; HTTP Request: <span style=\"color: #808000; text-decoration-color: #808000; font-weight: bold\">POST</span>                                <a href=\"file:///Users/anpigon/Library/Caches/pypoetry/virtualenvs/autorag-tutorial-ko-GYvpjDIx-py3.11/lib/python3.11/site-packages/httpx/_client.py\" target=\"_blank\"><span style=\"color: #7f7f7f; text-decoration-color: #7f7f7f\">_client.py</span></a><span style=\"color: #7f7f7f; text-decoration-color: #7f7f7f\">:</span><a href=\"file:///Users/anpigon/Library/Caches/pypoetry/virtualenvs/autorag-tutorial-ko-GYvpjDIx-py3.11/lib/python3.11/site-packages/httpx/_client.py#1773\" target=\"_blank\"><span style=\"color: #7f7f7f; text-decoration-color: #7f7f7f\">1773</span></a>\n",
       "<span style=\"color: #7fbfbf; text-decoration-color: #7fbfbf\">                    </span>         <span style=\"color: #0000ff; text-decoration-color: #0000ff; text-decoration: underline\">http://localhost:11434/api/generate</span> <span style=\"color: #008000; text-decoration-color: #008000\">\"HTTP/1.1 200 OK\"</span>                  <span style=\"color: #7f7f7f; text-decoration-color: #7f7f7f\">               </span>\n",
       "</pre>\n"
      ],
      "text/plain": [
       "\u001b[2;36m[07/12/24 18:10:26]\u001b[0m\u001b[2;36m \u001b[0m\u001b[34mINFO    \u001b[0m \u001b[1m[\u001b[0m_client.py:\u001b[1;36m1773\u001b[0m\u001b[1m]\u001b[0m >> HTTP Request: \u001b[1;33mPOST\u001b[0m                                \u001b]8;id=408469;file:///Users/anpigon/Library/Caches/pypoetry/virtualenvs/autorag-tutorial-ko-GYvpjDIx-py3.11/lib/python3.11/site-packages/httpx/_client.py\u001b\\\u001b[2m_client.py\u001b[0m\u001b]8;;\u001b\\\u001b[2m:\u001b[0m\u001b]8;id=824335;file:///Users/anpigon/Library/Caches/pypoetry/virtualenvs/autorag-tutorial-ko-GYvpjDIx-py3.11/lib/python3.11/site-packages/httpx/_client.py#1773\u001b\\\u001b[2m1773\u001b[0m\u001b]8;;\u001b\\\n",
       "\u001b[2;36m                    \u001b[0m         \u001b[4;94mhttp://localhost:11434/api/generate\u001b[0m \u001b[32m\"HTTP/1.1 200 OK\"\u001b[0m                  \u001b[2m               \u001b[0m\n"
      ]
     },
     "metadata": {},
     "output_type": "display_data"
    },
    {
     "data": {
      "text/html": [
       "<pre style=\"white-space:pre;overflow-x:auto;line-height:normal;font-family:Menlo,'DejaVu Sans Mono',consolas,'Courier New',monospace\"><span style=\"color: #7fbfbf; text-decoration-color: #7fbfbf\">[07/12/24 18:10:34] </span><span style=\"color: #000080; text-decoration-color: #000080\">INFO    </span> <span style=\"font-weight: bold\">[</span>_client.py:<span style=\"color: #008080; text-decoration-color: #008080; font-weight: bold\">1773</span><span style=\"font-weight: bold\">]</span> &gt;&gt; HTTP Request: <span style=\"color: #808000; text-decoration-color: #808000; font-weight: bold\">POST</span>                                <a href=\"file:///Users/anpigon/Library/Caches/pypoetry/virtualenvs/autorag-tutorial-ko-GYvpjDIx-py3.11/lib/python3.11/site-packages/httpx/_client.py\" target=\"_blank\"><span style=\"color: #7f7f7f; text-decoration-color: #7f7f7f\">_client.py</span></a><span style=\"color: #7f7f7f; text-decoration-color: #7f7f7f\">:</span><a href=\"file:///Users/anpigon/Library/Caches/pypoetry/virtualenvs/autorag-tutorial-ko-GYvpjDIx-py3.11/lib/python3.11/site-packages/httpx/_client.py#1773\" target=\"_blank\"><span style=\"color: #7f7f7f; text-decoration-color: #7f7f7f\">1773</span></a>\n",
       "<span style=\"color: #7fbfbf; text-decoration-color: #7fbfbf\">                    </span>         <span style=\"color: #0000ff; text-decoration-color: #0000ff; text-decoration: underline\">http://localhost:11434/api/generate</span> <span style=\"color: #008000; text-decoration-color: #008000\">\"HTTP/1.1 200 OK\"</span>                  <span style=\"color: #7f7f7f; text-decoration-color: #7f7f7f\">               </span>\n",
       "</pre>\n"
      ],
      "text/plain": [
       "\u001b[2;36m[07/12/24 18:10:34]\u001b[0m\u001b[2;36m \u001b[0m\u001b[34mINFO    \u001b[0m \u001b[1m[\u001b[0m_client.py:\u001b[1;36m1773\u001b[0m\u001b[1m]\u001b[0m >> HTTP Request: \u001b[1;33mPOST\u001b[0m                                \u001b]8;id=486809;file:///Users/anpigon/Library/Caches/pypoetry/virtualenvs/autorag-tutorial-ko-GYvpjDIx-py3.11/lib/python3.11/site-packages/httpx/_client.py\u001b\\\u001b[2m_client.py\u001b[0m\u001b]8;;\u001b\\\u001b[2m:\u001b[0m\u001b]8;id=672188;file:///Users/anpigon/Library/Caches/pypoetry/virtualenvs/autorag-tutorial-ko-GYvpjDIx-py3.11/lib/python3.11/site-packages/httpx/_client.py#1773\u001b\\\u001b[2m1773\u001b[0m\u001b]8;;\u001b\\\n",
       "\u001b[2;36m                    \u001b[0m         \u001b[4;94mhttp://localhost:11434/api/generate\u001b[0m \u001b[32m\"HTTP/1.1 200 OK\"\u001b[0m                  \u001b[2m               \u001b[0m\n"
      ]
     },
     "metadata": {},
     "output_type": "display_data"
    },
    {
     "data": {
      "text/html": [
       "<pre style=\"white-space:pre;overflow-x:auto;line-height:normal;font-family:Menlo,'DejaVu Sans Mono',consolas,'Courier New',monospace\"><span style=\"color: #7fbfbf; text-decoration-color: #7fbfbf\">[07/12/24 18:10:45] </span><span style=\"color: #000080; text-decoration-color: #000080\">INFO    </span> <span style=\"font-weight: bold\">[</span>_client.py:<span style=\"color: #008080; text-decoration-color: #008080; font-weight: bold\">1773</span><span style=\"font-weight: bold\">]</span> &gt;&gt; HTTP Request: <span style=\"color: #808000; text-decoration-color: #808000; font-weight: bold\">POST</span>                                <a href=\"file:///Users/anpigon/Library/Caches/pypoetry/virtualenvs/autorag-tutorial-ko-GYvpjDIx-py3.11/lib/python3.11/site-packages/httpx/_client.py\" target=\"_blank\"><span style=\"color: #7f7f7f; text-decoration-color: #7f7f7f\">_client.py</span></a><span style=\"color: #7f7f7f; text-decoration-color: #7f7f7f\">:</span><a href=\"file:///Users/anpigon/Library/Caches/pypoetry/virtualenvs/autorag-tutorial-ko-GYvpjDIx-py3.11/lib/python3.11/site-packages/httpx/_client.py#1773\" target=\"_blank\"><span style=\"color: #7f7f7f; text-decoration-color: #7f7f7f\">1773</span></a>\n",
       "<span style=\"color: #7fbfbf; text-decoration-color: #7fbfbf\">                    </span>         <span style=\"color: #0000ff; text-decoration-color: #0000ff; text-decoration: underline\">http://localhost:11434/api/generate</span> <span style=\"color: #008000; text-decoration-color: #008000\">\"HTTP/1.1 200 OK\"</span>                  <span style=\"color: #7f7f7f; text-decoration-color: #7f7f7f\">               </span>\n",
       "</pre>\n"
      ],
      "text/plain": [
       "\u001b[2;36m[07/12/24 18:10:45]\u001b[0m\u001b[2;36m \u001b[0m\u001b[34mINFO    \u001b[0m \u001b[1m[\u001b[0m_client.py:\u001b[1;36m1773\u001b[0m\u001b[1m]\u001b[0m >> HTTP Request: \u001b[1;33mPOST\u001b[0m                                \u001b]8;id=257770;file:///Users/anpigon/Library/Caches/pypoetry/virtualenvs/autorag-tutorial-ko-GYvpjDIx-py3.11/lib/python3.11/site-packages/httpx/_client.py\u001b\\\u001b[2m_client.py\u001b[0m\u001b]8;;\u001b\\\u001b[2m:\u001b[0m\u001b]8;id=579504;file:///Users/anpigon/Library/Caches/pypoetry/virtualenvs/autorag-tutorial-ko-GYvpjDIx-py3.11/lib/python3.11/site-packages/httpx/_client.py#1773\u001b\\\u001b[2m1773\u001b[0m\u001b]8;;\u001b\\\n",
       "\u001b[2;36m                    \u001b[0m         \u001b[4;94mhttp://localhost:11434/api/generate\u001b[0m \u001b[32m\"HTTP/1.1 200 OK\"\u001b[0m                  \u001b[2m               \u001b[0m\n"
      ]
     },
     "metadata": {},
     "output_type": "display_data"
    },
    {
     "data": {
      "text/html": [
       "<pre style=\"white-space:pre;overflow-x:auto;line-height:normal;font-family:Menlo,'DejaVu Sans Mono',consolas,'Courier New',monospace\"><span style=\"color: #7fbfbf; text-decoration-color: #7fbfbf\">[07/12/24 18:10:55] </span><span style=\"color: #000080; text-decoration-color: #000080\">INFO    </span> <span style=\"font-weight: bold\">[</span>_client.py:<span style=\"color: #008080; text-decoration-color: #008080; font-weight: bold\">1773</span><span style=\"font-weight: bold\">]</span> &gt;&gt; HTTP Request: <span style=\"color: #808000; text-decoration-color: #808000; font-weight: bold\">POST</span>                                <a href=\"file:///Users/anpigon/Library/Caches/pypoetry/virtualenvs/autorag-tutorial-ko-GYvpjDIx-py3.11/lib/python3.11/site-packages/httpx/_client.py\" target=\"_blank\"><span style=\"color: #7f7f7f; text-decoration-color: #7f7f7f\">_client.py</span></a><span style=\"color: #7f7f7f; text-decoration-color: #7f7f7f\">:</span><a href=\"file:///Users/anpigon/Library/Caches/pypoetry/virtualenvs/autorag-tutorial-ko-GYvpjDIx-py3.11/lib/python3.11/site-packages/httpx/_client.py#1773\" target=\"_blank\"><span style=\"color: #7f7f7f; text-decoration-color: #7f7f7f\">1773</span></a>\n",
       "<span style=\"color: #7fbfbf; text-decoration-color: #7fbfbf\">                    </span>         <span style=\"color: #0000ff; text-decoration-color: #0000ff; text-decoration: underline\">http://localhost:11434/api/generate</span> <span style=\"color: #008000; text-decoration-color: #008000\">\"HTTP/1.1 200 OK\"</span>                  <span style=\"color: #7f7f7f; text-decoration-color: #7f7f7f\">               </span>\n",
       "</pre>\n"
      ],
      "text/plain": [
       "\u001b[2;36m[07/12/24 18:10:55]\u001b[0m\u001b[2;36m \u001b[0m\u001b[34mINFO    \u001b[0m \u001b[1m[\u001b[0m_client.py:\u001b[1;36m1773\u001b[0m\u001b[1m]\u001b[0m >> HTTP Request: \u001b[1;33mPOST\u001b[0m                                \u001b]8;id=767430;file:///Users/anpigon/Library/Caches/pypoetry/virtualenvs/autorag-tutorial-ko-GYvpjDIx-py3.11/lib/python3.11/site-packages/httpx/_client.py\u001b\\\u001b[2m_client.py\u001b[0m\u001b]8;;\u001b\\\u001b[2m:\u001b[0m\u001b]8;id=703632;file:///Users/anpigon/Library/Caches/pypoetry/virtualenvs/autorag-tutorial-ko-GYvpjDIx-py3.11/lib/python3.11/site-packages/httpx/_client.py#1773\u001b\\\u001b[2m1773\u001b[0m\u001b]8;;\u001b\\\n",
       "\u001b[2;36m                    \u001b[0m         \u001b[4;94mhttp://localhost:11434/api/generate\u001b[0m \u001b[32m\"HTTP/1.1 200 OK\"\u001b[0m                  \u001b[2m               \u001b[0m\n"
      ]
     },
     "metadata": {},
     "output_type": "display_data"
    },
    {
     "data": {
      "text/html": [
       "<pre style=\"white-space:pre;overflow-x:auto;line-height:normal;font-family:Menlo,'DejaVu Sans Mono',consolas,'Courier New',monospace\"><span style=\"color: #7fbfbf; text-decoration-color: #7fbfbf\">[07/12/24 18:11:06] </span><span style=\"color: #000080; text-decoration-color: #000080\">INFO    </span> <span style=\"font-weight: bold\">[</span>_client.py:<span style=\"color: #008080; text-decoration-color: #008080; font-weight: bold\">1773</span><span style=\"font-weight: bold\">]</span> &gt;&gt; HTTP Request: <span style=\"color: #808000; text-decoration-color: #808000; font-weight: bold\">POST</span>                                <a href=\"file:///Users/anpigon/Library/Caches/pypoetry/virtualenvs/autorag-tutorial-ko-GYvpjDIx-py3.11/lib/python3.11/site-packages/httpx/_client.py\" target=\"_blank\"><span style=\"color: #7f7f7f; text-decoration-color: #7f7f7f\">_client.py</span></a><span style=\"color: #7f7f7f; text-decoration-color: #7f7f7f\">:</span><a href=\"file:///Users/anpigon/Library/Caches/pypoetry/virtualenvs/autorag-tutorial-ko-GYvpjDIx-py3.11/lib/python3.11/site-packages/httpx/_client.py#1773\" target=\"_blank\"><span style=\"color: #7f7f7f; text-decoration-color: #7f7f7f\">1773</span></a>\n",
       "<span style=\"color: #7fbfbf; text-decoration-color: #7fbfbf\">                    </span>         <span style=\"color: #0000ff; text-decoration-color: #0000ff; text-decoration: underline\">http://localhost:11434/api/generate</span> <span style=\"color: #008000; text-decoration-color: #008000\">\"HTTP/1.1 200 OK\"</span>                  <span style=\"color: #7f7f7f; text-decoration-color: #7f7f7f\">               </span>\n",
       "</pre>\n"
      ],
      "text/plain": [
       "\u001b[2;36m[07/12/24 18:11:06]\u001b[0m\u001b[2;36m \u001b[0m\u001b[34mINFO    \u001b[0m \u001b[1m[\u001b[0m_client.py:\u001b[1;36m1773\u001b[0m\u001b[1m]\u001b[0m >> HTTP Request: \u001b[1;33mPOST\u001b[0m                                \u001b]8;id=509580;file:///Users/anpigon/Library/Caches/pypoetry/virtualenvs/autorag-tutorial-ko-GYvpjDIx-py3.11/lib/python3.11/site-packages/httpx/_client.py\u001b\\\u001b[2m_client.py\u001b[0m\u001b]8;;\u001b\\\u001b[2m:\u001b[0m\u001b]8;id=277167;file:///Users/anpigon/Library/Caches/pypoetry/virtualenvs/autorag-tutorial-ko-GYvpjDIx-py3.11/lib/python3.11/site-packages/httpx/_client.py#1773\u001b\\\u001b[2m1773\u001b[0m\u001b]8;;\u001b\\\n",
       "\u001b[2;36m                    \u001b[0m         \u001b[4;94mhttp://localhost:11434/api/generate\u001b[0m \u001b[32m\"HTTP/1.1 200 OK\"\u001b[0m                  \u001b[2m               \u001b[0m\n"
      ]
     },
     "metadata": {},
     "output_type": "display_data"
    },
    {
     "data": {
      "text/html": [
       "<pre style=\"white-space:pre;overflow-x:auto;line-height:normal;font-family:Menlo,'DejaVu Sans Mono',consolas,'Courier New',monospace\"><span style=\"color: #7fbfbf; text-decoration-color: #7fbfbf\">[07/12/24 18:11:13] </span><span style=\"color: #000080; text-decoration-color: #000080\">INFO    </span> <span style=\"font-weight: bold\">[</span>_client.py:<span style=\"color: #008080; text-decoration-color: #008080; font-weight: bold\">1773</span><span style=\"font-weight: bold\">]</span> &gt;&gt; HTTP Request: <span style=\"color: #808000; text-decoration-color: #808000; font-weight: bold\">POST</span>                                <a href=\"file:///Users/anpigon/Library/Caches/pypoetry/virtualenvs/autorag-tutorial-ko-GYvpjDIx-py3.11/lib/python3.11/site-packages/httpx/_client.py\" target=\"_blank\"><span style=\"color: #7f7f7f; text-decoration-color: #7f7f7f\">_client.py</span></a><span style=\"color: #7f7f7f; text-decoration-color: #7f7f7f\">:</span><a href=\"file:///Users/anpigon/Library/Caches/pypoetry/virtualenvs/autorag-tutorial-ko-GYvpjDIx-py3.11/lib/python3.11/site-packages/httpx/_client.py#1773\" target=\"_blank\"><span style=\"color: #7f7f7f; text-decoration-color: #7f7f7f\">1773</span></a>\n",
       "<span style=\"color: #7fbfbf; text-decoration-color: #7fbfbf\">                    </span>         <span style=\"color: #0000ff; text-decoration-color: #0000ff; text-decoration: underline\">http://localhost:11434/api/generate</span> <span style=\"color: #008000; text-decoration-color: #008000\">\"HTTP/1.1 200 OK\"</span>                  <span style=\"color: #7f7f7f; text-decoration-color: #7f7f7f\">               </span>\n",
       "</pre>\n"
      ],
      "text/plain": [
       "\u001b[2;36m[07/12/24 18:11:13]\u001b[0m\u001b[2;36m \u001b[0m\u001b[34mINFO    \u001b[0m \u001b[1m[\u001b[0m_client.py:\u001b[1;36m1773\u001b[0m\u001b[1m]\u001b[0m >> HTTP Request: \u001b[1;33mPOST\u001b[0m                                \u001b]8;id=481972;file:///Users/anpigon/Library/Caches/pypoetry/virtualenvs/autorag-tutorial-ko-GYvpjDIx-py3.11/lib/python3.11/site-packages/httpx/_client.py\u001b\\\u001b[2m_client.py\u001b[0m\u001b]8;;\u001b\\\u001b[2m:\u001b[0m\u001b]8;id=333832;file:///Users/anpigon/Library/Caches/pypoetry/virtualenvs/autorag-tutorial-ko-GYvpjDIx-py3.11/lib/python3.11/site-packages/httpx/_client.py#1773\u001b\\\u001b[2m1773\u001b[0m\u001b]8;;\u001b\\\n",
       "\u001b[2;36m                    \u001b[0m         \u001b[4;94mhttp://localhost:11434/api/generate\u001b[0m \u001b[32m\"HTTP/1.1 200 OK\"\u001b[0m                  \u001b[2m               \u001b[0m\n"
      ]
     },
     "metadata": {},
     "output_type": "display_data"
    },
    {
     "data": {
      "text/html": [
       "<pre style=\"white-space:pre;overflow-x:auto;line-height:normal;font-family:Menlo,'DejaVu Sans Mono',consolas,'Courier New',monospace\"><span style=\"color: #7fbfbf; text-decoration-color: #7fbfbf\">[07/12/24 18:11:27] </span><span style=\"color: #000080; text-decoration-color: #000080\">INFO    </span> <span style=\"font-weight: bold\">[</span>_client.py:<span style=\"color: #008080; text-decoration-color: #008080; font-weight: bold\">1773</span><span style=\"font-weight: bold\">]</span> &gt;&gt; HTTP Request: <span style=\"color: #808000; text-decoration-color: #808000; font-weight: bold\">POST</span>                                <a href=\"file:///Users/anpigon/Library/Caches/pypoetry/virtualenvs/autorag-tutorial-ko-GYvpjDIx-py3.11/lib/python3.11/site-packages/httpx/_client.py\" target=\"_blank\"><span style=\"color: #7f7f7f; text-decoration-color: #7f7f7f\">_client.py</span></a><span style=\"color: #7f7f7f; text-decoration-color: #7f7f7f\">:</span><a href=\"file:///Users/anpigon/Library/Caches/pypoetry/virtualenvs/autorag-tutorial-ko-GYvpjDIx-py3.11/lib/python3.11/site-packages/httpx/_client.py#1773\" target=\"_blank\"><span style=\"color: #7f7f7f; text-decoration-color: #7f7f7f\">1773</span></a>\n",
       "<span style=\"color: #7fbfbf; text-decoration-color: #7fbfbf\">                    </span>         <span style=\"color: #0000ff; text-decoration-color: #0000ff; text-decoration: underline\">http://localhost:11434/api/generate</span> <span style=\"color: #008000; text-decoration-color: #008000\">\"HTTP/1.1 200 OK\"</span>                  <span style=\"color: #7f7f7f; text-decoration-color: #7f7f7f\">               </span>\n",
       "</pre>\n"
      ],
      "text/plain": [
       "\u001b[2;36m[07/12/24 18:11:27]\u001b[0m\u001b[2;36m \u001b[0m\u001b[34mINFO    \u001b[0m \u001b[1m[\u001b[0m_client.py:\u001b[1;36m1773\u001b[0m\u001b[1m]\u001b[0m >> HTTP Request: \u001b[1;33mPOST\u001b[0m                                \u001b]8;id=452576;file:///Users/anpigon/Library/Caches/pypoetry/virtualenvs/autorag-tutorial-ko-GYvpjDIx-py3.11/lib/python3.11/site-packages/httpx/_client.py\u001b\\\u001b[2m_client.py\u001b[0m\u001b]8;;\u001b\\\u001b[2m:\u001b[0m\u001b]8;id=73439;file:///Users/anpigon/Library/Caches/pypoetry/virtualenvs/autorag-tutorial-ko-GYvpjDIx-py3.11/lib/python3.11/site-packages/httpx/_client.py#1773\u001b\\\u001b[2m1773\u001b[0m\u001b]8;;\u001b\\\n",
       "\u001b[2;36m                    \u001b[0m         \u001b[4;94mhttp://localhost:11434/api/generate\u001b[0m \u001b[32m\"HTTP/1.1 200 OK\"\u001b[0m                  \u001b[2m               \u001b[0m\n"
      ]
     },
     "metadata": {},
     "output_type": "display_data"
    },
    {
     "data": {
      "text/html": [
       "<pre style=\"white-space:pre;overflow-x:auto;line-height:normal;font-family:Menlo,'DejaVu Sans Mono',consolas,'Courier New',monospace\"><span style=\"color: #7fbfbf; text-decoration-color: #7fbfbf\">[07/12/24 18:11:45] </span><span style=\"color: #000080; text-decoration-color: #000080\">INFO    </span> <span style=\"font-weight: bold\">[</span>_client.py:<span style=\"color: #008080; text-decoration-color: #008080; font-weight: bold\">1773</span><span style=\"font-weight: bold\">]</span> &gt;&gt; HTTP Request: <span style=\"color: #808000; text-decoration-color: #808000; font-weight: bold\">POST</span>                                <a href=\"file:///Users/anpigon/Library/Caches/pypoetry/virtualenvs/autorag-tutorial-ko-GYvpjDIx-py3.11/lib/python3.11/site-packages/httpx/_client.py\" target=\"_blank\"><span style=\"color: #7f7f7f; text-decoration-color: #7f7f7f\">_client.py</span></a><span style=\"color: #7f7f7f; text-decoration-color: #7f7f7f\">:</span><a href=\"file:///Users/anpigon/Library/Caches/pypoetry/virtualenvs/autorag-tutorial-ko-GYvpjDIx-py3.11/lib/python3.11/site-packages/httpx/_client.py#1773\" target=\"_blank\"><span style=\"color: #7f7f7f; text-decoration-color: #7f7f7f\">1773</span></a>\n",
       "<span style=\"color: #7fbfbf; text-decoration-color: #7fbfbf\">                    </span>         <span style=\"color: #0000ff; text-decoration-color: #0000ff; text-decoration: underline\">http://localhost:11434/api/generate</span> <span style=\"color: #008000; text-decoration-color: #008000\">\"HTTP/1.1 200 OK\"</span>                  <span style=\"color: #7f7f7f; text-decoration-color: #7f7f7f\">               </span>\n",
       "</pre>\n"
      ],
      "text/plain": [
       "\u001b[2;36m[07/12/24 18:11:45]\u001b[0m\u001b[2;36m \u001b[0m\u001b[34mINFO    \u001b[0m \u001b[1m[\u001b[0m_client.py:\u001b[1;36m1773\u001b[0m\u001b[1m]\u001b[0m >> HTTP Request: \u001b[1;33mPOST\u001b[0m                                \u001b]8;id=987863;file:///Users/anpigon/Library/Caches/pypoetry/virtualenvs/autorag-tutorial-ko-GYvpjDIx-py3.11/lib/python3.11/site-packages/httpx/_client.py\u001b\\\u001b[2m_client.py\u001b[0m\u001b]8;;\u001b\\\u001b[2m:\u001b[0m\u001b]8;id=248824;file:///Users/anpigon/Library/Caches/pypoetry/virtualenvs/autorag-tutorial-ko-GYvpjDIx-py3.11/lib/python3.11/site-packages/httpx/_client.py#1773\u001b\\\u001b[2m1773\u001b[0m\u001b]8;;\u001b\\\n",
       "\u001b[2;36m                    \u001b[0m         \u001b[4;94mhttp://localhost:11434/api/generate\u001b[0m \u001b[32m\"HTTP/1.1 200 OK\"\u001b[0m                  \u001b[2m               \u001b[0m\n"
      ]
     },
     "metadata": {},
     "output_type": "display_data"
    },
    {
     "data": {
      "text/html": [
       "<pre style=\"white-space:pre;overflow-x:auto;line-height:normal;font-family:Menlo,'DejaVu Sans Mono',consolas,'Courier New',monospace\"><span style=\"color: #7fbfbf; text-decoration-color: #7fbfbf\">[07/12/24 18:11:54] </span><span style=\"color: #000080; text-decoration-color: #000080\">INFO    </span> <span style=\"font-weight: bold\">[</span>_client.py:<span style=\"color: #008080; text-decoration-color: #008080; font-weight: bold\">1773</span><span style=\"font-weight: bold\">]</span> &gt;&gt; HTTP Request: <span style=\"color: #808000; text-decoration-color: #808000; font-weight: bold\">POST</span>                                <a href=\"file:///Users/anpigon/Library/Caches/pypoetry/virtualenvs/autorag-tutorial-ko-GYvpjDIx-py3.11/lib/python3.11/site-packages/httpx/_client.py\" target=\"_blank\"><span style=\"color: #7f7f7f; text-decoration-color: #7f7f7f\">_client.py</span></a><span style=\"color: #7f7f7f; text-decoration-color: #7f7f7f\">:</span><a href=\"file:///Users/anpigon/Library/Caches/pypoetry/virtualenvs/autorag-tutorial-ko-GYvpjDIx-py3.11/lib/python3.11/site-packages/httpx/_client.py#1773\" target=\"_blank\"><span style=\"color: #7f7f7f; text-decoration-color: #7f7f7f\">1773</span></a>\n",
       "<span style=\"color: #7fbfbf; text-decoration-color: #7fbfbf\">                    </span>         <span style=\"color: #0000ff; text-decoration-color: #0000ff; text-decoration: underline\">http://localhost:11434/api/generate</span> <span style=\"color: #008000; text-decoration-color: #008000\">\"HTTP/1.1 200 OK\"</span>                  <span style=\"color: #7f7f7f; text-decoration-color: #7f7f7f\">               </span>\n",
       "</pre>\n"
      ],
      "text/plain": [
       "\u001b[2;36m[07/12/24 18:11:54]\u001b[0m\u001b[2;36m \u001b[0m\u001b[34mINFO    \u001b[0m \u001b[1m[\u001b[0m_client.py:\u001b[1;36m1773\u001b[0m\u001b[1m]\u001b[0m >> HTTP Request: \u001b[1;33mPOST\u001b[0m                                \u001b]8;id=336588;file:///Users/anpigon/Library/Caches/pypoetry/virtualenvs/autorag-tutorial-ko-GYvpjDIx-py3.11/lib/python3.11/site-packages/httpx/_client.py\u001b\\\u001b[2m_client.py\u001b[0m\u001b]8;;\u001b\\\u001b[2m:\u001b[0m\u001b]8;id=665331;file:///Users/anpigon/Library/Caches/pypoetry/virtualenvs/autorag-tutorial-ko-GYvpjDIx-py3.11/lib/python3.11/site-packages/httpx/_client.py#1773\u001b\\\u001b[2m1773\u001b[0m\u001b]8;;\u001b\\\n",
       "\u001b[2;36m                    \u001b[0m         \u001b[4;94mhttp://localhost:11434/api/generate\u001b[0m \u001b[32m\"HTTP/1.1 200 OK\"\u001b[0m                  \u001b[2m               \u001b[0m\n"
      ]
     },
     "metadata": {},
     "output_type": "display_data"
    },
    {
     "data": {
      "text/html": [
       "<pre style=\"white-space:pre;overflow-x:auto;line-height:normal;font-family:Menlo,'DejaVu Sans Mono',consolas,'Courier New',monospace\"><span style=\"color: #7fbfbf; text-decoration-color: #7fbfbf\">[07/12/24 18:12:17] </span><span style=\"color: #000080; text-decoration-color: #000080\">INFO    </span> <span style=\"font-weight: bold\">[</span>_client.py:<span style=\"color: #008080; text-decoration-color: #008080; font-weight: bold\">1773</span><span style=\"font-weight: bold\">]</span> &gt;&gt; HTTP Request: <span style=\"color: #808000; text-decoration-color: #808000; font-weight: bold\">POST</span>                                <a href=\"file:///Users/anpigon/Library/Caches/pypoetry/virtualenvs/autorag-tutorial-ko-GYvpjDIx-py3.11/lib/python3.11/site-packages/httpx/_client.py\" target=\"_blank\"><span style=\"color: #7f7f7f; text-decoration-color: #7f7f7f\">_client.py</span></a><span style=\"color: #7f7f7f; text-decoration-color: #7f7f7f\">:</span><a href=\"file:///Users/anpigon/Library/Caches/pypoetry/virtualenvs/autorag-tutorial-ko-GYvpjDIx-py3.11/lib/python3.11/site-packages/httpx/_client.py#1773\" target=\"_blank\"><span style=\"color: #7f7f7f; text-decoration-color: #7f7f7f\">1773</span></a>\n",
       "<span style=\"color: #7fbfbf; text-decoration-color: #7fbfbf\">                    </span>         <span style=\"color: #0000ff; text-decoration-color: #0000ff; text-decoration: underline\">http://localhost:11434/api/generate</span> <span style=\"color: #008000; text-decoration-color: #008000\">\"HTTP/1.1 200 OK\"</span>                  <span style=\"color: #7f7f7f; text-decoration-color: #7f7f7f\">               </span>\n",
       "</pre>\n"
      ],
      "text/plain": [
       "\u001b[2;36m[07/12/24 18:12:17]\u001b[0m\u001b[2;36m \u001b[0m\u001b[34mINFO    \u001b[0m \u001b[1m[\u001b[0m_client.py:\u001b[1;36m1773\u001b[0m\u001b[1m]\u001b[0m >> HTTP Request: \u001b[1;33mPOST\u001b[0m                                \u001b]8;id=577757;file:///Users/anpigon/Library/Caches/pypoetry/virtualenvs/autorag-tutorial-ko-GYvpjDIx-py3.11/lib/python3.11/site-packages/httpx/_client.py\u001b\\\u001b[2m_client.py\u001b[0m\u001b]8;;\u001b\\\u001b[2m:\u001b[0m\u001b]8;id=412123;file:///Users/anpigon/Library/Caches/pypoetry/virtualenvs/autorag-tutorial-ko-GYvpjDIx-py3.11/lib/python3.11/site-packages/httpx/_client.py#1773\u001b\\\u001b[2m1773\u001b[0m\u001b]8;;\u001b\\\n",
       "\u001b[2;36m                    \u001b[0m         \u001b[4;94mhttp://localhost:11434/api/generate\u001b[0m \u001b[32m\"HTTP/1.1 200 OK\"\u001b[0m                  \u001b[2m               \u001b[0m\n"
      ]
     },
     "metadata": {},
     "output_type": "display_data"
    },
    {
     "data": {
      "text/html": [
       "<pre style=\"white-space:pre;overflow-x:auto;line-height:normal;font-family:Menlo,'DejaVu Sans Mono',consolas,'Courier New',monospace\"><span style=\"color: #7fbfbf; text-decoration-color: #7fbfbf\">[07/12/24 18:12:32] </span><span style=\"color: #000080; text-decoration-color: #000080\">INFO    </span> <span style=\"font-weight: bold\">[</span>_client.py:<span style=\"color: #008080; text-decoration-color: #008080; font-weight: bold\">1773</span><span style=\"font-weight: bold\">]</span> &gt;&gt; HTTP Request: <span style=\"color: #808000; text-decoration-color: #808000; font-weight: bold\">POST</span>                                <a href=\"file:///Users/anpigon/Library/Caches/pypoetry/virtualenvs/autorag-tutorial-ko-GYvpjDIx-py3.11/lib/python3.11/site-packages/httpx/_client.py\" target=\"_blank\"><span style=\"color: #7f7f7f; text-decoration-color: #7f7f7f\">_client.py</span></a><span style=\"color: #7f7f7f; text-decoration-color: #7f7f7f\">:</span><a href=\"file:///Users/anpigon/Library/Caches/pypoetry/virtualenvs/autorag-tutorial-ko-GYvpjDIx-py3.11/lib/python3.11/site-packages/httpx/_client.py#1773\" target=\"_blank\"><span style=\"color: #7f7f7f; text-decoration-color: #7f7f7f\">1773</span></a>\n",
       "<span style=\"color: #7fbfbf; text-decoration-color: #7fbfbf\">                    </span>         <span style=\"color: #0000ff; text-decoration-color: #0000ff; text-decoration: underline\">http://localhost:11434/api/generate</span> <span style=\"color: #008000; text-decoration-color: #008000\">\"HTTP/1.1 200 OK\"</span>                  <span style=\"color: #7f7f7f; text-decoration-color: #7f7f7f\">               </span>\n",
       "</pre>\n"
      ],
      "text/plain": [
       "\u001b[2;36m[07/12/24 18:12:32]\u001b[0m\u001b[2;36m \u001b[0m\u001b[34mINFO    \u001b[0m \u001b[1m[\u001b[0m_client.py:\u001b[1;36m1773\u001b[0m\u001b[1m]\u001b[0m >> HTTP Request: \u001b[1;33mPOST\u001b[0m                                \u001b]8;id=634723;file:///Users/anpigon/Library/Caches/pypoetry/virtualenvs/autorag-tutorial-ko-GYvpjDIx-py3.11/lib/python3.11/site-packages/httpx/_client.py\u001b\\\u001b[2m_client.py\u001b[0m\u001b]8;;\u001b\\\u001b[2m:\u001b[0m\u001b]8;id=780755;file:///Users/anpigon/Library/Caches/pypoetry/virtualenvs/autorag-tutorial-ko-GYvpjDIx-py3.11/lib/python3.11/site-packages/httpx/_client.py#1773\u001b\\\u001b[2m1773\u001b[0m\u001b]8;;\u001b\\\n",
       "\u001b[2;36m                    \u001b[0m         \u001b[4;94mhttp://localhost:11434/api/generate\u001b[0m \u001b[32m\"HTTP/1.1 200 OK\"\u001b[0m                  \u001b[2m               \u001b[0m\n"
      ]
     },
     "metadata": {},
     "output_type": "display_data"
    },
    {
     "data": {
      "text/html": [
       "<pre style=\"white-space:pre;overflow-x:auto;line-height:normal;font-family:Menlo,'DejaVu Sans Mono',consolas,'Courier New',monospace\"><span style=\"color: #7fbfbf; text-decoration-color: #7fbfbf\">[07/12/24 18:12:44] </span><span style=\"color: #000080; text-decoration-color: #000080\">INFO    </span> <span style=\"font-weight: bold\">[</span>_client.py:<span style=\"color: #008080; text-decoration-color: #008080; font-weight: bold\">1773</span><span style=\"font-weight: bold\">]</span> &gt;&gt; HTTP Request: <span style=\"color: #808000; text-decoration-color: #808000; font-weight: bold\">POST</span>                                <a href=\"file:///Users/anpigon/Library/Caches/pypoetry/virtualenvs/autorag-tutorial-ko-GYvpjDIx-py3.11/lib/python3.11/site-packages/httpx/_client.py\" target=\"_blank\"><span style=\"color: #7f7f7f; text-decoration-color: #7f7f7f\">_client.py</span></a><span style=\"color: #7f7f7f; text-decoration-color: #7f7f7f\">:</span><a href=\"file:///Users/anpigon/Library/Caches/pypoetry/virtualenvs/autorag-tutorial-ko-GYvpjDIx-py3.11/lib/python3.11/site-packages/httpx/_client.py#1773\" target=\"_blank\"><span style=\"color: #7f7f7f; text-decoration-color: #7f7f7f\">1773</span></a>\n",
       "<span style=\"color: #7fbfbf; text-decoration-color: #7fbfbf\">                    </span>         <span style=\"color: #0000ff; text-decoration-color: #0000ff; text-decoration: underline\">http://localhost:11434/api/generate</span> <span style=\"color: #008000; text-decoration-color: #008000\">\"HTTP/1.1 200 OK\"</span>                  <span style=\"color: #7f7f7f; text-decoration-color: #7f7f7f\">               </span>\n",
       "</pre>\n"
      ],
      "text/plain": [
       "\u001b[2;36m[07/12/24 18:12:44]\u001b[0m\u001b[2;36m \u001b[0m\u001b[34mINFO    \u001b[0m \u001b[1m[\u001b[0m_client.py:\u001b[1;36m1773\u001b[0m\u001b[1m]\u001b[0m >> HTTP Request: \u001b[1;33mPOST\u001b[0m                                \u001b]8;id=758346;file:///Users/anpigon/Library/Caches/pypoetry/virtualenvs/autorag-tutorial-ko-GYvpjDIx-py3.11/lib/python3.11/site-packages/httpx/_client.py\u001b\\\u001b[2m_client.py\u001b[0m\u001b]8;;\u001b\\\u001b[2m:\u001b[0m\u001b]8;id=70197;file:///Users/anpigon/Library/Caches/pypoetry/virtualenvs/autorag-tutorial-ko-GYvpjDIx-py3.11/lib/python3.11/site-packages/httpx/_client.py#1773\u001b\\\u001b[2m1773\u001b[0m\u001b]8;;\u001b\\\n",
       "\u001b[2;36m                    \u001b[0m         \u001b[4;94mhttp://localhost:11434/api/generate\u001b[0m \u001b[32m\"HTTP/1.1 200 OK\"\u001b[0m                  \u001b[2m               \u001b[0m\n"
      ]
     },
     "metadata": {},
     "output_type": "display_data"
    },
    {
     "data": {
      "text/html": [
       "<pre style=\"white-space:pre;overflow-x:auto;line-height:normal;font-family:Menlo,'DejaVu Sans Mono',consolas,'Courier New',monospace\"><span style=\"color: #7fbfbf; text-decoration-color: #7fbfbf\">[07/12/24 18:12:56] </span><span style=\"color: #000080; text-decoration-color: #000080\">INFO    </span> <span style=\"font-weight: bold\">[</span>_client.py:<span style=\"color: #008080; text-decoration-color: #008080; font-weight: bold\">1773</span><span style=\"font-weight: bold\">]</span> &gt;&gt; HTTP Request: <span style=\"color: #808000; text-decoration-color: #808000; font-weight: bold\">POST</span>                                <a href=\"file:///Users/anpigon/Library/Caches/pypoetry/virtualenvs/autorag-tutorial-ko-GYvpjDIx-py3.11/lib/python3.11/site-packages/httpx/_client.py\" target=\"_blank\"><span style=\"color: #7f7f7f; text-decoration-color: #7f7f7f\">_client.py</span></a><span style=\"color: #7f7f7f; text-decoration-color: #7f7f7f\">:</span><a href=\"file:///Users/anpigon/Library/Caches/pypoetry/virtualenvs/autorag-tutorial-ko-GYvpjDIx-py3.11/lib/python3.11/site-packages/httpx/_client.py#1773\" target=\"_blank\"><span style=\"color: #7f7f7f; text-decoration-color: #7f7f7f\">1773</span></a>\n",
       "<span style=\"color: #7fbfbf; text-decoration-color: #7fbfbf\">                    </span>         <span style=\"color: #0000ff; text-decoration-color: #0000ff; text-decoration: underline\">http://localhost:11434/api/generate</span> <span style=\"color: #008000; text-decoration-color: #008000\">\"HTTP/1.1 200 OK\"</span>                  <span style=\"color: #7f7f7f; text-decoration-color: #7f7f7f\">               </span>\n",
       "</pre>\n"
      ],
      "text/plain": [
       "\u001b[2;36m[07/12/24 18:12:56]\u001b[0m\u001b[2;36m \u001b[0m\u001b[34mINFO    \u001b[0m \u001b[1m[\u001b[0m_client.py:\u001b[1;36m1773\u001b[0m\u001b[1m]\u001b[0m >> HTTP Request: \u001b[1;33mPOST\u001b[0m                                \u001b]8;id=227760;file:///Users/anpigon/Library/Caches/pypoetry/virtualenvs/autorag-tutorial-ko-GYvpjDIx-py3.11/lib/python3.11/site-packages/httpx/_client.py\u001b\\\u001b[2m_client.py\u001b[0m\u001b]8;;\u001b\\\u001b[2m:\u001b[0m\u001b]8;id=820371;file:///Users/anpigon/Library/Caches/pypoetry/virtualenvs/autorag-tutorial-ko-GYvpjDIx-py3.11/lib/python3.11/site-packages/httpx/_client.py#1773\u001b\\\u001b[2m1773\u001b[0m\u001b]8;;\u001b\\\n",
       "\u001b[2;36m                    \u001b[0m         \u001b[4;94mhttp://localhost:11434/api/generate\u001b[0m \u001b[32m\"HTTP/1.1 200 OK\"\u001b[0m                  \u001b[2m               \u001b[0m\n"
      ]
     },
     "metadata": {},
     "output_type": "display_data"
    },
    {
     "data": {
      "text/html": [
       "<pre style=\"white-space:pre;overflow-x:auto;line-height:normal;font-family:Menlo,'DejaVu Sans Mono',consolas,'Courier New',monospace\"><span style=\"color: #7fbfbf; text-decoration-color: #7fbfbf\">[07/12/24 18:13:06] </span><span style=\"color: #000080; text-decoration-color: #000080\">INFO    </span> <span style=\"font-weight: bold\">[</span>_client.py:<span style=\"color: #008080; text-decoration-color: #008080; font-weight: bold\">1773</span><span style=\"font-weight: bold\">]</span> &gt;&gt; HTTP Request: <span style=\"color: #808000; text-decoration-color: #808000; font-weight: bold\">POST</span>                                <a href=\"file:///Users/anpigon/Library/Caches/pypoetry/virtualenvs/autorag-tutorial-ko-GYvpjDIx-py3.11/lib/python3.11/site-packages/httpx/_client.py\" target=\"_blank\"><span style=\"color: #7f7f7f; text-decoration-color: #7f7f7f\">_client.py</span></a><span style=\"color: #7f7f7f; text-decoration-color: #7f7f7f\">:</span><a href=\"file:///Users/anpigon/Library/Caches/pypoetry/virtualenvs/autorag-tutorial-ko-GYvpjDIx-py3.11/lib/python3.11/site-packages/httpx/_client.py#1773\" target=\"_blank\"><span style=\"color: #7f7f7f; text-decoration-color: #7f7f7f\">1773</span></a>\n",
       "<span style=\"color: #7fbfbf; text-decoration-color: #7fbfbf\">                    </span>         <span style=\"color: #0000ff; text-decoration-color: #0000ff; text-decoration: underline\">http://localhost:11434/api/generate</span> <span style=\"color: #008000; text-decoration-color: #008000\">\"HTTP/1.1 200 OK\"</span>                  <span style=\"color: #7f7f7f; text-decoration-color: #7f7f7f\">               </span>\n",
       "</pre>\n"
      ],
      "text/plain": [
       "\u001b[2;36m[07/12/24 18:13:06]\u001b[0m\u001b[2;36m \u001b[0m\u001b[34mINFO    \u001b[0m \u001b[1m[\u001b[0m_client.py:\u001b[1;36m1773\u001b[0m\u001b[1m]\u001b[0m >> HTTP Request: \u001b[1;33mPOST\u001b[0m                                \u001b]8;id=566879;file:///Users/anpigon/Library/Caches/pypoetry/virtualenvs/autorag-tutorial-ko-GYvpjDIx-py3.11/lib/python3.11/site-packages/httpx/_client.py\u001b\\\u001b[2m_client.py\u001b[0m\u001b]8;;\u001b\\\u001b[2m:\u001b[0m\u001b]8;id=136007;file:///Users/anpigon/Library/Caches/pypoetry/virtualenvs/autorag-tutorial-ko-GYvpjDIx-py3.11/lib/python3.11/site-packages/httpx/_client.py#1773\u001b\\\u001b[2m1773\u001b[0m\u001b]8;;\u001b\\\n",
       "\u001b[2;36m                    \u001b[0m         \u001b[4;94mhttp://localhost:11434/api/generate\u001b[0m \u001b[32m\"HTTP/1.1 200 OK\"\u001b[0m                  \u001b[2m               \u001b[0m\n"
      ]
     },
     "metadata": {},
     "output_type": "display_data"
    },
    {
     "data": {
      "text/html": [
       "<pre style=\"white-space:pre;overflow-x:auto;line-height:normal;font-family:Menlo,'DejaVu Sans Mono',consolas,'Courier New',monospace\"><span style=\"color: #7fbfbf; text-decoration-color: #7fbfbf\">[07/12/24 18:13:19] </span><span style=\"color: #000080; text-decoration-color: #000080\">INFO    </span> <span style=\"font-weight: bold\">[</span>_client.py:<span style=\"color: #008080; text-decoration-color: #008080; font-weight: bold\">1773</span><span style=\"font-weight: bold\">]</span> &gt;&gt; HTTP Request: <span style=\"color: #808000; text-decoration-color: #808000; font-weight: bold\">POST</span>                                <a href=\"file:///Users/anpigon/Library/Caches/pypoetry/virtualenvs/autorag-tutorial-ko-GYvpjDIx-py3.11/lib/python3.11/site-packages/httpx/_client.py\" target=\"_blank\"><span style=\"color: #7f7f7f; text-decoration-color: #7f7f7f\">_client.py</span></a><span style=\"color: #7f7f7f; text-decoration-color: #7f7f7f\">:</span><a href=\"file:///Users/anpigon/Library/Caches/pypoetry/virtualenvs/autorag-tutorial-ko-GYvpjDIx-py3.11/lib/python3.11/site-packages/httpx/_client.py#1773\" target=\"_blank\"><span style=\"color: #7f7f7f; text-decoration-color: #7f7f7f\">1773</span></a>\n",
       "<span style=\"color: #7fbfbf; text-decoration-color: #7fbfbf\">                    </span>         <span style=\"color: #0000ff; text-decoration-color: #0000ff; text-decoration: underline\">http://localhost:11434/api/generate</span> <span style=\"color: #008000; text-decoration-color: #008000\">\"HTTP/1.1 200 OK\"</span>                  <span style=\"color: #7f7f7f; text-decoration-color: #7f7f7f\">               </span>\n",
       "</pre>\n"
      ],
      "text/plain": [
       "\u001b[2;36m[07/12/24 18:13:19]\u001b[0m\u001b[2;36m \u001b[0m\u001b[34mINFO    \u001b[0m \u001b[1m[\u001b[0m_client.py:\u001b[1;36m1773\u001b[0m\u001b[1m]\u001b[0m >> HTTP Request: \u001b[1;33mPOST\u001b[0m                                \u001b]8;id=625231;file:///Users/anpigon/Library/Caches/pypoetry/virtualenvs/autorag-tutorial-ko-GYvpjDIx-py3.11/lib/python3.11/site-packages/httpx/_client.py\u001b\\\u001b[2m_client.py\u001b[0m\u001b]8;;\u001b\\\u001b[2m:\u001b[0m\u001b]8;id=46350;file:///Users/anpigon/Library/Caches/pypoetry/virtualenvs/autorag-tutorial-ko-GYvpjDIx-py3.11/lib/python3.11/site-packages/httpx/_client.py#1773\u001b\\\u001b[2m1773\u001b[0m\u001b]8;;\u001b\\\n",
       "\u001b[2;36m                    \u001b[0m         \u001b[4;94mhttp://localhost:11434/api/generate\u001b[0m \u001b[32m\"HTTP/1.1 200 OK\"\u001b[0m                  \u001b[2m               \u001b[0m\n"
      ]
     },
     "metadata": {},
     "output_type": "display_data"
    },
    {
     "data": {
      "text/html": [
       "<pre style=\"white-space:pre;overflow-x:auto;line-height:normal;font-family:Menlo,'DejaVu Sans Mono',consolas,'Courier New',monospace\"><span style=\"color: #7fbfbf; text-decoration-color: #7fbfbf\">[07/12/24 18:13:29] </span><span style=\"color: #000080; text-decoration-color: #000080\">INFO    </span> <span style=\"font-weight: bold\">[</span>_client.py:<span style=\"color: #008080; text-decoration-color: #008080; font-weight: bold\">1773</span><span style=\"font-weight: bold\">]</span> &gt;&gt; HTTP Request: <span style=\"color: #808000; text-decoration-color: #808000; font-weight: bold\">POST</span>                                <a href=\"file:///Users/anpigon/Library/Caches/pypoetry/virtualenvs/autorag-tutorial-ko-GYvpjDIx-py3.11/lib/python3.11/site-packages/httpx/_client.py\" target=\"_blank\"><span style=\"color: #7f7f7f; text-decoration-color: #7f7f7f\">_client.py</span></a><span style=\"color: #7f7f7f; text-decoration-color: #7f7f7f\">:</span><a href=\"file:///Users/anpigon/Library/Caches/pypoetry/virtualenvs/autorag-tutorial-ko-GYvpjDIx-py3.11/lib/python3.11/site-packages/httpx/_client.py#1773\" target=\"_blank\"><span style=\"color: #7f7f7f; text-decoration-color: #7f7f7f\">1773</span></a>\n",
       "<span style=\"color: #7fbfbf; text-decoration-color: #7fbfbf\">                    </span>         <span style=\"color: #0000ff; text-decoration-color: #0000ff; text-decoration: underline\">http://localhost:11434/api/generate</span> <span style=\"color: #008000; text-decoration-color: #008000\">\"HTTP/1.1 200 OK\"</span>                  <span style=\"color: #7f7f7f; text-decoration-color: #7f7f7f\">               </span>\n",
       "</pre>\n"
      ],
      "text/plain": [
       "\u001b[2;36m[07/12/24 18:13:29]\u001b[0m\u001b[2;36m \u001b[0m\u001b[34mINFO    \u001b[0m \u001b[1m[\u001b[0m_client.py:\u001b[1;36m1773\u001b[0m\u001b[1m]\u001b[0m >> HTTP Request: \u001b[1;33mPOST\u001b[0m                                \u001b]8;id=352210;file:///Users/anpigon/Library/Caches/pypoetry/virtualenvs/autorag-tutorial-ko-GYvpjDIx-py3.11/lib/python3.11/site-packages/httpx/_client.py\u001b\\\u001b[2m_client.py\u001b[0m\u001b]8;;\u001b\\\u001b[2m:\u001b[0m\u001b]8;id=716965;file:///Users/anpigon/Library/Caches/pypoetry/virtualenvs/autorag-tutorial-ko-GYvpjDIx-py3.11/lib/python3.11/site-packages/httpx/_client.py#1773\u001b\\\u001b[2m1773\u001b[0m\u001b]8;;\u001b\\\n",
       "\u001b[2;36m                    \u001b[0m         \u001b[4;94mhttp://localhost:11434/api/generate\u001b[0m \u001b[32m\"HTTP/1.1 200 OK\"\u001b[0m                  \u001b[2m               \u001b[0m\n"
      ]
     },
     "metadata": {},
     "output_type": "display_data"
    },
    {
     "data": {
      "text/html": [
       "<pre style=\"white-space:pre;overflow-x:auto;line-height:normal;font-family:Menlo,'DejaVu Sans Mono',consolas,'Courier New',monospace\"><span style=\"color: #7fbfbf; text-decoration-color: #7fbfbf\">[07/12/24 18:13:39] </span><span style=\"color: #000080; text-decoration-color: #000080\">INFO    </span> <span style=\"font-weight: bold\">[</span>_client.py:<span style=\"color: #008080; text-decoration-color: #008080; font-weight: bold\">1773</span><span style=\"font-weight: bold\">]</span> &gt;&gt; HTTP Request: <span style=\"color: #808000; text-decoration-color: #808000; font-weight: bold\">POST</span>                                <a href=\"file:///Users/anpigon/Library/Caches/pypoetry/virtualenvs/autorag-tutorial-ko-GYvpjDIx-py3.11/lib/python3.11/site-packages/httpx/_client.py\" target=\"_blank\"><span style=\"color: #7f7f7f; text-decoration-color: #7f7f7f\">_client.py</span></a><span style=\"color: #7f7f7f; text-decoration-color: #7f7f7f\">:</span><a href=\"file:///Users/anpigon/Library/Caches/pypoetry/virtualenvs/autorag-tutorial-ko-GYvpjDIx-py3.11/lib/python3.11/site-packages/httpx/_client.py#1773\" target=\"_blank\"><span style=\"color: #7f7f7f; text-decoration-color: #7f7f7f\">1773</span></a>\n",
       "<span style=\"color: #7fbfbf; text-decoration-color: #7fbfbf\">                    </span>         <span style=\"color: #0000ff; text-decoration-color: #0000ff; text-decoration: underline\">http://localhost:11434/api/generate</span> <span style=\"color: #008000; text-decoration-color: #008000\">\"HTTP/1.1 200 OK\"</span>                  <span style=\"color: #7f7f7f; text-decoration-color: #7f7f7f\">               </span>\n",
       "</pre>\n"
      ],
      "text/plain": [
       "\u001b[2;36m[07/12/24 18:13:39]\u001b[0m\u001b[2;36m \u001b[0m\u001b[34mINFO    \u001b[0m \u001b[1m[\u001b[0m_client.py:\u001b[1;36m1773\u001b[0m\u001b[1m]\u001b[0m >> HTTP Request: \u001b[1;33mPOST\u001b[0m                                \u001b]8;id=597926;file:///Users/anpigon/Library/Caches/pypoetry/virtualenvs/autorag-tutorial-ko-GYvpjDIx-py3.11/lib/python3.11/site-packages/httpx/_client.py\u001b\\\u001b[2m_client.py\u001b[0m\u001b]8;;\u001b\\\u001b[2m:\u001b[0m\u001b]8;id=466069;file:///Users/anpigon/Library/Caches/pypoetry/virtualenvs/autorag-tutorial-ko-GYvpjDIx-py3.11/lib/python3.11/site-packages/httpx/_client.py#1773\u001b\\\u001b[2m1773\u001b[0m\u001b]8;;\u001b\\\n",
       "\u001b[2;36m                    \u001b[0m         \u001b[4;94mhttp://localhost:11434/api/generate\u001b[0m \u001b[32m\"HTTP/1.1 200 OK\"\u001b[0m                  \u001b[2m               \u001b[0m\n"
      ]
     },
     "metadata": {},
     "output_type": "display_data"
    },
    {
     "data": {
      "text/html": [
       "<pre style=\"white-space:pre;overflow-x:auto;line-height:normal;font-family:Menlo,'DejaVu Sans Mono',consolas,'Courier New',monospace\"><span style=\"color: #7fbfbf; text-decoration-color: #7fbfbf\">[07/12/24 18:13:49] </span><span style=\"color: #000080; text-decoration-color: #000080\">INFO    </span> <span style=\"font-weight: bold\">[</span>_client.py:<span style=\"color: #008080; text-decoration-color: #008080; font-weight: bold\">1773</span><span style=\"font-weight: bold\">]</span> &gt;&gt; HTTP Request: <span style=\"color: #808000; text-decoration-color: #808000; font-weight: bold\">POST</span>                                <a href=\"file:///Users/anpigon/Library/Caches/pypoetry/virtualenvs/autorag-tutorial-ko-GYvpjDIx-py3.11/lib/python3.11/site-packages/httpx/_client.py\" target=\"_blank\"><span style=\"color: #7f7f7f; text-decoration-color: #7f7f7f\">_client.py</span></a><span style=\"color: #7f7f7f; text-decoration-color: #7f7f7f\">:</span><a href=\"file:///Users/anpigon/Library/Caches/pypoetry/virtualenvs/autorag-tutorial-ko-GYvpjDIx-py3.11/lib/python3.11/site-packages/httpx/_client.py#1773\" target=\"_blank\"><span style=\"color: #7f7f7f; text-decoration-color: #7f7f7f\">1773</span></a>\n",
       "<span style=\"color: #7fbfbf; text-decoration-color: #7fbfbf\">                    </span>         <span style=\"color: #0000ff; text-decoration-color: #0000ff; text-decoration: underline\">http://localhost:11434/api/generate</span> <span style=\"color: #008000; text-decoration-color: #008000\">\"HTTP/1.1 200 OK\"</span>                  <span style=\"color: #7f7f7f; text-decoration-color: #7f7f7f\">               </span>\n",
       "</pre>\n"
      ],
      "text/plain": [
       "\u001b[2;36m[07/12/24 18:13:49]\u001b[0m\u001b[2;36m \u001b[0m\u001b[34mINFO    \u001b[0m \u001b[1m[\u001b[0m_client.py:\u001b[1;36m1773\u001b[0m\u001b[1m]\u001b[0m >> HTTP Request: \u001b[1;33mPOST\u001b[0m                                \u001b]8;id=666670;file:///Users/anpigon/Library/Caches/pypoetry/virtualenvs/autorag-tutorial-ko-GYvpjDIx-py3.11/lib/python3.11/site-packages/httpx/_client.py\u001b\\\u001b[2m_client.py\u001b[0m\u001b]8;;\u001b\\\u001b[2m:\u001b[0m\u001b]8;id=4946;file:///Users/anpigon/Library/Caches/pypoetry/virtualenvs/autorag-tutorial-ko-GYvpjDIx-py3.11/lib/python3.11/site-packages/httpx/_client.py#1773\u001b\\\u001b[2m1773\u001b[0m\u001b]8;;\u001b\\\n",
       "\u001b[2;36m                    \u001b[0m         \u001b[4;94mhttp://localhost:11434/api/generate\u001b[0m \u001b[32m\"HTTP/1.1 200 OK\"\u001b[0m                  \u001b[2m               \u001b[0m\n"
      ]
     },
     "metadata": {},
     "output_type": "display_data"
    },
    {
     "data": {
      "text/html": [
       "<pre style=\"white-space:pre;overflow-x:auto;line-height:normal;font-family:Menlo,'DejaVu Sans Mono',consolas,'Courier New',monospace\"><span style=\"color: #7fbfbf; text-decoration-color: #7fbfbf\">[07/12/24 18:14:01] </span><span style=\"color: #000080; text-decoration-color: #000080\">INFO    </span> <span style=\"font-weight: bold\">[</span>_client.py:<span style=\"color: #008080; text-decoration-color: #008080; font-weight: bold\">1773</span><span style=\"font-weight: bold\">]</span> &gt;&gt; HTTP Request: <span style=\"color: #808000; text-decoration-color: #808000; font-weight: bold\">POST</span>                                <a href=\"file:///Users/anpigon/Library/Caches/pypoetry/virtualenvs/autorag-tutorial-ko-GYvpjDIx-py3.11/lib/python3.11/site-packages/httpx/_client.py\" target=\"_blank\"><span style=\"color: #7f7f7f; text-decoration-color: #7f7f7f\">_client.py</span></a><span style=\"color: #7f7f7f; text-decoration-color: #7f7f7f\">:</span><a href=\"file:///Users/anpigon/Library/Caches/pypoetry/virtualenvs/autorag-tutorial-ko-GYvpjDIx-py3.11/lib/python3.11/site-packages/httpx/_client.py#1773\" target=\"_blank\"><span style=\"color: #7f7f7f; text-decoration-color: #7f7f7f\">1773</span></a>\n",
       "<span style=\"color: #7fbfbf; text-decoration-color: #7fbfbf\">                    </span>         <span style=\"color: #0000ff; text-decoration-color: #0000ff; text-decoration: underline\">http://localhost:11434/api/generate</span> <span style=\"color: #008000; text-decoration-color: #008000\">\"HTTP/1.1 200 OK\"</span>                  <span style=\"color: #7f7f7f; text-decoration-color: #7f7f7f\">               </span>\n",
       "</pre>\n"
      ],
      "text/plain": [
       "\u001b[2;36m[07/12/24 18:14:01]\u001b[0m\u001b[2;36m \u001b[0m\u001b[34mINFO    \u001b[0m \u001b[1m[\u001b[0m_client.py:\u001b[1;36m1773\u001b[0m\u001b[1m]\u001b[0m >> HTTP Request: \u001b[1;33mPOST\u001b[0m                                \u001b]8;id=731472;file:///Users/anpigon/Library/Caches/pypoetry/virtualenvs/autorag-tutorial-ko-GYvpjDIx-py3.11/lib/python3.11/site-packages/httpx/_client.py\u001b\\\u001b[2m_client.py\u001b[0m\u001b]8;;\u001b\\\u001b[2m:\u001b[0m\u001b]8;id=771600;file:///Users/anpigon/Library/Caches/pypoetry/virtualenvs/autorag-tutorial-ko-GYvpjDIx-py3.11/lib/python3.11/site-packages/httpx/_client.py#1773\u001b\\\u001b[2m1773\u001b[0m\u001b]8;;\u001b\\\n",
       "\u001b[2;36m                    \u001b[0m         \u001b[4;94mhttp://localhost:11434/api/generate\u001b[0m \u001b[32m\"HTTP/1.1 200 OK\"\u001b[0m                  \u001b[2m               \u001b[0m\n"
      ]
     },
     "metadata": {},
     "output_type": "display_data"
    },
    {
     "data": {
      "text/html": [
       "<pre style=\"white-space:pre;overflow-x:auto;line-height:normal;font-family:Menlo,'DejaVu Sans Mono',consolas,'Courier New',monospace\"><span style=\"color: #7fbfbf; text-decoration-color: #7fbfbf\">[07/12/24 18:14:09] </span><span style=\"color: #000080; text-decoration-color: #000080\">INFO    </span> <span style=\"font-weight: bold\">[</span>_client.py:<span style=\"color: #008080; text-decoration-color: #008080; font-weight: bold\">1773</span><span style=\"font-weight: bold\">]</span> &gt;&gt; HTTP Request: <span style=\"color: #808000; text-decoration-color: #808000; font-weight: bold\">POST</span>                                <a href=\"file:///Users/anpigon/Library/Caches/pypoetry/virtualenvs/autorag-tutorial-ko-GYvpjDIx-py3.11/lib/python3.11/site-packages/httpx/_client.py\" target=\"_blank\"><span style=\"color: #7f7f7f; text-decoration-color: #7f7f7f\">_client.py</span></a><span style=\"color: #7f7f7f; text-decoration-color: #7f7f7f\">:</span><a href=\"file:///Users/anpigon/Library/Caches/pypoetry/virtualenvs/autorag-tutorial-ko-GYvpjDIx-py3.11/lib/python3.11/site-packages/httpx/_client.py#1773\" target=\"_blank\"><span style=\"color: #7f7f7f; text-decoration-color: #7f7f7f\">1773</span></a>\n",
       "<span style=\"color: #7fbfbf; text-decoration-color: #7fbfbf\">                    </span>         <span style=\"color: #0000ff; text-decoration-color: #0000ff; text-decoration: underline\">http://localhost:11434/api/generate</span> <span style=\"color: #008000; text-decoration-color: #008000\">\"HTTP/1.1 200 OK\"</span>                  <span style=\"color: #7f7f7f; text-decoration-color: #7f7f7f\">               </span>\n",
       "</pre>\n"
      ],
      "text/plain": [
       "\u001b[2;36m[07/12/24 18:14:09]\u001b[0m\u001b[2;36m \u001b[0m\u001b[34mINFO    \u001b[0m \u001b[1m[\u001b[0m_client.py:\u001b[1;36m1773\u001b[0m\u001b[1m]\u001b[0m >> HTTP Request: \u001b[1;33mPOST\u001b[0m                                \u001b]8;id=37095;file:///Users/anpigon/Library/Caches/pypoetry/virtualenvs/autorag-tutorial-ko-GYvpjDIx-py3.11/lib/python3.11/site-packages/httpx/_client.py\u001b\\\u001b[2m_client.py\u001b[0m\u001b]8;;\u001b\\\u001b[2m:\u001b[0m\u001b]8;id=639205;file:///Users/anpigon/Library/Caches/pypoetry/virtualenvs/autorag-tutorial-ko-GYvpjDIx-py3.11/lib/python3.11/site-packages/httpx/_client.py#1773\u001b\\\u001b[2m1773\u001b[0m\u001b]8;;\u001b\\\n",
       "\u001b[2;36m                    \u001b[0m         \u001b[4;94mhttp://localhost:11434/api/generate\u001b[0m \u001b[32m\"HTTP/1.1 200 OK\"\u001b[0m                  \u001b[2m               \u001b[0m\n"
      ]
     },
     "metadata": {},
     "output_type": "display_data"
    },
    {
     "data": {
      "text/html": [
       "<pre style=\"white-space:pre;overflow-x:auto;line-height:normal;font-family:Menlo,'DejaVu Sans Mono',consolas,'Courier New',monospace\"><span style=\"color: #7fbfbf; text-decoration-color: #7fbfbf\">[07/12/24 18:14:20] </span><span style=\"color: #000080; text-decoration-color: #000080\">INFO    </span> <span style=\"font-weight: bold\">[</span>_client.py:<span style=\"color: #008080; text-decoration-color: #008080; font-weight: bold\">1773</span><span style=\"font-weight: bold\">]</span> &gt;&gt; HTTP Request: <span style=\"color: #808000; text-decoration-color: #808000; font-weight: bold\">POST</span>                                <a href=\"file:///Users/anpigon/Library/Caches/pypoetry/virtualenvs/autorag-tutorial-ko-GYvpjDIx-py3.11/lib/python3.11/site-packages/httpx/_client.py\" target=\"_blank\"><span style=\"color: #7f7f7f; text-decoration-color: #7f7f7f\">_client.py</span></a><span style=\"color: #7f7f7f; text-decoration-color: #7f7f7f\">:</span><a href=\"file:///Users/anpigon/Library/Caches/pypoetry/virtualenvs/autorag-tutorial-ko-GYvpjDIx-py3.11/lib/python3.11/site-packages/httpx/_client.py#1773\" target=\"_blank\"><span style=\"color: #7f7f7f; text-decoration-color: #7f7f7f\">1773</span></a>\n",
       "<span style=\"color: #7fbfbf; text-decoration-color: #7fbfbf\">                    </span>         <span style=\"color: #0000ff; text-decoration-color: #0000ff; text-decoration: underline\">http://localhost:11434/api/generate</span> <span style=\"color: #008000; text-decoration-color: #008000\">\"HTTP/1.1 200 OK\"</span>                  <span style=\"color: #7f7f7f; text-decoration-color: #7f7f7f\">               </span>\n",
       "</pre>\n"
      ],
      "text/plain": [
       "\u001b[2;36m[07/12/24 18:14:20]\u001b[0m\u001b[2;36m \u001b[0m\u001b[34mINFO    \u001b[0m \u001b[1m[\u001b[0m_client.py:\u001b[1;36m1773\u001b[0m\u001b[1m]\u001b[0m >> HTTP Request: \u001b[1;33mPOST\u001b[0m                                \u001b]8;id=633343;file:///Users/anpigon/Library/Caches/pypoetry/virtualenvs/autorag-tutorial-ko-GYvpjDIx-py3.11/lib/python3.11/site-packages/httpx/_client.py\u001b\\\u001b[2m_client.py\u001b[0m\u001b]8;;\u001b\\\u001b[2m:\u001b[0m\u001b]8;id=345670;file:///Users/anpigon/Library/Caches/pypoetry/virtualenvs/autorag-tutorial-ko-GYvpjDIx-py3.11/lib/python3.11/site-packages/httpx/_client.py#1773\u001b\\\u001b[2m1773\u001b[0m\u001b]8;;\u001b\\\n",
       "\u001b[2;36m                    \u001b[0m         \u001b[4;94mhttp://localhost:11434/api/generate\u001b[0m \u001b[32m\"HTTP/1.1 200 OK\"\u001b[0m                  \u001b[2m               \u001b[0m\n"
      ]
     },
     "metadata": {},
     "output_type": "display_data"
    },
    {
     "data": {
      "text/html": [
       "<pre style=\"white-space:pre;overflow-x:auto;line-height:normal;font-family:Menlo,'DejaVu Sans Mono',consolas,'Courier New',monospace\"><span style=\"color: #7fbfbf; text-decoration-color: #7fbfbf\">[07/12/24 18:14:30] </span><span style=\"color: #000080; text-decoration-color: #000080\">INFO    </span> <span style=\"font-weight: bold\">[</span>_client.py:<span style=\"color: #008080; text-decoration-color: #008080; font-weight: bold\">1773</span><span style=\"font-weight: bold\">]</span> &gt;&gt; HTTP Request: <span style=\"color: #808000; text-decoration-color: #808000; font-weight: bold\">POST</span>                                <a href=\"file:///Users/anpigon/Library/Caches/pypoetry/virtualenvs/autorag-tutorial-ko-GYvpjDIx-py3.11/lib/python3.11/site-packages/httpx/_client.py\" target=\"_blank\"><span style=\"color: #7f7f7f; text-decoration-color: #7f7f7f\">_client.py</span></a><span style=\"color: #7f7f7f; text-decoration-color: #7f7f7f\">:</span><a href=\"file:///Users/anpigon/Library/Caches/pypoetry/virtualenvs/autorag-tutorial-ko-GYvpjDIx-py3.11/lib/python3.11/site-packages/httpx/_client.py#1773\" target=\"_blank\"><span style=\"color: #7f7f7f; text-decoration-color: #7f7f7f\">1773</span></a>\n",
       "<span style=\"color: #7fbfbf; text-decoration-color: #7fbfbf\">                    </span>         <span style=\"color: #0000ff; text-decoration-color: #0000ff; text-decoration: underline\">http://localhost:11434/api/generate</span> <span style=\"color: #008000; text-decoration-color: #008000\">\"HTTP/1.1 200 OK\"</span>                  <span style=\"color: #7f7f7f; text-decoration-color: #7f7f7f\">               </span>\n",
       "</pre>\n"
      ],
      "text/plain": [
       "\u001b[2;36m[07/12/24 18:14:30]\u001b[0m\u001b[2;36m \u001b[0m\u001b[34mINFO    \u001b[0m \u001b[1m[\u001b[0m_client.py:\u001b[1;36m1773\u001b[0m\u001b[1m]\u001b[0m >> HTTP Request: \u001b[1;33mPOST\u001b[0m                                \u001b]8;id=940241;file:///Users/anpigon/Library/Caches/pypoetry/virtualenvs/autorag-tutorial-ko-GYvpjDIx-py3.11/lib/python3.11/site-packages/httpx/_client.py\u001b\\\u001b[2m_client.py\u001b[0m\u001b]8;;\u001b\\\u001b[2m:\u001b[0m\u001b]8;id=27833;file:///Users/anpigon/Library/Caches/pypoetry/virtualenvs/autorag-tutorial-ko-GYvpjDIx-py3.11/lib/python3.11/site-packages/httpx/_client.py#1773\u001b\\\u001b[2m1773\u001b[0m\u001b]8;;\u001b\\\n",
       "\u001b[2;36m                    \u001b[0m         \u001b[4;94mhttp://localhost:11434/api/generate\u001b[0m \u001b[32m\"HTTP/1.1 200 OK\"\u001b[0m                  \u001b[2m               \u001b[0m\n"
      ]
     },
     "metadata": {},
     "output_type": "display_data"
    },
    {
     "data": {
      "text/html": [
       "<pre style=\"white-space:pre;overflow-x:auto;line-height:normal;font-family:Menlo,'DejaVu Sans Mono',consolas,'Courier New',monospace\"><span style=\"color: #7fbfbf; text-decoration-color: #7fbfbf\">[07/12/24 18:14:41] </span><span style=\"color: #000080; text-decoration-color: #000080\">INFO    </span> <span style=\"font-weight: bold\">[</span>_client.py:<span style=\"color: #008080; text-decoration-color: #008080; font-weight: bold\">1773</span><span style=\"font-weight: bold\">]</span> &gt;&gt; HTTP Request: <span style=\"color: #808000; text-decoration-color: #808000; font-weight: bold\">POST</span>                                <a href=\"file:///Users/anpigon/Library/Caches/pypoetry/virtualenvs/autorag-tutorial-ko-GYvpjDIx-py3.11/lib/python3.11/site-packages/httpx/_client.py\" target=\"_blank\"><span style=\"color: #7f7f7f; text-decoration-color: #7f7f7f\">_client.py</span></a><span style=\"color: #7f7f7f; text-decoration-color: #7f7f7f\">:</span><a href=\"file:///Users/anpigon/Library/Caches/pypoetry/virtualenvs/autorag-tutorial-ko-GYvpjDIx-py3.11/lib/python3.11/site-packages/httpx/_client.py#1773\" target=\"_blank\"><span style=\"color: #7f7f7f; text-decoration-color: #7f7f7f\">1773</span></a>\n",
       "<span style=\"color: #7fbfbf; text-decoration-color: #7fbfbf\">                    </span>         <span style=\"color: #0000ff; text-decoration-color: #0000ff; text-decoration: underline\">http://localhost:11434/api/generate</span> <span style=\"color: #008000; text-decoration-color: #008000\">\"HTTP/1.1 200 OK\"</span>                  <span style=\"color: #7f7f7f; text-decoration-color: #7f7f7f\">               </span>\n",
       "</pre>\n"
      ],
      "text/plain": [
       "\u001b[2;36m[07/12/24 18:14:41]\u001b[0m\u001b[2;36m \u001b[0m\u001b[34mINFO    \u001b[0m \u001b[1m[\u001b[0m_client.py:\u001b[1;36m1773\u001b[0m\u001b[1m]\u001b[0m >> HTTP Request: \u001b[1;33mPOST\u001b[0m                                \u001b]8;id=772079;file:///Users/anpigon/Library/Caches/pypoetry/virtualenvs/autorag-tutorial-ko-GYvpjDIx-py3.11/lib/python3.11/site-packages/httpx/_client.py\u001b\\\u001b[2m_client.py\u001b[0m\u001b]8;;\u001b\\\u001b[2m:\u001b[0m\u001b]8;id=394262;file:///Users/anpigon/Library/Caches/pypoetry/virtualenvs/autorag-tutorial-ko-GYvpjDIx-py3.11/lib/python3.11/site-packages/httpx/_client.py#1773\u001b\\\u001b[2m1773\u001b[0m\u001b]8;;\u001b\\\n",
       "\u001b[2;36m                    \u001b[0m         \u001b[4;94mhttp://localhost:11434/api/generate\u001b[0m \u001b[32m\"HTTP/1.1 200 OK\"\u001b[0m                  \u001b[2m               \u001b[0m\n"
      ]
     },
     "metadata": {},
     "output_type": "display_data"
    },
    {
     "data": {
      "text/html": [
       "<pre style=\"white-space:pre;overflow-x:auto;line-height:normal;font-family:Menlo,'DejaVu Sans Mono',consolas,'Courier New',monospace\"><span style=\"color: #7fbfbf; text-decoration-color: #7fbfbf\">[07/12/24 18:14:52] </span><span style=\"color: #000080; text-decoration-color: #000080\">INFO    </span> <span style=\"font-weight: bold\">[</span>_client.py:<span style=\"color: #008080; text-decoration-color: #008080; font-weight: bold\">1773</span><span style=\"font-weight: bold\">]</span> &gt;&gt; HTTP Request: <span style=\"color: #808000; text-decoration-color: #808000; font-weight: bold\">POST</span>                                <a href=\"file:///Users/anpigon/Library/Caches/pypoetry/virtualenvs/autorag-tutorial-ko-GYvpjDIx-py3.11/lib/python3.11/site-packages/httpx/_client.py\" target=\"_blank\"><span style=\"color: #7f7f7f; text-decoration-color: #7f7f7f\">_client.py</span></a><span style=\"color: #7f7f7f; text-decoration-color: #7f7f7f\">:</span><a href=\"file:///Users/anpigon/Library/Caches/pypoetry/virtualenvs/autorag-tutorial-ko-GYvpjDIx-py3.11/lib/python3.11/site-packages/httpx/_client.py#1773\" target=\"_blank\"><span style=\"color: #7f7f7f; text-decoration-color: #7f7f7f\">1773</span></a>\n",
       "<span style=\"color: #7fbfbf; text-decoration-color: #7fbfbf\">                    </span>         <span style=\"color: #0000ff; text-decoration-color: #0000ff; text-decoration: underline\">http://localhost:11434/api/generate</span> <span style=\"color: #008000; text-decoration-color: #008000\">\"HTTP/1.1 200 OK\"</span>                  <span style=\"color: #7f7f7f; text-decoration-color: #7f7f7f\">               </span>\n",
       "</pre>\n"
      ],
      "text/plain": [
       "\u001b[2;36m[07/12/24 18:14:52]\u001b[0m\u001b[2;36m \u001b[0m\u001b[34mINFO    \u001b[0m \u001b[1m[\u001b[0m_client.py:\u001b[1;36m1773\u001b[0m\u001b[1m]\u001b[0m >> HTTP Request: \u001b[1;33mPOST\u001b[0m                                \u001b]8;id=758430;file:///Users/anpigon/Library/Caches/pypoetry/virtualenvs/autorag-tutorial-ko-GYvpjDIx-py3.11/lib/python3.11/site-packages/httpx/_client.py\u001b\\\u001b[2m_client.py\u001b[0m\u001b]8;;\u001b\\\u001b[2m:\u001b[0m\u001b]8;id=195490;file:///Users/anpigon/Library/Caches/pypoetry/virtualenvs/autorag-tutorial-ko-GYvpjDIx-py3.11/lib/python3.11/site-packages/httpx/_client.py#1773\u001b\\\u001b[2m1773\u001b[0m\u001b]8;;\u001b\\\n",
       "\u001b[2;36m                    \u001b[0m         \u001b[4;94mhttp://localhost:11434/api/generate\u001b[0m \u001b[32m\"HTTP/1.1 200 OK\"\u001b[0m                  \u001b[2m               \u001b[0m\n"
      ]
     },
     "metadata": {},
     "output_type": "display_data"
    },
    {
     "data": {
      "text/html": [
       "<pre style=\"white-space:pre;overflow-x:auto;line-height:normal;font-family:Menlo,'DejaVu Sans Mono',consolas,'Courier New',monospace\"><span style=\"color: #7fbfbf; text-decoration-color: #7fbfbf\">[07/12/24 18:14:59] </span><span style=\"color: #000080; text-decoration-color: #000080\">INFO    </span> <span style=\"font-weight: bold\">[</span>_client.py:<span style=\"color: #008080; text-decoration-color: #008080; font-weight: bold\">1773</span><span style=\"font-weight: bold\">]</span> &gt;&gt; HTTP Request: <span style=\"color: #808000; text-decoration-color: #808000; font-weight: bold\">POST</span>                                <a href=\"file:///Users/anpigon/Library/Caches/pypoetry/virtualenvs/autorag-tutorial-ko-GYvpjDIx-py3.11/lib/python3.11/site-packages/httpx/_client.py\" target=\"_blank\"><span style=\"color: #7f7f7f; text-decoration-color: #7f7f7f\">_client.py</span></a><span style=\"color: #7f7f7f; text-decoration-color: #7f7f7f\">:</span><a href=\"file:///Users/anpigon/Library/Caches/pypoetry/virtualenvs/autorag-tutorial-ko-GYvpjDIx-py3.11/lib/python3.11/site-packages/httpx/_client.py#1773\" target=\"_blank\"><span style=\"color: #7f7f7f; text-decoration-color: #7f7f7f\">1773</span></a>\n",
       "<span style=\"color: #7fbfbf; text-decoration-color: #7fbfbf\">                    </span>         <span style=\"color: #0000ff; text-decoration-color: #0000ff; text-decoration: underline\">http://localhost:11434/api/generate</span> <span style=\"color: #008000; text-decoration-color: #008000\">\"HTTP/1.1 200 OK\"</span>                  <span style=\"color: #7f7f7f; text-decoration-color: #7f7f7f\">               </span>\n",
       "</pre>\n"
      ],
      "text/plain": [
       "\u001b[2;36m[07/12/24 18:14:59]\u001b[0m\u001b[2;36m \u001b[0m\u001b[34mINFO    \u001b[0m \u001b[1m[\u001b[0m_client.py:\u001b[1;36m1773\u001b[0m\u001b[1m]\u001b[0m >> HTTP Request: \u001b[1;33mPOST\u001b[0m                                \u001b]8;id=871182;file:///Users/anpigon/Library/Caches/pypoetry/virtualenvs/autorag-tutorial-ko-GYvpjDIx-py3.11/lib/python3.11/site-packages/httpx/_client.py\u001b\\\u001b[2m_client.py\u001b[0m\u001b]8;;\u001b\\\u001b[2m:\u001b[0m\u001b]8;id=108514;file:///Users/anpigon/Library/Caches/pypoetry/virtualenvs/autorag-tutorial-ko-GYvpjDIx-py3.11/lib/python3.11/site-packages/httpx/_client.py#1773\u001b\\\u001b[2m1773\u001b[0m\u001b]8;;\u001b\\\n",
       "\u001b[2;36m                    \u001b[0m         \u001b[4;94mhttp://localhost:11434/api/generate\u001b[0m \u001b[32m\"HTTP/1.1 200 OK\"\u001b[0m                  \u001b[2m               \u001b[0m\n"
      ]
     },
     "metadata": {},
     "output_type": "display_data"
    },
    {
     "data": {
      "text/html": [
       "<pre style=\"white-space:pre;overflow-x:auto;line-height:normal;font-family:Menlo,'DejaVu Sans Mono',consolas,'Courier New',monospace\"><span style=\"color: #7fbfbf; text-decoration-color: #7fbfbf\">[07/12/24 18:15:09] </span><span style=\"color: #000080; text-decoration-color: #000080\">INFO    </span> <span style=\"font-weight: bold\">[</span>_client.py:<span style=\"color: #008080; text-decoration-color: #008080; font-weight: bold\">1773</span><span style=\"font-weight: bold\">]</span> &gt;&gt; HTTP Request: <span style=\"color: #808000; text-decoration-color: #808000; font-weight: bold\">POST</span>                                <a href=\"file:///Users/anpigon/Library/Caches/pypoetry/virtualenvs/autorag-tutorial-ko-GYvpjDIx-py3.11/lib/python3.11/site-packages/httpx/_client.py\" target=\"_blank\"><span style=\"color: #7f7f7f; text-decoration-color: #7f7f7f\">_client.py</span></a><span style=\"color: #7f7f7f; text-decoration-color: #7f7f7f\">:</span><a href=\"file:///Users/anpigon/Library/Caches/pypoetry/virtualenvs/autorag-tutorial-ko-GYvpjDIx-py3.11/lib/python3.11/site-packages/httpx/_client.py#1773\" target=\"_blank\"><span style=\"color: #7f7f7f; text-decoration-color: #7f7f7f\">1773</span></a>\n",
       "<span style=\"color: #7fbfbf; text-decoration-color: #7fbfbf\">                    </span>         <span style=\"color: #0000ff; text-decoration-color: #0000ff; text-decoration: underline\">http://localhost:11434/api/generate</span> <span style=\"color: #008000; text-decoration-color: #008000\">\"HTTP/1.1 200 OK\"</span>                  <span style=\"color: #7f7f7f; text-decoration-color: #7f7f7f\">               </span>\n",
       "</pre>\n"
      ],
      "text/plain": [
       "\u001b[2;36m[07/12/24 18:15:09]\u001b[0m\u001b[2;36m \u001b[0m\u001b[34mINFO    \u001b[0m \u001b[1m[\u001b[0m_client.py:\u001b[1;36m1773\u001b[0m\u001b[1m]\u001b[0m >> HTTP Request: \u001b[1;33mPOST\u001b[0m                                \u001b]8;id=530292;file:///Users/anpigon/Library/Caches/pypoetry/virtualenvs/autorag-tutorial-ko-GYvpjDIx-py3.11/lib/python3.11/site-packages/httpx/_client.py\u001b\\\u001b[2m_client.py\u001b[0m\u001b]8;;\u001b\\\u001b[2m:\u001b[0m\u001b]8;id=771338;file:///Users/anpigon/Library/Caches/pypoetry/virtualenvs/autorag-tutorial-ko-GYvpjDIx-py3.11/lib/python3.11/site-packages/httpx/_client.py#1773\u001b\\\u001b[2m1773\u001b[0m\u001b]8;;\u001b\\\n",
       "\u001b[2;36m                    \u001b[0m         \u001b[4;94mhttp://localhost:11434/api/generate\u001b[0m \u001b[32m\"HTTP/1.1 200 OK\"\u001b[0m                  \u001b[2m               \u001b[0m\n"
      ]
     },
     "metadata": {},
     "output_type": "display_data"
    },
    {
     "data": {
      "text/html": [
       "<pre style=\"white-space:pre;overflow-x:auto;line-height:normal;font-family:Menlo,'DejaVu Sans Mono',consolas,'Courier New',monospace\"><span style=\"color: #7fbfbf; text-decoration-color: #7fbfbf\">[07/12/24 18:15:17] </span><span style=\"color: #000080; text-decoration-color: #000080\">INFO    </span> <span style=\"font-weight: bold\">[</span>_client.py:<span style=\"color: #008080; text-decoration-color: #008080; font-weight: bold\">1773</span><span style=\"font-weight: bold\">]</span> &gt;&gt; HTTP Request: <span style=\"color: #808000; text-decoration-color: #808000; font-weight: bold\">POST</span>                                <a href=\"file:///Users/anpigon/Library/Caches/pypoetry/virtualenvs/autorag-tutorial-ko-GYvpjDIx-py3.11/lib/python3.11/site-packages/httpx/_client.py\" target=\"_blank\"><span style=\"color: #7f7f7f; text-decoration-color: #7f7f7f\">_client.py</span></a><span style=\"color: #7f7f7f; text-decoration-color: #7f7f7f\">:</span><a href=\"file:///Users/anpigon/Library/Caches/pypoetry/virtualenvs/autorag-tutorial-ko-GYvpjDIx-py3.11/lib/python3.11/site-packages/httpx/_client.py#1773\" target=\"_blank\"><span style=\"color: #7f7f7f; text-decoration-color: #7f7f7f\">1773</span></a>\n",
       "<span style=\"color: #7fbfbf; text-decoration-color: #7fbfbf\">                    </span>         <span style=\"color: #0000ff; text-decoration-color: #0000ff; text-decoration: underline\">http://localhost:11434/api/generate</span> <span style=\"color: #008000; text-decoration-color: #008000\">\"HTTP/1.1 200 OK\"</span>                  <span style=\"color: #7f7f7f; text-decoration-color: #7f7f7f\">               </span>\n",
       "</pre>\n"
      ],
      "text/plain": [
       "\u001b[2;36m[07/12/24 18:15:17]\u001b[0m\u001b[2;36m \u001b[0m\u001b[34mINFO    \u001b[0m \u001b[1m[\u001b[0m_client.py:\u001b[1;36m1773\u001b[0m\u001b[1m]\u001b[0m >> HTTP Request: \u001b[1;33mPOST\u001b[0m                                \u001b]8;id=305265;file:///Users/anpigon/Library/Caches/pypoetry/virtualenvs/autorag-tutorial-ko-GYvpjDIx-py3.11/lib/python3.11/site-packages/httpx/_client.py\u001b\\\u001b[2m_client.py\u001b[0m\u001b]8;;\u001b\\\u001b[2m:\u001b[0m\u001b]8;id=43737;file:///Users/anpigon/Library/Caches/pypoetry/virtualenvs/autorag-tutorial-ko-GYvpjDIx-py3.11/lib/python3.11/site-packages/httpx/_client.py#1773\u001b\\\u001b[2m1773\u001b[0m\u001b]8;;\u001b\\\n",
       "\u001b[2;36m                    \u001b[0m         \u001b[4;94mhttp://localhost:11434/api/generate\u001b[0m \u001b[32m\"HTTP/1.1 200 OK\"\u001b[0m                  \u001b[2m               \u001b[0m\n"
      ]
     },
     "metadata": {},
     "output_type": "display_data"
    },
    {
     "data": {
      "text/html": [
       "<pre style=\"white-space:pre;overflow-x:auto;line-height:normal;font-family:Menlo,'DejaVu Sans Mono',consolas,'Courier New',monospace\"><span style=\"color: #7fbfbf; text-decoration-color: #7fbfbf\">[07/12/24 18:15:28] </span><span style=\"color: #000080; text-decoration-color: #000080\">INFO    </span> <span style=\"font-weight: bold\">[</span>_client.py:<span style=\"color: #008080; text-decoration-color: #008080; font-weight: bold\">1773</span><span style=\"font-weight: bold\">]</span> &gt;&gt; HTTP Request: <span style=\"color: #808000; text-decoration-color: #808000; font-weight: bold\">POST</span>                                <a href=\"file:///Users/anpigon/Library/Caches/pypoetry/virtualenvs/autorag-tutorial-ko-GYvpjDIx-py3.11/lib/python3.11/site-packages/httpx/_client.py\" target=\"_blank\"><span style=\"color: #7f7f7f; text-decoration-color: #7f7f7f\">_client.py</span></a><span style=\"color: #7f7f7f; text-decoration-color: #7f7f7f\">:</span><a href=\"file:///Users/anpigon/Library/Caches/pypoetry/virtualenvs/autorag-tutorial-ko-GYvpjDIx-py3.11/lib/python3.11/site-packages/httpx/_client.py#1773\" target=\"_blank\"><span style=\"color: #7f7f7f; text-decoration-color: #7f7f7f\">1773</span></a>\n",
       "<span style=\"color: #7fbfbf; text-decoration-color: #7fbfbf\">                    </span>         <span style=\"color: #0000ff; text-decoration-color: #0000ff; text-decoration: underline\">http://localhost:11434/api/generate</span> <span style=\"color: #008000; text-decoration-color: #008000\">\"HTTP/1.1 200 OK\"</span>                  <span style=\"color: #7f7f7f; text-decoration-color: #7f7f7f\">               </span>\n",
       "</pre>\n"
      ],
      "text/plain": [
       "\u001b[2;36m[07/12/24 18:15:28]\u001b[0m\u001b[2;36m \u001b[0m\u001b[34mINFO    \u001b[0m \u001b[1m[\u001b[0m_client.py:\u001b[1;36m1773\u001b[0m\u001b[1m]\u001b[0m >> HTTP Request: \u001b[1;33mPOST\u001b[0m                                \u001b]8;id=849493;file:///Users/anpigon/Library/Caches/pypoetry/virtualenvs/autorag-tutorial-ko-GYvpjDIx-py3.11/lib/python3.11/site-packages/httpx/_client.py\u001b\\\u001b[2m_client.py\u001b[0m\u001b]8;;\u001b\\\u001b[2m:\u001b[0m\u001b]8;id=878987;file:///Users/anpigon/Library/Caches/pypoetry/virtualenvs/autorag-tutorial-ko-GYvpjDIx-py3.11/lib/python3.11/site-packages/httpx/_client.py#1773\u001b\\\u001b[2m1773\u001b[0m\u001b]8;;\u001b\\\n",
       "\u001b[2;36m                    \u001b[0m         \u001b[4;94mhttp://localhost:11434/api/generate\u001b[0m \u001b[32m\"HTTP/1.1 200 OK\"\u001b[0m                  \u001b[2m               \u001b[0m\n"
      ]
     },
     "metadata": {},
     "output_type": "display_data"
    },
    {
     "data": {
      "text/html": [
       "<pre style=\"white-space:pre;overflow-x:auto;line-height:normal;font-family:Menlo,'DejaVu Sans Mono',consolas,'Courier New',monospace\"><span style=\"color: #7fbfbf; text-decoration-color: #7fbfbf\">[07/12/24 18:15:39] </span><span style=\"color: #000080; text-decoration-color: #000080\">INFO    </span> <span style=\"font-weight: bold\">[</span>_client.py:<span style=\"color: #008080; text-decoration-color: #008080; font-weight: bold\">1773</span><span style=\"font-weight: bold\">]</span> &gt;&gt; HTTP Request: <span style=\"color: #808000; text-decoration-color: #808000; font-weight: bold\">POST</span>                                <a href=\"file:///Users/anpigon/Library/Caches/pypoetry/virtualenvs/autorag-tutorial-ko-GYvpjDIx-py3.11/lib/python3.11/site-packages/httpx/_client.py\" target=\"_blank\"><span style=\"color: #7f7f7f; text-decoration-color: #7f7f7f\">_client.py</span></a><span style=\"color: #7f7f7f; text-decoration-color: #7f7f7f\">:</span><a href=\"file:///Users/anpigon/Library/Caches/pypoetry/virtualenvs/autorag-tutorial-ko-GYvpjDIx-py3.11/lib/python3.11/site-packages/httpx/_client.py#1773\" target=\"_blank\"><span style=\"color: #7f7f7f; text-decoration-color: #7f7f7f\">1773</span></a>\n",
       "<span style=\"color: #7fbfbf; text-decoration-color: #7fbfbf\">                    </span>         <span style=\"color: #0000ff; text-decoration-color: #0000ff; text-decoration: underline\">http://localhost:11434/api/generate</span> <span style=\"color: #008000; text-decoration-color: #008000\">\"HTTP/1.1 200 OK\"</span>                  <span style=\"color: #7f7f7f; text-decoration-color: #7f7f7f\">               </span>\n",
       "</pre>\n"
      ],
      "text/plain": [
       "\u001b[2;36m[07/12/24 18:15:39]\u001b[0m\u001b[2;36m \u001b[0m\u001b[34mINFO    \u001b[0m \u001b[1m[\u001b[0m_client.py:\u001b[1;36m1773\u001b[0m\u001b[1m]\u001b[0m >> HTTP Request: \u001b[1;33mPOST\u001b[0m                                \u001b]8;id=975504;file:///Users/anpigon/Library/Caches/pypoetry/virtualenvs/autorag-tutorial-ko-GYvpjDIx-py3.11/lib/python3.11/site-packages/httpx/_client.py\u001b\\\u001b[2m_client.py\u001b[0m\u001b]8;;\u001b\\\u001b[2m:\u001b[0m\u001b]8;id=287698;file:///Users/anpigon/Library/Caches/pypoetry/virtualenvs/autorag-tutorial-ko-GYvpjDIx-py3.11/lib/python3.11/site-packages/httpx/_client.py#1773\u001b\\\u001b[2m1773\u001b[0m\u001b]8;;\u001b\\\n",
       "\u001b[2;36m                    \u001b[0m         \u001b[4;94mhttp://localhost:11434/api/generate\u001b[0m \u001b[32m\"HTTP/1.1 200 OK\"\u001b[0m                  \u001b[2m               \u001b[0m\n"
      ]
     },
     "metadata": {},
     "output_type": "display_data"
    },
    {
     "data": {
      "text/html": [
       "<pre style=\"white-space:pre;overflow-x:auto;line-height:normal;font-family:Menlo,'DejaVu Sans Mono',consolas,'Courier New',monospace\"><span style=\"color: #7fbfbf; text-decoration-color: #7fbfbf\">[07/12/24 18:15:57] </span><span style=\"color: #000080; text-decoration-color: #000080\">INFO    </span> <span style=\"font-weight: bold\">[</span>_client.py:<span style=\"color: #008080; text-decoration-color: #008080; font-weight: bold\">1773</span><span style=\"font-weight: bold\">]</span> &gt;&gt; HTTP Request: <span style=\"color: #808000; text-decoration-color: #808000; font-weight: bold\">POST</span>                                <a href=\"file:///Users/anpigon/Library/Caches/pypoetry/virtualenvs/autorag-tutorial-ko-GYvpjDIx-py3.11/lib/python3.11/site-packages/httpx/_client.py\" target=\"_blank\"><span style=\"color: #7f7f7f; text-decoration-color: #7f7f7f\">_client.py</span></a><span style=\"color: #7f7f7f; text-decoration-color: #7f7f7f\">:</span><a href=\"file:///Users/anpigon/Library/Caches/pypoetry/virtualenvs/autorag-tutorial-ko-GYvpjDIx-py3.11/lib/python3.11/site-packages/httpx/_client.py#1773\" target=\"_blank\"><span style=\"color: #7f7f7f; text-decoration-color: #7f7f7f\">1773</span></a>\n",
       "<span style=\"color: #7fbfbf; text-decoration-color: #7fbfbf\">                    </span>         <span style=\"color: #0000ff; text-decoration-color: #0000ff; text-decoration: underline\">http://localhost:11434/api/generate</span> <span style=\"color: #008000; text-decoration-color: #008000\">\"HTTP/1.1 200 OK\"</span>                  <span style=\"color: #7f7f7f; text-decoration-color: #7f7f7f\">               </span>\n",
       "</pre>\n"
      ],
      "text/plain": [
       "\u001b[2;36m[07/12/24 18:15:57]\u001b[0m\u001b[2;36m \u001b[0m\u001b[34mINFO    \u001b[0m \u001b[1m[\u001b[0m_client.py:\u001b[1;36m1773\u001b[0m\u001b[1m]\u001b[0m >> HTTP Request: \u001b[1;33mPOST\u001b[0m                                \u001b]8;id=740846;file:///Users/anpigon/Library/Caches/pypoetry/virtualenvs/autorag-tutorial-ko-GYvpjDIx-py3.11/lib/python3.11/site-packages/httpx/_client.py\u001b\\\u001b[2m_client.py\u001b[0m\u001b]8;;\u001b\\\u001b[2m:\u001b[0m\u001b]8;id=519118;file:///Users/anpigon/Library/Caches/pypoetry/virtualenvs/autorag-tutorial-ko-GYvpjDIx-py3.11/lib/python3.11/site-packages/httpx/_client.py#1773\u001b\\\u001b[2m1773\u001b[0m\u001b]8;;\u001b\\\n",
       "\u001b[2;36m                    \u001b[0m         \u001b[4;94mhttp://localhost:11434/api/generate\u001b[0m \u001b[32m\"HTTP/1.1 200 OK\"\u001b[0m                  \u001b[2m               \u001b[0m\n"
      ]
     },
     "metadata": {},
     "output_type": "display_data"
    },
    {
     "data": {
      "text/html": [
       "<pre style=\"white-space:pre;overflow-x:auto;line-height:normal;font-family:Menlo,'DejaVu Sans Mono',consolas,'Courier New',monospace\"><span style=\"color: #7fbfbf; text-decoration-color: #7fbfbf\">                    </span><span style=\"color: #000080; text-decoration-color: #000080\">INFO    </span> <span style=\"font-weight: bold\">[</span>base.py:<span style=\"color: #008080; text-decoration-color: #008080; font-weight: bold\">34</span><span style=\"font-weight: bold\">]</span> &gt;&gt; Running generator node - llama_index_llm module<span style=\"color: #808000; text-decoration-color: #808000\">...</span>          <a href=\"file:///Users/anpigon/Library/Caches/pypoetry/virtualenvs/autorag-tutorial-ko-GYvpjDIx-py3.11/lib/python3.11/site-packages/autorag/nodes/generator/base.py\" target=\"_blank\"><span style=\"color: #7f7f7f; text-decoration-color: #7f7f7f\">base.py</span></a><span style=\"color: #7f7f7f; text-decoration-color: #7f7f7f\">:</span><a href=\"file:///Users/anpigon/Library/Caches/pypoetry/virtualenvs/autorag-tutorial-ko-GYvpjDIx-py3.11/lib/python3.11/site-packages/autorag/nodes/generator/base.py#34\" target=\"_blank\"><span style=\"color: #7f7f7f; text-decoration-color: #7f7f7f\">34</span></a>\n",
       "</pre>\n"
      ],
      "text/plain": [
       "\u001b[2;36m                   \u001b[0m\u001b[2;36m \u001b[0m\u001b[34mINFO    \u001b[0m \u001b[1m[\u001b[0mbase.py:\u001b[1;36m34\u001b[0m\u001b[1m]\u001b[0m >> Running generator node - llama_index_llm module\u001b[33m...\u001b[0m          \u001b]8;id=904056;file:///Users/anpigon/Library/Caches/pypoetry/virtualenvs/autorag-tutorial-ko-GYvpjDIx-py3.11/lib/python3.11/site-packages/autorag/nodes/generator/base.py\u001b\\\u001b[2mbase.py\u001b[0m\u001b]8;;\u001b\\\u001b[2m:\u001b[0m\u001b]8;id=984771;file:///Users/anpigon/Library/Caches/pypoetry/virtualenvs/autorag-tutorial-ko-GYvpjDIx-py3.11/lib/python3.11/site-packages/autorag/nodes/generator/base.py#34\u001b\\\u001b[2m34\u001b[0m\u001b]8;;\u001b\\\n"
      ]
     },
     "metadata": {},
     "output_type": "display_data"
    },
    {
     "data": {
      "text/html": [
       "<pre style=\"white-space:pre;overflow-x:auto;line-height:normal;font-family:Menlo,'DejaVu Sans Mono',consolas,'Courier New',monospace\"><span style=\"color: #7fbfbf; text-decoration-color: #7fbfbf\">[07/12/24 18:16:21] </span><span style=\"color: #000080; text-decoration-color: #000080\">INFO    </span> <span style=\"font-weight: bold\">[</span>_client.py:<span style=\"color: #008080; text-decoration-color: #008080; font-weight: bold\">1773</span><span style=\"font-weight: bold\">]</span> &gt;&gt; HTTP Request: <span style=\"color: #808000; text-decoration-color: #808000; font-weight: bold\">POST</span>                                <a href=\"file:///Users/anpigon/Library/Caches/pypoetry/virtualenvs/autorag-tutorial-ko-GYvpjDIx-py3.11/lib/python3.11/site-packages/httpx/_client.py\" target=\"_blank\"><span style=\"color: #7f7f7f; text-decoration-color: #7f7f7f\">_client.py</span></a><span style=\"color: #7f7f7f; text-decoration-color: #7f7f7f\">:</span><a href=\"file:///Users/anpigon/Library/Caches/pypoetry/virtualenvs/autorag-tutorial-ko-GYvpjDIx-py3.11/lib/python3.11/site-packages/httpx/_client.py#1773\" target=\"_blank\"><span style=\"color: #7f7f7f; text-decoration-color: #7f7f7f\">1773</span></a>\n",
       "<span style=\"color: #7fbfbf; text-decoration-color: #7fbfbf\">                    </span>         <span style=\"color: #0000ff; text-decoration-color: #0000ff; text-decoration: underline\">http://localhost:11434/api/generate</span> <span style=\"color: #008000; text-decoration-color: #008000\">\"HTTP/1.1 200 OK\"</span>                  <span style=\"color: #7f7f7f; text-decoration-color: #7f7f7f\">               </span>\n",
       "</pre>\n"
      ],
      "text/plain": [
       "\u001b[2;36m[07/12/24 18:16:21]\u001b[0m\u001b[2;36m \u001b[0m\u001b[34mINFO    \u001b[0m \u001b[1m[\u001b[0m_client.py:\u001b[1;36m1773\u001b[0m\u001b[1m]\u001b[0m >> HTTP Request: \u001b[1;33mPOST\u001b[0m                                \u001b]8;id=685777;file:///Users/anpigon/Library/Caches/pypoetry/virtualenvs/autorag-tutorial-ko-GYvpjDIx-py3.11/lib/python3.11/site-packages/httpx/_client.py\u001b\\\u001b[2m_client.py\u001b[0m\u001b]8;;\u001b\\\u001b[2m:\u001b[0m\u001b]8;id=497648;file:///Users/anpigon/Library/Caches/pypoetry/virtualenvs/autorag-tutorial-ko-GYvpjDIx-py3.11/lib/python3.11/site-packages/httpx/_client.py#1773\u001b\\\u001b[2m1773\u001b[0m\u001b]8;;\u001b\\\n",
       "\u001b[2;36m                    \u001b[0m         \u001b[4;94mhttp://localhost:11434/api/generate\u001b[0m \u001b[32m\"HTTP/1.1 200 OK\"\u001b[0m                  \u001b[2m               \u001b[0m\n"
      ]
     },
     "metadata": {},
     "output_type": "display_data"
    },
    {
     "data": {
      "text/html": [
       "<pre style=\"white-space:pre;overflow-x:auto;line-height:normal;font-family:Menlo,'DejaVu Sans Mono',consolas,'Courier New',monospace\"><span style=\"color: #7fbfbf; text-decoration-color: #7fbfbf\">[07/12/24 18:16:27] </span><span style=\"color: #000080; text-decoration-color: #000080\">INFO    </span> <span style=\"font-weight: bold\">[</span>_client.py:<span style=\"color: #008080; text-decoration-color: #008080; font-weight: bold\">1773</span><span style=\"font-weight: bold\">]</span> &gt;&gt; HTTP Request: <span style=\"color: #808000; text-decoration-color: #808000; font-weight: bold\">POST</span>                                <a href=\"file:///Users/anpigon/Library/Caches/pypoetry/virtualenvs/autorag-tutorial-ko-GYvpjDIx-py3.11/lib/python3.11/site-packages/httpx/_client.py\" target=\"_blank\"><span style=\"color: #7f7f7f; text-decoration-color: #7f7f7f\">_client.py</span></a><span style=\"color: #7f7f7f; text-decoration-color: #7f7f7f\">:</span><a href=\"file:///Users/anpigon/Library/Caches/pypoetry/virtualenvs/autorag-tutorial-ko-GYvpjDIx-py3.11/lib/python3.11/site-packages/httpx/_client.py#1773\" target=\"_blank\"><span style=\"color: #7f7f7f; text-decoration-color: #7f7f7f\">1773</span></a>\n",
       "<span style=\"color: #7fbfbf; text-decoration-color: #7fbfbf\">                    </span>         <span style=\"color: #0000ff; text-decoration-color: #0000ff; text-decoration: underline\">http://localhost:11434/api/generate</span> <span style=\"color: #008000; text-decoration-color: #008000\">\"HTTP/1.1 200 OK\"</span>                  <span style=\"color: #7f7f7f; text-decoration-color: #7f7f7f\">               </span>\n",
       "</pre>\n"
      ],
      "text/plain": [
       "\u001b[2;36m[07/12/24 18:16:27]\u001b[0m\u001b[2;36m \u001b[0m\u001b[34mINFO    \u001b[0m \u001b[1m[\u001b[0m_client.py:\u001b[1;36m1773\u001b[0m\u001b[1m]\u001b[0m >> HTTP Request: \u001b[1;33mPOST\u001b[0m                                \u001b]8;id=74066;file:///Users/anpigon/Library/Caches/pypoetry/virtualenvs/autorag-tutorial-ko-GYvpjDIx-py3.11/lib/python3.11/site-packages/httpx/_client.py\u001b\\\u001b[2m_client.py\u001b[0m\u001b]8;;\u001b\\\u001b[2m:\u001b[0m\u001b]8;id=633330;file:///Users/anpigon/Library/Caches/pypoetry/virtualenvs/autorag-tutorial-ko-GYvpjDIx-py3.11/lib/python3.11/site-packages/httpx/_client.py#1773\u001b\\\u001b[2m1773\u001b[0m\u001b]8;;\u001b\\\n",
       "\u001b[2;36m                    \u001b[0m         \u001b[4;94mhttp://localhost:11434/api/generate\u001b[0m \u001b[32m\"HTTP/1.1 200 OK\"\u001b[0m                  \u001b[2m               \u001b[0m\n"
      ]
     },
     "metadata": {},
     "output_type": "display_data"
    },
    {
     "data": {
      "text/html": [
       "<pre style=\"white-space:pre;overflow-x:auto;line-height:normal;font-family:Menlo,'DejaVu Sans Mono',consolas,'Courier New',monospace\"><span style=\"color: #7fbfbf; text-decoration-color: #7fbfbf\">[07/12/24 18:16:35] </span><span style=\"color: #000080; text-decoration-color: #000080\">INFO    </span> <span style=\"font-weight: bold\">[</span>_client.py:<span style=\"color: #008080; text-decoration-color: #008080; font-weight: bold\">1773</span><span style=\"font-weight: bold\">]</span> &gt;&gt; HTTP Request: <span style=\"color: #808000; text-decoration-color: #808000; font-weight: bold\">POST</span>                                <a href=\"file:///Users/anpigon/Library/Caches/pypoetry/virtualenvs/autorag-tutorial-ko-GYvpjDIx-py3.11/lib/python3.11/site-packages/httpx/_client.py\" target=\"_blank\"><span style=\"color: #7f7f7f; text-decoration-color: #7f7f7f\">_client.py</span></a><span style=\"color: #7f7f7f; text-decoration-color: #7f7f7f\">:</span><a href=\"file:///Users/anpigon/Library/Caches/pypoetry/virtualenvs/autorag-tutorial-ko-GYvpjDIx-py3.11/lib/python3.11/site-packages/httpx/_client.py#1773\" target=\"_blank\"><span style=\"color: #7f7f7f; text-decoration-color: #7f7f7f\">1773</span></a>\n",
       "<span style=\"color: #7fbfbf; text-decoration-color: #7fbfbf\">                    </span>         <span style=\"color: #0000ff; text-decoration-color: #0000ff; text-decoration: underline\">http://localhost:11434/api/generate</span> <span style=\"color: #008000; text-decoration-color: #008000\">\"HTTP/1.1 200 OK\"</span>                  <span style=\"color: #7f7f7f; text-decoration-color: #7f7f7f\">               </span>\n",
       "</pre>\n"
      ],
      "text/plain": [
       "\u001b[2;36m[07/12/24 18:16:35]\u001b[0m\u001b[2;36m \u001b[0m\u001b[34mINFO    \u001b[0m \u001b[1m[\u001b[0m_client.py:\u001b[1;36m1773\u001b[0m\u001b[1m]\u001b[0m >> HTTP Request: \u001b[1;33mPOST\u001b[0m                                \u001b]8;id=680244;file:///Users/anpigon/Library/Caches/pypoetry/virtualenvs/autorag-tutorial-ko-GYvpjDIx-py3.11/lib/python3.11/site-packages/httpx/_client.py\u001b\\\u001b[2m_client.py\u001b[0m\u001b]8;;\u001b\\\u001b[2m:\u001b[0m\u001b]8;id=422092;file:///Users/anpigon/Library/Caches/pypoetry/virtualenvs/autorag-tutorial-ko-GYvpjDIx-py3.11/lib/python3.11/site-packages/httpx/_client.py#1773\u001b\\\u001b[2m1773\u001b[0m\u001b]8;;\u001b\\\n",
       "\u001b[2;36m                    \u001b[0m         \u001b[4;94mhttp://localhost:11434/api/generate\u001b[0m \u001b[32m\"HTTP/1.1 200 OK\"\u001b[0m                  \u001b[2m               \u001b[0m\n"
      ]
     },
     "metadata": {},
     "output_type": "display_data"
    },
    {
     "data": {
      "text/html": [
       "<pre style=\"white-space:pre;overflow-x:auto;line-height:normal;font-family:Menlo,'DejaVu Sans Mono',consolas,'Courier New',monospace\"><span style=\"color: #7fbfbf; text-decoration-color: #7fbfbf\">[07/12/24 18:16:42] </span><span style=\"color: #000080; text-decoration-color: #000080\">INFO    </span> <span style=\"font-weight: bold\">[</span>_client.py:<span style=\"color: #008080; text-decoration-color: #008080; font-weight: bold\">1773</span><span style=\"font-weight: bold\">]</span> &gt;&gt; HTTP Request: <span style=\"color: #808000; text-decoration-color: #808000; font-weight: bold\">POST</span>                                <a href=\"file:///Users/anpigon/Library/Caches/pypoetry/virtualenvs/autorag-tutorial-ko-GYvpjDIx-py3.11/lib/python3.11/site-packages/httpx/_client.py\" target=\"_blank\"><span style=\"color: #7f7f7f; text-decoration-color: #7f7f7f\">_client.py</span></a><span style=\"color: #7f7f7f; text-decoration-color: #7f7f7f\">:</span><a href=\"file:///Users/anpigon/Library/Caches/pypoetry/virtualenvs/autorag-tutorial-ko-GYvpjDIx-py3.11/lib/python3.11/site-packages/httpx/_client.py#1773\" target=\"_blank\"><span style=\"color: #7f7f7f; text-decoration-color: #7f7f7f\">1773</span></a>\n",
       "<span style=\"color: #7fbfbf; text-decoration-color: #7fbfbf\">                    </span>         <span style=\"color: #0000ff; text-decoration-color: #0000ff; text-decoration: underline\">http://localhost:11434/api/generate</span> <span style=\"color: #008000; text-decoration-color: #008000\">\"HTTP/1.1 200 OK\"</span>                  <span style=\"color: #7f7f7f; text-decoration-color: #7f7f7f\">               </span>\n",
       "</pre>\n"
      ],
      "text/plain": [
       "\u001b[2;36m[07/12/24 18:16:42]\u001b[0m\u001b[2;36m \u001b[0m\u001b[34mINFO    \u001b[0m \u001b[1m[\u001b[0m_client.py:\u001b[1;36m1773\u001b[0m\u001b[1m]\u001b[0m >> HTTP Request: \u001b[1;33mPOST\u001b[0m                                \u001b]8;id=666625;file:///Users/anpigon/Library/Caches/pypoetry/virtualenvs/autorag-tutorial-ko-GYvpjDIx-py3.11/lib/python3.11/site-packages/httpx/_client.py\u001b\\\u001b[2m_client.py\u001b[0m\u001b]8;;\u001b\\\u001b[2m:\u001b[0m\u001b]8;id=246897;file:///Users/anpigon/Library/Caches/pypoetry/virtualenvs/autorag-tutorial-ko-GYvpjDIx-py3.11/lib/python3.11/site-packages/httpx/_client.py#1773\u001b\\\u001b[2m1773\u001b[0m\u001b]8;;\u001b\\\n",
       "\u001b[2;36m                    \u001b[0m         \u001b[4;94mhttp://localhost:11434/api/generate\u001b[0m \u001b[32m\"HTTP/1.1 200 OK\"\u001b[0m                  \u001b[2m               \u001b[0m\n"
      ]
     },
     "metadata": {},
     "output_type": "display_data"
    },
    {
     "data": {
      "text/html": [
       "<pre style=\"white-space:pre;overflow-x:auto;line-height:normal;font-family:Menlo,'DejaVu Sans Mono',consolas,'Courier New',monospace\"><span style=\"color: #7fbfbf; text-decoration-color: #7fbfbf\">[07/12/24 18:17:01] </span><span style=\"color: #000080; text-decoration-color: #000080\">INFO    </span> <span style=\"font-weight: bold\">[</span>_client.py:<span style=\"color: #008080; text-decoration-color: #008080; font-weight: bold\">1773</span><span style=\"font-weight: bold\">]</span> &gt;&gt; HTTP Request: <span style=\"color: #808000; text-decoration-color: #808000; font-weight: bold\">POST</span>                                <a href=\"file:///Users/anpigon/Library/Caches/pypoetry/virtualenvs/autorag-tutorial-ko-GYvpjDIx-py3.11/lib/python3.11/site-packages/httpx/_client.py\" target=\"_blank\"><span style=\"color: #7f7f7f; text-decoration-color: #7f7f7f\">_client.py</span></a><span style=\"color: #7f7f7f; text-decoration-color: #7f7f7f\">:</span><a href=\"file:///Users/anpigon/Library/Caches/pypoetry/virtualenvs/autorag-tutorial-ko-GYvpjDIx-py3.11/lib/python3.11/site-packages/httpx/_client.py#1773\" target=\"_blank\"><span style=\"color: #7f7f7f; text-decoration-color: #7f7f7f\">1773</span></a>\n",
       "<span style=\"color: #7fbfbf; text-decoration-color: #7fbfbf\">                    </span>         <span style=\"color: #0000ff; text-decoration-color: #0000ff; text-decoration: underline\">http://localhost:11434/api/generate</span> <span style=\"color: #008000; text-decoration-color: #008000\">\"HTTP/1.1 200 OK\"</span>                  <span style=\"color: #7f7f7f; text-decoration-color: #7f7f7f\">               </span>\n",
       "</pre>\n"
      ],
      "text/plain": [
       "\u001b[2;36m[07/12/24 18:17:01]\u001b[0m\u001b[2;36m \u001b[0m\u001b[34mINFO    \u001b[0m \u001b[1m[\u001b[0m_client.py:\u001b[1;36m1773\u001b[0m\u001b[1m]\u001b[0m >> HTTP Request: \u001b[1;33mPOST\u001b[0m                                \u001b]8;id=942757;file:///Users/anpigon/Library/Caches/pypoetry/virtualenvs/autorag-tutorial-ko-GYvpjDIx-py3.11/lib/python3.11/site-packages/httpx/_client.py\u001b\\\u001b[2m_client.py\u001b[0m\u001b]8;;\u001b\\\u001b[2m:\u001b[0m\u001b]8;id=781373;file:///Users/anpigon/Library/Caches/pypoetry/virtualenvs/autorag-tutorial-ko-GYvpjDIx-py3.11/lib/python3.11/site-packages/httpx/_client.py#1773\u001b\\\u001b[2m1773\u001b[0m\u001b]8;;\u001b\\\n",
       "\u001b[2;36m                    \u001b[0m         \u001b[4;94mhttp://localhost:11434/api/generate\u001b[0m \u001b[32m\"HTTP/1.1 200 OK\"\u001b[0m                  \u001b[2m               \u001b[0m\n"
      ]
     },
     "metadata": {},
     "output_type": "display_data"
    },
    {
     "data": {
      "text/html": [
       "<pre style=\"white-space:pre;overflow-x:auto;line-height:normal;font-family:Menlo,'DejaVu Sans Mono',consolas,'Courier New',monospace\"><span style=\"color: #7fbfbf; text-decoration-color: #7fbfbf\">[07/12/24 18:17:10] </span><span style=\"color: #000080; text-decoration-color: #000080\">INFO    </span> <span style=\"font-weight: bold\">[</span>_client.py:<span style=\"color: #008080; text-decoration-color: #008080; font-weight: bold\">1773</span><span style=\"font-weight: bold\">]</span> &gt;&gt; HTTP Request: <span style=\"color: #808000; text-decoration-color: #808000; font-weight: bold\">POST</span>                                <a href=\"file:///Users/anpigon/Library/Caches/pypoetry/virtualenvs/autorag-tutorial-ko-GYvpjDIx-py3.11/lib/python3.11/site-packages/httpx/_client.py\" target=\"_blank\"><span style=\"color: #7f7f7f; text-decoration-color: #7f7f7f\">_client.py</span></a><span style=\"color: #7f7f7f; text-decoration-color: #7f7f7f\">:</span><a href=\"file:///Users/anpigon/Library/Caches/pypoetry/virtualenvs/autorag-tutorial-ko-GYvpjDIx-py3.11/lib/python3.11/site-packages/httpx/_client.py#1773\" target=\"_blank\"><span style=\"color: #7f7f7f; text-decoration-color: #7f7f7f\">1773</span></a>\n",
       "<span style=\"color: #7fbfbf; text-decoration-color: #7fbfbf\">                    </span>         <span style=\"color: #0000ff; text-decoration-color: #0000ff; text-decoration: underline\">http://localhost:11434/api/generate</span> <span style=\"color: #008000; text-decoration-color: #008000\">\"HTTP/1.1 200 OK\"</span>                  <span style=\"color: #7f7f7f; text-decoration-color: #7f7f7f\">               </span>\n",
       "</pre>\n"
      ],
      "text/plain": [
       "\u001b[2;36m[07/12/24 18:17:10]\u001b[0m\u001b[2;36m \u001b[0m\u001b[34mINFO    \u001b[0m \u001b[1m[\u001b[0m_client.py:\u001b[1;36m1773\u001b[0m\u001b[1m]\u001b[0m >> HTTP Request: \u001b[1;33mPOST\u001b[0m                                \u001b]8;id=686075;file:///Users/anpigon/Library/Caches/pypoetry/virtualenvs/autorag-tutorial-ko-GYvpjDIx-py3.11/lib/python3.11/site-packages/httpx/_client.py\u001b\\\u001b[2m_client.py\u001b[0m\u001b]8;;\u001b\\\u001b[2m:\u001b[0m\u001b]8;id=246464;file:///Users/anpigon/Library/Caches/pypoetry/virtualenvs/autorag-tutorial-ko-GYvpjDIx-py3.11/lib/python3.11/site-packages/httpx/_client.py#1773\u001b\\\u001b[2m1773\u001b[0m\u001b]8;;\u001b\\\n",
       "\u001b[2;36m                    \u001b[0m         \u001b[4;94mhttp://localhost:11434/api/generate\u001b[0m \u001b[32m\"HTTP/1.1 200 OK\"\u001b[0m                  \u001b[2m               \u001b[0m\n"
      ]
     },
     "metadata": {},
     "output_type": "display_data"
    },
    {
     "data": {
      "text/html": [
       "<pre style=\"white-space:pre;overflow-x:auto;line-height:normal;font-family:Menlo,'DejaVu Sans Mono',consolas,'Courier New',monospace\"><span style=\"color: #7fbfbf; text-decoration-color: #7fbfbf\">[07/12/24 18:17:24] </span><span style=\"color: #000080; text-decoration-color: #000080\">INFO    </span> <span style=\"font-weight: bold\">[</span>_client.py:<span style=\"color: #008080; text-decoration-color: #008080; font-weight: bold\">1773</span><span style=\"font-weight: bold\">]</span> &gt;&gt; HTTP Request: <span style=\"color: #808000; text-decoration-color: #808000; font-weight: bold\">POST</span>                                <a href=\"file:///Users/anpigon/Library/Caches/pypoetry/virtualenvs/autorag-tutorial-ko-GYvpjDIx-py3.11/lib/python3.11/site-packages/httpx/_client.py\" target=\"_blank\"><span style=\"color: #7f7f7f; text-decoration-color: #7f7f7f\">_client.py</span></a><span style=\"color: #7f7f7f; text-decoration-color: #7f7f7f\">:</span><a href=\"file:///Users/anpigon/Library/Caches/pypoetry/virtualenvs/autorag-tutorial-ko-GYvpjDIx-py3.11/lib/python3.11/site-packages/httpx/_client.py#1773\" target=\"_blank\"><span style=\"color: #7f7f7f; text-decoration-color: #7f7f7f\">1773</span></a>\n",
       "<span style=\"color: #7fbfbf; text-decoration-color: #7fbfbf\">                    </span>         <span style=\"color: #0000ff; text-decoration-color: #0000ff; text-decoration: underline\">http://localhost:11434/api/generate</span> <span style=\"color: #008000; text-decoration-color: #008000\">\"HTTP/1.1 200 OK\"</span>                  <span style=\"color: #7f7f7f; text-decoration-color: #7f7f7f\">               </span>\n",
       "</pre>\n"
      ],
      "text/plain": [
       "\u001b[2;36m[07/12/24 18:17:24]\u001b[0m\u001b[2;36m \u001b[0m\u001b[34mINFO    \u001b[0m \u001b[1m[\u001b[0m_client.py:\u001b[1;36m1773\u001b[0m\u001b[1m]\u001b[0m >> HTTP Request: \u001b[1;33mPOST\u001b[0m                                \u001b]8;id=533690;file:///Users/anpigon/Library/Caches/pypoetry/virtualenvs/autorag-tutorial-ko-GYvpjDIx-py3.11/lib/python3.11/site-packages/httpx/_client.py\u001b\\\u001b[2m_client.py\u001b[0m\u001b]8;;\u001b\\\u001b[2m:\u001b[0m\u001b]8;id=8117;file:///Users/anpigon/Library/Caches/pypoetry/virtualenvs/autorag-tutorial-ko-GYvpjDIx-py3.11/lib/python3.11/site-packages/httpx/_client.py#1773\u001b\\\u001b[2m1773\u001b[0m\u001b]8;;\u001b\\\n",
       "\u001b[2;36m                    \u001b[0m         \u001b[4;94mhttp://localhost:11434/api/generate\u001b[0m \u001b[32m\"HTTP/1.1 200 OK\"\u001b[0m                  \u001b[2m               \u001b[0m\n"
      ]
     },
     "metadata": {},
     "output_type": "display_data"
    },
    {
     "data": {
      "text/html": [
       "<pre style=\"white-space:pre;overflow-x:auto;line-height:normal;font-family:Menlo,'DejaVu Sans Mono',consolas,'Courier New',monospace\"><span style=\"color: #7fbfbf; text-decoration-color: #7fbfbf\">[07/12/24 18:17:31] </span><span style=\"color: #000080; text-decoration-color: #000080\">INFO    </span> <span style=\"font-weight: bold\">[</span>_client.py:<span style=\"color: #008080; text-decoration-color: #008080; font-weight: bold\">1773</span><span style=\"font-weight: bold\">]</span> &gt;&gt; HTTP Request: <span style=\"color: #808000; text-decoration-color: #808000; font-weight: bold\">POST</span>                                <a href=\"file:///Users/anpigon/Library/Caches/pypoetry/virtualenvs/autorag-tutorial-ko-GYvpjDIx-py3.11/lib/python3.11/site-packages/httpx/_client.py\" target=\"_blank\"><span style=\"color: #7f7f7f; text-decoration-color: #7f7f7f\">_client.py</span></a><span style=\"color: #7f7f7f; text-decoration-color: #7f7f7f\">:</span><a href=\"file:///Users/anpigon/Library/Caches/pypoetry/virtualenvs/autorag-tutorial-ko-GYvpjDIx-py3.11/lib/python3.11/site-packages/httpx/_client.py#1773\" target=\"_blank\"><span style=\"color: #7f7f7f; text-decoration-color: #7f7f7f\">1773</span></a>\n",
       "<span style=\"color: #7fbfbf; text-decoration-color: #7fbfbf\">                    </span>         <span style=\"color: #0000ff; text-decoration-color: #0000ff; text-decoration: underline\">http://localhost:11434/api/generate</span> <span style=\"color: #008000; text-decoration-color: #008000\">\"HTTP/1.1 200 OK\"</span>                  <span style=\"color: #7f7f7f; text-decoration-color: #7f7f7f\">               </span>\n",
       "</pre>\n"
      ],
      "text/plain": [
       "\u001b[2;36m[07/12/24 18:17:31]\u001b[0m\u001b[2;36m \u001b[0m\u001b[34mINFO    \u001b[0m \u001b[1m[\u001b[0m_client.py:\u001b[1;36m1773\u001b[0m\u001b[1m]\u001b[0m >> HTTP Request: \u001b[1;33mPOST\u001b[0m                                \u001b]8;id=651785;file:///Users/anpigon/Library/Caches/pypoetry/virtualenvs/autorag-tutorial-ko-GYvpjDIx-py3.11/lib/python3.11/site-packages/httpx/_client.py\u001b\\\u001b[2m_client.py\u001b[0m\u001b]8;;\u001b\\\u001b[2m:\u001b[0m\u001b]8;id=901706;file:///Users/anpigon/Library/Caches/pypoetry/virtualenvs/autorag-tutorial-ko-GYvpjDIx-py3.11/lib/python3.11/site-packages/httpx/_client.py#1773\u001b\\\u001b[2m1773\u001b[0m\u001b]8;;\u001b\\\n",
       "\u001b[2;36m                    \u001b[0m         \u001b[4;94mhttp://localhost:11434/api/generate\u001b[0m \u001b[32m\"HTTP/1.1 200 OK\"\u001b[0m                  \u001b[2m               \u001b[0m\n"
      ]
     },
     "metadata": {},
     "output_type": "display_data"
    },
    {
     "data": {
      "text/html": [
       "<pre style=\"white-space:pre;overflow-x:auto;line-height:normal;font-family:Menlo,'DejaVu Sans Mono',consolas,'Courier New',monospace\"><span style=\"color: #7fbfbf; text-decoration-color: #7fbfbf\">[07/12/24 18:17:47] </span><span style=\"color: #000080; text-decoration-color: #000080\">INFO    </span> <span style=\"font-weight: bold\">[</span>_client.py:<span style=\"color: #008080; text-decoration-color: #008080; font-weight: bold\">1773</span><span style=\"font-weight: bold\">]</span> &gt;&gt; HTTP Request: <span style=\"color: #808000; text-decoration-color: #808000; font-weight: bold\">POST</span>                                <a href=\"file:///Users/anpigon/Library/Caches/pypoetry/virtualenvs/autorag-tutorial-ko-GYvpjDIx-py3.11/lib/python3.11/site-packages/httpx/_client.py\" target=\"_blank\"><span style=\"color: #7f7f7f; text-decoration-color: #7f7f7f\">_client.py</span></a><span style=\"color: #7f7f7f; text-decoration-color: #7f7f7f\">:</span><a href=\"file:///Users/anpigon/Library/Caches/pypoetry/virtualenvs/autorag-tutorial-ko-GYvpjDIx-py3.11/lib/python3.11/site-packages/httpx/_client.py#1773\" target=\"_blank\"><span style=\"color: #7f7f7f; text-decoration-color: #7f7f7f\">1773</span></a>\n",
       "<span style=\"color: #7fbfbf; text-decoration-color: #7fbfbf\">                    </span>         <span style=\"color: #0000ff; text-decoration-color: #0000ff; text-decoration: underline\">http://localhost:11434/api/generate</span> <span style=\"color: #008000; text-decoration-color: #008000\">\"HTTP/1.1 200 OK\"</span>                  <span style=\"color: #7f7f7f; text-decoration-color: #7f7f7f\">               </span>\n",
       "</pre>\n"
      ],
      "text/plain": [
       "\u001b[2;36m[07/12/24 18:17:47]\u001b[0m\u001b[2;36m \u001b[0m\u001b[34mINFO    \u001b[0m \u001b[1m[\u001b[0m_client.py:\u001b[1;36m1773\u001b[0m\u001b[1m]\u001b[0m >> HTTP Request: \u001b[1;33mPOST\u001b[0m                                \u001b]8;id=783505;file:///Users/anpigon/Library/Caches/pypoetry/virtualenvs/autorag-tutorial-ko-GYvpjDIx-py3.11/lib/python3.11/site-packages/httpx/_client.py\u001b\\\u001b[2m_client.py\u001b[0m\u001b]8;;\u001b\\\u001b[2m:\u001b[0m\u001b]8;id=505875;file:///Users/anpigon/Library/Caches/pypoetry/virtualenvs/autorag-tutorial-ko-GYvpjDIx-py3.11/lib/python3.11/site-packages/httpx/_client.py#1773\u001b\\\u001b[2m1773\u001b[0m\u001b]8;;\u001b\\\n",
       "\u001b[2;36m                    \u001b[0m         \u001b[4;94mhttp://localhost:11434/api/generate\u001b[0m \u001b[32m\"HTTP/1.1 200 OK\"\u001b[0m                  \u001b[2m               \u001b[0m\n"
      ]
     },
     "metadata": {},
     "output_type": "display_data"
    },
    {
     "data": {
      "text/html": [
       "<pre style=\"white-space:pre;overflow-x:auto;line-height:normal;font-family:Menlo,'DejaVu Sans Mono',consolas,'Courier New',monospace\"><span style=\"color: #7fbfbf; text-decoration-color: #7fbfbf\">[07/12/24 18:18:05] </span><span style=\"color: #000080; text-decoration-color: #000080\">INFO    </span> <span style=\"font-weight: bold\">[</span>_client.py:<span style=\"color: #008080; text-decoration-color: #008080; font-weight: bold\">1773</span><span style=\"font-weight: bold\">]</span> &gt;&gt; HTTP Request: <span style=\"color: #808000; text-decoration-color: #808000; font-weight: bold\">POST</span>                                <a href=\"file:///Users/anpigon/Library/Caches/pypoetry/virtualenvs/autorag-tutorial-ko-GYvpjDIx-py3.11/lib/python3.11/site-packages/httpx/_client.py\" target=\"_blank\"><span style=\"color: #7f7f7f; text-decoration-color: #7f7f7f\">_client.py</span></a><span style=\"color: #7f7f7f; text-decoration-color: #7f7f7f\">:</span><a href=\"file:///Users/anpigon/Library/Caches/pypoetry/virtualenvs/autorag-tutorial-ko-GYvpjDIx-py3.11/lib/python3.11/site-packages/httpx/_client.py#1773\" target=\"_blank\"><span style=\"color: #7f7f7f; text-decoration-color: #7f7f7f\">1773</span></a>\n",
       "<span style=\"color: #7fbfbf; text-decoration-color: #7fbfbf\">                    </span>         <span style=\"color: #0000ff; text-decoration-color: #0000ff; text-decoration: underline\">http://localhost:11434/api/generate</span> <span style=\"color: #008000; text-decoration-color: #008000\">\"HTTP/1.1 200 OK\"</span>                  <span style=\"color: #7f7f7f; text-decoration-color: #7f7f7f\">               </span>\n",
       "</pre>\n"
      ],
      "text/plain": [
       "\u001b[2;36m[07/12/24 18:18:05]\u001b[0m\u001b[2;36m \u001b[0m\u001b[34mINFO    \u001b[0m \u001b[1m[\u001b[0m_client.py:\u001b[1;36m1773\u001b[0m\u001b[1m]\u001b[0m >> HTTP Request: \u001b[1;33mPOST\u001b[0m                                \u001b]8;id=342601;file:///Users/anpigon/Library/Caches/pypoetry/virtualenvs/autorag-tutorial-ko-GYvpjDIx-py3.11/lib/python3.11/site-packages/httpx/_client.py\u001b\\\u001b[2m_client.py\u001b[0m\u001b]8;;\u001b\\\u001b[2m:\u001b[0m\u001b]8;id=734308;file:///Users/anpigon/Library/Caches/pypoetry/virtualenvs/autorag-tutorial-ko-GYvpjDIx-py3.11/lib/python3.11/site-packages/httpx/_client.py#1773\u001b\\\u001b[2m1773\u001b[0m\u001b]8;;\u001b\\\n",
       "\u001b[2;36m                    \u001b[0m         \u001b[4;94mhttp://localhost:11434/api/generate\u001b[0m \u001b[32m\"HTTP/1.1 200 OK\"\u001b[0m                  \u001b[2m               \u001b[0m\n"
      ]
     },
     "metadata": {},
     "output_type": "display_data"
    },
    {
     "data": {
      "text/html": [
       "<pre style=\"white-space:pre;overflow-x:auto;line-height:normal;font-family:Menlo,'DejaVu Sans Mono',consolas,'Courier New',monospace\"><span style=\"color: #7fbfbf; text-decoration-color: #7fbfbf\">[07/12/24 18:18:13] </span><span style=\"color: #000080; text-decoration-color: #000080\">INFO    </span> <span style=\"font-weight: bold\">[</span>_client.py:<span style=\"color: #008080; text-decoration-color: #008080; font-weight: bold\">1773</span><span style=\"font-weight: bold\">]</span> &gt;&gt; HTTP Request: <span style=\"color: #808000; text-decoration-color: #808000; font-weight: bold\">POST</span>                                <a href=\"file:///Users/anpigon/Library/Caches/pypoetry/virtualenvs/autorag-tutorial-ko-GYvpjDIx-py3.11/lib/python3.11/site-packages/httpx/_client.py\" target=\"_blank\"><span style=\"color: #7f7f7f; text-decoration-color: #7f7f7f\">_client.py</span></a><span style=\"color: #7f7f7f; text-decoration-color: #7f7f7f\">:</span><a href=\"file:///Users/anpigon/Library/Caches/pypoetry/virtualenvs/autorag-tutorial-ko-GYvpjDIx-py3.11/lib/python3.11/site-packages/httpx/_client.py#1773\" target=\"_blank\"><span style=\"color: #7f7f7f; text-decoration-color: #7f7f7f\">1773</span></a>\n",
       "<span style=\"color: #7fbfbf; text-decoration-color: #7fbfbf\">                    </span>         <span style=\"color: #0000ff; text-decoration-color: #0000ff; text-decoration: underline\">http://localhost:11434/api/generate</span> <span style=\"color: #008000; text-decoration-color: #008000\">\"HTTP/1.1 200 OK\"</span>                  <span style=\"color: #7f7f7f; text-decoration-color: #7f7f7f\">               </span>\n",
       "</pre>\n"
      ],
      "text/plain": [
       "\u001b[2;36m[07/12/24 18:18:13]\u001b[0m\u001b[2;36m \u001b[0m\u001b[34mINFO    \u001b[0m \u001b[1m[\u001b[0m_client.py:\u001b[1;36m1773\u001b[0m\u001b[1m]\u001b[0m >> HTTP Request: \u001b[1;33mPOST\u001b[0m                                \u001b]8;id=344997;file:///Users/anpigon/Library/Caches/pypoetry/virtualenvs/autorag-tutorial-ko-GYvpjDIx-py3.11/lib/python3.11/site-packages/httpx/_client.py\u001b\\\u001b[2m_client.py\u001b[0m\u001b]8;;\u001b\\\u001b[2m:\u001b[0m\u001b]8;id=18001;file:///Users/anpigon/Library/Caches/pypoetry/virtualenvs/autorag-tutorial-ko-GYvpjDIx-py3.11/lib/python3.11/site-packages/httpx/_client.py#1773\u001b\\\u001b[2m1773\u001b[0m\u001b]8;;\u001b\\\n",
       "\u001b[2;36m                    \u001b[0m         \u001b[4;94mhttp://localhost:11434/api/generate\u001b[0m \u001b[32m\"HTTP/1.1 200 OK\"\u001b[0m                  \u001b[2m               \u001b[0m\n"
      ]
     },
     "metadata": {},
     "output_type": "display_data"
    },
    {
     "data": {
      "text/html": [
       "<pre style=\"white-space:pre;overflow-x:auto;line-height:normal;font-family:Menlo,'DejaVu Sans Mono',consolas,'Courier New',monospace\"><span style=\"color: #7fbfbf; text-decoration-color: #7fbfbf\">[07/12/24 18:18:39] </span><span style=\"color: #000080; text-decoration-color: #000080\">INFO    </span> <span style=\"font-weight: bold\">[</span>_client.py:<span style=\"color: #008080; text-decoration-color: #008080; font-weight: bold\">1773</span><span style=\"font-weight: bold\">]</span> &gt;&gt; HTTP Request: <span style=\"color: #808000; text-decoration-color: #808000; font-weight: bold\">POST</span>                                <a href=\"file:///Users/anpigon/Library/Caches/pypoetry/virtualenvs/autorag-tutorial-ko-GYvpjDIx-py3.11/lib/python3.11/site-packages/httpx/_client.py\" target=\"_blank\"><span style=\"color: #7f7f7f; text-decoration-color: #7f7f7f\">_client.py</span></a><span style=\"color: #7f7f7f; text-decoration-color: #7f7f7f\">:</span><a href=\"file:///Users/anpigon/Library/Caches/pypoetry/virtualenvs/autorag-tutorial-ko-GYvpjDIx-py3.11/lib/python3.11/site-packages/httpx/_client.py#1773\" target=\"_blank\"><span style=\"color: #7f7f7f; text-decoration-color: #7f7f7f\">1773</span></a>\n",
       "<span style=\"color: #7fbfbf; text-decoration-color: #7fbfbf\">                    </span>         <span style=\"color: #0000ff; text-decoration-color: #0000ff; text-decoration: underline\">http://localhost:11434/api/generate</span> <span style=\"color: #008000; text-decoration-color: #008000\">\"HTTP/1.1 200 OK\"</span>                  <span style=\"color: #7f7f7f; text-decoration-color: #7f7f7f\">               </span>\n",
       "</pre>\n"
      ],
      "text/plain": [
       "\u001b[2;36m[07/12/24 18:18:39]\u001b[0m\u001b[2;36m \u001b[0m\u001b[34mINFO    \u001b[0m \u001b[1m[\u001b[0m_client.py:\u001b[1;36m1773\u001b[0m\u001b[1m]\u001b[0m >> HTTP Request: \u001b[1;33mPOST\u001b[0m                                \u001b]8;id=310016;file:///Users/anpigon/Library/Caches/pypoetry/virtualenvs/autorag-tutorial-ko-GYvpjDIx-py3.11/lib/python3.11/site-packages/httpx/_client.py\u001b\\\u001b[2m_client.py\u001b[0m\u001b]8;;\u001b\\\u001b[2m:\u001b[0m\u001b]8;id=768069;file:///Users/anpigon/Library/Caches/pypoetry/virtualenvs/autorag-tutorial-ko-GYvpjDIx-py3.11/lib/python3.11/site-packages/httpx/_client.py#1773\u001b\\\u001b[2m1773\u001b[0m\u001b]8;;\u001b\\\n",
       "\u001b[2;36m                    \u001b[0m         \u001b[4;94mhttp://localhost:11434/api/generate\u001b[0m \u001b[32m\"HTTP/1.1 200 OK\"\u001b[0m                  \u001b[2m               \u001b[0m\n"
      ]
     },
     "metadata": {},
     "output_type": "display_data"
    },
    {
     "data": {
      "text/html": [
       "<pre style=\"white-space:pre;overflow-x:auto;line-height:normal;font-family:Menlo,'DejaVu Sans Mono',consolas,'Courier New',monospace\"><span style=\"color: #7fbfbf; text-decoration-color: #7fbfbf\">[07/12/24 18:18:49] </span><span style=\"color: #000080; text-decoration-color: #000080\">INFO    </span> <span style=\"font-weight: bold\">[</span>_client.py:<span style=\"color: #008080; text-decoration-color: #008080; font-weight: bold\">1773</span><span style=\"font-weight: bold\">]</span> &gt;&gt; HTTP Request: <span style=\"color: #808000; text-decoration-color: #808000; font-weight: bold\">POST</span>                                <a href=\"file:///Users/anpigon/Library/Caches/pypoetry/virtualenvs/autorag-tutorial-ko-GYvpjDIx-py3.11/lib/python3.11/site-packages/httpx/_client.py\" target=\"_blank\"><span style=\"color: #7f7f7f; text-decoration-color: #7f7f7f\">_client.py</span></a><span style=\"color: #7f7f7f; text-decoration-color: #7f7f7f\">:</span><a href=\"file:///Users/anpigon/Library/Caches/pypoetry/virtualenvs/autorag-tutorial-ko-GYvpjDIx-py3.11/lib/python3.11/site-packages/httpx/_client.py#1773\" target=\"_blank\"><span style=\"color: #7f7f7f; text-decoration-color: #7f7f7f\">1773</span></a>\n",
       "<span style=\"color: #7fbfbf; text-decoration-color: #7fbfbf\">                    </span>         <span style=\"color: #0000ff; text-decoration-color: #0000ff; text-decoration: underline\">http://localhost:11434/api/generate</span> <span style=\"color: #008000; text-decoration-color: #008000\">\"HTTP/1.1 200 OK\"</span>                  <span style=\"color: #7f7f7f; text-decoration-color: #7f7f7f\">               </span>\n",
       "</pre>\n"
      ],
      "text/plain": [
       "\u001b[2;36m[07/12/24 18:18:49]\u001b[0m\u001b[2;36m \u001b[0m\u001b[34mINFO    \u001b[0m \u001b[1m[\u001b[0m_client.py:\u001b[1;36m1773\u001b[0m\u001b[1m]\u001b[0m >> HTTP Request: \u001b[1;33mPOST\u001b[0m                                \u001b]8;id=840573;file:///Users/anpigon/Library/Caches/pypoetry/virtualenvs/autorag-tutorial-ko-GYvpjDIx-py3.11/lib/python3.11/site-packages/httpx/_client.py\u001b\\\u001b[2m_client.py\u001b[0m\u001b]8;;\u001b\\\u001b[2m:\u001b[0m\u001b]8;id=2329;file:///Users/anpigon/Library/Caches/pypoetry/virtualenvs/autorag-tutorial-ko-GYvpjDIx-py3.11/lib/python3.11/site-packages/httpx/_client.py#1773\u001b\\\u001b[2m1773\u001b[0m\u001b]8;;\u001b\\\n",
       "\u001b[2;36m                    \u001b[0m         \u001b[4;94mhttp://localhost:11434/api/generate\u001b[0m \u001b[32m\"HTTP/1.1 200 OK\"\u001b[0m                  \u001b[2m               \u001b[0m\n"
      ]
     },
     "metadata": {},
     "output_type": "display_data"
    },
    {
     "data": {
      "text/html": [
       "<pre style=\"white-space:pre;overflow-x:auto;line-height:normal;font-family:Menlo,'DejaVu Sans Mono',consolas,'Courier New',monospace\"><span style=\"color: #7fbfbf; text-decoration-color: #7fbfbf\">[07/12/24 18:19:02] </span><span style=\"color: #000080; text-decoration-color: #000080\">INFO    </span> <span style=\"font-weight: bold\">[</span>_client.py:<span style=\"color: #008080; text-decoration-color: #008080; font-weight: bold\">1773</span><span style=\"font-weight: bold\">]</span> &gt;&gt; HTTP Request: <span style=\"color: #808000; text-decoration-color: #808000; font-weight: bold\">POST</span>                                <a href=\"file:///Users/anpigon/Library/Caches/pypoetry/virtualenvs/autorag-tutorial-ko-GYvpjDIx-py3.11/lib/python3.11/site-packages/httpx/_client.py\" target=\"_blank\"><span style=\"color: #7f7f7f; text-decoration-color: #7f7f7f\">_client.py</span></a><span style=\"color: #7f7f7f; text-decoration-color: #7f7f7f\">:</span><a href=\"file:///Users/anpigon/Library/Caches/pypoetry/virtualenvs/autorag-tutorial-ko-GYvpjDIx-py3.11/lib/python3.11/site-packages/httpx/_client.py#1773\" target=\"_blank\"><span style=\"color: #7f7f7f; text-decoration-color: #7f7f7f\">1773</span></a>\n",
       "<span style=\"color: #7fbfbf; text-decoration-color: #7fbfbf\">                    </span>         <span style=\"color: #0000ff; text-decoration-color: #0000ff; text-decoration: underline\">http://localhost:11434/api/generate</span> <span style=\"color: #008000; text-decoration-color: #008000\">\"HTTP/1.1 200 OK\"</span>                  <span style=\"color: #7f7f7f; text-decoration-color: #7f7f7f\">               </span>\n",
       "</pre>\n"
      ],
      "text/plain": [
       "\u001b[2;36m[07/12/24 18:19:02]\u001b[0m\u001b[2;36m \u001b[0m\u001b[34mINFO    \u001b[0m \u001b[1m[\u001b[0m_client.py:\u001b[1;36m1773\u001b[0m\u001b[1m]\u001b[0m >> HTTP Request: \u001b[1;33mPOST\u001b[0m                                \u001b]8;id=819125;file:///Users/anpigon/Library/Caches/pypoetry/virtualenvs/autorag-tutorial-ko-GYvpjDIx-py3.11/lib/python3.11/site-packages/httpx/_client.py\u001b\\\u001b[2m_client.py\u001b[0m\u001b]8;;\u001b\\\u001b[2m:\u001b[0m\u001b]8;id=566272;file:///Users/anpigon/Library/Caches/pypoetry/virtualenvs/autorag-tutorial-ko-GYvpjDIx-py3.11/lib/python3.11/site-packages/httpx/_client.py#1773\u001b\\\u001b[2m1773\u001b[0m\u001b]8;;\u001b\\\n",
       "\u001b[2;36m                    \u001b[0m         \u001b[4;94mhttp://localhost:11434/api/generate\u001b[0m \u001b[32m\"HTTP/1.1 200 OK\"\u001b[0m                  \u001b[2m               \u001b[0m\n"
      ]
     },
     "metadata": {},
     "output_type": "display_data"
    },
    {
     "data": {
      "text/html": [
       "<pre style=\"white-space:pre;overflow-x:auto;line-height:normal;font-family:Menlo,'DejaVu Sans Mono',consolas,'Courier New',monospace\"><span style=\"color: #7fbfbf; text-decoration-color: #7fbfbf\">[07/12/24 18:19:16] </span><span style=\"color: #000080; text-decoration-color: #000080\">INFO    </span> <span style=\"font-weight: bold\">[</span>_client.py:<span style=\"color: #008080; text-decoration-color: #008080; font-weight: bold\">1773</span><span style=\"font-weight: bold\">]</span> &gt;&gt; HTTP Request: <span style=\"color: #808000; text-decoration-color: #808000; font-weight: bold\">POST</span>                                <a href=\"file:///Users/anpigon/Library/Caches/pypoetry/virtualenvs/autorag-tutorial-ko-GYvpjDIx-py3.11/lib/python3.11/site-packages/httpx/_client.py\" target=\"_blank\"><span style=\"color: #7f7f7f; text-decoration-color: #7f7f7f\">_client.py</span></a><span style=\"color: #7f7f7f; text-decoration-color: #7f7f7f\">:</span><a href=\"file:///Users/anpigon/Library/Caches/pypoetry/virtualenvs/autorag-tutorial-ko-GYvpjDIx-py3.11/lib/python3.11/site-packages/httpx/_client.py#1773\" target=\"_blank\"><span style=\"color: #7f7f7f; text-decoration-color: #7f7f7f\">1773</span></a>\n",
       "<span style=\"color: #7fbfbf; text-decoration-color: #7fbfbf\">                    </span>         <span style=\"color: #0000ff; text-decoration-color: #0000ff; text-decoration: underline\">http://localhost:11434/api/generate</span> <span style=\"color: #008000; text-decoration-color: #008000\">\"HTTP/1.1 200 OK\"</span>                  <span style=\"color: #7f7f7f; text-decoration-color: #7f7f7f\">               </span>\n",
       "</pre>\n"
      ],
      "text/plain": [
       "\u001b[2;36m[07/12/24 18:19:16]\u001b[0m\u001b[2;36m \u001b[0m\u001b[34mINFO    \u001b[0m \u001b[1m[\u001b[0m_client.py:\u001b[1;36m1773\u001b[0m\u001b[1m]\u001b[0m >> HTTP Request: \u001b[1;33mPOST\u001b[0m                                \u001b]8;id=874147;file:///Users/anpigon/Library/Caches/pypoetry/virtualenvs/autorag-tutorial-ko-GYvpjDIx-py3.11/lib/python3.11/site-packages/httpx/_client.py\u001b\\\u001b[2m_client.py\u001b[0m\u001b]8;;\u001b\\\u001b[2m:\u001b[0m\u001b]8;id=108153;file:///Users/anpigon/Library/Caches/pypoetry/virtualenvs/autorag-tutorial-ko-GYvpjDIx-py3.11/lib/python3.11/site-packages/httpx/_client.py#1773\u001b\\\u001b[2m1773\u001b[0m\u001b]8;;\u001b\\\n",
       "\u001b[2;36m                    \u001b[0m         \u001b[4;94mhttp://localhost:11434/api/generate\u001b[0m \u001b[32m\"HTTP/1.1 200 OK\"\u001b[0m                  \u001b[2m               \u001b[0m\n"
      ]
     },
     "metadata": {},
     "output_type": "display_data"
    },
    {
     "data": {
      "text/html": [
       "<pre style=\"white-space:pre;overflow-x:auto;line-height:normal;font-family:Menlo,'DejaVu Sans Mono',consolas,'Courier New',monospace\"><span style=\"color: #7fbfbf; text-decoration-color: #7fbfbf\">[07/12/24 18:19:28] </span><span style=\"color: #000080; text-decoration-color: #000080\">INFO    </span> <span style=\"font-weight: bold\">[</span>_client.py:<span style=\"color: #008080; text-decoration-color: #008080; font-weight: bold\">1773</span><span style=\"font-weight: bold\">]</span> &gt;&gt; HTTP Request: <span style=\"color: #808000; text-decoration-color: #808000; font-weight: bold\">POST</span>                                <a href=\"file:///Users/anpigon/Library/Caches/pypoetry/virtualenvs/autorag-tutorial-ko-GYvpjDIx-py3.11/lib/python3.11/site-packages/httpx/_client.py\" target=\"_blank\"><span style=\"color: #7f7f7f; text-decoration-color: #7f7f7f\">_client.py</span></a><span style=\"color: #7f7f7f; text-decoration-color: #7f7f7f\">:</span><a href=\"file:///Users/anpigon/Library/Caches/pypoetry/virtualenvs/autorag-tutorial-ko-GYvpjDIx-py3.11/lib/python3.11/site-packages/httpx/_client.py#1773\" target=\"_blank\"><span style=\"color: #7f7f7f; text-decoration-color: #7f7f7f\">1773</span></a>\n",
       "<span style=\"color: #7fbfbf; text-decoration-color: #7fbfbf\">                    </span>         <span style=\"color: #0000ff; text-decoration-color: #0000ff; text-decoration: underline\">http://localhost:11434/api/generate</span> <span style=\"color: #008000; text-decoration-color: #008000\">\"HTTP/1.1 200 OK\"</span>                  <span style=\"color: #7f7f7f; text-decoration-color: #7f7f7f\">               </span>\n",
       "</pre>\n"
      ],
      "text/plain": [
       "\u001b[2;36m[07/12/24 18:19:28]\u001b[0m\u001b[2;36m \u001b[0m\u001b[34mINFO    \u001b[0m \u001b[1m[\u001b[0m_client.py:\u001b[1;36m1773\u001b[0m\u001b[1m]\u001b[0m >> HTTP Request: \u001b[1;33mPOST\u001b[0m                                \u001b]8;id=223133;file:///Users/anpigon/Library/Caches/pypoetry/virtualenvs/autorag-tutorial-ko-GYvpjDIx-py3.11/lib/python3.11/site-packages/httpx/_client.py\u001b\\\u001b[2m_client.py\u001b[0m\u001b]8;;\u001b\\\u001b[2m:\u001b[0m\u001b]8;id=605022;file:///Users/anpigon/Library/Caches/pypoetry/virtualenvs/autorag-tutorial-ko-GYvpjDIx-py3.11/lib/python3.11/site-packages/httpx/_client.py#1773\u001b\\\u001b[2m1773\u001b[0m\u001b]8;;\u001b\\\n",
       "\u001b[2;36m                    \u001b[0m         \u001b[4;94mhttp://localhost:11434/api/generate\u001b[0m \u001b[32m\"HTTP/1.1 200 OK\"\u001b[0m                  \u001b[2m               \u001b[0m\n"
      ]
     },
     "metadata": {},
     "output_type": "display_data"
    },
    {
     "data": {
      "text/html": [
       "<pre style=\"white-space:pre;overflow-x:auto;line-height:normal;font-family:Menlo,'DejaVu Sans Mono',consolas,'Courier New',monospace\"><span style=\"color: #7fbfbf; text-decoration-color: #7fbfbf\">[07/12/24 18:19:40] </span><span style=\"color: #000080; text-decoration-color: #000080\">INFO    </span> <span style=\"font-weight: bold\">[</span>_client.py:<span style=\"color: #008080; text-decoration-color: #008080; font-weight: bold\">1773</span><span style=\"font-weight: bold\">]</span> &gt;&gt; HTTP Request: <span style=\"color: #808000; text-decoration-color: #808000; font-weight: bold\">POST</span>                                <a href=\"file:///Users/anpigon/Library/Caches/pypoetry/virtualenvs/autorag-tutorial-ko-GYvpjDIx-py3.11/lib/python3.11/site-packages/httpx/_client.py\" target=\"_blank\"><span style=\"color: #7f7f7f; text-decoration-color: #7f7f7f\">_client.py</span></a><span style=\"color: #7f7f7f; text-decoration-color: #7f7f7f\">:</span><a href=\"file:///Users/anpigon/Library/Caches/pypoetry/virtualenvs/autorag-tutorial-ko-GYvpjDIx-py3.11/lib/python3.11/site-packages/httpx/_client.py#1773\" target=\"_blank\"><span style=\"color: #7f7f7f; text-decoration-color: #7f7f7f\">1773</span></a>\n",
       "<span style=\"color: #7fbfbf; text-decoration-color: #7fbfbf\">                    </span>         <span style=\"color: #0000ff; text-decoration-color: #0000ff; text-decoration: underline\">http://localhost:11434/api/generate</span> <span style=\"color: #008000; text-decoration-color: #008000\">\"HTTP/1.1 200 OK\"</span>                  <span style=\"color: #7f7f7f; text-decoration-color: #7f7f7f\">               </span>\n",
       "</pre>\n"
      ],
      "text/plain": [
       "\u001b[2;36m[07/12/24 18:19:40]\u001b[0m\u001b[2;36m \u001b[0m\u001b[34mINFO    \u001b[0m \u001b[1m[\u001b[0m_client.py:\u001b[1;36m1773\u001b[0m\u001b[1m]\u001b[0m >> HTTP Request: \u001b[1;33mPOST\u001b[0m                                \u001b]8;id=791383;file:///Users/anpigon/Library/Caches/pypoetry/virtualenvs/autorag-tutorial-ko-GYvpjDIx-py3.11/lib/python3.11/site-packages/httpx/_client.py\u001b\\\u001b[2m_client.py\u001b[0m\u001b]8;;\u001b\\\u001b[2m:\u001b[0m\u001b]8;id=539741;file:///Users/anpigon/Library/Caches/pypoetry/virtualenvs/autorag-tutorial-ko-GYvpjDIx-py3.11/lib/python3.11/site-packages/httpx/_client.py#1773\u001b\\\u001b[2m1773\u001b[0m\u001b]8;;\u001b\\\n",
       "\u001b[2;36m                    \u001b[0m         \u001b[4;94mhttp://localhost:11434/api/generate\u001b[0m \u001b[32m\"HTTP/1.1 200 OK\"\u001b[0m                  \u001b[2m               \u001b[0m\n"
      ]
     },
     "metadata": {},
     "output_type": "display_data"
    },
    {
     "data": {
      "text/html": [
       "<pre style=\"white-space:pre;overflow-x:auto;line-height:normal;font-family:Menlo,'DejaVu Sans Mono',consolas,'Courier New',monospace\"><span style=\"color: #7fbfbf; text-decoration-color: #7fbfbf\">[07/12/24 18:20:04] </span><span style=\"color: #000080; text-decoration-color: #000080\">INFO    </span> <span style=\"font-weight: bold\">[</span>_client.py:<span style=\"color: #008080; text-decoration-color: #008080; font-weight: bold\">1773</span><span style=\"font-weight: bold\">]</span> &gt;&gt; HTTP Request: <span style=\"color: #808000; text-decoration-color: #808000; font-weight: bold\">POST</span>                                <a href=\"file:///Users/anpigon/Library/Caches/pypoetry/virtualenvs/autorag-tutorial-ko-GYvpjDIx-py3.11/lib/python3.11/site-packages/httpx/_client.py\" target=\"_blank\"><span style=\"color: #7f7f7f; text-decoration-color: #7f7f7f\">_client.py</span></a><span style=\"color: #7f7f7f; text-decoration-color: #7f7f7f\">:</span><a href=\"file:///Users/anpigon/Library/Caches/pypoetry/virtualenvs/autorag-tutorial-ko-GYvpjDIx-py3.11/lib/python3.11/site-packages/httpx/_client.py#1773\" target=\"_blank\"><span style=\"color: #7f7f7f; text-decoration-color: #7f7f7f\">1773</span></a>\n",
       "<span style=\"color: #7fbfbf; text-decoration-color: #7fbfbf\">                    </span>         <span style=\"color: #0000ff; text-decoration-color: #0000ff; text-decoration: underline\">http://localhost:11434/api/generate</span> <span style=\"color: #008000; text-decoration-color: #008000\">\"HTTP/1.1 200 OK\"</span>                  <span style=\"color: #7f7f7f; text-decoration-color: #7f7f7f\">               </span>\n",
       "</pre>\n"
      ],
      "text/plain": [
       "\u001b[2;36m[07/12/24 18:20:04]\u001b[0m\u001b[2;36m \u001b[0m\u001b[34mINFO    \u001b[0m \u001b[1m[\u001b[0m_client.py:\u001b[1;36m1773\u001b[0m\u001b[1m]\u001b[0m >> HTTP Request: \u001b[1;33mPOST\u001b[0m                                \u001b]8;id=46120;file:///Users/anpigon/Library/Caches/pypoetry/virtualenvs/autorag-tutorial-ko-GYvpjDIx-py3.11/lib/python3.11/site-packages/httpx/_client.py\u001b\\\u001b[2m_client.py\u001b[0m\u001b]8;;\u001b\\\u001b[2m:\u001b[0m\u001b]8;id=20352;file:///Users/anpigon/Library/Caches/pypoetry/virtualenvs/autorag-tutorial-ko-GYvpjDIx-py3.11/lib/python3.11/site-packages/httpx/_client.py#1773\u001b\\\u001b[2m1773\u001b[0m\u001b]8;;\u001b\\\n",
       "\u001b[2;36m                    \u001b[0m         \u001b[4;94mhttp://localhost:11434/api/generate\u001b[0m \u001b[32m\"HTTP/1.1 200 OK\"\u001b[0m                  \u001b[2m               \u001b[0m\n"
      ]
     },
     "metadata": {},
     "output_type": "display_data"
    },
    {
     "data": {
      "text/html": [
       "<pre style=\"white-space:pre;overflow-x:auto;line-height:normal;font-family:Menlo,'DejaVu Sans Mono',consolas,'Courier New',monospace\"><span style=\"color: #7fbfbf; text-decoration-color: #7fbfbf\">[07/12/24 18:20:22] </span><span style=\"color: #000080; text-decoration-color: #000080\">INFO    </span> <span style=\"font-weight: bold\">[</span>_client.py:<span style=\"color: #008080; text-decoration-color: #008080; font-weight: bold\">1773</span><span style=\"font-weight: bold\">]</span> &gt;&gt; HTTP Request: <span style=\"color: #808000; text-decoration-color: #808000; font-weight: bold\">POST</span>                                <a href=\"file:///Users/anpigon/Library/Caches/pypoetry/virtualenvs/autorag-tutorial-ko-GYvpjDIx-py3.11/lib/python3.11/site-packages/httpx/_client.py\" target=\"_blank\"><span style=\"color: #7f7f7f; text-decoration-color: #7f7f7f\">_client.py</span></a><span style=\"color: #7f7f7f; text-decoration-color: #7f7f7f\">:</span><a href=\"file:///Users/anpigon/Library/Caches/pypoetry/virtualenvs/autorag-tutorial-ko-GYvpjDIx-py3.11/lib/python3.11/site-packages/httpx/_client.py#1773\" target=\"_blank\"><span style=\"color: #7f7f7f; text-decoration-color: #7f7f7f\">1773</span></a>\n",
       "<span style=\"color: #7fbfbf; text-decoration-color: #7fbfbf\">                    </span>         <span style=\"color: #0000ff; text-decoration-color: #0000ff; text-decoration: underline\">http://localhost:11434/api/generate</span> <span style=\"color: #008000; text-decoration-color: #008000\">\"HTTP/1.1 200 OK\"</span>                  <span style=\"color: #7f7f7f; text-decoration-color: #7f7f7f\">               </span>\n",
       "</pre>\n"
      ],
      "text/plain": [
       "\u001b[2;36m[07/12/24 18:20:22]\u001b[0m\u001b[2;36m \u001b[0m\u001b[34mINFO    \u001b[0m \u001b[1m[\u001b[0m_client.py:\u001b[1;36m1773\u001b[0m\u001b[1m]\u001b[0m >> HTTP Request: \u001b[1;33mPOST\u001b[0m                                \u001b]8;id=641821;file:///Users/anpigon/Library/Caches/pypoetry/virtualenvs/autorag-tutorial-ko-GYvpjDIx-py3.11/lib/python3.11/site-packages/httpx/_client.py\u001b\\\u001b[2m_client.py\u001b[0m\u001b]8;;\u001b\\\u001b[2m:\u001b[0m\u001b]8;id=903972;file:///Users/anpigon/Library/Caches/pypoetry/virtualenvs/autorag-tutorial-ko-GYvpjDIx-py3.11/lib/python3.11/site-packages/httpx/_client.py#1773\u001b\\\u001b[2m1773\u001b[0m\u001b]8;;\u001b\\\n",
       "\u001b[2;36m                    \u001b[0m         \u001b[4;94mhttp://localhost:11434/api/generate\u001b[0m \u001b[32m\"HTTP/1.1 200 OK\"\u001b[0m                  \u001b[2m               \u001b[0m\n"
      ]
     },
     "metadata": {},
     "output_type": "display_data"
    },
    {
     "data": {
      "text/html": [
       "<pre style=\"white-space:pre;overflow-x:auto;line-height:normal;font-family:Menlo,'DejaVu Sans Mono',consolas,'Courier New',monospace\"><span style=\"color: #7fbfbf; text-decoration-color: #7fbfbf\">[07/12/24 18:20:33] </span><span style=\"color: #000080; text-decoration-color: #000080\">INFO    </span> <span style=\"font-weight: bold\">[</span>_client.py:<span style=\"color: #008080; text-decoration-color: #008080; font-weight: bold\">1773</span><span style=\"font-weight: bold\">]</span> &gt;&gt; HTTP Request: <span style=\"color: #808000; text-decoration-color: #808000; font-weight: bold\">POST</span>                                <a href=\"file:///Users/anpigon/Library/Caches/pypoetry/virtualenvs/autorag-tutorial-ko-GYvpjDIx-py3.11/lib/python3.11/site-packages/httpx/_client.py\" target=\"_blank\"><span style=\"color: #7f7f7f; text-decoration-color: #7f7f7f\">_client.py</span></a><span style=\"color: #7f7f7f; text-decoration-color: #7f7f7f\">:</span><a href=\"file:///Users/anpigon/Library/Caches/pypoetry/virtualenvs/autorag-tutorial-ko-GYvpjDIx-py3.11/lib/python3.11/site-packages/httpx/_client.py#1773\" target=\"_blank\"><span style=\"color: #7f7f7f; text-decoration-color: #7f7f7f\">1773</span></a>\n",
       "<span style=\"color: #7fbfbf; text-decoration-color: #7fbfbf\">                    </span>         <span style=\"color: #0000ff; text-decoration-color: #0000ff; text-decoration: underline\">http://localhost:11434/api/generate</span> <span style=\"color: #008000; text-decoration-color: #008000\">\"HTTP/1.1 200 OK\"</span>                  <span style=\"color: #7f7f7f; text-decoration-color: #7f7f7f\">               </span>\n",
       "</pre>\n"
      ],
      "text/plain": [
       "\u001b[2;36m[07/12/24 18:20:33]\u001b[0m\u001b[2;36m \u001b[0m\u001b[34mINFO    \u001b[0m \u001b[1m[\u001b[0m_client.py:\u001b[1;36m1773\u001b[0m\u001b[1m]\u001b[0m >> HTTP Request: \u001b[1;33mPOST\u001b[0m                                \u001b]8;id=750657;file:///Users/anpigon/Library/Caches/pypoetry/virtualenvs/autorag-tutorial-ko-GYvpjDIx-py3.11/lib/python3.11/site-packages/httpx/_client.py\u001b\\\u001b[2m_client.py\u001b[0m\u001b]8;;\u001b\\\u001b[2m:\u001b[0m\u001b]8;id=896830;file:///Users/anpigon/Library/Caches/pypoetry/virtualenvs/autorag-tutorial-ko-GYvpjDIx-py3.11/lib/python3.11/site-packages/httpx/_client.py#1773\u001b\\\u001b[2m1773\u001b[0m\u001b]8;;\u001b\\\n",
       "\u001b[2;36m                    \u001b[0m         \u001b[4;94mhttp://localhost:11434/api/generate\u001b[0m \u001b[32m\"HTTP/1.1 200 OK\"\u001b[0m                  \u001b[2m               \u001b[0m\n"
      ]
     },
     "metadata": {},
     "output_type": "display_data"
    },
    {
     "data": {
      "text/html": [
       "<pre style=\"white-space:pre;overflow-x:auto;line-height:normal;font-family:Menlo,'DejaVu Sans Mono',consolas,'Courier New',monospace\"><span style=\"color: #7fbfbf; text-decoration-color: #7fbfbf\">[07/12/24 18:20:43] </span><span style=\"color: #000080; text-decoration-color: #000080\">INFO    </span> <span style=\"font-weight: bold\">[</span>_client.py:<span style=\"color: #008080; text-decoration-color: #008080; font-weight: bold\">1773</span><span style=\"font-weight: bold\">]</span> &gt;&gt; HTTP Request: <span style=\"color: #808000; text-decoration-color: #808000; font-weight: bold\">POST</span>                                <a href=\"file:///Users/anpigon/Library/Caches/pypoetry/virtualenvs/autorag-tutorial-ko-GYvpjDIx-py3.11/lib/python3.11/site-packages/httpx/_client.py\" target=\"_blank\"><span style=\"color: #7f7f7f; text-decoration-color: #7f7f7f\">_client.py</span></a><span style=\"color: #7f7f7f; text-decoration-color: #7f7f7f\">:</span><a href=\"file:///Users/anpigon/Library/Caches/pypoetry/virtualenvs/autorag-tutorial-ko-GYvpjDIx-py3.11/lib/python3.11/site-packages/httpx/_client.py#1773\" target=\"_blank\"><span style=\"color: #7f7f7f; text-decoration-color: #7f7f7f\">1773</span></a>\n",
       "<span style=\"color: #7fbfbf; text-decoration-color: #7fbfbf\">                    </span>         <span style=\"color: #0000ff; text-decoration-color: #0000ff; text-decoration: underline\">http://localhost:11434/api/generate</span> <span style=\"color: #008000; text-decoration-color: #008000\">\"HTTP/1.1 200 OK\"</span>                  <span style=\"color: #7f7f7f; text-decoration-color: #7f7f7f\">               </span>\n",
       "</pre>\n"
      ],
      "text/plain": [
       "\u001b[2;36m[07/12/24 18:20:43]\u001b[0m\u001b[2;36m \u001b[0m\u001b[34mINFO    \u001b[0m \u001b[1m[\u001b[0m_client.py:\u001b[1;36m1773\u001b[0m\u001b[1m]\u001b[0m >> HTTP Request: \u001b[1;33mPOST\u001b[0m                                \u001b]8;id=445000;file:///Users/anpigon/Library/Caches/pypoetry/virtualenvs/autorag-tutorial-ko-GYvpjDIx-py3.11/lib/python3.11/site-packages/httpx/_client.py\u001b\\\u001b[2m_client.py\u001b[0m\u001b]8;;\u001b\\\u001b[2m:\u001b[0m\u001b]8;id=358444;file:///Users/anpigon/Library/Caches/pypoetry/virtualenvs/autorag-tutorial-ko-GYvpjDIx-py3.11/lib/python3.11/site-packages/httpx/_client.py#1773\u001b\\\u001b[2m1773\u001b[0m\u001b]8;;\u001b\\\n",
       "\u001b[2;36m                    \u001b[0m         \u001b[4;94mhttp://localhost:11434/api/generate\u001b[0m \u001b[32m\"HTTP/1.1 200 OK\"\u001b[0m                  \u001b[2m               \u001b[0m\n"
      ]
     },
     "metadata": {},
     "output_type": "display_data"
    },
    {
     "data": {
      "text/html": [
       "<pre style=\"white-space:pre;overflow-x:auto;line-height:normal;font-family:Menlo,'DejaVu Sans Mono',consolas,'Courier New',monospace\"><span style=\"color: #7fbfbf; text-decoration-color: #7fbfbf\">[07/12/24 18:20:52] </span><span style=\"color: #000080; text-decoration-color: #000080\">INFO    </span> <span style=\"font-weight: bold\">[</span>_client.py:<span style=\"color: #008080; text-decoration-color: #008080; font-weight: bold\">1773</span><span style=\"font-weight: bold\">]</span> &gt;&gt; HTTP Request: <span style=\"color: #808000; text-decoration-color: #808000; font-weight: bold\">POST</span>                                <a href=\"file:///Users/anpigon/Library/Caches/pypoetry/virtualenvs/autorag-tutorial-ko-GYvpjDIx-py3.11/lib/python3.11/site-packages/httpx/_client.py\" target=\"_blank\"><span style=\"color: #7f7f7f; text-decoration-color: #7f7f7f\">_client.py</span></a><span style=\"color: #7f7f7f; text-decoration-color: #7f7f7f\">:</span><a href=\"file:///Users/anpigon/Library/Caches/pypoetry/virtualenvs/autorag-tutorial-ko-GYvpjDIx-py3.11/lib/python3.11/site-packages/httpx/_client.py#1773\" target=\"_blank\"><span style=\"color: #7f7f7f; text-decoration-color: #7f7f7f\">1773</span></a>\n",
       "<span style=\"color: #7fbfbf; text-decoration-color: #7fbfbf\">                    </span>         <span style=\"color: #0000ff; text-decoration-color: #0000ff; text-decoration: underline\">http://localhost:11434/api/generate</span> <span style=\"color: #008000; text-decoration-color: #008000\">\"HTTP/1.1 200 OK\"</span>                  <span style=\"color: #7f7f7f; text-decoration-color: #7f7f7f\">               </span>\n",
       "</pre>\n"
      ],
      "text/plain": [
       "\u001b[2;36m[07/12/24 18:20:52]\u001b[0m\u001b[2;36m \u001b[0m\u001b[34mINFO    \u001b[0m \u001b[1m[\u001b[0m_client.py:\u001b[1;36m1773\u001b[0m\u001b[1m]\u001b[0m >> HTTP Request: \u001b[1;33mPOST\u001b[0m                                \u001b]8;id=882461;file:///Users/anpigon/Library/Caches/pypoetry/virtualenvs/autorag-tutorial-ko-GYvpjDIx-py3.11/lib/python3.11/site-packages/httpx/_client.py\u001b\\\u001b[2m_client.py\u001b[0m\u001b]8;;\u001b\\\u001b[2m:\u001b[0m\u001b]8;id=118120;file:///Users/anpigon/Library/Caches/pypoetry/virtualenvs/autorag-tutorial-ko-GYvpjDIx-py3.11/lib/python3.11/site-packages/httpx/_client.py#1773\u001b\\\u001b[2m1773\u001b[0m\u001b]8;;\u001b\\\n",
       "\u001b[2;36m                    \u001b[0m         \u001b[4;94mhttp://localhost:11434/api/generate\u001b[0m \u001b[32m\"HTTP/1.1 200 OK\"\u001b[0m                  \u001b[2m               \u001b[0m\n"
      ]
     },
     "metadata": {},
     "output_type": "display_data"
    },
    {
     "data": {
      "text/html": [
       "<pre style=\"white-space:pre;overflow-x:auto;line-height:normal;font-family:Menlo,'DejaVu Sans Mono',consolas,'Courier New',monospace\"><span style=\"color: #7fbfbf; text-decoration-color: #7fbfbf\">[07/12/24 18:21:20] </span><span style=\"color: #000080; text-decoration-color: #000080\">INFO    </span> <span style=\"font-weight: bold\">[</span>_client.py:<span style=\"color: #008080; text-decoration-color: #008080; font-weight: bold\">1773</span><span style=\"font-weight: bold\">]</span> &gt;&gt; HTTP Request: <span style=\"color: #808000; text-decoration-color: #808000; font-weight: bold\">POST</span>                                <a href=\"file:///Users/anpigon/Library/Caches/pypoetry/virtualenvs/autorag-tutorial-ko-GYvpjDIx-py3.11/lib/python3.11/site-packages/httpx/_client.py\" target=\"_blank\"><span style=\"color: #7f7f7f; text-decoration-color: #7f7f7f\">_client.py</span></a><span style=\"color: #7f7f7f; text-decoration-color: #7f7f7f\">:</span><a href=\"file:///Users/anpigon/Library/Caches/pypoetry/virtualenvs/autorag-tutorial-ko-GYvpjDIx-py3.11/lib/python3.11/site-packages/httpx/_client.py#1773\" target=\"_blank\"><span style=\"color: #7f7f7f; text-decoration-color: #7f7f7f\">1773</span></a>\n",
       "<span style=\"color: #7fbfbf; text-decoration-color: #7fbfbf\">                    </span>         <span style=\"color: #0000ff; text-decoration-color: #0000ff; text-decoration: underline\">http://localhost:11434/api/generate</span> <span style=\"color: #008000; text-decoration-color: #008000\">\"HTTP/1.1 200 OK\"</span>                  <span style=\"color: #7f7f7f; text-decoration-color: #7f7f7f\">               </span>\n",
       "</pre>\n"
      ],
      "text/plain": [
       "\u001b[2;36m[07/12/24 18:21:20]\u001b[0m\u001b[2;36m \u001b[0m\u001b[34mINFO    \u001b[0m \u001b[1m[\u001b[0m_client.py:\u001b[1;36m1773\u001b[0m\u001b[1m]\u001b[0m >> HTTP Request: \u001b[1;33mPOST\u001b[0m                                \u001b]8;id=155064;file:///Users/anpigon/Library/Caches/pypoetry/virtualenvs/autorag-tutorial-ko-GYvpjDIx-py3.11/lib/python3.11/site-packages/httpx/_client.py\u001b\\\u001b[2m_client.py\u001b[0m\u001b]8;;\u001b\\\u001b[2m:\u001b[0m\u001b]8;id=382495;file:///Users/anpigon/Library/Caches/pypoetry/virtualenvs/autorag-tutorial-ko-GYvpjDIx-py3.11/lib/python3.11/site-packages/httpx/_client.py#1773\u001b\\\u001b[2m1773\u001b[0m\u001b]8;;\u001b\\\n",
       "\u001b[2;36m                    \u001b[0m         \u001b[4;94mhttp://localhost:11434/api/generate\u001b[0m \u001b[32m\"HTTP/1.1 200 OK\"\u001b[0m                  \u001b[2m               \u001b[0m\n"
      ]
     },
     "metadata": {},
     "output_type": "display_data"
    },
    {
     "data": {
      "text/html": [
       "<pre style=\"white-space:pre;overflow-x:auto;line-height:normal;font-family:Menlo,'DejaVu Sans Mono',consolas,'Courier New',monospace\"><span style=\"color: #7fbfbf; text-decoration-color: #7fbfbf\">[07/12/24 18:21:30] </span><span style=\"color: #000080; text-decoration-color: #000080\">INFO    </span> <span style=\"font-weight: bold\">[</span>_client.py:<span style=\"color: #008080; text-decoration-color: #008080; font-weight: bold\">1773</span><span style=\"font-weight: bold\">]</span> &gt;&gt; HTTP Request: <span style=\"color: #808000; text-decoration-color: #808000; font-weight: bold\">POST</span>                                <a href=\"file:///Users/anpigon/Library/Caches/pypoetry/virtualenvs/autorag-tutorial-ko-GYvpjDIx-py3.11/lib/python3.11/site-packages/httpx/_client.py\" target=\"_blank\"><span style=\"color: #7f7f7f; text-decoration-color: #7f7f7f\">_client.py</span></a><span style=\"color: #7f7f7f; text-decoration-color: #7f7f7f\">:</span><a href=\"file:///Users/anpigon/Library/Caches/pypoetry/virtualenvs/autorag-tutorial-ko-GYvpjDIx-py3.11/lib/python3.11/site-packages/httpx/_client.py#1773\" target=\"_blank\"><span style=\"color: #7f7f7f; text-decoration-color: #7f7f7f\">1773</span></a>\n",
       "<span style=\"color: #7fbfbf; text-decoration-color: #7fbfbf\">                    </span>         <span style=\"color: #0000ff; text-decoration-color: #0000ff; text-decoration: underline\">http://localhost:11434/api/generate</span> <span style=\"color: #008000; text-decoration-color: #008000\">\"HTTP/1.1 200 OK\"</span>                  <span style=\"color: #7f7f7f; text-decoration-color: #7f7f7f\">               </span>\n",
       "</pre>\n"
      ],
      "text/plain": [
       "\u001b[2;36m[07/12/24 18:21:30]\u001b[0m\u001b[2;36m \u001b[0m\u001b[34mINFO    \u001b[0m \u001b[1m[\u001b[0m_client.py:\u001b[1;36m1773\u001b[0m\u001b[1m]\u001b[0m >> HTTP Request: \u001b[1;33mPOST\u001b[0m                                \u001b]8;id=392974;file:///Users/anpigon/Library/Caches/pypoetry/virtualenvs/autorag-tutorial-ko-GYvpjDIx-py3.11/lib/python3.11/site-packages/httpx/_client.py\u001b\\\u001b[2m_client.py\u001b[0m\u001b]8;;\u001b\\\u001b[2m:\u001b[0m\u001b]8;id=194671;file:///Users/anpigon/Library/Caches/pypoetry/virtualenvs/autorag-tutorial-ko-GYvpjDIx-py3.11/lib/python3.11/site-packages/httpx/_client.py#1773\u001b\\\u001b[2m1773\u001b[0m\u001b]8;;\u001b\\\n",
       "\u001b[2;36m                    \u001b[0m         \u001b[4;94mhttp://localhost:11434/api/generate\u001b[0m \u001b[32m\"HTTP/1.1 200 OK\"\u001b[0m                  \u001b[2m               \u001b[0m\n"
      ]
     },
     "metadata": {},
     "output_type": "display_data"
    },
    {
     "data": {
      "text/html": [
       "<pre style=\"white-space:pre;overflow-x:auto;line-height:normal;font-family:Menlo,'DejaVu Sans Mono',consolas,'Courier New',monospace\"><span style=\"color: #7fbfbf; text-decoration-color: #7fbfbf\">[07/12/24 18:21:40] </span><span style=\"color: #000080; text-decoration-color: #000080\">INFO    </span> <span style=\"font-weight: bold\">[</span>_client.py:<span style=\"color: #008080; text-decoration-color: #008080; font-weight: bold\">1773</span><span style=\"font-weight: bold\">]</span> &gt;&gt; HTTP Request: <span style=\"color: #808000; text-decoration-color: #808000; font-weight: bold\">POST</span>                                <a href=\"file:///Users/anpigon/Library/Caches/pypoetry/virtualenvs/autorag-tutorial-ko-GYvpjDIx-py3.11/lib/python3.11/site-packages/httpx/_client.py\" target=\"_blank\"><span style=\"color: #7f7f7f; text-decoration-color: #7f7f7f\">_client.py</span></a><span style=\"color: #7f7f7f; text-decoration-color: #7f7f7f\">:</span><a href=\"file:///Users/anpigon/Library/Caches/pypoetry/virtualenvs/autorag-tutorial-ko-GYvpjDIx-py3.11/lib/python3.11/site-packages/httpx/_client.py#1773\" target=\"_blank\"><span style=\"color: #7f7f7f; text-decoration-color: #7f7f7f\">1773</span></a>\n",
       "<span style=\"color: #7fbfbf; text-decoration-color: #7fbfbf\">                    </span>         <span style=\"color: #0000ff; text-decoration-color: #0000ff; text-decoration: underline\">http://localhost:11434/api/generate</span> <span style=\"color: #008000; text-decoration-color: #008000\">\"HTTP/1.1 200 OK\"</span>                  <span style=\"color: #7f7f7f; text-decoration-color: #7f7f7f\">               </span>\n",
       "</pre>\n"
      ],
      "text/plain": [
       "\u001b[2;36m[07/12/24 18:21:40]\u001b[0m\u001b[2;36m \u001b[0m\u001b[34mINFO    \u001b[0m \u001b[1m[\u001b[0m_client.py:\u001b[1;36m1773\u001b[0m\u001b[1m]\u001b[0m >> HTTP Request: \u001b[1;33mPOST\u001b[0m                                \u001b]8;id=689418;file:///Users/anpigon/Library/Caches/pypoetry/virtualenvs/autorag-tutorial-ko-GYvpjDIx-py3.11/lib/python3.11/site-packages/httpx/_client.py\u001b\\\u001b[2m_client.py\u001b[0m\u001b]8;;\u001b\\\u001b[2m:\u001b[0m\u001b]8;id=634071;file:///Users/anpigon/Library/Caches/pypoetry/virtualenvs/autorag-tutorial-ko-GYvpjDIx-py3.11/lib/python3.11/site-packages/httpx/_client.py#1773\u001b\\\u001b[2m1773\u001b[0m\u001b]8;;\u001b\\\n",
       "\u001b[2;36m                    \u001b[0m         \u001b[4;94mhttp://localhost:11434/api/generate\u001b[0m \u001b[32m\"HTTP/1.1 200 OK\"\u001b[0m                  \u001b[2m               \u001b[0m\n"
      ]
     },
     "metadata": {},
     "output_type": "display_data"
    },
    {
     "data": {
      "text/html": [
       "<pre style=\"white-space:pre;overflow-x:auto;line-height:normal;font-family:Menlo,'DejaVu Sans Mono',consolas,'Courier New',monospace\"><span style=\"color: #7fbfbf; text-decoration-color: #7fbfbf\">[07/12/24 18:21:56] </span><span style=\"color: #000080; text-decoration-color: #000080\">INFO    </span> <span style=\"font-weight: bold\">[</span>_client.py:<span style=\"color: #008080; text-decoration-color: #008080; font-weight: bold\">1773</span><span style=\"font-weight: bold\">]</span> &gt;&gt; HTTP Request: <span style=\"color: #808000; text-decoration-color: #808000; font-weight: bold\">POST</span>                                <a href=\"file:///Users/anpigon/Library/Caches/pypoetry/virtualenvs/autorag-tutorial-ko-GYvpjDIx-py3.11/lib/python3.11/site-packages/httpx/_client.py\" target=\"_blank\"><span style=\"color: #7f7f7f; text-decoration-color: #7f7f7f\">_client.py</span></a><span style=\"color: #7f7f7f; text-decoration-color: #7f7f7f\">:</span><a href=\"file:///Users/anpigon/Library/Caches/pypoetry/virtualenvs/autorag-tutorial-ko-GYvpjDIx-py3.11/lib/python3.11/site-packages/httpx/_client.py#1773\" target=\"_blank\"><span style=\"color: #7f7f7f; text-decoration-color: #7f7f7f\">1773</span></a>\n",
       "<span style=\"color: #7fbfbf; text-decoration-color: #7fbfbf\">                    </span>         <span style=\"color: #0000ff; text-decoration-color: #0000ff; text-decoration: underline\">http://localhost:11434/api/generate</span> <span style=\"color: #008000; text-decoration-color: #008000\">\"HTTP/1.1 200 OK\"</span>                  <span style=\"color: #7f7f7f; text-decoration-color: #7f7f7f\">               </span>\n",
       "</pre>\n"
      ],
      "text/plain": [
       "\u001b[2;36m[07/12/24 18:21:56]\u001b[0m\u001b[2;36m \u001b[0m\u001b[34mINFO    \u001b[0m \u001b[1m[\u001b[0m_client.py:\u001b[1;36m1773\u001b[0m\u001b[1m]\u001b[0m >> HTTP Request: \u001b[1;33mPOST\u001b[0m                                \u001b]8;id=90740;file:///Users/anpigon/Library/Caches/pypoetry/virtualenvs/autorag-tutorial-ko-GYvpjDIx-py3.11/lib/python3.11/site-packages/httpx/_client.py\u001b\\\u001b[2m_client.py\u001b[0m\u001b]8;;\u001b\\\u001b[2m:\u001b[0m\u001b]8;id=131585;file:///Users/anpigon/Library/Caches/pypoetry/virtualenvs/autorag-tutorial-ko-GYvpjDIx-py3.11/lib/python3.11/site-packages/httpx/_client.py#1773\u001b\\\u001b[2m1773\u001b[0m\u001b]8;;\u001b\\\n",
       "\u001b[2;36m                    \u001b[0m         \u001b[4;94mhttp://localhost:11434/api/generate\u001b[0m \u001b[32m\"HTTP/1.1 200 OK\"\u001b[0m                  \u001b[2m               \u001b[0m\n"
      ]
     },
     "metadata": {},
     "output_type": "display_data"
    },
    {
     "data": {
      "text/html": [
       "<pre style=\"white-space:pre;overflow-x:auto;line-height:normal;font-family:Menlo,'DejaVu Sans Mono',consolas,'Courier New',monospace\"><span style=\"color: #7fbfbf; text-decoration-color: #7fbfbf\">[07/12/24 18:22:02] </span><span style=\"color: #000080; text-decoration-color: #000080\">INFO    </span> <span style=\"font-weight: bold\">[</span>_client.py:<span style=\"color: #008080; text-decoration-color: #008080; font-weight: bold\">1773</span><span style=\"font-weight: bold\">]</span> &gt;&gt; HTTP Request: <span style=\"color: #808000; text-decoration-color: #808000; font-weight: bold\">POST</span>                                <a href=\"file:///Users/anpigon/Library/Caches/pypoetry/virtualenvs/autorag-tutorial-ko-GYvpjDIx-py3.11/lib/python3.11/site-packages/httpx/_client.py\" target=\"_blank\"><span style=\"color: #7f7f7f; text-decoration-color: #7f7f7f\">_client.py</span></a><span style=\"color: #7f7f7f; text-decoration-color: #7f7f7f\">:</span><a href=\"file:///Users/anpigon/Library/Caches/pypoetry/virtualenvs/autorag-tutorial-ko-GYvpjDIx-py3.11/lib/python3.11/site-packages/httpx/_client.py#1773\" target=\"_blank\"><span style=\"color: #7f7f7f; text-decoration-color: #7f7f7f\">1773</span></a>\n",
       "<span style=\"color: #7fbfbf; text-decoration-color: #7fbfbf\">                    </span>         <span style=\"color: #0000ff; text-decoration-color: #0000ff; text-decoration: underline\">http://localhost:11434/api/generate</span> <span style=\"color: #008000; text-decoration-color: #008000\">\"HTTP/1.1 200 OK\"</span>                  <span style=\"color: #7f7f7f; text-decoration-color: #7f7f7f\">               </span>\n",
       "</pre>\n"
      ],
      "text/plain": [
       "\u001b[2;36m[07/12/24 18:22:02]\u001b[0m\u001b[2;36m \u001b[0m\u001b[34mINFO    \u001b[0m \u001b[1m[\u001b[0m_client.py:\u001b[1;36m1773\u001b[0m\u001b[1m]\u001b[0m >> HTTP Request: \u001b[1;33mPOST\u001b[0m                                \u001b]8;id=757719;file:///Users/anpigon/Library/Caches/pypoetry/virtualenvs/autorag-tutorial-ko-GYvpjDIx-py3.11/lib/python3.11/site-packages/httpx/_client.py\u001b\\\u001b[2m_client.py\u001b[0m\u001b]8;;\u001b\\\u001b[2m:\u001b[0m\u001b]8;id=827234;file:///Users/anpigon/Library/Caches/pypoetry/virtualenvs/autorag-tutorial-ko-GYvpjDIx-py3.11/lib/python3.11/site-packages/httpx/_client.py#1773\u001b\\\u001b[2m1773\u001b[0m\u001b]8;;\u001b\\\n",
       "\u001b[2;36m                    \u001b[0m         \u001b[4;94mhttp://localhost:11434/api/generate\u001b[0m \u001b[32m\"HTTP/1.1 200 OK\"\u001b[0m                  \u001b[2m               \u001b[0m\n"
      ]
     },
     "metadata": {},
     "output_type": "display_data"
    },
    {
     "data": {
      "text/html": [
       "<pre style=\"white-space:pre;overflow-x:auto;line-height:normal;font-family:Menlo,'DejaVu Sans Mono',consolas,'Courier New',monospace\"><span style=\"color: #7fbfbf; text-decoration-color: #7fbfbf\">[07/12/24 18:22:19] </span><span style=\"color: #000080; text-decoration-color: #000080\">INFO    </span> <span style=\"font-weight: bold\">[</span>_client.py:<span style=\"color: #008080; text-decoration-color: #008080; font-weight: bold\">1773</span><span style=\"font-weight: bold\">]</span> &gt;&gt; HTTP Request: <span style=\"color: #808000; text-decoration-color: #808000; font-weight: bold\">POST</span>                                <a href=\"file:///Users/anpigon/Library/Caches/pypoetry/virtualenvs/autorag-tutorial-ko-GYvpjDIx-py3.11/lib/python3.11/site-packages/httpx/_client.py\" target=\"_blank\"><span style=\"color: #7f7f7f; text-decoration-color: #7f7f7f\">_client.py</span></a><span style=\"color: #7f7f7f; text-decoration-color: #7f7f7f\">:</span><a href=\"file:///Users/anpigon/Library/Caches/pypoetry/virtualenvs/autorag-tutorial-ko-GYvpjDIx-py3.11/lib/python3.11/site-packages/httpx/_client.py#1773\" target=\"_blank\"><span style=\"color: #7f7f7f; text-decoration-color: #7f7f7f\">1773</span></a>\n",
       "<span style=\"color: #7fbfbf; text-decoration-color: #7fbfbf\">                    </span>         <span style=\"color: #0000ff; text-decoration-color: #0000ff; text-decoration: underline\">http://localhost:11434/api/generate</span> <span style=\"color: #008000; text-decoration-color: #008000\">\"HTTP/1.1 200 OK\"</span>                  <span style=\"color: #7f7f7f; text-decoration-color: #7f7f7f\">               </span>\n",
       "</pre>\n"
      ],
      "text/plain": [
       "\u001b[2;36m[07/12/24 18:22:19]\u001b[0m\u001b[2;36m \u001b[0m\u001b[34mINFO    \u001b[0m \u001b[1m[\u001b[0m_client.py:\u001b[1;36m1773\u001b[0m\u001b[1m]\u001b[0m >> HTTP Request: \u001b[1;33mPOST\u001b[0m                                \u001b]8;id=313262;file:///Users/anpigon/Library/Caches/pypoetry/virtualenvs/autorag-tutorial-ko-GYvpjDIx-py3.11/lib/python3.11/site-packages/httpx/_client.py\u001b\\\u001b[2m_client.py\u001b[0m\u001b]8;;\u001b\\\u001b[2m:\u001b[0m\u001b]8;id=30174;file:///Users/anpigon/Library/Caches/pypoetry/virtualenvs/autorag-tutorial-ko-GYvpjDIx-py3.11/lib/python3.11/site-packages/httpx/_client.py#1773\u001b\\\u001b[2m1773\u001b[0m\u001b]8;;\u001b\\\n",
       "\u001b[2;36m                    \u001b[0m         \u001b[4;94mhttp://localhost:11434/api/generate\u001b[0m \u001b[32m\"HTTP/1.1 200 OK\"\u001b[0m                  \u001b[2m               \u001b[0m\n"
      ]
     },
     "metadata": {},
     "output_type": "display_data"
    },
    {
     "data": {
      "text/html": [
       "<pre style=\"white-space:pre;overflow-x:auto;line-height:normal;font-family:Menlo,'DejaVu Sans Mono',consolas,'Courier New',monospace\"><span style=\"color: #7fbfbf; text-decoration-color: #7fbfbf\">[07/12/24 18:22:29] </span><span style=\"color: #000080; text-decoration-color: #000080\">INFO    </span> <span style=\"font-weight: bold\">[</span>_client.py:<span style=\"color: #008080; text-decoration-color: #008080; font-weight: bold\">1773</span><span style=\"font-weight: bold\">]</span> &gt;&gt; HTTP Request: <span style=\"color: #808000; text-decoration-color: #808000; font-weight: bold\">POST</span>                                <a href=\"file:///Users/anpigon/Library/Caches/pypoetry/virtualenvs/autorag-tutorial-ko-GYvpjDIx-py3.11/lib/python3.11/site-packages/httpx/_client.py\" target=\"_blank\"><span style=\"color: #7f7f7f; text-decoration-color: #7f7f7f\">_client.py</span></a><span style=\"color: #7f7f7f; text-decoration-color: #7f7f7f\">:</span><a href=\"file:///Users/anpigon/Library/Caches/pypoetry/virtualenvs/autorag-tutorial-ko-GYvpjDIx-py3.11/lib/python3.11/site-packages/httpx/_client.py#1773\" target=\"_blank\"><span style=\"color: #7f7f7f; text-decoration-color: #7f7f7f\">1773</span></a>\n",
       "<span style=\"color: #7fbfbf; text-decoration-color: #7fbfbf\">                    </span>         <span style=\"color: #0000ff; text-decoration-color: #0000ff; text-decoration: underline\">http://localhost:11434/api/generate</span> <span style=\"color: #008000; text-decoration-color: #008000\">\"HTTP/1.1 200 OK\"</span>                  <span style=\"color: #7f7f7f; text-decoration-color: #7f7f7f\">               </span>\n",
       "</pre>\n"
      ],
      "text/plain": [
       "\u001b[2;36m[07/12/24 18:22:29]\u001b[0m\u001b[2;36m \u001b[0m\u001b[34mINFO    \u001b[0m \u001b[1m[\u001b[0m_client.py:\u001b[1;36m1773\u001b[0m\u001b[1m]\u001b[0m >> HTTP Request: \u001b[1;33mPOST\u001b[0m                                \u001b]8;id=262995;file:///Users/anpigon/Library/Caches/pypoetry/virtualenvs/autorag-tutorial-ko-GYvpjDIx-py3.11/lib/python3.11/site-packages/httpx/_client.py\u001b\\\u001b[2m_client.py\u001b[0m\u001b]8;;\u001b\\\u001b[2m:\u001b[0m\u001b]8;id=413512;file:///Users/anpigon/Library/Caches/pypoetry/virtualenvs/autorag-tutorial-ko-GYvpjDIx-py3.11/lib/python3.11/site-packages/httpx/_client.py#1773\u001b\\\u001b[2m1773\u001b[0m\u001b]8;;\u001b\\\n",
       "\u001b[2;36m                    \u001b[0m         \u001b[4;94mhttp://localhost:11434/api/generate\u001b[0m \u001b[32m\"HTTP/1.1 200 OK\"\u001b[0m                  \u001b[2m               \u001b[0m\n"
      ]
     },
     "metadata": {},
     "output_type": "display_data"
    },
    {
     "data": {
      "text/html": [
       "<pre style=\"white-space:pre;overflow-x:auto;line-height:normal;font-family:Menlo,'DejaVu Sans Mono',consolas,'Courier New',monospace\"><span style=\"color: #7fbfbf; text-decoration-color: #7fbfbf\">[07/12/24 18:22:38] </span><span style=\"color: #000080; text-decoration-color: #000080\">INFO    </span> <span style=\"font-weight: bold\">[</span>_client.py:<span style=\"color: #008080; text-decoration-color: #008080; font-weight: bold\">1773</span><span style=\"font-weight: bold\">]</span> &gt;&gt; HTTP Request: <span style=\"color: #808000; text-decoration-color: #808000; font-weight: bold\">POST</span>                                <a href=\"file:///Users/anpigon/Library/Caches/pypoetry/virtualenvs/autorag-tutorial-ko-GYvpjDIx-py3.11/lib/python3.11/site-packages/httpx/_client.py\" target=\"_blank\"><span style=\"color: #7f7f7f; text-decoration-color: #7f7f7f\">_client.py</span></a><span style=\"color: #7f7f7f; text-decoration-color: #7f7f7f\">:</span><a href=\"file:///Users/anpigon/Library/Caches/pypoetry/virtualenvs/autorag-tutorial-ko-GYvpjDIx-py3.11/lib/python3.11/site-packages/httpx/_client.py#1773\" target=\"_blank\"><span style=\"color: #7f7f7f; text-decoration-color: #7f7f7f\">1773</span></a>\n",
       "<span style=\"color: #7fbfbf; text-decoration-color: #7fbfbf\">                    </span>         <span style=\"color: #0000ff; text-decoration-color: #0000ff; text-decoration: underline\">http://localhost:11434/api/generate</span> <span style=\"color: #008000; text-decoration-color: #008000\">\"HTTP/1.1 200 OK\"</span>                  <span style=\"color: #7f7f7f; text-decoration-color: #7f7f7f\">               </span>\n",
       "</pre>\n"
      ],
      "text/plain": [
       "\u001b[2;36m[07/12/24 18:22:38]\u001b[0m\u001b[2;36m \u001b[0m\u001b[34mINFO    \u001b[0m \u001b[1m[\u001b[0m_client.py:\u001b[1;36m1773\u001b[0m\u001b[1m]\u001b[0m >> HTTP Request: \u001b[1;33mPOST\u001b[0m                                \u001b]8;id=454064;file:///Users/anpigon/Library/Caches/pypoetry/virtualenvs/autorag-tutorial-ko-GYvpjDIx-py3.11/lib/python3.11/site-packages/httpx/_client.py\u001b\\\u001b[2m_client.py\u001b[0m\u001b]8;;\u001b\\\u001b[2m:\u001b[0m\u001b]8;id=565287;file:///Users/anpigon/Library/Caches/pypoetry/virtualenvs/autorag-tutorial-ko-GYvpjDIx-py3.11/lib/python3.11/site-packages/httpx/_client.py#1773\u001b\\\u001b[2m1773\u001b[0m\u001b]8;;\u001b\\\n",
       "\u001b[2;36m                    \u001b[0m         \u001b[4;94mhttp://localhost:11434/api/generate\u001b[0m \u001b[32m\"HTTP/1.1 200 OK\"\u001b[0m                  \u001b[2m               \u001b[0m\n"
      ]
     },
     "metadata": {},
     "output_type": "display_data"
    },
    {
     "data": {
      "text/html": [
       "<pre style=\"white-space:pre;overflow-x:auto;line-height:normal;font-family:Menlo,'DejaVu Sans Mono',consolas,'Courier New',monospace\"><span style=\"color: #7fbfbf; text-decoration-color: #7fbfbf\">[07/12/24 18:22:50] </span><span style=\"color: #000080; text-decoration-color: #000080\">INFO    </span> <span style=\"font-weight: bold\">[</span>_client.py:<span style=\"color: #008080; text-decoration-color: #008080; font-weight: bold\">1773</span><span style=\"font-weight: bold\">]</span> &gt;&gt; HTTP Request: <span style=\"color: #808000; text-decoration-color: #808000; font-weight: bold\">POST</span>                                <a href=\"file:///Users/anpigon/Library/Caches/pypoetry/virtualenvs/autorag-tutorial-ko-GYvpjDIx-py3.11/lib/python3.11/site-packages/httpx/_client.py\" target=\"_blank\"><span style=\"color: #7f7f7f; text-decoration-color: #7f7f7f\">_client.py</span></a><span style=\"color: #7f7f7f; text-decoration-color: #7f7f7f\">:</span><a href=\"file:///Users/anpigon/Library/Caches/pypoetry/virtualenvs/autorag-tutorial-ko-GYvpjDIx-py3.11/lib/python3.11/site-packages/httpx/_client.py#1773\" target=\"_blank\"><span style=\"color: #7f7f7f; text-decoration-color: #7f7f7f\">1773</span></a>\n",
       "<span style=\"color: #7fbfbf; text-decoration-color: #7fbfbf\">                    </span>         <span style=\"color: #0000ff; text-decoration-color: #0000ff; text-decoration: underline\">http://localhost:11434/api/generate</span> <span style=\"color: #008000; text-decoration-color: #008000\">\"HTTP/1.1 200 OK\"</span>                  <span style=\"color: #7f7f7f; text-decoration-color: #7f7f7f\">               </span>\n",
       "</pre>\n"
      ],
      "text/plain": [
       "\u001b[2;36m[07/12/24 18:22:50]\u001b[0m\u001b[2;36m \u001b[0m\u001b[34mINFO    \u001b[0m \u001b[1m[\u001b[0m_client.py:\u001b[1;36m1773\u001b[0m\u001b[1m]\u001b[0m >> HTTP Request: \u001b[1;33mPOST\u001b[0m                                \u001b]8;id=272108;file:///Users/anpigon/Library/Caches/pypoetry/virtualenvs/autorag-tutorial-ko-GYvpjDIx-py3.11/lib/python3.11/site-packages/httpx/_client.py\u001b\\\u001b[2m_client.py\u001b[0m\u001b]8;;\u001b\\\u001b[2m:\u001b[0m\u001b]8;id=787897;file:///Users/anpigon/Library/Caches/pypoetry/virtualenvs/autorag-tutorial-ko-GYvpjDIx-py3.11/lib/python3.11/site-packages/httpx/_client.py#1773\u001b\\\u001b[2m1773\u001b[0m\u001b]8;;\u001b\\\n",
       "\u001b[2;36m                    \u001b[0m         \u001b[4;94mhttp://localhost:11434/api/generate\u001b[0m \u001b[32m\"HTTP/1.1 200 OK\"\u001b[0m                  \u001b[2m               \u001b[0m\n"
      ]
     },
     "metadata": {},
     "output_type": "display_data"
    },
    {
     "data": {
      "text/html": [
       "<pre style=\"white-space:pre;overflow-x:auto;line-height:normal;font-family:Menlo,'DejaVu Sans Mono',consolas,'Courier New',monospace\"><span style=\"color: #7fbfbf; text-decoration-color: #7fbfbf\">[07/12/24 18:23:00] </span><span style=\"color: #000080; text-decoration-color: #000080\">INFO    </span> <span style=\"font-weight: bold\">[</span>_client.py:<span style=\"color: #008080; text-decoration-color: #008080; font-weight: bold\">1773</span><span style=\"font-weight: bold\">]</span> &gt;&gt; HTTP Request: <span style=\"color: #808000; text-decoration-color: #808000; font-weight: bold\">POST</span>                                <a href=\"file:///Users/anpigon/Library/Caches/pypoetry/virtualenvs/autorag-tutorial-ko-GYvpjDIx-py3.11/lib/python3.11/site-packages/httpx/_client.py\" target=\"_blank\"><span style=\"color: #7f7f7f; text-decoration-color: #7f7f7f\">_client.py</span></a><span style=\"color: #7f7f7f; text-decoration-color: #7f7f7f\">:</span><a href=\"file:///Users/anpigon/Library/Caches/pypoetry/virtualenvs/autorag-tutorial-ko-GYvpjDIx-py3.11/lib/python3.11/site-packages/httpx/_client.py#1773\" target=\"_blank\"><span style=\"color: #7f7f7f; text-decoration-color: #7f7f7f\">1773</span></a>\n",
       "<span style=\"color: #7fbfbf; text-decoration-color: #7fbfbf\">                    </span>         <span style=\"color: #0000ff; text-decoration-color: #0000ff; text-decoration: underline\">http://localhost:11434/api/generate</span> <span style=\"color: #008000; text-decoration-color: #008000\">\"HTTP/1.1 200 OK\"</span>                  <span style=\"color: #7f7f7f; text-decoration-color: #7f7f7f\">               </span>\n",
       "</pre>\n"
      ],
      "text/plain": [
       "\u001b[2;36m[07/12/24 18:23:00]\u001b[0m\u001b[2;36m \u001b[0m\u001b[34mINFO    \u001b[0m \u001b[1m[\u001b[0m_client.py:\u001b[1;36m1773\u001b[0m\u001b[1m]\u001b[0m >> HTTP Request: \u001b[1;33mPOST\u001b[0m                                \u001b]8;id=468067;file:///Users/anpigon/Library/Caches/pypoetry/virtualenvs/autorag-tutorial-ko-GYvpjDIx-py3.11/lib/python3.11/site-packages/httpx/_client.py\u001b\\\u001b[2m_client.py\u001b[0m\u001b]8;;\u001b\\\u001b[2m:\u001b[0m\u001b]8;id=455763;file:///Users/anpigon/Library/Caches/pypoetry/virtualenvs/autorag-tutorial-ko-GYvpjDIx-py3.11/lib/python3.11/site-packages/httpx/_client.py#1773\u001b\\\u001b[2m1773\u001b[0m\u001b]8;;\u001b\\\n",
       "\u001b[2;36m                    \u001b[0m         \u001b[4;94mhttp://localhost:11434/api/generate\u001b[0m \u001b[32m\"HTTP/1.1 200 OK\"\u001b[0m                  \u001b[2m               \u001b[0m\n"
      ]
     },
     "metadata": {},
     "output_type": "display_data"
    },
    {
     "data": {
      "text/html": [
       "<pre style=\"white-space:pre;overflow-x:auto;line-height:normal;font-family:Menlo,'DejaVu Sans Mono',consolas,'Courier New',monospace\"><span style=\"color: #7fbfbf; text-decoration-color: #7fbfbf\">                    </span><span style=\"color: #000080; text-decoration-color: #000080\">INFO    </span> <span style=\"font-weight: bold\">[</span>base.py:<span style=\"color: #008080; text-decoration-color: #008080; font-weight: bold\">34</span><span style=\"font-weight: bold\">]</span> &gt;&gt; Running generator node - llama_index_llm module<span style=\"color: #808000; text-decoration-color: #808000\">...</span>          <a href=\"file:///Users/anpigon/Library/Caches/pypoetry/virtualenvs/autorag-tutorial-ko-GYvpjDIx-py3.11/lib/python3.11/site-packages/autorag/nodes/generator/base.py\" target=\"_blank\"><span style=\"color: #7f7f7f; text-decoration-color: #7f7f7f\">base.py</span></a><span style=\"color: #7f7f7f; text-decoration-color: #7f7f7f\">:</span><a href=\"file:///Users/anpigon/Library/Caches/pypoetry/virtualenvs/autorag-tutorial-ko-GYvpjDIx-py3.11/lib/python3.11/site-packages/autorag/nodes/generator/base.py#34\" target=\"_blank\"><span style=\"color: #7f7f7f; text-decoration-color: #7f7f7f\">34</span></a>\n",
       "</pre>\n"
      ],
      "text/plain": [
       "\u001b[2;36m                   \u001b[0m\u001b[2;36m \u001b[0m\u001b[34mINFO    \u001b[0m \u001b[1m[\u001b[0mbase.py:\u001b[1;36m34\u001b[0m\u001b[1m]\u001b[0m >> Running generator node - llama_index_llm module\u001b[33m...\u001b[0m          \u001b]8;id=804873;file:///Users/anpigon/Library/Caches/pypoetry/virtualenvs/autorag-tutorial-ko-GYvpjDIx-py3.11/lib/python3.11/site-packages/autorag/nodes/generator/base.py\u001b\\\u001b[2mbase.py\u001b[0m\u001b]8;;\u001b\\\u001b[2m:\u001b[0m\u001b]8;id=845908;file:///Users/anpigon/Library/Caches/pypoetry/virtualenvs/autorag-tutorial-ko-GYvpjDIx-py3.11/lib/python3.11/site-packages/autorag/nodes/generator/base.py#34\u001b\\\u001b[2m34\u001b[0m\u001b]8;;\u001b\\\n"
      ]
     },
     "metadata": {},
     "output_type": "display_data"
    },
    {
     "data": {
      "text/html": [
       "<pre style=\"white-space:pre;overflow-x:auto;line-height:normal;font-family:Menlo,'DejaVu Sans Mono',consolas,'Courier New',monospace\"><span style=\"color: #7fbfbf; text-decoration-color: #7fbfbf\">[07/12/24 18:23:38] </span><span style=\"color: #000080; text-decoration-color: #000080\">INFO    </span> <span style=\"font-weight: bold\">[</span>_client.py:<span style=\"color: #008080; text-decoration-color: #008080; font-weight: bold\">1773</span><span style=\"font-weight: bold\">]</span> &gt;&gt; HTTP Request: <span style=\"color: #808000; text-decoration-color: #808000; font-weight: bold\">POST</span>                                <a href=\"file:///Users/anpigon/Library/Caches/pypoetry/virtualenvs/autorag-tutorial-ko-GYvpjDIx-py3.11/lib/python3.11/site-packages/httpx/_client.py\" target=\"_blank\"><span style=\"color: #7f7f7f; text-decoration-color: #7f7f7f\">_client.py</span></a><span style=\"color: #7f7f7f; text-decoration-color: #7f7f7f\">:</span><a href=\"file:///Users/anpigon/Library/Caches/pypoetry/virtualenvs/autorag-tutorial-ko-GYvpjDIx-py3.11/lib/python3.11/site-packages/httpx/_client.py#1773\" target=\"_blank\"><span style=\"color: #7f7f7f; text-decoration-color: #7f7f7f\">1773</span></a>\n",
       "<span style=\"color: #7fbfbf; text-decoration-color: #7fbfbf\">                    </span>         <span style=\"color: #0000ff; text-decoration-color: #0000ff; text-decoration: underline\">http://localhost:11434/api/generate</span> <span style=\"color: #008000; text-decoration-color: #008000\">\"HTTP/1.1 200 OK\"</span>                  <span style=\"color: #7f7f7f; text-decoration-color: #7f7f7f\">               </span>\n",
       "</pre>\n"
      ],
      "text/plain": [
       "\u001b[2;36m[07/12/24 18:23:38]\u001b[0m\u001b[2;36m \u001b[0m\u001b[34mINFO    \u001b[0m \u001b[1m[\u001b[0m_client.py:\u001b[1;36m1773\u001b[0m\u001b[1m]\u001b[0m >> HTTP Request: \u001b[1;33mPOST\u001b[0m                                \u001b]8;id=318764;file:///Users/anpigon/Library/Caches/pypoetry/virtualenvs/autorag-tutorial-ko-GYvpjDIx-py3.11/lib/python3.11/site-packages/httpx/_client.py\u001b\\\u001b[2m_client.py\u001b[0m\u001b]8;;\u001b\\\u001b[2m:\u001b[0m\u001b]8;id=207952;file:///Users/anpigon/Library/Caches/pypoetry/virtualenvs/autorag-tutorial-ko-GYvpjDIx-py3.11/lib/python3.11/site-packages/httpx/_client.py#1773\u001b\\\u001b[2m1773\u001b[0m\u001b]8;;\u001b\\\n",
       "\u001b[2;36m                    \u001b[0m         \u001b[4;94mhttp://localhost:11434/api/generate\u001b[0m \u001b[32m\"HTTP/1.1 200 OK\"\u001b[0m                  \u001b[2m               \u001b[0m\n"
      ]
     },
     "metadata": {},
     "output_type": "display_data"
    },
    {
     "data": {
      "text/html": [
       "<pre style=\"white-space:pre;overflow-x:auto;line-height:normal;font-family:Menlo,'DejaVu Sans Mono',consolas,'Courier New',monospace\"><span style=\"color: #7fbfbf; text-decoration-color: #7fbfbf\">[07/12/24 18:23:57] </span><span style=\"color: #000080; text-decoration-color: #000080\">INFO    </span> <span style=\"font-weight: bold\">[</span>_client.py:<span style=\"color: #008080; text-decoration-color: #008080; font-weight: bold\">1773</span><span style=\"font-weight: bold\">]</span> &gt;&gt; HTTP Request: <span style=\"color: #808000; text-decoration-color: #808000; font-weight: bold\">POST</span>                                <a href=\"file:///Users/anpigon/Library/Caches/pypoetry/virtualenvs/autorag-tutorial-ko-GYvpjDIx-py3.11/lib/python3.11/site-packages/httpx/_client.py\" target=\"_blank\"><span style=\"color: #7f7f7f; text-decoration-color: #7f7f7f\">_client.py</span></a><span style=\"color: #7f7f7f; text-decoration-color: #7f7f7f\">:</span><a href=\"file:///Users/anpigon/Library/Caches/pypoetry/virtualenvs/autorag-tutorial-ko-GYvpjDIx-py3.11/lib/python3.11/site-packages/httpx/_client.py#1773\" target=\"_blank\"><span style=\"color: #7f7f7f; text-decoration-color: #7f7f7f\">1773</span></a>\n",
       "<span style=\"color: #7fbfbf; text-decoration-color: #7fbfbf\">                    </span>         <span style=\"color: #0000ff; text-decoration-color: #0000ff; text-decoration: underline\">http://localhost:11434/api/generate</span> <span style=\"color: #008000; text-decoration-color: #008000\">\"HTTP/1.1 200 OK\"</span>                  <span style=\"color: #7f7f7f; text-decoration-color: #7f7f7f\">               </span>\n",
       "</pre>\n"
      ],
      "text/plain": [
       "\u001b[2;36m[07/12/24 18:23:57]\u001b[0m\u001b[2;36m \u001b[0m\u001b[34mINFO    \u001b[0m \u001b[1m[\u001b[0m_client.py:\u001b[1;36m1773\u001b[0m\u001b[1m]\u001b[0m >> HTTP Request: \u001b[1;33mPOST\u001b[0m                                \u001b]8;id=766078;file:///Users/anpigon/Library/Caches/pypoetry/virtualenvs/autorag-tutorial-ko-GYvpjDIx-py3.11/lib/python3.11/site-packages/httpx/_client.py\u001b\\\u001b[2m_client.py\u001b[0m\u001b]8;;\u001b\\\u001b[2m:\u001b[0m\u001b]8;id=468522;file:///Users/anpigon/Library/Caches/pypoetry/virtualenvs/autorag-tutorial-ko-GYvpjDIx-py3.11/lib/python3.11/site-packages/httpx/_client.py#1773\u001b\\\u001b[2m1773\u001b[0m\u001b]8;;\u001b\\\n",
       "\u001b[2;36m                    \u001b[0m         \u001b[4;94mhttp://localhost:11434/api/generate\u001b[0m \u001b[32m\"HTTP/1.1 200 OK\"\u001b[0m                  \u001b[2m               \u001b[0m\n"
      ]
     },
     "metadata": {},
     "output_type": "display_data"
    },
    {
     "data": {
      "text/html": [
       "<pre style=\"white-space:pre;overflow-x:auto;line-height:normal;font-family:Menlo,'DejaVu Sans Mono',consolas,'Courier New',monospace\"><span style=\"color: #7fbfbf; text-decoration-color: #7fbfbf\">[07/12/24 18:24:11] </span><span style=\"color: #000080; text-decoration-color: #000080\">INFO    </span> <span style=\"font-weight: bold\">[</span>_client.py:<span style=\"color: #008080; text-decoration-color: #008080; font-weight: bold\">1773</span><span style=\"font-weight: bold\">]</span> &gt;&gt; HTTP Request: <span style=\"color: #808000; text-decoration-color: #808000; font-weight: bold\">POST</span>                                <a href=\"file:///Users/anpigon/Library/Caches/pypoetry/virtualenvs/autorag-tutorial-ko-GYvpjDIx-py3.11/lib/python3.11/site-packages/httpx/_client.py\" target=\"_blank\"><span style=\"color: #7f7f7f; text-decoration-color: #7f7f7f\">_client.py</span></a><span style=\"color: #7f7f7f; text-decoration-color: #7f7f7f\">:</span><a href=\"file:///Users/anpigon/Library/Caches/pypoetry/virtualenvs/autorag-tutorial-ko-GYvpjDIx-py3.11/lib/python3.11/site-packages/httpx/_client.py#1773\" target=\"_blank\"><span style=\"color: #7f7f7f; text-decoration-color: #7f7f7f\">1773</span></a>\n",
       "<span style=\"color: #7fbfbf; text-decoration-color: #7fbfbf\">                    </span>         <span style=\"color: #0000ff; text-decoration-color: #0000ff; text-decoration: underline\">http://localhost:11434/api/generate</span> <span style=\"color: #008000; text-decoration-color: #008000\">\"HTTP/1.1 200 OK\"</span>                  <span style=\"color: #7f7f7f; text-decoration-color: #7f7f7f\">               </span>\n",
       "</pre>\n"
      ],
      "text/plain": [
       "\u001b[2;36m[07/12/24 18:24:11]\u001b[0m\u001b[2;36m \u001b[0m\u001b[34mINFO    \u001b[0m \u001b[1m[\u001b[0m_client.py:\u001b[1;36m1773\u001b[0m\u001b[1m]\u001b[0m >> HTTP Request: \u001b[1;33mPOST\u001b[0m                                \u001b]8;id=761486;file:///Users/anpigon/Library/Caches/pypoetry/virtualenvs/autorag-tutorial-ko-GYvpjDIx-py3.11/lib/python3.11/site-packages/httpx/_client.py\u001b\\\u001b[2m_client.py\u001b[0m\u001b]8;;\u001b\\\u001b[2m:\u001b[0m\u001b]8;id=459885;file:///Users/anpigon/Library/Caches/pypoetry/virtualenvs/autorag-tutorial-ko-GYvpjDIx-py3.11/lib/python3.11/site-packages/httpx/_client.py#1773\u001b\\\u001b[2m1773\u001b[0m\u001b]8;;\u001b\\\n",
       "\u001b[2;36m                    \u001b[0m         \u001b[4;94mhttp://localhost:11434/api/generate\u001b[0m \u001b[32m\"HTTP/1.1 200 OK\"\u001b[0m                  \u001b[2m               \u001b[0m\n"
      ]
     },
     "metadata": {},
     "output_type": "display_data"
    },
    {
     "data": {
      "text/html": [
       "<pre style=\"white-space:pre;overflow-x:auto;line-height:normal;font-family:Menlo,'DejaVu Sans Mono',consolas,'Courier New',monospace\"><span style=\"color: #7fbfbf; text-decoration-color: #7fbfbf\">[07/12/24 18:24:20] </span><span style=\"color: #000080; text-decoration-color: #000080\">INFO    </span> <span style=\"font-weight: bold\">[</span>_client.py:<span style=\"color: #008080; text-decoration-color: #008080; font-weight: bold\">1773</span><span style=\"font-weight: bold\">]</span> &gt;&gt; HTTP Request: <span style=\"color: #808000; text-decoration-color: #808000; font-weight: bold\">POST</span>                                <a href=\"file:///Users/anpigon/Library/Caches/pypoetry/virtualenvs/autorag-tutorial-ko-GYvpjDIx-py3.11/lib/python3.11/site-packages/httpx/_client.py\" target=\"_blank\"><span style=\"color: #7f7f7f; text-decoration-color: #7f7f7f\">_client.py</span></a><span style=\"color: #7f7f7f; text-decoration-color: #7f7f7f\">:</span><a href=\"file:///Users/anpigon/Library/Caches/pypoetry/virtualenvs/autorag-tutorial-ko-GYvpjDIx-py3.11/lib/python3.11/site-packages/httpx/_client.py#1773\" target=\"_blank\"><span style=\"color: #7f7f7f; text-decoration-color: #7f7f7f\">1773</span></a>\n",
       "<span style=\"color: #7fbfbf; text-decoration-color: #7fbfbf\">                    </span>         <span style=\"color: #0000ff; text-decoration-color: #0000ff; text-decoration: underline\">http://localhost:11434/api/generate</span> <span style=\"color: #008000; text-decoration-color: #008000\">\"HTTP/1.1 200 OK\"</span>                  <span style=\"color: #7f7f7f; text-decoration-color: #7f7f7f\">               </span>\n",
       "</pre>\n"
      ],
      "text/plain": [
       "\u001b[2;36m[07/12/24 18:24:20]\u001b[0m\u001b[2;36m \u001b[0m\u001b[34mINFO    \u001b[0m \u001b[1m[\u001b[0m_client.py:\u001b[1;36m1773\u001b[0m\u001b[1m]\u001b[0m >> HTTP Request: \u001b[1;33mPOST\u001b[0m                                \u001b]8;id=507207;file:///Users/anpigon/Library/Caches/pypoetry/virtualenvs/autorag-tutorial-ko-GYvpjDIx-py3.11/lib/python3.11/site-packages/httpx/_client.py\u001b\\\u001b[2m_client.py\u001b[0m\u001b]8;;\u001b\\\u001b[2m:\u001b[0m\u001b]8;id=113383;file:///Users/anpigon/Library/Caches/pypoetry/virtualenvs/autorag-tutorial-ko-GYvpjDIx-py3.11/lib/python3.11/site-packages/httpx/_client.py#1773\u001b\\\u001b[2m1773\u001b[0m\u001b]8;;\u001b\\\n",
       "\u001b[2;36m                    \u001b[0m         \u001b[4;94mhttp://localhost:11434/api/generate\u001b[0m \u001b[32m\"HTTP/1.1 200 OK\"\u001b[0m                  \u001b[2m               \u001b[0m\n"
      ]
     },
     "metadata": {},
     "output_type": "display_data"
    },
    {
     "data": {
      "text/html": [
       "<pre style=\"white-space:pre;overflow-x:auto;line-height:normal;font-family:Menlo,'DejaVu Sans Mono',consolas,'Courier New',monospace\"><span style=\"color: #7fbfbf; text-decoration-color: #7fbfbf\">[07/12/24 18:24:36] </span><span style=\"color: #000080; text-decoration-color: #000080\">INFO    </span> <span style=\"font-weight: bold\">[</span>_client.py:<span style=\"color: #008080; text-decoration-color: #008080; font-weight: bold\">1773</span><span style=\"font-weight: bold\">]</span> &gt;&gt; HTTP Request: <span style=\"color: #808000; text-decoration-color: #808000; font-weight: bold\">POST</span>                                <a href=\"file:///Users/anpigon/Library/Caches/pypoetry/virtualenvs/autorag-tutorial-ko-GYvpjDIx-py3.11/lib/python3.11/site-packages/httpx/_client.py\" target=\"_blank\"><span style=\"color: #7f7f7f; text-decoration-color: #7f7f7f\">_client.py</span></a><span style=\"color: #7f7f7f; text-decoration-color: #7f7f7f\">:</span><a href=\"file:///Users/anpigon/Library/Caches/pypoetry/virtualenvs/autorag-tutorial-ko-GYvpjDIx-py3.11/lib/python3.11/site-packages/httpx/_client.py#1773\" target=\"_blank\"><span style=\"color: #7f7f7f; text-decoration-color: #7f7f7f\">1773</span></a>\n",
       "<span style=\"color: #7fbfbf; text-decoration-color: #7fbfbf\">                    </span>         <span style=\"color: #0000ff; text-decoration-color: #0000ff; text-decoration: underline\">http://localhost:11434/api/generate</span> <span style=\"color: #008000; text-decoration-color: #008000\">\"HTTP/1.1 200 OK\"</span>                  <span style=\"color: #7f7f7f; text-decoration-color: #7f7f7f\">               </span>\n",
       "</pre>\n"
      ],
      "text/plain": [
       "\u001b[2;36m[07/12/24 18:24:36]\u001b[0m\u001b[2;36m \u001b[0m\u001b[34mINFO    \u001b[0m \u001b[1m[\u001b[0m_client.py:\u001b[1;36m1773\u001b[0m\u001b[1m]\u001b[0m >> HTTP Request: \u001b[1;33mPOST\u001b[0m                                \u001b]8;id=974605;file:///Users/anpigon/Library/Caches/pypoetry/virtualenvs/autorag-tutorial-ko-GYvpjDIx-py3.11/lib/python3.11/site-packages/httpx/_client.py\u001b\\\u001b[2m_client.py\u001b[0m\u001b]8;;\u001b\\\u001b[2m:\u001b[0m\u001b]8;id=879476;file:///Users/anpigon/Library/Caches/pypoetry/virtualenvs/autorag-tutorial-ko-GYvpjDIx-py3.11/lib/python3.11/site-packages/httpx/_client.py#1773\u001b\\\u001b[2m1773\u001b[0m\u001b]8;;\u001b\\\n",
       "\u001b[2;36m                    \u001b[0m         \u001b[4;94mhttp://localhost:11434/api/generate\u001b[0m \u001b[32m\"HTTP/1.1 200 OK\"\u001b[0m                  \u001b[2m               \u001b[0m\n"
      ]
     },
     "metadata": {},
     "output_type": "display_data"
    },
    {
     "data": {
      "text/html": [
       "<pre style=\"white-space:pre;overflow-x:auto;line-height:normal;font-family:Menlo,'DejaVu Sans Mono',consolas,'Courier New',monospace\"><span style=\"color: #7fbfbf; text-decoration-color: #7fbfbf\">[07/12/24 18:24:42] </span><span style=\"color: #000080; text-decoration-color: #000080\">INFO    </span> <span style=\"font-weight: bold\">[</span>_client.py:<span style=\"color: #008080; text-decoration-color: #008080; font-weight: bold\">1773</span><span style=\"font-weight: bold\">]</span> &gt;&gt; HTTP Request: <span style=\"color: #808000; text-decoration-color: #808000; font-weight: bold\">POST</span>                                <a href=\"file:///Users/anpigon/Library/Caches/pypoetry/virtualenvs/autorag-tutorial-ko-GYvpjDIx-py3.11/lib/python3.11/site-packages/httpx/_client.py\" target=\"_blank\"><span style=\"color: #7f7f7f; text-decoration-color: #7f7f7f\">_client.py</span></a><span style=\"color: #7f7f7f; text-decoration-color: #7f7f7f\">:</span><a href=\"file:///Users/anpigon/Library/Caches/pypoetry/virtualenvs/autorag-tutorial-ko-GYvpjDIx-py3.11/lib/python3.11/site-packages/httpx/_client.py#1773\" target=\"_blank\"><span style=\"color: #7f7f7f; text-decoration-color: #7f7f7f\">1773</span></a>\n",
       "<span style=\"color: #7fbfbf; text-decoration-color: #7fbfbf\">                    </span>         <span style=\"color: #0000ff; text-decoration-color: #0000ff; text-decoration: underline\">http://localhost:11434/api/generate</span> <span style=\"color: #008000; text-decoration-color: #008000\">\"HTTP/1.1 200 OK\"</span>                  <span style=\"color: #7f7f7f; text-decoration-color: #7f7f7f\">               </span>\n",
       "</pre>\n"
      ],
      "text/plain": [
       "\u001b[2;36m[07/12/24 18:24:42]\u001b[0m\u001b[2;36m \u001b[0m\u001b[34mINFO    \u001b[0m \u001b[1m[\u001b[0m_client.py:\u001b[1;36m1773\u001b[0m\u001b[1m]\u001b[0m >> HTTP Request: \u001b[1;33mPOST\u001b[0m                                \u001b]8;id=90581;file:///Users/anpigon/Library/Caches/pypoetry/virtualenvs/autorag-tutorial-ko-GYvpjDIx-py3.11/lib/python3.11/site-packages/httpx/_client.py\u001b\\\u001b[2m_client.py\u001b[0m\u001b]8;;\u001b\\\u001b[2m:\u001b[0m\u001b]8;id=943573;file:///Users/anpigon/Library/Caches/pypoetry/virtualenvs/autorag-tutorial-ko-GYvpjDIx-py3.11/lib/python3.11/site-packages/httpx/_client.py#1773\u001b\\\u001b[2m1773\u001b[0m\u001b]8;;\u001b\\\n",
       "\u001b[2;36m                    \u001b[0m         \u001b[4;94mhttp://localhost:11434/api/generate\u001b[0m \u001b[32m\"HTTP/1.1 200 OK\"\u001b[0m                  \u001b[2m               \u001b[0m\n"
      ]
     },
     "metadata": {},
     "output_type": "display_data"
    },
    {
     "data": {
      "text/html": [
       "<pre style=\"white-space:pre;overflow-x:auto;line-height:normal;font-family:Menlo,'DejaVu Sans Mono',consolas,'Courier New',monospace\"><span style=\"color: #7fbfbf; text-decoration-color: #7fbfbf\">[07/12/24 18:25:01] </span><span style=\"color: #000080; text-decoration-color: #000080\">INFO    </span> <span style=\"font-weight: bold\">[</span>_client.py:<span style=\"color: #008080; text-decoration-color: #008080; font-weight: bold\">1773</span><span style=\"font-weight: bold\">]</span> &gt;&gt; HTTP Request: <span style=\"color: #808000; text-decoration-color: #808000; font-weight: bold\">POST</span>                                <a href=\"file:///Users/anpigon/Library/Caches/pypoetry/virtualenvs/autorag-tutorial-ko-GYvpjDIx-py3.11/lib/python3.11/site-packages/httpx/_client.py\" target=\"_blank\"><span style=\"color: #7f7f7f; text-decoration-color: #7f7f7f\">_client.py</span></a><span style=\"color: #7f7f7f; text-decoration-color: #7f7f7f\">:</span><a href=\"file:///Users/anpigon/Library/Caches/pypoetry/virtualenvs/autorag-tutorial-ko-GYvpjDIx-py3.11/lib/python3.11/site-packages/httpx/_client.py#1773\" target=\"_blank\"><span style=\"color: #7f7f7f; text-decoration-color: #7f7f7f\">1773</span></a>\n",
       "<span style=\"color: #7fbfbf; text-decoration-color: #7fbfbf\">                    </span>         <span style=\"color: #0000ff; text-decoration-color: #0000ff; text-decoration: underline\">http://localhost:11434/api/generate</span> <span style=\"color: #008000; text-decoration-color: #008000\">\"HTTP/1.1 200 OK\"</span>                  <span style=\"color: #7f7f7f; text-decoration-color: #7f7f7f\">               </span>\n",
       "</pre>\n"
      ],
      "text/plain": [
       "\u001b[2;36m[07/12/24 18:25:01]\u001b[0m\u001b[2;36m \u001b[0m\u001b[34mINFO    \u001b[0m \u001b[1m[\u001b[0m_client.py:\u001b[1;36m1773\u001b[0m\u001b[1m]\u001b[0m >> HTTP Request: \u001b[1;33mPOST\u001b[0m                                \u001b]8;id=312950;file:///Users/anpigon/Library/Caches/pypoetry/virtualenvs/autorag-tutorial-ko-GYvpjDIx-py3.11/lib/python3.11/site-packages/httpx/_client.py\u001b\\\u001b[2m_client.py\u001b[0m\u001b]8;;\u001b\\\u001b[2m:\u001b[0m\u001b]8;id=889071;file:///Users/anpigon/Library/Caches/pypoetry/virtualenvs/autorag-tutorial-ko-GYvpjDIx-py3.11/lib/python3.11/site-packages/httpx/_client.py#1773\u001b\\\u001b[2m1773\u001b[0m\u001b]8;;\u001b\\\n",
       "\u001b[2;36m                    \u001b[0m         \u001b[4;94mhttp://localhost:11434/api/generate\u001b[0m \u001b[32m\"HTTP/1.1 200 OK\"\u001b[0m                  \u001b[2m               \u001b[0m\n"
      ]
     },
     "metadata": {},
     "output_type": "display_data"
    },
    {
     "data": {
      "text/html": [
       "<pre style=\"white-space:pre;overflow-x:auto;line-height:normal;font-family:Menlo,'DejaVu Sans Mono',consolas,'Courier New',monospace\"><span style=\"color: #7fbfbf; text-decoration-color: #7fbfbf\">[07/12/24 18:25:11] </span><span style=\"color: #000080; text-decoration-color: #000080\">INFO    </span> <span style=\"font-weight: bold\">[</span>_client.py:<span style=\"color: #008080; text-decoration-color: #008080; font-weight: bold\">1773</span><span style=\"font-weight: bold\">]</span> &gt;&gt; HTTP Request: <span style=\"color: #808000; text-decoration-color: #808000; font-weight: bold\">POST</span>                                <a href=\"file:///Users/anpigon/Library/Caches/pypoetry/virtualenvs/autorag-tutorial-ko-GYvpjDIx-py3.11/lib/python3.11/site-packages/httpx/_client.py\" target=\"_blank\"><span style=\"color: #7f7f7f; text-decoration-color: #7f7f7f\">_client.py</span></a><span style=\"color: #7f7f7f; text-decoration-color: #7f7f7f\">:</span><a href=\"file:///Users/anpigon/Library/Caches/pypoetry/virtualenvs/autorag-tutorial-ko-GYvpjDIx-py3.11/lib/python3.11/site-packages/httpx/_client.py#1773\" target=\"_blank\"><span style=\"color: #7f7f7f; text-decoration-color: #7f7f7f\">1773</span></a>\n",
       "<span style=\"color: #7fbfbf; text-decoration-color: #7fbfbf\">                    </span>         <span style=\"color: #0000ff; text-decoration-color: #0000ff; text-decoration: underline\">http://localhost:11434/api/generate</span> <span style=\"color: #008000; text-decoration-color: #008000\">\"HTTP/1.1 200 OK\"</span>                  <span style=\"color: #7f7f7f; text-decoration-color: #7f7f7f\">               </span>\n",
       "</pre>\n"
      ],
      "text/plain": [
       "\u001b[2;36m[07/12/24 18:25:11]\u001b[0m\u001b[2;36m \u001b[0m\u001b[34mINFO    \u001b[0m \u001b[1m[\u001b[0m_client.py:\u001b[1;36m1773\u001b[0m\u001b[1m]\u001b[0m >> HTTP Request: \u001b[1;33mPOST\u001b[0m                                \u001b]8;id=981485;file:///Users/anpigon/Library/Caches/pypoetry/virtualenvs/autorag-tutorial-ko-GYvpjDIx-py3.11/lib/python3.11/site-packages/httpx/_client.py\u001b\\\u001b[2m_client.py\u001b[0m\u001b]8;;\u001b\\\u001b[2m:\u001b[0m\u001b]8;id=828038;file:///Users/anpigon/Library/Caches/pypoetry/virtualenvs/autorag-tutorial-ko-GYvpjDIx-py3.11/lib/python3.11/site-packages/httpx/_client.py#1773\u001b\\\u001b[2m1773\u001b[0m\u001b]8;;\u001b\\\n",
       "\u001b[2;36m                    \u001b[0m         \u001b[4;94mhttp://localhost:11434/api/generate\u001b[0m \u001b[32m\"HTTP/1.1 200 OK\"\u001b[0m                  \u001b[2m               \u001b[0m\n"
      ]
     },
     "metadata": {},
     "output_type": "display_data"
    },
    {
     "data": {
      "text/html": [
       "<pre style=\"white-space:pre;overflow-x:auto;line-height:normal;font-family:Menlo,'DejaVu Sans Mono',consolas,'Courier New',monospace\"><span style=\"color: #7fbfbf; text-decoration-color: #7fbfbf\">[07/12/24 18:25:37] </span><span style=\"color: #000080; text-decoration-color: #000080\">INFO    </span> <span style=\"font-weight: bold\">[</span>_client.py:<span style=\"color: #008080; text-decoration-color: #008080; font-weight: bold\">1773</span><span style=\"font-weight: bold\">]</span> &gt;&gt; HTTP Request: <span style=\"color: #808000; text-decoration-color: #808000; font-weight: bold\">POST</span>                                <a href=\"file:///Users/anpigon/Library/Caches/pypoetry/virtualenvs/autorag-tutorial-ko-GYvpjDIx-py3.11/lib/python3.11/site-packages/httpx/_client.py\" target=\"_blank\"><span style=\"color: #7f7f7f; text-decoration-color: #7f7f7f\">_client.py</span></a><span style=\"color: #7f7f7f; text-decoration-color: #7f7f7f\">:</span><a href=\"file:///Users/anpigon/Library/Caches/pypoetry/virtualenvs/autorag-tutorial-ko-GYvpjDIx-py3.11/lib/python3.11/site-packages/httpx/_client.py#1773\" target=\"_blank\"><span style=\"color: #7f7f7f; text-decoration-color: #7f7f7f\">1773</span></a>\n",
       "<span style=\"color: #7fbfbf; text-decoration-color: #7fbfbf\">                    </span>         <span style=\"color: #0000ff; text-decoration-color: #0000ff; text-decoration: underline\">http://localhost:11434/api/generate</span> <span style=\"color: #008000; text-decoration-color: #008000\">\"HTTP/1.1 200 OK\"</span>                  <span style=\"color: #7f7f7f; text-decoration-color: #7f7f7f\">               </span>\n",
       "</pre>\n"
      ],
      "text/plain": [
       "\u001b[2;36m[07/12/24 18:25:37]\u001b[0m\u001b[2;36m \u001b[0m\u001b[34mINFO    \u001b[0m \u001b[1m[\u001b[0m_client.py:\u001b[1;36m1773\u001b[0m\u001b[1m]\u001b[0m >> HTTP Request: \u001b[1;33mPOST\u001b[0m                                \u001b]8;id=684675;file:///Users/anpigon/Library/Caches/pypoetry/virtualenvs/autorag-tutorial-ko-GYvpjDIx-py3.11/lib/python3.11/site-packages/httpx/_client.py\u001b\\\u001b[2m_client.py\u001b[0m\u001b]8;;\u001b\\\u001b[2m:\u001b[0m\u001b]8;id=434943;file:///Users/anpigon/Library/Caches/pypoetry/virtualenvs/autorag-tutorial-ko-GYvpjDIx-py3.11/lib/python3.11/site-packages/httpx/_client.py#1773\u001b\\\u001b[2m1773\u001b[0m\u001b]8;;\u001b\\\n",
       "\u001b[2;36m                    \u001b[0m         \u001b[4;94mhttp://localhost:11434/api/generate\u001b[0m \u001b[32m\"HTTP/1.1 200 OK\"\u001b[0m                  \u001b[2m               \u001b[0m\n"
      ]
     },
     "metadata": {},
     "output_type": "display_data"
    },
    {
     "data": {
      "text/html": [
       "<pre style=\"white-space:pre;overflow-x:auto;line-height:normal;font-family:Menlo,'DejaVu Sans Mono',consolas,'Courier New',monospace\"><span style=\"color: #7fbfbf; text-decoration-color: #7fbfbf\">[07/12/24 18:25:52] </span><span style=\"color: #000080; text-decoration-color: #000080\">INFO    </span> <span style=\"font-weight: bold\">[</span>_client.py:<span style=\"color: #008080; text-decoration-color: #008080; font-weight: bold\">1773</span><span style=\"font-weight: bold\">]</span> &gt;&gt; HTTP Request: <span style=\"color: #808000; text-decoration-color: #808000; font-weight: bold\">POST</span>                                <a href=\"file:///Users/anpigon/Library/Caches/pypoetry/virtualenvs/autorag-tutorial-ko-GYvpjDIx-py3.11/lib/python3.11/site-packages/httpx/_client.py\" target=\"_blank\"><span style=\"color: #7f7f7f; text-decoration-color: #7f7f7f\">_client.py</span></a><span style=\"color: #7f7f7f; text-decoration-color: #7f7f7f\">:</span><a href=\"file:///Users/anpigon/Library/Caches/pypoetry/virtualenvs/autorag-tutorial-ko-GYvpjDIx-py3.11/lib/python3.11/site-packages/httpx/_client.py#1773\" target=\"_blank\"><span style=\"color: #7f7f7f; text-decoration-color: #7f7f7f\">1773</span></a>\n",
       "<span style=\"color: #7fbfbf; text-decoration-color: #7fbfbf\">                    </span>         <span style=\"color: #0000ff; text-decoration-color: #0000ff; text-decoration: underline\">http://localhost:11434/api/generate</span> <span style=\"color: #008000; text-decoration-color: #008000\">\"HTTP/1.1 200 OK\"</span>                  <span style=\"color: #7f7f7f; text-decoration-color: #7f7f7f\">               </span>\n",
       "</pre>\n"
      ],
      "text/plain": [
       "\u001b[2;36m[07/12/24 18:25:52]\u001b[0m\u001b[2;36m \u001b[0m\u001b[34mINFO    \u001b[0m \u001b[1m[\u001b[0m_client.py:\u001b[1;36m1773\u001b[0m\u001b[1m]\u001b[0m >> HTTP Request: \u001b[1;33mPOST\u001b[0m                                \u001b]8;id=248306;file:///Users/anpigon/Library/Caches/pypoetry/virtualenvs/autorag-tutorial-ko-GYvpjDIx-py3.11/lib/python3.11/site-packages/httpx/_client.py\u001b\\\u001b[2m_client.py\u001b[0m\u001b]8;;\u001b\\\u001b[2m:\u001b[0m\u001b]8;id=657382;file:///Users/anpigon/Library/Caches/pypoetry/virtualenvs/autorag-tutorial-ko-GYvpjDIx-py3.11/lib/python3.11/site-packages/httpx/_client.py#1773\u001b\\\u001b[2m1773\u001b[0m\u001b]8;;\u001b\\\n",
       "\u001b[2;36m                    \u001b[0m         \u001b[4;94mhttp://localhost:11434/api/generate\u001b[0m \u001b[32m\"HTTP/1.1 200 OK\"\u001b[0m                  \u001b[2m               \u001b[0m\n"
      ]
     },
     "metadata": {},
     "output_type": "display_data"
    },
    {
     "data": {
      "text/html": [
       "<pre style=\"white-space:pre;overflow-x:auto;line-height:normal;font-family:Menlo,'DejaVu Sans Mono',consolas,'Courier New',monospace\"><span style=\"color: #7fbfbf; text-decoration-color: #7fbfbf\">[07/12/24 18:26:05] </span><span style=\"color: #000080; text-decoration-color: #000080\">INFO    </span> <span style=\"font-weight: bold\">[</span>_client.py:<span style=\"color: #008080; text-decoration-color: #008080; font-weight: bold\">1773</span><span style=\"font-weight: bold\">]</span> &gt;&gt; HTTP Request: <span style=\"color: #808000; text-decoration-color: #808000; font-weight: bold\">POST</span>                                <a href=\"file:///Users/anpigon/Library/Caches/pypoetry/virtualenvs/autorag-tutorial-ko-GYvpjDIx-py3.11/lib/python3.11/site-packages/httpx/_client.py\" target=\"_blank\"><span style=\"color: #7f7f7f; text-decoration-color: #7f7f7f\">_client.py</span></a><span style=\"color: #7f7f7f; text-decoration-color: #7f7f7f\">:</span><a href=\"file:///Users/anpigon/Library/Caches/pypoetry/virtualenvs/autorag-tutorial-ko-GYvpjDIx-py3.11/lib/python3.11/site-packages/httpx/_client.py#1773\" target=\"_blank\"><span style=\"color: #7f7f7f; text-decoration-color: #7f7f7f\">1773</span></a>\n",
       "<span style=\"color: #7fbfbf; text-decoration-color: #7fbfbf\">                    </span>         <span style=\"color: #0000ff; text-decoration-color: #0000ff; text-decoration: underline\">http://localhost:11434/api/generate</span> <span style=\"color: #008000; text-decoration-color: #008000\">\"HTTP/1.1 200 OK\"</span>                  <span style=\"color: #7f7f7f; text-decoration-color: #7f7f7f\">               </span>\n",
       "</pre>\n"
      ],
      "text/plain": [
       "\u001b[2;36m[07/12/24 18:26:05]\u001b[0m\u001b[2;36m \u001b[0m\u001b[34mINFO    \u001b[0m \u001b[1m[\u001b[0m_client.py:\u001b[1;36m1773\u001b[0m\u001b[1m]\u001b[0m >> HTTP Request: \u001b[1;33mPOST\u001b[0m                                \u001b]8;id=369310;file:///Users/anpigon/Library/Caches/pypoetry/virtualenvs/autorag-tutorial-ko-GYvpjDIx-py3.11/lib/python3.11/site-packages/httpx/_client.py\u001b\\\u001b[2m_client.py\u001b[0m\u001b]8;;\u001b\\\u001b[2m:\u001b[0m\u001b]8;id=380014;file:///Users/anpigon/Library/Caches/pypoetry/virtualenvs/autorag-tutorial-ko-GYvpjDIx-py3.11/lib/python3.11/site-packages/httpx/_client.py#1773\u001b\\\u001b[2m1773\u001b[0m\u001b]8;;\u001b\\\n",
       "\u001b[2;36m                    \u001b[0m         \u001b[4;94mhttp://localhost:11434/api/generate\u001b[0m \u001b[32m\"HTTP/1.1 200 OK\"\u001b[0m                  \u001b[2m               \u001b[0m\n"
      ]
     },
     "metadata": {},
     "output_type": "display_data"
    },
    {
     "data": {
      "text/html": [
       "<pre style=\"white-space:pre;overflow-x:auto;line-height:normal;font-family:Menlo,'DejaVu Sans Mono',consolas,'Courier New',monospace\"><span style=\"color: #7fbfbf; text-decoration-color: #7fbfbf\">[07/12/24 18:26:27] </span><span style=\"color: #000080; text-decoration-color: #000080\">INFO    </span> <span style=\"font-weight: bold\">[</span>_client.py:<span style=\"color: #008080; text-decoration-color: #008080; font-weight: bold\">1773</span><span style=\"font-weight: bold\">]</span> &gt;&gt; HTTP Request: <span style=\"color: #808000; text-decoration-color: #808000; font-weight: bold\">POST</span>                                <a href=\"file:///Users/anpigon/Library/Caches/pypoetry/virtualenvs/autorag-tutorial-ko-GYvpjDIx-py3.11/lib/python3.11/site-packages/httpx/_client.py\" target=\"_blank\"><span style=\"color: #7f7f7f; text-decoration-color: #7f7f7f\">_client.py</span></a><span style=\"color: #7f7f7f; text-decoration-color: #7f7f7f\">:</span><a href=\"file:///Users/anpigon/Library/Caches/pypoetry/virtualenvs/autorag-tutorial-ko-GYvpjDIx-py3.11/lib/python3.11/site-packages/httpx/_client.py#1773\" target=\"_blank\"><span style=\"color: #7f7f7f; text-decoration-color: #7f7f7f\">1773</span></a>\n",
       "<span style=\"color: #7fbfbf; text-decoration-color: #7fbfbf\">                    </span>         <span style=\"color: #0000ff; text-decoration-color: #0000ff; text-decoration: underline\">http://localhost:11434/api/generate</span> <span style=\"color: #008000; text-decoration-color: #008000\">\"HTTP/1.1 200 OK\"</span>                  <span style=\"color: #7f7f7f; text-decoration-color: #7f7f7f\">               </span>\n",
       "</pre>\n"
      ],
      "text/plain": [
       "\u001b[2;36m[07/12/24 18:26:27]\u001b[0m\u001b[2;36m \u001b[0m\u001b[34mINFO    \u001b[0m \u001b[1m[\u001b[0m_client.py:\u001b[1;36m1773\u001b[0m\u001b[1m]\u001b[0m >> HTTP Request: \u001b[1;33mPOST\u001b[0m                                \u001b]8;id=352481;file:///Users/anpigon/Library/Caches/pypoetry/virtualenvs/autorag-tutorial-ko-GYvpjDIx-py3.11/lib/python3.11/site-packages/httpx/_client.py\u001b\\\u001b[2m_client.py\u001b[0m\u001b]8;;\u001b\\\u001b[2m:\u001b[0m\u001b]8;id=94074;file:///Users/anpigon/Library/Caches/pypoetry/virtualenvs/autorag-tutorial-ko-GYvpjDIx-py3.11/lib/python3.11/site-packages/httpx/_client.py#1773\u001b\\\u001b[2m1773\u001b[0m\u001b]8;;\u001b\\\n",
       "\u001b[2;36m                    \u001b[0m         \u001b[4;94mhttp://localhost:11434/api/generate\u001b[0m \u001b[32m\"HTTP/1.1 200 OK\"\u001b[0m                  \u001b[2m               \u001b[0m\n"
      ]
     },
     "metadata": {},
     "output_type": "display_data"
    },
    {
     "data": {
      "text/html": [
       "<pre style=\"white-space:pre;overflow-x:auto;line-height:normal;font-family:Menlo,'DejaVu Sans Mono',consolas,'Courier New',monospace\"><span style=\"color: #7fbfbf; text-decoration-color: #7fbfbf\">[07/12/24 18:26:44] </span><span style=\"color: #000080; text-decoration-color: #000080\">INFO    </span> <span style=\"font-weight: bold\">[</span>_client.py:<span style=\"color: #008080; text-decoration-color: #008080; font-weight: bold\">1773</span><span style=\"font-weight: bold\">]</span> &gt;&gt; HTTP Request: <span style=\"color: #808000; text-decoration-color: #808000; font-weight: bold\">POST</span>                                <a href=\"file:///Users/anpigon/Library/Caches/pypoetry/virtualenvs/autorag-tutorial-ko-GYvpjDIx-py3.11/lib/python3.11/site-packages/httpx/_client.py\" target=\"_blank\"><span style=\"color: #7f7f7f; text-decoration-color: #7f7f7f\">_client.py</span></a><span style=\"color: #7f7f7f; text-decoration-color: #7f7f7f\">:</span><a href=\"file:///Users/anpigon/Library/Caches/pypoetry/virtualenvs/autorag-tutorial-ko-GYvpjDIx-py3.11/lib/python3.11/site-packages/httpx/_client.py#1773\" target=\"_blank\"><span style=\"color: #7f7f7f; text-decoration-color: #7f7f7f\">1773</span></a>\n",
       "<span style=\"color: #7fbfbf; text-decoration-color: #7fbfbf\">                    </span>         <span style=\"color: #0000ff; text-decoration-color: #0000ff; text-decoration: underline\">http://localhost:11434/api/generate</span> <span style=\"color: #008000; text-decoration-color: #008000\">\"HTTP/1.1 200 OK\"</span>                  <span style=\"color: #7f7f7f; text-decoration-color: #7f7f7f\">               </span>\n",
       "</pre>\n"
      ],
      "text/plain": [
       "\u001b[2;36m[07/12/24 18:26:44]\u001b[0m\u001b[2;36m \u001b[0m\u001b[34mINFO    \u001b[0m \u001b[1m[\u001b[0m_client.py:\u001b[1;36m1773\u001b[0m\u001b[1m]\u001b[0m >> HTTP Request: \u001b[1;33mPOST\u001b[0m                                \u001b]8;id=596797;file:///Users/anpigon/Library/Caches/pypoetry/virtualenvs/autorag-tutorial-ko-GYvpjDIx-py3.11/lib/python3.11/site-packages/httpx/_client.py\u001b\\\u001b[2m_client.py\u001b[0m\u001b]8;;\u001b\\\u001b[2m:\u001b[0m\u001b]8;id=918970;file:///Users/anpigon/Library/Caches/pypoetry/virtualenvs/autorag-tutorial-ko-GYvpjDIx-py3.11/lib/python3.11/site-packages/httpx/_client.py#1773\u001b\\\u001b[2m1773\u001b[0m\u001b]8;;\u001b\\\n",
       "\u001b[2;36m                    \u001b[0m         \u001b[4;94mhttp://localhost:11434/api/generate\u001b[0m \u001b[32m\"HTTP/1.1 200 OK\"\u001b[0m                  \u001b[2m               \u001b[0m\n"
      ]
     },
     "metadata": {},
     "output_type": "display_data"
    },
    {
     "data": {
      "text/html": [
       "<pre style=\"white-space:pre;overflow-x:auto;line-height:normal;font-family:Menlo,'DejaVu Sans Mono',consolas,'Courier New',monospace\"><span style=\"color: #7fbfbf; text-decoration-color: #7fbfbf\">[07/12/24 18:27:03] </span><span style=\"color: #000080; text-decoration-color: #000080\">INFO    </span> <span style=\"font-weight: bold\">[</span>_client.py:<span style=\"color: #008080; text-decoration-color: #008080; font-weight: bold\">1773</span><span style=\"font-weight: bold\">]</span> &gt;&gt; HTTP Request: <span style=\"color: #808000; text-decoration-color: #808000; font-weight: bold\">POST</span>                                <a href=\"file:///Users/anpigon/Library/Caches/pypoetry/virtualenvs/autorag-tutorial-ko-GYvpjDIx-py3.11/lib/python3.11/site-packages/httpx/_client.py\" target=\"_blank\"><span style=\"color: #7f7f7f; text-decoration-color: #7f7f7f\">_client.py</span></a><span style=\"color: #7f7f7f; text-decoration-color: #7f7f7f\">:</span><a href=\"file:///Users/anpigon/Library/Caches/pypoetry/virtualenvs/autorag-tutorial-ko-GYvpjDIx-py3.11/lib/python3.11/site-packages/httpx/_client.py#1773\" target=\"_blank\"><span style=\"color: #7f7f7f; text-decoration-color: #7f7f7f\">1773</span></a>\n",
       "<span style=\"color: #7fbfbf; text-decoration-color: #7fbfbf\">                    </span>         <span style=\"color: #0000ff; text-decoration-color: #0000ff; text-decoration: underline\">http://localhost:11434/api/generate</span> <span style=\"color: #008000; text-decoration-color: #008000\">\"HTTP/1.1 200 OK\"</span>                  <span style=\"color: #7f7f7f; text-decoration-color: #7f7f7f\">               </span>\n",
       "</pre>\n"
      ],
      "text/plain": [
       "\u001b[2;36m[07/12/24 18:27:03]\u001b[0m\u001b[2;36m \u001b[0m\u001b[34mINFO    \u001b[0m \u001b[1m[\u001b[0m_client.py:\u001b[1;36m1773\u001b[0m\u001b[1m]\u001b[0m >> HTTP Request: \u001b[1;33mPOST\u001b[0m                                \u001b]8;id=547378;file:///Users/anpigon/Library/Caches/pypoetry/virtualenvs/autorag-tutorial-ko-GYvpjDIx-py3.11/lib/python3.11/site-packages/httpx/_client.py\u001b\\\u001b[2m_client.py\u001b[0m\u001b]8;;\u001b\\\u001b[2m:\u001b[0m\u001b]8;id=117616;file:///Users/anpigon/Library/Caches/pypoetry/virtualenvs/autorag-tutorial-ko-GYvpjDIx-py3.11/lib/python3.11/site-packages/httpx/_client.py#1773\u001b\\\u001b[2m1773\u001b[0m\u001b]8;;\u001b\\\n",
       "\u001b[2;36m                    \u001b[0m         \u001b[4;94mhttp://localhost:11434/api/generate\u001b[0m \u001b[32m\"HTTP/1.1 200 OK\"\u001b[0m                  \u001b[2m               \u001b[0m\n"
      ]
     },
     "metadata": {},
     "output_type": "display_data"
    },
    {
     "data": {
      "text/html": [
       "<pre style=\"white-space:pre;overflow-x:auto;line-height:normal;font-family:Menlo,'DejaVu Sans Mono',consolas,'Courier New',monospace\"><span style=\"color: #7fbfbf; text-decoration-color: #7fbfbf\">[07/12/24 18:27:17] </span><span style=\"color: #000080; text-decoration-color: #000080\">INFO    </span> <span style=\"font-weight: bold\">[</span>_client.py:<span style=\"color: #008080; text-decoration-color: #008080; font-weight: bold\">1773</span><span style=\"font-weight: bold\">]</span> &gt;&gt; HTTP Request: <span style=\"color: #808000; text-decoration-color: #808000; font-weight: bold\">POST</span>                                <a href=\"file:///Users/anpigon/Library/Caches/pypoetry/virtualenvs/autorag-tutorial-ko-GYvpjDIx-py3.11/lib/python3.11/site-packages/httpx/_client.py\" target=\"_blank\"><span style=\"color: #7f7f7f; text-decoration-color: #7f7f7f\">_client.py</span></a><span style=\"color: #7f7f7f; text-decoration-color: #7f7f7f\">:</span><a href=\"file:///Users/anpigon/Library/Caches/pypoetry/virtualenvs/autorag-tutorial-ko-GYvpjDIx-py3.11/lib/python3.11/site-packages/httpx/_client.py#1773\" target=\"_blank\"><span style=\"color: #7f7f7f; text-decoration-color: #7f7f7f\">1773</span></a>\n",
       "<span style=\"color: #7fbfbf; text-decoration-color: #7fbfbf\">                    </span>         <span style=\"color: #0000ff; text-decoration-color: #0000ff; text-decoration: underline\">http://localhost:11434/api/generate</span> <span style=\"color: #008000; text-decoration-color: #008000\">\"HTTP/1.1 200 OK\"</span>                  <span style=\"color: #7f7f7f; text-decoration-color: #7f7f7f\">               </span>\n",
       "</pre>\n"
      ],
      "text/plain": [
       "\u001b[2;36m[07/12/24 18:27:17]\u001b[0m\u001b[2;36m \u001b[0m\u001b[34mINFO    \u001b[0m \u001b[1m[\u001b[0m_client.py:\u001b[1;36m1773\u001b[0m\u001b[1m]\u001b[0m >> HTTP Request: \u001b[1;33mPOST\u001b[0m                                \u001b]8;id=822125;file:///Users/anpigon/Library/Caches/pypoetry/virtualenvs/autorag-tutorial-ko-GYvpjDIx-py3.11/lib/python3.11/site-packages/httpx/_client.py\u001b\\\u001b[2m_client.py\u001b[0m\u001b]8;;\u001b\\\u001b[2m:\u001b[0m\u001b]8;id=959993;file:///Users/anpigon/Library/Caches/pypoetry/virtualenvs/autorag-tutorial-ko-GYvpjDIx-py3.11/lib/python3.11/site-packages/httpx/_client.py#1773\u001b\\\u001b[2m1773\u001b[0m\u001b]8;;\u001b\\\n",
       "\u001b[2;36m                    \u001b[0m         \u001b[4;94mhttp://localhost:11434/api/generate\u001b[0m \u001b[32m\"HTTP/1.1 200 OK\"\u001b[0m                  \u001b[2m               \u001b[0m\n"
      ]
     },
     "metadata": {},
     "output_type": "display_data"
    },
    {
     "data": {
      "text/html": [
       "<pre style=\"white-space:pre;overflow-x:auto;line-height:normal;font-family:Menlo,'DejaVu Sans Mono',consolas,'Courier New',monospace\"><span style=\"color: #7fbfbf; text-decoration-color: #7fbfbf\">[07/12/24 18:27:37] </span><span style=\"color: #000080; text-decoration-color: #000080\">INFO    </span> <span style=\"font-weight: bold\">[</span>_client.py:<span style=\"color: #008080; text-decoration-color: #008080; font-weight: bold\">1773</span><span style=\"font-weight: bold\">]</span> &gt;&gt; HTTP Request: <span style=\"color: #808000; text-decoration-color: #808000; font-weight: bold\">POST</span>                                <a href=\"file:///Users/anpigon/Library/Caches/pypoetry/virtualenvs/autorag-tutorial-ko-GYvpjDIx-py3.11/lib/python3.11/site-packages/httpx/_client.py\" target=\"_blank\"><span style=\"color: #7f7f7f; text-decoration-color: #7f7f7f\">_client.py</span></a><span style=\"color: #7f7f7f; text-decoration-color: #7f7f7f\">:</span><a href=\"file:///Users/anpigon/Library/Caches/pypoetry/virtualenvs/autorag-tutorial-ko-GYvpjDIx-py3.11/lib/python3.11/site-packages/httpx/_client.py#1773\" target=\"_blank\"><span style=\"color: #7f7f7f; text-decoration-color: #7f7f7f\">1773</span></a>\n",
       "<span style=\"color: #7fbfbf; text-decoration-color: #7fbfbf\">                    </span>         <span style=\"color: #0000ff; text-decoration-color: #0000ff; text-decoration: underline\">http://localhost:11434/api/generate</span> <span style=\"color: #008000; text-decoration-color: #008000\">\"HTTP/1.1 200 OK\"</span>                  <span style=\"color: #7f7f7f; text-decoration-color: #7f7f7f\">               </span>\n",
       "</pre>\n"
      ],
      "text/plain": [
       "\u001b[2;36m[07/12/24 18:27:37]\u001b[0m\u001b[2;36m \u001b[0m\u001b[34mINFO    \u001b[0m \u001b[1m[\u001b[0m_client.py:\u001b[1;36m1773\u001b[0m\u001b[1m]\u001b[0m >> HTTP Request: \u001b[1;33mPOST\u001b[0m                                \u001b]8;id=828766;file:///Users/anpigon/Library/Caches/pypoetry/virtualenvs/autorag-tutorial-ko-GYvpjDIx-py3.11/lib/python3.11/site-packages/httpx/_client.py\u001b\\\u001b[2m_client.py\u001b[0m\u001b]8;;\u001b\\\u001b[2m:\u001b[0m\u001b]8;id=58967;file:///Users/anpigon/Library/Caches/pypoetry/virtualenvs/autorag-tutorial-ko-GYvpjDIx-py3.11/lib/python3.11/site-packages/httpx/_client.py#1773\u001b\\\u001b[2m1773\u001b[0m\u001b]8;;\u001b\\\n",
       "\u001b[2;36m                    \u001b[0m         \u001b[4;94mhttp://localhost:11434/api/generate\u001b[0m \u001b[32m\"HTTP/1.1 200 OK\"\u001b[0m                  \u001b[2m               \u001b[0m\n"
      ]
     },
     "metadata": {},
     "output_type": "display_data"
    },
    {
     "data": {
      "text/html": [
       "<pre style=\"white-space:pre;overflow-x:auto;line-height:normal;font-family:Menlo,'DejaVu Sans Mono',consolas,'Courier New',monospace\"><span style=\"color: #7fbfbf; text-decoration-color: #7fbfbf\">[07/12/24 18:27:53] </span><span style=\"color: #000080; text-decoration-color: #000080\">INFO    </span> <span style=\"font-weight: bold\">[</span>_client.py:<span style=\"color: #008080; text-decoration-color: #008080; font-weight: bold\">1773</span><span style=\"font-weight: bold\">]</span> &gt;&gt; HTTP Request: <span style=\"color: #808000; text-decoration-color: #808000; font-weight: bold\">POST</span>                                <a href=\"file:///Users/anpigon/Library/Caches/pypoetry/virtualenvs/autorag-tutorial-ko-GYvpjDIx-py3.11/lib/python3.11/site-packages/httpx/_client.py\" target=\"_blank\"><span style=\"color: #7f7f7f; text-decoration-color: #7f7f7f\">_client.py</span></a><span style=\"color: #7f7f7f; text-decoration-color: #7f7f7f\">:</span><a href=\"file:///Users/anpigon/Library/Caches/pypoetry/virtualenvs/autorag-tutorial-ko-GYvpjDIx-py3.11/lib/python3.11/site-packages/httpx/_client.py#1773\" target=\"_blank\"><span style=\"color: #7f7f7f; text-decoration-color: #7f7f7f\">1773</span></a>\n",
       "<span style=\"color: #7fbfbf; text-decoration-color: #7fbfbf\">                    </span>         <span style=\"color: #0000ff; text-decoration-color: #0000ff; text-decoration: underline\">http://localhost:11434/api/generate</span> <span style=\"color: #008000; text-decoration-color: #008000\">\"HTTP/1.1 200 OK\"</span>                  <span style=\"color: #7f7f7f; text-decoration-color: #7f7f7f\">               </span>\n",
       "</pre>\n"
      ],
      "text/plain": [
       "\u001b[2;36m[07/12/24 18:27:53]\u001b[0m\u001b[2;36m \u001b[0m\u001b[34mINFO    \u001b[0m \u001b[1m[\u001b[0m_client.py:\u001b[1;36m1773\u001b[0m\u001b[1m]\u001b[0m >> HTTP Request: \u001b[1;33mPOST\u001b[0m                                \u001b]8;id=660506;file:///Users/anpigon/Library/Caches/pypoetry/virtualenvs/autorag-tutorial-ko-GYvpjDIx-py3.11/lib/python3.11/site-packages/httpx/_client.py\u001b\\\u001b[2m_client.py\u001b[0m\u001b]8;;\u001b\\\u001b[2m:\u001b[0m\u001b]8;id=807589;file:///Users/anpigon/Library/Caches/pypoetry/virtualenvs/autorag-tutorial-ko-GYvpjDIx-py3.11/lib/python3.11/site-packages/httpx/_client.py#1773\u001b\\\u001b[2m1773\u001b[0m\u001b]8;;\u001b\\\n",
       "\u001b[2;36m                    \u001b[0m         \u001b[4;94mhttp://localhost:11434/api/generate\u001b[0m \u001b[32m\"HTTP/1.1 200 OK\"\u001b[0m                  \u001b[2m               \u001b[0m\n"
      ]
     },
     "metadata": {},
     "output_type": "display_data"
    },
    {
     "data": {
      "text/html": [
       "<pre style=\"white-space:pre;overflow-x:auto;line-height:normal;font-family:Menlo,'DejaVu Sans Mono',consolas,'Courier New',monospace\"><span style=\"color: #7fbfbf; text-decoration-color: #7fbfbf\">[07/12/24 18:28:12] </span><span style=\"color: #000080; text-decoration-color: #000080\">INFO    </span> <span style=\"font-weight: bold\">[</span>_client.py:<span style=\"color: #008080; text-decoration-color: #008080; font-weight: bold\">1773</span><span style=\"font-weight: bold\">]</span> &gt;&gt; HTTP Request: <span style=\"color: #808000; text-decoration-color: #808000; font-weight: bold\">POST</span>                                <a href=\"file:///Users/anpigon/Library/Caches/pypoetry/virtualenvs/autorag-tutorial-ko-GYvpjDIx-py3.11/lib/python3.11/site-packages/httpx/_client.py\" target=\"_blank\"><span style=\"color: #7f7f7f; text-decoration-color: #7f7f7f\">_client.py</span></a><span style=\"color: #7f7f7f; text-decoration-color: #7f7f7f\">:</span><a href=\"file:///Users/anpigon/Library/Caches/pypoetry/virtualenvs/autorag-tutorial-ko-GYvpjDIx-py3.11/lib/python3.11/site-packages/httpx/_client.py#1773\" target=\"_blank\"><span style=\"color: #7f7f7f; text-decoration-color: #7f7f7f\">1773</span></a>\n",
       "<span style=\"color: #7fbfbf; text-decoration-color: #7fbfbf\">                    </span>         <span style=\"color: #0000ff; text-decoration-color: #0000ff; text-decoration: underline\">http://localhost:11434/api/generate</span> <span style=\"color: #008000; text-decoration-color: #008000\">\"HTTP/1.1 200 OK\"</span>                  <span style=\"color: #7f7f7f; text-decoration-color: #7f7f7f\">               </span>\n",
       "</pre>\n"
      ],
      "text/plain": [
       "\u001b[2;36m[07/12/24 18:28:12]\u001b[0m\u001b[2;36m \u001b[0m\u001b[34mINFO    \u001b[0m \u001b[1m[\u001b[0m_client.py:\u001b[1;36m1773\u001b[0m\u001b[1m]\u001b[0m >> HTTP Request: \u001b[1;33mPOST\u001b[0m                                \u001b]8;id=781555;file:///Users/anpigon/Library/Caches/pypoetry/virtualenvs/autorag-tutorial-ko-GYvpjDIx-py3.11/lib/python3.11/site-packages/httpx/_client.py\u001b\\\u001b[2m_client.py\u001b[0m\u001b]8;;\u001b\\\u001b[2m:\u001b[0m\u001b]8;id=543044;file:///Users/anpigon/Library/Caches/pypoetry/virtualenvs/autorag-tutorial-ko-GYvpjDIx-py3.11/lib/python3.11/site-packages/httpx/_client.py#1773\u001b\\\u001b[2m1773\u001b[0m\u001b]8;;\u001b\\\n",
       "\u001b[2;36m                    \u001b[0m         \u001b[4;94mhttp://localhost:11434/api/generate\u001b[0m \u001b[32m\"HTTP/1.1 200 OK\"\u001b[0m                  \u001b[2m               \u001b[0m\n"
      ]
     },
     "metadata": {},
     "output_type": "display_data"
    },
    {
     "data": {
      "text/html": [
       "<pre style=\"white-space:pre;overflow-x:auto;line-height:normal;font-family:Menlo,'DejaVu Sans Mono',consolas,'Courier New',monospace\"><span style=\"color: #7fbfbf; text-decoration-color: #7fbfbf\">[07/12/24 18:28:29] </span><span style=\"color: #000080; text-decoration-color: #000080\">INFO    </span> <span style=\"font-weight: bold\">[</span>_client.py:<span style=\"color: #008080; text-decoration-color: #008080; font-weight: bold\">1773</span><span style=\"font-weight: bold\">]</span> &gt;&gt; HTTP Request: <span style=\"color: #808000; text-decoration-color: #808000; font-weight: bold\">POST</span>                                <a href=\"file:///Users/anpigon/Library/Caches/pypoetry/virtualenvs/autorag-tutorial-ko-GYvpjDIx-py3.11/lib/python3.11/site-packages/httpx/_client.py\" target=\"_blank\"><span style=\"color: #7f7f7f; text-decoration-color: #7f7f7f\">_client.py</span></a><span style=\"color: #7f7f7f; text-decoration-color: #7f7f7f\">:</span><a href=\"file:///Users/anpigon/Library/Caches/pypoetry/virtualenvs/autorag-tutorial-ko-GYvpjDIx-py3.11/lib/python3.11/site-packages/httpx/_client.py#1773\" target=\"_blank\"><span style=\"color: #7f7f7f; text-decoration-color: #7f7f7f\">1773</span></a>\n",
       "<span style=\"color: #7fbfbf; text-decoration-color: #7fbfbf\">                    </span>         <span style=\"color: #0000ff; text-decoration-color: #0000ff; text-decoration: underline\">http://localhost:11434/api/generate</span> <span style=\"color: #008000; text-decoration-color: #008000\">\"HTTP/1.1 200 OK\"</span>                  <span style=\"color: #7f7f7f; text-decoration-color: #7f7f7f\">               </span>\n",
       "</pre>\n"
      ],
      "text/plain": [
       "\u001b[2;36m[07/12/24 18:28:29]\u001b[0m\u001b[2;36m \u001b[0m\u001b[34mINFO    \u001b[0m \u001b[1m[\u001b[0m_client.py:\u001b[1;36m1773\u001b[0m\u001b[1m]\u001b[0m >> HTTP Request: \u001b[1;33mPOST\u001b[0m                                \u001b]8;id=65592;file:///Users/anpigon/Library/Caches/pypoetry/virtualenvs/autorag-tutorial-ko-GYvpjDIx-py3.11/lib/python3.11/site-packages/httpx/_client.py\u001b\\\u001b[2m_client.py\u001b[0m\u001b]8;;\u001b\\\u001b[2m:\u001b[0m\u001b]8;id=672580;file:///Users/anpigon/Library/Caches/pypoetry/virtualenvs/autorag-tutorial-ko-GYvpjDIx-py3.11/lib/python3.11/site-packages/httpx/_client.py#1773\u001b\\\u001b[2m1773\u001b[0m\u001b]8;;\u001b\\\n",
       "\u001b[2;36m                    \u001b[0m         \u001b[4;94mhttp://localhost:11434/api/generate\u001b[0m \u001b[32m\"HTTP/1.1 200 OK\"\u001b[0m                  \u001b[2m               \u001b[0m\n"
      ]
     },
     "metadata": {},
     "output_type": "display_data"
    },
    {
     "data": {
      "text/html": [
       "<pre style=\"white-space:pre;overflow-x:auto;line-height:normal;font-family:Menlo,'DejaVu Sans Mono',consolas,'Courier New',monospace\"><span style=\"color: #7fbfbf; text-decoration-color: #7fbfbf\">[07/12/24 18:28:43] </span><span style=\"color: #000080; text-decoration-color: #000080\">INFO    </span> <span style=\"font-weight: bold\">[</span>_client.py:<span style=\"color: #008080; text-decoration-color: #008080; font-weight: bold\">1773</span><span style=\"font-weight: bold\">]</span> &gt;&gt; HTTP Request: <span style=\"color: #808000; text-decoration-color: #808000; font-weight: bold\">POST</span>                                <a href=\"file:///Users/anpigon/Library/Caches/pypoetry/virtualenvs/autorag-tutorial-ko-GYvpjDIx-py3.11/lib/python3.11/site-packages/httpx/_client.py\" target=\"_blank\"><span style=\"color: #7f7f7f; text-decoration-color: #7f7f7f\">_client.py</span></a><span style=\"color: #7f7f7f; text-decoration-color: #7f7f7f\">:</span><a href=\"file:///Users/anpigon/Library/Caches/pypoetry/virtualenvs/autorag-tutorial-ko-GYvpjDIx-py3.11/lib/python3.11/site-packages/httpx/_client.py#1773\" target=\"_blank\"><span style=\"color: #7f7f7f; text-decoration-color: #7f7f7f\">1773</span></a>\n",
       "<span style=\"color: #7fbfbf; text-decoration-color: #7fbfbf\">                    </span>         <span style=\"color: #0000ff; text-decoration-color: #0000ff; text-decoration: underline\">http://localhost:11434/api/generate</span> <span style=\"color: #008000; text-decoration-color: #008000\">\"HTTP/1.1 200 OK\"</span>                  <span style=\"color: #7f7f7f; text-decoration-color: #7f7f7f\">               </span>\n",
       "</pre>\n"
      ],
      "text/plain": [
       "\u001b[2;36m[07/12/24 18:28:43]\u001b[0m\u001b[2;36m \u001b[0m\u001b[34mINFO    \u001b[0m \u001b[1m[\u001b[0m_client.py:\u001b[1;36m1773\u001b[0m\u001b[1m]\u001b[0m >> HTTP Request: \u001b[1;33mPOST\u001b[0m                                \u001b]8;id=921206;file:///Users/anpigon/Library/Caches/pypoetry/virtualenvs/autorag-tutorial-ko-GYvpjDIx-py3.11/lib/python3.11/site-packages/httpx/_client.py\u001b\\\u001b[2m_client.py\u001b[0m\u001b]8;;\u001b\\\u001b[2m:\u001b[0m\u001b]8;id=857873;file:///Users/anpigon/Library/Caches/pypoetry/virtualenvs/autorag-tutorial-ko-GYvpjDIx-py3.11/lib/python3.11/site-packages/httpx/_client.py#1773\u001b\\\u001b[2m1773\u001b[0m\u001b]8;;\u001b\\\n",
       "\u001b[2;36m                    \u001b[0m         \u001b[4;94mhttp://localhost:11434/api/generate\u001b[0m \u001b[32m\"HTTP/1.1 200 OK\"\u001b[0m                  \u001b[2m               \u001b[0m\n"
      ]
     },
     "metadata": {},
     "output_type": "display_data"
    },
    {
     "data": {
      "text/html": [
       "<pre style=\"white-space:pre;overflow-x:auto;line-height:normal;font-family:Menlo,'DejaVu Sans Mono',consolas,'Courier New',monospace\"><span style=\"color: #7fbfbf; text-decoration-color: #7fbfbf\">[07/12/24 18:28:58] </span><span style=\"color: #000080; text-decoration-color: #000080\">INFO    </span> <span style=\"font-weight: bold\">[</span>_client.py:<span style=\"color: #008080; text-decoration-color: #008080; font-weight: bold\">1773</span><span style=\"font-weight: bold\">]</span> &gt;&gt; HTTP Request: <span style=\"color: #808000; text-decoration-color: #808000; font-weight: bold\">POST</span>                                <a href=\"file:///Users/anpigon/Library/Caches/pypoetry/virtualenvs/autorag-tutorial-ko-GYvpjDIx-py3.11/lib/python3.11/site-packages/httpx/_client.py\" target=\"_blank\"><span style=\"color: #7f7f7f; text-decoration-color: #7f7f7f\">_client.py</span></a><span style=\"color: #7f7f7f; text-decoration-color: #7f7f7f\">:</span><a href=\"file:///Users/anpigon/Library/Caches/pypoetry/virtualenvs/autorag-tutorial-ko-GYvpjDIx-py3.11/lib/python3.11/site-packages/httpx/_client.py#1773\" target=\"_blank\"><span style=\"color: #7f7f7f; text-decoration-color: #7f7f7f\">1773</span></a>\n",
       "<span style=\"color: #7fbfbf; text-decoration-color: #7fbfbf\">                    </span>         <span style=\"color: #0000ff; text-decoration-color: #0000ff; text-decoration: underline\">http://localhost:11434/api/generate</span> <span style=\"color: #008000; text-decoration-color: #008000\">\"HTTP/1.1 200 OK\"</span>                  <span style=\"color: #7f7f7f; text-decoration-color: #7f7f7f\">               </span>\n",
       "</pre>\n"
      ],
      "text/plain": [
       "\u001b[2;36m[07/12/24 18:28:58]\u001b[0m\u001b[2;36m \u001b[0m\u001b[34mINFO    \u001b[0m \u001b[1m[\u001b[0m_client.py:\u001b[1;36m1773\u001b[0m\u001b[1m]\u001b[0m >> HTTP Request: \u001b[1;33mPOST\u001b[0m                                \u001b]8;id=22434;file:///Users/anpigon/Library/Caches/pypoetry/virtualenvs/autorag-tutorial-ko-GYvpjDIx-py3.11/lib/python3.11/site-packages/httpx/_client.py\u001b\\\u001b[2m_client.py\u001b[0m\u001b]8;;\u001b\\\u001b[2m:\u001b[0m\u001b]8;id=588454;file:///Users/anpigon/Library/Caches/pypoetry/virtualenvs/autorag-tutorial-ko-GYvpjDIx-py3.11/lib/python3.11/site-packages/httpx/_client.py#1773\u001b\\\u001b[2m1773\u001b[0m\u001b]8;;\u001b\\\n",
       "\u001b[2;36m                    \u001b[0m         \u001b[4;94mhttp://localhost:11434/api/generate\u001b[0m \u001b[32m\"HTTP/1.1 200 OK\"\u001b[0m                  \u001b[2m               \u001b[0m\n"
      ]
     },
     "metadata": {},
     "output_type": "display_data"
    },
    {
     "data": {
      "text/html": [
       "<pre style=\"white-space:pre;overflow-x:auto;line-height:normal;font-family:Menlo,'DejaVu Sans Mono',consolas,'Courier New',monospace\"><span style=\"color: #7fbfbf; text-decoration-color: #7fbfbf\">[07/12/24 18:29:10] </span><span style=\"color: #000080; text-decoration-color: #000080\">INFO    </span> <span style=\"font-weight: bold\">[</span>_client.py:<span style=\"color: #008080; text-decoration-color: #008080; font-weight: bold\">1773</span><span style=\"font-weight: bold\">]</span> &gt;&gt; HTTP Request: <span style=\"color: #808000; text-decoration-color: #808000; font-weight: bold\">POST</span>                                <a href=\"file:///Users/anpigon/Library/Caches/pypoetry/virtualenvs/autorag-tutorial-ko-GYvpjDIx-py3.11/lib/python3.11/site-packages/httpx/_client.py\" target=\"_blank\"><span style=\"color: #7f7f7f; text-decoration-color: #7f7f7f\">_client.py</span></a><span style=\"color: #7f7f7f; text-decoration-color: #7f7f7f\">:</span><a href=\"file:///Users/anpigon/Library/Caches/pypoetry/virtualenvs/autorag-tutorial-ko-GYvpjDIx-py3.11/lib/python3.11/site-packages/httpx/_client.py#1773\" target=\"_blank\"><span style=\"color: #7f7f7f; text-decoration-color: #7f7f7f\">1773</span></a>\n",
       "<span style=\"color: #7fbfbf; text-decoration-color: #7fbfbf\">                    </span>         <span style=\"color: #0000ff; text-decoration-color: #0000ff; text-decoration: underline\">http://localhost:11434/api/generate</span> <span style=\"color: #008000; text-decoration-color: #008000\">\"HTTP/1.1 200 OK\"</span>                  <span style=\"color: #7f7f7f; text-decoration-color: #7f7f7f\">               </span>\n",
       "</pre>\n"
      ],
      "text/plain": [
       "\u001b[2;36m[07/12/24 18:29:10]\u001b[0m\u001b[2;36m \u001b[0m\u001b[34mINFO    \u001b[0m \u001b[1m[\u001b[0m_client.py:\u001b[1;36m1773\u001b[0m\u001b[1m]\u001b[0m >> HTTP Request: \u001b[1;33mPOST\u001b[0m                                \u001b]8;id=810895;file:///Users/anpigon/Library/Caches/pypoetry/virtualenvs/autorag-tutorial-ko-GYvpjDIx-py3.11/lib/python3.11/site-packages/httpx/_client.py\u001b\\\u001b[2m_client.py\u001b[0m\u001b]8;;\u001b\\\u001b[2m:\u001b[0m\u001b]8;id=333138;file:///Users/anpigon/Library/Caches/pypoetry/virtualenvs/autorag-tutorial-ko-GYvpjDIx-py3.11/lib/python3.11/site-packages/httpx/_client.py#1773\u001b\\\u001b[2m1773\u001b[0m\u001b]8;;\u001b\\\n",
       "\u001b[2;36m                    \u001b[0m         \u001b[4;94mhttp://localhost:11434/api/generate\u001b[0m \u001b[32m\"HTTP/1.1 200 OK\"\u001b[0m                  \u001b[2m               \u001b[0m\n"
      ]
     },
     "metadata": {},
     "output_type": "display_data"
    },
    {
     "data": {
      "text/html": [
       "<pre style=\"white-space:pre;overflow-x:auto;line-height:normal;font-family:Menlo,'DejaVu Sans Mono',consolas,'Courier New',monospace\"><span style=\"color: #7fbfbf; text-decoration-color: #7fbfbf\">[07/12/24 18:29:23] </span><span style=\"color: #000080; text-decoration-color: #000080\">INFO    </span> <span style=\"font-weight: bold\">[</span>_client.py:<span style=\"color: #008080; text-decoration-color: #008080; font-weight: bold\">1773</span><span style=\"font-weight: bold\">]</span> &gt;&gt; HTTP Request: <span style=\"color: #808000; text-decoration-color: #808000; font-weight: bold\">POST</span>                                <a href=\"file:///Users/anpigon/Library/Caches/pypoetry/virtualenvs/autorag-tutorial-ko-GYvpjDIx-py3.11/lib/python3.11/site-packages/httpx/_client.py\" target=\"_blank\"><span style=\"color: #7f7f7f; text-decoration-color: #7f7f7f\">_client.py</span></a><span style=\"color: #7f7f7f; text-decoration-color: #7f7f7f\">:</span><a href=\"file:///Users/anpigon/Library/Caches/pypoetry/virtualenvs/autorag-tutorial-ko-GYvpjDIx-py3.11/lib/python3.11/site-packages/httpx/_client.py#1773\" target=\"_blank\"><span style=\"color: #7f7f7f; text-decoration-color: #7f7f7f\">1773</span></a>\n",
       "<span style=\"color: #7fbfbf; text-decoration-color: #7fbfbf\">                    </span>         <span style=\"color: #0000ff; text-decoration-color: #0000ff; text-decoration: underline\">http://localhost:11434/api/generate</span> <span style=\"color: #008000; text-decoration-color: #008000\">\"HTTP/1.1 200 OK\"</span>                  <span style=\"color: #7f7f7f; text-decoration-color: #7f7f7f\">               </span>\n",
       "</pre>\n"
      ],
      "text/plain": [
       "\u001b[2;36m[07/12/24 18:29:23]\u001b[0m\u001b[2;36m \u001b[0m\u001b[34mINFO    \u001b[0m \u001b[1m[\u001b[0m_client.py:\u001b[1;36m1773\u001b[0m\u001b[1m]\u001b[0m >> HTTP Request: \u001b[1;33mPOST\u001b[0m                                \u001b]8;id=874088;file:///Users/anpigon/Library/Caches/pypoetry/virtualenvs/autorag-tutorial-ko-GYvpjDIx-py3.11/lib/python3.11/site-packages/httpx/_client.py\u001b\\\u001b[2m_client.py\u001b[0m\u001b]8;;\u001b\\\u001b[2m:\u001b[0m\u001b]8;id=851485;file:///Users/anpigon/Library/Caches/pypoetry/virtualenvs/autorag-tutorial-ko-GYvpjDIx-py3.11/lib/python3.11/site-packages/httpx/_client.py#1773\u001b\\\u001b[2m1773\u001b[0m\u001b]8;;\u001b\\\n",
       "\u001b[2;36m                    \u001b[0m         \u001b[4;94mhttp://localhost:11434/api/generate\u001b[0m \u001b[32m\"HTTP/1.1 200 OK\"\u001b[0m                  \u001b[2m               \u001b[0m\n"
      ]
     },
     "metadata": {},
     "output_type": "display_data"
    },
    {
     "data": {
      "text/html": [
       "<pre style=\"white-space:pre;overflow-x:auto;line-height:normal;font-family:Menlo,'DejaVu Sans Mono',consolas,'Courier New',monospace\"><span style=\"color: #7fbfbf; text-decoration-color: #7fbfbf\">[07/12/24 18:29:42] </span><span style=\"color: #000080; text-decoration-color: #000080\">INFO    </span> <span style=\"font-weight: bold\">[</span>_client.py:<span style=\"color: #008080; text-decoration-color: #008080; font-weight: bold\">1773</span><span style=\"font-weight: bold\">]</span> &gt;&gt; HTTP Request: <span style=\"color: #808000; text-decoration-color: #808000; font-weight: bold\">POST</span>                                <a href=\"file:///Users/anpigon/Library/Caches/pypoetry/virtualenvs/autorag-tutorial-ko-GYvpjDIx-py3.11/lib/python3.11/site-packages/httpx/_client.py\" target=\"_blank\"><span style=\"color: #7f7f7f; text-decoration-color: #7f7f7f\">_client.py</span></a><span style=\"color: #7f7f7f; text-decoration-color: #7f7f7f\">:</span><a href=\"file:///Users/anpigon/Library/Caches/pypoetry/virtualenvs/autorag-tutorial-ko-GYvpjDIx-py3.11/lib/python3.11/site-packages/httpx/_client.py#1773\" target=\"_blank\"><span style=\"color: #7f7f7f; text-decoration-color: #7f7f7f\">1773</span></a>\n",
       "<span style=\"color: #7fbfbf; text-decoration-color: #7fbfbf\">                    </span>         <span style=\"color: #0000ff; text-decoration-color: #0000ff; text-decoration: underline\">http://localhost:11434/api/generate</span> <span style=\"color: #008000; text-decoration-color: #008000\">\"HTTP/1.1 200 OK\"</span>                  <span style=\"color: #7f7f7f; text-decoration-color: #7f7f7f\">               </span>\n",
       "</pre>\n"
      ],
      "text/plain": [
       "\u001b[2;36m[07/12/24 18:29:42]\u001b[0m\u001b[2;36m \u001b[0m\u001b[34mINFO    \u001b[0m \u001b[1m[\u001b[0m_client.py:\u001b[1;36m1773\u001b[0m\u001b[1m]\u001b[0m >> HTTP Request: \u001b[1;33mPOST\u001b[0m                                \u001b]8;id=284835;file:///Users/anpigon/Library/Caches/pypoetry/virtualenvs/autorag-tutorial-ko-GYvpjDIx-py3.11/lib/python3.11/site-packages/httpx/_client.py\u001b\\\u001b[2m_client.py\u001b[0m\u001b]8;;\u001b\\\u001b[2m:\u001b[0m\u001b]8;id=912301;file:///Users/anpigon/Library/Caches/pypoetry/virtualenvs/autorag-tutorial-ko-GYvpjDIx-py3.11/lib/python3.11/site-packages/httpx/_client.py#1773\u001b\\\u001b[2m1773\u001b[0m\u001b]8;;\u001b\\\n",
       "\u001b[2;36m                    \u001b[0m         \u001b[4;94mhttp://localhost:11434/api/generate\u001b[0m \u001b[32m\"HTTP/1.1 200 OK\"\u001b[0m                  \u001b[2m               \u001b[0m\n"
      ]
     },
     "metadata": {},
     "output_type": "display_data"
    },
    {
     "data": {
      "text/html": [
       "<pre style=\"white-space:pre;overflow-x:auto;line-height:normal;font-family:Menlo,'DejaVu Sans Mono',consolas,'Courier New',monospace\"><span style=\"color: #7fbfbf; text-decoration-color: #7fbfbf\">[07/12/24 18:30:03] </span><span style=\"color: #000080; text-decoration-color: #000080\">INFO    </span> <span style=\"font-weight: bold\">[</span>_client.py:<span style=\"color: #008080; text-decoration-color: #008080; font-weight: bold\">1773</span><span style=\"font-weight: bold\">]</span> &gt;&gt; HTTP Request: <span style=\"color: #808000; text-decoration-color: #808000; font-weight: bold\">POST</span>                                <a href=\"file:///Users/anpigon/Library/Caches/pypoetry/virtualenvs/autorag-tutorial-ko-GYvpjDIx-py3.11/lib/python3.11/site-packages/httpx/_client.py\" target=\"_blank\"><span style=\"color: #7f7f7f; text-decoration-color: #7f7f7f\">_client.py</span></a><span style=\"color: #7f7f7f; text-decoration-color: #7f7f7f\">:</span><a href=\"file:///Users/anpigon/Library/Caches/pypoetry/virtualenvs/autorag-tutorial-ko-GYvpjDIx-py3.11/lib/python3.11/site-packages/httpx/_client.py#1773\" target=\"_blank\"><span style=\"color: #7f7f7f; text-decoration-color: #7f7f7f\">1773</span></a>\n",
       "<span style=\"color: #7fbfbf; text-decoration-color: #7fbfbf\">                    </span>         <span style=\"color: #0000ff; text-decoration-color: #0000ff; text-decoration: underline\">http://localhost:11434/api/generate</span> <span style=\"color: #008000; text-decoration-color: #008000\">\"HTTP/1.1 200 OK\"</span>                  <span style=\"color: #7f7f7f; text-decoration-color: #7f7f7f\">               </span>\n",
       "</pre>\n"
      ],
      "text/plain": [
       "\u001b[2;36m[07/12/24 18:30:03]\u001b[0m\u001b[2;36m \u001b[0m\u001b[34mINFO    \u001b[0m \u001b[1m[\u001b[0m_client.py:\u001b[1;36m1773\u001b[0m\u001b[1m]\u001b[0m >> HTTP Request: \u001b[1;33mPOST\u001b[0m                                \u001b]8;id=963075;file:///Users/anpigon/Library/Caches/pypoetry/virtualenvs/autorag-tutorial-ko-GYvpjDIx-py3.11/lib/python3.11/site-packages/httpx/_client.py\u001b\\\u001b[2m_client.py\u001b[0m\u001b]8;;\u001b\\\u001b[2m:\u001b[0m\u001b]8;id=434739;file:///Users/anpigon/Library/Caches/pypoetry/virtualenvs/autorag-tutorial-ko-GYvpjDIx-py3.11/lib/python3.11/site-packages/httpx/_client.py#1773\u001b\\\u001b[2m1773\u001b[0m\u001b]8;;\u001b\\\n",
       "\u001b[2;36m                    \u001b[0m         \u001b[4;94mhttp://localhost:11434/api/generate\u001b[0m \u001b[32m\"HTTP/1.1 200 OK\"\u001b[0m                  \u001b[2m               \u001b[0m\n"
      ]
     },
     "metadata": {},
     "output_type": "display_data"
    },
    {
     "data": {
      "text/html": [
       "<pre style=\"white-space:pre;overflow-x:auto;line-height:normal;font-family:Menlo,'DejaVu Sans Mono',consolas,'Courier New',monospace\"><span style=\"color: #7fbfbf; text-decoration-color: #7fbfbf\">[07/12/24 18:30:40] </span><span style=\"color: #000080; text-decoration-color: #000080\">INFO    </span> <span style=\"font-weight: bold\">[</span>_client.py:<span style=\"color: #008080; text-decoration-color: #008080; font-weight: bold\">1773</span><span style=\"font-weight: bold\">]</span> &gt;&gt; HTTP Request: <span style=\"color: #808000; text-decoration-color: #808000; font-weight: bold\">POST</span>                                <a href=\"file:///Users/anpigon/Library/Caches/pypoetry/virtualenvs/autorag-tutorial-ko-GYvpjDIx-py3.11/lib/python3.11/site-packages/httpx/_client.py\" target=\"_blank\"><span style=\"color: #7f7f7f; text-decoration-color: #7f7f7f\">_client.py</span></a><span style=\"color: #7f7f7f; text-decoration-color: #7f7f7f\">:</span><a href=\"file:///Users/anpigon/Library/Caches/pypoetry/virtualenvs/autorag-tutorial-ko-GYvpjDIx-py3.11/lib/python3.11/site-packages/httpx/_client.py#1773\" target=\"_blank\"><span style=\"color: #7f7f7f; text-decoration-color: #7f7f7f\">1773</span></a>\n",
       "<span style=\"color: #7fbfbf; text-decoration-color: #7fbfbf\">                    </span>         <span style=\"color: #0000ff; text-decoration-color: #0000ff; text-decoration: underline\">http://localhost:11434/api/generate</span> <span style=\"color: #008000; text-decoration-color: #008000\">\"HTTP/1.1 200 OK\"</span>                  <span style=\"color: #7f7f7f; text-decoration-color: #7f7f7f\">               </span>\n",
       "</pre>\n"
      ],
      "text/plain": [
       "\u001b[2;36m[07/12/24 18:30:40]\u001b[0m\u001b[2;36m \u001b[0m\u001b[34mINFO    \u001b[0m \u001b[1m[\u001b[0m_client.py:\u001b[1;36m1773\u001b[0m\u001b[1m]\u001b[0m >> HTTP Request: \u001b[1;33mPOST\u001b[0m                                \u001b]8;id=435557;file:///Users/anpigon/Library/Caches/pypoetry/virtualenvs/autorag-tutorial-ko-GYvpjDIx-py3.11/lib/python3.11/site-packages/httpx/_client.py\u001b\\\u001b[2m_client.py\u001b[0m\u001b]8;;\u001b\\\u001b[2m:\u001b[0m\u001b]8;id=946047;file:///Users/anpigon/Library/Caches/pypoetry/virtualenvs/autorag-tutorial-ko-GYvpjDIx-py3.11/lib/python3.11/site-packages/httpx/_client.py#1773\u001b\\\u001b[2m1773\u001b[0m\u001b]8;;\u001b\\\n",
       "\u001b[2;36m                    \u001b[0m         \u001b[4;94mhttp://localhost:11434/api/generate\u001b[0m \u001b[32m\"HTTP/1.1 200 OK\"\u001b[0m                  \u001b[2m               \u001b[0m\n"
      ]
     },
     "metadata": {},
     "output_type": "display_data"
    },
    {
     "data": {
      "text/html": [
       "<pre style=\"white-space:pre;overflow-x:auto;line-height:normal;font-family:Menlo,'DejaVu Sans Mono',consolas,'Courier New',monospace\"><span style=\"color: #7fbfbf; text-decoration-color: #7fbfbf\">[07/12/24 18:30:50] </span><span style=\"color: #000080; text-decoration-color: #000080\">INFO    </span> <span style=\"font-weight: bold\">[</span>_client.py:<span style=\"color: #008080; text-decoration-color: #008080; font-weight: bold\">1773</span><span style=\"font-weight: bold\">]</span> &gt;&gt; HTTP Request: <span style=\"color: #808000; text-decoration-color: #808000; font-weight: bold\">POST</span>                                <a href=\"file:///Users/anpigon/Library/Caches/pypoetry/virtualenvs/autorag-tutorial-ko-GYvpjDIx-py3.11/lib/python3.11/site-packages/httpx/_client.py\" target=\"_blank\"><span style=\"color: #7f7f7f; text-decoration-color: #7f7f7f\">_client.py</span></a><span style=\"color: #7f7f7f; text-decoration-color: #7f7f7f\">:</span><a href=\"file:///Users/anpigon/Library/Caches/pypoetry/virtualenvs/autorag-tutorial-ko-GYvpjDIx-py3.11/lib/python3.11/site-packages/httpx/_client.py#1773\" target=\"_blank\"><span style=\"color: #7f7f7f; text-decoration-color: #7f7f7f\">1773</span></a>\n",
       "<span style=\"color: #7fbfbf; text-decoration-color: #7fbfbf\">                    </span>         <span style=\"color: #0000ff; text-decoration-color: #0000ff; text-decoration: underline\">http://localhost:11434/api/generate</span> <span style=\"color: #008000; text-decoration-color: #008000\">\"HTTP/1.1 200 OK\"</span>                  <span style=\"color: #7f7f7f; text-decoration-color: #7f7f7f\">               </span>\n",
       "</pre>\n"
      ],
      "text/plain": [
       "\u001b[2;36m[07/12/24 18:30:50]\u001b[0m\u001b[2;36m \u001b[0m\u001b[34mINFO    \u001b[0m \u001b[1m[\u001b[0m_client.py:\u001b[1;36m1773\u001b[0m\u001b[1m]\u001b[0m >> HTTP Request: \u001b[1;33mPOST\u001b[0m                                \u001b]8;id=180310;file:///Users/anpigon/Library/Caches/pypoetry/virtualenvs/autorag-tutorial-ko-GYvpjDIx-py3.11/lib/python3.11/site-packages/httpx/_client.py\u001b\\\u001b[2m_client.py\u001b[0m\u001b]8;;\u001b\\\u001b[2m:\u001b[0m\u001b]8;id=64909;file:///Users/anpigon/Library/Caches/pypoetry/virtualenvs/autorag-tutorial-ko-GYvpjDIx-py3.11/lib/python3.11/site-packages/httpx/_client.py#1773\u001b\\\u001b[2m1773\u001b[0m\u001b]8;;\u001b\\\n",
       "\u001b[2;36m                    \u001b[0m         \u001b[4;94mhttp://localhost:11434/api/generate\u001b[0m \u001b[32m\"HTTP/1.1 200 OK\"\u001b[0m                  \u001b[2m               \u001b[0m\n"
      ]
     },
     "metadata": {},
     "output_type": "display_data"
    },
    {
     "data": {
      "text/html": [
       "<pre style=\"white-space:pre;overflow-x:auto;line-height:normal;font-family:Menlo,'DejaVu Sans Mono',consolas,'Courier New',monospace\"><span style=\"color: #7fbfbf; text-decoration-color: #7fbfbf\">[07/12/24 18:46:19] </span><span style=\"color: #000080; text-decoration-color: #000080\">INFO    </span> <span style=\"font-weight: bold\">[</span>_client.py:<span style=\"color: #008080; text-decoration-color: #008080; font-weight: bold\">1773</span><span style=\"font-weight: bold\">]</span> &gt;&gt; HTTP Request: <span style=\"color: #808000; text-decoration-color: #808000; font-weight: bold\">POST</span>                                <a href=\"file:///Users/anpigon/Library/Caches/pypoetry/virtualenvs/autorag-tutorial-ko-GYvpjDIx-py3.11/lib/python3.11/site-packages/httpx/_client.py\" target=\"_blank\"><span style=\"color: #7f7f7f; text-decoration-color: #7f7f7f\">_client.py</span></a><span style=\"color: #7f7f7f; text-decoration-color: #7f7f7f\">:</span><a href=\"file:///Users/anpigon/Library/Caches/pypoetry/virtualenvs/autorag-tutorial-ko-GYvpjDIx-py3.11/lib/python3.11/site-packages/httpx/_client.py#1773\" target=\"_blank\"><span style=\"color: #7f7f7f; text-decoration-color: #7f7f7f\">1773</span></a>\n",
       "<span style=\"color: #7fbfbf; text-decoration-color: #7fbfbf\">                    </span>         <span style=\"color: #0000ff; text-decoration-color: #0000ff; text-decoration: underline\">http://localhost:11434/api/generate</span> <span style=\"color: #008000; text-decoration-color: #008000\">\"HTTP/1.1 200 OK\"</span>                  <span style=\"color: #7f7f7f; text-decoration-color: #7f7f7f\">               </span>\n",
       "</pre>\n"
      ],
      "text/plain": [
       "\u001b[2;36m[07/12/24 18:46:19]\u001b[0m\u001b[2;36m \u001b[0m\u001b[34mINFO    \u001b[0m \u001b[1m[\u001b[0m_client.py:\u001b[1;36m1773\u001b[0m\u001b[1m]\u001b[0m >> HTTP Request: \u001b[1;33mPOST\u001b[0m                                \u001b]8;id=224954;file:///Users/anpigon/Library/Caches/pypoetry/virtualenvs/autorag-tutorial-ko-GYvpjDIx-py3.11/lib/python3.11/site-packages/httpx/_client.py\u001b\\\u001b[2m_client.py\u001b[0m\u001b]8;;\u001b\\\u001b[2m:\u001b[0m\u001b]8;id=918730;file:///Users/anpigon/Library/Caches/pypoetry/virtualenvs/autorag-tutorial-ko-GYvpjDIx-py3.11/lib/python3.11/site-packages/httpx/_client.py#1773\u001b\\\u001b[2m1773\u001b[0m\u001b]8;;\u001b\\\n",
       "\u001b[2;36m                    \u001b[0m         \u001b[4;94mhttp://localhost:11434/api/generate\u001b[0m \u001b[32m\"HTTP/1.1 200 OK\"\u001b[0m                  \u001b[2m               \u001b[0m\n"
      ]
     },
     "metadata": {},
     "output_type": "display_data"
    },
    {
     "data": {
      "text/html": [
       "<pre style=\"white-space:pre;overflow-x:auto;line-height:normal;font-family:Menlo,'DejaVu Sans Mono',consolas,'Courier New',monospace\"><span style=\"color: #7fbfbf; text-decoration-color: #7fbfbf\">[07/12/24 18:46:28] </span><span style=\"color: #000080; text-decoration-color: #000080\">INFO    </span> <span style=\"font-weight: bold\">[</span>_client.py:<span style=\"color: #008080; text-decoration-color: #008080; font-weight: bold\">1773</span><span style=\"font-weight: bold\">]</span> &gt;&gt; HTTP Request: <span style=\"color: #808000; text-decoration-color: #808000; font-weight: bold\">POST</span>                                <a href=\"file:///Users/anpigon/Library/Caches/pypoetry/virtualenvs/autorag-tutorial-ko-GYvpjDIx-py3.11/lib/python3.11/site-packages/httpx/_client.py\" target=\"_blank\"><span style=\"color: #7f7f7f; text-decoration-color: #7f7f7f\">_client.py</span></a><span style=\"color: #7f7f7f; text-decoration-color: #7f7f7f\">:</span><a href=\"file:///Users/anpigon/Library/Caches/pypoetry/virtualenvs/autorag-tutorial-ko-GYvpjDIx-py3.11/lib/python3.11/site-packages/httpx/_client.py#1773\" target=\"_blank\"><span style=\"color: #7f7f7f; text-decoration-color: #7f7f7f\">1773</span></a>\n",
       "<span style=\"color: #7fbfbf; text-decoration-color: #7fbfbf\">                    </span>         <span style=\"color: #0000ff; text-decoration-color: #0000ff; text-decoration: underline\">http://localhost:11434/api/generate</span> <span style=\"color: #008000; text-decoration-color: #008000\">\"HTTP/1.1 200 OK\"</span>                  <span style=\"color: #7f7f7f; text-decoration-color: #7f7f7f\">               </span>\n",
       "</pre>\n"
      ],
      "text/plain": [
       "\u001b[2;36m[07/12/24 18:46:28]\u001b[0m\u001b[2;36m \u001b[0m\u001b[34mINFO    \u001b[0m \u001b[1m[\u001b[0m_client.py:\u001b[1;36m1773\u001b[0m\u001b[1m]\u001b[0m >> HTTP Request: \u001b[1;33mPOST\u001b[0m                                \u001b]8;id=693697;file:///Users/anpigon/Library/Caches/pypoetry/virtualenvs/autorag-tutorial-ko-GYvpjDIx-py3.11/lib/python3.11/site-packages/httpx/_client.py\u001b\\\u001b[2m_client.py\u001b[0m\u001b]8;;\u001b\\\u001b[2m:\u001b[0m\u001b]8;id=527174;file:///Users/anpigon/Library/Caches/pypoetry/virtualenvs/autorag-tutorial-ko-GYvpjDIx-py3.11/lib/python3.11/site-packages/httpx/_client.py#1773\u001b\\\u001b[2m1773\u001b[0m\u001b]8;;\u001b\\\n",
       "\u001b[2;36m                    \u001b[0m         \u001b[4;94mhttp://localhost:11434/api/generate\u001b[0m \u001b[32m\"HTTP/1.1 200 OK\"\u001b[0m                  \u001b[2m               \u001b[0m\n"
      ]
     },
     "metadata": {},
     "output_type": "display_data"
    },
    {
     "data": {
      "text/html": [
       "<pre style=\"white-space:pre;overflow-x:auto;line-height:normal;font-family:Menlo,'DejaVu Sans Mono',consolas,'Courier New',monospace\"><span style=\"color: #7fbfbf; text-decoration-color: #7fbfbf\">[07/12/24 18:46:52] </span><span style=\"color: #000080; text-decoration-color: #000080\">INFO    </span> <span style=\"font-weight: bold\">[</span>_client.py:<span style=\"color: #008080; text-decoration-color: #008080; font-weight: bold\">1773</span><span style=\"font-weight: bold\">]</span> &gt;&gt; HTTP Request: <span style=\"color: #808000; text-decoration-color: #808000; font-weight: bold\">POST</span>                                <a href=\"file:///Users/anpigon/Library/Caches/pypoetry/virtualenvs/autorag-tutorial-ko-GYvpjDIx-py3.11/lib/python3.11/site-packages/httpx/_client.py\" target=\"_blank\"><span style=\"color: #7f7f7f; text-decoration-color: #7f7f7f\">_client.py</span></a><span style=\"color: #7f7f7f; text-decoration-color: #7f7f7f\">:</span><a href=\"file:///Users/anpigon/Library/Caches/pypoetry/virtualenvs/autorag-tutorial-ko-GYvpjDIx-py3.11/lib/python3.11/site-packages/httpx/_client.py#1773\" target=\"_blank\"><span style=\"color: #7f7f7f; text-decoration-color: #7f7f7f\">1773</span></a>\n",
       "<span style=\"color: #7fbfbf; text-decoration-color: #7fbfbf\">                    </span>         <span style=\"color: #0000ff; text-decoration-color: #0000ff; text-decoration: underline\">http://localhost:11434/api/generate</span> <span style=\"color: #008000; text-decoration-color: #008000\">\"HTTP/1.1 200 OK\"</span>                  <span style=\"color: #7f7f7f; text-decoration-color: #7f7f7f\">               </span>\n",
       "</pre>\n"
      ],
      "text/plain": [
       "\u001b[2;36m[07/12/24 18:46:52]\u001b[0m\u001b[2;36m \u001b[0m\u001b[34mINFO    \u001b[0m \u001b[1m[\u001b[0m_client.py:\u001b[1;36m1773\u001b[0m\u001b[1m]\u001b[0m >> HTTP Request: \u001b[1;33mPOST\u001b[0m                                \u001b]8;id=690113;file:///Users/anpigon/Library/Caches/pypoetry/virtualenvs/autorag-tutorial-ko-GYvpjDIx-py3.11/lib/python3.11/site-packages/httpx/_client.py\u001b\\\u001b[2m_client.py\u001b[0m\u001b]8;;\u001b\\\u001b[2m:\u001b[0m\u001b]8;id=738727;file:///Users/anpigon/Library/Caches/pypoetry/virtualenvs/autorag-tutorial-ko-GYvpjDIx-py3.11/lib/python3.11/site-packages/httpx/_client.py#1773\u001b\\\u001b[2m1773\u001b[0m\u001b]8;;\u001b\\\n",
       "\u001b[2;36m                    \u001b[0m         \u001b[4;94mhttp://localhost:11434/api/generate\u001b[0m \u001b[32m\"HTTP/1.1 200 OK\"\u001b[0m                  \u001b[2m               \u001b[0m\n"
      ]
     },
     "metadata": {},
     "output_type": "display_data"
    },
    {
     "data": {
      "text/html": [
       "<pre style=\"white-space:pre;overflow-x:auto;line-height:normal;font-family:Menlo,'DejaVu Sans Mono',consolas,'Courier New',monospace\"><span style=\"color: #7fbfbf; text-decoration-color: #7fbfbf\">[07/12/24 18:47:06] </span><span style=\"color: #000080; text-decoration-color: #000080\">INFO    </span> <span style=\"font-weight: bold\">[</span>_client.py:<span style=\"color: #008080; text-decoration-color: #008080; font-weight: bold\">1773</span><span style=\"font-weight: bold\">]</span> &gt;&gt; HTTP Request: <span style=\"color: #808000; text-decoration-color: #808000; font-weight: bold\">POST</span>                                <a href=\"file:///Users/anpigon/Library/Caches/pypoetry/virtualenvs/autorag-tutorial-ko-GYvpjDIx-py3.11/lib/python3.11/site-packages/httpx/_client.py\" target=\"_blank\"><span style=\"color: #7f7f7f; text-decoration-color: #7f7f7f\">_client.py</span></a><span style=\"color: #7f7f7f; text-decoration-color: #7f7f7f\">:</span><a href=\"file:///Users/anpigon/Library/Caches/pypoetry/virtualenvs/autorag-tutorial-ko-GYvpjDIx-py3.11/lib/python3.11/site-packages/httpx/_client.py#1773\" target=\"_blank\"><span style=\"color: #7f7f7f; text-decoration-color: #7f7f7f\">1773</span></a>\n",
       "<span style=\"color: #7fbfbf; text-decoration-color: #7fbfbf\">                    </span>         <span style=\"color: #0000ff; text-decoration-color: #0000ff; text-decoration: underline\">http://localhost:11434/api/generate</span> <span style=\"color: #008000; text-decoration-color: #008000\">\"HTTP/1.1 200 OK\"</span>                  <span style=\"color: #7f7f7f; text-decoration-color: #7f7f7f\">               </span>\n",
       "</pre>\n"
      ],
      "text/plain": [
       "\u001b[2;36m[07/12/24 18:47:06]\u001b[0m\u001b[2;36m \u001b[0m\u001b[34mINFO    \u001b[0m \u001b[1m[\u001b[0m_client.py:\u001b[1;36m1773\u001b[0m\u001b[1m]\u001b[0m >> HTTP Request: \u001b[1;33mPOST\u001b[0m                                \u001b]8;id=462729;file:///Users/anpigon/Library/Caches/pypoetry/virtualenvs/autorag-tutorial-ko-GYvpjDIx-py3.11/lib/python3.11/site-packages/httpx/_client.py\u001b\\\u001b[2m_client.py\u001b[0m\u001b]8;;\u001b\\\u001b[2m:\u001b[0m\u001b]8;id=70465;file:///Users/anpigon/Library/Caches/pypoetry/virtualenvs/autorag-tutorial-ko-GYvpjDIx-py3.11/lib/python3.11/site-packages/httpx/_client.py#1773\u001b\\\u001b[2m1773\u001b[0m\u001b]8;;\u001b\\\n",
       "\u001b[2;36m                    \u001b[0m         \u001b[4;94mhttp://localhost:11434/api/generate\u001b[0m \u001b[32m\"HTTP/1.1 200 OK\"\u001b[0m                  \u001b[2m               \u001b[0m\n"
      ]
     },
     "metadata": {},
     "output_type": "display_data"
    },
    {
     "data": {
      "text/html": [
       "<pre style=\"white-space:pre;overflow-x:auto;line-height:normal;font-family:Menlo,'DejaVu Sans Mono',consolas,'Courier New',monospace\"><span style=\"color: #7fbfbf; text-decoration-color: #7fbfbf\">[07/12/24 18:47:20] </span><span style=\"color: #000080; text-decoration-color: #000080\">INFO    </span> <span style=\"font-weight: bold\">[</span>_client.py:<span style=\"color: #008080; text-decoration-color: #008080; font-weight: bold\">1773</span><span style=\"font-weight: bold\">]</span> &gt;&gt; HTTP Request: <span style=\"color: #808000; text-decoration-color: #808000; font-weight: bold\">POST</span>                                <a href=\"file:///Users/anpigon/Library/Caches/pypoetry/virtualenvs/autorag-tutorial-ko-GYvpjDIx-py3.11/lib/python3.11/site-packages/httpx/_client.py\" target=\"_blank\"><span style=\"color: #7f7f7f; text-decoration-color: #7f7f7f\">_client.py</span></a><span style=\"color: #7f7f7f; text-decoration-color: #7f7f7f\">:</span><a href=\"file:///Users/anpigon/Library/Caches/pypoetry/virtualenvs/autorag-tutorial-ko-GYvpjDIx-py3.11/lib/python3.11/site-packages/httpx/_client.py#1773\" target=\"_blank\"><span style=\"color: #7f7f7f; text-decoration-color: #7f7f7f\">1773</span></a>\n",
       "<span style=\"color: #7fbfbf; text-decoration-color: #7fbfbf\">                    </span>         <span style=\"color: #0000ff; text-decoration-color: #0000ff; text-decoration: underline\">http://localhost:11434/api/generate</span> <span style=\"color: #008000; text-decoration-color: #008000\">\"HTTP/1.1 200 OK\"</span>                  <span style=\"color: #7f7f7f; text-decoration-color: #7f7f7f\">               </span>\n",
       "</pre>\n"
      ],
      "text/plain": [
       "\u001b[2;36m[07/12/24 18:47:20]\u001b[0m\u001b[2;36m \u001b[0m\u001b[34mINFO    \u001b[0m \u001b[1m[\u001b[0m_client.py:\u001b[1;36m1773\u001b[0m\u001b[1m]\u001b[0m >> HTTP Request: \u001b[1;33mPOST\u001b[0m                                \u001b]8;id=632632;file:///Users/anpigon/Library/Caches/pypoetry/virtualenvs/autorag-tutorial-ko-GYvpjDIx-py3.11/lib/python3.11/site-packages/httpx/_client.py\u001b\\\u001b[2m_client.py\u001b[0m\u001b]8;;\u001b\\\u001b[2m:\u001b[0m\u001b]8;id=211632;file:///Users/anpigon/Library/Caches/pypoetry/virtualenvs/autorag-tutorial-ko-GYvpjDIx-py3.11/lib/python3.11/site-packages/httpx/_client.py#1773\u001b\\\u001b[2m1773\u001b[0m\u001b]8;;\u001b\\\n",
       "\u001b[2;36m                    \u001b[0m         \u001b[4;94mhttp://localhost:11434/api/generate\u001b[0m \u001b[32m\"HTTP/1.1 200 OK\"\u001b[0m                  \u001b[2m               \u001b[0m\n"
      ]
     },
     "metadata": {},
     "output_type": "display_data"
    },
    {
     "data": {
      "application/vnd.jupyter.widget-view+json": {
       "model_id": "5bf308c42d294694a009d67c3661b58e",
       "version_major": 2,
       "version_minor": 0
      },
      "text/plain": [
       "Generating embeddings:   0%|          | 0/32 [00:00<?, ?it/s]"
      ]
     },
     "metadata": {},
     "output_type": "display_data"
    },
    {
     "data": {
      "text/html": [
       "<pre style=\"white-space:pre;overflow-x:auto;line-height:normal;font-family:Menlo,'DejaVu Sans Mono',consolas,'Courier New',monospace\"><span style=\"color: #7fbfbf; text-decoration-color: #7fbfbf\">[07/12/24 18:47:21] </span><span style=\"color: #000080; text-decoration-color: #000080\">INFO    </span> <span style=\"font-weight: bold\">[</span>_client.py:<span style=\"color: #008080; text-decoration-color: #008080; font-weight: bold\">1026</span><span style=\"font-weight: bold\">]</span> &gt;&gt; HTTP Request: <span style=\"color: #808000; text-decoration-color: #808000; font-weight: bold\">POST</span>                                <a href=\"file:///Users/anpigon/Library/Caches/pypoetry/virtualenvs/autorag-tutorial-ko-GYvpjDIx-py3.11/lib/python3.11/site-packages/httpx/_client.py\" target=\"_blank\"><span style=\"color: #7f7f7f; text-decoration-color: #7f7f7f\">_client.py</span></a><span style=\"color: #7f7f7f; text-decoration-color: #7f7f7f\">:</span><a href=\"file:///Users/anpigon/Library/Caches/pypoetry/virtualenvs/autorag-tutorial-ko-GYvpjDIx-py3.11/lib/python3.11/site-packages/httpx/_client.py#1026\" target=\"_blank\"><span style=\"color: #7f7f7f; text-decoration-color: #7f7f7f\">1026</span></a>\n",
       "<span style=\"color: #7fbfbf; text-decoration-color: #7fbfbf\">                    </span>         <span style=\"color: #0000ff; text-decoration-color: #0000ff; text-decoration: underline\">https://api.openai.com/v1/embeddings</span> <span style=\"color: #008000; text-decoration-color: #008000\">\"HTTP/1.1 200 OK\"</span>                 <span style=\"color: #7f7f7f; text-decoration-color: #7f7f7f\">               </span>\n",
       "</pre>\n"
      ],
      "text/plain": [
       "\u001b[2;36m[07/12/24 18:47:21]\u001b[0m\u001b[2;36m \u001b[0m\u001b[34mINFO    \u001b[0m \u001b[1m[\u001b[0m_client.py:\u001b[1;36m1026\u001b[0m\u001b[1m]\u001b[0m >> HTTP Request: \u001b[1;33mPOST\u001b[0m                                \u001b]8;id=761774;file:///Users/anpigon/Library/Caches/pypoetry/virtualenvs/autorag-tutorial-ko-GYvpjDIx-py3.11/lib/python3.11/site-packages/httpx/_client.py\u001b\\\u001b[2m_client.py\u001b[0m\u001b]8;;\u001b\\\u001b[2m:\u001b[0m\u001b]8;id=892637;file:///Users/anpigon/Library/Caches/pypoetry/virtualenvs/autorag-tutorial-ko-GYvpjDIx-py3.11/lib/python3.11/site-packages/httpx/_client.py#1026\u001b\\\u001b[2m1026\u001b[0m\u001b]8;;\u001b\\\n",
       "\u001b[2;36m                    \u001b[0m         \u001b[4;94mhttps://api.openai.com/v1/embeddings\u001b[0m \u001b[32m\"HTTP/1.1 200 OK\"\u001b[0m                 \u001b[2m               \u001b[0m\n"
      ]
     },
     "metadata": {},
     "output_type": "display_data"
    },
    {
     "data": {
      "application/vnd.jupyter.widget-view+json": {
       "model_id": "de0f63b9b40d45beaf9576a0f7990a73",
       "version_major": 2,
       "version_minor": 0
      },
      "text/plain": [
       "Generating embeddings:   0%|          | 0/32 [00:00<?, ?it/s]"
      ]
     },
     "metadata": {},
     "output_type": "display_data"
    },
    {
     "data": {
      "text/html": [
       "<pre style=\"white-space:pre;overflow-x:auto;line-height:normal;font-family:Menlo,'DejaVu Sans Mono',consolas,'Courier New',monospace\"><span style=\"color: #7fbfbf; text-decoration-color: #7fbfbf\">[07/12/24 18:47:22] </span><span style=\"color: #000080; text-decoration-color: #000080\">INFO    </span> <span style=\"font-weight: bold\">[</span>_client.py:<span style=\"color: #008080; text-decoration-color: #008080; font-weight: bold\">1026</span><span style=\"font-weight: bold\">]</span> &gt;&gt; HTTP Request: <span style=\"color: #808000; text-decoration-color: #808000; font-weight: bold\">POST</span>                                <a href=\"file:///Users/anpigon/Library/Caches/pypoetry/virtualenvs/autorag-tutorial-ko-GYvpjDIx-py3.11/lib/python3.11/site-packages/httpx/_client.py\" target=\"_blank\"><span style=\"color: #7f7f7f; text-decoration-color: #7f7f7f\">_client.py</span></a><span style=\"color: #7f7f7f; text-decoration-color: #7f7f7f\">:</span><a href=\"file:///Users/anpigon/Library/Caches/pypoetry/virtualenvs/autorag-tutorial-ko-GYvpjDIx-py3.11/lib/python3.11/site-packages/httpx/_client.py#1026\" target=\"_blank\"><span style=\"color: #7f7f7f; text-decoration-color: #7f7f7f\">1026</span></a>\n",
       "<span style=\"color: #7fbfbf; text-decoration-color: #7fbfbf\">                    </span>         <span style=\"color: #0000ff; text-decoration-color: #0000ff; text-decoration: underline\">https://api.openai.com/v1/embeddings</span> <span style=\"color: #008000; text-decoration-color: #008000\">\"HTTP/1.1 200 OK\"</span>                 <span style=\"color: #7f7f7f; text-decoration-color: #7f7f7f\">               </span>\n",
       "</pre>\n"
      ],
      "text/plain": [
       "\u001b[2;36m[07/12/24 18:47:22]\u001b[0m\u001b[2;36m \u001b[0m\u001b[34mINFO    \u001b[0m \u001b[1m[\u001b[0m_client.py:\u001b[1;36m1026\u001b[0m\u001b[1m]\u001b[0m >> HTTP Request: \u001b[1;33mPOST\u001b[0m                                \u001b]8;id=623492;file:///Users/anpigon/Library/Caches/pypoetry/virtualenvs/autorag-tutorial-ko-GYvpjDIx-py3.11/lib/python3.11/site-packages/httpx/_client.py\u001b\\\u001b[2m_client.py\u001b[0m\u001b]8;;\u001b\\\u001b[2m:\u001b[0m\u001b]8;id=28569;file:///Users/anpigon/Library/Caches/pypoetry/virtualenvs/autorag-tutorial-ko-GYvpjDIx-py3.11/lib/python3.11/site-packages/httpx/_client.py#1026\u001b\\\u001b[2m1026\u001b[0m\u001b]8;;\u001b\\\n",
       "\u001b[2;36m                    \u001b[0m         \u001b[4;94mhttps://api.openai.com/v1/embeddings\u001b[0m \u001b[32m\"HTTP/1.1 200 OK\"\u001b[0m                 \u001b[2m               \u001b[0m\n"
      ]
     },
     "metadata": {},
     "output_type": "display_data"
    },
    {
     "data": {
      "application/vnd.jupyter.widget-view+json": {
       "model_id": "cc40d6478683410ebb6313d4ab2c9d4e",
       "version_major": 2,
       "version_minor": 0
      },
      "text/plain": [
       "Generating embeddings:   0%|          | 0/32 [00:00<?, ?it/s]"
      ]
     },
     "metadata": {},
     "output_type": "display_data"
    },
    {
     "data": {
      "text/html": [
       "<pre style=\"white-space:pre;overflow-x:auto;line-height:normal;font-family:Menlo,'DejaVu Sans Mono',consolas,'Courier New',monospace\"><span style=\"color: #7fbfbf; text-decoration-color: #7fbfbf\">[07/12/24 18:47:23] </span><span style=\"color: #000080; text-decoration-color: #000080\">INFO    </span> <span style=\"font-weight: bold\">[</span>_client.py:<span style=\"color: #008080; text-decoration-color: #008080; font-weight: bold\">1026</span><span style=\"font-weight: bold\">]</span> &gt;&gt; HTTP Request: <span style=\"color: #808000; text-decoration-color: #808000; font-weight: bold\">POST</span>                                <a href=\"file:///Users/anpigon/Library/Caches/pypoetry/virtualenvs/autorag-tutorial-ko-GYvpjDIx-py3.11/lib/python3.11/site-packages/httpx/_client.py\" target=\"_blank\"><span style=\"color: #7f7f7f; text-decoration-color: #7f7f7f\">_client.py</span></a><span style=\"color: #7f7f7f; text-decoration-color: #7f7f7f\">:</span><a href=\"file:///Users/anpigon/Library/Caches/pypoetry/virtualenvs/autorag-tutorial-ko-GYvpjDIx-py3.11/lib/python3.11/site-packages/httpx/_client.py#1026\" target=\"_blank\"><span style=\"color: #7f7f7f; text-decoration-color: #7f7f7f\">1026</span></a>\n",
       "<span style=\"color: #7fbfbf; text-decoration-color: #7fbfbf\">                    </span>         <span style=\"color: #0000ff; text-decoration-color: #0000ff; text-decoration: underline\">https://api.openai.com/v1/embeddings</span> <span style=\"color: #008000; text-decoration-color: #008000\">\"HTTP/1.1 200 OK\"</span>                 <span style=\"color: #7f7f7f; text-decoration-color: #7f7f7f\">               </span>\n",
       "</pre>\n"
      ],
      "text/plain": [
       "\u001b[2;36m[07/12/24 18:47:23]\u001b[0m\u001b[2;36m \u001b[0m\u001b[34mINFO    \u001b[0m \u001b[1m[\u001b[0m_client.py:\u001b[1;36m1026\u001b[0m\u001b[1m]\u001b[0m >> HTTP Request: \u001b[1;33mPOST\u001b[0m                                \u001b]8;id=405315;file:///Users/anpigon/Library/Caches/pypoetry/virtualenvs/autorag-tutorial-ko-GYvpjDIx-py3.11/lib/python3.11/site-packages/httpx/_client.py\u001b\\\u001b[2m_client.py\u001b[0m\u001b]8;;\u001b\\\u001b[2m:\u001b[0m\u001b]8;id=896779;file:///Users/anpigon/Library/Caches/pypoetry/virtualenvs/autorag-tutorial-ko-GYvpjDIx-py3.11/lib/python3.11/site-packages/httpx/_client.py#1026\u001b\\\u001b[2m1026\u001b[0m\u001b]8;;\u001b\\\n",
       "\u001b[2;36m                    \u001b[0m         \u001b[4;94mhttps://api.openai.com/v1/embeddings\u001b[0m \u001b[32m\"HTTP/1.1 200 OK\"\u001b[0m                 \u001b[2m               \u001b[0m\n"
      ]
     },
     "metadata": {},
     "output_type": "display_data"
    },
    {
     "data": {
      "application/vnd.jupyter.widget-view+json": {
       "model_id": "4ee5032afdbc420f96ef67b481e0f349",
       "version_major": 2,
       "version_minor": 0
      },
      "text/plain": [
       "Generating embeddings:   0%|          | 0/32 [00:00<?, ?it/s]"
      ]
     },
     "metadata": {},
     "output_type": "display_data"
    },
    {
     "data": {
      "text/html": [
       "<pre style=\"white-space:pre;overflow-x:auto;line-height:normal;font-family:Menlo,'DejaVu Sans Mono',consolas,'Courier New',monospace\"><span style=\"color: #7fbfbf; text-decoration-color: #7fbfbf\">[07/12/24 18:47:24] </span><span style=\"color: #000080; text-decoration-color: #000080\">INFO    </span> <span style=\"font-weight: bold\">[</span>_client.py:<span style=\"color: #008080; text-decoration-color: #008080; font-weight: bold\">1026</span><span style=\"font-weight: bold\">]</span> &gt;&gt; HTTP Request: <span style=\"color: #808000; text-decoration-color: #808000; font-weight: bold\">POST</span>                                <a href=\"file:///Users/anpigon/Library/Caches/pypoetry/virtualenvs/autorag-tutorial-ko-GYvpjDIx-py3.11/lib/python3.11/site-packages/httpx/_client.py\" target=\"_blank\"><span style=\"color: #7f7f7f; text-decoration-color: #7f7f7f\">_client.py</span></a><span style=\"color: #7f7f7f; text-decoration-color: #7f7f7f\">:</span><a href=\"file:///Users/anpigon/Library/Caches/pypoetry/virtualenvs/autorag-tutorial-ko-GYvpjDIx-py3.11/lib/python3.11/site-packages/httpx/_client.py#1026\" target=\"_blank\"><span style=\"color: #7f7f7f; text-decoration-color: #7f7f7f\">1026</span></a>\n",
       "<span style=\"color: #7fbfbf; text-decoration-color: #7fbfbf\">                    </span>         <span style=\"color: #0000ff; text-decoration-color: #0000ff; text-decoration: underline\">https://api.openai.com/v1/embeddings</span> <span style=\"color: #008000; text-decoration-color: #008000\">\"HTTP/1.1 200 OK\"</span>                 <span style=\"color: #7f7f7f; text-decoration-color: #7f7f7f\">               </span>\n",
       "</pre>\n"
      ],
      "text/plain": [
       "\u001b[2;36m[07/12/24 18:47:24]\u001b[0m\u001b[2;36m \u001b[0m\u001b[34mINFO    \u001b[0m \u001b[1m[\u001b[0m_client.py:\u001b[1;36m1026\u001b[0m\u001b[1m]\u001b[0m >> HTTP Request: \u001b[1;33mPOST\u001b[0m                                \u001b]8;id=438054;file:///Users/anpigon/Library/Caches/pypoetry/virtualenvs/autorag-tutorial-ko-GYvpjDIx-py3.11/lib/python3.11/site-packages/httpx/_client.py\u001b\\\u001b[2m_client.py\u001b[0m\u001b]8;;\u001b\\\u001b[2m:\u001b[0m\u001b]8;id=933954;file:///Users/anpigon/Library/Caches/pypoetry/virtualenvs/autorag-tutorial-ko-GYvpjDIx-py3.11/lib/python3.11/site-packages/httpx/_client.py#1026\u001b\\\u001b[2m1026\u001b[0m\u001b]8;;\u001b\\\n",
       "\u001b[2;36m                    \u001b[0m         \u001b[4;94mhttps://api.openai.com/v1/embeddings\u001b[0m \u001b[32m\"HTTP/1.1 200 OK\"\u001b[0m                 \u001b[2m               \u001b[0m\n"
      ]
     },
     "metadata": {},
     "output_type": "display_data"
    },
    {
     "data": {
      "application/vnd.jupyter.widget-view+json": {
       "model_id": "36882da3440b46e583385dc6220ddc4b",
       "version_major": 2,
       "version_minor": 0
      },
      "text/plain": [
       "Generating embeddings:   0%|          | 0/32 [00:00<?, ?it/s]"
      ]
     },
     "metadata": {},
     "output_type": "display_data"
    },
    {
     "data": {
      "text/html": [
       "<pre style=\"white-space:pre;overflow-x:auto;line-height:normal;font-family:Menlo,'DejaVu Sans Mono',consolas,'Courier New',monospace\"><span style=\"color: #7fbfbf; text-decoration-color: #7fbfbf\">[07/12/24 18:47:25] </span><span style=\"color: #000080; text-decoration-color: #000080\">INFO    </span> <span style=\"font-weight: bold\">[</span>_client.py:<span style=\"color: #008080; text-decoration-color: #008080; font-weight: bold\">1026</span><span style=\"font-weight: bold\">]</span> &gt;&gt; HTTP Request: <span style=\"color: #808000; text-decoration-color: #808000; font-weight: bold\">POST</span>                                <a href=\"file:///Users/anpigon/Library/Caches/pypoetry/virtualenvs/autorag-tutorial-ko-GYvpjDIx-py3.11/lib/python3.11/site-packages/httpx/_client.py\" target=\"_blank\"><span style=\"color: #7f7f7f; text-decoration-color: #7f7f7f\">_client.py</span></a><span style=\"color: #7f7f7f; text-decoration-color: #7f7f7f\">:</span><a href=\"file:///Users/anpigon/Library/Caches/pypoetry/virtualenvs/autorag-tutorial-ko-GYvpjDIx-py3.11/lib/python3.11/site-packages/httpx/_client.py#1026\" target=\"_blank\"><span style=\"color: #7f7f7f; text-decoration-color: #7f7f7f\">1026</span></a>\n",
       "<span style=\"color: #7fbfbf; text-decoration-color: #7fbfbf\">                    </span>         <span style=\"color: #0000ff; text-decoration-color: #0000ff; text-decoration: underline\">https://api.openai.com/v1/embeddings</span> <span style=\"color: #008000; text-decoration-color: #008000\">\"HTTP/1.1 200 OK\"</span>                 <span style=\"color: #7f7f7f; text-decoration-color: #7f7f7f\">               </span>\n",
       "</pre>\n"
      ],
      "text/plain": [
       "\u001b[2;36m[07/12/24 18:47:25]\u001b[0m\u001b[2;36m \u001b[0m\u001b[34mINFO    \u001b[0m \u001b[1m[\u001b[0m_client.py:\u001b[1;36m1026\u001b[0m\u001b[1m]\u001b[0m >> HTTP Request: \u001b[1;33mPOST\u001b[0m                                \u001b]8;id=199679;file:///Users/anpigon/Library/Caches/pypoetry/virtualenvs/autorag-tutorial-ko-GYvpjDIx-py3.11/lib/python3.11/site-packages/httpx/_client.py\u001b\\\u001b[2m_client.py\u001b[0m\u001b]8;;\u001b\\\u001b[2m:\u001b[0m\u001b]8;id=770942;file:///Users/anpigon/Library/Caches/pypoetry/virtualenvs/autorag-tutorial-ko-GYvpjDIx-py3.11/lib/python3.11/site-packages/httpx/_client.py#1026\u001b\\\u001b[2m1026\u001b[0m\u001b]8;;\u001b\\\n",
       "\u001b[2;36m                    \u001b[0m         \u001b[4;94mhttps://api.openai.com/v1/embeddings\u001b[0m \u001b[32m\"HTTP/1.1 200 OK\"\u001b[0m                 \u001b[2m               \u001b[0m\n"
      ]
     },
     "metadata": {},
     "output_type": "display_data"
    },
    {
     "data": {
      "application/vnd.jupyter.widget-view+json": {
       "model_id": "5a4d73039cae46959ffe5e2f5d0caaf5",
       "version_major": 2,
       "version_minor": 0
      },
      "text/plain": [
       "Generating embeddings:   0%|          | 0/32 [00:00<?, ?it/s]"
      ]
     },
     "metadata": {},
     "output_type": "display_data"
    },
    {
     "data": {
      "text/html": [
       "<pre style=\"white-space:pre;overflow-x:auto;line-height:normal;font-family:Menlo,'DejaVu Sans Mono',consolas,'Courier New',monospace\"><span style=\"color: #7fbfbf; text-decoration-color: #7fbfbf\">[07/12/24 18:47:26] </span><span style=\"color: #000080; text-decoration-color: #000080\">INFO    </span> <span style=\"font-weight: bold\">[</span>_client.py:<span style=\"color: #008080; text-decoration-color: #008080; font-weight: bold\">1026</span><span style=\"font-weight: bold\">]</span> &gt;&gt; HTTP Request: <span style=\"color: #808000; text-decoration-color: #808000; font-weight: bold\">POST</span>                                <a href=\"file:///Users/anpigon/Library/Caches/pypoetry/virtualenvs/autorag-tutorial-ko-GYvpjDIx-py3.11/lib/python3.11/site-packages/httpx/_client.py\" target=\"_blank\"><span style=\"color: #7f7f7f; text-decoration-color: #7f7f7f\">_client.py</span></a><span style=\"color: #7f7f7f; text-decoration-color: #7f7f7f\">:</span><a href=\"file:///Users/anpigon/Library/Caches/pypoetry/virtualenvs/autorag-tutorial-ko-GYvpjDIx-py3.11/lib/python3.11/site-packages/httpx/_client.py#1026\" target=\"_blank\"><span style=\"color: #7f7f7f; text-decoration-color: #7f7f7f\">1026</span></a>\n",
       "<span style=\"color: #7fbfbf; text-decoration-color: #7fbfbf\">                    </span>         <span style=\"color: #0000ff; text-decoration-color: #0000ff; text-decoration: underline\">https://api.openai.com/v1/embeddings</span> <span style=\"color: #008000; text-decoration-color: #008000\">\"HTTP/1.1 200 OK\"</span>                 <span style=\"color: #7f7f7f; text-decoration-color: #7f7f7f\">               </span>\n",
       "</pre>\n"
      ],
      "text/plain": [
       "\u001b[2;36m[07/12/24 18:47:26]\u001b[0m\u001b[2;36m \u001b[0m\u001b[34mINFO    \u001b[0m \u001b[1m[\u001b[0m_client.py:\u001b[1;36m1026\u001b[0m\u001b[1m]\u001b[0m >> HTTP Request: \u001b[1;33mPOST\u001b[0m                                \u001b]8;id=272800;file:///Users/anpigon/Library/Caches/pypoetry/virtualenvs/autorag-tutorial-ko-GYvpjDIx-py3.11/lib/python3.11/site-packages/httpx/_client.py\u001b\\\u001b[2m_client.py\u001b[0m\u001b]8;;\u001b\\\u001b[2m:\u001b[0m\u001b]8;id=884487;file:///Users/anpigon/Library/Caches/pypoetry/virtualenvs/autorag-tutorial-ko-GYvpjDIx-py3.11/lib/python3.11/site-packages/httpx/_client.py#1026\u001b\\\u001b[2m1026\u001b[0m\u001b]8;;\u001b\\\n",
       "\u001b[2;36m                    \u001b[0m         \u001b[4;94mhttps://api.openai.com/v1/embeddings\u001b[0m \u001b[32m\"HTTP/1.1 200 OK\"\u001b[0m                 \u001b[2m               \u001b[0m\n"
      ]
     },
     "metadata": {},
     "output_type": "display_data"
    },
    {
     "data": {
      "application/vnd.jupyter.widget-view+json": {
       "model_id": "76141170f96a496784743b694f47380d",
       "version_major": 2,
       "version_minor": 0
      },
      "text/plain": [
       "Generating embeddings:   0%|          | 0/32 [00:00<?, ?it/s]"
      ]
     },
     "metadata": {},
     "output_type": "display_data"
    },
    {
     "data": {
      "text/html": [
       "<pre style=\"white-space:pre;overflow-x:auto;line-height:normal;font-family:Menlo,'DejaVu Sans Mono',consolas,'Courier New',monospace\"><span style=\"color: #7fbfbf; text-decoration-color: #7fbfbf\">[07/12/24 18:47:27] </span><span style=\"color: #000080; text-decoration-color: #000080\">INFO    </span> <span style=\"font-weight: bold\">[</span>_client.py:<span style=\"color: #008080; text-decoration-color: #008080; font-weight: bold\">1026</span><span style=\"font-weight: bold\">]</span> &gt;&gt; HTTP Request: <span style=\"color: #808000; text-decoration-color: #808000; font-weight: bold\">POST</span>                                <a href=\"file:///Users/anpigon/Library/Caches/pypoetry/virtualenvs/autorag-tutorial-ko-GYvpjDIx-py3.11/lib/python3.11/site-packages/httpx/_client.py\" target=\"_blank\"><span style=\"color: #7f7f7f; text-decoration-color: #7f7f7f\">_client.py</span></a><span style=\"color: #7f7f7f; text-decoration-color: #7f7f7f\">:</span><a href=\"file:///Users/anpigon/Library/Caches/pypoetry/virtualenvs/autorag-tutorial-ko-GYvpjDIx-py3.11/lib/python3.11/site-packages/httpx/_client.py#1026\" target=\"_blank\"><span style=\"color: #7f7f7f; text-decoration-color: #7f7f7f\">1026</span></a>\n",
       "<span style=\"color: #7fbfbf; text-decoration-color: #7fbfbf\">                    </span>         <span style=\"color: #0000ff; text-decoration-color: #0000ff; text-decoration: underline\">https://api.openai.com/v1/embeddings</span> <span style=\"color: #008000; text-decoration-color: #008000\">\"HTTP/1.1 200 OK\"</span>                 <span style=\"color: #7f7f7f; text-decoration-color: #7f7f7f\">               </span>\n",
       "</pre>\n"
      ],
      "text/plain": [
       "\u001b[2;36m[07/12/24 18:47:27]\u001b[0m\u001b[2;36m \u001b[0m\u001b[34mINFO    \u001b[0m \u001b[1m[\u001b[0m_client.py:\u001b[1;36m1026\u001b[0m\u001b[1m]\u001b[0m >> HTTP Request: \u001b[1;33mPOST\u001b[0m                                \u001b]8;id=648257;file:///Users/anpigon/Library/Caches/pypoetry/virtualenvs/autorag-tutorial-ko-GYvpjDIx-py3.11/lib/python3.11/site-packages/httpx/_client.py\u001b\\\u001b[2m_client.py\u001b[0m\u001b]8;;\u001b\\\u001b[2m:\u001b[0m\u001b]8;id=154928;file:///Users/anpigon/Library/Caches/pypoetry/virtualenvs/autorag-tutorial-ko-GYvpjDIx-py3.11/lib/python3.11/site-packages/httpx/_client.py#1026\u001b\\\u001b[2m1026\u001b[0m\u001b]8;;\u001b\\\n",
       "\u001b[2;36m                    \u001b[0m         \u001b[4;94mhttps://api.openai.com/v1/embeddings\u001b[0m \u001b[32m\"HTTP/1.1 200 OK\"\u001b[0m                 \u001b[2m               \u001b[0m\n"
      ]
     },
     "metadata": {},
     "output_type": "display_data"
    },
    {
     "data": {
      "application/vnd.jupyter.widget-view+json": {
       "model_id": "27186a82f06a4ee39fb7b9a2765adc60",
       "version_major": 2,
       "version_minor": 0
      },
      "text/plain": [
       "Generating embeddings:   0%|          | 0/32 [00:00<?, ?it/s]"
      ]
     },
     "metadata": {},
     "output_type": "display_data"
    },
    {
     "data": {
      "text/html": [
       "<pre style=\"white-space:pre;overflow-x:auto;line-height:normal;font-family:Menlo,'DejaVu Sans Mono',consolas,'Courier New',monospace\"><span style=\"color: #7fbfbf; text-decoration-color: #7fbfbf\">[07/12/24 18:47:28] </span><span style=\"color: #000080; text-decoration-color: #000080\">INFO    </span> <span style=\"font-weight: bold\">[</span>_client.py:<span style=\"color: #008080; text-decoration-color: #008080; font-weight: bold\">1026</span><span style=\"font-weight: bold\">]</span> &gt;&gt; HTTP Request: <span style=\"color: #808000; text-decoration-color: #808000; font-weight: bold\">POST</span>                                <a href=\"file:///Users/anpigon/Library/Caches/pypoetry/virtualenvs/autorag-tutorial-ko-GYvpjDIx-py3.11/lib/python3.11/site-packages/httpx/_client.py\" target=\"_blank\"><span style=\"color: #7f7f7f; text-decoration-color: #7f7f7f\">_client.py</span></a><span style=\"color: #7f7f7f; text-decoration-color: #7f7f7f\">:</span><a href=\"file:///Users/anpigon/Library/Caches/pypoetry/virtualenvs/autorag-tutorial-ko-GYvpjDIx-py3.11/lib/python3.11/site-packages/httpx/_client.py#1026\" target=\"_blank\"><span style=\"color: #7f7f7f; text-decoration-color: #7f7f7f\">1026</span></a>\n",
       "<span style=\"color: #7fbfbf; text-decoration-color: #7fbfbf\">                    </span>         <span style=\"color: #0000ff; text-decoration-color: #0000ff; text-decoration: underline\">https://api.openai.com/v1/embeddings</span> <span style=\"color: #008000; text-decoration-color: #008000\">\"HTTP/1.1 200 OK\"</span>                 <span style=\"color: #7f7f7f; text-decoration-color: #7f7f7f\">               </span>\n",
       "</pre>\n"
      ],
      "text/plain": [
       "\u001b[2;36m[07/12/24 18:47:28]\u001b[0m\u001b[2;36m \u001b[0m\u001b[34mINFO    \u001b[0m \u001b[1m[\u001b[0m_client.py:\u001b[1;36m1026\u001b[0m\u001b[1m]\u001b[0m >> HTTP Request: \u001b[1;33mPOST\u001b[0m                                \u001b]8;id=65790;file:///Users/anpigon/Library/Caches/pypoetry/virtualenvs/autorag-tutorial-ko-GYvpjDIx-py3.11/lib/python3.11/site-packages/httpx/_client.py\u001b\\\u001b[2m_client.py\u001b[0m\u001b]8;;\u001b\\\u001b[2m:\u001b[0m\u001b]8;id=571577;file:///Users/anpigon/Library/Caches/pypoetry/virtualenvs/autorag-tutorial-ko-GYvpjDIx-py3.11/lib/python3.11/site-packages/httpx/_client.py#1026\u001b\\\u001b[2m1026\u001b[0m\u001b]8;;\u001b\\\n",
       "\u001b[2;36m                    \u001b[0m         \u001b[4;94mhttps://api.openai.com/v1/embeddings\u001b[0m \u001b[32m\"HTTP/1.1 200 OK\"\u001b[0m                 \u001b[2m               \u001b[0m\n"
      ]
     },
     "metadata": {},
     "output_type": "display_data"
    },
    {
     "data": {
      "application/vnd.jupyter.widget-view+json": {
       "model_id": "09124d9ff4ff47f19719d8345fb93d16",
       "version_major": 2,
       "version_minor": 0
      },
      "text/plain": [
       "Generating embeddings:   0%|          | 0/32 [00:00<?, ?it/s]"
      ]
     },
     "metadata": {},
     "output_type": "display_data"
    },
    {
     "data": {
      "text/html": [
       "<pre style=\"white-space:pre;overflow-x:auto;line-height:normal;font-family:Menlo,'DejaVu Sans Mono',consolas,'Courier New',monospace\"><span style=\"color: #7fbfbf; text-decoration-color: #7fbfbf\">[07/12/24 18:47:29] </span><span style=\"color: #000080; text-decoration-color: #000080\">INFO    </span> <span style=\"font-weight: bold\">[</span>_client.py:<span style=\"color: #008080; text-decoration-color: #008080; font-weight: bold\">1026</span><span style=\"font-weight: bold\">]</span> &gt;&gt; HTTP Request: <span style=\"color: #808000; text-decoration-color: #808000; font-weight: bold\">POST</span>                                <a href=\"file:///Users/anpigon/Library/Caches/pypoetry/virtualenvs/autorag-tutorial-ko-GYvpjDIx-py3.11/lib/python3.11/site-packages/httpx/_client.py\" target=\"_blank\"><span style=\"color: #7f7f7f; text-decoration-color: #7f7f7f\">_client.py</span></a><span style=\"color: #7f7f7f; text-decoration-color: #7f7f7f\">:</span><a href=\"file:///Users/anpigon/Library/Caches/pypoetry/virtualenvs/autorag-tutorial-ko-GYvpjDIx-py3.11/lib/python3.11/site-packages/httpx/_client.py#1026\" target=\"_blank\"><span style=\"color: #7f7f7f; text-decoration-color: #7f7f7f\">1026</span></a>\n",
       "<span style=\"color: #7fbfbf; text-decoration-color: #7fbfbf\">                    </span>         <span style=\"color: #0000ff; text-decoration-color: #0000ff; text-decoration: underline\">https://api.openai.com/v1/embeddings</span> <span style=\"color: #008000; text-decoration-color: #008000\">\"HTTP/1.1 200 OK\"</span>                 <span style=\"color: #7f7f7f; text-decoration-color: #7f7f7f\">               </span>\n",
       "</pre>\n"
      ],
      "text/plain": [
       "\u001b[2;36m[07/12/24 18:47:29]\u001b[0m\u001b[2;36m \u001b[0m\u001b[34mINFO    \u001b[0m \u001b[1m[\u001b[0m_client.py:\u001b[1;36m1026\u001b[0m\u001b[1m]\u001b[0m >> HTTP Request: \u001b[1;33mPOST\u001b[0m                                \u001b]8;id=147649;file:///Users/anpigon/Library/Caches/pypoetry/virtualenvs/autorag-tutorial-ko-GYvpjDIx-py3.11/lib/python3.11/site-packages/httpx/_client.py\u001b\\\u001b[2m_client.py\u001b[0m\u001b]8;;\u001b\\\u001b[2m:\u001b[0m\u001b]8;id=675055;file:///Users/anpigon/Library/Caches/pypoetry/virtualenvs/autorag-tutorial-ko-GYvpjDIx-py3.11/lib/python3.11/site-packages/httpx/_client.py#1026\u001b\\\u001b[2m1026\u001b[0m\u001b]8;;\u001b\\\n",
       "\u001b[2;36m                    \u001b[0m         \u001b[4;94mhttps://api.openai.com/v1/embeddings\u001b[0m \u001b[32m\"HTTP/1.1 200 OK\"\u001b[0m                 \u001b[2m               \u001b[0m\n"
      ]
     },
     "metadata": {},
     "output_type": "display_data"
    },
    {
     "data": {
      "application/vnd.jupyter.widget-view+json": {
       "model_id": "acb43f797444469e89d258e2c58f87b5",
       "version_major": 2,
       "version_minor": 0
      },
      "text/plain": [
       "Generating embeddings:   0%|          | 0/32 [00:00<?, ?it/s]"
      ]
     },
     "metadata": {},
     "output_type": "display_data"
    },
    {
     "data": {
      "text/html": [
       "<pre style=\"white-space:pre;overflow-x:auto;line-height:normal;font-family:Menlo,'DejaVu Sans Mono',consolas,'Courier New',monospace\"><span style=\"color: #7fbfbf; text-decoration-color: #7fbfbf\">[07/12/24 18:47:30] </span><span style=\"color: #000080; text-decoration-color: #000080\">INFO    </span> <span style=\"font-weight: bold\">[</span>_client.py:<span style=\"color: #008080; text-decoration-color: #008080; font-weight: bold\">1026</span><span style=\"font-weight: bold\">]</span> &gt;&gt; HTTP Request: <span style=\"color: #808000; text-decoration-color: #808000; font-weight: bold\">POST</span>                                <a href=\"file:///Users/anpigon/Library/Caches/pypoetry/virtualenvs/autorag-tutorial-ko-GYvpjDIx-py3.11/lib/python3.11/site-packages/httpx/_client.py\" target=\"_blank\"><span style=\"color: #7f7f7f; text-decoration-color: #7f7f7f\">_client.py</span></a><span style=\"color: #7f7f7f; text-decoration-color: #7f7f7f\">:</span><a href=\"file:///Users/anpigon/Library/Caches/pypoetry/virtualenvs/autorag-tutorial-ko-GYvpjDIx-py3.11/lib/python3.11/site-packages/httpx/_client.py#1026\" target=\"_blank\"><span style=\"color: #7f7f7f; text-decoration-color: #7f7f7f\">1026</span></a>\n",
       "<span style=\"color: #7fbfbf; text-decoration-color: #7fbfbf\">                    </span>         <span style=\"color: #0000ff; text-decoration-color: #0000ff; text-decoration: underline\">https://api.openai.com/v1/embeddings</span> <span style=\"color: #008000; text-decoration-color: #008000\">\"HTTP/1.1 200 OK\"</span>                 <span style=\"color: #7f7f7f; text-decoration-color: #7f7f7f\">               </span>\n",
       "</pre>\n"
      ],
      "text/plain": [
       "\u001b[2;36m[07/12/24 18:47:30]\u001b[0m\u001b[2;36m \u001b[0m\u001b[34mINFO    \u001b[0m \u001b[1m[\u001b[0m_client.py:\u001b[1;36m1026\u001b[0m\u001b[1m]\u001b[0m >> HTTP Request: \u001b[1;33mPOST\u001b[0m                                \u001b]8;id=981966;file:///Users/anpigon/Library/Caches/pypoetry/virtualenvs/autorag-tutorial-ko-GYvpjDIx-py3.11/lib/python3.11/site-packages/httpx/_client.py\u001b\\\u001b[2m_client.py\u001b[0m\u001b]8;;\u001b\\\u001b[2m:\u001b[0m\u001b]8;id=334278;file:///Users/anpigon/Library/Caches/pypoetry/virtualenvs/autorag-tutorial-ko-GYvpjDIx-py3.11/lib/python3.11/site-packages/httpx/_client.py#1026\u001b\\\u001b[2m1026\u001b[0m\u001b]8;;\u001b\\\n",
       "\u001b[2;36m                    \u001b[0m         \u001b[4;94mhttps://api.openai.com/v1/embeddings\u001b[0m \u001b[32m\"HTTP/1.1 200 OK\"\u001b[0m                 \u001b[2m               \u001b[0m\n"
      ]
     },
     "metadata": {},
     "output_type": "display_data"
    },
    {
     "data": {
      "application/vnd.jupyter.widget-view+json": {
       "model_id": "317dec505bdc49f78ae8a0cbc28838b1",
       "version_major": 2,
       "version_minor": 0
      },
      "text/plain": [
       "Generating embeddings:   0%|          | 0/32 [00:00<?, ?it/s]"
      ]
     },
     "metadata": {},
     "output_type": "display_data"
    },
    {
     "data": {
      "text/html": [
       "<pre style=\"white-space:pre;overflow-x:auto;line-height:normal;font-family:Menlo,'DejaVu Sans Mono',consolas,'Courier New',monospace\"><span style=\"color: #7fbfbf; text-decoration-color: #7fbfbf\">[07/12/24 18:47:31] </span><span style=\"color: #000080; text-decoration-color: #000080\">INFO    </span> <span style=\"font-weight: bold\">[</span>_client.py:<span style=\"color: #008080; text-decoration-color: #008080; font-weight: bold\">1026</span><span style=\"font-weight: bold\">]</span> &gt;&gt; HTTP Request: <span style=\"color: #808000; text-decoration-color: #808000; font-weight: bold\">POST</span>                                <a href=\"file:///Users/anpigon/Library/Caches/pypoetry/virtualenvs/autorag-tutorial-ko-GYvpjDIx-py3.11/lib/python3.11/site-packages/httpx/_client.py\" target=\"_blank\"><span style=\"color: #7f7f7f; text-decoration-color: #7f7f7f\">_client.py</span></a><span style=\"color: #7f7f7f; text-decoration-color: #7f7f7f\">:</span><a href=\"file:///Users/anpigon/Library/Caches/pypoetry/virtualenvs/autorag-tutorial-ko-GYvpjDIx-py3.11/lib/python3.11/site-packages/httpx/_client.py#1026\" target=\"_blank\"><span style=\"color: #7f7f7f; text-decoration-color: #7f7f7f\">1026</span></a>\n",
       "<span style=\"color: #7fbfbf; text-decoration-color: #7fbfbf\">                    </span>         <span style=\"color: #0000ff; text-decoration-color: #0000ff; text-decoration: underline\">https://api.openai.com/v1/embeddings</span> <span style=\"color: #008000; text-decoration-color: #008000\">\"HTTP/1.1 200 OK\"</span>                 <span style=\"color: #7f7f7f; text-decoration-color: #7f7f7f\">               </span>\n",
       "</pre>\n"
      ],
      "text/plain": [
       "\u001b[2;36m[07/12/24 18:47:31]\u001b[0m\u001b[2;36m \u001b[0m\u001b[34mINFO    \u001b[0m \u001b[1m[\u001b[0m_client.py:\u001b[1;36m1026\u001b[0m\u001b[1m]\u001b[0m >> HTTP Request: \u001b[1;33mPOST\u001b[0m                                \u001b]8;id=857819;file:///Users/anpigon/Library/Caches/pypoetry/virtualenvs/autorag-tutorial-ko-GYvpjDIx-py3.11/lib/python3.11/site-packages/httpx/_client.py\u001b\\\u001b[2m_client.py\u001b[0m\u001b]8;;\u001b\\\u001b[2m:\u001b[0m\u001b]8;id=580612;file:///Users/anpigon/Library/Caches/pypoetry/virtualenvs/autorag-tutorial-ko-GYvpjDIx-py3.11/lib/python3.11/site-packages/httpx/_client.py#1026\u001b\\\u001b[2m1026\u001b[0m\u001b]8;;\u001b\\\n",
       "\u001b[2;36m                    \u001b[0m         \u001b[4;94mhttps://api.openai.com/v1/embeddings\u001b[0m \u001b[32m\"HTTP/1.1 200 OK\"\u001b[0m                 \u001b[2m               \u001b[0m\n"
      ]
     },
     "metadata": {},
     "output_type": "display_data"
    },
    {
     "data": {
      "application/vnd.jupyter.widget-view+json": {
       "model_id": "0e52f53039f6458cab5a4170b033c60d",
       "version_major": 2,
       "version_minor": 0
      },
      "text/plain": [
       "Generating embeddings:   0%|          | 0/32 [00:00<?, ?it/s]"
      ]
     },
     "metadata": {},
     "output_type": "display_data"
    },
    {
     "data": {
      "text/html": [
       "<pre style=\"white-space:pre;overflow-x:auto;line-height:normal;font-family:Menlo,'DejaVu Sans Mono',consolas,'Courier New',monospace\"><span style=\"color: #7fbfbf; text-decoration-color: #7fbfbf\">[07/12/24 18:47:32] </span><span style=\"color: #000080; text-decoration-color: #000080\">INFO    </span> <span style=\"font-weight: bold\">[</span>_client.py:<span style=\"color: #008080; text-decoration-color: #008080; font-weight: bold\">1026</span><span style=\"font-weight: bold\">]</span> &gt;&gt; HTTP Request: <span style=\"color: #808000; text-decoration-color: #808000; font-weight: bold\">POST</span>                                <a href=\"file:///Users/anpigon/Library/Caches/pypoetry/virtualenvs/autorag-tutorial-ko-GYvpjDIx-py3.11/lib/python3.11/site-packages/httpx/_client.py\" target=\"_blank\"><span style=\"color: #7f7f7f; text-decoration-color: #7f7f7f\">_client.py</span></a><span style=\"color: #7f7f7f; text-decoration-color: #7f7f7f\">:</span><a href=\"file:///Users/anpigon/Library/Caches/pypoetry/virtualenvs/autorag-tutorial-ko-GYvpjDIx-py3.11/lib/python3.11/site-packages/httpx/_client.py#1026\" target=\"_blank\"><span style=\"color: #7f7f7f; text-decoration-color: #7f7f7f\">1026</span></a>\n",
       "<span style=\"color: #7fbfbf; text-decoration-color: #7fbfbf\">                    </span>         <span style=\"color: #0000ff; text-decoration-color: #0000ff; text-decoration: underline\">https://api.openai.com/v1/embeddings</span> <span style=\"color: #008000; text-decoration-color: #008000\">\"HTTP/1.1 200 OK\"</span>                 <span style=\"color: #7f7f7f; text-decoration-color: #7f7f7f\">               </span>\n",
       "</pre>\n"
      ],
      "text/plain": [
       "\u001b[2;36m[07/12/24 18:47:32]\u001b[0m\u001b[2;36m \u001b[0m\u001b[34mINFO    \u001b[0m \u001b[1m[\u001b[0m_client.py:\u001b[1;36m1026\u001b[0m\u001b[1m]\u001b[0m >> HTTP Request: \u001b[1;33mPOST\u001b[0m                                \u001b]8;id=424362;file:///Users/anpigon/Library/Caches/pypoetry/virtualenvs/autorag-tutorial-ko-GYvpjDIx-py3.11/lib/python3.11/site-packages/httpx/_client.py\u001b\\\u001b[2m_client.py\u001b[0m\u001b]8;;\u001b\\\u001b[2m:\u001b[0m\u001b]8;id=698368;file:///Users/anpigon/Library/Caches/pypoetry/virtualenvs/autorag-tutorial-ko-GYvpjDIx-py3.11/lib/python3.11/site-packages/httpx/_client.py#1026\u001b\\\u001b[2m1026\u001b[0m\u001b]8;;\u001b\\\n",
       "\u001b[2;36m                    \u001b[0m         \u001b[4;94mhttps://api.openai.com/v1/embeddings\u001b[0m \u001b[32m\"HTTP/1.1 200 OK\"\u001b[0m                 \u001b[2m               \u001b[0m\n"
      ]
     },
     "metadata": {},
     "output_type": "display_data"
    }
   ],
   "source": [
    "evaluator.restart_trial(trial_path=\"benchmark_ollama/0\")"
   ]
  }
 ],
 "metadata": {
  "kernelspec": {
   "display_name": "autorag-tutorial-ko-sf4p_dcK-py3.11",
   "language": "python",
   "name": "python3"
  },
  "language_info": {
   "codemirror_mode": {
    "name": "ipython",
    "version": 3
   },
   "file_extension": ".py",
   "mimetype": "text/x-python",
   "name": "python",
   "nbconvert_exporter": "python",
   "pygments_lexer": "ipython3",
   "version": "3.11.9"
  }
 },
 "nbformat": 4,
 "nbformat_minor": 2
}
