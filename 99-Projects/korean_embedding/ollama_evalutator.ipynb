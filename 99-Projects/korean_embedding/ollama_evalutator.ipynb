{
 "cells": [
  {
   "cell_type": "code",
   "execution_count": 2,
   "metadata": {},
   "outputs": [
    {
     "data": {
      "text/plain": [
       "True"
      ]
     },
     "execution_count": 2,
     "metadata": {},
     "output_type": "execute_result"
    }
   ],
   "source": [
    "from dotenv import load_dotenv\n",
    "\n",
    "load_dotenv()"
   ]
  },
  {
   "cell_type": "code",
   "execution_count": 3,
   "metadata": {},
   "outputs": [
    {
     "name": "stderr",
     "output_type": "stream",
     "text": [
      "/Users/jeongseok/Library/Caches/pypoetry/virtualenvs/autorag-tutorial-ko-sf4p_dcK-py3.11/lib/python3.11/site-packages/pydantic/_internal/_fields.py:161: UserWarning: Field \"model_id\" has conflict with protected namespace \"model_\".\n",
      "\n",
      "You may be able to resolve this warning by setting `model_config['protected_namespaces'] = ()`.\n",
      "  warnings.warn(\n"
     ]
    },
    {
     "data": {
      "text/html": [
       "<pre style=\"white-space:pre;overflow-x:auto;line-height:normal;font-family:Menlo,'DejaVu Sans Mono',consolas,'Courier New',monospace\"><span style=\"color: #7fbfbf; text-decoration-color: #7fbfbf\">[07/12/24 15:10:27] </span><span style=\"color: #000080; text-decoration-color: #000080\">INFO    </span> <span style=\"font-weight: bold\">[</span>SentenceTransformer.py:<span style=\"color: #008080; text-decoration-color: #008080; font-weight: bold\">197</span><span style=\"font-weight: bold\">]</span> &gt;&gt; Load pretrained             <a href=\"file:///Users/jeongseok/Library/Caches/pypoetry/virtualenvs/autorag-tutorial-ko-sf4p_dcK-py3.11/lib/python3.11/site-packages/sentence_transformers/SentenceTransformer.py\" target=\"_blank\"><span style=\"color: #7f7f7f; text-decoration-color: #7f7f7f\">SentenceTransformer.py</span></a><span style=\"color: #7f7f7f; text-decoration-color: #7f7f7f\">:</span><a href=\"file:///Users/jeongseok/Library/Caches/pypoetry/virtualenvs/autorag-tutorial-ko-sf4p_dcK-py3.11/lib/python3.11/site-packages/sentence_transformers/SentenceTransformer.py#197\" target=\"_blank\"><span style=\"color: #7f7f7f; text-decoration-color: #7f7f7f\">197</span></a>\n",
       "<span style=\"color: #7fbfbf; text-decoration-color: #7fbfbf\">                    </span>         SentenceTransformer: BAAI/bge-m3                            <span style=\"color: #7f7f7f; text-decoration-color: #7f7f7f\">                          </span>\n",
       "</pre>\n"
      ],
      "text/plain": [
       "\u001b[2;36m[07/12/24 15:10:27]\u001b[0m\u001b[2;36m \u001b[0m\u001b[34mINFO    \u001b[0m \u001b[1m[\u001b[0mSentenceTransformer.py:\u001b[1;36m197\u001b[0m\u001b[1m]\u001b[0m >> Load pretrained             \u001b]8;id=911120;file:///Users/jeongseok/Library/Caches/pypoetry/virtualenvs/autorag-tutorial-ko-sf4p_dcK-py3.11/lib/python3.11/site-packages/sentence_transformers/SentenceTransformer.py\u001b\\\u001b[2mSentenceTransformer.py\u001b[0m\u001b]8;;\u001b\\\u001b[2m:\u001b[0m\u001b]8;id=976644;file:///Users/jeongseok/Library/Caches/pypoetry/virtualenvs/autorag-tutorial-ko-sf4p_dcK-py3.11/lib/python3.11/site-packages/sentence_transformers/SentenceTransformer.py#197\u001b\\\u001b[2m197\u001b[0m\u001b]8;;\u001b\\\n",
       "\u001b[2;36m                    \u001b[0m         SentenceTransformer: BAAI/bge-m3                            \u001b[2m                          \u001b[0m\n"
      ]
     },
     "metadata": {},
     "output_type": "display_data"
    },
    {
     "name": "stderr",
     "output_type": "stream",
     "text": [
      "0.01s - Debugger warning: It seems that frozen modules are being used, which may\n",
      "0.00s - make the debugger miss breakpoints. Please pass -Xfrozen_modules=off\n",
      "0.00s - to python to disable frozen modules.\n",
      "0.00s - Note: Debugging will proceed. Set PYDEVD_DISABLE_FILE_VALIDATION=1 to disable this validation.\n"
     ]
    },
    {
     "data": {
      "text/html": [
       "<pre style=\"white-space:pre;overflow-x:auto;line-height:normal;font-family:Menlo,'DejaVu Sans Mono',consolas,'Courier New',monospace\"><span style=\"color: #7fbfbf; text-decoration-color: #7fbfbf\">[07/12/24 15:10:31] </span><span style=\"color: #000080; text-decoration-color: #000080\">INFO    </span> <span style=\"font-weight: bold\">[</span>SentenceTransformer.py:<span style=\"color: #008080; text-decoration-color: #008080; font-weight: bold\">326</span><span style=\"font-weight: bold\">]</span> &gt;&gt; <span style=\"color: #008080; text-decoration-color: #008080; font-weight: bold\">2</span> prompts are loaded, with  <a href=\"file:///Users/jeongseok/Library/Caches/pypoetry/virtualenvs/autorag-tutorial-ko-sf4p_dcK-py3.11/lib/python3.11/site-packages/sentence_transformers/SentenceTransformer.py\" target=\"_blank\"><span style=\"color: #7f7f7f; text-decoration-color: #7f7f7f\">SentenceTransformer.py</span></a><span style=\"color: #7f7f7f; text-decoration-color: #7f7f7f\">:</span><a href=\"file:///Users/jeongseok/Library/Caches/pypoetry/virtualenvs/autorag-tutorial-ko-sf4p_dcK-py3.11/lib/python3.11/site-packages/sentence_transformers/SentenceTransformer.py#326\" target=\"_blank\"><span style=\"color: #7f7f7f; text-decoration-color: #7f7f7f\">326</span></a>\n",
       "<span style=\"color: #7fbfbf; text-decoration-color: #7fbfbf\">                    </span>         the keys: <span style=\"font-weight: bold\">[</span><span style=\"color: #008000; text-decoration-color: #008000\">'query'</span>, <span style=\"color: #008000; text-decoration-color: #008000\">'text'</span><span style=\"font-weight: bold\">]</span>                                 <span style=\"color: #7f7f7f; text-decoration-color: #7f7f7f\">                          </span>\n",
       "</pre>\n"
      ],
      "text/plain": [
       "\u001b[2;36m[07/12/24 15:10:31]\u001b[0m\u001b[2;36m \u001b[0m\u001b[34mINFO    \u001b[0m \u001b[1m[\u001b[0mSentenceTransformer.py:\u001b[1;36m326\u001b[0m\u001b[1m]\u001b[0m >> \u001b[1;36m2\u001b[0m prompts are loaded, with  \u001b]8;id=897686;file:///Users/jeongseok/Library/Caches/pypoetry/virtualenvs/autorag-tutorial-ko-sf4p_dcK-py3.11/lib/python3.11/site-packages/sentence_transformers/SentenceTransformer.py\u001b\\\u001b[2mSentenceTransformer.py\u001b[0m\u001b]8;;\u001b\\\u001b[2m:\u001b[0m\u001b]8;id=29626;file:///Users/jeongseok/Library/Caches/pypoetry/virtualenvs/autorag-tutorial-ko-sf4p_dcK-py3.11/lib/python3.11/site-packages/sentence_transformers/SentenceTransformer.py#326\u001b\\\u001b[2m326\u001b[0m\u001b]8;;\u001b\\\n",
       "\u001b[2;36m                    \u001b[0m         the keys: \u001b[1m[\u001b[0m\u001b[32m'query'\u001b[0m, \u001b[32m'text'\u001b[0m\u001b[1m]\u001b[0m                                 \u001b[2m                          \u001b[0m\n"
      ]
     },
     "metadata": {},
     "output_type": "display_data"
    }
   ],
   "source": [
    "import autorag\n",
    "from llama_index.embeddings.upstage import UpstageEmbedding\n",
    "from llama_index.embeddings.huggingface import HuggingFaceEmbedding\n",
    "\n",
    "# Configure the Embedding model\n",
    "upstage_embed_model = UpstageEmbedding()\n",
    "upstage_embed_model.model_name = \"ada\"\n",
    "autorag.embedding_models[\"solar-embedding-1-large\"] = upstage_embed_model\n",
    "autorag.embedding_models[\"bge-m3\"] = HuggingFaceEmbedding(\"BAAI/bge-m3\")"
   ]
  },
  {
   "cell_type": "code",
   "execution_count": 9,
   "metadata": {},
   "outputs": [],
   "source": [
    "from llama_index.llms.upstage import Upstage\n",
    "from llama_index.llms.ollama import Ollama\n",
    "\n",
    "# Add LLM models\n",
    "autorag.generator_models[\"upstage\"] = Upstage\n",
    "autorag.generator_models[\"ollama\"] = Ollama"
   ]
  },
  {
   "cell_type": "code",
   "execution_count": 12,
   "metadata": {},
   "outputs": [],
   "source": [
    "from autorag.evaluator import Evaluator\n",
    "\n",
    "evaluator = Evaluator(\n",
    "    qa_data_path=\"./data/qa.parquet\",\n",
    "    corpus_data_path=\"./data/corpus.parquet\",\n",
    "    project_dir=\"./benchmark_ollama\",\n",
    ")"
   ]
  },
  {
   "cell_type": "code",
   "execution_count": 25,
   "metadata": {},
   "outputs": [],
   "source": [
    "import nest_asyncio\n",
    "nest_asyncio.apply()"
   ]
  },
  {
   "cell_type": "code",
   "execution_count": 27,
   "metadata": {},
   "outputs": [
    {
     "data": {
      "text/html": [
       "<pre style=\"white-space:pre;overflow-x:auto;line-height:normal;font-family:Menlo,'DejaVu Sans Mono',consolas,'Courier New',monospace\"><span style=\"color: #7fbfbf; text-decoration-color: #7fbfbf\">[07/12/24 15:34:59] </span><span style=\"color: #000080; text-decoration-color: #000080\">INFO    </span> <span style=\"font-weight: bold\">[</span>evaluator.py:<span style=\"color: #008080; text-decoration-color: #008080; font-weight: bold\">80</span><span style=\"font-weight: bold\">]</span> &gt;&gt;                                                   <a href=\"file:///Users/jeongseok/Library/Caches/pypoetry/virtualenvs/autorag-tutorial-ko-sf4p_dcK-py3.11/lib/python3.11/site-packages/autorag/evaluator.py\" target=\"_blank\"><span style=\"color: #7f7f7f; text-decoration-color: #7f7f7f\">evaluator.py</span></a><span style=\"color: #7f7f7f; text-decoration-color: #7f7f7f\">:</span><a href=\"file:///Users/jeongseok/Library/Caches/pypoetry/virtualenvs/autorag-tutorial-ko-sf4p_dcK-py3.11/lib/python3.11/site-packages/autorag/evaluator.py#80\" target=\"_blank\"><span style=\"color: #7f7f7f; text-decoration-color: #7f7f7f\">80</span></a>\n",
       "<span style=\"color: #7fbfbf; text-decoration-color: #7fbfbf\">                    </span>                         _        _____            _____                        <span style=\"color: #7f7f7f; text-decoration-color: #7f7f7f\">               </span>\n",
       "<span style=\"color: #7fbfbf; text-decoration-color: #7fbfbf\">                    </span>              <span style=\"color: #800080; text-decoration-color: #800080\">/</span>\\        | |      |  __ \\     <span style=\"color: #800080; text-decoration-color: #800080\">/</span>\\   <span style=\"color: #800080; text-decoration-color: #800080\">/</span> ____|                       <span style=\"color: #7f7f7f; text-decoration-color: #7f7f7f\">               </span>\n",
       "<span style=\"color: #7fbfbf; text-decoration-color: #7fbfbf\">                    </span>             <span style=\"color: #800080; text-decoration-color: #800080\">/</span>  \\  _   _| |_ ___ | |__<span style=\"font-weight: bold\">)</span> |   <span style=\"color: #800080; text-decoration-color: #800080\">/</span>  \\ | |  __                        <span style=\"color: #7f7f7f; text-decoration-color: #7f7f7f\">               </span>\n",
       "<span style=\"color: #7fbfbf; text-decoration-color: #7fbfbf\">                    </span>            <span style=\"color: #800080; text-decoration-color: #800080\">/</span> <span style=\"color: #800080; text-decoration-color: #800080\">/</span>\\ \\| | | | __/ _ \\|  _  <span style=\"color: #800080; text-decoration-color: #800080\">/</span>   <span style=\"color: #800080; text-decoration-color: #800080\">/</span> <span style=\"color: #800080; text-decoration-color: #800080\">/</span>\\ \\| | |_ |                       <span style=\"color: #7f7f7f; text-decoration-color: #7f7f7f\">               </span>\n",
       "<span style=\"color: #7fbfbf; text-decoration-color: #7fbfbf\">                    </span>           <span style=\"color: #800080; text-decoration-color: #800080\">/</span> ____ \\ |_| | || <span style=\"font-weight: bold\">(</span>_<span style=\"font-weight: bold\">)</span> | | \\ \\  <span style=\"color: #800080; text-decoration-color: #800080\">/</span> ____ \\ |__| |                       <span style=\"color: #7f7f7f; text-decoration-color: #7f7f7f\">               </span>\n",
       "<span style=\"color: #7fbfbf; text-decoration-color: #7fbfbf\">                    </span>          <span style=\"color: #800080; text-decoration-color: #800080\">/_/</span>    \\_\\__,_|\\__\\___/|_|  \\_\\<span style=\"color: #800080; text-decoration-color: #800080\">/_/</span>    \\_\\_____|                       <span style=\"color: #7f7f7f; text-decoration-color: #7f7f7f\">               </span>\n",
       "<span style=\"color: #7fbfbf; text-decoration-color: #7fbfbf\">                    </span>                                                                                <span style=\"color: #7f7f7f; text-decoration-color: #7f7f7f\">               </span>\n",
       "<span style=\"color: #7fbfbf; text-decoration-color: #7fbfbf\">                    </span>                                                                                <span style=\"color: #7f7f7f; text-decoration-color: #7f7f7f\">               </span>\n",
       "</pre>\n"
      ],
      "text/plain": [
       "\u001b[2;36m[07/12/24 15:34:59]\u001b[0m\u001b[2;36m \u001b[0m\u001b[34mINFO    \u001b[0m \u001b[1m[\u001b[0mevaluator.py:\u001b[1;36m80\u001b[0m\u001b[1m]\u001b[0m >>                                                   \u001b]8;id=71858;file:///Users/jeongseok/Library/Caches/pypoetry/virtualenvs/autorag-tutorial-ko-sf4p_dcK-py3.11/lib/python3.11/site-packages/autorag/evaluator.py\u001b\\\u001b[2mevaluator.py\u001b[0m\u001b]8;;\u001b\\\u001b[2m:\u001b[0m\u001b]8;id=871786;file:///Users/jeongseok/Library/Caches/pypoetry/virtualenvs/autorag-tutorial-ko-sf4p_dcK-py3.11/lib/python3.11/site-packages/autorag/evaluator.py#80\u001b\\\u001b[2m80\u001b[0m\u001b]8;;\u001b\\\n",
       "\u001b[2;36m                    \u001b[0m                         _        _____            _____                        \u001b[2m               \u001b[0m\n",
       "\u001b[2;36m                    \u001b[0m              \u001b[35m/\u001b[0m\\        | |      |  __ \\     \u001b[35m/\u001b[0m\\   \u001b[35m/\u001b[0m ____|                       \u001b[2m               \u001b[0m\n",
       "\u001b[2;36m                    \u001b[0m             \u001b[35m/\u001b[0m  \\  _   _| |_ ___ | |__\u001b[1m)\u001b[0m |   \u001b[35m/\u001b[0m  \\ | |  __                        \u001b[2m               \u001b[0m\n",
       "\u001b[2;36m                    \u001b[0m            \u001b[35m/\u001b[0m \u001b[35m/\u001b[0m\\ \\| | | | __/ _ \\|  _  \u001b[35m/\u001b[0m   \u001b[35m/\u001b[0m \u001b[35m/\u001b[0m\\ \\| | |_ |                       \u001b[2m               \u001b[0m\n",
       "\u001b[2;36m                    \u001b[0m           \u001b[35m/\u001b[0m ____ \\ |_| | || \u001b[1m(\u001b[0m_\u001b[1m)\u001b[0m | | \\ \\  \u001b[35m/\u001b[0m ____ \\ |__| |                       \u001b[2m               \u001b[0m\n",
       "\u001b[2;36m                    \u001b[0m          \u001b[35m/_/\u001b[0m    \\_\\__,_|\\__\\___/|_|  \\_\\\u001b[35m/_/\u001b[0m    \\_\\_____|                       \u001b[2m               \u001b[0m\n",
       "\u001b[2;36m                    \u001b[0m                                                                                \u001b[2m               \u001b[0m\n",
       "\u001b[2;36m                    \u001b[0m                                                                                \u001b[2m               \u001b[0m\n"
      ]
     },
     "metadata": {},
     "output_type": "display_data"
    },
    {
     "data": {
      "text/html": [
       "<pre style=\"white-space:pre;overflow-x:auto;line-height:normal;font-family:Menlo,'DejaVu Sans Mono',consolas,'Courier New',monospace\"><span style=\"color: #7fbfbf; text-decoration-color: #7fbfbf\">                    </span><span style=\"color: #000080; text-decoration-color: #000080\">INFO    </span> <span style=\"font-weight: bold\">[</span>evaluator.py:<span style=\"color: #008080; text-decoration-color: #008080; font-weight: bold\">157</span><span style=\"font-weight: bold\">]</span> &gt;&gt; No ingestion needed.                            <a href=\"file:///Users/jeongseok/Library/Caches/pypoetry/virtualenvs/autorag-tutorial-ko-sf4p_dcK-py3.11/lib/python3.11/site-packages/autorag/evaluator.py\" target=\"_blank\"><span style=\"color: #7f7f7f; text-decoration-color: #7f7f7f\">evaluator.py</span></a><span style=\"color: #7f7f7f; text-decoration-color: #7f7f7f\">:</span><a href=\"file:///Users/jeongseok/Library/Caches/pypoetry/virtualenvs/autorag-tutorial-ko-sf4p_dcK-py3.11/lib/python3.11/site-packages/autorag/evaluator.py#157\" target=\"_blank\"><span style=\"color: #7f7f7f; text-decoration-color: #7f7f7f\">157</span></a>\n",
       "</pre>\n"
      ],
      "text/plain": [
       "\u001b[2;36m                   \u001b[0m\u001b[2;36m \u001b[0m\u001b[34mINFO    \u001b[0m \u001b[1m[\u001b[0mevaluator.py:\u001b[1;36m157\u001b[0m\u001b[1m]\u001b[0m >> No ingestion needed.                            \u001b]8;id=263259;file:///Users/jeongseok/Library/Caches/pypoetry/virtualenvs/autorag-tutorial-ko-sf4p_dcK-py3.11/lib/python3.11/site-packages/autorag/evaluator.py\u001b\\\u001b[2mevaluator.py\u001b[0m\u001b]8;;\u001b\\\u001b[2m:\u001b[0m\u001b]8;id=897310;file:///Users/jeongseok/Library/Caches/pypoetry/virtualenvs/autorag-tutorial-ko-sf4p_dcK-py3.11/lib/python3.11/site-packages/autorag/evaluator.py#157\u001b\\\u001b[2m157\u001b[0m\u001b]8;;\u001b\\\n"
      ]
     },
     "metadata": {},
     "output_type": "display_data"
    },
    {
     "data": {
      "text/html": [
       "<pre style=\"white-space:pre;overflow-x:auto;line-height:normal;font-family:Menlo,'DejaVu Sans Mono',consolas,'Courier New',monospace\"><span style=\"color: #7fbfbf; text-decoration-color: #7fbfbf\">                    </span><span style=\"color: #000080; text-decoration-color: #000080\">INFO    </span> <span style=\"font-weight: bold\">[</span>evaluator.py:<span style=\"color: #008080; text-decoration-color: #008080; font-weight: bold\">97</span><span style=\"font-weight: bold\">]</span> &gt;&gt; Running node line retrieve_node_line<span style=\"color: #808000; text-decoration-color: #808000\">...</span>           <a href=\"file:///Users/jeongseok/Library/Caches/pypoetry/virtualenvs/autorag-tutorial-ko-sf4p_dcK-py3.11/lib/python3.11/site-packages/autorag/evaluator.py\" target=\"_blank\"><span style=\"color: #7f7f7f; text-decoration-color: #7f7f7f\">evaluator.py</span></a><span style=\"color: #7f7f7f; text-decoration-color: #7f7f7f\">:</span><a href=\"file:///Users/jeongseok/Library/Caches/pypoetry/virtualenvs/autorag-tutorial-ko-sf4p_dcK-py3.11/lib/python3.11/site-packages/autorag/evaluator.py#97\" target=\"_blank\"><span style=\"color: #7f7f7f; text-decoration-color: #7f7f7f\">97</span></a>\n",
       "</pre>\n"
      ],
      "text/plain": [
       "\u001b[2;36m                   \u001b[0m\u001b[2;36m \u001b[0m\u001b[34mINFO    \u001b[0m \u001b[1m[\u001b[0mevaluator.py:\u001b[1;36m97\u001b[0m\u001b[1m]\u001b[0m >> Running node line retrieve_node_line\u001b[33m...\u001b[0m           \u001b]8;id=315398;file:///Users/jeongseok/Library/Caches/pypoetry/virtualenvs/autorag-tutorial-ko-sf4p_dcK-py3.11/lib/python3.11/site-packages/autorag/evaluator.py\u001b\\\u001b[2mevaluator.py\u001b[0m\u001b]8;;\u001b\\\u001b[2m:\u001b[0m\u001b]8;id=308905;file:///Users/jeongseok/Library/Caches/pypoetry/virtualenvs/autorag-tutorial-ko-sf4p_dcK-py3.11/lib/python3.11/site-packages/autorag/evaluator.py#97\u001b\\\u001b[2m97\u001b[0m\u001b]8;;\u001b\\\n"
      ]
     },
     "metadata": {},
     "output_type": "display_data"
    },
    {
     "data": {
      "text/html": [
       "<pre style=\"white-space:pre;overflow-x:auto;line-height:normal;font-family:Menlo,'DejaVu Sans Mono',consolas,'Courier New',monospace\"><span style=\"color: #7fbfbf; text-decoration-color: #7fbfbf\">                    </span><span style=\"color: #000080; text-decoration-color: #000080\">INFO    </span> <span style=\"font-weight: bold\">[</span>node.py:<span style=\"color: #008080; text-decoration-color: #008080; font-weight: bold\">55</span><span style=\"font-weight: bold\">]</span> &gt;&gt; Running node retrieval<span style=\"color: #808000; text-decoration-color: #808000\">...</span>                                   <a href=\"file:///Users/jeongseok/Library/Caches/pypoetry/virtualenvs/autorag-tutorial-ko-sf4p_dcK-py3.11/lib/python3.11/site-packages/autorag/schema/node.py\" target=\"_blank\"><span style=\"color: #7f7f7f; text-decoration-color: #7f7f7f\">node.py</span></a><span style=\"color: #7f7f7f; text-decoration-color: #7f7f7f\">:</span><a href=\"file:///Users/jeongseok/Library/Caches/pypoetry/virtualenvs/autorag-tutorial-ko-sf4p_dcK-py3.11/lib/python3.11/site-packages/autorag/schema/node.py#55\" target=\"_blank\"><span style=\"color: #7f7f7f; text-decoration-color: #7f7f7f\">55</span></a>\n",
       "</pre>\n"
      ],
      "text/plain": [
       "\u001b[2;36m                   \u001b[0m\u001b[2;36m \u001b[0m\u001b[34mINFO    \u001b[0m \u001b[1m[\u001b[0mnode.py:\u001b[1;36m55\u001b[0m\u001b[1m]\u001b[0m >> Running node retrieval\u001b[33m...\u001b[0m                                   \u001b]8;id=82239;file:///Users/jeongseok/Library/Caches/pypoetry/virtualenvs/autorag-tutorial-ko-sf4p_dcK-py3.11/lib/python3.11/site-packages/autorag/schema/node.py\u001b\\\u001b[2mnode.py\u001b[0m\u001b]8;;\u001b\\\u001b[2m:\u001b[0m\u001b]8;id=442710;file:///Users/jeongseok/Library/Caches/pypoetry/virtualenvs/autorag-tutorial-ko-sf4p_dcK-py3.11/lib/python3.11/site-packages/autorag/schema/node.py#55\u001b\\\u001b[2m55\u001b[0m\u001b]8;;\u001b\\\n"
      ]
     },
     "metadata": {},
     "output_type": "display_data"
    },
    {
     "ename": "ValueError",
     "evalue": "summary.csv does not exist in ./benchmark_ollama/0/retrieve_node_line/retrieval/summary.csv.",
     "output_type": "error",
     "traceback": [
      "\u001b[0;31m---------------------------------------------------------------------------\u001b[0m",
      "\u001b[0;31mValueError\u001b[0m                                Traceback (most recent call last)",
      "Cell \u001b[0;32mIn[27], line 1\u001b[0m\n\u001b[0;32m----> 1\u001b[0m \u001b[43mevaluator\u001b[49m\u001b[38;5;241;43m.\u001b[39;49m\u001b[43mstart_trial\u001b[49m\u001b[43m(\u001b[49m\u001b[38;5;124;43m\"\u001b[39;49m\u001b[38;5;124;43m./config/ollama_evaluator_config.yaml\u001b[39;49m\u001b[38;5;124;43m\"\u001b[39;49m\u001b[43m)\u001b[49m\n",
      "File \u001b[0;32m~/Library/Caches/pypoetry/virtualenvs/autorag-tutorial-ko-sf4p_dcK-py3.11/lib/python3.11/site-packages/autorag/evaluator.py:98\u001b[0m, in \u001b[0;36mEvaluator.start_trial\u001b[0;34m(self, yaml_path)\u001b[0m\n\u001b[1;32m     96\u001b[0m         previous_result \u001b[38;5;241m=\u001b[39m \u001b[38;5;28mself\u001b[39m\u001b[38;5;241m.\u001b[39mqa_data\n\u001b[1;32m     97\u001b[0m     logger\u001b[38;5;241m.\u001b[39minfo(\u001b[38;5;124mf\u001b[39m\u001b[38;5;124m'\u001b[39m\u001b[38;5;124mRunning node line \u001b[39m\u001b[38;5;132;01m{\u001b[39;00mnode_line_name\u001b[38;5;132;01m}\u001b[39;00m\u001b[38;5;124m...\u001b[39m\u001b[38;5;124m'\u001b[39m)\n\u001b[0;32m---> 98\u001b[0m     previous_result \u001b[38;5;241m=\u001b[39m \u001b[43mrun_node_line\u001b[49m\u001b[43m(\u001b[49m\u001b[43mnode_line\u001b[49m\u001b[43m,\u001b[49m\u001b[43m \u001b[49m\u001b[43mnode_line_dir\u001b[49m\u001b[43m,\u001b[49m\u001b[43m \u001b[49m\u001b[43mprevious_result\u001b[49m\u001b[43m)\u001b[49m\n\u001b[1;32m    100\u001b[0m     trial_summary_df \u001b[38;5;241m=\u001b[39m \u001b[38;5;28mself\u001b[39m\u001b[38;5;241m.\u001b[39m_append_node_line_summary(node_line_name, node_line_dir, trial_summary_df)\n\u001b[1;32m    102\u001b[0m trial_summary_df\u001b[38;5;241m.\u001b[39mto_csv(os\u001b[38;5;241m.\u001b[39mpath\u001b[38;5;241m.\u001b[39mjoin(\u001b[38;5;28mself\u001b[39m\u001b[38;5;241m.\u001b[39mproject_dir, trial_name, \u001b[38;5;124m'\u001b[39m\u001b[38;5;124msummary.csv\u001b[39m\u001b[38;5;124m'\u001b[39m), index\u001b[38;5;241m=\u001b[39m\u001b[38;5;28;01mFalse\u001b[39;00m)\n",
      "File \u001b[0;32m~/Library/Caches/pypoetry/virtualenvs/autorag-tutorial-ko-sf4p_dcK-py3.11/lib/python3.11/site-packages/autorag/node_line.py:45\u001b[0m, in \u001b[0;36mrun_node_line\u001b[0;34m(nodes, node_line_dir, previous_result)\u001b[0m\n\u001b[1;32m     43\u001b[0m summary_lst \u001b[38;5;241m=\u001b[39m []\n\u001b[1;32m     44\u001b[0m \u001b[38;5;28;01mfor\u001b[39;00m node \u001b[38;5;129;01min\u001b[39;00m nodes:\n\u001b[0;32m---> 45\u001b[0m     previous_result \u001b[38;5;241m=\u001b[39m \u001b[43mnode\u001b[49m\u001b[38;5;241;43m.\u001b[39;49m\u001b[43mrun\u001b[49m\u001b[43m(\u001b[49m\u001b[43mprevious_result\u001b[49m\u001b[43m,\u001b[49m\u001b[43m \u001b[49m\u001b[43mnode_line_dir\u001b[49m\u001b[43m)\u001b[49m\n\u001b[1;32m     46\u001b[0m     node_summary_df \u001b[38;5;241m=\u001b[39m load_summary_file(os\u001b[38;5;241m.\u001b[39mpath\u001b[38;5;241m.\u001b[39mjoin(node_line_dir, node\u001b[38;5;241m.\u001b[39mnode_type, \u001b[38;5;124m'\u001b[39m\u001b[38;5;124msummary.csv\u001b[39m\u001b[38;5;124m'\u001b[39m))\n\u001b[1;32m     47\u001b[0m     best_node_row \u001b[38;5;241m=\u001b[39m node_summary_df\u001b[38;5;241m.\u001b[39mloc[node_summary_df[\u001b[38;5;124m'\u001b[39m\u001b[38;5;124mis_best\u001b[39m\u001b[38;5;124m'\u001b[39m]]\n",
      "File \u001b[0;32m~/Library/Caches/pypoetry/virtualenvs/autorag-tutorial-ko-sf4p_dcK-py3.11/lib/python3.11/site-packages/autorag/schema/node.py:57\u001b[0m, in \u001b[0;36mNode.run\u001b[0;34m(self, previous_result, node_line_dir)\u001b[0m\n\u001b[1;32m     55\u001b[0m logger\u001b[38;5;241m.\u001b[39minfo(\u001b[38;5;124mf\u001b[39m\u001b[38;5;124m'\u001b[39m\u001b[38;5;124mRunning node \u001b[39m\u001b[38;5;132;01m{\u001b[39;00m\u001b[38;5;28mself\u001b[39m\u001b[38;5;241m.\u001b[39mnode_type\u001b[38;5;132;01m}\u001b[39;00m\u001b[38;5;124m...\u001b[39m\u001b[38;5;124m'\u001b[39m)\n\u001b[1;32m     56\u001b[0m input_modules, input_params \u001b[38;5;241m=\u001b[39m \u001b[38;5;28mself\u001b[39m\u001b[38;5;241m.\u001b[39mget_param_combinations()\n\u001b[0;32m---> 57\u001b[0m \u001b[38;5;28;01mreturn\u001b[39;00m \u001b[38;5;28;43mself\u001b[39;49m\u001b[38;5;241;43m.\u001b[39;49m\u001b[43mrun_node\u001b[49m\u001b[43m(\u001b[49m\u001b[43mmodules\u001b[49m\u001b[38;5;241;43m=\u001b[39;49m\u001b[43minput_modules\u001b[49m\u001b[43m,\u001b[49m\n\u001b[1;32m     58\u001b[0m \u001b[43m                     \u001b[49m\u001b[43mmodule_params\u001b[49m\u001b[38;5;241;43m=\u001b[39;49m\u001b[43minput_params\u001b[49m\u001b[43m,\u001b[49m\n\u001b[1;32m     59\u001b[0m \u001b[43m                     \u001b[49m\u001b[43mprevious_result\u001b[49m\u001b[38;5;241;43m=\u001b[39;49m\u001b[43mprevious_result\u001b[49m\u001b[43m,\u001b[49m\n\u001b[1;32m     60\u001b[0m \u001b[43m                     \u001b[49m\u001b[43mnode_line_dir\u001b[49m\u001b[38;5;241;43m=\u001b[39;49m\u001b[43mnode_line_dir\u001b[49m\u001b[43m,\u001b[49m\n\u001b[1;32m     61\u001b[0m \u001b[43m                     \u001b[49m\u001b[43mstrategies\u001b[49m\u001b[38;5;241;43m=\u001b[39;49m\u001b[38;5;28;43mself\u001b[39;49m\u001b[38;5;241;43m.\u001b[39;49m\u001b[43mstrategy\u001b[49m\u001b[43m)\u001b[49m\n",
      "File \u001b[0;32m~/Library/Caches/pypoetry/virtualenvs/autorag-tutorial-ko-sf4p_dcK-py3.11/lib/python3.11/site-packages/autorag/nodes/retrieval/run.py:97\u001b[0m, in \u001b[0;36mrun_retrieval_node\u001b[0;34m(modules, module_params, previous_result, node_line_dir, strategies)\u001b[0m\n\u001b[1;32m     95\u001b[0m \u001b[38;5;28;01melse\u001b[39;00m:\n\u001b[1;32m     96\u001b[0m     target_modules \u001b[38;5;241m=\u001b[39m \u001b[38;5;28mlist\u001b[39m(\u001b[38;5;28mmap\u001b[39m(\u001b[38;5;28;01mlambda\u001b[39;00m x: x\u001b[38;5;241m.\u001b[39mpop(\u001b[38;5;124m'\u001b[39m\u001b[38;5;124mtarget_modules\u001b[39m\u001b[38;5;124m'\u001b[39m), hybrid_module_params))\n\u001b[0;32m---> 97\u001b[0m     target_filenames \u001b[38;5;241m=\u001b[39m \u001b[38;5;28mlist\u001b[39m(\u001b[38;5;28mmap\u001b[39m(\u001b[38;5;28;01mlambda\u001b[39;00m x: select_result_for_hybrid(save_dir, x), target_modules))\n\u001b[1;32m     98\u001b[0m     ids_scores \u001b[38;5;241m=\u001b[39m \u001b[38;5;28mlist\u001b[39m(\u001b[38;5;28mmap\u001b[39m(\u001b[38;5;28;01mlambda\u001b[39;00m x: get_ids_and_scores(save_dir, x), target_filenames))\n\u001b[1;32m     99\u001b[0m     target_module_params \u001b[38;5;241m=\u001b[39m \u001b[38;5;28mlist\u001b[39m(\u001b[38;5;28mmap\u001b[39m(\u001b[38;5;28;01mlambda\u001b[39;00m x: get_module_params(save_dir, x), target_filenames))\n",
      "File \u001b[0;32m~/Library/Caches/pypoetry/virtualenvs/autorag-tutorial-ko-sf4p_dcK-py3.11/lib/python3.11/site-packages/autorag/nodes/retrieval/run.py:97\u001b[0m, in \u001b[0;36mrun_retrieval_node.<locals>.<lambda>\u001b[0;34m(x)\u001b[0m\n\u001b[1;32m     95\u001b[0m \u001b[38;5;28;01melse\u001b[39;00m:\n\u001b[1;32m     96\u001b[0m     target_modules \u001b[38;5;241m=\u001b[39m \u001b[38;5;28mlist\u001b[39m(\u001b[38;5;28mmap\u001b[39m(\u001b[38;5;28;01mlambda\u001b[39;00m x: x\u001b[38;5;241m.\u001b[39mpop(\u001b[38;5;124m'\u001b[39m\u001b[38;5;124mtarget_modules\u001b[39m\u001b[38;5;124m'\u001b[39m), hybrid_module_params))\n\u001b[0;32m---> 97\u001b[0m     target_filenames \u001b[38;5;241m=\u001b[39m \u001b[38;5;28mlist\u001b[39m(\u001b[38;5;28mmap\u001b[39m(\u001b[38;5;28;01mlambda\u001b[39;00m x: \u001b[43mselect_result_for_hybrid\u001b[49m\u001b[43m(\u001b[49m\u001b[43msave_dir\u001b[49m\u001b[43m,\u001b[49m\u001b[43m \u001b[49m\u001b[43mx\u001b[49m\u001b[43m)\u001b[49m, target_modules))\n\u001b[1;32m     98\u001b[0m     ids_scores \u001b[38;5;241m=\u001b[39m \u001b[38;5;28mlist\u001b[39m(\u001b[38;5;28mmap\u001b[39m(\u001b[38;5;28;01mlambda\u001b[39;00m x: get_ids_and_scores(save_dir, x), target_filenames))\n\u001b[1;32m     99\u001b[0m     target_module_params \u001b[38;5;241m=\u001b[39m \u001b[38;5;28mlist\u001b[39m(\u001b[38;5;28mmap\u001b[39m(\u001b[38;5;28;01mlambda\u001b[39;00m x: get_module_params(save_dir, x), target_filenames))\n",
      "File \u001b[0;32m~/Library/Caches/pypoetry/virtualenvs/autorag-tutorial-ko-sf4p_dcK-py3.11/lib/python3.11/site-packages/autorag/nodes/retrieval/run.py:177\u001b[0m, in \u001b[0;36mselect_result_for_hybrid\u001b[0;34m(node_dir, target_modules)\u001b[0m\n\u001b[1;32m    174\u001b[0m     best_module \u001b[38;5;241m=\u001b[39m modules_summary\u001b[38;5;241m.\u001b[39miloc[max_idx, :]\n\u001b[1;32m    175\u001b[0m     \u001b[38;5;28;01mreturn\u001b[39;00m best_module\n\u001b[0;32m--> 177\u001b[0m summary_df \u001b[38;5;241m=\u001b[39m \u001b[43mload_summary_file\u001b[49m\u001b[43m(\u001b[49m\u001b[43mos\u001b[49m\u001b[38;5;241;43m.\u001b[39;49m\u001b[43mpath\u001b[49m\u001b[38;5;241;43m.\u001b[39;49m\u001b[43mjoin\u001b[49m\u001b[43m(\u001b[49m\u001b[43mnode_dir\u001b[49m\u001b[43m,\u001b[49m\u001b[43m \u001b[49m\u001b[38;5;124;43m\"\u001b[39;49m\u001b[38;5;124;43msummary.csv\u001b[39;49m\u001b[38;5;124;43m\"\u001b[39;49m\u001b[43m)\u001b[49m\u001b[43m)\u001b[49m\n\u001b[1;32m    178\u001b[0m best_results \u001b[38;5;241m=\u001b[39m \u001b[38;5;28mlist\u001b[39m(\u001b[38;5;28mmap\u001b[39m(\u001b[38;5;28;01mlambda\u001b[39;00m module_name: select_best_among_module(summary_df, module_name), target_modules))\n\u001b[1;32m    179\u001b[0m best_filenames \u001b[38;5;241m=\u001b[39m \u001b[38;5;28mlist\u001b[39m(\u001b[38;5;28mmap\u001b[39m(\u001b[38;5;28;01mlambda\u001b[39;00m df: df[\u001b[38;5;124m'\u001b[39m\u001b[38;5;124mfilename\u001b[39m\u001b[38;5;124m'\u001b[39m], best_results))\n",
      "File \u001b[0;32m~/Library/Caches/pypoetry/virtualenvs/autorag-tutorial-ko-sf4p_dcK-py3.11/lib/python3.11/site-packages/autorag/utils/util.py:81\u001b[0m, in \u001b[0;36mload_summary_file\u001b[0;34m(summary_path, dict_columns)\u001b[0m\n\u001b[1;32m     71\u001b[0m \u001b[38;5;250m\u001b[39m\u001b[38;5;124;03m\"\"\"\u001b[39;00m\n\u001b[1;32m     72\u001b[0m \u001b[38;5;124;03mLoad summary file from summary_path.\u001b[39;00m\n\u001b[1;32m     73\u001b[0m \n\u001b[0;32m   (...)\u001b[0m\n\u001b[1;32m     78\u001b[0m \u001b[38;5;124;03m:return: The summary dataframe.\u001b[39;00m\n\u001b[1;32m     79\u001b[0m \u001b[38;5;124;03m\"\"\"\u001b[39;00m\n\u001b[1;32m     80\u001b[0m \u001b[38;5;28;01mif\u001b[39;00m \u001b[38;5;129;01mnot\u001b[39;00m os\u001b[38;5;241m.\u001b[39mpath\u001b[38;5;241m.\u001b[39mexists(summary_path):\n\u001b[0;32m---> 81\u001b[0m     \u001b[38;5;28;01mraise\u001b[39;00m \u001b[38;5;167;01mValueError\u001b[39;00m(\u001b[38;5;124mf\u001b[39m\u001b[38;5;124m\"\u001b[39m\u001b[38;5;124msummary.csv does not exist in \u001b[39m\u001b[38;5;132;01m{\u001b[39;00msummary_path\u001b[38;5;132;01m}\u001b[39;00m\u001b[38;5;124m.\u001b[39m\u001b[38;5;124m\"\u001b[39m)\n\u001b[1;32m     82\u001b[0m summary_df \u001b[38;5;241m=\u001b[39m pd\u001b[38;5;241m.\u001b[39mread_csv(summary_path)\n\u001b[1;32m     83\u001b[0m \u001b[38;5;28;01mif\u001b[39;00m dict_columns \u001b[38;5;129;01mis\u001b[39;00m \u001b[38;5;28;01mNone\u001b[39;00m:\n",
      "\u001b[0;31mValueError\u001b[0m: summary.csv does not exist in ./benchmark_ollama/0/retrieve_node_line/retrieval/summary.csv."
     ]
    }
   ],
   "source": [
    "evaluator.start_trial(\"./config/ollama_evaluator_config.yaml\")"
   ]
  },
  {
   "cell_type": "code",
   "execution_count": null,
   "metadata": {},
   "outputs": [],
   "source": []
  }
 ],
 "metadata": {
  "kernelspec": {
   "display_name": "autorag-tutorial-ko-sf4p_dcK-py3.11",
   "language": "python",
   "name": "python3"
  },
  "language_info": {
   "codemirror_mode": {
    "name": "ipython",
    "version": 3
   },
   "file_extension": ".py",
   "mimetype": "text/x-python",
   "name": "python",
   "nbconvert_exporter": "python",
   "pygments_lexer": "ipython3",
   "version": "3.11.9"
  }
 },
 "nbformat": 4,
 "nbformat_minor": 2
}
